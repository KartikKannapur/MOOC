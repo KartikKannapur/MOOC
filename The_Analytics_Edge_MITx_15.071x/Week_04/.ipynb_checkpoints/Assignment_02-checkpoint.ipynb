{
 "cells": [
  {
   "cell_type": "markdown",
   "metadata": {},
   "source": [
    "# LETTER RECOGNITION"
   ]
  },
  {
   "cell_type": "code",
   "execution_count": null,
   "metadata": {
    "collapsed": true
   },
   "outputs": [],
   "source": []
  },
  {
   "cell_type": "code",
   "execution_count": null,
   "metadata": {
    "collapsed": true
   },
   "outputs": [],
   "source": []
  },
  {
   "cell_type": "code",
   "execution_count": 1,
   "metadata": {
    "collapsed": true
   },
   "outputs": [],
   "source": [
    "ABPR = read.csv(\"letters_ABPR.csv\")"
   ]
  },
  {
   "cell_type": "code",
   "execution_count": 2,
   "metadata": {
    "collapsed": false
   },
   "outputs": [
    {
     "name": "stdout",
     "output_type": "stream",
     "text": [
      "'data.frame':\t3116 obs. of  17 variables:\n",
      " $ letter   : Factor w/ 4 levels \"A\",\"B\",\"P\",\"R\": 2 1 4 2 3 4 4 1 3 3 ...\n",
      " $ xbox     : int  4 1 5 5 3 8 2 3 8 6 ...\n",
      " $ ybox     : int  2 1 9 9 6 10 6 7 14 10 ...\n",
      " $ width    : int  5 3 5 7 4 8 4 5 7 8 ...\n",
      " $ height   : int  4 2 7 7 4 6 4 5 8 8 ...\n",
      " $ onpix    : int  4 1 6 10 2 6 3 3 4 7 ...\n",
      " $ xbar     : int  8 8 6 9 4 7 6 12 5 8 ...\n",
      " $ ybar     : int  7 2 11 8 14 7 7 2 10 5 ...\n",
      " $ x2bar    : int  6 2 7 4 8 3 5 3 6 7 ...\n",
      " $ y2bar    : int  6 2 3 4 1 5 5 2 3 5 ...\n",
      " $ xybar    : int  7 8 7 6 11 8 6 10 12 7 ...\n",
      " $ x2ybar   : int  6 2 3 8 6 4 5 2 5 6 ...\n",
      " $ xy2bar   : int  6 8 9 6 3 8 7 9 4 6 ...\n",
      " $ xedge    : int  2 1 2 6 0 6 3 2 4 3 ...\n",
      " $ xedgeycor: int  8 6 7 11 10 6 7 6 10 9 ...\n",
      " $ yedge    : int  7 2 5 8 4 7 5 3 4 8 ...\n",
      " $ yedgexcor: int  10 7 11 7 8 7 8 8 8 9 ...\n"
     ]
    }
   ],
   "source": [
    "str(ABPR)"
   ]
  },
  {
   "cell_type": "code",
   "execution_count": null,
   "metadata": {
    "collapsed": true
   },
   "outputs": [],
   "source": []
  },
  {
   "cell_type": "code",
   "execution_count": null,
   "metadata": {
    "collapsed": true
   },
   "outputs": [],
   "source": []
  },
  {
   "cell_type": "code",
   "execution_count": 3,
   "metadata": {
    "collapsed": true
   },
   "outputs": [],
   "source": [
    "ABPR$isB = as.factor(ABPR$letter == \"B\")"
   ]
  },
  {
   "cell_type": "code",
   "execution_count": 4,
   "metadata": {
    "collapsed": false
   },
   "outputs": [
    {
     "data": {
      "text/html": [
       "<table>\n",
       "<thead><tr><th></th><th scope=col>letter</th><th scope=col>xbox</th><th scope=col>ybox</th><th scope=col>width</th><th scope=col>height</th><th scope=col>onpix</th><th scope=col>xbar</th><th scope=col>ybar</th><th scope=col>x2bar</th><th scope=col>y2bar</th><th scope=col>xybar</th><th scope=col>x2ybar</th><th scope=col>xy2bar</th><th scope=col>xedge</th><th scope=col>xedgeycor</th><th scope=col>yedge</th><th scope=col>yedgexcor</th><th scope=col>isB</th></tr></thead>\n",
       "<tbody>\n",
       "\t<tr><th scope=row>1</th><td>B   </td><td>4   </td><td>2   </td><td>5   </td><td>4   </td><td>4   </td><td>8   </td><td>7   </td><td>6   </td><td>6   </td><td>7   </td><td>6   </td><td>6   </td><td>2   </td><td>8   </td><td>7   </td><td>10  </td><td>TRUE</td></tr>\n",
       "\t<tr><th scope=row>2</th><td>A    </td><td>1    </td><td>1    </td><td>3    </td><td>2    </td><td>1    </td><td>8    </td><td>2    </td><td>2    </td><td>2    </td><td>8    </td><td>2    </td><td>8    </td><td>1    </td><td>6    </td><td>2    </td><td>7    </td><td>FALSE</td></tr>\n",
       "\t<tr><th scope=row>3</th><td>R    </td><td>5    </td><td>9    </td><td>5    </td><td>7    </td><td>6    </td><td>6    </td><td>11   </td><td>7    </td><td>3    </td><td>7    </td><td>3    </td><td>9    </td><td>2    </td><td>7    </td><td>5    </td><td>11   </td><td>FALSE</td></tr>\n",
       "\t<tr><th scope=row>4</th><td>B   </td><td>5   </td><td>9   </td><td>7   </td><td>7   </td><td>10  </td><td>9   </td><td>8   </td><td>4   </td><td>4   </td><td>6   </td><td>8   </td><td>6   </td><td>6   </td><td>11  </td><td>8   </td><td>7   </td><td>TRUE</td></tr>\n",
       "\t<tr><th scope=row>5</th><td>P    </td><td>3    </td><td>6    </td><td>4    </td><td>4    </td><td>2    </td><td>4    </td><td>14   </td><td>8    </td><td>1    </td><td>11   </td><td>6    </td><td>3    </td><td>0    </td><td>10   </td><td>4    </td><td>8    </td><td>FALSE</td></tr>\n",
       "\t<tr><th scope=row>6</th><td>R    </td><td>8    </td><td>10   </td><td>8    </td><td>6    </td><td>6    </td><td>7    </td><td>7    </td><td>3    </td><td>5    </td><td>8    </td><td>4    </td><td>8    </td><td>6    </td><td>6    </td><td>7    </td><td>7    </td><td>FALSE</td></tr>\n",
       "</tbody>\n",
       "</table>\n"
      ],
      "text/latex": [
       "\\begin{tabular}{r|llllllllllllllllll}\n",
       "  & letter & xbox & ybox & width & height & onpix & xbar & ybar & x2bar & y2bar & xybar & x2ybar & xy2bar & xedge & xedgeycor & yedge & yedgexcor & isB\\\\\n",
       "\\hline\n",
       "\t1 & B    & 4    & 2    & 5    & 4    & 4    & 8    & 7    & 6    & 6    & 7    & 6    & 6    & 2    & 8    & 7    & 10   & TRUE\\\\\n",
       "\t2 & A     & 1     & 1     & 3     & 2     & 1     & 8     & 2     & 2     & 2     & 8     & 2     & 8     & 1     & 6     & 2     & 7     & FALSE\\\\\n",
       "\t3 & R     & 5     & 9     & 5     & 7     & 6     & 6     & 11    & 7     & 3     & 7     & 3     & 9     & 2     & 7     & 5     & 11    & FALSE\\\\\n",
       "\t4 & B    & 5    & 9    & 7    & 7    & 10   & 9    & 8    & 4    & 4    & 6    & 8    & 6    & 6    & 11   & 8    & 7    & TRUE\\\\\n",
       "\t5 & P     & 3     & 6     & 4     & 4     & 2     & 4     & 14    & 8     & 1     & 11    & 6     & 3     & 0     & 10    & 4     & 8     & FALSE\\\\\n",
       "\t6 & R     & 8     & 10    & 8     & 6     & 6     & 7     & 7     & 3     & 5     & 8     & 4     & 8     & 6     & 6     & 7     & 7     & FALSE\\\\\n",
       "\\end{tabular}\n"
      ],
      "text/plain": [
       "  letter xbox ybox width height onpix xbar ybar x2bar y2bar xybar x2ybar xy2bar\n",
       "1      B    4    2     5      4     4    8    7     6     6     7      6      6\n",
       "2      A    1    1     3      2     1    8    2     2     2     8      2      8\n",
       "3      R    5    9     5      7     6    6   11     7     3     7      3      9\n",
       "4      B    5    9     7      7    10    9    8     4     4     6      8      6\n",
       "5      P    3    6     4      4     2    4   14     8     1    11      6      3\n",
       "6      R    8   10     8      6     6    7    7     3     5     8      4      8\n",
       "  xedge xedgeycor yedge yedgexcor   isB\n",
       "1     2         8     7        10  TRUE\n",
       "2     1         6     2         7 FALSE\n",
       "3     2         7     5        11 FALSE\n",
       "4     6        11     8         7  TRUE\n",
       "5     0        10     4         8 FALSE\n",
       "6     6         6     7         7 FALSE"
      ]
     },
     "metadata": {},
     "output_type": "display_data"
    }
   ],
   "source": [
    "head(ABPR)"
   ]
  },
  {
   "cell_type": "code",
   "execution_count": 6,
   "metadata": {
    "collapsed": false
   },
   "outputs": [
    {
     "name": "stderr",
     "output_type": "stream",
     "text": [
      "Warning message:\n",
      ": package 'caTools' was built under R version 3.2.5"
     ]
    }
   ],
   "source": [
    "library(caTools)"
   ]
  },
  {
   "cell_type": "code",
   "execution_count": 7,
   "metadata": {
    "collapsed": true
   },
   "outputs": [],
   "source": [
    "set.seed(1000)"
   ]
  },
  {
   "cell_type": "code",
   "execution_count": 9,
   "metadata": {
    "collapsed": false
   },
   "outputs": [],
   "source": [
    "spl = sample.split(ABPR$isB, SplitRatio = 0.5)"
   ]
  },
  {
   "cell_type": "code",
   "execution_count": null,
   "metadata": {
    "collapsed": true
   },
   "outputs": [],
   "source": []
  },
  {
   "cell_type": "code",
   "execution_count": 10,
   "metadata": {
    "collapsed": true
   },
   "outputs": [],
   "source": [
    "# #Training and Testing datasets\n",
    "train = subset(ABPR, spl == TRUE)\n",
    "test = subset(ABPR, spl == FALSE)"
   ]
  },
  {
   "cell_type": "code",
   "execution_count": null,
   "metadata": {
    "collapsed": true
   },
   "outputs": [],
   "source": []
  },
  {
   "cell_type": "code",
   "execution_count": 11,
   "metadata": {
    "collapsed": false
   },
   "outputs": [
    {
     "data": {
      "text/plain": [
       "\n",
       "FALSE  TRUE \n",
       " 1175   383 "
      ]
     },
     "metadata": {},
     "output_type": "display_data"
    }
   ],
   "source": [
    "# #Baseline model\n",
    "table(test$isB)"
   ]
  },
  {
   "cell_type": "code",
   "execution_count": 12,
   "metadata": {
    "collapsed": false
   },
   "outputs": [
    {
     "data": {
      "text/html": [
       "0.754172015404365"
      ],
      "text/latex": [
       "0.754172015404365"
      ],
      "text/markdown": [
       "0.754172015404365"
      ],
      "text/plain": [
       "[1] 0.754172"
      ]
     },
     "metadata": {},
     "output_type": "display_data"
    }
   ],
   "source": [
    "1175/(1175+383)"
   ]
  },
  {
   "cell_type": "code",
   "execution_count": null,
   "metadata": {
    "collapsed": true
   },
   "outputs": [],
   "source": []
  },
  {
   "cell_type": "code",
   "execution_count": null,
   "metadata": {
    "collapsed": true
   },
   "outputs": [],
   "source": []
  },
  {
   "cell_type": "code",
   "execution_count": 15,
   "metadata": {
    "collapsed": false
   },
   "outputs": [],
   "source": [
    "library(rpart)"
   ]
  },
  {
   "cell_type": "code",
   "execution_count": 18,
   "metadata": {
    "collapsed": false
   },
   "outputs": [],
   "source": [
    "CARTb = rpart(isB ~ ., data = train, method = \"class\")"
   ]
  },
  {
   "cell_type": "code",
   "execution_count": 19,
   "metadata": {
    "collapsed": false
   },
   "outputs": [
    {
     "name": "stdout",
     "output_type": "stream",
     "text": [
      "Call:\n",
      "rpart(formula = isB ~ ., data = train, method = \"class\")\n",
      "  n= 1558 \n",
      "\n",
      "    CP nsplit rel error xerror       xstd\n",
      "1 1.00      0         1      1 0.04437474\n",
      "2 0.01      1         0      0 0.00000000\n",
      "\n",
      "Variable importance\n",
      "letter  yedge  y2bar  width \n",
      "    70     17     13      1 \n",
      "\n",
      "Node number 1: 1558 observations,    complexity param=1\n",
      "  predicted class=FALSE  expected loss=0.245828  P(node) =1\n",
      "    class counts:  1175   383\n",
      "   probabilities: 0.754 0.246 \n",
      "  left son=2 (1175 obs) right son=3 (383 obs)\n",
      "  Primary splits:\n",
      "      letter    splits as  LRLL,     improve=577.69580, (0 missing)\n",
      "      yedge     < 4.5  to the left,  improve=161.52710, (0 missing)\n",
      "      y2bar     < 4.5  to the left,  improve=143.08260, (0 missing)\n",
      "      yedgexcor < 8.5  to the left,  improve= 81.51724, (0 missing)\n",
      "      xedgeycor < 7.5  to the left,  improve= 70.19694, (0 missing)\n",
      "  Surrogate splits:\n",
      "      yedge < 6.5  to the left,  agree=0.813, adj=0.240, (0 split)\n",
      "      y2bar < 5.5  to the left,  agree=0.798, adj=0.180, (0 split)\n",
      "      width < 1.5  to the right, agree=0.756, adj=0.008, (0 split)\n",
      "      onpix < 11.5 to the left,  agree=0.755, adj=0.003, (0 split)\n",
      "\n",
      "Node number 2: 1175 observations\n",
      "  predicted class=FALSE  expected loss=0  P(node) =0.754172\n",
      "    class counts:  1175     0\n",
      "   probabilities: 1.000 0.000 \n",
      "\n",
      "Node number 3: 383 observations\n",
      "  predicted class=TRUE   expected loss=0  P(node) =0.245828\n",
      "    class counts:     0   383\n",
      "   probabilities: 0.000 1.000 \n",
      "\n"
     ]
    }
   ],
   "source": [
    "summary(CARTb)"
   ]
  },
  {
   "cell_type": "code",
   "execution_count": null,
   "metadata": {
    "collapsed": true
   },
   "outputs": [],
   "source": []
  }
 ],
 "metadata": {
  "kernelspec": {
   "display_name": "R",
   "language": "R",
   "name": "ir"
  },
  "language_info": {
   "codemirror_mode": "r",
   "file_extension": ".r",
   "mimetype": "text/x-r-source",
   "name": "R",
   "pygments_lexer": "r",
   "version": "3.2.1"
  }
 },
 "nbformat": 4,
 "nbformat_minor": 0
}
