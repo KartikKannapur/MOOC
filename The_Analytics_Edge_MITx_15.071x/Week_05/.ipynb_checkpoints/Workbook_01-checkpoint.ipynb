{
 "cells": [
  {
   "cell_type": "markdown",
   "metadata": {},
   "source": [
    "# Text Analytics"
   ]
  },
  {
   "cell_type": "code",
   "execution_count": null,
   "metadata": {
    "collapsed": true
   },
   "outputs": [],
   "source": []
  },
  {
   "cell_type": "code",
   "execution_count": null,
   "metadata": {
    "collapsed": true
   },
   "outputs": [],
   "source": []
  },
  {
   "cell_type": "code",
   "execution_count": null,
   "metadata": {
    "collapsed": true
   },
   "outputs": [],
   "source": []
  },
  {
   "cell_type": "code",
   "execution_count": 48,
   "metadata": {
    "collapsed": true
   },
   "outputs": [],
   "source": [
    "tweets = read.csv(\"tweets.csv\", stringsAsFactors = FALSE)"
   ]
  },
  {
   "cell_type": "code",
   "execution_count": 49,
   "metadata": {
    "collapsed": false
   },
   "outputs": [
    {
     "data": {
      "text/html": [
       "<table>\n",
       "<thead><tr><th></th><th scope=col>Tweet</th><th scope=col>Avg</th></tr></thead>\n",
       "<tbody>\n",
       "\t<tr><th scope=row>1</th><td>I have to say, Apple has by far the best customer care service I have ever received! @Apple @AppStore</td><td>2                                                                                                    </td></tr>\n",
       "\t<tr><th scope=row>2</th><td>iOS 7 is so fricking smooth &amp; beautiful!! #ThanxApple @Apple</td><td>2                                                               </td></tr>\n",
       "\t<tr><th scope=row>3</th><td>LOVE U @APPLE</td><td>1.8          </td></tr>\n",
       "\t<tr><th scope=row>4</th><td>Thank you @apple, loving my new iPhone 5S!!!!!  #apple #iphone5S pic.twitter.com/XmHJCU4pcb</td><td>1.8                                                                                        </td></tr>\n",
       "\t<tr><th scope=row>5</th><td>.@apple has the best customer service. In and out with a new phone in under 10min!</td><td>1.8                                                                               </td></tr>\n",
       "\t<tr><th scope=row>6</th><td>@apple ear pods are AMAZING! Best sound from in-ear headphones I've ever had!</td><td>1.8                                                                          </td></tr>\n",
       "</tbody>\n",
       "</table>\n"
      ],
      "text/latex": [
       "\\begin{tabular}{r|ll}\n",
       "  & Tweet & Avg\\\\\n",
       "\\hline\n",
       "\t1 & I have to say, Apple has by far the best customer care service I have ever received! @Apple @AppStore & 2                                                                                                    \\\\\n",
       "\t2 & iOS 7 is so fricking smooth \\& beautiful!! \\#ThanxApple @Apple & 2                                                               \\\\\n",
       "\t3 & LOVE U @APPLE & 1.8          \\\\\n",
       "\t4 & Thank you @apple, loving my new iPhone 5S!!!!!  \\#apple \\#iphone5S pic.twitter.com/XmHJCU4pcb & 1.8                                                                                            \\\\\n",
       "\t5 & .@apple has the best customer service. In and out with a new phone in under 10min! & 1.8                                                                               \\\\\n",
       "\t6 & @apple ear pods are AMAZING! Best sound from in-ear headphones I've ever had! & 1.8                                                                          \\\\\n",
       "\\end{tabular}\n"
      ],
      "text/plain": [
       "                                                                                                  Tweet\n",
       "1 I have to say, Apple has by far the best customer care service I have ever received! @Apple @AppStore\n",
       "2                                          iOS 7 is so fricking smooth & beautiful!! #ThanxApple @Apple\n",
       "3                                                                                         LOVE U @APPLE\n",
       "4           Thank you @apple, loving my new iPhone 5S!!!!!  #apple #iphone5S pic.twitter.com/XmHJCU4pcb\n",
       "5                    .@apple has the best customer service. In and out with a new phone in under 10min!\n",
       "6                         @apple ear pods are AMAZING! Best sound from in-ear headphones I've ever had!\n",
       "  Avg\n",
       "1 2.0\n",
       "2 2.0\n",
       "3 1.8\n",
       "4 1.8\n",
       "5 1.8\n",
       "6 1.8"
      ]
     },
     "metadata": {},
     "output_type": "display_data"
    }
   ],
   "source": [
    "head(tweets)"
   ]
  },
  {
   "cell_type": "code",
   "execution_count": null,
   "metadata": {
    "collapsed": true
   },
   "outputs": [],
   "source": []
  },
  {
   "cell_type": "code",
   "execution_count": 50,
   "metadata": {
    "collapsed": false
   },
   "outputs": [
    {
     "name": "stdout",
     "output_type": "stream",
     "text": [
      "'data.frame':\t1181 obs. of  2 variables:\n",
      " $ Tweet: chr  \"I have to say, Apple has by far the best customer care service I have ever received! @Apple @AppStore\" \"iOS 7 is so fricking smooth & beautiful!! #ThanxApple @Apple\" \"LOVE U @APPLE\" \"Thank you @apple, loving my new iPhone 5S!!!!!  #apple #iphone5S pic.twitter.com/XmHJCU4pcb\" ...\n",
      " $ Avg  : num  2 2 1.8 1.8 1.8 1.8 1.8 1.6 1.6 1.6 ...\n"
     ]
    }
   ],
   "source": [
    "str(tweets)"
   ]
  },
  {
   "cell_type": "code",
   "execution_count": null,
   "metadata": {
    "collapsed": true
   },
   "outputs": [],
   "source": []
  },
  {
   "cell_type": "code",
   "execution_count": null,
   "metadata": {
    "collapsed": true
   },
   "outputs": [],
   "source": []
  },
  {
   "cell_type": "code",
   "execution_count": 51,
   "metadata": {
    "collapsed": true
   },
   "outputs": [],
   "source": [
    "tweets$Negative = as.factor(tweets$Avg <= -1)"
   ]
  },
  {
   "cell_type": "code",
   "execution_count": 52,
   "metadata": {
    "collapsed": false
   },
   "outputs": [
    {
     "data": {
      "text/plain": [
       "\n",
       "FALSE  TRUE \n",
       "  999   182 "
      ]
     },
     "metadata": {},
     "output_type": "display_data"
    }
   ],
   "source": [
    "table(tweets$Negative)"
   ]
  },
  {
   "cell_type": "code",
   "execution_count": null,
   "metadata": {
    "collapsed": true
   },
   "outputs": [],
   "source": []
  },
  {
   "cell_type": "code",
   "execution_count": 53,
   "metadata": {
    "collapsed": false
   },
   "outputs": [],
   "source": [
    "# #Install Packages\n",
    "# #install.packages(\"tm\")\n",
    "library(tm)\n",
    "# #install.packages(\"SnowballC\")\n",
    "library(SnowballC)"
   ]
  },
  {
   "cell_type": "code",
   "execution_count": null,
   "metadata": {
    "collapsed": true
   },
   "outputs": [],
   "source": []
  },
  {
   "cell_type": "code",
   "execution_count": 54,
   "metadata": {
    "collapsed": true
   },
   "outputs": [],
   "source": [
    "# #Create a CORPUS\n",
    "corpus = Corpus(VectorSource(tweets$Tweet))"
   ]
  },
  {
   "cell_type": "code",
   "execution_count": 55,
   "metadata": {
    "collapsed": false
   },
   "outputs": [
    {
     "data": {
      "text/plain": [
       "<<VCorpus>>\n",
       "Metadata:  corpus specific: 0, document level (indexed): 0\n",
       "Content:  documents: 1181"
      ]
     },
     "metadata": {},
     "output_type": "display_data"
    }
   ],
   "source": [
    "corpus"
   ]
  },
  {
   "cell_type": "code",
   "execution_count": 56,
   "metadata": {
    "collapsed": false
   },
   "outputs": [
    {
     "data": {
      "text/html": [
       "<ol class=list-inline>\n",
       "\t<li>\"I have to say, Apple has by far the best customer care service I have\"</li>\n",
       "\t<li>\"ever received! @Apple @AppStore\"</li>\n",
       "</ol>\n"
      ],
      "text/latex": [
       "\\begin{enumerate*}\n",
       "\\item \"I have to say, Apple has by far the best customer care service I have\"\n",
       "\\item \"ever received! @Apple @AppStore\"\n",
       "\\end{enumerate*}\n"
      ],
      "text/markdown": [
       "1. \"I have to say, Apple has by far the best customer care service I have\"\n",
       "2. \"ever received! @Apple @AppStore\"\n",
       "\n",
       "\n"
      ],
      "text/plain": [
       "[1] \"I have to say, Apple has by far the best customer care service I have\"\n",
       "[2] \"ever received! @Apple @AppStore\"                                      "
      ]
     },
     "metadata": {},
     "output_type": "display_data"
    }
   ],
   "source": [
    "strwrap(corpus[[1]])"
   ]
  },
  {
   "cell_type": "code",
   "execution_count": null,
   "metadata": {
    "collapsed": true
   },
   "outputs": [],
   "source": []
  },
  {
   "cell_type": "code",
   "execution_count": null,
   "metadata": {
    "collapsed": true
   },
   "outputs": [],
   "source": []
  },
  {
   "cell_type": "code",
   "execution_count": 57,
   "metadata": {
    "collapsed": true
   },
   "outputs": [],
   "source": [
    "# #Lowercase\n",
    "corpus = tm_map(corpus, tolower)"
   ]
  },
  {
   "cell_type": "code",
   "execution_count": 58,
   "metadata": {
    "collapsed": false
   },
   "outputs": [
    {
     "data": {
      "text/html": [
       "<ol class=list-inline>\n",
       "\t<li>\"i have to say, apple has by far the best customer care service i have\"</li>\n",
       "\t<li>\"ever received! @apple @appstore\"</li>\n",
       "</ol>\n"
      ],
      "text/latex": [
       "\\begin{enumerate*}\n",
       "\\item \"i have to say, apple has by far the best customer care service i have\"\n",
       "\\item \"ever received! @apple @appstore\"\n",
       "\\end{enumerate*}\n"
      ],
      "text/markdown": [
       "1. \"i have to say, apple has by far the best customer care service i have\"\n",
       "2. \"ever received! @apple @appstore\"\n",
       "\n",
       "\n"
      ],
      "text/plain": [
       "[1] \"i have to say, apple has by far the best customer care service i have\"\n",
       "[2] \"ever received! @apple @appstore\"                                      "
      ]
     },
     "metadata": {},
     "output_type": "display_data"
    }
   ],
   "source": [
    "strwrap(corpus[[1]])"
   ]
  },
  {
   "cell_type": "code",
   "execution_count": 59,
   "metadata": {
    "collapsed": true
   },
   "outputs": [],
   "source": [
    "corpus = tm_map(corpus, PlainTextDocument)"
   ]
  },
  {
   "cell_type": "code",
   "execution_count": null,
   "metadata": {
    "collapsed": true
   },
   "outputs": [],
   "source": []
  },
  {
   "cell_type": "code",
   "execution_count": null,
   "metadata": {
    "collapsed": true
   },
   "outputs": [],
   "source": []
  },
  {
   "cell_type": "code",
   "execution_count": 60,
   "metadata": {
    "collapsed": false
   },
   "outputs": [
    {
     "data": {
      "text/html": [
       "<ol class=list-inline>\n",
       "\t<li>\"i have to say, apple has by far the best customer care service i have\"</li>\n",
       "\t<li>\"ever received! @apple @appstore\"</li>\n",
       "</ol>\n"
      ],
      "text/latex": [
       "\\begin{enumerate*}\n",
       "\\item \"i have to say, apple has by far the best customer care service i have\"\n",
       "\\item \"ever received! @apple @appstore\"\n",
       "\\end{enumerate*}\n"
      ],
      "text/markdown": [
       "1. \"i have to say, apple has by far the best customer care service i have\"\n",
       "2. \"ever received! @apple @appstore\"\n",
       "\n",
       "\n"
      ],
      "text/plain": [
       "[1] \"i have to say, apple has by far the best customer care service i have\"\n",
       "[2] \"ever received! @apple @appstore\"                                      "
      ]
     },
     "metadata": {},
     "output_type": "display_data"
    }
   ],
   "source": [
    "strwrap(corpus[[1]])"
   ]
  },
  {
   "cell_type": "code",
   "execution_count": null,
   "metadata": {
    "collapsed": true
   },
   "outputs": [],
   "source": []
  },
  {
   "cell_type": "code",
   "execution_count": null,
   "metadata": {
    "collapsed": true
   },
   "outputs": [],
   "source": []
  },
  {
   "cell_type": "code",
   "execution_count": 61,
   "metadata": {
    "collapsed": true
   },
   "outputs": [],
   "source": [
    "# #Remove Punctuation\n",
    "corpus = tm_map(corpus, removePunctuation)"
   ]
  },
  {
   "cell_type": "code",
   "execution_count": 62,
   "metadata": {
    "collapsed": false
   },
   "outputs": [
    {
     "data": {
      "text/html": [
       "<ol class=list-inline>\n",
       "\t<li>\"i have to say apple has by far the best customer care service i have\"</li>\n",
       "\t<li>\"ever received apple appstore\"</li>\n",
       "</ol>\n"
      ],
      "text/latex": [
       "\\begin{enumerate*}\n",
       "\\item \"i have to say apple has by far the best customer care service i have\"\n",
       "\\item \"ever received apple appstore\"\n",
       "\\end{enumerate*}\n"
      ],
      "text/markdown": [
       "1. \"i have to say apple has by far the best customer care service i have\"\n",
       "2. \"ever received apple appstore\"\n",
       "\n",
       "\n"
      ],
      "text/plain": [
       "[1] \"i have to say apple has by far the best customer care service i have\"\n",
       "[2] \"ever received apple appstore\"                                        "
      ]
     },
     "metadata": {},
     "output_type": "display_data"
    }
   ],
   "source": [
    "strwrap(corpus[[1]])"
   ]
  },
  {
   "cell_type": "code",
   "execution_count": null,
   "metadata": {
    "collapsed": true
   },
   "outputs": [],
   "source": []
  },
  {
   "cell_type": "code",
   "execution_count": null,
   "metadata": {
    "collapsed": true
   },
   "outputs": [],
   "source": []
  },
  {
   "cell_type": "code",
   "execution_count": 63,
   "metadata": {
    "collapsed": true
   },
   "outputs": [],
   "source": [
    "# #Remove Stopwords as well as \"apple\"\n",
    "corpus = tm_map(corpus, removeWords, c(\"apple\", stopwords(\"english\")))"
   ]
  },
  {
   "cell_type": "code",
   "execution_count": 64,
   "metadata": {
    "collapsed": false
   },
   "outputs": [
    {
     "data": {
      "text/plain": [
       "<<PlainTextDocument>>\n",
       "Metadata:  7\n",
       "Content:  chars: 67"
      ]
     },
     "metadata": {},
     "output_type": "display_data"
    }
   ],
   "source": [
    "corpus[[1]]"
   ]
  },
  {
   "cell_type": "code",
   "execution_count": null,
   "metadata": {
    "collapsed": true
   },
   "outputs": [],
   "source": []
  },
  {
   "cell_type": "code",
   "execution_count": null,
   "metadata": {
    "collapsed": true
   },
   "outputs": [],
   "source": []
  },
  {
   "cell_type": "code",
   "execution_count": 65,
   "metadata": {
    "collapsed": true
   },
   "outputs": [],
   "source": [
    "# #Stemming\n",
    "corpus = tm_map(corpus, stemDocument)"
   ]
  },
  {
   "cell_type": "code",
   "execution_count": null,
   "metadata": {
    "collapsed": true
   },
   "outputs": [],
   "source": []
  },
  {
   "cell_type": "code",
   "execution_count": 66,
   "metadata": {
    "collapsed": false
   },
   "outputs": [
    {
     "data": {
      "text/html": [
       "\"say far best custom care servic ever receiv appstor\""
      ],
      "text/latex": [
       "\"say far best custom care servic ever receiv appstor\""
      ],
      "text/markdown": [
       "\"say far best custom care servic ever receiv appstor\""
      ],
      "text/plain": [
       "[1] \"say far best custom care servic ever receiv appstor\""
      ]
     },
     "metadata": {},
     "output_type": "display_data"
    }
   ],
   "source": [
    "strwrap(corpus[[1]])"
   ]
  },
  {
   "cell_type": "code",
   "execution_count": null,
   "metadata": {
    "collapsed": true
   },
   "outputs": [],
   "source": []
  },
  {
   "cell_type": "code",
   "execution_count": null,
   "metadata": {
    "collapsed": true
   },
   "outputs": [],
   "source": []
  },
  {
   "cell_type": "code",
   "execution_count": 67,
   "metadata": {
    "collapsed": false
   },
   "outputs": [
    {
     "data": {
      "text/html": [
       "<ol class=list-inline>\n",
       "\t<li>\"i\"</li>\n",
       "\t<li>\"me\"</li>\n",
       "\t<li>\"my\"</li>\n",
       "\t<li>\"myself\"</li>\n",
       "\t<li>\"we\"</li>\n",
       "\t<li>\"our\"</li>\n",
       "\t<li>\"ours\"</li>\n",
       "\t<li>\"ourselves\"</li>\n",
       "\t<li>\"you\"</li>\n",
       "\t<li>\"your\"</li>\n",
       "</ol>\n"
      ],
      "text/latex": [
       "\\begin{enumerate*}\n",
       "\\item \"i\"\n",
       "\\item \"me\"\n",
       "\\item \"my\"\n",
       "\\item \"myself\"\n",
       "\\item \"we\"\n",
       "\\item \"our\"\n",
       "\\item \"ours\"\n",
       "\\item \"ourselves\"\n",
       "\\item \"you\"\n",
       "\\item \"your\"\n",
       "\\end{enumerate*}\n"
      ],
      "text/markdown": [
       "1. \"i\"\n",
       "2. \"me\"\n",
       "3. \"my\"\n",
       "4. \"myself\"\n",
       "5. \"we\"\n",
       "6. \"our\"\n",
       "7. \"ours\"\n",
       "8. \"ourselves\"\n",
       "9. \"you\"\n",
       "10. \"your\"\n",
       "\n",
       "\n"
      ],
      "text/plain": [
       " [1] \"i\"         \"me\"        \"my\"        \"myself\"    \"we\"        \"our\"      \n",
       " [7] \"ours\"      \"ourselves\" \"you\"       \"your\"     "
      ]
     },
     "metadata": {},
     "output_type": "display_data"
    }
   ],
   "source": [
    "stopwords(\"english\")[1:10]"
   ]
  },
  {
   "cell_type": "code",
   "execution_count": null,
   "metadata": {
    "collapsed": true
   },
   "outputs": [],
   "source": []
  },
  {
   "cell_type": "code",
   "execution_count": null,
   "metadata": {
    "collapsed": true
   },
   "outputs": [],
   "source": []
  },
  {
   "cell_type": "code",
   "execution_count": 68,
   "metadata": {
    "collapsed": true
   },
   "outputs": [],
   "source": [
    "frequencies = DocumentTermMatrix(corpus)"
   ]
  },
  {
   "cell_type": "code",
   "execution_count": 69,
   "metadata": {
    "collapsed": false
   },
   "outputs": [
    {
     "data": {
      "text/plain": [
       "<<DocumentTermMatrix (documents: 1181, terms: 3289)>>\n",
       "Non-/sparse entries: 8980/3875329\n",
       "Sparsity           : 100%\n",
       "Maximal term length: 115\n",
       "Weighting          : term frequency (tf)"
      ]
     },
     "metadata": {},
     "output_type": "display_data"
    }
   ],
   "source": [
    "frequencies"
   ]
  },
  {
   "cell_type": "code",
   "execution_count": 70,
   "metadata": {
    "collapsed": false
   },
   "outputs": [
    {
     "name": "stdout",
     "output_type": "stream",
     "text": [
      "<<DocumentTermMatrix (documents: 6, terms: 11)>>\n",
      "Non-/sparse entries: 1/65\n",
      "Sparsity           : 98%\n",
      "Maximal term length: 9\n",
      "Weighting          : term frequency (tf)\n",
      "\n",
      "              Terms\n",
      "Docs           cheapen cheaper check cheep cheer cheerio cherylcol chief\n",
      "  character(0)       0       0     0     0     0       0         0     0\n",
      "  character(0)       0       0     0     0     0       0         0     0\n",
      "  character(0)       0       0     0     0     0       0         0     0\n",
      "  character(0)       0       0     0     0     0       0         0     0\n",
      "  character(0)       0       0     0     0     0       0         0     0\n",
      "  character(0)       0       0     0     0     1       0         0     0\n",
      "              Terms\n",
      "Docs           chiiiiqu child children\n",
      "  character(0)        0     0        0\n",
      "  character(0)        0     0        0\n",
      "  character(0)        0     0        0\n",
      "  character(0)        0     0        0\n",
      "  character(0)        0     0        0\n",
      "  character(0)        0     0        0\n"
     ]
    }
   ],
   "source": [
    "inspect(frequencies[1000:1005,505:515])"
   ]
  },
  {
   "cell_type": "code",
   "execution_count": 71,
   "metadata": {
    "collapsed": false
   },
   "outputs": [
    {
     "data": {
      "text/html": [
       "<ol class=list-inline>\n",
       "\t<li>\"android\"</li>\n",
       "\t<li>\"anyon\"</li>\n",
       "\t<li>\"app\"</li>\n",
       "\t<li>\"appl\"</li>\n",
       "\t<li>\"back\"</li>\n",
       "\t<li>\"batteri\"</li>\n",
       "\t<li>\"better\"</li>\n",
       "\t<li>\"buy\"</li>\n",
       "\t<li>\"can\"</li>\n",
       "\t<li>\"cant\"</li>\n",
       "\t<li>\"come\"</li>\n",
       "\t<li>\"dont\"</li>\n",
       "\t<li>\"fingerprint\"</li>\n",
       "\t<li>\"freak\"</li>\n",
       "\t<li>\"get\"</li>\n",
       "\t<li>\"googl\"</li>\n",
       "\t<li>\"ios7\"</li>\n",
       "\t<li>\"ipad\"</li>\n",
       "\t<li>\"iphon\"</li>\n",
       "\t<li>\"iphone5\"</li>\n",
       "\t<li>\"iphone5c\"</li>\n",
       "\t<li>\"ipod\"</li>\n",
       "\t<li>\"ipodplayerpromo\"</li>\n",
       "\t<li>\"itun\"</li>\n",
       "\t<li>\"just\"</li>\n",
       "\t<li>\"like\"</li>\n",
       "\t<li>\"lol\"</li>\n",
       "\t<li>\"look\"</li>\n",
       "\t<li>\"love\"</li>\n",
       "\t<li>\"make\"</li>\n",
       "\t<li>\"market\"</li>\n",
       "\t<li>\"microsoft\"</li>\n",
       "\t<li>\"need\"</li>\n",
       "\t<li>\"new\"</li>\n",
       "\t<li>\"now\"</li>\n",
       "\t<li>\"one\"</li>\n",
       "\t<li>\"phone\"</li>\n",
       "\t<li>\"pleas\"</li>\n",
       "\t<li>\"promo\"</li>\n",
       "\t<li>\"promoipodplayerpromo\"</li>\n",
       "\t<li>\"realli\"</li>\n",
       "\t<li>\"releas\"</li>\n",
       "\t<li>\"samsung\"</li>\n",
       "\t<li>\"say\"</li>\n",
       "\t<li>\"store\"</li>\n",
       "\t<li>\"thank\"</li>\n",
       "\t<li>\"think\"</li>\n",
       "\t<li>\"time\"</li>\n",
       "\t<li>\"twitter\"</li>\n",
       "\t<li>\"updat\"</li>\n",
       "\t<li>\"use\"</li>\n",
       "\t<li>\"via\"</li>\n",
       "\t<li>\"want\"</li>\n",
       "\t<li>\"well\"</li>\n",
       "\t<li>\"will\"</li>\n",
       "\t<li>\"work\"</li>\n",
       "</ol>\n"
      ],
      "text/latex": [
       "\\begin{enumerate*}\n",
       "\\item \"android\"\n",
       "\\item \"anyon\"\n",
       "\\item \"app\"\n",
       "\\item \"appl\"\n",
       "\\item \"back\"\n",
       "\\item \"batteri\"\n",
       "\\item \"better\"\n",
       "\\item \"buy\"\n",
       "\\item \"can\"\n",
       "\\item \"cant\"\n",
       "\\item \"come\"\n",
       "\\item \"dont\"\n",
       "\\item \"fingerprint\"\n",
       "\\item \"freak\"\n",
       "\\item \"get\"\n",
       "\\item \"googl\"\n",
       "\\item \"ios7\"\n",
       "\\item \"ipad\"\n",
       "\\item \"iphon\"\n",
       "\\item \"iphone5\"\n",
       "\\item \"iphone5c\"\n",
       "\\item \"ipod\"\n",
       "\\item \"ipodplayerpromo\"\n",
       "\\item \"itun\"\n",
       "\\item \"just\"\n",
       "\\item \"like\"\n",
       "\\item \"lol\"\n",
       "\\item \"look\"\n",
       "\\item \"love\"\n",
       "\\item \"make\"\n",
       "\\item \"market\"\n",
       "\\item \"microsoft\"\n",
       "\\item \"need\"\n",
       "\\item \"new\"\n",
       "\\item \"now\"\n",
       "\\item \"one\"\n",
       "\\item \"phone\"\n",
       "\\item \"pleas\"\n",
       "\\item \"promo\"\n",
       "\\item \"promoipodplayerpromo\"\n",
       "\\item \"realli\"\n",
       "\\item \"releas\"\n",
       "\\item \"samsung\"\n",
       "\\item \"say\"\n",
       "\\item \"store\"\n",
       "\\item \"thank\"\n",
       "\\item \"think\"\n",
       "\\item \"time\"\n",
       "\\item \"twitter\"\n",
       "\\item \"updat\"\n",
       "\\item \"use\"\n",
       "\\item \"via\"\n",
       "\\item \"want\"\n",
       "\\item \"well\"\n",
       "\\item \"will\"\n",
       "\\item \"work\"\n",
       "\\end{enumerate*}\n"
      ],
      "text/markdown": [
       "1. \"android\"\n",
       "2. \"anyon\"\n",
       "3. \"app\"\n",
       "4. \"appl\"\n",
       "5. \"back\"\n",
       "6. \"batteri\"\n",
       "7. \"better\"\n",
       "8. \"buy\"\n",
       "9. \"can\"\n",
       "10. \"cant\"\n",
       "11. \"come\"\n",
       "12. \"dont\"\n",
       "13. \"fingerprint\"\n",
       "14. \"freak\"\n",
       "15. \"get\"\n",
       "16. \"googl\"\n",
       "17. \"ios7\"\n",
       "18. \"ipad\"\n",
       "19. \"iphon\"\n",
       "20. \"iphone5\"\n",
       "21. \"iphone5c\"\n",
       "22. \"ipod\"\n",
       "23. \"ipodplayerpromo\"\n",
       "24. \"itun\"\n",
       "25. \"just\"\n",
       "26. \"like\"\n",
       "27. \"lol\"\n",
       "28. \"look\"\n",
       "29. \"love\"\n",
       "30. \"make\"\n",
       "31. \"market\"\n",
       "32. \"microsoft\"\n",
       "33. \"need\"\n",
       "34. \"new\"\n",
       "35. \"now\"\n",
       "36. \"one\"\n",
       "37. \"phone\"\n",
       "38. \"pleas\"\n",
       "39. \"promo\"\n",
       "40. \"promoipodplayerpromo\"\n",
       "41. \"realli\"\n",
       "42. \"releas\"\n",
       "43. \"samsung\"\n",
       "44. \"say\"\n",
       "45. \"store\"\n",
       "46. \"thank\"\n",
       "47. \"think\"\n",
       "48. \"time\"\n",
       "49. \"twitter\"\n",
       "50. \"updat\"\n",
       "51. \"use\"\n",
       "52. \"via\"\n",
       "53. \"want\"\n",
       "54. \"well\"\n",
       "55. \"will\"\n",
       "56. \"work\"\n",
       "\n",
       "\n"
      ],
      "text/plain": [
       " [1] \"android\"              \"anyon\"                \"app\"                 \n",
       " [4] \"appl\"                 \"back\"                 \"batteri\"             \n",
       " [7] \"better\"               \"buy\"                  \"can\"                 \n",
       "[10] \"cant\"                 \"come\"                 \"dont\"                \n",
       "[13] \"fingerprint\"          \"freak\"                \"get\"                 \n",
       "[16] \"googl\"                \"ios7\"                 \"ipad\"                \n",
       "[19] \"iphon\"                \"iphone5\"              \"iphone5c\"            \n",
       "[22] \"ipod\"                 \"ipodplayerpromo\"      \"itun\"                \n",
       "[25] \"just\"                 \"like\"                 \"lol\"                 \n",
       "[28] \"look\"                 \"love\"                 \"make\"                \n",
       "[31] \"market\"               \"microsoft\"            \"need\"                \n",
       "[34] \"new\"                  \"now\"                  \"one\"                 \n",
       "[37] \"phone\"                \"pleas\"                \"promo\"               \n",
       "[40] \"promoipodplayerpromo\" \"realli\"               \"releas\"              \n",
       "[43] \"samsung\"              \"say\"                  \"store\"               \n",
       "[46] \"thank\"                \"think\"                \"time\"                \n",
       "[49] \"twitter\"              \"updat\"                \"use\"                 \n",
       "[52] \"via\"                  \"want\"                 \"well\"                \n",
       "[55] \"will\"                 \"work\"                "
      ]
     },
     "metadata": {},
     "output_type": "display_data"
    }
   ],
   "source": [
    "findFreqTerms(frequencies, lowfreq=20)"
   ]
  },
  {
   "cell_type": "code",
   "execution_count": 72,
   "metadata": {
    "collapsed": false
   },
   "outputs": [
    {
     "data": {
      "text/html": [
       "<ol class=list-inline>\n",
       "\t<li>\"iphon\"</li>\n",
       "\t<li>\"itun\"</li>\n",
       "\t<li>\"new\"</li>\n",
       "</ol>\n"
      ],
      "text/latex": [
       "\\begin{enumerate*}\n",
       "\\item \"iphon\"\n",
       "\\item \"itun\"\n",
       "\\item \"new\"\n",
       "\\end{enumerate*}\n"
      ],
      "text/markdown": [
       "1. \"iphon\"\n",
       "2. \"itun\"\n",
       "3. \"new\"\n",
       "\n",
       "\n"
      ],
      "text/plain": [
       "[1] \"iphon\" \"itun\"  \"new\"  "
      ]
     },
     "metadata": {},
     "output_type": "display_data"
    }
   ],
   "source": [
    "findFreqTerms(frequencies, lowfreq=100)"
   ]
  },
  {
   "cell_type": "code",
   "execution_count": null,
   "metadata": {
    "collapsed": true
   },
   "outputs": [],
   "source": []
  },
  {
   "cell_type": "code",
   "execution_count": null,
   "metadata": {
    "collapsed": true
   },
   "outputs": [],
   "source": []
  },
  {
   "cell_type": "code",
   "execution_count": null,
   "metadata": {
    "collapsed": true
   },
   "outputs": [],
   "source": []
  },
  {
   "cell_type": "code",
   "execution_count": null,
   "metadata": {
    "collapsed": true
   },
   "outputs": [],
   "source": []
  },
  {
   "cell_type": "code",
   "execution_count": 73,
   "metadata": {
    "collapsed": false
   },
   "outputs": [
    {
     "name": "stderr",
     "output_type": "stream",
     "text": [
      "Warning message:\n",
      ": package 'rpart' was built under R version 3.2.5"
     ]
    }
   ],
   "source": [
    "library(\"rpart\")"
   ]
  },
  {
   "cell_type": "code",
   "execution_count": 74,
   "metadata": {
    "collapsed": false
   },
   "outputs": [
    {
     "name": "stderr",
     "output_type": "stream",
     "text": [
      "Warning message:\n",
      ": package 'rpart.plot' was built under R version 3.2.5"
     ]
    }
   ],
   "source": [
    "library(\"rpart.plot\")"
   ]
  },
  {
   "cell_type": "code",
   "execution_count": null,
   "metadata": {
    "collapsed": true
   },
   "outputs": [],
   "source": []
  },
  {
   "cell_type": "code",
   "execution_count": 79,
   "metadata": {
    "collapsed": false
   },
   "outputs": [],
   "source": [
    "sparse = removeSparseTerms(frequencies, 0.995)"
   ]
  },
  {
   "cell_type": "code",
   "execution_count": 80,
   "metadata": {
    "collapsed": false
   },
   "outputs": [],
   "source": [
    "tweetsSparse = as.data.frame(as.matrix(sparse))"
   ]
  },
  {
   "cell_type": "code",
   "execution_count": null,
   "metadata": {
    "collapsed": true
   },
   "outputs": [],
   "source": []
  },
  {
   "cell_type": "code",
   "execution_count": 81,
   "metadata": {
    "collapsed": true
   },
   "outputs": [],
   "source": [
    "tweetsSparse = as.data.frame(as.matrix(sparse))"
   ]
  },
  {
   "cell_type": "code",
   "execution_count": 82,
   "metadata": {
    "collapsed": true
   },
   "outputs": [],
   "source": [
    "colnames(tweetsSparse) = make.names(colnames(tweetsSparse))"
   ]
  },
  {
   "cell_type": "code",
   "execution_count": null,
   "metadata": {
    "collapsed": true
   },
   "outputs": [],
   "source": []
  },
  {
   "cell_type": "code",
   "execution_count": 83,
   "metadata": {
    "collapsed": true
   },
   "outputs": [],
   "source": [
    "tweetsSparse$Negative = tweets$Negative"
   ]
  },
  {
   "cell_type": "code",
   "execution_count": null,
   "metadata": {
    "collapsed": true
   },
   "outputs": [],
   "source": []
  },
  {
   "cell_type": "code",
   "execution_count": 84,
   "metadata": {
    "collapsed": false
   },
   "outputs": [
    {
     "name": "stderr",
     "output_type": "stream",
     "text": [
      "Warning message:\n",
      ": package 'caTools' was built under R version 3.2.5"
     ]
    }
   ],
   "source": [
    "library(caTools)\n",
    "\n",
    "set.seed(123)"
   ]
  },
  {
   "cell_type": "code",
   "execution_count": null,
   "metadata": {
    "collapsed": true
   },
   "outputs": [],
   "source": []
  },
  {
   "cell_type": "code",
   "execution_count": 85,
   "metadata": {
    "collapsed": true
   },
   "outputs": [],
   "source": [
    "split = sample.split(tweetsSparse$Negative, SplitRatio = 0.7)"
   ]
  },
  {
   "cell_type": "code",
   "execution_count": null,
   "metadata": {
    "collapsed": true
   },
   "outputs": [],
   "source": []
  },
  {
   "cell_type": "code",
   "execution_count": 86,
   "metadata": {
    "collapsed": true
   },
   "outputs": [],
   "source": [
    "trainSparse = subset(tweetsSparse, split==TRUE)\n",
    "testSparse = subset(tweetsSparse, split==FALSE)"
   ]
  },
  {
   "cell_type": "code",
   "execution_count": null,
   "metadata": {
    "collapsed": true
   },
   "outputs": [],
   "source": []
  },
  {
   "cell_type": "code",
   "execution_count": null,
   "metadata": {
    "collapsed": true
   },
   "outputs": [],
   "source": []
  },
  {
   "cell_type": "code",
   "execution_count": null,
   "metadata": {
    "collapsed": true
   },
   "outputs": [],
   "source": []
  },
  {
   "cell_type": "code",
   "execution_count": 87,
   "metadata": {
    "collapsed": true
   },
   "outputs": [],
   "source": [
    "tweetCART = rpart(Negative ~ ., data=trainSparse, method=\"class\")"
   ]
  },
  {
   "cell_type": "code",
   "execution_count": 88,
   "metadata": {
    "collapsed": false
   },
   "outputs": [
    {
     "data": {
      "image/png": "[encoded data removed]",
      "image/svg+xml": [
       "<?xml version=\"1.0\" encoding=\"UTF-8\"?>\n",
       "<svg xmlns=\"http://www.w3.org/2000/svg\" xmlns:xlink=\"http://www.w3.org/1999/xlink\" width=\"504pt\" height=\"504pt\" viewBox=\"0 0 504 504\" version=\"1.1\">\n",
       "<defs>\n",
       "<g>\n",
       "<symbol overflow=\"visible\" id=\"glyph0-0\">\n",
       "<path style=\"stroke:none;\" d=\"M 0.140625 -6.222656 L 1.054688 -6.222656 L 1.054688 -6.691406 C 1.054688 -7.214844 1.109375 -7.605469 1.222656 -7.863281 C 1.332031 -8.121094 1.535156 -8.328125 1.835938 -8.492188 C 2.132813 -8.648438 2.511719 -8.730469 2.96875 -8.734375 C 3.433594 -8.730469 3.894531 -8.660156 4.347656 -8.523438 L 4.125 -7.375 C 3.863281 -7.433594 3.609375 -7.464844 3.367188 -7.46875 C 3.128906 -7.464844 2.957031 -7.410156 2.855469 -7.300781 C 2.75 -7.191406 2.699219 -6.976563 2.703125 -6.664063 L 2.703125 -6.222656 L 3.929688 -6.222656 L 3.929688 -4.929688 L 2.703125 -4.929688 L 2.703125 0 L 1.054688 0 L 1.054688 -4.929688 L 0.140625 -4.929688 Z M 0.140625 -6.222656 \"/>\n",
       "</symbol>\n",
       "<symbol overflow=\"visible\" id=\"glyph0-1\">\n",
       "<path style=\"stroke:none;\" d=\"M 2.4375 0 L 0.789063 0 L 0.789063 -6.222656 L 2.320313 -6.222656 L 2.320313 -5.335938 C 2.578125 -5.753906 2.8125 -6.03125 3.023438 -6.164063 C 3.234375 -6.296875 3.472656 -6.363281 3.738281 -6.363281 C 4.113281 -6.363281 4.472656 -6.257813 4.820313 -6.054688 L 4.3125 -4.617188 C 4.035156 -4.796875 3.777344 -4.886719 3.539063 -4.886719 C 3.308594 -4.886719 3.113281 -4.820313 2.953125 -4.695313 C 2.789063 -4.566406 2.660156 -4.339844 2.574219 -4.007813 C 2.480469 -3.671875 2.4375 -2.976563 2.4375 -1.921875 Z M 2.4375 0 \"/>\n",
       "</symbol>\n",
       "<symbol overflow=\"visible\" id=\"glyph0-2\">\n",
       "<path style=\"stroke:none;\" d=\"M 4.464844 -1.980469 L 6.105469 -1.703125 C 5.894531 -1.101563 5.558594 -0.644531 5.105469 -0.332031 C 4.644531 -0.015625 4.078125 0.140625 3.398438 0.140625 C 2.3125 0.140625 1.511719 -0.210938 0.996094 -0.921875 C 0.585938 -1.484375 0.378906 -2.199219 0.382813 -3.0625 C 0.378906 -4.089844 0.648438 -4.898438 1.191406 -5.484375 C 1.726563 -6.070313 2.410156 -6.363281 3.234375 -6.363281 C 4.160156 -6.363281 4.890625 -6.054688 5.425781 -5.445313 C 5.957031 -4.832031 6.210938 -3.898438 6.195313 -2.636719 L 2.070313 -2.636719 C 2.078125 -2.148438 2.210938 -1.765625 2.464844 -1.496094 C 2.71875 -1.222656 3.035156 -1.089844 3.414063 -1.089844 C 3.671875 -1.089844 3.890625 -1.160156 4.066406 -1.300781 C 4.238281 -1.441406 4.371094 -1.667969 4.464844 -1.980469 Z M 4.558594 -3.644531 C 4.542969 -4.121094 4.417969 -4.480469 4.1875 -4.730469 C 3.949219 -4.972656 3.664063 -5.097656 3.335938 -5.101563 C 2.972656 -5.097656 2.675781 -4.96875 2.445313 -4.710938 C 2.207031 -4.449219 2.09375 -4.09375 2.097656 -3.644531 Z M 4.558594 -3.644531 \"/>\n",
       "</symbol>\n",
       "<symbol overflow=\"visible\" id=\"glyph0-3\">\n",
       "<path style=\"stroke:none;\" d=\"M 2.09375 -4.324219 L 0.597656 -4.59375 C 0.765625 -5.195313 1.054688 -5.640625 1.464844 -5.929688 C 1.871094 -6.21875 2.480469 -6.363281 3.292969 -6.363281 C 4.027344 -6.363281 4.574219 -6.273438 4.933594 -6.101563 C 5.292969 -5.925781 5.542969 -5.707031 5.691406 -5.441406 C 5.835938 -5.171875 5.910156 -4.679688 5.914063 -3.96875 L 5.894531 -2.046875 C 5.894531 -1.496094 5.917969 -1.09375 5.972656 -0.835938 C 6.023438 -0.574219 6.125 -0.296875 6.269531 0 L 4.640625 0 C 4.597656 -0.109375 4.542969 -0.269531 4.484375 -0.484375 C 4.453125 -0.582031 4.433594 -0.648438 4.421875 -0.679688 C 4.136719 -0.40625 3.835938 -0.199219 3.519531 -0.0625 C 3.195313 0.0742188 2.855469 0.140625 2.496094 0.140625 C 1.855469 0.140625 1.347656 -0.03125 0.980469 -0.378906 C 0.609375 -0.726563 0.425781 -1.167969 0.429688 -1.699219 C 0.425781 -2.050781 0.511719 -2.363281 0.679688 -2.640625 C 0.84375 -2.914063 1.078125 -3.125 1.382813 -3.273438 C 1.6875 -3.417969 2.125 -3.546875 2.695313 -3.65625 C 3.464844 -3.800781 3.996094 -3.933594 4.296875 -4.0625 L 4.296875 -4.226563 C 4.292969 -4.539063 4.214844 -4.765625 4.0625 -4.898438 C 3.902344 -5.03125 3.609375 -5.097656 3.175781 -5.101563 C 2.878906 -5.097656 2.648438 -5.039063 2.488281 -4.929688 C 2.320313 -4.8125 2.1875 -4.613281 2.09375 -4.324219 Z M 4.296875 -2.988281 C 4.078125 -2.917969 3.746094 -2.832031 3.292969 -2.734375 C 2.835938 -2.636719 2.535156 -2.542969 2.398438 -2.449219 C 2.179688 -2.292969 2.074219 -2.097656 2.074219 -1.867188 C 2.074219 -1.636719 2.160156 -1.4375 2.332031 -1.269531 C 2.503906 -1.101563 2.722656 -1.019531 2.988281 -1.019531 C 3.285156 -1.019531 3.566406 -1.117188 3.835938 -1.3125 C 4.035156 -1.460938 4.167969 -1.640625 4.230469 -1.859375 C 4.273438 -1.996094 4.292969 -2.265625 4.296875 -2.660156 Z M 4.296875 -2.988281 \"/>\n",
       "</symbol>\n",
       "<symbol overflow=\"visible\" id=\"glyph0-4\">\n",
       "<path style=\"stroke:none;\" d=\"M 0.804688 0 L 0.804688 -8.589844 L 2.449219 -8.589844 L 2.449219 -4.03125 L 4.375 -6.222656 L 6.40625 -6.222656 L 4.277344 -3.949219 L 6.554688 0 L 4.78125 0 L 3.21875 -2.796875 L 2.449219 -1.992188 L 2.449219 0 Z M 0.804688 0 \"/>\n",
       "</symbol>\n",
       "<symbol overflow=\"visible\" id=\"glyph0-5\">\n",
       "<path style=\"stroke:none;\" d=\"\"/>\n",
       "</symbol>\n",
       "<symbol overflow=\"visible\" id=\"glyph0-6\">\n",
       "<path style=\"stroke:none;\" d=\"M 6.445313 -0.976563 L 0.554688 -3.539063 L 0.554688 -4.957031 L 6.445313 -7.507813 L 6.445313 -5.835938 L 2.335938 -4.265625 L 6.445313 -2.636719 Z M 6.445313 -0.976563 \"/>\n",
       "</symbol>\n",
       "<symbol overflow=\"visible\" id=\"glyph0-7\">\n",
       "<path style=\"stroke:none;\" d=\"M 3.292969 -8.625 C 4.121094 -8.625 4.769531 -8.328125 5.242188 -7.734375 C 5.800781 -7.03125 6.082031 -5.863281 6.082031 -4.234375 C 6.082031 -2.605469 5.800781 -1.4375 5.238281 -0.734375 C 4.769531 -0.144531 4.121094 0.144531 3.292969 0.148438 C 2.457031 0.144531 1.78125 -0.171875 1.269531 -0.816406 C 0.757813 -1.457031 0.503906 -2.605469 0.503906 -4.253906 C 0.503906 -5.871094 0.785156 -7.035156 1.347656 -7.746094 C 1.8125 -8.332031 2.460938 -8.625 3.292969 -8.625 Z M 3.292969 -7.257813 C 3.089844 -7.253906 2.910156 -7.191406 2.757813 -7.066406 C 2.597656 -6.941406 2.476563 -6.714844 2.398438 -6.386719 C 2.28125 -5.960938 2.226563 -5.242188 2.226563 -4.234375 C 2.226563 -3.226563 2.277344 -2.535156 2.378906 -2.160156 C 2.480469 -1.78125 2.605469 -1.53125 2.761719 -1.40625 C 2.910156 -1.28125 3.089844 -1.21875 3.292969 -1.21875 C 3.492188 -1.21875 3.667969 -1.28125 3.828125 -1.410156 C 3.980469 -1.535156 4.101563 -1.761719 4.1875 -2.09375 C 4.300781 -2.511719 4.359375 -3.226563 4.359375 -4.234375 C 4.359375 -5.242188 4.308594 -5.933594 4.207031 -6.3125 C 4.105469 -6.6875 3.976563 -6.941406 3.824219 -7.066406 C 3.667969 -7.191406 3.492188 -7.253906 3.292969 -7.257813 Z M 3.292969 -7.257813 \"/>\n",
       "</symbol>\n",
       "<symbol overflow=\"visible\" id=\"glyph0-8\">\n",
       "<path style=\"stroke:none;\" d=\"M 0.859375 0 L 0.859375 -1.648438 L 2.507813 -1.648438 L 2.507813 0 Z M 0.859375 0 \"/>\n",
       "</symbol>\n",
       "<symbol overflow=\"visible\" id=\"glyph0-9\">\n",
       "<path style=\"stroke:none;\" d=\"M 0.53125 -2.210938 L 2.171875 -2.378906 C 2.214844 -2.003906 2.355469 -1.707031 2.589844 -1.496094 C 2.820313 -1.277344 3.085938 -1.171875 3.386719 -1.171875 C 3.730469 -1.171875 4.019531 -1.308594 4.257813 -1.589844 C 4.496094 -1.863281 4.617188 -2.285156 4.617188 -2.851563 C 4.617188 -3.378906 4.496094 -3.773438 4.261719 -4.039063 C 4.019531 -4.300781 3.714844 -4.433594 3.339844 -4.4375 C 2.867188 -4.433594 2.441406 -4.226563 2.070313 -3.808594 L 0.734375 -4 L 1.578125 -8.472656 L 5.929688 -8.472656 L 5.929688 -6.929688 L 2.824219 -6.929688 L 2.566406 -5.472656 C 2.933594 -5.65625 3.308594 -5.746094 3.691406 -5.75 C 4.421875 -5.746094 5.039063 -5.480469 5.550781 -4.953125 C 6.054688 -4.417969 6.308594 -3.730469 6.3125 -2.882813 C 6.308594 -2.171875 6.105469 -1.539063 5.695313 -0.992188 C 5.136719 -0.230469 4.359375 0.144531 3.367188 0.148438 C 2.574219 0.144531 1.929688 -0.0664063 1.429688 -0.492188 C 0.929688 -0.917969 0.628906 -1.488281 0.53125 -2.210938 Z M 0.53125 -2.210938 \"/>\n",
       "</symbol>\n",
       "<symbol overflow=\"visible\" id=\"glyph0-10\">\n",
       "<path style=\"stroke:none;\" d=\"M 2.5 -8.589844 L 2.5 -5.429688 C 3.027344 -6.050781 3.664063 -6.363281 4.40625 -6.363281 C 4.785156 -6.363281 5.125 -6.292969 5.433594 -6.152344 C 5.734375 -6.011719 5.964844 -5.832031 6.121094 -5.613281 C 6.273438 -5.394531 6.378906 -5.152344 6.4375 -4.886719 C 6.492188 -4.621094 6.519531 -4.207031 6.523438 -3.648438 L 6.523438 0 L 4.875 0 L 4.875 -3.289063 C 4.875 -3.9375 4.84375 -4.351563 4.78125 -4.527344 C 4.71875 -4.703125 4.605469 -4.84375 4.449219 -4.945313 C 4.285156 -5.046875 4.089844 -5.097656 3.855469 -5.101563 C 3.582031 -5.097656 3.335938 -5.03125 3.121094 -4.902344 C 2.90625 -4.765625 2.75 -4.566406 2.648438 -4.300781 C 2.546875 -4.035156 2.496094 -3.640625 2.5 -3.117188 L 2.5 0 L 0.855469 0 L 0.855469 -8.589844 Z M 2.5 -8.589844 \"/>\n",
       "</symbol>\n",
       "<symbol overflow=\"visible\" id=\"glyph0-11\">\n",
       "<path style=\"stroke:none;\" d=\"M 3.714844 -6.222656 L 3.714844 -4.910156 L 2.589844 -4.910156 L 2.589844 -2.402344 C 2.589844 -1.894531 2.597656 -1.597656 2.621094 -1.515625 C 2.640625 -1.429688 2.691406 -1.359375 2.769531 -1.308594 C 2.84375 -1.25 2.9375 -1.222656 3.046875 -1.226563 C 3.195313 -1.222656 3.414063 -1.277344 3.710938 -1.382813 L 3.851563 -0.105469 C 3.460938 0.0585938 3.027344 0.140625 2.546875 0.140625 C 2.246094 0.140625 1.980469 0.09375 1.746094 -0.0078125 C 1.507813 -0.101563 1.332031 -0.230469 1.222656 -0.394531 C 1.109375 -0.550781 1.03125 -0.765625 0.992188 -1.039063 C 0.953125 -1.226563 0.9375 -1.613281 0.9375 -2.195313 L 0.9375 -4.910156 L 0.179688 -4.910156 L 0.179688 -6.222656 L 0.9375 -6.222656 L 0.9375 -7.460938 L 2.589844 -8.421875 L 2.589844 -6.222656 Z M 3.714844 -6.222656 \"/>\n",
       "</symbol>\n",
       "<symbol overflow=\"visible\" id=\"glyph0-12\">\n",
       "<path style=\"stroke:none;\" d=\"M 2.023438 0 L 0.0546875 -6.222656 L 1.652344 -6.222656 L 2.820313 -2.144531 L 3.890625 -6.222656 L 5.476563 -6.222656 L 6.515625 -2.144531 L 7.703125 -6.222656 L 9.328125 -6.222656 L 7.328125 0 L 5.75 0 L 4.675781 -4 L 3.621094 0 Z M 2.023438 0 \"/>\n",
       "</symbol>\n",
       "<symbol overflow=\"visible\" id=\"glyph1-0\">\n",
       "<path style=\"stroke:none;\" d=\"M 0.984375 0 L 0.984375 -8.589844 L 6.78125 -8.589844 L 6.78125 -7.578125 L 2.121094 -7.578125 L 2.121094 -4.914063 L 6.152344 -4.914063 L 6.152344 -3.902344 L 2.121094 -3.902344 L 2.121094 0 Z M 0.984375 0 \"/>\n",
       "</symbol>\n",
       "<symbol overflow=\"visible\" id=\"glyph1-1\">\n",
       "<path style=\"stroke:none;\" d=\"M -0.015625 0 L 3.28125 -8.589844 L 4.507813 -8.589844 L 8.023438 0 L 6.726563 0 L 5.726563 -2.601563 L 2.132813 -2.601563 L 1.1875 0 Z M 2.460938 -3.527344 L 5.375 -3.527344 L 4.476563 -5.90625 C 4.203125 -6.628906 4 -7.222656 3.867188 -7.6875 C 3.757813 -7.132813 3.601563 -6.585938 3.40625 -6.046875 Z M 2.460938 -3.527344 \"/>\n",
       "</symbol>\n",
       "<symbol overflow=\"visible\" id=\"glyph1-2\">\n",
       "<path style=\"stroke:none;\" d=\"M 0.878906 0 L 0.878906 -8.589844 L 2.015625 -8.589844 L 2.015625 -1.015625 L 6.246094 -1.015625 L 6.246094 0 Z M 0.878906 0 \"/>\n",
       "</symbol>\n",
       "<symbol overflow=\"visible\" id=\"glyph1-3\">\n",
       "<path style=\"stroke:none;\" d=\"M 0.539063 -2.757813 L 1.609375 -2.851563 C 1.660156 -2.421875 1.777344 -2.070313 1.964844 -1.796875 C 2.144531 -1.519531 2.433594 -1.296875 2.828125 -1.128906 C 3.214844 -0.957031 3.65625 -0.871094 4.148438 -0.875 C 4.578125 -0.871094 4.960938 -0.9375 5.296875 -1.066406 C 5.628906 -1.191406 5.875 -1.367188 6.039063 -1.59375 C 6.199219 -1.820313 6.28125 -2.066406 6.28125 -2.332031 C 6.28125 -2.597656 6.203125 -2.832031 6.046875 -3.035156 C 5.890625 -3.238281 5.632813 -3.40625 5.273438 -3.546875 C 5.042969 -3.632813 4.53125 -3.773438 3.746094 -3.964844 C 2.953125 -4.152344 2.402344 -4.332031 2.085938 -4.5 C 1.671875 -4.710938 1.363281 -4.976563 1.167969 -5.296875 C 0.964844 -5.617188 0.867188 -5.972656 0.867188 -6.367188 C 0.867188 -6.800781 0.988281 -7.207031 1.234375 -7.582031 C 1.480469 -7.957031 1.839844 -8.242188 2.3125 -8.441406 C 2.785156 -8.632813 3.3125 -8.730469 3.890625 -8.734375 C 4.523438 -8.730469 5.082031 -8.628906 5.574219 -8.425781 C 6.058594 -8.222656 6.433594 -7.921875 6.695313 -7.523438 C 6.957031 -7.125 7.097656 -6.671875 7.117188 -6.171875 L 6.03125 -6.085938 C 5.96875 -6.628906 5.769531 -7.039063 5.433594 -7.316406 C 5.09375 -7.59375 4.597656 -7.734375 3.9375 -7.734375 C 3.25 -7.734375 2.746094 -7.605469 2.433594 -7.355469 C 2.113281 -7.097656 1.957031 -6.796875 1.960938 -6.445313 C 1.957031 -6.136719 2.070313 -5.882813 2.296875 -5.683594 C 2.515625 -5.480469 3.085938 -5.273438 4.011719 -5.070313 C 4.933594 -4.859375 5.566406 -4.679688 5.914063 -4.523438 C 6.410156 -4.292969 6.78125 -4 7.019531 -3.648438 C 7.253906 -3.292969 7.371094 -2.886719 7.375 -2.425781 C 7.371094 -1.96875 7.242188 -1.535156 6.984375 -1.132813 C 6.722656 -0.726563 6.34375 -0.414063 5.855469 -0.1875 C 5.363281 0.0351563 4.8125 0.144531 4.203125 0.148438 C 3.421875 0.144531 2.769531 0.0351563 2.246094 -0.191406 C 1.71875 -0.414063 1.308594 -0.753906 1.011719 -1.214844 C 0.710938 -1.667969 0.554688 -2.183594 0.539063 -2.757813 Z M 0.539063 -2.757813 \"/>\n",
       "</symbol>\n",
       "<symbol overflow=\"visible\" id=\"glyph1-4\">\n",
       "<path style=\"stroke:none;\" d=\"M 0.949219 0 L 0.949219 -8.589844 L 7.160156 -8.589844 L 7.160156 -7.578125 L 2.085938 -7.578125 L 2.085938 -4.945313 L 6.835938 -4.945313 L 6.835938 -3.9375 L 2.085938 -3.9375 L 2.085938 -1.015625 L 7.359375 -1.015625 L 7.359375 0 Z M 0.949219 0 \"/>\n",
       "</symbol>\n",
       "<symbol overflow=\"visible\" id=\"glyph1-5\">\n",
       "<path style=\"stroke:none;\" d=\"M 3.109375 0 L 3.109375 -7.578125 L 0.28125 -7.578125 L 0.28125 -8.589844 L 7.089844 -8.589844 L 7.089844 -7.578125 L 4.25 -7.578125 L 4.25 0 Z M 3.109375 0 \"/>\n",
       "</symbol>\n",
       "<symbol overflow=\"visible\" id=\"glyph1-6\">\n",
       "<path style=\"stroke:none;\" d=\"M 0.945313 0 L 0.945313 -8.589844 L 4.75 -8.589844 C 5.511719 -8.589844 6.09375 -8.511719 6.496094 -8.355469 C 6.890625 -8.199219 7.210938 -7.925781 7.453125 -7.539063 C 7.691406 -7.144531 7.808594 -6.714844 7.8125 -6.246094 C 7.808594 -5.636719 7.613281 -5.121094 7.21875 -4.703125 C 6.820313 -4.285156 6.210938 -4.019531 5.390625 -3.90625 C 5.691406 -3.761719 5.917969 -3.621094 6.078125 -3.480469 C 6.40625 -3.175781 6.722656 -2.792969 7.019531 -2.335938 L 8.515625 0 L 7.085938 0 L 5.945313 -1.789063 C 5.613281 -2.300781 5.339844 -2.695313 5.125 -2.972656 C 4.910156 -3.242188 4.71875 -3.433594 4.550781 -3.546875 C 4.378906 -3.652344 4.207031 -3.730469 4.03125 -3.773438 C 3.898438 -3.796875 3.6875 -3.808594 3.398438 -3.8125 L 2.078125 -3.8125 L 2.078125 0 Z M 2.078125 -4.796875 L 4.523438 -4.796875 C 5.042969 -4.792969 5.449219 -4.847656 5.742188 -4.957031 C 6.03125 -5.066406 6.253906 -5.238281 6.410156 -5.472656 C 6.5625 -5.707031 6.636719 -5.964844 6.640625 -6.246094 C 6.636719 -6.652344 6.488281 -6.984375 6.195313 -7.246094 C 5.898438 -7.507813 5.433594 -7.640625 4.796875 -7.640625 L 2.078125 -7.640625 Z M 2.078125 -4.796875 \"/>\n",
       "</symbol>\n",
       "<symbol overflow=\"visible\" id=\"glyph1-7\">\n",
       "<path style=\"stroke:none;\" d=\"M 6.5625 -8.589844 L 7.699219 -8.589844 L 7.699219 -3.625 C 7.699219 -2.761719 7.601563 -2.078125 7.40625 -1.570313 C 7.210938 -1.0625 6.855469 -0.648438 6.347656 -0.328125 C 5.835938 -0.0117188 5.167969 0.144531 4.34375 0.148438 C 3.53125 0.144531 2.875 0.0078125 2.367188 -0.269531 C 1.855469 -0.546875 1.488281 -0.945313 1.273438 -1.472656 C 1.050781 -1.996094 0.941406 -2.714844 0.945313 -3.625 L 0.945313 -8.589844 L 2.078125 -8.589844 L 2.078125 -3.632813 C 2.074219 -2.886719 2.144531 -2.335938 2.285156 -1.984375 C 2.425781 -1.628906 2.664063 -1.355469 3 -1.164063 C 3.335938 -0.972656 3.75 -0.878906 4.242188 -0.878906 C 5.078125 -0.878906 5.671875 -1.066406 6.027344 -1.445313 C 6.382813 -1.824219 6.5625 -2.554688 6.5625 -3.632813 Z M 6.5625 -8.589844 \"/>\n",
       "</symbol>\n",
       "<symbol overflow=\"visible\" id=\"glyph2-0\">\n",
       "<path style=\"stroke:none;\" d=\"M 0 1.921875 L 0.0507813 1.125 C 0.222656 1.171875 0.394531 1.195313 0.5625 1.199219 C 0.734375 1.195313 0.871094 1.15625 0.980469 1.082031 C 1.113281 0.976563 1.265625 0.78125 1.429688 0.5 L 1.703125 0.015625 L 0.871094 -4.976563 L 1.707031 -4.976563 L 2.082031 -2.460938 C 2.152344 -1.960938 2.21875 -1.460938 2.273438 -0.96875 L 4.5 -4.976563 L 5.386719 -4.976563 L 2.210938 0.660156 C 1.902344 1.207031 1.632813 1.570313 1.394531 1.75 C 1.15625 1.925781 0.882813 2.015625 0.578125 2.019531 C 0.378906 2.015625 0.1875 1.984375 0 1.921875 Z M 0 1.921875 \"/>\n",
       "</symbol>\n",
       "<symbol overflow=\"visible\" id=\"glyph2-1\">\n",
       "<path style=\"stroke:none;\" d=\"M 3.976563 -1.691406 L 4.800781 -1.609375 C 4.675781 -1.195313 4.402344 -0.804688 3.980469 -0.4375 C 3.550781 -0.0703125 3.042969 0.109375 2.457031 0.113281 C 2.082031 0.109375 1.746094 0.0273438 1.441406 -0.140625 C 1.132813 -0.3125 0.898438 -0.558594 0.738281 -0.886719 C 0.574219 -1.207031 0.492188 -1.578125 0.496094 -1.996094 C 0.492188 -2.539063 0.617188 -3.066406 0.871094 -3.578125 C 1.121094 -4.085938 1.449219 -4.464844 1.851563 -4.714844 C 2.25 -4.960938 2.679688 -5.085938 3.148438 -5.089844 C 3.738281 -5.085938 4.214844 -4.902344 4.570313 -4.535156 C 4.925781 -4.167969 5.101563 -3.664063 5.105469 -3.027344 C 5.101563 -2.78125 5.082031 -2.53125 5.039063 -2.277344 L 1.375 -2.277344 C 1.359375 -2.179688 1.351563 -2.09375 1.355469 -2.015625 C 1.351563 -1.546875 1.460938 -1.191406 1.675781 -0.949219 C 1.886719 -0.703125 2.148438 -0.578125 2.460938 -0.582031 C 2.75 -0.578125 3.035156 -0.675781 3.320313 -0.867188 C 3.597656 -1.054688 3.816406 -1.328125 3.976563 -1.691406 Z M 1.507813 -2.925781 L 4.304688 -2.925781 C 4.304688 -3.007813 4.304688 -3.070313 4.308594 -3.113281 C 4.304688 -3.535156 4.199219 -3.863281 3.988281 -4.089844 C 3.773438 -4.316406 3.5 -4.429688 3.167969 -4.429688 C 2.804688 -4.429688 2.472656 -4.304688 2.175781 -4.054688 C 1.875 -3.804688 1.652344 -3.425781 1.507813 -2.925781 Z M 1.507813 -2.925781 \"/>\n",
       "</symbol>\n",
       "<symbol overflow=\"visible\" id=\"glyph2-2\">\n",
       "<path style=\"stroke:none;\" d=\"M 0.398438 -1.703125 L 1.246094 -1.753906 C 1.242188 -1.503906 1.28125 -1.296875 1.359375 -1.128906 C 1.433594 -0.953125 1.570313 -0.8125 1.773438 -0.707031 C 1.972656 -0.59375 2.207031 -0.539063 2.480469 -0.542969 C 2.851563 -0.539063 3.132813 -0.613281 3.324219 -0.765625 C 3.507813 -0.914063 3.601563 -1.089844 3.605469 -1.296875 C 3.601563 -1.441406 3.546875 -1.582031 3.4375 -1.714844 C 3.316406 -1.84375 3.035156 -2.003906 2.589844 -2.199219 C 2.140625 -2.386719 1.851563 -2.523438 1.730469 -2.605469 C 1.515625 -2.730469 1.359375 -2.882813 1.253906 -3.058594 C 1.148438 -3.230469 1.09375 -3.429688 1.097656 -3.65625 C 1.09375 -4.046875 1.25 -4.382813 1.566406 -4.667969 C 1.875 -4.945313 2.3125 -5.085938 2.878906 -5.089844 C 3.5 -5.085938 3.976563 -4.941406 4.304688 -4.65625 C 4.628906 -4.363281 4.796875 -3.984375 4.8125 -3.515625 L 3.984375 -3.460938 C 3.96875 -3.757813 3.859375 -3.996094 3.664063 -4.171875 C 3.460938 -4.34375 3.179688 -4.429688 2.816406 -4.433594 C 2.519531 -4.429688 2.292969 -4.363281 2.132813 -4.230469 C 1.96875 -4.097656 1.886719 -3.953125 1.890625 -3.796875 C 1.886719 -3.640625 1.957031 -3.5 2.101563 -3.382813 C 2.191406 -3.296875 2.433594 -3.171875 2.828125 -3.007813 C 3.472656 -2.722656 3.882813 -2.503906 4.054688 -2.34375 C 4.320313 -2.082031 4.453125 -1.765625 4.457031 -1.398438 C 4.453125 -1.148438 4.378906 -0.90625 4.230469 -0.667969 C 4.078125 -0.429688 3.84375 -0.238281 3.535156 -0.0976563 C 3.222656 0.0429688 2.859375 0.109375 2.4375 0.113281 C 1.859375 0.109375 1.367188 -0.0273438 0.96875 -0.3125 C 0.5625 -0.59375 0.375 -1.058594 0.398438 -1.703125 Z M 0.398438 -1.703125 \"/>\n",
       "</symbol>\n",
       "<symbol overflow=\"visible\" id=\"glyph2-3\">\n",
       "<path style=\"stroke:none;\" d=\"M 0.320313 0 L 1.359375 -4.976563 L 2.128906 -4.976563 L 1.945313 -4.109375 C 2.277344 -4.445313 2.589844 -4.695313 2.882813 -4.855469 C 3.171875 -5.007813 3.46875 -5.085938 3.773438 -5.089844 C 4.175781 -5.085938 4.492188 -4.976563 4.722656 -4.761719 C 4.949219 -4.539063 5.0625 -4.246094 5.066406 -3.886719 C 5.0625 -3.699219 5.023438 -3.410156 4.945313 -3.015625 L 4.3125 0 L 3.464844 0 L 4.125 -3.15625 C 4.1875 -3.457031 4.21875 -3.683594 4.222656 -3.835938 C 4.21875 -3.996094 4.160156 -4.128906 4.050781 -4.234375 C 3.933594 -4.335938 3.769531 -4.386719 3.558594 -4.390625 C 3.121094 -4.386719 2.734375 -4.230469 2.398438 -3.921875 C 2.054688 -3.605469 1.804688 -3.070313 1.648438 -2.316406 L 1.167969 0 Z M 0.320313 0 \"/>\n",
       "</symbol>\n",
       "<symbol overflow=\"visible\" id=\"glyph2-4\">\n",
       "<path style=\"stroke:none;\" d=\"M 0.46875 -1.890625 C 0.46875 -2.859375 0.753906 -3.664063 1.328125 -4.304688 C 1.796875 -4.824219 2.414063 -5.085938 3.183594 -5.089844 C 3.777344 -5.085938 4.261719 -4.898438 4.632813 -4.527344 C 4.996094 -4.148438 5.179688 -3.640625 5.183594 -3.007813 C 5.179688 -2.433594 5.0625 -1.902344 4.835938 -1.414063 C 4.601563 -0.917969 4.273438 -0.542969 3.851563 -0.28125 C 3.421875 -0.0195313 2.972656 0.109375 2.503906 0.113281 C 2.113281 0.109375 1.761719 0.03125 1.445313 -0.132813 C 1.125 -0.296875 0.882813 -0.53125 0.71875 -0.835938 C 0.550781 -1.136719 0.46875 -1.488281 0.46875 -1.890625 Z M 1.316406 -1.972656 C 1.3125 -1.5 1.425781 -1.144531 1.652344 -0.90625 C 1.878906 -0.660156 2.164063 -0.539063 2.511719 -0.542969 C 2.691406 -0.539063 2.871094 -0.574219 3.050781 -0.652344 C 3.226563 -0.722656 3.390625 -0.835938 3.546875 -0.988281 C 3.695313 -1.136719 3.828125 -1.308594 3.9375 -1.5 C 4.046875 -1.691406 4.132813 -1.898438 4.199219 -2.125 C 4.292969 -2.429688 4.339844 -2.726563 4.34375 -3.015625 C 4.339844 -3.460938 4.226563 -3.808594 4.003906 -4.058594 C 3.773438 -4.304688 3.488281 -4.429688 3.148438 -4.433594 C 2.878906 -4.429688 2.636719 -4.367188 2.421875 -4.242188 C 2.199219 -4.117188 2.003906 -3.929688 1.828125 -3.6875 C 1.652344 -3.441406 1.523438 -3.160156 1.441406 -2.835938 C 1.355469 -2.511719 1.3125 -2.222656 1.316406 -1.972656 Z M 1.316406 -1.972656 \"/>\n",
       "</symbol>\n",
       "</g>\n",
       "</defs>\n",
       "<g id=\"surface1\">\n",
       "<rect x=\"0\" y=\"0\" width=\"504\" height=\"504\" style=\"fill:rgb(100%,100%,100%);fill-opacity:1;stroke:none;\"/>\n",
       "<path style=\"fill:none;stroke-width:0.75;stroke-linecap:butt;stroke-linejoin:round;stroke:rgb(0%,0%,0%);stroke-opacity:1;stroke-miterlimit:10;\" d=\"M 250.078125 223.453125 L 285.597656 166.351563 L 294.480469 166.351563 \"/>\n",
       "<path style=\"fill:none;stroke-width:0.75;stroke-linecap:butt;stroke-linejoin:round;stroke:rgb(0%,0%,0%);stroke-opacity:1;stroke-miterlimit:10;\" d=\"M 206.078125 281.984375 L 241.277344 224.882813 L 250.078125 224.882813 \"/>\n",
       "<path style=\"fill:none;stroke-width:0.75;stroke-linecap:butt;stroke-linejoin:round;stroke:rgb(0%,0%,0%);stroke-opacity:1;stroke-miterlimit:10;\" d=\"M 166.078125 329.023438 L 198.078125 283.414063 L 206.078125 283.414063 \"/>\n",
       "<path style=\"fill:none;stroke-width:0.75;stroke-linecap:butt;stroke-linejoin:round;stroke:rgb(0%,0%,0%);stroke-opacity:1;stroke-miterlimit:10;\" d=\"M 246.078125 329.023438 L 214.078125 283.414063 L 206.078125 283.414063 \"/>\n",
       "<path style=\"fill:none;stroke-width:0.75;stroke-linecap:butt;stroke-linejoin:round;stroke:rgb(0%,0%,0%);stroke-opacity:1;stroke-miterlimit:10;\" d=\"M 294.078125 270.492188 L 258.878906 224.882813 L 250.078125 224.882813 \"/>\n",
       "<path style=\"fill:none;stroke-width:0.75;stroke-linecap:butt;stroke-linejoin:round;stroke:rgb(0%,0%,0%);stroke-opacity:1;stroke-miterlimit:10;\" d=\"M 338.878906 211.957031 L 303.359375 166.351563 L 294.480469 166.351563 \"/>\n",
       "<path style=\" stroke:none;fill-rule:nonzero;fill:rgb(100%,100%,100%);fill-opacity:1;\" d=\"M 259.960938 170.660156 L 259.960938 153.425781 L 328.996094 153.425781 L 328.996094 170.660156 Z M 259.960938 170.660156 \"/>\n",
       "<path style=\" stroke:none;fill-rule:nonzero;fill:rgb(100%,100%,100%);fill-opacity:1;\" d=\"M 217.5625 229.191406 L 217.5625 211.957031 L 282.59375 211.957031 L 282.59375 229.191406 Z M 217.5625 229.191406 \"/>\n",
       "<path style=\" stroke:none;fill-rule:nonzero;fill:rgb(100%,100%,100%);fill-opacity:1;\" d=\"M 177.234375 287.722656 L 177.234375 270.492188 L 234.921875 270.492188 L 234.921875 287.722656 Z M 177.234375 287.722656 \"/>\n",
       "<g style=\"fill:rgb(0%,0%,0%);fill-opacity:1;\">\n",
       "  <use xlink:href=\"#glyph0-0\" x=\"264.957031\" y=\"166.335938\"/>\n",
       "  <use xlink:href=\"#glyph0-1\" x=\"268.953125\" y=\"166.335938\"/>\n",
       "  <use xlink:href=\"#glyph0-2\" x=\"273.623047\" y=\"166.335938\"/>\n",
       "  <use xlink:href=\"#glyph0-3\" x=\"280.296875\" y=\"166.335938\"/>\n",
       "  <use xlink:href=\"#glyph0-4\" x=\"286.970703\" y=\"166.335938\"/>\n",
       "  <use xlink:href=\"#glyph0-5\" x=\"293.644531\" y=\"166.335938\"/>\n",
       "  <use xlink:href=\"#glyph0-6\" x=\"296.978516\" y=\"166.335938\"/>\n",
       "  <use xlink:href=\"#glyph0-5\" x=\"303.986328\" y=\"166.335938\"/>\n",
       "  <use xlink:href=\"#glyph0-7\" x=\"307.320313\" y=\"166.335938\"/>\n",
       "  <use xlink:href=\"#glyph0-8\" x=\"313.994141\" y=\"166.335938\"/>\n",
       "  <use xlink:href=\"#glyph0-9\" x=\"317.328125\" y=\"166.335938\"/>\n",
       "</g>\n",
       "<g style=\"fill:rgb(0%,0%,0%);fill-opacity:1;\">\n",
       "  <use xlink:href=\"#glyph0-10\" x=\"222.5625\" y=\"224.8125\"/>\n",
       "  <use xlink:href=\"#glyph0-3\" x=\"229.892578\" y=\"224.8125\"/>\n",
       "  <use xlink:href=\"#glyph0-11\" x=\"236.566406\" y=\"224.8125\"/>\n",
       "  <use xlink:href=\"#glyph0-2\" x=\"240.5625\" y=\"224.8125\"/>\n",
       "  <use xlink:href=\"#glyph0-5\" x=\"247.236328\" y=\"224.8125\"/>\n",
       "  <use xlink:href=\"#glyph0-6\" x=\"250.570313\" y=\"224.8125\"/>\n",
       "  <use xlink:href=\"#glyph0-5\" x=\"257.578125\" y=\"224.8125\"/>\n",
       "  <use xlink:href=\"#glyph0-7\" x=\"260.912109\" y=\"224.8125\"/>\n",
       "  <use xlink:href=\"#glyph0-8\" x=\"267.585938\" y=\"224.8125\"/>\n",
       "  <use xlink:href=\"#glyph0-9\" x=\"270.919922\" y=\"224.8125\"/>\n",
       "</g>\n",
       "<g style=\"fill:rgb(0%,0%,0%);fill-opacity:1;\">\n",
       "  <use xlink:href=\"#glyph0-12\" x=\"182.234375\" y=\"283.402344\"/>\n",
       "  <use xlink:href=\"#glyph0-11\" x=\"191.568359\" y=\"283.402344\"/>\n",
       "  <use xlink:href=\"#glyph0-0\" x=\"195.564453\" y=\"283.402344\"/>\n",
       "  <use xlink:href=\"#glyph0-5\" x=\"199.560547\" y=\"283.402344\"/>\n",
       "  <use xlink:href=\"#glyph0-6\" x=\"202.894531\" y=\"283.402344\"/>\n",
       "  <use xlink:href=\"#glyph0-5\" x=\"209.902344\" y=\"283.402344\"/>\n",
       "  <use xlink:href=\"#glyph0-7\" x=\"213.236328\" y=\"283.402344\"/>\n",
       "  <use xlink:href=\"#glyph0-8\" x=\"219.910156\" y=\"283.402344\"/>\n",
       "  <use xlink:href=\"#glyph0-9\" x=\"223.244141\" y=\"283.402344\"/>\n",
       "</g>\n",
       "<path style=\"fill-rule:nonzero;fill:rgb(100%,100%,100%);fill-opacity:1;stroke-width:0.75;stroke-linecap:round;stroke-linejoin:round;stroke:rgb(0%,0%,0%);stroke-opacity:1;stroke-miterlimit:10;\" d=\"M 142.550781 337.640625 L 142.84375 335.410156 L 143.707031 333.332031 L 145.074219 331.546875 L 146.859375 330.179688 L 148.9375 329.316406 L 151.167969 329.023438 L 180.988281 329.023438 L 183.21875 329.316406 L 185.296875 330.179688 L 187.082031 331.546875 L 188.449219 333.332031 L 189.308594 335.410156 L 189.605469 337.640625 L 189.308594 339.871094 L 188.449219 341.949219 L 187.082031 343.730469 L 185.296875 345.101563 L 183.21875 345.960938 L 180.988281 346.253906 L 151.167969 346.253906 L 148.9375 345.960938 L 146.859375 345.101563 L 145.074219 343.730469 L 143.707031 341.949219 L 142.84375 339.871094 Z M 142.550781 337.640625 \"/>\n",
       "<path style=\"fill-rule:nonzero;fill:rgb(100%,100%,100%);fill-opacity:1;stroke-width:0.75;stroke-linecap:round;stroke-linejoin:round;stroke:rgb(0%,0%,0%);stroke-opacity:1;stroke-miterlimit:10;\" d=\"M 224.988281 337.640625 L 225.28125 335.410156 L 226.144531 333.332031 L 227.511719 331.546875 L 229.296875 330.179688 L 231.375 329.316406 L 233.605469 329.023438 L 258.550781 329.023438 L 260.78125 329.316406 L 262.859375 330.179688 L 264.644531 331.546875 L 266.015625 333.332031 L 266.875 335.410156 L 267.167969 337.640625 L 266.875 339.871094 L 266.015625 341.949219 L 264.644531 343.730469 L 262.859375 345.101563 L 260.78125 345.960938 L 258.550781 346.253906 L 233.605469 346.253906 L 231.375 345.960938 L 229.296875 345.101563 L 227.511719 343.730469 L 226.144531 341.949219 L 225.28125 339.871094 Z M 224.988281 337.640625 \"/>\n",
       "<path style=\"fill-rule:nonzero;fill:rgb(100%,100%,100%);fill-opacity:1;stroke-width:0.75;stroke-linecap:round;stroke-linejoin:round;stroke:rgb(0%,0%,0%);stroke-opacity:1;stroke-miterlimit:10;\" d=\"M 272.988281 279.105469 L 273.28125 276.878906 L 274.144531 274.800781 L 275.511719 273.015625 L 277.296875 271.644531 L 279.375 270.785156 L 281.605469 270.492188 L 306.550781 270.492188 L 308.78125 270.785156 L 310.859375 271.644531 L 312.644531 273.015625 L 314.015625 274.800781 L 314.875 276.878906 L 315.167969 279.105469 L 314.875 281.335938 L 314.015625 283.414063 L 312.644531 285.199219 L 310.859375 286.570313 L 308.78125 287.429688 L 306.550781 287.722656 L 281.605469 287.722656 L 279.375 287.429688 L 277.296875 286.570313 L 275.511719 285.199219 L 274.144531 283.414063 L 273.28125 281.335938 Z M 272.988281 279.105469 \"/>\n",
       "<path style=\"fill-rule:nonzero;fill:rgb(100%,100%,100%);fill-opacity:1;stroke-width:0.75;stroke-linecap:round;stroke-linejoin:round;stroke:rgb(0%,0%,0%);stroke-opacity:1;stroke-miterlimit:10;\" d=\"M 317.789063 220.574219 L 318.082031 218.34375 L 318.941406 216.265625 L 320.3125 214.484375 L 322.097656 213.113281 L 324.175781 212.253906 L 326.40625 211.957031 L 351.351563 211.957031 L 353.582031 212.253906 L 355.660156 213.113281 L 357.445313 214.484375 L 358.816406 216.265625 L 359.675781 218.34375 L 359.96875 220.574219 L 359.675781 222.804688 L 358.816406 224.882813 L 357.445313 226.667969 L 355.660156 228.035156 L 353.582031 228.898438 L 351.351563 229.191406 L 326.40625 229.191406 L 324.175781 228.898438 L 322.097656 228.035156 L 320.3125 226.667969 L 318.941406 224.882813 L 318.082031 222.804688 Z M 317.789063 220.574219 \"/>\n",
       "<g style=\"fill:rgb(0%,0%,0%);fill-opacity:1;\">\n",
       "  <use xlink:href=\"#glyph1-0\" x=\"147.070313\" y=\"341.933594\"/>\n",
       "  <use xlink:href=\"#glyph1-1\" x=\"154.400391\" y=\"341.933594\"/>\n",
       "  <use xlink:href=\"#glyph1-2\" x=\"162.404297\" y=\"341.933594\"/>\n",
       "  <use xlink:href=\"#glyph1-3\" x=\"169.078125\" y=\"341.933594\"/>\n",
       "  <use xlink:href=\"#glyph1-4\" x=\"177.082031\" y=\"341.933594\"/>\n",
       "</g>\n",
       "<g style=\"fill:rgb(0%,0%,0%);fill-opacity:1;\">\n",
       "  <use xlink:href=\"#glyph1-5\" x=\"229.746094\" y=\"341.859375\"/>\n",
       "  <use xlink:href=\"#glyph1-6\" x=\"237.076172\" y=\"341.859375\"/>\n",
       "  <use xlink:href=\"#glyph1-7\" x=\"245.742188\" y=\"341.859375\"/>\n",
       "  <use xlink:href=\"#glyph1-4\" x=\"254.408203\" y=\"341.859375\"/>\n",
       "</g>\n",
       "<g style=\"fill:rgb(0%,0%,0%);fill-opacity:1;\">\n",
       "  <use xlink:href=\"#glyph1-5\" x=\"277.746094\" y=\"283.328125\"/>\n",
       "  <use xlink:href=\"#glyph1-6\" x=\"285.076172\" y=\"283.328125\"/>\n",
       "  <use xlink:href=\"#glyph1-7\" x=\"293.742188\" y=\"283.328125\"/>\n",
       "  <use xlink:href=\"#glyph1-4\" x=\"302.408203\" y=\"283.328125\"/>\n",
       "</g>\n",
       "<g style=\"fill:rgb(0%,0%,0%);fill-opacity:1;\">\n",
       "  <use xlink:href=\"#glyph1-5\" x=\"322.546875\" y=\"224.796875\"/>\n",
       "  <use xlink:href=\"#glyph1-6\" x=\"329.876953\" y=\"224.796875\"/>\n",
       "  <use xlink:href=\"#glyph1-7\" x=\"338.542969\" y=\"224.796875\"/>\n",
       "  <use xlink:href=\"#glyph1-4\" x=\"347.208984\" y=\"224.796875\"/>\n",
       "</g>\n",
       "<path style=\"fill-rule:nonzero;fill:rgb(100%,100%,100%);fill-opacity:1;stroke-width:0.75;stroke-linecap:round;stroke-linejoin:round;stroke:rgb(0%,0%,0%);stroke-opacity:1;stroke-miterlimit:10;\" d=\"M 232.3125 161.503906 L 232.367188 161.085938 L 232.527344 160.695313 L 232.785156 160.363281 L 233.121094 160.105469 L 233.511719 159.945313 L 233.929688 159.890625 L 253.738281 159.890625 L 254.15625 159.945313 L 254.542969 160.105469 L 254.878906 160.363281 L 255.136719 160.695313 L 255.296875 161.085938 L 255.351563 161.503906 L 255.351563 171.195313 L 255.296875 171.617188 L 255.136719 172.003906 L 254.878906 172.339844 L 254.542969 172.597656 L 254.15625 172.757813 L 253.738281 172.8125 L 233.929688 172.8125 L 233.511719 172.757813 L 233.121094 172.597656 L 232.785156 172.339844 L 232.527344 172.003906 L 232.367188 171.617188 L 232.3125 171.195313 Z M 232.3125 161.503906 \"/>\n",
       "<path style=\"fill-rule:nonzero;fill:rgb(100%,100%,100%);fill-opacity:1;stroke-width:0.75;stroke-linecap:round;stroke-linejoin:round;stroke:rgb(0%,0%,0%);stroke-opacity:1;stroke-miterlimit:10;\" d=\"M 333.605469 161.503906 L 333.660156 161.085938 L 333.820313 160.695313 L 334.078125 160.363281 L 334.414063 160.105469 L 334.800781 159.945313 L 335.21875 159.890625 L 355.027344 159.890625 L 355.445313 159.945313 L 355.835938 160.105469 L 356.171875 160.363281 L 356.429688 160.695313 L 356.589844 161.085938 L 356.644531 161.503906 L 356.644531 171.195313 L 356.589844 171.617188 L 356.429688 172.003906 L 356.171875 172.339844 L 355.835938 172.597656 L 355.445313 172.757813 L 355.027344 172.8125 L 335.21875 172.8125 L 334.800781 172.757813 L 334.414063 172.597656 L 334.078125 172.339844 L 333.820313 172.003906 L 333.660156 171.617188 L 333.605469 171.195313 Z M 333.605469 161.503906 \"/>\n",
       "<g style=\"fill:rgb(0%,0%,0%);fill-opacity:1;\">\n",
       "  <use xlink:href=\"#glyph2-0\" x=\"236.363281\" y=\"168.960938\"/>\n",
       "  <use xlink:href=\"#glyph2-1\" x=\"241.163281\" y=\"168.960938\"/>\n",
       "  <use xlink:href=\"#glyph2-2\" x=\"246.502344\" y=\"168.960938\"/>\n",
       "</g>\n",
       "<g style=\"fill:rgb(0%,0%,0%);fill-opacity:1;\">\n",
       "  <use xlink:href=\"#glyph2-3\" x=\"339.785156\" y=\"168.839844\"/>\n",
       "  <use xlink:href=\"#glyph2-4\" x=\"345.124219\" y=\"168.839844\"/>\n",
       "</g>\n",
       "</g>\n",
       "</svg>\n"
      ],
      "text/plain": [
       "plot without title"
      ]
     },
     "metadata": {
      "image/svg+xml": {
       "isolated": true
      }
     },
     "output_type": "display_data"
    }
   ],
   "source": [
    "prp(tweetCART)"
   ]
  },
  {
   "cell_type": "code",
   "execution_count": null,
   "metadata": {
    "collapsed": true
   },
   "outputs": [],
   "source": []
  },
  {
   "cell_type": "code",
   "execution_count": null,
   "metadata": {
    "collapsed": true
   },
   "outputs": [],
   "source": []
  },
  {
   "cell_type": "code",
   "execution_count": 89,
   "metadata": {
    "collapsed": true
   },
   "outputs": [],
   "source": [
    "# #PERFORMANCE\n",
    "predictCART = predict(tweetCART, newdata=testSparse, type=\"class\")"
   ]
  },
  {
   "cell_type": "code",
   "execution_count": 90,
   "metadata": {
    "collapsed": false
   },
   "outputs": [
    {
     "data": {
      "text/plain": [
       "       predictCART\n",
       "        FALSE TRUE\n",
       "  FALSE   294    6\n",
       "  TRUE     37   18"
      ]
     },
     "metadata": {},
     "output_type": "display_data"
    }
   ],
   "source": [
    "table(testSparse$Negative, predictCART)"
   ]
  },
  {
   "cell_type": "code",
   "execution_count": null,
   "metadata": {
    "collapsed": true
   },
   "outputs": [],
   "source": []
  },
  {
   "cell_type": "code",
   "execution_count": 91,
   "metadata": {
    "collapsed": false
   },
   "outputs": [
    {
     "data": {
      "text/html": [
       "0.87887323943662"
      ],
      "text/latex": [
       "0.87887323943662"
      ],
      "text/markdown": [
       "0.87887323943662"
      ],
      "text/plain": [
       "[1] 0.8788732"
      ]
     },
     "metadata": {},
     "output_type": "display_data"
    }
   ],
   "source": [
    "(294+18)/(294+6+37+18)"
   ]
  },
  {
   "cell_type": "code",
   "execution_count": null,
   "metadata": {
    "collapsed": true
   },
   "outputs": [],
   "source": []
  },
  {
   "cell_type": "code",
   "execution_count": 92,
   "metadata": {
    "collapsed": false
   },
   "outputs": [
    {
     "data": {
      "text/plain": [
       "\n",
       "FALSE  TRUE \n",
       "  300    55 "
      ]
     },
     "metadata": {},
     "output_type": "display_data"
    }
   ],
   "source": [
    "table(testSparse$Negative)"
   ]
  },
  {
   "cell_type": "code",
   "execution_count": 93,
   "metadata": {
    "collapsed": false
   },
   "outputs": [
    {
     "data": {
      "text/html": [
       "0.929577464788732"
      ],
      "text/latex": [
       "0.929577464788732"
      ],
      "text/markdown": [
       "0.929577464788732"
      ],
      "text/plain": [
       "[1] 0.9295775"
      ]
     },
     "metadata": {},
     "output_type": "display_data"
    }
   ],
   "source": [
    "330/355"
   ]
  },
  {
   "cell_type": "code",
   "execution_count": null,
   "metadata": {
    "collapsed": true
   },
   "outputs": [],
   "source": []
  },
  {
   "cell_type": "code",
   "execution_count": null,
   "metadata": {
    "collapsed": true
   },
   "outputs": [],
   "source": []
  },
  {
   "cell_type": "code",
   "execution_count": null,
   "metadata": {
    "collapsed": true
   },
   "outputs": [],
   "source": []
  },
  {
   "cell_type": "code",
   "execution_count": 94,
   "metadata": {
    "collapsed": false
   },
   "outputs": [
    {
     "name": "stderr",
     "output_type": "stream",
     "text": [
      "Warning message:\n",
      ": package 'randomForest' was built under R version 3.2.5randomForest 4.6-12\n",
      "Type rfNews() to see new features/changes/bug fixes.\n"
     ]
    }
   ],
   "source": [
    "# #RANDOM FOREST\n",
    "library(randomForest)\n",
    "set.seed(123)"
   ]
  },
  {
   "cell_type": "code",
   "execution_count": 98,
   "metadata": {
    "collapsed": true
   },
   "outputs": [],
   "source": [
    "# #Time Taken is very very long\n",
    "tweetRF = randomForest(Negative ~ ., data=trainSparse)"
   ]
  },
  {
   "cell_type": "code",
   "execution_count": null,
   "metadata": {
    "collapsed": true
   },
   "outputs": [],
   "source": []
  },
  {
   "cell_type": "code",
   "execution_count": 99,
   "metadata": {
    "collapsed": true
   },
   "outputs": [],
   "source": [
    "predictRF = predict(tweetRF, newdata=testSparse)"
   ]
  },
  {
   "cell_type": "code",
   "execution_count": 100,
   "metadata": {
    "collapsed": false
   },
   "outputs": [
    {
     "data": {
      "text/plain": [
       "       predictRF\n",
       "        FALSE TRUE\n",
       "  FALSE   292    8\n",
       "  TRUE     32   23"
      ]
     },
     "metadata": {},
     "output_type": "display_data"
    }
   ],
   "source": [
    "table(testSparse$Negative, predictRF)"
   ]
  },
  {
   "cell_type": "code",
   "execution_count": 101,
   "metadata": {
    "collapsed": false
   },
   "outputs": [
    {
     "data": {
      "text/html": [
       "0.887323943661972"
      ],
      "text/latex": [
       "0.887323943661972"
      ],
      "text/markdown": [
       "0.887323943661972"
      ],
      "text/plain": [
       "[1] 0.8873239"
      ]
     },
     "metadata": {},
     "output_type": "display_data"
    }
   ],
   "source": [
    "(292+23)/(292+32+8+23)"
   ]
  },
  {
   "cell_type": "code",
   "execution_count": null,
   "metadata": {
    "collapsed": true
   },
   "outputs": [],
   "source": []
  },
  {
   "cell_type": "code",
   "execution_count": null,
   "metadata": {
    "collapsed": true
   },
   "outputs": [],
   "source": []
  },
  {
   "cell_type": "code",
   "execution_count": 110,
   "metadata": {
    "collapsed": false
   },
   "outputs": [
    {
     "name": "stderr",
     "output_type": "stream",
     "text": [
      "Warning message:\n",
      ": glm.fit: algorithm did not convergeWarning message:\n",
      ": glm.fit: fitted probabilities numerically 0 or 1 occurred"
     ]
    }
   ],
   "source": [
    "# #Logistic Regression\n",
    "tweetLog <- glm(Negative ~., data = trainSparse, family=\"binomial\")"
   ]
  },
  {
   "cell_type": "code",
   "execution_count": 111,
   "metadata": {
    "collapsed": false
   },
   "outputs": [
    {
     "data": {
      "text/plain": [
       "\n",
       "Call:\n",
       "glm(formula = Negative ~ ., family = \"binomial\", data = trainSparse)\n",
       "\n",
       "Deviance Residuals: \n",
       "   Min      1Q  Median      3Q     Max  \n",
       " -8.49    0.00    0.00    0.00    8.49  \n",
       "\n",
       "Coefficients: (7 not defined because of singularities)\n",
       "                       Estimate Std. Error    z value Pr(>|z|)    \n",
       "(Intercept)          -9.920e+14  5.330e+06 -186121946   <2e-16 ***\n",
       "X244tsuyoponzu       -3.512e+15  3.048e+07 -115204706   <2e-16 ***\n",
       "X7evenstarz           3.320e+15  4.542e+07   73106681   <2e-16 ***\n",
       "actual               -6.510e+14  2.884e+07  -22576632   <2e-16 ***\n",
       "add                  -2.485e+14  6.062e+07   -4098491   <2e-16 ***\n",
       "alreadi              -4.332e+14  3.772e+07  -11484882   <2e-16 ***\n",
       "alway                -2.046e+15  4.813e+07  -42509986   <2e-16 ***\n",
       "amaz                 -9.769e+14  3.977e+07  -24563922   <2e-16 ***\n",
       "amazon               -4.872e+15  9.950e+07  -48965124   <2e-16 ***\n",
       "android               3.365e+14  2.007e+07   16760975   <2e-16 ***\n",
       "announc              -1.801e+15  2.809e+07  -64113050   <2e-16 ***\n",
       "anyon                -6.552e+14  2.607e+07  -25128832   <2e-16 ***\n",
       "app                   2.738e+13  1.556e+07    1758907   <2e-16 ***\n",
       "appl                 -6.912e+14  1.695e+07  -40772055   <2e-16 ***\n",
       "appstor              -2.524e+15  3.697e+07  -68257124   <2e-16 ***\n",
       "arent                -7.446e+14  4.287e+07  -17367903   <2e-16 ***\n",
       "ask                  -6.210e+14  3.861e+07  -16084279   <2e-16 ***\n",
       "avail                -1.875e+15  3.782e+07  -49577225   <2e-16 ***\n",
       "away                  7.154e+14  4.471e+07   15999994   <2e-16 ***\n",
       "awesom                6.460e+14  3.464e+07   18651081   <2e-16 ***\n",
       "back                 -1.553e+15  2.304e+07  -67415341   <2e-16 ***\n",
       "batteri              -1.241e+15  3.029e+07  -40971465   <2e-16 ***\n",
       "best                  1.381e+15  3.759e+07   36735272   <2e-16 ***\n",
       "better                1.045e+15  2.169e+07   48188751   <2e-16 ***\n",
       "big                  -3.075e+15  3.069e+07 -100201087   <2e-16 ***\n",
       "bit                  -5.128e+13  2.799e+07   -1832211   <2e-16 ***\n",
       "black                 1.791e+15  3.684e+07   48610445   <2e-16 ***\n",
       "blackberri           -2.497e+15  3.251e+07  -76822782   <2e-16 ***\n",
       "break.               -1.529e+14  3.619e+07   -4224898   <2e-16 ***\n",
       "bring                -1.381e+15  3.576e+07  -38613216   <2e-16 ***\n",
       "burberri             -8.594e+14  3.593e+07  -23917714   <2e-16 ***\n",
       "busi                 -3.389e+15  3.130e+07 -108267519   <2e-16 ***\n",
       "buy                   1.431e+15  2.469e+07   57973197   <2e-16 ***\n",
       "call                  1.734e+15  3.203e+07   54125191   <2e-16 ***\n",
       "can                  -6.691e+14  1.522e+07  -43949600   <2e-16 ***\n",
       "cant                  1.008e+15  2.174e+07   46350947   <2e-16 ***\n",
       "carbon               -4.176e+15  1.194e+08  -34968909   <2e-16 ***\n",
       "card                  5.505e+15  5.740e+07   95897290   <2e-16 ***\n",
       "care                  2.252e+15  3.773e+07   59687045   <2e-16 ***\n",
       "case                  5.282e+14  3.509e+07   15051515   <2e-16 ***\n",
       "cdp                   2.523e+15  8.722e+07   28927566   <2e-16 ***\n",
       "chang                -5.299e+14  3.216e+07  -16477376   <2e-16 ***\n",
       "charg                -1.951e+14  4.422e+07   -4411679   <2e-16 ***\n",
       "charger               1.186e+15  2.806e+07   42286065   <2e-16 ***\n",
       "cheap                -6.602e+14  3.328e+07  -19836513   <2e-16 ***\n",
       "china                 8.324e+14  2.605e+07   31955599   <2e-16 ***\n",
       "color                -2.420e+15  2.638e+07  -91741761   <2e-16 ***\n",
       "colour                2.046e+15  5.176e+07   39521936   <2e-16 ***\n",
       "come                 -3.153e+14  1.973e+07  -15975480   <2e-16 ***\n",
       "compani              -7.323e+14  2.785e+07  -26296035   <2e-16 ***\n",
       "condescens           -1.414e+14  6.016e+07   -2349754   <2e-16 ***\n",
       "condom                9.909e+14  4.130e+07   23993539   <2e-16 ***\n",
       "copi                 -4.908e+14  4.424e+07  -11092514   <2e-16 ***\n",
       "crack                -2.371e+14  4.425e+07   -5358695   <2e-16 ***\n",
       "creat                 6.822e+14  3.639e+07   18748473   <2e-16 ***\n",
       "custom                5.266e+14  4.341e+07   12131948   <2e-16 ***\n",
       "darn                  9.610e+14  3.199e+07   30045163   <2e-16 ***\n",
       "data                  7.456e+14  3.652e+07   20418729   <2e-16 ***\n",
       "date                 -6.981e+14  4.424e+07  -15779974   <2e-16 ***\n",
       "day                   1.028e+15  2.777e+07   37036060   <2e-16 ***\n",
       "dear                  2.592e+14  3.169e+07    8180035   <2e-16 ***\n",
       "design               -9.111e+14  3.663e+07  -24872411   <2e-16 ***\n",
       "develop              -8.324e+14  2.670e+07  -31175032   <2e-16 ***\n",
       "devic                -1.339e+15  2.559e+07  -52321213   <2e-16 ***\n",
       "didnt                 1.604e+15  3.518e+07   45595606   <2e-16 ***\n",
       "die                   1.491e+14  3.535e+07    4218446   <2e-16 ***\n",
       "differ                1.794e+15  3.527e+07   50872052   <2e-16 ***\n",
       "disappoint            3.634e+15  3.989e+07   91103769   <2e-16 ***\n",
       "discontinu            5.583e+15  1.268e+08   44010243   <2e-16 ***\n",
       "divulg                1.254e+16  2.769e+08   45283069   <2e-16 ***\n",
       "doesnt               -7.841e+14  3.710e+07  -21138693   <2e-16 ***\n",
       "done                 -7.802e+14  3.079e+07  -25337588   <2e-16 ***\n",
       "dont                 -2.492e+14  1.925e+07  -12944299   <2e-16 ***\n",
       "download              1.767e+15  4.755e+07   37147973   <2e-16 ***\n",
       "drop                 -8.428e+14  3.445e+07  -24466250   <2e-16 ***\n",
       "email                -1.539e+15  4.057e+07  -37937950   <2e-16 ***\n",
       "emiss                 3.488e+15  1.884e+08   18512319   <2e-16 ***\n",
       "emoji                 1.155e+14  3.459e+07    3337948   <2e-16 ***\n",
       "even                  1.389e+15  3.862e+07   35965471   <2e-16 ***\n",
       "event                 5.767e+13  3.959e+07    1456666   <2e-16 ***\n",
       "ever                  8.057e+14  4.475e+07   18003760   <2e-16 ***\n",
       "everi                 9.798e+14  2.653e+07   36936978   <2e-16 ***\n",
       "everyth              -1.428e+15  6.367e+07  -22431131   <2e-16 ***\n",
       "facebook              4.670e+15  9.430e+07   49518767   <2e-16 ***\n",
       "fail                 -2.134e+15  3.510e+07  -60791853   <2e-16 ***\n",
       "featur               -1.217e+15  3.656e+07  -33293867   <2e-16 ***\n",
       "feel                  7.390e+14  3.921e+07   18847453   <2e-16 ***\n",
       "femal                        NA         NA         NA       NA    \n",
       "figur                -2.093e+15  4.623e+07  -45267455   <2e-16 ***\n",
       "final                -3.916e+15  5.950e+07  -65813277   <2e-16 ***\n",
       "finger               -2.286e+15  3.418e+07  -66875216   <2e-16 ***\n",
       "fingerprint           6.267e+14  2.298e+07   27267211   <2e-16 ***\n",
       "fire                  2.666e+15  4.933e+07   54035887   <2e-16 ***\n",
       "first                 2.272e+15  4.033e+07   56339922   <2e-16 ***\n",
       "fix                  -9.437e+14  3.280e+07  -28771572   <2e-16 ***\n",
       "follow                3.692e+13  2.524e+07    1462504   <2e-16 ***\n",
       "freak                 2.097e+15  1.269e+07  165225698   <2e-16 ***\n",
       "free                  2.114e+15  3.469e+07   60939553   <2e-16 ***\n",
       "fun                  -1.567e+15  3.393e+07  -46201740   <2e-16 ***\n",
       "generat               1.852e+15  4.350e+07   42573374   <2e-16 ***\n",
       "genius               -2.628e+15  5.186e+07  -50667479   <2e-16 ***\n",
       "get                  -6.566e+13  1.286e+07   -5106639   <2e-16 ***\n",
       "give                 -3.812e+14  2.563e+07  -14870312   <2e-16 ***\n",
       "gold                 -1.559e+15  2.879e+07  -54155667   <2e-16 ***\n",
       "gonna                -1.788e+15  3.398e+07  -52618673   <2e-16 ***\n",
       "good                  1.136e+15  3.393e+07   33471389   <2e-16 ***\n",
       "googl                 1.467e+14  2.303e+07    6369817   <2e-16 ***\n",
       "got                   4.316e+13  3.399e+07    1269862   <2e-16 ***\n",
       "great                -2.490e+15  4.510e+07  -55196981   <2e-16 ***\n",
       "guess                -1.447e+15  4.829e+07  -29963925   <2e-16 ***\n",
       "guy                  -1.888e+15  3.129e+07  -60353010   <2e-16 ***\n",
       "happen               -4.466e+14  4.406e+07  -10135592   <2e-16 ***\n",
       "happi                 3.524e+13  4.359e+07     808339   <2e-16 ***\n",
       "hate                  2.864e+15  2.513e+07  113942314   <2e-16 ***\n",
       "help                 -2.217e+15  2.513e+07  -88221557   <2e-16 ***\n",
       "hey                  -7.702e+14  2.554e+07  -30158081   <2e-16 ***\n",
       "hope                  1.540e+15  3.280e+07   46963460   <2e-16 ***\n",
       "hour                 -1.241e+15  3.524e+07  -35216396   <2e-16 ***\n",
       "httpbitly18xc8dk     -3.519e+15  9.701e+07  -36270736   <2e-16 ***\n",
       "ibrooklynb           -7.461e+14  3.801e+07  -19631078   <2e-16 ***\n",
       "idea                 -3.151e+14  4.436e+07   -7104439   <2e-16 ***\n",
       "ill                   1.592e+15  5.577e+07   28550971   <2e-16 ***\n",
       "imessag               2.580e+15  3.977e+07   64866978   <2e-16 ***\n",
       "impress              -1.585e+15  3.082e+07  -51432568   <2e-16 ***\n",
       "improv                2.459e+15  3.456e+07   71148844   <2e-16 ***\n",
       "innov                -2.897e+14  2.963e+07   -9779021   <2e-16 ***\n",
       "instead              -9.517e+14  4.377e+07  -21741191   <2e-16 ***\n",
       "internet              3.517e+15  4.725e+07   74424141   <2e-16 ***\n",
       "ios7                  1.077e+15  2.211e+07   48720725   <2e-16 ***\n",
       "ipad                  3.842e+14  1.632e+07   23536437   <2e-16 ***\n",
       "iphon                 4.034e+14  7.159e+06   56348498   <2e-16 ***\n",
       "iphone4               8.370e+14  4.920e+07   17011644   <2e-16 ***\n",
       "iphone5              -2.650e+14  1.469e+07  -18039241   <2e-16 ***\n",
       "iphone5c             -4.317e+14  1.722e+07  -25076039   <2e-16 ***\n",
       "iphoto               -3.675e+15  8.144e+07  -45124501   <2e-16 ***\n",
       "ipod                 -2.373e+14  4.168e+07   -5693496   <2e-16 ***\n",
       "ipodplayerpromo       6.606e+15  7.369e+07   89647465   <2e-16 ***\n",
       "isnt                 -1.441e+15  3.342e+07  -43103965   <2e-16 ***\n",
       "itun                  7.812e+14  2.475e+07   31560052   <2e-16 ***\n",
       "ive                  -1.262e+15  4.976e+07  -25356172   <2e-16 ***\n",
       "job                   2.602e+15  5.409e+07   48117038   <2e-16 ***\n",
       "just                  8.734e+13  1.485e+07    5882622   <2e-16 ***\n",
       "keynot               -1.334e+15  3.632e+07  -36721219   <2e-16 ***\n",
       "know                 -4.863e+14  2.869e+07  -16949842   <2e-16 ***\n",
       "last                 -1.376e+15  4.573e+07  -30084509   <2e-16 ***\n",
       "launch               -1.608e+15  4.400e+07  -36542265   <2e-16 ***\n",
       "let                  -1.004e+15  3.636e+07  -27622165   <2e-16 ***\n",
       "life                  1.954e+15  3.133e+07   62366326   <2e-16 ***\n",
       "like                  5.764e+14  1.380e+07   41765284   <2e-16 ***\n",
       "line                  1.388e+15  5.901e+07   23515558   <2e-16 ***\n",
       "lmao                 -1.409e+15  4.065e+07  -34661281   <2e-16 ***\n",
       "lock                 -2.337e+15  4.315e+07  -54161302   <2e-16 ***\n",
       "lol                  -6.485e+14  2.226e+07  -29127812   <2e-16 ***\n",
       "look                  2.656e+14  1.927e+07   13782493   <2e-16 ***\n",
       "los                  -9.306e+14  6.879e+07  -13528659   <2e-16 ***\n",
       "lost                 -6.318e+14  4.914e+07  -12858075   <2e-16 ***\n",
       "love                 -1.666e+15  2.229e+07  -74734388   <2e-16 ***\n",
       "mac                   3.766e+14  2.872e+07   13113385   <2e-16 ***\n",
       "macbook              -9.998e+14  3.650e+07  -27388234   <2e-16 ***\n",
       "made                 -8.935e+14  3.428e+07  -26062597   <2e-16 ***\n",
       "make                 -6.734e+14  1.544e+07  -43616051   <2e-16 ***\n",
       "man                  -9.857e+14  3.996e+07  -24666737   <2e-16 ***\n",
       "mani                  1.215e+15  4.655e+07   26103391   <2e-16 ***\n",
       "market                2.390e+15  2.693e+07   88733398   <2e-16 ***\n",
       "mayb                 -3.745e+14  3.961e+07   -9455839   <2e-16 ***\n",
       "mean                 -1.588e+15  4.017e+07  -39534427   <2e-16 ***\n",
       "microsoft            -3.889e+14  2.108e+07  -18452324   <2e-16 ***\n",
       "mishiza              -1.820e+15  3.955e+07  -46005474   <2e-16 ***\n",
       "miss                  7.058e+14  4.084e+07   17282812   <2e-16 ***\n",
       "mobil                -1.577e+15  2.734e+07  -57687714   <2e-16 ***\n",
       "money                 1.905e+15  6.131e+07   31068521   <2e-16 ***\n",
       "motorola              2.762e+14  4.287e+07    6441942   <2e-16 ***\n",
       "move                  8.100e+14  5.308e+07   15260277   <2e-16 ***\n",
       "much                  8.625e+14  3.177e+07   27149904   <2e-16 ***\n",
       "music                -2.047e+15  6.402e+07  -31972989   <2e-16 ***\n",
       "natz0711                     NA         NA         NA       NA    \n",
       "need                 -1.031e+15  1.821e+07  -56634219   <2e-16 ***\n",
       "never                -1.312e+15  3.783e+07  -34672497   <2e-16 ***\n",
       "new                  -1.944e+14  1.066e+07  -18233735   <2e-16 ***\n",
       "news                 -4.306e+14  3.033e+07  -14198849   <2e-16 ***\n",
       "next.                 8.719e+13  2.615e+07    3334199   <2e-16 ***\n",
       "nfc                  -3.264e+15  4.427e+07  -73747737   <2e-16 ***\n",
       "nokia                 4.489e+14  2.443e+07   18373562   <2e-16 ***\n",
       "noth                  5.356e+14  4.374e+07   12245957   <2e-16 ***\n",
       "now                  -2.905e+14  1.603e+07  -18118583   <2e-16 ***\n",
       "nsa                   1.054e+15  3.148e+07   33483727   <2e-16 ***\n",
       "nuevo                -1.511e+15  6.661e+07  -22686533   <2e-16 ***\n",
       "offer                -2.593e+15  3.757e+07  -69009890   <2e-16 ***\n",
       "old                   3.533e+14  3.002e+07   11768190   <2e-16 ***\n",
       "one                  -1.058e+15  1.629e+07  -64937198   <2e-16 ***\n",
       "page                 -2.668e+15  4.623e+07  -57713378   <2e-16 ***\n",
       "para                 -2.153e+13  3.057e+07    -704422   <2e-16 ***\n",
       "peopl                 5.416e+14  2.695e+07   20094078   <2e-16 ***\n",
       "perfect              -2.438e+15  6.262e+07  -38931998   <2e-16 ***\n",
       "person                2.290e+15  4.550e+07   50334918   <2e-16 ***\n",
       "phone                -7.809e+13  1.304e+07   -5986305   <2e-16 ***\n",
       "photog                       NA         NA         NA       NA    \n",
       "photographi                  NA         NA         NA       NA    \n",
       "pictur                7.211e+14  3.441e+07   20955765   <2e-16 ***\n",
       "plastic               9.234e+14  3.327e+07   27755114   <2e-16 ***\n",
       "play                 -1.052e+15  4.390e+07  -23965058   <2e-16 ***\n",
       "pleas                -5.337e+14  2.295e+07  -23251584   <2e-16 ***\n",
       "ppl                  -1.572e+14  2.959e+07   -5312932   <2e-16 ***\n",
       "preorder             -2.024e+15  2.873e+07  -70462512   <2e-16 ***\n",
       "price                -9.421e+14  2.412e+07  -39068684   <2e-16 ***\n",
       "print                -2.838e+15  4.089e+07  -69403665   <2e-16 ***\n",
       "pro                  -9.754e+14  6.541e+07  -14911571   <2e-16 ***\n",
       "problem               1.375e+15  3.855e+07   35669826   <2e-16 ***\n",
       "product               4.819e+14  3.426e+07   14068332   <2e-16 ***\n",
       "promo                -3.915e+15  4.806e+07  -81457922   <2e-16 ***\n",
       "promoipodplayerpromo -1.094e+16  7.035e+07 -155553600   <2e-16 ***\n",
       "put                  -9.324e+14  3.625e+07  -25723463   <2e-16 ***\n",
       "que                  -1.480e+15  2.548e+07  -58060104   <2e-16 ***\n",
       "quiet                        NA         NA         NA       NA    \n",
       "read                  4.265e+14  8.949e+07    4765958   <2e-16 ***\n",
       "realli               -1.509e+15  1.961e+07  -76933878   <2e-16 ***\n",
       "recommend                    NA         NA         NA       NA    \n",
       "refus                -1.072e+16  2.319e+08  -46252121   <2e-16 ***\n",
       "releas               -1.722e+15  2.651e+07  -64967621   <2e-16 ***\n",
       "right                -2.669e+15  3.356e+07  -79508547   <2e-16 ***\n",
       "said                 -2.922e+14  4.600e+07   -6351751   <2e-16 ***\n",
       "samsung              -1.242e+15  2.135e+07  -58197926   <2e-16 ***\n",
       "samsungsa                    NA         NA         NA       NA    \n",
       "say                  -1.500e+15  2.609e+07  -57480690   <2e-16 ***\n",
       "scanner              -8.666e+14  3.764e+07  -23020957   <2e-16 ***\n",
       "screen                2.259e+15  3.255e+07   69383914   <2e-16 ***\n",
       "secur                 6.985e+12  4.003e+07     174475   <2e-16 ***\n",
       "see                  -1.623e+15  3.483e+07  -46614830   <2e-16 ***\n",
       "seem                 -9.348e+12  3.886e+07    -240535   <2e-16 ***\n",
       "sell                  2.744e+14  3.400e+07    8071396   <2e-16 ***\n",
       "send                 -3.054e+15  4.526e+07  -67467247   <2e-16 ***\n",
       "servic               -2.318e+15  3.904e+07  -59374031   <2e-16 ***\n",
       "shame                 5.907e+15  8.598e+07   68703308   <2e-16 ***\n",
       "share                 2.398e+14  3.103e+07    7727118   <2e-16 ***\n",
       "short                 2.156e+15  4.595e+07   46911907   <2e-16 ***\n",
       "show                 -1.467e+15  4.690e+07  -31288005   <2e-16 ***\n",
       "simpl                -4.349e+13  4.840e+07    -898616   <2e-16 ***\n",
       "sinc                 -1.113e+15  3.599e+07  -30920970   <2e-16 ***\n",
       "siri                  9.395e+14  2.898e+07   32413223   <2e-16 ***\n",
       "smart                -3.077e+15  5.420e+07  -56761341   <2e-16 ***\n",
       "smartphon             2.800e+15  4.402e+07   63611401   <2e-16 ***\n",
       "someth               -1.560e+15  4.485e+07  -34790507   <2e-16 ***\n",
       "soon                 -1.672e+14  5.329e+07   -3136755   <2e-16 ***\n",
       "stand                 2.732e+14  4.622e+07    5910391   <2e-16 ***\n",
       "start                 2.123e+15  3.619e+07   58667153   <2e-16 ***\n",
       "steve                -4.293e+14  3.778e+07  -11364073   <2e-16 ***\n",
       "still                 7.638e+14  2.562e+07   29817436   <2e-16 ***\n",
       "stop                 -1.240e+15  2.912e+07  -42578608   <2e-16 ***\n",
       "store                 1.864e+14  1.566e+07   11900466   <2e-16 ***\n",
       "stuff                 4.245e+14  3.041e+07   13960403   <2e-16 ***\n",
       "stupid                2.763e+15  3.776e+07   73172248   <2e-16 ***\n",
       "suck                  2.599e+15  5.902e+07   44037893   <2e-16 ***\n",
       "support              -9.165e+14  2.526e+07  -36281575   <2e-16 ***\n",
       "sure                  6.069e+14  2.444e+07   24836843   <2e-16 ***\n",
       "switch                1.249e+15  3.713e+07   33644639   <2e-16 ***\n",
       "take                  1.724e+15  3.049e+07   56537983   <2e-16 ***\n",
       "talk                  1.025e+15  4.092e+07   25040996   <2e-16 ***\n",
       "team                  1.050e+15  4.279e+07   24538170   <2e-16 ***\n",
       "tech                 -2.888e+14  2.826e+07  -10217535   <2e-16 ***\n",
       "technolog             1.007e+15  4.789e+07   21037368   <2e-16 ***\n",
       "tell                 -5.451e+15  3.032e+07 -179775002   <2e-16 ***\n",
       "text                 -1.379e+15  2.855e+07  -48298573   <2e-16 ***\n",
       "thank                 5.329e+14  1.624e+07   32822779   <2e-16 ***\n",
       "that                  1.118e+15  2.743e+07   40760352   <2e-16 ***\n",
       "theyr                 2.258e+15  4.140e+07   54550146   <2e-16 ***\n",
       "thing                 1.728e+14  2.813e+07    6144387   <2e-16 ***\n",
       "think                 7.068e+13  1.731e+07    4083295   <2e-16 ***\n",
       "tho                  -1.151e+15  4.034e+07  -28540721   <2e-16 ***\n",
       "thought               1.268e+15  3.416e+07   37105675   <2e-16 ***\n",
       "time                 -1.047e+15  1.910e+07  -54839450   <2e-16 ***\n",
       "today                -1.667e+15  3.284e+07  -50750509   <2e-16 ***\n",
       "togeth               -2.722e+14  4.243e+07   -6414600   <2e-16 ***\n",
       "touch                -2.081e+15  3.590e+07  -57972514   <2e-16 ***\n",
       "touchid              -5.763e+14  3.271e+07  -17618155   <2e-16 ***\n",
       "tri                  -4.530e+13  2.578e+07   -1757417   <2e-16 ***\n",
       "true                  3.177e+14  4.744e+07    6697083   <2e-16 ***\n",
       "turn                 -2.118e+14  3.881e+07   -5456837   <2e-16 ***\n",
       "twitter              -1.261e+15  2.130e+07  -59190038   <2e-16 ***\n",
       "two                   1.137e+15  3.708e+07   30660787   <2e-16 ***\n",
       "updat                -1.147e+15  2.349e+07  -48832312   <2e-16 ***\n",
       "upgrad                1.557e+15  3.412e+07   45634466   <2e-16 ***\n",
       "use                  -3.404e+14  1.998e+07  -17038738   <2e-16 ***\n",
       "user                 -1.068e+15  4.875e+07  -21900372   <2e-16 ***\n",
       "via                  -2.463e+14  2.744e+07   -8974367   <2e-16 ***\n",
       "video                -1.236e+13  3.166e+07    -390310   <2e-16 ***\n",
       "wait                 -4.773e+12  2.648e+07    -180255   <2e-16 ***\n",
       "want                 -2.310e+14  2.132e+07  -10835058   <2e-16 ***\n",
       "watch                -1.968e+15  4.225e+07  -46582416   <2e-16 ***\n",
       "way                   7.861e+14  2.652e+07   29641136   <2e-16 ***\n",
       "week                 -6.609e+14  3.010e+07  -21955268   <2e-16 ***\n",
       "well                 -2.519e+14  2.428e+07  -10377566   <2e-16 ***\n",
       "what                 -1.850e+15  3.505e+07  -52780776   <2e-16 ***\n",
       "white                -2.057e+15  3.818e+07  -53871109   <2e-16 ***\n",
       "will                 -1.038e+15  1.517e+07  -68429967   <2e-16 ***\n",
       "windowsphon          -4.693e+14  3.529e+07  -13297779   <2e-16 ***\n",
       "wish                  2.394e+14  3.563e+07    6719950   <2e-16 ***\n",
       "without               1.722e+15  1.229e+08   14007378   <2e-16 ***\n",
       "wonder               -3.056e+15  4.465e+07  -68436414   <2e-16 ***\n",
       "wont                  1.125e+15  2.439e+07   46131994   <2e-16 ***\n",
       "work                 -6.739e+14  2.149e+07  -31352752   <2e-16 ***\n",
       "world                -1.100e+15  3.288e+07  -33464853   <2e-16 ***\n",
       "worst                -1.570e+15  4.205e+07  -37326100   <2e-16 ***\n",
       "wow                  -3.132e+15  4.167e+07  -75154670   <2e-16 ***\n",
       "wtf                   3.893e+15  3.388e+07  114906122   <2e-16 ***\n",
       "yall                 -1.082e+15  2.750e+07  -39331174   <2e-16 ***\n",
       "year                  3.767e+15  3.637e+07  103575648   <2e-16 ***\n",
       "yes                   1.477e+15  4.189e+07   35246920   <2e-16 ***\n",
       "yet                  -1.509e+15  3.875e+07  -38942395   <2e-16 ***\n",
       "yooo                  2.243e+15  4.613e+07   48624264   <2e-16 ***\n",
       "your                  1.373e+15  2.973e+07   46175370   <2e-16 ***\n",
       "---\n",
       "Signif. codes:  0 '***' 0.001 '**' 0.01 '*' 0.05 '.' 0.1 ' ' 1\n",
       "\n",
       "(Dispersion parameter for binomial family taken to be 1)\n",
       "\n",
       "    Null deviance:  708.98  on 825  degrees of freedom\n",
       "Residual deviance: 2523.06  on 523  degrees of freedom\n",
       "AIC: 3129.1\n",
       "\n",
       "Number of Fisher Scoring iterations: 25\n"
      ]
     },
     "metadata": {},
     "output_type": "display_data"
    }
   ],
   "source": [
    "summary(tweetLog)"
   ]
  },
  {
   "cell_type": "code",
   "execution_count": 112,
   "metadata": {
    "collapsed": false
   },
   "outputs": [
    {
     "name": "stderr",
     "output_type": "stream",
     "text": [
      "Warning message:\n",
      "In predict.lm(object, newdata, se.fit, scale = 1, type = ifelse(type == : prediction from a rank-deficient fit may be misleading"
     ]
    }
   ],
   "source": [
    "predictions <- predict(tweetLog, newdata = testSparse, type = \"response\")"
   ]
  },
  {
   "cell_type": "code",
   "execution_count": 113,
   "metadata": {
    "collapsed": false
   },
   "outputs": [
    {
     "data": {
      "text/plain": [
       "       \n",
       "        FALSE TRUE\n",
       "  FALSE   253   47\n",
       "  TRUE     22   33"
      ]
     },
     "metadata": {},
     "output_type": "display_data"
    }
   ],
   "source": [
    "table(testSparse$Negative, predictions >= 0.5)"
   ]
  },
  {
   "cell_type": "code",
   "execution_count": 115,
   "metadata": {
    "collapsed": false
   },
   "outputs": [
    {
     "data": {
      "text/html": [
       "0.805633802816901"
      ],
      "text/latex": [
       "0.805633802816901"
      ],
      "text/markdown": [
       "0.805633802816901"
      ],
      "text/plain": [
       "[1] 0.8056338"
      ]
     },
     "metadata": {},
     "output_type": "display_data"
    }
   ],
   "source": [
    "(253+33)/(253+33+47+22)"
   ]
  },
  {
   "cell_type": "code",
   "execution_count": null,
   "metadata": {
    "collapsed": true
   },
   "outputs": [],
   "source": []
  }
 ],
 "metadata": {
  "kernelspec": {
   "display_name": "R",
   "language": "R",
   "name": "ir"
  },
  "language_info": {
   "codemirror_mode": "r",
   "file_extension": ".r",
   "mimetype": "text/x-r-source",
   "name": "R",
   "pygments_lexer": "r",
   "version": "3.2.1"
  }
 },
 "nbformat": 4,
 "nbformat_minor": 0
}
