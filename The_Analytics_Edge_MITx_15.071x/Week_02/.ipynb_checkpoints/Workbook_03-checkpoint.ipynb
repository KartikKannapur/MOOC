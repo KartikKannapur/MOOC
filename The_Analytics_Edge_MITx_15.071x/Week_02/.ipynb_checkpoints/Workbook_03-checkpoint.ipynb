{
 "cells": [
  {
   "cell_type": "markdown",
   "metadata": {},
   "source": [
    "# Moneyball"
   ]
  },
  {
   "cell_type": "code",
   "execution_count": 1,
   "metadata": {
    "collapsed": true
   },
   "outputs": [],
   "source": [
    "# #Sport Analytics"
   ]
  },
  {
   "cell_type": "code",
   "execution_count": 2,
   "metadata": {
    "collapsed": true
   },
   "outputs": [],
   "source": [
    "baseball = read.csv(\"baseball.csv\")"
   ]
  },
  {
   "cell_type": "code",
   "execution_count": 3,
   "metadata": {
    "collapsed": false
   },
   "outputs": [
    {
     "data": {
      "text/html": [
       "<table>\n",
       "<thead><tr><th></th><th scope=col>Team</th><th scope=col>League</th><th scope=col>Year</th><th scope=col>RS</th><th scope=col>RA</th><th scope=col>W</th><th scope=col>OBP</th><th scope=col>SLG</th><th scope=col>BA</th><th scope=col>Playoffs</th><th scope=col>RankSeason</th><th scope=col>RankPlayoffs</th><th scope=col>G</th><th scope=col>OOBP</th><th scope=col>OSLG</th></tr></thead>\n",
       "<tbody>\n",
       "\t<tr><th scope=row>1</th><td>ARI</td><td>NL</td><td>2012</td><td>734</td><td>688</td><td>81</td><td>0.328</td><td>0.418</td><td>0.259</td><td>0</td><td>NA</td><td>NA</td><td>162</td><td>0.317</td><td>0.415</td></tr>\n",
       "\t<tr><th scope=row>2</th><td>ATL</td><td>NL</td><td>2012</td><td>700</td><td>600</td><td>94</td><td>0.32</td><td>0.389</td><td>0.247</td><td>1</td><td>4</td><td>5</td><td>162</td><td>0.306</td><td>0.378</td></tr>\n",
       "\t<tr><th scope=row>3</th><td>BAL</td><td>AL</td><td>2012</td><td>712</td><td>705</td><td>93</td><td>0.311</td><td>0.417</td><td>0.247</td><td>1</td><td>5</td><td>4</td><td>162</td><td>0.315</td><td>0.403</td></tr>\n",
       "\t<tr><th scope=row>4</th><td>BOS</td><td>AL</td><td>2012</td><td>734</td><td>806</td><td>69</td><td>0.315</td><td>0.415</td><td>0.26</td><td>0</td><td>NA</td><td>NA</td><td>162</td><td>0.331</td><td>0.428</td></tr>\n",
       "\t<tr><th scope=row>5</th><td>CHC</td><td>NL</td><td>2012</td><td>613</td><td>759</td><td>61</td><td>0.302</td><td>0.378</td><td>0.24</td><td>0</td><td>NA</td><td>NA</td><td>162</td><td>0.335</td><td>0.424</td></tr>\n",
       "\t<tr><th scope=row>6</th><td>CHW</td><td>AL</td><td>2012</td><td>748</td><td>676</td><td>85</td><td>0.318</td><td>0.422</td><td>0.255</td><td>0</td><td>NA</td><td>NA</td><td>162</td><td>0.319</td><td>0.405</td></tr>\n",
       "</tbody>\n",
       "</table>\n"
      ],
      "text/latex": [
       "\\begin{tabular}{r|lllllllllllllll}\n",
       "  & Team & League & Year & RS & RA & W & OBP & SLG & BA & Playoffs & RankSeason & RankPlayoffs & G & OOBP & OSLG\\\\\n",
       "\\hline\n",
       "\t1 & ARI & NL & 2012 & 734 & 688 & 81 & 0.328 & 0.418 & 0.259 & 0 & NA & NA & 162 & 0.317 & 0.415\\\\\n",
       "\t2 & ATL & NL & 2012 & 700 & 600 & 94 & 0.32 & 0.389 & 0.247 & 1 & 4 & 5 & 162 & 0.306 & 0.378\\\\\n",
       "\t3 & BAL & AL & 2012 & 712 & 705 & 93 & 0.311 & 0.417 & 0.247 & 1 & 5 & 4 & 162 & 0.315 & 0.403\\\\\n",
       "\t4 & BOS & AL & 2012 & 734 & 806 & 69 & 0.315 & 0.415 & 0.26 & 0 & NA & NA & 162 & 0.331 & 0.428\\\\\n",
       "\t5 & CHC & NL & 2012 & 613 & 759 & 61 & 0.302 & 0.378 & 0.24 & 0 & NA & NA & 162 & 0.335 & 0.424\\\\\n",
       "\t6 & CHW & AL & 2012 & 748 & 676 & 85 & 0.318 & 0.422 & 0.255 & 0 & NA & NA & 162 & 0.319 & 0.405\\\\\n",
       "\\end{tabular}\n"
      ],
      "text/plain": [
       "  Team League Year  RS  RA  W   OBP   SLG    BA Playoffs RankSeason\n",
       "1  ARI     NL 2012 734 688 81 0.328 0.418 0.259        0         NA\n",
       "2  ATL     NL 2012 700 600 94 0.320 0.389 0.247        1          4\n",
       "3  BAL     AL 2012 712 705 93 0.311 0.417 0.247        1          5\n",
       "4  BOS     AL 2012 734 806 69 0.315 0.415 0.260        0         NA\n",
       "5  CHC     NL 2012 613 759 61 0.302 0.378 0.240        0         NA\n",
       "6  CHW     AL 2012 748 676 85 0.318 0.422 0.255        0         NA\n",
       "  RankPlayoffs   G  OOBP  OSLG\n",
       "1           NA 162 0.317 0.415\n",
       "2            5 162 0.306 0.378\n",
       "3            4 162 0.315 0.403\n",
       "4           NA 162 0.331 0.428\n",
       "5           NA 162 0.335 0.424\n",
       "6           NA 162 0.319 0.405"
      ]
     },
     "execution_count": 3,
     "metadata": {},
     "output_type": "execute_result"
    }
   ],
   "source": [
    "head(baseball)"
   ]
  },
  {
   "cell_type": "code",
   "execution_count": 4,
   "metadata": {
    "collapsed": false
   },
   "outputs": [
    {
     "name": "stdout",
     "output_type": "stream",
     "text": [
      "'data.frame':\t1232 obs. of  15 variables:\n",
      " $ Team        : Factor w/ 39 levels \"ANA\",\"ARI\",\"ATL\",..: 2 3 4 5 7 8 9 10 11 12 ...\n",
      " $ League      : Factor w/ 2 levels \"AL\",\"NL\": 2 2 1 1 2 1 2 1 2 1 ...\n",
      " $ Year        : int  2012 2012 2012 2012 2012 2012 2012 2012 2012 2012 ...\n",
      " $ RS          : int  734 700 712 734 613 748 669 667 758 726 ...\n",
      " $ RA          : int  688 600 705 806 759 676 588 845 890 670 ...\n",
      " $ W           : int  81 94 93 69 61 85 97 68 64 88 ...\n",
      " $ OBP         : num  0.328 0.32 0.311 0.315 0.302 0.318 0.315 0.324 0.33 0.335 ...\n",
      " $ SLG         : num  0.418 0.389 0.417 0.415 0.378 0.422 0.411 0.381 0.436 0.422 ...\n",
      " $ BA          : num  0.259 0.247 0.247 0.26 0.24 0.255 0.251 0.251 0.274 0.268 ...\n",
      " $ Playoffs    : int  0 1 1 0 0 0 1 0 0 1 ...\n",
      " $ RankSeason  : int  NA 4 5 NA NA NA 2 NA NA 6 ...\n",
      " $ RankPlayoffs: int  NA 5 4 NA NA NA 4 NA NA 2 ...\n",
      " $ G           : int  162 162 162 162 162 162 162 162 162 162 ...\n",
      " $ OOBP        : num  0.317 0.306 0.315 0.331 0.335 0.319 0.305 0.336 0.357 0.314 ...\n",
      " $ OSLG        : num  0.415 0.378 0.403 0.428 0.424 0.405 0.39 0.43 0.47 0.402 ...\n"
     ]
    }
   ],
   "source": [
    "str(baseball)"
   ]
  },
  {
   "cell_type": "code",
   "execution_count": 5,
   "metadata": {
    "collapsed": false
   },
   "outputs": [
    {
     "data": {
      "text/plain": [
       "      Team     League        Year            RS               RA        \n",
       " BAL    : 47   AL:616   Min.   :1962   Min.   : 463.0   Min.   : 472.0  \n",
       " BOS    : 47   NL:616   1st Qu.:1977   1st Qu.: 652.0   1st Qu.: 649.8  \n",
       " CHC    : 47            Median :1989   Median : 711.0   Median : 709.0  \n",
       " CHW    : 47            Mean   :1989   Mean   : 715.1   Mean   : 715.1  \n",
       " CIN    : 47            3rd Qu.:2002   3rd Qu.: 775.0   3rd Qu.: 774.2  \n",
       " CLE    : 47            Max.   :2012   Max.   :1009.0   Max.   :1103.0  \n",
       " (Other):950                                                            \n",
       "       W              OBP              SLG               BA        \n",
       " Min.   : 40.0   Min.   :0.2770   Min.   :0.3010   Min.   :0.2140  \n",
       " 1st Qu.: 73.0   1st Qu.:0.3170   1st Qu.:0.3750   1st Qu.:0.2510  \n",
       " Median : 81.0   Median :0.3260   Median :0.3960   Median :0.2600  \n",
       " Mean   : 80.9   Mean   :0.3263   Mean   :0.3973   Mean   :0.2593  \n",
       " 3rd Qu.: 89.0   3rd Qu.:0.3370   3rd Qu.:0.4210   3rd Qu.:0.2680  \n",
       " Max.   :116.0   Max.   :0.3730   Max.   :0.4910   Max.   :0.2940  \n",
       "                                                                   \n",
       "    Playoffs        RankSeason     RankPlayoffs         G        \n",
       " Min.   :0.0000   Min.   :1.000   Min.   :1.000   Min.   :158.0  \n",
       " 1st Qu.:0.0000   1st Qu.:2.000   1st Qu.:2.000   1st Qu.:162.0  \n",
       " Median :0.0000   Median :3.000   Median :3.000   Median :162.0  \n",
       " Mean   :0.1981   Mean   :3.123   Mean   :2.717   Mean   :161.9  \n",
       " 3rd Qu.:0.0000   3rd Qu.:4.000   3rd Qu.:4.000   3rd Qu.:162.0  \n",
       " Max.   :1.0000   Max.   :8.000   Max.   :5.000   Max.   :165.0  \n",
       "                  NA's   :988     NA's   :988                    \n",
       "      OOBP             OSLG       \n",
       " Min.   :0.2940   Min.   :0.3460  \n",
       " 1st Qu.:0.3210   1st Qu.:0.4010  \n",
       " Median :0.3310   Median :0.4190  \n",
       " Mean   :0.3323   Mean   :0.4197  \n",
       " 3rd Qu.:0.3430   3rd Qu.:0.4380  \n",
       " Max.   :0.3840   Max.   :0.4990  \n",
       " NA's   :812      NA's   :812     "
      ]
     },
     "execution_count": 5,
     "metadata": {},
     "output_type": "execute_result"
    }
   ],
   "source": [
    "summary(baseball)"
   ]
  },
  {
   "cell_type": "code",
   "execution_count": 6,
   "metadata": {
    "collapsed": true
   },
   "outputs": [],
   "source": [
    "# #RS - Runs Scored\n",
    "# #RA - Runs Allowed\n",
    "# #W - Wins"
   ]
  },
  {
   "cell_type": "code",
   "execution_count": null,
   "metadata": {
    "collapsed": true
   },
   "outputs": [],
   "source": []
  },
  {
   "cell_type": "code",
   "execution_count": 7,
   "metadata": {
    "collapsed": true
   },
   "outputs": [],
   "source": [
    "moneyball = subset(baseball, Year < 2002)"
   ]
  },
  {
   "cell_type": "code",
   "execution_count": 8,
   "metadata": {
    "collapsed": false
   },
   "outputs": [
    {
     "name": "stdout",
     "output_type": "stream",
     "text": [
      "'data.frame':\t902 obs. of  15 variables:\n",
      " $ Team        : Factor w/ 39 levels \"ANA\",\"ARI\",\"ATL\",..: 1 2 3 4 5 7 8 9 10 11 ...\n",
      " $ League      : Factor w/ 2 levels \"AL\",\"NL\": 1 2 2 1 1 2 1 2 1 2 ...\n",
      " $ Year        : int  2001 2001 2001 2001 2001 2001 2001 2001 2001 2001 ...\n",
      " $ RS          : int  691 818 729 687 772 777 798 735 897 923 ...\n",
      " $ RA          : int  730 677 643 829 745 701 795 850 821 906 ...\n",
      " $ W           : int  75 92 88 63 82 88 83 66 91 73 ...\n",
      " $ OBP         : num  0.327 0.341 0.324 0.319 0.334 0.336 0.334 0.324 0.35 0.354 ...\n",
      " $ SLG         : num  0.405 0.442 0.412 0.38 0.439 0.43 0.451 0.419 0.458 0.483 ...\n",
      " $ BA          : num  0.261 0.267 0.26 0.248 0.266 0.261 0.268 0.262 0.278 0.292 ...\n",
      " $ Playoffs    : int  0 1 1 0 0 0 0 0 1 0 ...\n",
      " $ RankSeason  : int  NA 5 7 NA NA NA NA NA 6 NA ...\n",
      " $ RankPlayoffs: int  NA 1 3 NA NA NA NA NA 4 NA ...\n",
      " $ G           : int  162 162 162 162 161 162 162 162 162 162 ...\n",
      " $ OOBP        : num  0.331 0.311 0.314 0.337 0.329 0.321 0.334 0.341 0.341 0.35 ...\n",
      " $ OSLG        : num  0.412 0.404 0.384 0.439 0.393 0.398 0.427 0.455 0.417 0.48 ...\n"
     ]
    }
   ],
   "source": [
    "str(moneyball)"
   ]
  },
  {
   "cell_type": "code",
   "execution_count": null,
   "metadata": {
    "collapsed": true
   },
   "outputs": [],
   "source": []
  },
  {
   "cell_type": "code",
   "execution_count": null,
   "metadata": {
    "collapsed": true
   },
   "outputs": [],
   "source": []
  },
  {
   "cell_type": "code",
   "execution_count": 9,
   "metadata": {
    "collapsed": true
   },
   "outputs": [],
   "source": [
    "# #RD - Runs Difference\n",
    "moneyball$RD = moneyball$RS - moneyball$RA"
   ]
  },
  {
   "cell_type": "code",
   "execution_count": 10,
   "metadata": {
    "collapsed": false
   },
   "outputs": [
    {
     "data": {
      "image/png": "[encoded data removed]",
      "image/svg+xml": [
       "<?xml version=\"1.0\" encoding=\"UTF-8\"?>\n",
       "<svg xmlns=\"http://www.w3.org/2000/svg\" xmlns:xlink=\"http://www.w3.org/1999/xlink\" width=\"504pt\" height=\"504pt\" viewBox=\"0 0 504 504\" version=\"1.1\">\n",
       "<defs>\n",
       "<g>\n",
       "<symbol overflow=\"visible\" id=\"glyph0-0\">\n",
       "<path style=\"stroke:none;\" d=\"M 0.382813 -2.578125 L 0.382813 -3.640625 L 3.621094 -3.640625 L 3.621094 -2.578125 Z M 0.382813 -2.578125 \"/>\n",
       "</symbol>\n",
       "<symbol overflow=\"visible\" id=\"glyph0-1\">\n",
       "<path style=\"stroke:none;\" d=\"M 0.503906 -2.265625 L 1.558594 -2.40625 C 1.679688 -1.808594 1.882813 -1.378906 2.175781 -1.113281 C 2.464844 -0.847656 2.820313 -0.714844 3.242188 -0.71875 C 3.734375 -0.714844 4.152344 -0.886719 4.496094 -1.234375 C 4.832031 -1.574219 5.003906 -2 5.007813 -2.515625 C 5.003906 -2.996094 4.847656 -3.394531 4.535156 -3.710938 C 4.21875 -4.023438 3.816406 -4.183594 3.328125 -4.183594 C 3.128906 -4.183594 2.878906 -4.144531 2.585938 -4.066406 L 2.703125 -4.992188 C 2.765625 -4.984375 2.824219 -4.980469 2.871094 -4.980469 C 3.320313 -4.980469 3.722656 -5.097656 4.085938 -5.332031 C 4.441406 -5.566406 4.621094 -5.925781 4.625 -6.414063 C 4.621094 -6.800781 4.492188 -7.121094 4.230469 -7.375 C 3.964844 -7.628906 3.625 -7.757813 3.21875 -7.757813 C 2.804688 -7.757813 2.464844 -7.628906 2.191406 -7.371094 C 1.917969 -7.113281 1.742188 -6.726563 1.664063 -6.210938 L 0.609375 -6.398438 C 0.738281 -7.105469 1.03125 -7.652344 1.488281 -8.042969 C 1.941406 -8.429688 2.507813 -8.625 3.195313 -8.625 C 3.660156 -8.625 4.09375 -8.523438 4.488281 -8.324219 C 4.878906 -8.121094 5.179688 -7.847656 5.390625 -7.5 C 5.601563 -7.148438 5.707031 -6.777344 5.707031 -6.390625 C 5.707031 -6.019531 5.605469 -5.683594 5.40625 -5.378906 C 5.207031 -5.074219 4.914063 -4.832031 4.523438 -4.652344 C 5.03125 -4.535156 5.425781 -4.289063 5.707031 -3.921875 C 5.988281 -3.546875 6.128906 -3.085938 6.128906 -2.539063 C 6.128906 -1.785156 5.855469 -1.148438 5.308594 -0.628906 C 4.761719 -0.105469 4.070313 0.152344 3.234375 0.152344 C 2.476563 0.152344 1.847656 -0.0703125 1.355469 -0.519531 C 0.855469 -0.96875 0.574219 -1.550781 0.503906 -2.265625 Z M 0.503906 -2.265625 \"/>\n",
       "</symbol>\n",
       "<symbol overflow=\"visible\" id=\"glyph0-2\">\n",
       "<path style=\"stroke:none;\" d=\"M 0.5 -4.234375 C 0.496094 -5.246094 0.601563 -6.0625 0.8125 -6.6875 C 1.019531 -7.304688 1.328125 -7.785156 1.742188 -8.121094 C 2.148438 -8.457031 2.667969 -8.625 3.296875 -8.625 C 3.757813 -8.625 4.164063 -8.53125 4.511719 -8.347656 C 4.855469 -8.160156 5.140625 -7.890625 5.371094 -7.542969 C 5.59375 -7.191406 5.773438 -6.765625 5.90625 -6.265625 C 6.035156 -5.761719 6.097656 -5.085938 6.101563 -4.234375 C 6.097656 -3.226563 5.996094 -2.414063 5.789063 -1.796875 C 5.578125 -1.175781 5.265625 -0.695313 4.859375 -0.359375 C 4.445313 -0.0195313 3.925781 0.144531 3.296875 0.148438 C 2.464844 0.144531 1.816406 -0.148438 1.347656 -0.742188 C 0.78125 -1.457031 0.496094 -2.621094 0.5 -4.234375 Z M 1.582031 -4.234375 C 1.582031 -2.824219 1.746094 -1.886719 2.074219 -1.417969 C 2.402344 -0.949219 2.808594 -0.714844 3.296875 -0.71875 C 3.777344 -0.714844 4.183594 -0.949219 4.519531 -1.421875 C 4.847656 -1.886719 5.015625 -2.824219 5.015625 -4.234375 C 5.015625 -5.648438 4.847656 -6.589844 4.519531 -7.054688 C 4.183594 -7.515625 3.773438 -7.746094 3.289063 -7.75 C 2.800781 -7.746094 2.414063 -7.542969 2.125 -7.136719 C 1.761719 -6.613281 1.582031 -5.644531 1.582031 -4.234375 Z M 1.582031 -4.234375 \"/>\n",
       "</symbol>\n",
       "<symbol overflow=\"visible\" id=\"glyph0-3\">\n",
       "<path style=\"stroke:none;\" d=\"M 6.039063 -1.015625 L 6.039063 0 L 0.363281 0 C 0.355469 -0.253906 0.394531 -0.496094 0.484375 -0.734375 C 0.628906 -1.117188 0.859375 -1.5 1.179688 -1.875 C 1.492188 -2.25 1.953125 -2.683594 2.5625 -3.175781 C 3.492188 -3.941406 4.125 -4.546875 4.453125 -4.992188 C 4.78125 -5.4375 4.945313 -5.859375 4.945313 -6.265625 C 4.945313 -6.679688 4.792969 -7.03125 4.496094 -7.320313 C 4.191406 -7.601563 3.804688 -7.746094 3.328125 -7.75 C 2.820313 -7.746094 2.414063 -7.59375 2.109375 -7.292969 C 1.804688 -6.984375 1.648438 -6.5625 1.648438 -6.03125 L 0.5625 -6.140625 C 0.632813 -6.945313 0.910156 -7.558594 1.398438 -7.988281 C 1.878906 -8.410156 2.53125 -8.625 3.351563 -8.625 C 4.171875 -8.625 4.824219 -8.394531 5.308594 -7.9375 C 5.789063 -7.480469 6.027344 -6.914063 6.03125 -6.242188 C 6.027344 -5.894531 5.957031 -5.558594 5.820313 -5.226563 C 5.675781 -4.890625 5.441406 -4.539063 5.117188 -4.175781 C 4.789063 -3.804688 4.25 -3.300781 3.492188 -2.664063 C 2.859375 -2.128906 2.453125 -1.769531 2.273438 -1.582031 C 2.09375 -1.394531 1.945313 -1.203125 1.828125 -1.015625 Z M 6.039063 -1.015625 \"/>\n",
       "</symbol>\n",
       "<symbol overflow=\"visible\" id=\"glyph0-4\">\n",
       "<path style=\"stroke:none;\" d=\"M 4.46875 0 L 3.414063 0 L 3.414063 -6.71875 C 3.160156 -6.476563 2.828125 -6.234375 2.414063 -5.996094 C 2 -5.75 1.628906 -5.570313 1.304688 -5.449219 L 1.304688 -6.46875 C 1.894531 -6.742188 2.410156 -7.078125 2.851563 -7.476563 C 3.292969 -7.871094 3.605469 -8.253906 3.789063 -8.625 L 4.46875 -8.625 Z M 4.46875 0 \"/>\n",
       "</symbol>\n",
       "<symbol overflow=\"visible\" id=\"glyph0-5\">\n",
       "<path style=\"stroke:none;\" d=\"M 0.789063 0 L 0.789063 -6.222656 L 1.734375 -6.222656 L 1.734375 -5.351563 C 1.929688 -5.648438 2.1875 -5.894531 2.511719 -6.082031 C 2.835938 -6.269531 3.207031 -6.363281 3.621094 -6.363281 C 4.082031 -6.363281 4.457031 -6.265625 4.753906 -6.074219 C 5.042969 -5.882813 5.253906 -5.617188 5.378906 -5.273438 C 5.871094 -6 6.511719 -6.363281 7.300781 -6.363281 C 7.917969 -6.363281 8.390625 -6.191406 8.722656 -5.847656 C 9.054688 -5.503906 9.222656 -4.976563 9.222656 -4.273438 L 9.222656 0 L 8.171875 0 L 8.171875 -3.921875 C 8.167969 -4.339844 8.132813 -4.644531 8.070313 -4.832031 C 8 -5.015625 7.878906 -5.164063 7.699219 -5.277344 C 7.519531 -5.390625 7.308594 -5.449219 7.066406 -5.449219 C 6.628906 -5.449219 6.265625 -5.300781 5.976563 -5.011719 C 5.6875 -4.71875 5.542969 -4.253906 5.542969 -3.617188 L 5.542969 0 L 4.488281 0 L 4.488281 -4.042969 C 4.488281 -4.511719 4.402344 -4.863281 4.230469 -5.097656 C 4.058594 -5.332031 3.777344 -5.449219 3.386719 -5.449219 C 3.089844 -5.449219 2.8125 -5.371094 2.5625 -5.214844 C 2.308594 -5.058594 2.128906 -4.828125 2.015625 -4.527344 C 1.898438 -4.226563 1.839844 -3.792969 1.84375 -3.226563 L 1.84375 0 Z M 0.789063 0 \"/>\n",
       "</symbol>\n",
       "<symbol overflow=\"visible\" id=\"glyph0-6\">\n",
       "<path style=\"stroke:none;\" d=\"M 0.398438 -3.109375 C 0.398438 -4.261719 0.71875 -5.117188 1.359375 -5.671875 C 1.894531 -6.132813 2.546875 -6.363281 3.316406 -6.363281 C 4.171875 -6.363281 4.871094 -6.082031 5.414063 -5.519531 C 5.953125 -4.957031 6.222656 -4.183594 6.226563 -3.199219 C 6.222656 -2.398438 6.101563 -1.765625 5.867188 -1.308594 C 5.625 -0.847656 5.277344 -0.492188 4.820313 -0.238281 C 4.359375 0.015625 3.859375 0.140625 3.316406 0.140625 C 2.441406 0.140625 1.734375 -0.136719 1.203125 -0.695313 C 0.664063 -1.253906 0.398438 -2.058594 0.398438 -3.109375 Z M 1.484375 -3.109375 C 1.480469 -2.308594 1.65625 -1.710938 2.003906 -1.320313 C 2.347656 -0.921875 2.785156 -0.726563 3.316406 -0.726563 C 3.839844 -0.726563 4.273438 -0.925781 4.621094 -1.324219 C 4.96875 -1.722656 5.144531 -2.328125 5.144531 -3.148438 C 5.144531 -3.914063 4.96875 -4.496094 4.617188 -4.894531 C 4.265625 -5.289063 3.832031 -5.488281 3.316406 -5.492188 C 2.785156 -5.488281 2.347656 -5.292969 2.003906 -4.898438 C 1.65625 -4.5 1.480469 -3.902344 1.484375 -3.109375 Z M 1.484375 -3.109375 \"/>\n",
       "</symbol>\n",
       "<symbol overflow=\"visible\" id=\"glyph0-7\">\n",
       "<path style=\"stroke:none;\" d=\"M 0.789063 0 L 0.789063 -6.222656 L 1.742188 -6.222656 L 1.742188 -5.335938 C 2.195313 -6.019531 2.855469 -6.363281 3.71875 -6.363281 C 4.089844 -6.363281 4.433594 -6.292969 4.753906 -6.160156 C 5.066406 -6.023438 5.304688 -5.847656 5.460938 -5.632813 C 5.617188 -5.410156 5.726563 -5.152344 5.789063 -4.851563 C 5.828125 -4.65625 5.847656 -4.3125 5.847656 -3.828125 L 5.847656 0 L 4.792969 0 L 4.792969 -3.785156 C 4.792969 -4.214844 4.75 -4.535156 4.667969 -4.75 C 4.585938 -4.960938 4.441406 -5.128906 4.234375 -5.257813 C 4.023438 -5.382813 3.777344 -5.449219 3.5 -5.449219 C 3.046875 -5.449219 2.660156 -5.304688 2.332031 -5.019531 C 2.003906 -4.734375 1.839844 -4.195313 1.84375 -3.398438 L 1.84375 0 Z M 0.789063 0 \"/>\n",
       "</symbol>\n",
       "<symbol overflow=\"visible\" id=\"glyph0-8\">\n",
       "<path style=\"stroke:none;\" d=\"M 5.050781 -2.003906 L 6.140625 -1.867188 C 5.96875 -1.230469 5.648438 -0.738281 5.183594 -0.386719 C 4.71875 -0.0351563 4.125 0.140625 3.40625 0.140625 C 2.492188 0.140625 1.769531 -0.136719 1.238281 -0.699219 C 0.699219 -1.253906 0.433594 -2.042969 0.4375 -3.058594 C 0.433594 -4.105469 0.703125 -4.917969 1.246094 -5.496094 C 1.78125 -6.074219 2.480469 -6.363281 3.34375 -6.363281 C 4.175781 -6.363281 4.855469 -6.078125 5.382813 -5.511719 C 5.910156 -4.945313 6.175781 -4.148438 6.175781 -3.125 C 6.175781 -3.058594 6.171875 -2.964844 6.171875 -2.84375 L 1.53125 -2.84375 C 1.5625 -2.15625 1.757813 -1.632813 2.109375 -1.269531 C 2.457031 -0.90625 2.890625 -0.726563 3.410156 -0.726563 C 3.796875 -0.726563 4.125 -0.828125 4.402344 -1.03125 C 4.671875 -1.234375 4.890625 -1.558594 5.050781 -2.003906 Z M 1.585938 -3.710938 L 5.0625 -3.710938 C 5.015625 -4.226563 4.882813 -4.621094 4.664063 -4.886719 C 4.328125 -5.292969 3.890625 -5.496094 3.359375 -5.496094 C 2.871094 -5.496094 2.464844 -5.332031 2.136719 -5.007813 C 1.804688 -4.683594 1.621094 -4.25 1.585938 -3.710938 Z M 1.585938 -3.710938 \"/>\n",
       "</symbol>\n",
       "<symbol overflow=\"visible\" id=\"glyph0-9\">\n",
       "<path style=\"stroke:none;\" d=\"M 0.742188 2.398438 L 0.625 1.40625 C 0.855469 1.46875 1.058594 1.5 1.230469 1.5 C 1.464844 1.5 1.652344 1.460938 1.792969 1.382813 C 1.933594 1.304688 2.046875 1.195313 2.140625 1.054688 C 2.203125 0.949219 2.3125 0.6875 2.460938 0.269531 C 2.480469 0.207031 2.511719 0.121094 2.554688 0.0117188 L 0.195313 -6.222656 L 1.328125 -6.222656 L 2.625 -2.617188 C 2.789063 -2.160156 2.9375 -1.679688 3.078125 -1.179688 C 3.195313 -1.660156 3.339844 -2.132813 3.507813 -2.59375 L 4.839844 -6.222656 L 5.894531 -6.222656 L 3.527344 0.105469 C 3.273438 0.789063 3.074219 1.257813 2.9375 1.515625 C 2.746094 1.863281 2.53125 2.117188 2.292969 2.28125 C 2.046875 2.4375 1.757813 2.519531 1.421875 2.523438 C 1.214844 2.519531 0.988281 2.476563 0.742188 2.398438 Z M 0.742188 2.398438 \"/>\n",
       "</symbol>\n",
       "<symbol overflow=\"visible\" id=\"glyph0-10\">\n",
       "<path style=\"stroke:none;\" d=\"M 1.765625 0 L 0.785156 0 L 0.785156 -8.589844 L 1.839844 -8.589844 L 1.839844 -5.523438 C 2.285156 -6.082031 2.851563 -6.363281 3.546875 -6.363281 C 3.921875 -6.363281 4.285156 -6.285156 4.628906 -6.128906 C 4.972656 -5.972656 5.253906 -5.753906 5.472656 -5.480469 C 5.691406 -5.199219 5.863281 -4.863281 5.992188 -4.46875 C 6.113281 -4.074219 6.175781 -3.652344 6.179688 -3.203125 C 6.175781 -2.136719 5.914063 -1.3125 5.390625 -0.730469 C 4.863281 -0.148438 4.230469 0.140625 3.492188 0.140625 C 2.757813 0.140625 2.179688 -0.164063 1.765625 -0.78125 Z M 1.75 -3.15625 C 1.746094 -2.410156 1.847656 -1.871094 2.054688 -1.539063 C 2.386719 -0.996094 2.835938 -0.726563 3.40625 -0.726563 C 3.859375 -0.726563 4.257813 -0.925781 4.597656 -1.328125 C 4.929688 -1.726563 5.097656 -2.324219 5.101563 -3.117188 C 5.097656 -3.929688 4.9375 -4.527344 4.617188 -4.914063 C 4.296875 -5.300781 3.90625 -5.496094 3.453125 -5.496094 C 2.984375 -5.496094 2.585938 -5.292969 2.253906 -4.894531 C 1.914063 -4.492188 1.746094 -3.914063 1.75 -3.15625 Z M 1.75 -3.15625 \"/>\n",
       "</symbol>\n",
       "<symbol overflow=\"visible\" id=\"glyph0-11\">\n",
       "<path style=\"stroke:none;\" d=\"M 4.851563 -0.765625 C 4.460938 -0.433594 4.082031 -0.199219 3.722656 -0.0625 C 3.355469 0.0742188 2.96875 0.140625 2.5625 0.140625 C 1.875 0.140625 1.351563 -0.0234375 0.984375 -0.359375 C 0.617188 -0.6875 0.433594 -1.117188 0.433594 -1.640625 C 0.433594 -1.945313 0.5 -2.222656 0.640625 -2.472656 C 0.777344 -2.722656 0.960938 -2.925781 1.1875 -3.082031 C 1.410156 -3.234375 1.664063 -3.347656 1.945313 -3.429688 C 2.152344 -3.476563 2.464844 -3.53125 2.882813 -3.585938 C 3.734375 -3.6875 4.359375 -3.808594 4.765625 -3.949219 C 4.765625 -4.089844 4.769531 -4.179688 4.769531 -4.226563 C 4.769531 -4.648438 4.667969 -4.953125 4.46875 -5.132813 C 4.199219 -5.371094 3.800781 -5.488281 3.269531 -5.492188 C 2.769531 -5.488281 2.402344 -5.402344 2.167969 -5.230469 C 1.933594 -5.054688 1.757813 -4.746094 1.648438 -4.304688 L 0.617188 -4.445313 C 0.707031 -4.886719 0.863281 -5.242188 1.078125 -5.515625 C 1.289063 -5.78125 1.597656 -5.992188 2.007813 -6.140625 C 2.410156 -6.289063 2.882813 -6.363281 3.421875 -6.363281 C 3.953125 -6.363281 4.382813 -6.300781 4.714844 -6.175781 C 5.046875 -6.050781 5.292969 -5.890625 5.449219 -5.703125 C 5.605469 -5.511719 5.714844 -5.273438 5.777344 -4.984375 C 5.808594 -4.804688 5.824219 -4.480469 5.828125 -4.015625 L 5.828125 -2.609375 C 5.824219 -1.625 5.847656 -1.003906 5.894531 -0.746094 C 5.941406 -0.484375 6.03125 -0.238281 6.164063 0 L 5.0625 0 C 4.953125 -0.21875 4.882813 -0.472656 4.851563 -0.765625 Z M 4.765625 -3.125 C 4.375 -2.964844 3.800781 -2.832031 3.039063 -2.726563 C 2.605469 -2.660156 2.300781 -2.589844 2.121094 -2.515625 C 1.941406 -2.433594 1.800781 -2.320313 1.703125 -2.171875 C 1.605469 -2.019531 1.558594 -1.851563 1.558594 -1.671875 C 1.558594 -1.386719 1.664063 -1.152344 1.875 -0.96875 C 2.085938 -0.777344 2.398438 -0.683594 2.8125 -0.6875 C 3.21875 -0.683594 3.578125 -0.773438 3.894531 -0.953125 C 4.210938 -1.128906 4.445313 -1.371094 4.59375 -1.679688 C 4.707031 -1.917969 4.761719 -2.269531 4.765625 -2.734375 Z M 4.765625 -3.125 \"/>\n",
       "</symbol>\n",
       "<symbol overflow=\"visible\" id=\"glyph0-12\">\n",
       "<path style=\"stroke:none;\" d=\"M 0.765625 0 L 0.765625 -8.589844 L 1.820313 -8.589844 L 1.820313 0 Z M 0.765625 0 \"/>\n",
       "</symbol>\n",
       "<symbol overflow=\"visible\" id=\"glyph0-13\">\n",
       "<path style=\"stroke:none;\" d=\"M 2.988281 1.234375 L 2.988281 0.179688 C 2.457031 0.113281 2.027344 0 1.699219 -0.171875 C 1.371094 -0.339844 1.085938 -0.617188 0.84375 -0.996094 C 0.601563 -1.371094 0.460938 -1.832031 0.429688 -2.382813 L 1.488281 -2.585938 C 1.566406 -2.015625 1.710938 -1.601563 1.921875 -1.335938 C 2.21875 -0.960938 2.574219 -0.75 2.988281 -0.710938 L 2.988281 -4.066406 C 2.550781 -4.144531 2.105469 -4.3125 1.65625 -4.570313 C 1.320313 -4.757813 1.0625 -5.015625 0.882813 -5.347656 C 0.699219 -5.679688 0.609375 -6.058594 0.609375 -6.480469 C 0.609375 -7.230469 0.875 -7.835938 1.40625 -8.304688 C 1.757813 -8.613281 2.285156 -8.804688 2.988281 -8.875 L 2.988281 -9.382813 L 3.609375 -9.382813 L 3.609375 -8.875 C 4.222656 -8.816406 4.707031 -8.636719 5.070313 -8.335938 C 5.523438 -7.953125 5.800781 -7.429688 5.898438 -6.761719 L 4.8125 -6.597656 C 4.746094 -7.011719 4.617188 -7.328125 4.421875 -7.550781 C 4.222656 -7.769531 3.953125 -7.914063 3.609375 -7.984375 L 3.609375 -4.945313 C 4.140625 -4.8125 4.492188 -4.707031 4.664063 -4.632813 C 4.992188 -4.488281 5.257813 -4.3125 5.464844 -4.105469 C 5.671875 -3.898438 5.832031 -3.652344 5.941406 -3.367188 C 6.050781 -3.082031 6.105469 -2.773438 6.109375 -2.445313 C 6.105469 -1.710938 5.875 -1.101563 5.414063 -0.613281 C 4.949219 -0.125 4.347656 0.132813 3.609375 0.171875 L 3.609375 1.234375 Z M 2.988281 -8 C 2.578125 -7.933594 2.253906 -7.769531 2.019531 -7.507813 C 1.78125 -7.238281 1.664063 -6.925781 1.664063 -6.5625 C 1.664063 -6.203125 1.761719 -5.902344 1.964844 -5.660156 C 2.160156 -5.417969 2.503906 -5.222656 2.988281 -5.078125 Z M 3.609375 -0.710938 C 4.019531 -0.757813 4.355469 -0.9375 4.625 -1.242188 C 4.890625 -1.546875 5.027344 -1.921875 5.027344 -2.375 C 5.027344 -2.75 4.929688 -3.058594 4.742188 -3.292969 C 4.550781 -3.527344 4.175781 -3.734375 3.609375 -3.921875 Z M 3.609375 -0.710938 \"/>\n",
       "</symbol>\n",
       "<symbol overflow=\"visible\" id=\"glyph0-14\">\n",
       "<path style=\"stroke:none;\" d=\"M 0.945313 0 L 0.945313 -8.589844 L 4.75 -8.589844 C 5.511719 -8.589844 6.09375 -8.511719 6.496094 -8.355469 C 6.890625 -8.199219 7.210938 -7.925781 7.453125 -7.539063 C 7.691406 -7.144531 7.808594 -6.714844 7.8125 -6.246094 C 7.808594 -5.636719 7.613281 -5.121094 7.21875 -4.703125 C 6.820313 -4.285156 6.210938 -4.019531 5.390625 -3.90625 C 5.691406 -3.761719 5.917969 -3.621094 6.078125 -3.480469 C 6.40625 -3.175781 6.722656 -2.792969 7.019531 -2.335938 L 8.515625 0 L 7.085938 0 L 5.945313 -1.789063 C 5.613281 -2.300781 5.339844 -2.695313 5.125 -2.972656 C 4.910156 -3.242188 4.71875 -3.433594 4.550781 -3.546875 C 4.378906 -3.652344 4.207031 -3.730469 4.03125 -3.773438 C 3.898438 -3.796875 3.6875 -3.808594 3.398438 -3.8125 L 2.078125 -3.8125 L 2.078125 0 Z M 2.078125 -4.796875 L 4.523438 -4.796875 C 5.042969 -4.792969 5.449219 -4.847656 5.742188 -4.957031 C 6.03125 -5.066406 6.253906 -5.238281 6.410156 -5.472656 C 6.5625 -5.707031 6.636719 -5.964844 6.640625 -6.246094 C 6.636719 -6.652344 6.488281 -6.984375 6.195313 -7.246094 C 5.898438 -7.507813 5.433594 -7.640625 4.796875 -7.640625 L 2.078125 -7.640625 Z M 2.078125 -4.796875 \"/>\n",
       "</symbol>\n",
       "<symbol overflow=\"visible\" id=\"glyph0-15\">\n",
       "<path style=\"stroke:none;\" d=\"M 0.925781 0 L 0.925781 -8.589844 L 3.882813 -8.589844 C 4.550781 -8.589844 5.0625 -8.546875 5.414063 -8.46875 C 5.90625 -8.351563 6.324219 -8.148438 6.671875 -7.851563 C 7.121094 -7.46875 7.460938 -6.976563 7.6875 -6.382813 C 7.914063 -5.785156 8.027344 -5.105469 8.027344 -4.34375 C 8.027344 -3.6875 7.949219 -3.109375 7.796875 -2.605469 C 7.644531 -2.101563 7.449219 -1.683594 7.210938 -1.355469 C 6.972656 -1.019531 6.710938 -0.761719 6.429688 -0.574219 C 6.144531 -0.386719 5.804688 -0.242188 5.40625 -0.144531 C 5.003906 -0.046875 4.542969 0 4.023438 0 Z M 2.0625 -1.015625 L 3.898438 -1.015625 C 4.460938 -1.011719 4.90625 -1.066406 5.226563 -1.171875 C 5.546875 -1.273438 5.804688 -1.421875 6 -1.617188 C 6.269531 -1.886719 6.476563 -2.246094 6.628906 -2.703125 C 6.777344 -3.15625 6.855469 -3.710938 6.855469 -4.359375 C 6.855469 -5.257813 6.707031 -5.945313 6.410156 -6.429688 C 6.113281 -6.910156 5.753906 -7.234375 5.335938 -7.398438 C 5.03125 -7.515625 4.542969 -7.574219 3.867188 -7.578125 L 2.0625 -7.578125 Z M 2.0625 -1.015625 \"/>\n",
       "</symbol>\n",
       "<symbol overflow=\"visible\" id=\"glyph1-0\">\n",
       "<path style=\"stroke:none;\" d=\"M 0 -3.878906 L -2.054688 -3.878906 L -2.054688 -0.152344 L -3.023438 -0.152344 L -8.589844 -4.074219 L -8.589844 -4.933594 L -3.023438 -4.933594 L -3.023438 -6.09375 L -2.054688 -6.09375 L -2.054688 -4.933594 L 0 -4.933594 Z M -3.023438 -3.878906 L -6.898438 -3.878906 L -3.023438 -1.191406 Z M -3.023438 -3.878906 \"/>\n",
       "</symbol>\n",
       "<symbol overflow=\"visible\" id=\"glyph1-1\">\n",
       "<path style=\"stroke:none;\" d=\"M -4.234375 -0.5 C -5.246094 -0.496094 -6.0625 -0.601563 -6.6875 -0.8125 C -7.304688 -1.019531 -7.785156 -1.328125 -8.121094 -1.742188 C -8.457031 -2.152344 -8.625 -2.671875 -8.625 -3.300781 C -8.625 -3.757813 -8.53125 -4.164063 -8.347656 -4.511719 C -8.160156 -4.859375 -7.890625 -5.144531 -7.542969 -5.371094 C -7.191406 -5.59375 -6.765625 -5.773438 -6.265625 -5.90625 C -5.761719 -6.035156 -5.085938 -6.097656 -4.234375 -6.101563 C -3.222656 -6.097656 -2.410156 -5.996094 -1.792969 -5.789063 C -1.175781 -5.578125 -0.695313 -5.265625 -0.359375 -4.859375 C -0.0195313 -4.445313 0.144531 -3.925781 0.148438 -3.296875 C 0.144531 -2.464844 -0.148438 -1.816406 -0.742188 -1.347656 C -1.457031 -0.78125 -2.621094 -0.496094 -4.234375 -0.5 Z M -4.234375 -1.582031 C -2.824219 -1.582031 -1.886719 -1.746094 -1.417969 -2.074219 C -0.949219 -2.402344 -0.714844 -2.808594 -0.71875 -3.296875 C -0.714844 -3.777344 -0.949219 -4.183594 -1.421875 -4.519531 C -1.886719 -4.847656 -2.824219 -5.015625 -4.234375 -5.015625 C -5.648438 -5.015625 -6.589844 -4.847656 -7.054688 -4.519531 C -7.515625 -4.1875 -7.746094 -3.777344 -7.75 -3.289063 C -7.746094 -2.800781 -7.542969 -2.414063 -7.136719 -2.128906 C -6.613281 -1.761719 -5.644531 -1.582031 -4.234375 -1.582031 Z M -4.234375 -1.582031 \"/>\n",
       "</symbol>\n",
       "<symbol overflow=\"visible\" id=\"glyph1-2\">\n",
       "<path style=\"stroke:none;\" d=\"M -6.484375 -5.96875 L -6.40625 -4.921875 C -6.8125 -4.828125 -7.113281 -4.695313 -7.304688 -4.523438 C -7.605469 -4.238281 -7.757813 -3.886719 -7.757813 -3.46875 C -7.757813 -3.132813 -7.664063 -2.835938 -7.476563 -2.585938 C -7.234375 -2.25 -6.878906 -1.988281 -6.414063 -1.796875 C -5.949219 -1.605469 -5.289063 -1.507813 -4.429688 -1.5 C -4.8125 -1.753906 -5.097656 -2.0625 -5.289063 -2.433594 C -5.472656 -2.796875 -5.566406 -3.183594 -5.570313 -3.585938 C -5.566406 -4.289063 -5.308594 -4.886719 -4.792969 -5.382813 C -4.277344 -5.875 -3.609375 -6.121094 -2.789063 -6.125 C -2.25 -6.121094 -1.746094 -6.003906 -1.285156 -5.773438 C -0.816406 -5.539063 -0.460938 -5.222656 -0.21875 -4.816406 C 0.0273438 -4.410156 0.144531 -3.949219 0.148438 -3.433594 C 0.144531 -2.554688 -0.175781 -1.835938 -0.820313 -1.285156 C -1.46875 -0.726563 -2.535156 -0.449219 -4.019531 -0.453125 C -5.675781 -0.449219 -6.882813 -0.757813 -7.640625 -1.371094 C -8.296875 -1.90625 -8.625 -2.625 -8.625 -3.535156 C -8.625 -4.207031 -8.433594 -4.761719 -8.054688 -5.195313 C -7.675781 -5.625 -7.152344 -5.882813 -6.484375 -5.96875 Z M -2.78125 -1.664063 C -2.417969 -1.664063 -2.070313 -1.738281 -1.738281 -1.894531 C -1.40625 -2.042969 -1.152344 -2.261719 -0.980469 -2.542969 C -0.800781 -2.820313 -0.714844 -3.109375 -0.71875 -3.414063 C -0.714844 -3.859375 -0.894531 -4.242188 -1.257813 -4.566406 C -1.613281 -4.882813 -2.101563 -5.042969 -2.722656 -5.046875 C -3.3125 -5.042969 -3.78125 -4.886719 -4.125 -4.570313 C -4.46875 -4.25 -4.640625 -3.851563 -4.640625 -3.375 C -4.640625 -2.898438 -4.46875 -2.492188 -4.128906 -2.160156 C -3.785156 -1.828125 -3.335938 -1.664063 -2.78125 -1.664063 Z M -2.78125 -1.664063 \"/>\n",
       "</symbol>\n",
       "<symbol overflow=\"visible\" id=\"glyph1-3\">\n",
       "<path style=\"stroke:none;\" d=\"M -4.65625 -2.121094 C -4.816406 -1.683594 -5.046875 -1.359375 -5.34375 -1.148438 C -5.640625 -0.9375 -5.996094 -0.832031 -6.410156 -0.832031 C -7.035156 -0.832031 -7.558594 -1.054688 -7.984375 -1.503906 C -8.410156 -1.953125 -8.625 -2.550781 -8.625 -3.300781 C -8.625 -4.046875 -8.40625 -4.652344 -7.972656 -5.109375 C -7.535156 -5.566406 -7.003906 -5.792969 -6.382813 -5.796875 C -5.976563 -5.792969 -5.628906 -5.6875 -5.339844 -5.480469 C -5.042969 -5.269531 -4.816406 -4.953125 -4.65625 -4.53125 C -4.480469 -5.054688 -4.203125 -5.457031 -3.824219 -5.734375 C -3.4375 -6.007813 -2.980469 -6.144531 -2.453125 -6.148438 C -1.714844 -6.144531 -1.097656 -5.886719 -0.601563 -5.367188 C -0.101563 -4.84375 0.144531 -4.160156 0.148438 -3.316406 C 0.144531 -2.46875 -0.101563 -1.785156 -0.605469 -1.265625 C -1.105469 -0.746094 -1.734375 -0.484375 -2.484375 -0.488281 C -3.039063 -0.484375 -3.503906 -0.625 -3.886719 -0.910156 C -4.261719 -1.191406 -4.519531 -1.597656 -4.65625 -2.121094 Z M -6.445313 -1.910156 C -6.039063 -1.910156 -5.707031 -2.039063 -5.449219 -2.300781 C -5.191406 -2.5625 -5.0625 -2.902344 -5.0625 -3.324219 C -5.0625 -3.726563 -5.1875 -4.058594 -5.445313 -4.320313 C -5.695313 -4.578125 -6.011719 -4.710938 -6.386719 -4.710938 C -6.773438 -4.710938 -7.097656 -4.574219 -7.363281 -4.308594 C -7.625 -4.039063 -7.757813 -3.707031 -7.757813 -3.3125 C -7.757813 -2.90625 -7.628906 -2.574219 -7.371094 -2.308594 C -7.113281 -2.042969 -6.804688 -1.910156 -6.445313 -1.910156 Z M -2.476563 -1.570313 C -2.175781 -1.570313 -1.886719 -1.640625 -1.605469 -1.785156 C -1.324219 -1.925781 -1.105469 -2.136719 -0.949219 -2.421875 C -0.792969 -2.699219 -0.714844 -3.003906 -0.71875 -3.328125 C -0.714844 -3.832031 -0.875 -4.246094 -1.203125 -4.578125 C -1.523438 -4.902344 -1.9375 -5.066406 -2.441406 -5.070313 C -2.945313 -5.066406 -3.367188 -4.898438 -3.703125 -4.5625 C -4.035156 -4.222656 -4.199219 -3.800781 -4.203125 -3.292969 C -4.199219 -2.796875 -4.035156 -2.382813 -3.710938 -2.058594 C -3.378906 -1.730469 -2.96875 -1.570313 -2.476563 -1.570313 Z M -2.476563 -1.570313 \"/>\n",
       "</symbol>\n",
       "<symbol overflow=\"visible\" id=\"glyph1-4\">\n",
       "<path style=\"stroke:none;\" d=\"M 0 -4.46875 L 0 -3.414063 L -6.71875 -3.417969 C -6.476563 -3.160156 -6.234375 -2.828125 -5.996094 -2.417969 C -5.75 -2.003906 -5.570313 -1.632813 -5.449219 -1.308594 L -6.46875 -1.308594 C -6.742188 -1.894531 -7.078125 -2.410156 -7.476563 -2.851563 C -7.871094 -3.292969 -8.253906 -3.605469 -8.625 -3.792969 L -8.625 -4.472656 Z M 0 -4.46875 \"/>\n",
       "</symbol>\n",
       "<symbol overflow=\"visible\" id=\"glyph1-5\">\n",
       "<path style=\"stroke:none;\" d=\"M 0 -0.789063 L -6.222656 -0.792969 L -6.222656 -1.734375 L -5.351563 -1.734375 C -5.648438 -1.929688 -5.894531 -2.1875 -6.082031 -2.511719 C -6.269531 -2.835938 -6.363281 -3.207031 -6.363281 -3.621094 C -6.363281 -4.082031 -6.265625 -4.457031 -6.074219 -4.753906 C -5.882813 -5.042969 -5.617188 -5.253906 -5.273438 -5.378906 C -6 -5.871094 -6.363281 -6.511719 -6.363281 -7.300781 C -6.363281 -7.917969 -6.191406 -8.390625 -5.847656 -8.722656 C -5.503906 -9.054688 -4.976563 -9.222656 -4.269531 -9.222656 L 0 -9.222656 L 0 -8.171875 L -3.917969 -8.171875 C -4.335938 -8.167969 -4.640625 -8.132813 -4.828125 -8.070313 C -5.015625 -8 -5.164063 -7.878906 -5.277344 -7.699219 C -5.390625 -7.519531 -5.449219 -7.308594 -5.449219 -7.066406 C -5.449219 -6.628906 -5.300781 -6.265625 -5.011719 -5.976563 C -4.71875 -5.6875 -4.253906 -5.542969 -3.613281 -5.542969 L 0 -5.542969 L 0 -4.488281 L -4.042969 -4.488281 C -4.511719 -4.488281 -4.863281 -4.402344 -5.097656 -4.230469 C -5.332031 -4.058594 -5.449219 -3.777344 -5.449219 -3.386719 C -5.449219 -3.089844 -5.371094 -2.8125 -5.214844 -2.5625 C -5.058594 -2.308594 -4.828125 -2.128906 -4.527344 -2.015625 C -4.226563 -1.902344 -3.792969 -1.84375 -3.226563 -1.847656 L 0 -1.84375 Z M 0 -0.789063 \"/>\n",
       "</symbol>\n",
       "<symbol overflow=\"visible\" id=\"glyph1-6\">\n",
       "<path style=\"stroke:none;\" d=\"M -3.109375 -0.398438 C -4.261719 -0.398438 -5.117188 -0.71875 -5.671875 -1.359375 C -6.132813 -1.894531 -6.363281 -2.546875 -6.363281 -3.316406 C -6.363281 -4.171875 -6.082031 -4.871094 -5.519531 -5.414063 C -4.957031 -5.953125 -4.183594 -6.222656 -3.199219 -6.226563 C -2.394531 -6.222656 -1.761719 -6.101563 -1.308594 -5.867188 C -0.847656 -5.625 -0.492188 -5.277344 -0.238281 -4.820313 C 0.015625 -4.359375 0.140625 -3.859375 0.140625 -3.316406 C 0.140625 -2.441406 -0.136719 -1.734375 -0.695313 -1.203125 C -1.253906 -0.664063 -2.058594 -0.398438 -3.109375 -0.398438 Z M -3.109375 -1.484375 C -2.308594 -1.480469 -1.710938 -1.65625 -1.320313 -2.003906 C -0.921875 -2.347656 -0.726563 -2.785156 -0.726563 -3.316406 C -0.726563 -3.839844 -0.925781 -4.273438 -1.324219 -4.621094 C -1.722656 -4.96875 -2.328125 -5.144531 -3.144531 -5.144531 C -3.914063 -5.144531 -4.496094 -4.96875 -4.894531 -4.617188 C -5.289063 -4.265625 -5.488281 -3.832031 -5.492188 -3.316406 C -5.488281 -2.789063 -5.292969 -2.351563 -4.898438 -2.003906 C -4.5 -1.65625 -3.902344 -1.480469 -3.109375 -1.484375 Z M -3.109375 -1.484375 \"/>\n",
       "</symbol>\n",
       "<symbol overflow=\"visible\" id=\"glyph1-7\">\n",
       "<path style=\"stroke:none;\" d=\"M 0 -0.789063 L -6.222656 -0.792969 L -6.222656 -1.742188 L -5.335938 -1.742188 C -6.019531 -2.195313 -6.363281 -2.855469 -6.363281 -3.722656 C -6.363281 -4.089844 -6.292969 -4.433594 -6.160156 -4.753906 C -6.023438 -5.066406 -5.847656 -5.304688 -5.632813 -5.460938 C -5.410156 -5.617188 -5.152344 -5.726563 -4.851563 -5.789063 C -4.65625 -5.828125 -4.3125 -5.847656 -3.824219 -5.847656 L 0 -5.847656 L 0 -4.792969 L -3.785156 -4.792969 C -4.214844 -4.792969 -4.535156 -4.75 -4.75 -4.667969 C -4.960938 -4.585938 -5.128906 -4.441406 -5.257813 -4.234375 C -5.382813 -4.023438 -5.449219 -3.777344 -5.449219 -3.5 C -5.449219 -3.046875 -5.304688 -2.660156 -5.019531 -2.335938 C -4.734375 -2.007813 -4.195313 -1.84375 -3.398438 -1.847656 L 0 -1.84375 Z M 0 -0.789063 \"/>\n",
       "</symbol>\n",
       "<symbol overflow=\"visible\" id=\"glyph1-8\">\n",
       "<path style=\"stroke:none;\" d=\"M -2.003906 -5.050781 L -1.867188 -6.140625 C -1.230469 -5.96875 -0.738281 -5.648438 -0.386719 -5.183594 C -0.0351563 -4.71875 0.140625 -4.125 0.140625 -3.40625 C 0.140625 -2.492188 -0.136719 -1.769531 -0.699219 -1.238281 C -1.253906 -0.703125 -2.042969 -0.4375 -3.058594 -0.441406 C -4.105469 -0.4375 -4.917969 -0.707031 -5.496094 -1.25 C -6.074219 -1.785156 -6.363281 -2.484375 -6.363281 -3.347656 C -6.363281 -4.175781 -6.078125 -4.855469 -5.511719 -5.382813 C -4.945313 -5.910156 -4.148438 -6.175781 -3.121094 -6.175781 C -3.054688 -6.175781 -2.960938 -6.171875 -2.839844 -6.171875 L -2.84375 -1.53125 C -2.15625 -1.566406 -1.632813 -1.761719 -1.269531 -2.109375 C -0.90625 -2.457031 -0.726563 -2.890625 -0.726563 -3.410156 C -0.726563 -3.796875 -0.828125 -4.125 -1.03125 -4.402344 C -1.234375 -4.671875 -1.558594 -4.890625 -2.003906 -5.050781 Z M -3.710938 -1.589844 L -3.707031 -5.0625 C -4.226563 -5.015625 -4.621094 -4.882813 -4.886719 -4.664063 C -5.292969 -4.328125 -5.496094 -3.890625 -5.496094 -3.359375 C -5.496094 -2.871094 -5.332031 -2.464844 -5.007813 -2.136719 C -4.683594 -1.804688 -4.25 -1.621094 -3.710938 -1.589844 Z M -3.710938 -1.589844 \"/>\n",
       "</symbol>\n",
       "<symbol overflow=\"visible\" id=\"glyph1-9\">\n",
       "<path style=\"stroke:none;\" d=\"M 2.398438 -0.742188 L 1.40625 -0.625 C 1.46875 -0.855469 1.5 -1.058594 1.5 -1.230469 C 1.5 -1.464844 1.460938 -1.652344 1.382813 -1.792969 C 1.304688 -1.933594 1.195313 -2.046875 1.054688 -2.140625 C 0.949219 -2.203125 0.6875 -2.3125 0.269531 -2.460938 C 0.210938 -2.480469 0.125 -2.511719 0.0117188 -2.554688 L -6.222656 -0.195313 L -6.222656 -1.332031 L -2.617188 -2.625 C -2.160156 -2.789063 -1.679688 -2.9375 -1.175781 -3.078125 C -1.65625 -3.195313 -2.128906 -3.339844 -2.59375 -3.507813 L -6.222656 -4.839844 L -6.222656 -5.894531 L 0.105469 -3.527344 C 0.789063 -3.273438 1.257813 -3.074219 1.519531 -2.9375 C 1.863281 -2.746094 2.117188 -2.53125 2.28125 -2.289063 C 2.4375 -2.042969 2.519531 -1.753906 2.523438 -1.421875 C 2.519531 -1.214844 2.476563 -0.988281 2.398438 -0.742188 Z M 2.398438 -0.742188 \"/>\n",
       "</symbol>\n",
       "<symbol overflow=\"visible\" id=\"glyph1-10\">\n",
       "<path style=\"stroke:none;\" d=\"M 0 -1.765625 L 0 -0.785156 L -8.589844 -0.785156 L -8.589844 -1.839844 L -5.523438 -1.839844 C -6.082031 -2.285156 -6.363281 -2.851563 -6.363281 -3.546875 C -6.363281 -3.921875 -6.285156 -4.285156 -6.128906 -4.628906 C -5.972656 -4.972656 -5.753906 -5.253906 -5.480469 -5.472656 C -5.199219 -5.691406 -4.863281 -5.863281 -4.46875 -5.992188 C -4.074219 -6.113281 -3.652344 -6.175781 -3.203125 -6.179688 C -2.136719 -6.175781 -1.3125 -5.914063 -0.730469 -5.390625 C -0.148438 -4.863281 0.140625 -4.230469 0.140625 -3.492188 C 0.140625 -2.757813 -0.164063 -2.179688 -0.777344 -1.765625 Z M -3.15625 -1.753906 C -2.410156 -1.75 -1.871094 -1.851563 -1.539063 -2.054688 C -0.996094 -2.386719 -0.726563 -2.835938 -0.726563 -3.40625 C -0.726563 -3.859375 -0.925781 -4.257813 -1.324219 -4.597656 C -1.722656 -4.929688 -2.320313 -5.097656 -3.117188 -5.101563 C -3.929688 -5.097656 -4.527344 -4.9375 -4.914063 -4.617188 C -5.300781 -4.296875 -5.496094 -3.90625 -5.496094 -3.453125 C -5.496094 -2.988281 -5.292969 -2.589844 -4.894531 -2.257813 C -4.492188 -1.917969 -3.914063 -1.75 -3.15625 -1.753906 Z M -3.15625 -1.753906 \"/>\n",
       "</symbol>\n",
       "<symbol overflow=\"visible\" id=\"glyph1-11\">\n",
       "<path style=\"stroke:none;\" d=\"M -0.765625 -4.851563 C -0.433594 -4.460938 -0.199219 -4.082031 -0.0625 -3.722656 C 0.0742188 -3.355469 0.140625 -2.96875 0.140625 -2.5625 C 0.140625 -1.875 -0.0234375 -1.351563 -0.359375 -0.984375 C -0.6875 -0.617188 -1.117188 -0.433594 -1.640625 -0.433594 C -1.945313 -0.433594 -2.222656 -0.5 -2.472656 -0.640625 C -2.722656 -0.777344 -2.925781 -0.960938 -3.082031 -1.1875 C -3.234375 -1.410156 -3.347656 -1.664063 -3.429688 -1.945313 C -3.476563 -2.152344 -3.53125 -2.464844 -3.585938 -2.882813 C -3.6875 -3.734375 -3.808594 -4.359375 -3.949219 -4.765625 C -4.089844 -4.765625 -4.179688 -4.769531 -4.226563 -4.769531 C -4.648438 -4.769531 -4.953125 -4.667969 -5.132813 -4.46875 C -5.371094 -4.199219 -5.488281 -3.800781 -5.492188 -3.269531 C -5.488281 -2.773438 -5.402344 -2.40625 -5.230469 -2.171875 C -5.054688 -1.933594 -4.746094 -1.757813 -4.304688 -1.648438 L -4.445313 -0.617188 C -4.886719 -0.707031 -5.242188 -0.863281 -5.515625 -1.078125 C -5.78125 -1.292969 -5.992188 -1.601563 -6.140625 -2.011719 C -6.289063 -2.414063 -6.363281 -2.886719 -6.363281 -3.421875 C -6.363281 -3.953125 -6.300781 -4.382813 -6.175781 -4.714844 C -6.050781 -5.046875 -5.890625 -5.292969 -5.703125 -5.449219 C -5.511719 -5.605469 -5.273438 -5.714844 -4.984375 -5.777344 C -4.804688 -5.808594 -4.480469 -5.824219 -4.015625 -5.828125 L -2.605469 -5.828125 C -1.625 -5.824219 -1.003906 -5.847656 -0.746094 -5.894531 C -0.480469 -5.941406 -0.234375 -6.03125 0 -6.164063 L 0 -5.0625 C -0.21875 -4.953125 -0.472656 -4.882813 -0.765625 -4.851563 Z M -3.121094 -4.765625 C -2.960938 -4.375 -2.828125 -3.800781 -2.726563 -3.039063 C -2.660156 -2.605469 -2.589844 -2.300781 -2.515625 -2.121094 C -2.433594 -1.941406 -2.320313 -1.800781 -2.171875 -1.703125 C -2.019531 -1.605469 -1.851563 -1.558594 -1.671875 -1.558594 C -1.386719 -1.558594 -1.152344 -1.664063 -0.964844 -1.875 C -0.773438 -2.085938 -0.679688 -2.398438 -0.683594 -2.8125 C -0.679688 -3.21875 -0.769531 -3.578125 -0.949219 -3.894531 C -1.128906 -4.210938 -1.371094 -4.445313 -1.679688 -4.59375 C -1.917969 -4.707031 -2.269531 -4.761719 -2.734375 -4.765625 Z M -3.121094 -4.765625 \"/>\n",
       "</symbol>\n",
       "<symbol overflow=\"visible\" id=\"glyph1-12\">\n",
       "<path style=\"stroke:none;\" d=\"M 0 -0.765625 L -8.589844 -0.769531 L -8.589844 -1.824219 L 0 -1.820313 Z M 0 -0.765625 \"/>\n",
       "</symbol>\n",
       "<symbol overflow=\"visible\" id=\"glyph1-13\">\n",
       "<path style=\"stroke:none;\" d=\"M 1.238281 -2.988281 L 0.183594 -2.988281 C 0.113281 -2.457031 0 -2.027344 -0.171875 -1.699219 C -0.335938 -1.371094 -0.609375 -1.085938 -0.992188 -0.847656 C -1.367188 -0.605469 -1.832031 -0.464844 -2.382813 -0.429688 L -2.585938 -1.488281 C -2.015625 -1.566406 -1.601563 -1.710938 -1.335938 -1.921875 C -0.960938 -2.21875 -0.75 -2.574219 -0.707031 -2.988281 L -4.066406 -2.988281 C -4.144531 -2.554688 -4.3125 -2.109375 -4.570313 -1.660156 C -4.757813 -1.320313 -5.015625 -1.0625 -5.347656 -0.882813 C -5.679688 -0.699219 -6.058594 -0.609375 -6.480469 -0.609375 C -7.230469 -0.609375 -7.835938 -0.875 -8.304688 -1.40625 C -8.613281 -1.761719 -8.804688 -2.289063 -8.875 -2.988281 L -9.382813 -2.988281 L -9.382813 -3.609375 L -8.875 -3.609375 C -8.816406 -4.222656 -8.636719 -4.707031 -8.335938 -5.070313 C -7.953125 -5.527344 -7.429688 -5.804688 -6.761719 -5.898438 L -6.597656 -4.8125 C -7.011719 -4.746094 -7.328125 -4.617188 -7.550781 -4.421875 C -7.769531 -4.222656 -7.914063 -3.953125 -7.984375 -3.609375 L -4.945313 -3.609375 C -4.8125 -4.140625 -4.707031 -4.492188 -4.632813 -4.664063 C -4.488281 -4.992188 -4.3125 -5.257813 -4.105469 -5.464844 C -3.898438 -5.671875 -3.652344 -5.832031 -3.367188 -5.941406 C -3.082031 -6.050781 -2.773438 -6.105469 -2.441406 -6.109375 C -1.710938 -6.105469 -1.101563 -5.875 -0.613281 -5.414063 C -0.125 -4.949219 0.132813 -4.347656 0.171875 -3.609375 L 1.238281 -3.609375 Z M -8 -2.988281 C -7.933594 -2.578125 -7.769531 -2.253906 -7.507813 -2.019531 C -7.238281 -1.78125 -6.925781 -1.664063 -6.5625 -1.664063 C -6.203125 -1.664063 -5.902344 -1.761719 -5.660156 -1.964844 C -5.417969 -2.164063 -5.222656 -2.507813 -5.078125 -2.988281 Z M -0.707031 -3.609375 C -0.757813 -4.019531 -0.9375 -4.355469 -1.242188 -4.625 C -1.546875 -4.890625 -1.921875 -5.027344 -2.371094 -5.027344 C -2.75 -5.027344 -3.058594 -4.929688 -3.292969 -4.742188 C -3.527344 -4.550781 -3.734375 -4.175781 -3.921875 -3.609375 Z M -0.707031 -3.609375 \"/>\n",
       "</symbol>\n",
       "<symbol overflow=\"visible\" id=\"glyph1-14\">\n",
       "<path style=\"stroke:none;\" d=\"M 0 -2.425781 L -8.589844 -0.148438 L -8.589844 -1.3125 L -2.960938 -2.617188 C -2.367188 -2.753906 -1.78125 -2.875 -1.199219 -2.984375 C -2.117188 -3.199219 -2.648438 -3.328125 -2.789063 -3.367188 L -8.589844 -5.003906 L -8.589844 -6.375 L -4.242188 -7.605469 C -3.164063 -7.914063 -2.148438 -8.136719 -1.199219 -8.273438 C -1.742188 -8.382813 -2.367188 -8.523438 -3.070313 -8.703125 L -8.589844 -10.046875 L -8.589844 -11.191406 L 0 -8.835938 L 0 -7.742188 L -6.546875 -5.929688 C -7.089844 -5.777344 -7.425781 -5.6875 -7.554688 -5.660156 C -7.15625 -5.566406 -6.820313 -5.480469 -6.546875 -5.40625 L 0 -3.585938 Z M 0 -2.425781 \"/>\n",
       "</symbol>\n",
       "</g>\n",
       "<clipPath id=\"clip1\">\n",
       "  <path d=\"M 59.039063 59.039063 L 474.757813 59.039063 L 474.757813 431.558594 L 59.039063 431.558594 Z M 59.039063 59.039063 \"/>\n",
       "</clipPath>\n",
       "</defs>\n",
       "<g id=\"surface1\">\n",
       "<rect x=\"0\" y=\"0\" width=\"504\" height=\"504\" style=\"fill:rgb(100%,100%,100%);fill-opacity:1;stroke:none;\"/>\n",
       "<g clip-path=\"url(#clip1)\" clip-rule=\"nonzero\">\n",
       "<path style=\"fill:none;stroke-width:0.75;stroke-linecap:round;stroke-linejoin:round;stroke:rgb(0%,0%,0%);stroke-opacity:1;stroke-miterlimit:10;\" d=\"M 252.300781 258.378906 C 252.300781 261.980469 246.898438 261.980469 246.898438 258.378906 C 246.898438 254.777344 252.300781 254.777344 252.300781 258.378906 \"/>\n",
       "<path style=\"fill:none;stroke-width:0.75;stroke-linecap:round;stroke-linejoin:round;stroke:rgb(0%,0%,0%);stroke-opacity:1;stroke-miterlimit:10;\" d=\"M 360.300781 181.429688 C 360.300781 185.03125 354.898438 185.03125 354.898438 181.429688 C 354.898438 177.832031 360.300781 177.832031 360.300781 181.429688 \"/>\n",
       "<path style=\"fill:none;stroke-width:0.75;stroke-linecap:round;stroke-linejoin:round;stroke:rgb(0%,0%,0%);stroke-opacity:1;stroke-miterlimit:10;\" d=\"M 327.300781 199.535156 C 327.300781 203.136719 321.898438 203.136719 321.898438 199.535156 C 321.898438 195.9375 327.300781 195.9375 327.300781 199.535156 \"/>\n",
       "<path style=\"fill:none;stroke-width:0.75;stroke-linecap:round;stroke-linejoin:round;stroke:rgb(0%,0%,0%);stroke-opacity:1;stroke-miterlimit:10;\" d=\"M 190.5 312.695313 C 190.5 316.292969 185.101563 316.292969 185.101563 312.695313 C 185.101563 309.09375 190.5 309.09375 190.5 312.695313 \"/>\n",
       "<path style=\"fill:none;stroke-width:0.75;stroke-linecap:round;stroke-linejoin:round;stroke:rgb(0%,0%,0%);stroke-opacity:1;stroke-miterlimit:10;\" d=\"M 291.898438 226.695313 C 291.898438 230.292969 286.5 230.292969 286.5 226.695313 C 286.5 223.09375 291.898438 223.09375 291.898438 226.695313 \"/>\n",
       "<path style=\"fill:none;stroke-width:0.75;stroke-linecap:round;stroke-linejoin:round;stroke:rgb(0%,0%,0%);stroke-opacity:1;stroke-miterlimit:10;\" d=\"M 321.300781 199.535156 C 321.300781 203.136719 315.898438 203.136719 315.898438 199.535156 C 315.898438 195.9375 321.300781 195.9375 321.300781 199.535156 \"/>\n",
       "<path style=\"fill:none;stroke-width:0.75;stroke-linecap:round;stroke-linejoin:round;stroke:rgb(0%,0%,0%);stroke-opacity:1;stroke-miterlimit:10;\" d=\"M 277.5 222.167969 C 277.5 225.769531 272.101563 225.769531 272.101563 222.167969 C 272.101563 218.570313 277.5 218.570313 277.5 222.167969 \"/>\n",
       "<path style=\"fill:none;stroke-width:0.75;stroke-linecap:round;stroke-linejoin:round;stroke:rgb(0%,0%,0%);stroke-opacity:1;stroke-miterlimit:10;\" d=\"M 206.699219 299.117188 C 206.699219 302.714844 201.300781 302.714844 201.300781 299.117188 C 201.300781 295.515625 206.699219 295.515625 206.699219 299.117188 \"/>\n",
       "<path style=\"fill:none;stroke-width:0.75;stroke-linecap:round;stroke-linejoin:round;stroke:rgb(0%,0%,0%);stroke-opacity:1;stroke-miterlimit:10;\" d=\"M 321.300781 185.957031 C 321.300781 189.558594 315.898438 189.558594 315.898438 185.957031 C 315.898438 182.359375 321.300781 182.359375 321.300781 185.957031 \"/>\n",
       "<path style=\"fill:none;stroke-width:0.75;stroke-linecap:round;stroke-linejoin:round;stroke:rgb(0%,0%,0%);stroke-opacity:1;stroke-miterlimit:10;\" d=\"M 285.898438 267.429688 C 285.898438 271.03125 280.5 271.03125 280.5 267.429688 C 280.5 263.832031 285.898438 263.832031 285.898438 267.429688 \"/>\n",
       "<path style=\"fill:none;stroke-width:0.75;stroke-linecap:round;stroke-linejoin:round;stroke:rgb(0%,0%,0%);stroke-opacity:1;stroke-miterlimit:10;\" d=\"M 184.5 299.117188 C 184.5 302.714844 179.101563 302.714844 179.101563 299.117188 C 179.101563 295.515625 184.5 295.515625 184.5 299.117188 \"/>\n",
       "<path style=\"fill:none;stroke-width:0.75;stroke-linecap:round;stroke-linejoin:round;stroke:rgb(0%,0%,0%);stroke-opacity:1;stroke-miterlimit:10;\" d=\"M 274.5 253.851563 C 274.5 257.453125 269.101563 257.453125 269.101563 253.851563 C 269.101563 250.253906 274.5 250.253906 274.5 253.851563 \"/>\n",
       "<path style=\"fill:none;stroke-width:0.75;stroke-linecap:round;stroke-linejoin:round;stroke:rgb(0%,0%,0%);stroke-opacity:1;stroke-miterlimit:10;\" d=\"M 322.5 176.90625 C 322.5 180.503906 317.101563 180.503906 317.101563 176.90625 C 317.101563 173.304688 322.5 173.304688 322.5 176.90625 \"/>\n",
       "<path style=\"fill:none;stroke-width:0.75;stroke-linecap:round;stroke-linejoin:round;stroke:rgb(0%,0%,0%);stroke-opacity:1;stroke-miterlimit:10;\" d=\"M 198.300781 303.640625 C 198.300781 307.242188 192.898438 307.242188 192.898438 303.640625 C 192.898438 300.042969 198.300781 300.042969 198.300781 303.640625 \"/>\n",
       "<path style=\"fill:none;stroke-width:0.75;stroke-linecap:round;stroke-linejoin:round;stroke:rgb(0%,0%,0%);stroke-opacity:1;stroke-miterlimit:10;\" d=\"M 284.101563 208.589844 C 284.101563 212.191406 278.699219 212.191406 278.699219 208.589844 C 278.699219 204.988281 284.101563 204.988281 284.101563 208.589844 \"/>\n",
       "<path style=\"fill:none;stroke-width:0.75;stroke-linecap:round;stroke-linejoin:round;stroke:rgb(0%,0%,0%);stroke-opacity:1;stroke-miterlimit:10;\" d=\"M 236.101563 290.0625 C 236.101563 293.664063 230.699219 293.664063 230.699219 290.0625 C 230.699219 286.464844 236.101563 286.464844 236.101563 290.0625 \"/>\n",
       "<path style=\"fill:none;stroke-width:0.75;stroke-linecap:round;stroke-linejoin:round;stroke:rgb(0%,0%,0%);stroke-opacity:1;stroke-miterlimit:10;\" d=\"M 278.699219 213.117188 C 278.699219 216.714844 273.300781 216.714844 273.300781 213.117188 C 273.300781 209.515625 278.699219 209.515625 278.699219 213.117188 \"/>\n",
       "<path style=\"fill:none;stroke-width:0.75;stroke-linecap:round;stroke-linejoin:round;stroke:rgb(0%,0%,0%);stroke-opacity:1;stroke-miterlimit:10;\" d=\"M 190.5 290.0625 C 190.5 293.664063 185.101563 293.664063 185.101563 290.0625 C 185.101563 286.464844 190.5 286.464844 190.5 290.0625 \"/>\n",
       "<path style=\"fill:none;stroke-width:0.75;stroke-linecap:round;stroke-linejoin:round;stroke:rgb(0%,0%,0%);stroke-opacity:1;stroke-miterlimit:10;\" d=\"M 233.101563 226.695313 C 233.101563 230.292969 227.699219 230.292969 227.699219 226.695313 C 227.699219 223.09375 233.101563 223.09375 233.101563 226.695313 \"/>\n",
       "<path style=\"fill:none;stroke-width:0.75;stroke-linecap:round;stroke-linejoin:round;stroke:rgb(0%,0%,0%);stroke-opacity:1;stroke-miterlimit:10;\" d=\"M 330.300781 167.851563 C 330.300781 171.453125 324.898438 171.453125 324.898438 167.851563 C 324.898438 164.253906 330.300781 164.253906 330.300781 167.851563 \"/>\n",
       "<path style=\"fill:none;stroke-width:0.75;stroke-linecap:round;stroke-linejoin:round;stroke:rgb(0%,0%,0%);stroke-opacity:1;stroke-miterlimit:10;\" d=\"M 419.101563 136.167969 C 419.101563 139.769531 413.699219 139.769531 413.699219 136.167969 C 413.699219 132.570313 419.101563 132.570313 419.101563 136.167969 \"/>\n",
       "<path style=\"fill:none;stroke-width:0.75;stroke-linecap:round;stroke-linejoin:round;stroke:rgb(0%,0%,0%);stroke-opacity:1;stroke-miterlimit:10;\" d=\"M 291.898438 208.589844 C 291.898438 212.191406 286.5 212.191406 286.5 208.589844 C 286.5 204.988281 291.898438 204.988281 291.898438 208.589844 \"/>\n",
       "<path style=\"fill:none;stroke-width:0.75;stroke-linecap:round;stroke-linejoin:round;stroke:rgb(0%,0%,0%);stroke-opacity:1;stroke-miterlimit:10;\" d=\"M 155.101563 317.222656 C 155.101563 320.820313 149.699219 320.820313 149.699219 317.222656 C 149.699219 313.621094 155.101563 313.621094 155.101563 317.222656 \"/>\n",
       "<path style=\"fill:none;stroke-width:0.75;stroke-linecap:round;stroke-linejoin:round;stroke:rgb(0%,0%,0%);stroke-opacity:1;stroke-miterlimit:10;\" d=\"M 261.898438 240.273438 C 261.898438 243.875 256.5 243.875 256.5 240.273438 C 256.5 236.671875 261.898438 236.671875 261.898438 240.273438 \"/>\n",
       "<path style=\"fill:none;stroke-width:0.75;stroke-linecap:round;stroke-linejoin:round;stroke:rgb(0%,0%,0%);stroke-opacity:1;stroke-miterlimit:10;\" d=\"M 455.699219 72.800781 C 455.699219 76.398438 450.300781 76.398438 450.300781 72.800781 C 450.300781 69.199219 455.699219 69.199219 455.699219 72.800781 \"/>\n",
       "<path style=\"fill:none;stroke-width:0.75;stroke-linecap:round;stroke-linejoin:round;stroke:rgb(0%,0%,0%);stroke-opacity:1;stroke-miterlimit:10;\" d=\"M 306.300781 190.484375 C 306.300781 194.085938 300.898438 194.085938 300.898438 190.484375 C 300.898438 186.882813 306.300781 186.882813 306.300781 190.484375 \"/>\n",
       "<path style=\"fill:none;stroke-width:0.75;stroke-linecap:round;stroke-linejoin:round;stroke:rgb(0%,0%,0%);stroke-opacity:1;stroke-miterlimit:10;\" d=\"M 353.699219 176.90625 C 353.699219 180.503906 348.300781 180.503906 348.300781 176.90625 C 348.300781 173.304688 353.699219 173.304688 353.699219 176.90625 \"/>\n",
       "<path style=\"fill:none;stroke-width:0.75;stroke-linecap:round;stroke-linejoin:round;stroke:rgb(0%,0%,0%);stroke-opacity:1;stroke-miterlimit:10;\" d=\"M 146.699219 317.222656 C 146.699219 320.820313 141.300781 320.820313 141.300781 317.222656 C 141.300781 313.621094 146.699219 313.621094 146.699219 317.222656 \"/>\n",
       "<path style=\"fill:none;stroke-width:0.75;stroke-linecap:round;stroke-linejoin:round;stroke:rgb(0%,0%,0%);stroke-opacity:1;stroke-miterlimit:10;\" d=\"M 228.898438 267.429688 C 228.898438 271.03125 223.5 271.03125 223.5 267.429688 C 223.5 263.832031 228.898438 263.832031 228.898438 267.429688 \"/>\n",
       "<path style=\"fill:none;stroke-width:0.75;stroke-linecap:round;stroke-linejoin:round;stroke:rgb(0%,0%,0%);stroke-opacity:1;stroke-miterlimit:10;\" d=\"M 284.101563 235.746094 C 284.101563 239.347656 278.699219 239.347656 278.699219 235.746094 C 278.699219 232.148438 284.101563 232.148438 284.101563 235.746094 \"/>\n",
       "<path style=\"fill:none;stroke-width:0.75;stroke-linecap:round;stroke-linejoin:round;stroke:rgb(0%,0%,0%);stroke-opacity:1;stroke-miterlimit:10;\" d=\"M 272.699219 226.695313 C 272.699219 230.292969 267.300781 230.292969 267.300781 226.695313 C 267.300781 223.09375 272.699219 223.09375 272.699219 226.695313 \"/>\n",
       "<path style=\"fill:none;stroke-width:0.75;stroke-linecap:round;stroke-linejoin:round;stroke:rgb(0%,0%,0%);stroke-opacity:1;stroke-miterlimit:10;\" d=\"M 298.5 213.117188 C 298.5 216.714844 293.101563 216.714844 293.101563 213.117188 C 293.101563 209.515625 298.5 209.515625 298.5 213.117188 \"/>\n",
       "<path style=\"fill:none;stroke-width:0.75;stroke-linecap:round;stroke-linejoin:round;stroke:rgb(0%,0%,0%);stroke-opacity:1;stroke-miterlimit:10;\" d=\"M 333.300781 167.851563 C 333.300781 171.453125 327.898438 171.453125 327.898438 167.851563 C 327.898438 164.253906 333.300781 164.253906 333.300781 167.851563 \"/>\n",
       "<path style=\"fill:none;stroke-width:0.75;stroke-linecap:round;stroke-linejoin:round;stroke:rgb(0%,0%,0%);stroke-opacity:1;stroke-miterlimit:10;\" d=\"M 204.300781 262.90625 C 204.300781 266.503906 198.898438 266.503906 198.898438 262.90625 C 198.898438 259.304688 204.300781 259.304688 204.300781 262.90625 \"/>\n",
       "<path style=\"fill:none;stroke-width:0.75;stroke-linecap:round;stroke-linejoin:round;stroke:rgb(0%,0%,0%);stroke-opacity:1;stroke-miterlimit:10;\" d=\"M 303.898438 213.117188 C 303.898438 216.714844 298.5 216.714844 298.5 213.117188 C 298.5 209.515625 303.898438 209.515625 303.898438 213.117188 \"/>\n",
       "<path style=\"fill:none;stroke-width:0.75;stroke-linecap:round;stroke-linejoin:round;stroke:rgb(0%,0%,0%);stroke-opacity:1;stroke-miterlimit:10;\" d=\"M 191.699219 303.640625 C 191.699219 307.242188 186.300781 307.242188 186.300781 303.640625 C 186.300781 300.042969 191.699219 300.042969 191.699219 303.640625 \"/>\n",
       "<path style=\"fill:none;stroke-width:0.75;stroke-linecap:round;stroke-linejoin:round;stroke:rgb(0%,0%,0%);stroke-opacity:1;stroke-miterlimit:10;\" d=\"M 359.101563 167.851563 C 359.101563 171.453125 353.699219 171.453125 353.699219 167.851563 C 353.699219 164.253906 359.101563 164.253906 359.101563 167.851563 \"/>\n",
       "<path style=\"fill:none;stroke-width:0.75;stroke-linecap:round;stroke-linejoin:round;stroke:rgb(0%,0%,0%);stroke-opacity:1;stroke-miterlimit:10;\" d=\"M 311.699219 213.117188 C 311.699219 216.714844 306.300781 216.714844 306.300781 213.117188 C 306.300781 209.515625 311.699219 209.515625 311.699219 213.117188 \"/>\n",
       "<path style=\"fill:none;stroke-width:0.75;stroke-linecap:round;stroke-linejoin:round;stroke:rgb(0%,0%,0%);stroke-opacity:1;stroke-miterlimit:10;\" d=\"M 356.101563 190.484375 C 356.101563 194.085938 350.699219 194.085938 350.699219 190.484375 C 350.699219 186.882813 356.101563 186.882813 356.101563 190.484375 \"/>\n",
       "<path style=\"fill:none;stroke-width:0.75;stroke-linecap:round;stroke-linejoin:round;stroke:rgb(0%,0%,0%);stroke-opacity:1;stroke-miterlimit:10;\" d=\"M 318.300781 226.695313 C 318.300781 230.292969 312.898438 230.292969 312.898438 226.695313 C 312.898438 223.09375 318.300781 223.09375 318.300781 226.695313 \"/>\n",
       "<path style=\"fill:none;stroke-width:0.75;stroke-linecap:round;stroke-linejoin:round;stroke:rgb(0%,0%,0%);stroke-opacity:1;stroke-miterlimit:10;\" d=\"M 273.300781 240.273438 C 273.300781 243.875 267.898438 243.875 267.898438 240.273438 C 267.898438 236.671875 273.300781 236.671875 273.300781 240.273438 \"/>\n",
       "<path style=\"fill:none;stroke-width:0.75;stroke-linecap:round;stroke-linejoin:round;stroke:rgb(0%,0%,0%);stroke-opacity:1;stroke-miterlimit:10;\" d=\"M 236.101563 240.273438 C 236.101563 243.875 230.699219 243.875 230.699219 240.273438 C 230.699219 236.671875 236.101563 236.671875 236.101563 240.273438 \"/>\n",
       "<path style=\"fill:none;stroke-width:0.75;stroke-linecap:round;stroke-linejoin:round;stroke:rgb(0%,0%,0%);stroke-opacity:1;stroke-miterlimit:10;\" d=\"M 272.101563 271.957031 C 272.101563 275.558594 266.699219 275.558594 266.699219 271.957031 C 266.699219 268.359375 272.101563 268.359375 272.101563 271.957031 \"/>\n",
       "<path style=\"fill:none;stroke-width:0.75;stroke-linecap:round;stroke-linejoin:round;stroke:rgb(0%,0%,0%);stroke-opacity:1;stroke-miterlimit:10;\" d=\"M 245.101563 249.328125 C 245.101563 252.925781 239.699219 252.925781 239.699219 249.328125 C 239.699219 245.726563 245.101563 245.726563 245.101563 249.328125 \"/>\n",
       "<path style=\"fill:none;stroke-width:0.75;stroke-linecap:round;stroke-linejoin:round;stroke:rgb(0%,0%,0%);stroke-opacity:1;stroke-miterlimit:10;\" d=\"M 317.101563 208.589844 C 317.101563 212.191406 311.699219 212.191406 311.699219 208.589844 C 311.699219 204.988281 317.101563 204.988281 317.101563 208.589844 \"/>\n",
       "<path style=\"fill:none;stroke-width:0.75;stroke-linecap:round;stroke-linejoin:round;stroke:rgb(0%,0%,0%);stroke-opacity:1;stroke-miterlimit:10;\" d=\"M 224.101563 267.429688 C 224.101563 271.03125 218.699219 271.03125 218.699219 267.429688 C 218.699219 263.832031 224.101563 263.832031 224.101563 267.429688 \"/>\n",
       "<path style=\"fill:none;stroke-width:0.75;stroke-linecap:round;stroke-linejoin:round;stroke:rgb(0%,0%,0%);stroke-opacity:1;stroke-miterlimit:10;\" d=\"M 196.5 285.535156 C 196.5 289.136719 191.101563 289.136719 191.101563 285.535156 C 191.101563 281.9375 196.5 281.9375 196.5 285.535156 \"/>\n",
       "<path style=\"fill:none;stroke-width:0.75;stroke-linecap:round;stroke-linejoin:round;stroke:rgb(0%,0%,0%);stroke-opacity:1;stroke-miterlimit:10;\" d=\"M 177.300781 294.589844 C 177.300781 298.191406 171.898438 298.191406 171.898438 294.589844 C 171.898438 290.988281 177.300781 290.988281 177.300781 294.589844 \"/>\n",
       "<path style=\"fill:none;stroke-width:0.75;stroke-linecap:round;stroke-linejoin:round;stroke:rgb(0%,0%,0%);stroke-opacity:1;stroke-miterlimit:10;\" d=\"M 317.101563 172.378906 C 317.101563 175.980469 311.699219 175.980469 311.699219 172.378906 C 311.699219 168.777344 317.101563 168.777344 317.101563 172.378906 \"/>\n",
       "<path style=\"fill:none;stroke-width:0.75;stroke-linecap:round;stroke-linejoin:round;stroke:rgb(0%,0%,0%);stroke-opacity:1;stroke-miterlimit:10;\" d=\"M 309.898438 204.0625 C 309.898438 207.664063 304.5 207.664063 304.5 204.0625 C 304.5 200.464844 309.898438 200.464844 309.898438 204.0625 \"/>\n",
       "<path style=\"fill:none;stroke-width:0.75;stroke-linecap:round;stroke-linejoin:round;stroke:rgb(0%,0%,0%);stroke-opacity:1;stroke-miterlimit:10;\" d=\"M 356.101563 185.957031 C 356.101563 189.558594 350.699219 189.558594 350.699219 185.957031 C 350.699219 182.359375 356.101563 182.359375 356.101563 185.957031 \"/>\n",
       "<path style=\"fill:none;stroke-width:0.75;stroke-linecap:round;stroke-linejoin:round;stroke:rgb(0%,0%,0%);stroke-opacity:1;stroke-miterlimit:10;\" d=\"M 202.5 303.640625 C 202.5 307.242188 197.101563 307.242188 197.101563 303.640625 C 197.101563 300.042969 202.5 300.042969 202.5 303.640625 \"/>\n",
       "<path style=\"fill:none;stroke-width:0.75;stroke-linecap:round;stroke-linejoin:round;stroke:rgb(0%,0%,0%);stroke-opacity:1;stroke-miterlimit:10;\" d=\"M 218.699219 285.535156 C 218.699219 289.136719 213.300781 289.136719 213.300781 285.535156 C 213.300781 281.9375 218.699219 281.9375 218.699219 285.535156 \"/>\n",
       "<path style=\"fill:none;stroke-width:0.75;stroke-linecap:round;stroke-linejoin:round;stroke:rgb(0%,0%,0%);stroke-opacity:1;stroke-miterlimit:10;\" d=\"M 237.898438 253.851563 C 237.898438 257.453125 232.5 257.453125 232.5 253.851563 C 232.5 250.253906 237.898438 250.253906 237.898438 253.851563 \"/>\n",
       "<path style=\"fill:none;stroke-width:0.75;stroke-linecap:round;stroke-linejoin:round;stroke:rgb(0%,0%,0%);stroke-opacity:1;stroke-miterlimit:10;\" d=\"M 351.898438 185.957031 C 351.898438 189.558594 346.5 189.558594 346.5 185.957031 C 346.5 182.359375 351.898438 182.359375 351.898438 185.957031 \"/>\n",
       "<path style=\"fill:none;stroke-width:0.75;stroke-linecap:round;stroke-linejoin:round;stroke:rgb(0%,0%,0%);stroke-opacity:1;stroke-miterlimit:10;\" d=\"M 382.5 158.800781 C 382.5 162.398438 377.101563 162.398438 377.101563 158.800781 C 377.101563 155.199219 382.5 155.199219 382.5 158.800781 \"/>\n",
       "<path style=\"fill:none;stroke-width:0.75;stroke-linecap:round;stroke-linejoin:round;stroke:rgb(0%,0%,0%);stroke-opacity:1;stroke-miterlimit:10;\" d=\"M 345.300781 167.851563 C 345.300781 171.453125 339.898438 171.453125 339.898438 167.851563 C 339.898438 164.253906 345.300781 164.253906 345.300781 167.851563 \"/>\n",
       "<path style=\"fill:none;stroke-width:0.75;stroke-linecap:round;stroke-linejoin:round;stroke:rgb(0%,0%,0%);stroke-opacity:1;stroke-miterlimit:10;\" d=\"M 210.300781 285.535156 C 210.300781 289.136719 204.898438 289.136719 204.898438 285.535156 C 204.898438 281.9375 210.300781 281.9375 210.300781 285.535156 \"/>\n",
       "<path style=\"fill:none;stroke-width:0.75;stroke-linecap:round;stroke-linejoin:round;stroke:rgb(0%,0%,0%);stroke-opacity:1;stroke-miterlimit:10;\" d=\"M 200.101563 276.484375 C 200.101563 280.085938 194.699219 280.085938 194.699219 276.484375 C 194.699219 272.882813 200.101563 272.882813 200.101563 276.484375 \"/>\n",
       "<path style=\"fill:none;stroke-width:0.75;stroke-linecap:round;stroke-linejoin:round;stroke:rgb(0%,0%,0%);stroke-opacity:1;stroke-miterlimit:10;\" d=\"M 247.5 222.167969 C 247.5 225.769531 242.101563 225.769531 242.101563 222.167969 C 242.101563 218.570313 247.5 218.570313 247.5 222.167969 \"/>\n",
       "<path style=\"fill:none;stroke-width:0.75;stroke-linecap:round;stroke-linejoin:round;stroke:rgb(0%,0%,0%);stroke-opacity:1;stroke-miterlimit:10;\" d=\"M 206.699219 281.011719 C 206.699219 284.609375 201.300781 284.609375 201.300781 281.011719 C 201.300781 277.410156 206.699219 277.410156 206.699219 281.011719 \"/>\n",
       "<path style=\"fill:none;stroke-width:0.75;stroke-linecap:round;stroke-linejoin:round;stroke:rgb(0%,0%,0%);stroke-opacity:1;stroke-miterlimit:10;\" d=\"M 414.898438 145.222656 C 414.898438 148.820313 409.5 148.820313 409.5 145.222656 C 409.5 141.621094 414.898438 141.621094 414.898438 145.222656 \"/>\n",
       "<path style=\"fill:none;stroke-width:0.75;stroke-linecap:round;stroke-linejoin:round;stroke:rgb(0%,0%,0%);stroke-opacity:1;stroke-miterlimit:10;\" d=\"M 383.101563 131.640625 C 383.101563 135.242188 377.699219 135.242188 377.699219 131.640625 C 377.699219 128.042969 383.101563 128.042969 383.101563 131.640625 \"/>\n",
       "<path style=\"fill:none;stroke-width:0.75;stroke-linecap:round;stroke-linejoin:round;stroke:rgb(0%,0%,0%);stroke-opacity:1;stroke-miterlimit:10;\" d=\"M 297.300781 244.800781 C 297.300781 248.398438 291.898438 248.398438 291.898438 244.800781 C 291.898438 241.199219 297.300781 241.199219 297.300781 244.800781 \"/>\n",
       "<path style=\"fill:none;stroke-width:0.75;stroke-linecap:round;stroke-linejoin:round;stroke:rgb(0%,0%,0%);stroke-opacity:1;stroke-miterlimit:10;\" d=\"M 346.5 172.378906 C 346.5 175.980469 341.101563 175.980469 341.101563 172.378906 C 341.101563 168.777344 346.5 168.777344 346.5 172.378906 \"/>\n",
       "<path style=\"fill:none;stroke-width:0.75;stroke-linecap:round;stroke-linejoin:round;stroke:rgb(0%,0%,0%);stroke-opacity:1;stroke-miterlimit:10;\" d=\"M 171.898438 294.589844 C 171.898438 298.191406 166.5 298.191406 166.5 294.589844 C 166.5 290.988281 171.898438 290.988281 171.898438 294.589844 \"/>\n",
       "<path style=\"fill:none;stroke-width:0.75;stroke-linecap:round;stroke-linejoin:round;stroke:rgb(0%,0%,0%);stroke-opacity:1;stroke-miterlimit:10;\" d=\"M 219.898438 258.378906 C 219.898438 261.980469 214.5 261.980469 214.5 258.378906 C 214.5 254.777344 219.898438 254.777344 219.898438 258.378906 \"/>\n",
       "<path style=\"fill:none;stroke-width:0.75;stroke-linecap:round;stroke-linejoin:round;stroke:rgb(0%,0%,0%);stroke-opacity:1;stroke-miterlimit:10;\" d=\"M 368.101563 163.328125 C 368.101563 166.925781 362.699219 166.925781 362.699219 163.328125 C 362.699219 159.726563 368.101563 159.726563 368.101563 163.328125 \"/>\n",
       "<path style=\"fill:none;stroke-width:0.75;stroke-linecap:round;stroke-linejoin:round;stroke:rgb(0%,0%,0%);stroke-opacity:1;stroke-miterlimit:10;\" d=\"M 365.101563 158.800781 C 365.101563 162.398438 359.699219 162.398438 359.699219 158.800781 C 359.699219 155.199219 365.101563 155.199219 365.101563 158.800781 \"/>\n",
       "<path style=\"fill:none;stroke-width:0.75;stroke-linecap:round;stroke-linejoin:round;stroke:rgb(0%,0%,0%);stroke-opacity:1;stroke-miterlimit:10;\" d=\"M 202.5 271.957031 C 202.5 275.558594 197.101563 275.558594 197.101563 271.957031 C 197.101563 268.359375 202.5 268.359375 202.5 271.957031 \"/>\n",
       "<path style=\"fill:none;stroke-width:0.75;stroke-linecap:round;stroke-linejoin:round;stroke:rgb(0%,0%,0%);stroke-opacity:1;stroke-miterlimit:10;\" d=\"M 194.699219 285.535156 C 194.699219 289.136719 189.300781 289.136719 189.300781 285.535156 C 189.300781 281.9375 194.699219 281.9375 194.699219 285.535156 \"/>\n",
       "<path style=\"fill:none;stroke-width:0.75;stroke-linecap:round;stroke-linejoin:round;stroke:rgb(0%,0%,0%);stroke-opacity:1;stroke-miterlimit:10;\" d=\"M 179.101563 308.167969 C 179.101563 311.769531 173.699219 311.769531 173.699219 308.167969 C 173.699219 304.570313 179.101563 304.570313 179.101563 308.167969 \"/>\n",
       "<path style=\"fill:none;stroke-width:0.75;stroke-linecap:round;stroke-linejoin:round;stroke:rgb(0%,0%,0%);stroke-opacity:1;stroke-miterlimit:10;\" d=\"M 364.5 158.800781 C 364.5 162.398438 359.101563 162.398438 359.101563 158.800781 C 359.101563 155.199219 364.5 155.199219 364.5 158.800781 \"/>\n",
       "<path style=\"fill:none;stroke-width:0.75;stroke-linecap:round;stroke-linejoin:round;stroke:rgb(0%,0%,0%);stroke-opacity:1;stroke-miterlimit:10;\" d=\"M 236.699219 308.167969 C 236.699219 311.769531 231.300781 311.769531 231.300781 308.167969 C 231.300781 304.570313 236.699219 304.570313 236.699219 308.167969 \"/>\n",
       "<path style=\"fill:none;stroke-width:0.75;stroke-linecap:round;stroke-linejoin:round;stroke:rgb(0%,0%,0%);stroke-opacity:1;stroke-miterlimit:10;\" d=\"M 279.300781 249.328125 C 279.300781 252.925781 273.898438 252.925781 273.898438 249.328125 C 273.898438 245.726563 279.300781 245.726563 279.300781 249.328125 \"/>\n",
       "<path style=\"fill:none;stroke-width:0.75;stroke-linecap:round;stroke-linejoin:round;stroke:rgb(0%,0%,0%);stroke-opacity:1;stroke-miterlimit:10;\" d=\"M 233.101563 262.90625 C 233.101563 266.503906 227.699219 266.503906 227.699219 262.90625 C 227.699219 259.304688 233.101563 259.304688 233.101563 262.90625 \"/>\n",
       "<path style=\"fill:none;stroke-width:0.75;stroke-linecap:round;stroke-linejoin:round;stroke:rgb(0%,0%,0%);stroke-opacity:1;stroke-miterlimit:10;\" d=\"M 180.300781 312.695313 C 180.300781 316.292969 174.898438 316.292969 174.898438 312.695313 C 174.898438 309.09375 180.300781 309.09375 180.300781 312.695313 \"/>\n",
       "<path style=\"fill:none;stroke-width:0.75;stroke-linecap:round;stroke-linejoin:round;stroke:rgb(0%,0%,0%);stroke-opacity:1;stroke-miterlimit:10;\" d=\"M 194.699219 290.0625 C 194.699219 293.664063 189.300781 293.664063 189.300781 290.0625 C 189.300781 286.464844 194.699219 286.464844 194.699219 290.0625 \"/>\n",
       "<path style=\"fill:none;stroke-width:0.75;stroke-linecap:round;stroke-linejoin:round;stroke:rgb(0%,0%,0%);stroke-opacity:1;stroke-miterlimit:10;\" d=\"M 360.898438 158.800781 C 360.898438 162.398438 355.5 162.398438 355.5 158.800781 C 355.5 155.199219 360.898438 155.199219 360.898438 158.800781 \"/>\n",
       "<path style=\"fill:none;stroke-width:0.75;stroke-linecap:round;stroke-linejoin:round;stroke:rgb(0%,0%,0%);stroke-opacity:1;stroke-miterlimit:10;\" d=\"M 377.101563 154.273438 C 377.101563 157.875 371.699219 157.875 371.699219 154.273438 C 371.699219 150.671875 377.101563 150.671875 377.101563 154.273438 \"/>\n",
       "<path style=\"fill:none;stroke-width:0.75;stroke-linecap:round;stroke-linejoin:round;stroke:rgb(0%,0%,0%);stroke-opacity:1;stroke-miterlimit:10;\" d=\"M 303.898438 204.0625 C 303.898438 207.664063 298.5 207.664063 298.5 204.0625 C 298.5 200.464844 303.898438 200.464844 303.898438 204.0625 \"/>\n",
       "<path style=\"fill:none;stroke-width:0.75;stroke-linecap:round;stroke-linejoin:round;stroke:rgb(0%,0%,0%);stroke-opacity:1;stroke-miterlimit:10;\" d=\"M 272.699219 249.328125 C 272.699219 252.925781 267.300781 252.925781 267.300781 249.328125 C 267.300781 245.726563 272.699219 245.726563 272.699219 249.328125 \"/>\n",
       "<path style=\"fill:none;stroke-width:0.75;stroke-linecap:round;stroke-linejoin:round;stroke:rgb(0%,0%,0%);stroke-opacity:1;stroke-miterlimit:10;\" d=\"M 271.5 244.800781 C 271.5 248.398438 266.101563 248.398438 266.101563 244.800781 C 266.101563 241.199219 271.5 241.199219 271.5 244.800781 \"/>\n",
       "<path style=\"fill:none;stroke-width:0.75;stroke-linecap:round;stroke-linejoin:round;stroke:rgb(0%,0%,0%);stroke-opacity:1;stroke-miterlimit:10;\" d=\"M 233.101563 262.90625 C 233.101563 266.503906 227.699219 266.503906 227.699219 262.90625 C 227.699219 259.304688 233.101563 259.304688 233.101563 262.90625 \"/>\n",
       "<path style=\"fill:none;stroke-width:0.75;stroke-linecap:round;stroke-linejoin:round;stroke:rgb(0%,0%,0%);stroke-opacity:1;stroke-miterlimit:10;\" d=\"M 248.101563 240.273438 C 248.101563 243.875 242.699219 243.875 242.699219 240.273438 C 242.699219 236.671875 248.101563 236.671875 248.101563 240.273438 \"/>\n",
       "<path style=\"fill:none;stroke-width:0.75;stroke-linecap:round;stroke-linejoin:round;stroke:rgb(0%,0%,0%);stroke-opacity:1;stroke-miterlimit:10;\" d=\"M 300.300781 208.589844 C 300.300781 212.191406 294.898438 212.191406 294.898438 208.589844 C 294.898438 204.988281 300.300781 204.988281 300.300781 208.589844 \"/>\n",
       "<path style=\"fill:none;stroke-width:0.75;stroke-linecap:round;stroke-linejoin:round;stroke:rgb(0%,0%,0%);stroke-opacity:1;stroke-miterlimit:10;\" d=\"M 258.300781 258.378906 C 258.300781 261.980469 252.898438 261.980469 252.898438 258.378906 C 252.898438 254.777344 258.300781 254.777344 258.300781 258.378906 \"/>\n",
       "<path style=\"fill:none;stroke-width:0.75;stroke-linecap:round;stroke-linejoin:round;stroke:rgb(0%,0%,0%);stroke-opacity:1;stroke-miterlimit:10;\" d=\"M 191.101563 285.535156 C 191.101563 289.136719 185.699219 289.136719 185.699219 285.535156 C 185.699219 281.9375 191.101563 281.9375 191.101563 285.535156 \"/>\n",
       "<path style=\"fill:none;stroke-width:0.75;stroke-linecap:round;stroke-linejoin:round;stroke:rgb(0%,0%,0%);stroke-opacity:1;stroke-miterlimit:10;\" d=\"M 327.300781 167.851563 C 327.300781 171.453125 321.898438 171.453125 321.898438 167.851563 C 321.898438 164.253906 327.300781 164.253906 327.300781 167.851563 \"/>\n",
       "<path style=\"fill:none;stroke-width:0.75;stroke-linecap:round;stroke-linejoin:round;stroke:rgb(0%,0%,0%);stroke-opacity:1;stroke-miterlimit:10;\" d=\"M 288.300781 217.640625 C 288.300781 221.242188 282.898438 221.242188 282.898438 217.640625 C 282.898438 214.042969 288.300781 214.042969 288.300781 217.640625 \"/>\n",
       "<path style=\"fill:none;stroke-width:0.75;stroke-linecap:round;stroke-linejoin:round;stroke:rgb(0%,0%,0%);stroke-opacity:1;stroke-miterlimit:10;\" d=\"M 278.101563 213.117188 C 278.101563 216.714844 272.699219 216.714844 272.699219 213.117188 C 272.699219 209.515625 278.101563 209.515625 278.101563 213.117188 \"/>\n",
       "<path style=\"fill:none;stroke-width:0.75;stroke-linecap:round;stroke-linejoin:round;stroke:rgb(0%,0%,0%);stroke-opacity:1;stroke-miterlimit:10;\" d=\"M 187.5 303.640625 C 187.5 307.242188 182.101563 307.242188 182.101563 303.640625 C 182.101563 300.042969 187.5 300.042969 187.5 303.640625 \"/>\n",
       "<path style=\"fill:none;stroke-width:0.75;stroke-linecap:round;stroke-linejoin:round;stroke:rgb(0%,0%,0%);stroke-opacity:1;stroke-miterlimit:10;\" d=\"M 422.699219 118.0625 C 422.699219 121.664063 417.300781 121.664063 417.300781 118.0625 C 417.300781 114.464844 422.699219 114.464844 422.699219 118.0625 \"/>\n",
       "<path style=\"fill:none;stroke-width:0.75;stroke-linecap:round;stroke-linejoin:round;stroke:rgb(0%,0%,0%);stroke-opacity:1;stroke-miterlimit:10;\" d=\"M 294.898438 240.273438 C 294.898438 243.875 289.5 243.875 289.5 240.273438 C 289.5 236.671875 294.898438 236.671875 294.898438 240.273438 \"/>\n",
       "<path style=\"fill:none;stroke-width:0.75;stroke-linecap:round;stroke-linejoin:round;stroke:rgb(0%,0%,0%);stroke-opacity:1;stroke-miterlimit:10;\" d=\"M 363.898438 181.429688 C 363.898438 185.03125 358.5 185.03125 358.5 181.429688 C 358.5 177.832031 363.898438 177.832031 363.898438 181.429688 \"/>\n",
       "<path style=\"fill:none;stroke-width:0.75;stroke-linecap:round;stroke-linejoin:round;stroke:rgb(0%,0%,0%);stroke-opacity:1;stroke-miterlimit:10;\" d=\"M 299.101563 190.484375 C 299.101563 194.085938 293.699219 194.085938 293.699219 190.484375 C 293.699219 186.882813 299.101563 186.882813 299.101563 190.484375 \"/>\n",
       "<path style=\"fill:none;stroke-width:0.75;stroke-linecap:round;stroke-linejoin:round;stroke:rgb(0%,0%,0%);stroke-opacity:1;stroke-miterlimit:10;\" d=\"M 233.699219 235.746094 C 233.699219 239.347656 228.300781 239.347656 228.300781 235.746094 C 228.300781 232.148438 233.699219 232.148438 233.699219 235.746094 \"/>\n",
       "<path style=\"fill:none;stroke-width:0.75;stroke-linecap:round;stroke-linejoin:round;stroke:rgb(0%,0%,0%);stroke-opacity:1;stroke-miterlimit:10;\" d=\"M 269.699219 249.328125 C 269.699219 252.925781 264.300781 252.925781 264.300781 249.328125 C 264.300781 245.726563 269.699219 245.726563 269.699219 249.328125 \"/>\n",
       "<path style=\"fill:none;stroke-width:0.75;stroke-linecap:round;stroke-linejoin:round;stroke:rgb(0%,0%,0%);stroke-opacity:1;stroke-miterlimit:10;\" d=\"M 318.300781 195.011719 C 318.300781 198.609375 312.898438 198.609375 312.898438 195.011719 C 312.898438 191.410156 318.300781 191.410156 318.300781 195.011719 \"/>\n",
       "<path style=\"fill:none;stroke-width:0.75;stroke-linecap:round;stroke-linejoin:round;stroke:rgb(0%,0%,0%);stroke-opacity:1;stroke-miterlimit:10;\" d=\"M 258.300781 249.328125 C 258.300781 252.925781 252.898438 252.925781 252.898438 249.328125 C 252.898438 245.726563 258.300781 245.726563 258.300781 249.328125 \"/>\n",
       "<path style=\"fill:none;stroke-width:0.75;stroke-linecap:round;stroke-linejoin:round;stroke:rgb(0%,0%,0%);stroke-opacity:1;stroke-miterlimit:10;\" d=\"M 191.101563 303.640625 C 191.101563 307.242188 185.699219 307.242188 185.699219 303.640625 C 185.699219 300.042969 191.101563 300.042969 191.101563 303.640625 \"/>\n",
       "<path style=\"fill:none;stroke-width:0.75;stroke-linecap:round;stroke-linejoin:round;stroke:rgb(0%,0%,0%);stroke-opacity:1;stroke-miterlimit:10;\" d=\"M 122.101563 353.429688 C 122.101563 357.03125 116.699219 357.03125 116.699219 353.429688 C 116.699219 349.832031 122.101563 349.832031 122.101563 353.429688 \"/>\n",
       "<path style=\"fill:none;stroke-width:0.75;stroke-linecap:round;stroke-linejoin:round;stroke:rgb(0%,0%,0%);stroke-opacity:1;stroke-miterlimit:10;\" d=\"M 428.101563 136.167969 C 428.101563 139.769531 422.699219 139.769531 422.699219 136.167969 C 422.699219 132.570313 428.101563 132.570313 428.101563 136.167969 \"/>\n",
       "<path style=\"fill:none;stroke-width:0.75;stroke-linecap:round;stroke-linejoin:round;stroke:rgb(0%,0%,0%);stroke-opacity:1;stroke-miterlimit:10;\" d=\"M 164.699219 271.957031 C 164.699219 275.558594 159.300781 275.558594 159.300781 271.957031 C 159.300781 268.359375 164.699219 268.359375 164.699219 271.957031 \"/>\n",
       "<path style=\"fill:none;stroke-width:0.75;stroke-linecap:round;stroke-linejoin:round;stroke:rgb(0%,0%,0%);stroke-opacity:1;stroke-miterlimit:10;\" d=\"M 270.300781 222.167969 C 270.300781 225.769531 264.898438 225.769531 264.898438 222.167969 C 264.898438 218.570313 270.300781 218.570313 270.300781 222.167969 \"/>\n",
       "<path style=\"fill:none;stroke-width:0.75;stroke-linecap:round;stroke-linejoin:round;stroke:rgb(0%,0%,0%);stroke-opacity:1;stroke-miterlimit:10;\" d=\"M 212.699219 262.90625 C 212.699219 266.503906 207.300781 266.503906 207.300781 262.90625 C 207.300781 259.304688 212.699219 259.304688 212.699219 262.90625 \"/>\n",
       "<path style=\"fill:none;stroke-width:0.75;stroke-linecap:round;stroke-linejoin:round;stroke:rgb(0%,0%,0%);stroke-opacity:1;stroke-miterlimit:10;\" d=\"M 225.300781 281.011719 C 225.300781 284.609375 219.898438 284.609375 219.898438 281.011719 C 219.898438 277.410156 225.300781 277.410156 225.300781 281.011719 \"/>\n",
       "<path style=\"fill:none;stroke-width:0.75;stroke-linecap:round;stroke-linejoin:round;stroke:rgb(0%,0%,0%);stroke-opacity:1;stroke-miterlimit:10;\" d=\"M 192.300781 303.640625 C 192.300781 307.242188 186.898438 307.242188 186.898438 303.640625 C 186.898438 300.042969 192.300781 300.042969 192.300781 303.640625 \"/>\n",
       "<path style=\"fill:none;stroke-width:0.75;stroke-linecap:round;stroke-linejoin:round;stroke:rgb(0%,0%,0%);stroke-opacity:1;stroke-miterlimit:10;\" d=\"M 312.300781 199.535156 C 312.300781 203.136719 306.898438 203.136719 306.898438 199.535156 C 306.898438 195.9375 312.300781 195.9375 312.300781 199.535156 \"/>\n",
       "<path style=\"fill:none;stroke-width:0.75;stroke-linecap:round;stroke-linejoin:round;stroke:rgb(0%,0%,0%);stroke-opacity:1;stroke-miterlimit:10;\" d=\"M 461.101563 81.851563 C 461.101563 85.453125 455.699219 85.453125 455.699219 81.851563 C 455.699219 78.253906 461.101563 78.253906 461.101563 81.851563 \"/>\n",
       "<path style=\"fill:none;stroke-width:0.75;stroke-linecap:round;stroke-linejoin:round;stroke:rgb(0%,0%,0%);stroke-opacity:1;stroke-miterlimit:10;\" d=\"M 238.5 262.90625 C 238.5 266.503906 233.101563 266.503906 233.101563 262.90625 C 233.101563 259.304688 238.5 259.304688 238.5 262.90625 \"/>\n",
       "<path style=\"fill:none;stroke-width:0.75;stroke-linecap:round;stroke-linejoin:round;stroke:rgb(0%,0%,0%);stroke-opacity:1;stroke-miterlimit:10;\" d=\"M 218.699219 258.378906 C 218.699219 261.980469 213.300781 261.980469 213.300781 258.378906 C 213.300781 254.777344 218.699219 254.777344 218.699219 258.378906 \"/>\n",
       "<path style=\"fill:none;stroke-width:0.75;stroke-linecap:round;stroke-linejoin:round;stroke:rgb(0%,0%,0%);stroke-opacity:1;stroke-miterlimit:10;\" d=\"M 234.898438 285.535156 C 234.898438 289.136719 229.5 289.136719 229.5 285.535156 C 229.5 281.9375 234.898438 281.9375 234.898438 285.535156 \"/>\n",
       "<path style=\"fill:none;stroke-width:0.75;stroke-linecap:round;stroke-linejoin:round;stroke:rgb(0%,0%,0%);stroke-opacity:1;stroke-miterlimit:10;\" d=\"M 344.101563 154.273438 C 344.101563 157.875 338.699219 157.875 338.699219 154.273438 C 338.699219 150.671875 344.101563 150.671875 344.101563 154.273438 \"/>\n",
       "<path style=\"fill:none;stroke-width:0.75;stroke-linecap:round;stroke-linejoin:round;stroke:rgb(0%,0%,0%);stroke-opacity:1;stroke-miterlimit:10;\" d=\"M 278.101563 253.851563 C 278.101563 257.453125 272.699219 257.453125 272.699219 253.851563 C 272.699219 250.253906 278.101563 250.253906 278.101563 253.851563 \"/>\n",
       "<path style=\"fill:none;stroke-width:0.75;stroke-linecap:round;stroke-linejoin:round;stroke:rgb(0%,0%,0%);stroke-opacity:1;stroke-miterlimit:10;\" d=\"M 339.300781 195.011719 C 339.300781 198.609375 333.898438 198.609375 333.898438 195.011719 C 333.898438 191.410156 339.300781 191.410156 339.300781 195.011719 \"/>\n",
       "<path style=\"fill:none;stroke-width:0.75;stroke-linecap:round;stroke-linejoin:round;stroke:rgb(0%,0%,0%);stroke-opacity:1;stroke-miterlimit:10;\" d=\"M 292.5 222.167969 C 292.5 225.769531 287.101563 225.769531 287.101563 222.167969 C 287.101563 218.570313 292.5 218.570313 292.5 222.167969 \"/>\n",
       "<path style=\"fill:none;stroke-width:0.75;stroke-linecap:round;stroke-linejoin:round;stroke:rgb(0%,0%,0%);stroke-opacity:1;stroke-miterlimit:10;\" d=\"M 197.101563 312.695313 C 197.101563 316.292969 191.699219 316.292969 191.699219 312.695313 C 191.699219 309.09375 197.101563 309.09375 197.101563 312.695313 \"/>\n",
       "<path style=\"fill:none;stroke-width:0.75;stroke-linecap:round;stroke-linejoin:round;stroke:rgb(0%,0%,0%);stroke-opacity:1;stroke-miterlimit:10;\" d=\"M 317.101563 199.535156 C 317.101563 203.136719 311.699219 203.136719 311.699219 199.535156 C 311.699219 195.9375 317.101563 195.9375 317.101563 199.535156 \"/>\n",
       "<path style=\"fill:none;stroke-width:0.75;stroke-linecap:round;stroke-linejoin:round;stroke:rgb(0%,0%,0%);stroke-opacity:1;stroke-miterlimit:10;\" d=\"M 304.5 199.535156 C 304.5 203.136719 299.101563 203.136719 299.101563 199.535156 C 299.101563 195.9375 304.5 195.9375 304.5 199.535156 \"/>\n",
       "<path style=\"fill:none;stroke-width:0.75;stroke-linecap:round;stroke-linejoin:round;stroke:rgb(0%,0%,0%);stroke-opacity:1;stroke-miterlimit:10;\" d=\"M 296.699219 217.640625 C 296.699219 221.242188 291.300781 221.242188 291.300781 217.640625 C 291.300781 214.042969 296.699219 214.042969 296.699219 217.640625 \"/>\n",
       "<path style=\"fill:none;stroke-width:0.75;stroke-linecap:round;stroke-linejoin:round;stroke:rgb(0%,0%,0%);stroke-opacity:1;stroke-miterlimit:10;\" d=\"M 401.699219 140.695313 C 401.699219 144.292969 396.300781 144.292969 396.300781 140.695313 C 396.300781 137.09375 401.699219 137.09375 401.699219 140.695313 \"/>\n",
       "<path style=\"fill:none;stroke-width:0.75;stroke-linecap:round;stroke-linejoin:round;stroke:rgb(0%,0%,0%);stroke-opacity:1;stroke-miterlimit:10;\" d=\"M 354.300781 154.273438 C 354.300781 157.875 348.898438 157.875 348.898438 154.273438 C 348.898438 150.671875 354.300781 150.671875 354.300781 154.273438 \"/>\n",
       "<path style=\"fill:none;stroke-width:0.75;stroke-linecap:round;stroke-linejoin:round;stroke:rgb(0%,0%,0%);stroke-opacity:1;stroke-miterlimit:10;\" d=\"M 272.101563 244.800781 C 272.101563 248.398438 266.699219 248.398438 266.699219 244.800781 C 266.699219 241.199219 272.101563 241.199219 272.101563 244.800781 \"/>\n",
       "<path style=\"fill:none;stroke-width:0.75;stroke-linecap:round;stroke-linejoin:round;stroke:rgb(0%,0%,0%);stroke-opacity:1;stroke-miterlimit:10;\" d=\"M 232.5 290.0625 C 232.5 293.664063 227.101563 293.664063 227.101563 290.0625 C 227.101563 286.464844 232.5 286.464844 232.5 290.0625 \"/>\n",
       "<path style=\"fill:none;stroke-width:0.75;stroke-linecap:round;stroke-linejoin:round;stroke:rgb(0%,0%,0%);stroke-opacity:1;stroke-miterlimit:10;\" d=\"M 243.300781 235.746094 C 243.300781 239.347656 237.898438 239.347656 237.898438 235.746094 C 237.898438 232.148438 243.300781 232.148438 243.300781 235.746094 \"/>\n",
       "<path style=\"fill:none;stroke-width:0.75;stroke-linecap:round;stroke-linejoin:round;stroke:rgb(0%,0%,0%);stroke-opacity:1;stroke-miterlimit:10;\" d=\"M 207.898438 253.851563 C 207.898438 257.453125 202.5 257.453125 202.5 253.851563 C 202.5 250.253906 207.898438 250.253906 207.898438 253.851563 \"/>\n",
       "<path style=\"fill:none;stroke-width:0.75;stroke-linecap:round;stroke-linejoin:round;stroke:rgb(0%,0%,0%);stroke-opacity:1;stroke-miterlimit:10;\" d=\"M 307.5 208.589844 C 307.5 212.191406 302.101563 212.191406 302.101563 208.589844 C 302.101563 204.988281 307.5 204.988281 307.5 208.589844 \"/>\n",
       "<path style=\"fill:none;stroke-width:0.75;stroke-linecap:round;stroke-linejoin:round;stroke:rgb(0%,0%,0%);stroke-opacity:1;stroke-miterlimit:10;\" d=\"M 284.699219 222.167969 C 284.699219 225.769531 279.300781 225.769531 279.300781 222.167969 C 279.300781 218.570313 284.699219 218.570313 284.699219 222.167969 \"/>\n",
       "<path style=\"fill:none;stroke-width:0.75;stroke-linecap:round;stroke-linejoin:round;stroke:rgb(0%,0%,0%);stroke-opacity:1;stroke-miterlimit:10;\" d=\"M 272.101563 240.273438 C 272.101563 243.875 266.699219 243.875 266.699219 240.273438 C 266.699219 236.671875 272.101563 236.671875 272.101563 240.273438 \"/>\n",
       "<path style=\"fill:none;stroke-width:0.75;stroke-linecap:round;stroke-linejoin:round;stroke:rgb(0%,0%,0%);stroke-opacity:1;stroke-miterlimit:10;\" d=\"M 318.300781 181.429688 C 318.300781 185.03125 312.898438 185.03125 312.898438 181.429688 C 312.898438 177.832031 318.300781 177.832031 318.300781 181.429688 \"/>\n",
       "<path style=\"fill:none;stroke-width:0.75;stroke-linecap:round;stroke-linejoin:round;stroke:rgb(0%,0%,0%);stroke-opacity:1;stroke-miterlimit:10;\" d=\"M 345.898438 217.640625 C 345.898438 221.242188 340.5 221.242188 340.5 217.640625 C 340.5 214.042969 345.898438 214.042969 345.898438 217.640625 \"/>\n",
       "<path style=\"fill:none;stroke-width:0.75;stroke-linecap:round;stroke-linejoin:round;stroke:rgb(0%,0%,0%);stroke-opacity:1;stroke-miterlimit:10;\" d=\"M 231.898438 294.589844 C 231.898438 298.191406 226.5 298.191406 226.5 294.589844 C 226.5 290.988281 231.898438 290.988281 231.898438 294.589844 \"/>\n",
       "<path style=\"fill:none;stroke-width:0.75;stroke-linecap:round;stroke-linejoin:round;stroke:rgb(0%,0%,0%);stroke-opacity:1;stroke-miterlimit:10;\" d=\"M 333.898438 199.535156 C 333.898438 203.136719 328.5 203.136719 328.5 199.535156 C 328.5 195.9375 333.898438 195.9375 333.898438 199.535156 \"/>\n",
       "<path style=\"fill:none;stroke-width:0.75;stroke-linecap:round;stroke-linejoin:round;stroke:rgb(0%,0%,0%);stroke-opacity:1;stroke-miterlimit:10;\" d=\"M 239.101563 244.800781 C 239.101563 248.398438 233.699219 248.398438 233.699219 244.800781 C 233.699219 241.199219 239.101563 241.199219 239.101563 244.800781 \"/>\n",
       "<path style=\"fill:none;stroke-width:0.75;stroke-linecap:round;stroke-linejoin:round;stroke:rgb(0%,0%,0%);stroke-opacity:1;stroke-miterlimit:10;\" d=\"M 222.300781 290.0625 C 222.300781 293.664063 216.898438 293.664063 216.898438 290.0625 C 216.898438 286.464844 222.300781 286.464844 222.300781 290.0625 \"/>\n",
       "<path style=\"fill:none;stroke-width:0.75;stroke-linecap:round;stroke-linejoin:round;stroke:rgb(0%,0%,0%);stroke-opacity:1;stroke-miterlimit:10;\" d=\"M 246.300781 244.800781 C 246.300781 248.398438 240.898438 248.398438 240.898438 244.800781 C 240.898438 241.199219 246.300781 241.199219 246.300781 244.800781 \"/>\n",
       "<path style=\"fill:none;stroke-width:0.75;stroke-linecap:round;stroke-linejoin:round;stroke:rgb(0%,0%,0%);stroke-opacity:1;stroke-miterlimit:10;\" d=\"M 316.5 199.535156 C 316.5 203.136719 311.101563 203.136719 311.101563 199.535156 C 311.101563 195.9375 316.5 195.9375 316.5 199.535156 \"/>\n",
       "<path style=\"fill:none;stroke-width:0.75;stroke-linecap:round;stroke-linejoin:round;stroke:rgb(0%,0%,0%);stroke-opacity:1;stroke-miterlimit:10;\" d=\"M 397.5 163.328125 C 397.5 166.925781 392.101563 166.925781 392.101563 163.328125 C 392.101563 159.726563 397.5 159.726563 397.5 163.328125 \"/>\n",
       "<path style=\"fill:none;stroke-width:0.75;stroke-linecap:round;stroke-linejoin:round;stroke:rgb(0%,0%,0%);stroke-opacity:1;stroke-miterlimit:10;\" d=\"M 166.5 303.640625 C 166.5 307.242188 161.101563 307.242188 161.101563 303.640625 C 161.101563 300.042969 166.5 300.042969 166.5 303.640625 \"/>\n",
       "<path style=\"fill:none;stroke-width:0.75;stroke-linecap:round;stroke-linejoin:round;stroke:rgb(0%,0%,0%);stroke-opacity:1;stroke-miterlimit:10;\" d=\"M 172.5 290.0625 C 172.5 293.664063 167.101563 293.664063 167.101563 290.0625 C 167.101563 286.464844 172.5 286.464844 172.5 290.0625 \"/>\n",
       "<path style=\"fill:none;stroke-width:0.75;stroke-linecap:round;stroke-linejoin:round;stroke:rgb(0%,0%,0%);stroke-opacity:1;stroke-miterlimit:10;\" d=\"M 254.699219 240.273438 C 254.699219 243.875 249.300781 243.875 249.300781 240.273438 C 249.300781 236.671875 254.699219 236.671875 254.699219 240.273438 \"/>\n",
       "<path style=\"fill:none;stroke-width:0.75;stroke-linecap:round;stroke-linejoin:round;stroke:rgb(0%,0%,0%);stroke-opacity:1;stroke-miterlimit:10;\" d=\"M 218.101563 253.851563 C 218.101563 257.453125 212.699219 257.453125 212.699219 253.851563 C 212.699219 250.253906 218.101563 250.253906 218.101563 253.851563 \"/>\n",
       "<path style=\"fill:none;stroke-width:0.75;stroke-linecap:round;stroke-linejoin:round;stroke:rgb(0%,0%,0%);stroke-opacity:1;stroke-miterlimit:10;\" d=\"M 330.898438 190.484375 C 330.898438 194.085938 325.5 194.085938 325.5 190.484375 C 325.5 186.882813 330.898438 186.882813 330.898438 190.484375 \"/>\n",
       "<path style=\"fill:none;stroke-width:0.75;stroke-linecap:round;stroke-linejoin:round;stroke:rgb(0%,0%,0%);stroke-opacity:1;stroke-miterlimit:10;\" d=\"M 270.300781 190.484375 C 270.300781 194.085938 264.898438 194.085938 264.898438 190.484375 C 264.898438 186.882813 270.300781 186.882813 270.300781 190.484375 \"/>\n",
       "<path style=\"fill:none;stroke-width:0.75;stroke-linecap:round;stroke-linejoin:round;stroke:rgb(0%,0%,0%);stroke-opacity:1;stroke-miterlimit:10;\" d=\"M 264.300781 267.429688 C 264.300781 271.03125 258.898438 271.03125 258.898438 267.429688 C 258.898438 263.832031 264.300781 263.832031 264.300781 267.429688 \"/>\n",
       "<path style=\"fill:none;stroke-width:0.75;stroke-linecap:round;stroke-linejoin:round;stroke:rgb(0%,0%,0%);stroke-opacity:1;stroke-miterlimit:10;\" d=\"M 266.101563 249.328125 C 266.101563 252.925781 260.699219 252.925781 260.699219 249.328125 C 260.699219 245.726563 266.101563 245.726563 266.101563 249.328125 \"/>\n",
       "<path style=\"fill:none;stroke-width:0.75;stroke-linecap:round;stroke-linejoin:round;stroke:rgb(0%,0%,0%);stroke-opacity:1;stroke-miterlimit:10;\" d=\"M 251.699219 253.851563 C 251.699219 257.453125 246.300781 257.453125 246.300781 253.851563 C 246.300781 250.253906 251.699219 250.253906 251.699219 253.851563 \"/>\n",
       "<path style=\"fill:none;stroke-width:0.75;stroke-linecap:round;stroke-linejoin:round;stroke:rgb(0%,0%,0%);stroke-opacity:1;stroke-miterlimit:10;\" d=\"M 350.699219 163.328125 C 350.699219 166.925781 345.300781 166.925781 345.300781 163.328125 C 345.300781 159.726563 350.699219 159.726563 350.699219 163.328125 \"/>\n",
       "<path style=\"fill:none;stroke-width:0.75;stroke-linecap:round;stroke-linejoin:round;stroke:rgb(0%,0%,0%);stroke-opacity:1;stroke-miterlimit:10;\" d=\"M 303.300781 199.535156 C 303.300781 203.136719 297.898438 203.136719 297.898438 199.535156 C 297.898438 195.9375 303.300781 195.9375 303.300781 199.535156 \"/>\n",
       "<path style=\"fill:none;stroke-width:0.75;stroke-linecap:round;stroke-linejoin:round;stroke:rgb(0%,0%,0%);stroke-opacity:1;stroke-miterlimit:10;\" d=\"M 279.898438 213.117188 C 279.898438 216.714844 274.5 216.714844 274.5 213.117188 C 274.5 209.515625 279.898438 209.515625 279.898438 213.117188 \"/>\n",
       "<path style=\"fill:none;stroke-width:0.75;stroke-linecap:round;stroke-linejoin:round;stroke:rgb(0%,0%,0%);stroke-opacity:1;stroke-miterlimit:10;\" d=\"M 167.101563 281.011719 C 167.101563 284.609375 161.699219 284.609375 161.699219 281.011719 C 161.699219 277.410156 167.101563 277.410156 167.101563 281.011719 \"/>\n",
       "<path style=\"fill:none;stroke-width:0.75;stroke-linecap:round;stroke-linejoin:round;stroke:rgb(0%,0%,0%);stroke-opacity:1;stroke-miterlimit:10;\" d=\"M 276.300781 253.851563 C 276.300781 257.453125 270.898438 257.453125 270.898438 253.851563 C 270.898438 250.253906 276.300781 250.253906 276.300781 253.851563 \"/>\n",
       "<path style=\"fill:none;stroke-width:0.75;stroke-linecap:round;stroke-linejoin:round;stroke:rgb(0%,0%,0%);stroke-opacity:1;stroke-miterlimit:10;\" d=\"M 338.101563 213.117188 C 338.101563 216.714844 332.699219 216.714844 332.699219 213.117188 C 332.699219 209.515625 338.101563 209.515625 338.101563 213.117188 \"/>\n",
       "<path style=\"fill:none;stroke-width:0.75;stroke-linecap:round;stroke-linejoin:round;stroke:rgb(0%,0%,0%);stroke-opacity:1;stroke-miterlimit:10;\" d=\"M 278.699219 231.222656 C 278.699219 234.820313 273.300781 234.820313 273.300781 231.222656 C 273.300781 227.621094 278.699219 227.621094 278.699219 231.222656 \"/>\n",
       "<path style=\"fill:none;stroke-width:0.75;stroke-linecap:round;stroke-linejoin:round;stroke:rgb(0%,0%,0%);stroke-opacity:1;stroke-miterlimit:10;\" d=\"M 385.5 149.746094 C 385.5 153.347656 380.101563 153.347656 380.101563 149.746094 C 380.101563 146.148438 385.5 146.148438 385.5 149.746094 \"/>\n",
       "<path style=\"fill:none;stroke-width:0.75;stroke-linecap:round;stroke-linejoin:round;stroke:rgb(0%,0%,0%);stroke-opacity:1;stroke-miterlimit:10;\" d=\"M 273.898438 222.167969 C 273.898438 225.769531 268.5 225.769531 268.5 222.167969 C 268.5 218.570313 273.898438 218.570313 273.898438 222.167969 \"/>\n",
       "<path style=\"fill:none;stroke-width:0.75;stroke-linecap:round;stroke-linejoin:round;stroke:rgb(0%,0%,0%);stroke-opacity:1;stroke-miterlimit:10;\" d=\"M 83.699219 357.957031 C 83.699219 361.558594 78.300781 361.558594 78.300781 357.957031 C 78.300781 354.359375 83.699219 354.359375 83.699219 357.957031 \"/>\n",
       "<path style=\"fill:none;stroke-width:0.75;stroke-linecap:round;stroke-linejoin:round;stroke:rgb(0%,0%,0%);stroke-opacity:1;stroke-miterlimit:10;\" d=\"M 266.699219 235.746094 C 266.699219 239.347656 261.300781 239.347656 261.300781 235.746094 C 261.300781 232.148438 266.699219 232.148438 266.699219 235.746094 \"/>\n",
       "<path style=\"fill:none;stroke-width:0.75;stroke-linecap:round;stroke-linejoin:round;stroke:rgb(0%,0%,0%);stroke-opacity:1;stroke-miterlimit:10;\" d=\"M 252.300781 226.695313 C 252.300781 230.292969 246.898438 230.292969 246.898438 226.695313 C 246.898438 223.09375 252.300781 223.09375 252.300781 226.695313 \"/>\n",
       "<path style=\"fill:none;stroke-width:0.75;stroke-linecap:round;stroke-linejoin:round;stroke:rgb(0%,0%,0%);stroke-opacity:1;stroke-miterlimit:10;\" d=\"M 251.699219 258.378906 C 251.699219 261.980469 246.300781 261.980469 246.300781 258.378906 C 246.300781 254.777344 251.699219 254.777344 251.699219 258.378906 \"/>\n",
       "<path style=\"fill:none;stroke-width:0.75;stroke-linecap:round;stroke-linejoin:round;stroke:rgb(0%,0%,0%);stroke-opacity:1;stroke-miterlimit:10;\" d=\"M 306.300781 190.484375 C 306.300781 194.085938 300.898438 194.085938 300.898438 190.484375 C 300.898438 186.882813 306.300781 186.882813 306.300781 190.484375 \"/>\n",
       "<path style=\"fill:none;stroke-width:0.75;stroke-linecap:round;stroke-linejoin:round;stroke:rgb(0%,0%,0%);stroke-opacity:1;stroke-miterlimit:10;\" d=\"M 272.699219 235.746094 C 272.699219 239.347656 267.300781 239.347656 267.300781 235.746094 C 267.300781 232.148438 272.699219 232.148438 272.699219 235.746094 \"/>\n",
       "<path style=\"fill:none;stroke-width:0.75;stroke-linecap:round;stroke-linejoin:round;stroke:rgb(0%,0%,0%);stroke-opacity:1;stroke-miterlimit:10;\" d=\"M 261.898438 244.800781 C 261.898438 248.398438 256.5 248.398438 256.5 244.800781 C 256.5 241.199219 261.898438 241.199219 261.898438 244.800781 \"/>\n",
       "<path style=\"fill:none;stroke-width:0.75;stroke-linecap:round;stroke-linejoin:round;stroke:rgb(0%,0%,0%);stroke-opacity:1;stroke-miterlimit:10;\" d=\"M 319.5 199.535156 C 319.5 203.136719 314.101563 203.136719 314.101563 199.535156 C 314.101563 195.9375 319.5 195.9375 319.5 199.535156 \"/>\n",
       "<path style=\"fill:none;stroke-width:0.75;stroke-linecap:round;stroke-linejoin:round;stroke:rgb(0%,0%,0%);stroke-opacity:1;stroke-miterlimit:10;\" d=\"M 255.898438 276.484375 C 255.898438 280.085938 250.5 280.085938 250.5 276.484375 C 250.5 272.882813 255.898438 272.882813 255.898438 276.484375 \"/>\n",
       "<path style=\"fill:none;stroke-width:0.75;stroke-linecap:round;stroke-linejoin:round;stroke:rgb(0%,0%,0%);stroke-opacity:1;stroke-miterlimit:10;\" d=\"M 326.101563 181.429688 C 326.101563 185.03125 320.699219 185.03125 320.699219 181.429688 C 320.699219 177.832031 326.101563 177.832031 326.101563 181.429688 \"/>\n",
       "<path style=\"fill:none;stroke-width:0.75;stroke-linecap:round;stroke-linejoin:round;stroke:rgb(0%,0%,0%);stroke-opacity:1;stroke-miterlimit:10;\" d=\"M 252.300781 244.800781 C 252.300781 248.398438 246.898438 248.398438 246.898438 244.800781 C 246.898438 241.199219 252.300781 241.199219 252.300781 244.800781 \"/>\n",
       "<path style=\"fill:none;stroke-width:0.75;stroke-linecap:round;stroke-linejoin:round;stroke:rgb(0%,0%,0%);stroke-opacity:1;stroke-miterlimit:10;\" d=\"M 191.699219 294.589844 C 191.699219 298.191406 186.300781 298.191406 186.300781 294.589844 C 186.300781 290.988281 191.699219 290.988281 191.699219 294.589844 \"/>\n",
       "<path style=\"fill:none;stroke-width:0.75;stroke-linecap:round;stroke-linejoin:round;stroke:rgb(0%,0%,0%);stroke-opacity:1;stroke-miterlimit:10;\" d=\"M 241.5 267.429688 C 241.5 271.03125 236.101563 271.03125 236.101563 267.429688 C 236.101563 263.832031 241.5 263.832031 241.5 267.429688 \"/>\n",
       "<path style=\"fill:none;stroke-width:0.75;stroke-linecap:round;stroke-linejoin:round;stroke:rgb(0%,0%,0%);stroke-opacity:1;stroke-miterlimit:10;\" d=\"M 329.101563 185.957031 C 329.101563 189.558594 323.699219 189.558594 323.699219 185.957031 C 323.699219 182.359375 329.101563 182.359375 329.101563 185.957031 \"/>\n",
       "<path style=\"fill:none;stroke-width:0.75;stroke-linecap:round;stroke-linejoin:round;stroke:rgb(0%,0%,0%);stroke-opacity:1;stroke-miterlimit:10;\" d=\"M 334.5 213.117188 C 334.5 216.714844 329.101563 216.714844 329.101563 213.117188 C 329.101563 209.515625 334.5 209.515625 334.5 213.117188 \"/>\n",
       "<path style=\"fill:none;stroke-width:0.75;stroke-linecap:round;stroke-linejoin:round;stroke:rgb(0%,0%,0%);stroke-opacity:1;stroke-miterlimit:10;\" d=\"M 209.699219 290.0625 C 209.699219 293.664063 204.300781 293.664063 204.300781 290.0625 C 204.300781 286.464844 209.699219 286.464844 209.699219 290.0625 \"/>\n",
       "<path style=\"fill:none;stroke-width:0.75;stroke-linecap:round;stroke-linejoin:round;stroke:rgb(0%,0%,0%);stroke-opacity:1;stroke-miterlimit:10;\" d=\"M 307.5 199.535156 C 307.5 203.136719 302.101563 203.136719 302.101563 199.535156 C 302.101563 195.9375 307.5 195.9375 307.5 199.535156 \"/>\n",
       "<path style=\"fill:none;stroke-width:0.75;stroke-linecap:round;stroke-linejoin:round;stroke:rgb(0%,0%,0%);stroke-opacity:1;stroke-miterlimit:10;\" d=\"M 353.101563 190.484375 C 353.101563 194.085938 347.699219 194.085938 347.699219 190.484375 C 347.699219 186.882813 353.101563 186.882813 353.101563 190.484375 \"/>\n",
       "<path style=\"fill:none;stroke-width:0.75;stroke-linecap:round;stroke-linejoin:round;stroke:rgb(0%,0%,0%);stroke-opacity:1;stroke-miterlimit:10;\" d=\"M 249.898438 262.90625 C 249.898438 266.503906 244.5 266.503906 244.5 262.90625 C 244.5 259.304688 249.898438 259.304688 249.898438 262.90625 \"/>\n",
       "<path style=\"fill:none;stroke-width:0.75;stroke-linecap:round;stroke-linejoin:round;stroke:rgb(0%,0%,0%);stroke-opacity:1;stroke-miterlimit:10;\" d=\"M 400.5 127.117188 C 400.5 130.714844 395.101563 130.714844 395.101563 127.117188 C 395.101563 123.515625 400.5 123.515625 400.5 127.117188 \"/>\n",
       "<path style=\"fill:none;stroke-width:0.75;stroke-linecap:round;stroke-linejoin:round;stroke:rgb(0%,0%,0%);stroke-opacity:1;stroke-miterlimit:10;\" d=\"M 300.300781 213.117188 C 300.300781 216.714844 294.898438 216.714844 294.898438 213.117188 C 294.898438 209.515625 300.300781 209.515625 300.300781 213.117188 \"/>\n",
       "<path style=\"fill:none;stroke-width:0.75;stroke-linecap:round;stroke-linejoin:round;stroke:rgb(0%,0%,0%);stroke-opacity:1;stroke-miterlimit:10;\" d=\"M 268.5 235.746094 C 268.5 239.347656 263.101563 239.347656 263.101563 235.746094 C 263.101563 232.148438 268.5 232.148438 268.5 235.746094 \"/>\n",
       "<path style=\"fill:none;stroke-width:0.75;stroke-linecap:round;stroke-linejoin:round;stroke:rgb(0%,0%,0%);stroke-opacity:1;stroke-miterlimit:10;\" d=\"M 224.101563 276.484375 C 224.101563 280.085938 218.699219 280.085938 218.699219 276.484375 C 218.699219 272.882813 224.101563 272.882813 224.101563 276.484375 \"/>\n",
       "<path style=\"fill:none;stroke-width:0.75;stroke-linecap:round;stroke-linejoin:round;stroke:rgb(0%,0%,0%);stroke-opacity:1;stroke-miterlimit:10;\" d=\"M 275.101563 217.640625 C 275.101563 221.242188 269.699219 221.242188 269.699219 217.640625 C 269.699219 214.042969 275.101563 214.042969 275.101563 217.640625 \"/>\n",
       "<path style=\"fill:none;stroke-width:0.75;stroke-linecap:round;stroke-linejoin:round;stroke:rgb(0%,0%,0%);stroke-opacity:1;stroke-miterlimit:10;\" d=\"M 342.898438 172.378906 C 342.898438 175.980469 337.5 175.980469 337.5 172.378906 C 337.5 168.777344 342.898438 168.777344 342.898438 172.378906 \"/>\n",
       "<path style=\"fill:none;stroke-width:0.75;stroke-linecap:round;stroke-linejoin:round;stroke:rgb(0%,0%,0%);stroke-opacity:1;stroke-miterlimit:10;\" d=\"M 237.898438 267.429688 C 237.898438 271.03125 232.5 271.03125 232.5 267.429688 C 232.5 263.832031 237.898438 263.832031 237.898438 267.429688 \"/>\n",
       "<path style=\"fill:none;stroke-width:0.75;stroke-linecap:round;stroke-linejoin:round;stroke:rgb(0%,0%,0%);stroke-opacity:1;stroke-miterlimit:10;\" d=\"M 261.898438 253.851563 C 261.898438 257.453125 256.5 257.453125 256.5 253.851563 C 256.5 250.253906 261.898438 250.253906 261.898438 253.851563 \"/>\n",
       "<path style=\"fill:none;stroke-width:0.75;stroke-linecap:round;stroke-linejoin:round;stroke:rgb(0%,0%,0%);stroke-opacity:1;stroke-miterlimit:10;\" d=\"M 150.300781 294.589844 C 150.300781 298.191406 144.898438 298.191406 144.898438 294.589844 C 144.898438 290.988281 150.300781 290.988281 150.300781 294.589844 \"/>\n",
       "<path style=\"fill:none;stroke-width:0.75;stroke-linecap:round;stroke-linejoin:round;stroke:rgb(0%,0%,0%);stroke-opacity:1;stroke-miterlimit:10;\" d=\"M 312.898438 213.117188 C 312.898438 216.714844 307.5 216.714844 307.5 213.117188 C 307.5 209.515625 312.898438 209.515625 312.898438 213.117188 \"/>\n",
       "<path style=\"fill:none;stroke-width:0.75;stroke-linecap:round;stroke-linejoin:round;stroke:rgb(0%,0%,0%);stroke-opacity:1;stroke-miterlimit:10;\" d=\"M 189.898438 308.167969 C 189.898438 311.769531 184.5 311.769531 184.5 308.167969 C 184.5 304.570313 189.898438 304.570313 189.898438 308.167969 \"/>\n",
       "<path style=\"fill:none;stroke-width:0.75;stroke-linecap:round;stroke-linejoin:round;stroke:rgb(0%,0%,0%);stroke-opacity:1;stroke-miterlimit:10;\" d=\"M 327.300781 213.117188 C 327.300781 216.714844 321.898438 216.714844 321.898438 213.117188 C 321.898438 209.515625 327.300781 209.515625 327.300781 213.117188 \"/>\n",
       "<path style=\"fill:none;stroke-width:0.75;stroke-linecap:round;stroke-linejoin:round;stroke:rgb(0%,0%,0%);stroke-opacity:1;stroke-miterlimit:10;\" d=\"M 264.300781 217.640625 C 264.300781 221.242188 258.898438 221.242188 258.898438 217.640625 C 258.898438 214.042969 264.300781 214.042969 264.300781 217.640625 \"/>\n",
       "<path style=\"fill:none;stroke-width:0.75;stroke-linecap:round;stroke-linejoin:round;stroke:rgb(0%,0%,0%);stroke-opacity:1;stroke-miterlimit:10;\" d=\"M 283.5 231.222656 C 283.5 234.820313 278.101563 234.820313 278.101563 231.222656 C 278.101563 227.621094 283.5 227.621094 283.5 231.222656 \"/>\n",
       "<path style=\"fill:none;stroke-width:0.75;stroke-linecap:round;stroke-linejoin:round;stroke:rgb(0%,0%,0%);stroke-opacity:1;stroke-miterlimit:10;\" d=\"M 240.300781 285.535156 C 240.300781 289.136719 234.898438 289.136719 234.898438 285.535156 C 234.898438 281.9375 240.300781 281.9375 240.300781 285.535156 \"/>\n",
       "<path style=\"fill:none;stroke-width:0.75;stroke-linecap:round;stroke-linejoin:round;stroke:rgb(0%,0%,0%);stroke-opacity:1;stroke-miterlimit:10;\" d=\"M 193.5 276.484375 C 193.5 280.085938 188.101563 280.085938 188.101563 276.484375 C 188.101563 272.882813 193.5 272.882813 193.5 276.484375 \"/>\n",
       "<path style=\"fill:none;stroke-width:0.75;stroke-linecap:round;stroke-linejoin:round;stroke:rgb(0%,0%,0%);stroke-opacity:1;stroke-miterlimit:10;\" d=\"M 305.699219 172.378906 C 305.699219 175.980469 300.300781 175.980469 300.300781 172.378906 C 300.300781 168.777344 305.699219 168.777344 305.699219 172.378906 \"/>\n",
       "<path style=\"fill:none;stroke-width:0.75;stroke-linecap:round;stroke-linejoin:round;stroke:rgb(0%,0%,0%);stroke-opacity:1;stroke-miterlimit:10;\" d=\"M 232.5 330.800781 C 232.5 334.398438 227.101563 334.398438 227.101563 330.800781 C 227.101563 327.199219 232.5 327.199219 232.5 330.800781 \"/>\n",
       "<path style=\"fill:none;stroke-width:0.75;stroke-linecap:round;stroke-linejoin:round;stroke:rgb(0%,0%,0%);stroke-opacity:1;stroke-miterlimit:10;\" d=\"M 311.699219 199.535156 C 311.699219 203.136719 306.300781 203.136719 306.300781 199.535156 C 306.300781 195.9375 311.699219 195.9375 311.699219 199.535156 \"/>\n",
       "<path style=\"fill:none;stroke-width:0.75;stroke-linecap:round;stroke-linejoin:round;stroke:rgb(0%,0%,0%);stroke-opacity:1;stroke-miterlimit:10;\" d=\"M 197.101563 290.0625 C 197.101563 293.664063 191.699219 293.664063 191.699219 290.0625 C 191.699219 286.464844 197.101563 286.464844 197.101563 290.0625 \"/>\n",
       "<path style=\"fill:none;stroke-width:0.75;stroke-linecap:round;stroke-linejoin:round;stroke:rgb(0%,0%,0%);stroke-opacity:1;stroke-miterlimit:10;\" d=\"M 357.898438 158.800781 C 357.898438 162.398438 352.5 162.398438 352.5 158.800781 C 352.5 155.199219 357.898438 155.199219 357.898438 158.800781 \"/>\n",
       "<path style=\"fill:none;stroke-width:0.75;stroke-linecap:round;stroke-linejoin:round;stroke:rgb(0%,0%,0%);stroke-opacity:1;stroke-miterlimit:10;\" d=\"M 216.300781 258.378906 C 216.300781 261.980469 210.898438 261.980469 210.898438 258.378906 C 210.898438 254.777344 216.300781 254.777344 216.300781 258.378906 \"/>\n",
       "<path style=\"fill:none;stroke-width:0.75;stroke-linecap:round;stroke-linejoin:round;stroke:rgb(0%,0%,0%);stroke-opacity:1;stroke-miterlimit:10;\" d=\"M 219.898438 321.746094 C 219.898438 325.347656 214.5 325.347656 214.5 321.746094 C 214.5 318.148438 219.898438 318.148438 219.898438 321.746094 \"/>\n",
       "<path style=\"fill:none;stroke-width:0.75;stroke-linecap:round;stroke-linejoin:round;stroke:rgb(0%,0%,0%);stroke-opacity:1;stroke-miterlimit:10;\" d=\"M 277.5 226.695313 C 277.5 230.292969 272.101563 230.292969 272.101563 226.695313 C 272.101563 223.09375 277.5 223.09375 277.5 226.695313 \"/>\n",
       "<path style=\"fill:none;stroke-width:0.75;stroke-linecap:round;stroke-linejoin:round;stroke:rgb(0%,0%,0%);stroke-opacity:1;stroke-miterlimit:10;\" d=\"M 378.898438 131.640625 C 378.898438 135.242188 373.5 135.242188 373.5 131.640625 C 373.5 128.042969 378.898438 128.042969 378.898438 131.640625 \"/>\n",
       "<path style=\"fill:none;stroke-width:0.75;stroke-linecap:round;stroke-linejoin:round;stroke:rgb(0%,0%,0%);stroke-opacity:1;stroke-miterlimit:10;\" d=\"M 284.101563 204.0625 C 284.101563 207.664063 278.699219 207.664063 278.699219 204.0625 C 278.699219 200.464844 284.101563 200.464844 284.101563 204.0625 \"/>\n",
       "<path style=\"fill:none;stroke-width:0.75;stroke-linecap:round;stroke-linejoin:round;stroke:rgb(0%,0%,0%);stroke-opacity:1;stroke-miterlimit:10;\" d=\"M 326.101563 208.589844 C 326.101563 212.191406 320.699219 212.191406 320.699219 208.589844 C 320.699219 204.988281 326.101563 204.988281 326.101563 208.589844 \"/>\n",
       "<path style=\"fill:none;stroke-width:0.75;stroke-linecap:round;stroke-linejoin:round;stroke:rgb(0%,0%,0%);stroke-opacity:1;stroke-miterlimit:10;\" d=\"M 338.699219 167.851563 C 338.699219 171.453125 333.300781 171.453125 333.300781 167.851563 C 333.300781 164.253906 338.699219 164.253906 338.699219 167.851563 \"/>\n",
       "<path style=\"fill:none;stroke-width:0.75;stroke-linecap:round;stroke-linejoin:round;stroke:rgb(0%,0%,0%);stroke-opacity:1;stroke-miterlimit:10;\" d=\"M 343.5 154.273438 C 343.5 157.875 338.101563 157.875 338.101563 154.273438 C 338.101563 150.671875 343.5 150.671875 343.5 154.273438 \"/>\n",
       "<path style=\"fill:none;stroke-width:0.75;stroke-linecap:round;stroke-linejoin:round;stroke:rgb(0%,0%,0%);stroke-opacity:1;stroke-miterlimit:10;\" d=\"M 305.101563 195.011719 C 305.101563 198.609375 299.699219 198.609375 299.699219 195.011719 C 299.699219 191.410156 305.101563 191.410156 305.101563 195.011719 \"/>\n",
       "<path style=\"fill:none;stroke-width:0.75;stroke-linecap:round;stroke-linejoin:round;stroke:rgb(0%,0%,0%);stroke-opacity:1;stroke-miterlimit:10;\" d=\"M 233.699219 267.429688 C 233.699219 271.03125 228.300781 271.03125 228.300781 267.429688 C 228.300781 263.832031 233.699219 263.832031 233.699219 267.429688 \"/>\n",
       "<path style=\"fill:none;stroke-width:0.75;stroke-linecap:round;stroke-linejoin:round;stroke:rgb(0%,0%,0%);stroke-opacity:1;stroke-miterlimit:10;\" d=\"M 220.5 271.957031 C 220.5 275.558594 215.101563 275.558594 215.101563 271.957031 C 215.101563 268.359375 220.5 268.359375 220.5 271.957031 \"/>\n",
       "<path style=\"fill:none;stroke-width:0.75;stroke-linecap:round;stroke-linejoin:round;stroke:rgb(0%,0%,0%);stroke-opacity:1;stroke-miterlimit:10;\" d=\"M 257.101563 244.800781 C 257.101563 248.398438 251.699219 248.398438 251.699219 244.800781 C 251.699219 241.199219 257.101563 241.199219 257.101563 244.800781 \"/>\n",
       "<path style=\"fill:none;stroke-width:0.75;stroke-linecap:round;stroke-linejoin:round;stroke:rgb(0%,0%,0%);stroke-opacity:1;stroke-miterlimit:10;\" d=\"M 304.5 208.589844 C 304.5 212.191406 299.101563 212.191406 299.101563 208.589844 C 299.101563 204.988281 304.5 204.988281 304.5 208.589844 \"/>\n",
       "<path style=\"fill:none;stroke-width:0.75;stroke-linecap:round;stroke-linejoin:round;stroke:rgb(0%,0%,0%);stroke-opacity:1;stroke-miterlimit:10;\" d=\"M 306.300781 190.484375 C 306.300781 194.085938 300.898438 194.085938 300.898438 190.484375 C 300.898438 186.882813 306.300781 186.882813 306.300781 190.484375 \"/>\n",
       "<path style=\"fill:none;stroke-width:0.75;stroke-linecap:round;stroke-linejoin:round;stroke:rgb(0%,0%,0%);stroke-opacity:1;stroke-miterlimit:10;\" d=\"M 232.5 253.851563 C 232.5 257.453125 227.101563 257.453125 227.101563 253.851563 C 227.101563 250.253906 232.5 250.253906 232.5 253.851563 \"/>\n",
       "<path style=\"fill:none;stroke-width:0.75;stroke-linecap:round;stroke-linejoin:round;stroke:rgb(0%,0%,0%);stroke-opacity:1;stroke-miterlimit:10;\" d=\"M 273.898438 258.378906 C 273.898438 261.980469 268.5 261.980469 268.5 258.378906 C 268.5 254.777344 273.898438 254.777344 273.898438 258.378906 \"/>\n",
       "<path style=\"fill:none;stroke-width:0.75;stroke-linecap:round;stroke-linejoin:round;stroke:rgb(0%,0%,0%);stroke-opacity:1;stroke-miterlimit:10;\" d=\"M 239.699219 231.222656 C 239.699219 234.820313 234.300781 234.820313 234.300781 231.222656 C 234.300781 227.621094 239.699219 227.621094 239.699219 231.222656 \"/>\n",
       "<path style=\"fill:none;stroke-width:0.75;stroke-linecap:round;stroke-linejoin:round;stroke:rgb(0%,0%,0%);stroke-opacity:1;stroke-miterlimit:10;\" d=\"M 241.5 271.957031 C 241.5 275.558594 236.101563 275.558594 236.101563 271.957031 C 236.101563 268.359375 241.5 268.359375 241.5 271.957031 \"/>\n",
       "<path style=\"fill:none;stroke-width:0.75;stroke-linecap:round;stroke-linejoin:round;stroke:rgb(0%,0%,0%);stroke-opacity:1;stroke-miterlimit:10;\" d=\"M 222.898438 312.695313 C 222.898438 316.292969 217.5 316.292969 217.5 312.695313 C 217.5 309.09375 222.898438 309.09375 222.898438 312.695313 \"/>\n",
       "<path style=\"fill:none;stroke-width:0.75;stroke-linecap:round;stroke-linejoin:round;stroke:rgb(0%,0%,0%);stroke-opacity:1;stroke-miterlimit:10;\" d=\"M 357.300781 181.429688 C 357.300781 185.03125 351.898438 185.03125 351.898438 181.429688 C 351.898438 177.832031 357.300781 177.832031 357.300781 181.429688 \"/>\n",
       "<path style=\"fill:none;stroke-width:0.75;stroke-linecap:round;stroke-linejoin:round;stroke:rgb(0%,0%,0%);stroke-opacity:1;stroke-miterlimit:10;\" d=\"M 332.101563 190.484375 C 332.101563 194.085938 326.699219 194.085938 326.699219 190.484375 C 326.699219 186.882813 332.101563 186.882813 332.101563 190.484375 \"/>\n",
       "<path style=\"fill:none;stroke-width:0.75;stroke-linecap:round;stroke-linejoin:round;stroke:rgb(0%,0%,0%);stroke-opacity:1;stroke-miterlimit:10;\" d=\"M 315.898438 204.0625 C 315.898438 207.664063 310.5 207.664063 310.5 204.0625 C 310.5 200.464844 315.898438 200.464844 315.898438 204.0625 \"/>\n",
       "<path style=\"fill:none;stroke-width:0.75;stroke-linecap:round;stroke-linejoin:round;stroke:rgb(0%,0%,0%);stroke-opacity:1;stroke-miterlimit:10;\" d=\"M 243.300781 271.957031 C 243.300781 275.558594 237.898438 275.558594 237.898438 271.957031 C 237.898438 268.359375 243.300781 268.359375 243.300781 271.957031 \"/>\n",
       "<path style=\"fill:none;stroke-width:0.75;stroke-linecap:round;stroke-linejoin:round;stroke:rgb(0%,0%,0%);stroke-opacity:1;stroke-miterlimit:10;\" d=\"M 267.898438 253.851563 C 267.898438 257.453125 262.5 257.453125 262.5 253.851563 C 262.5 250.253906 267.898438 250.253906 267.898438 253.851563 \"/>\n",
       "<path style=\"fill:none;stroke-width:0.75;stroke-linecap:round;stroke-linejoin:round;stroke:rgb(0%,0%,0%);stroke-opacity:1;stroke-miterlimit:10;\" d=\"M 319.5 163.328125 C 319.5 166.925781 314.101563 166.925781 314.101563 163.328125 C 314.101563 159.726563 319.5 159.726563 319.5 163.328125 \"/>\n",
       "<path style=\"fill:none;stroke-width:0.75;stroke-linecap:round;stroke-linejoin:round;stroke:rgb(0%,0%,0%);stroke-opacity:1;stroke-miterlimit:10;\" d=\"M 257.101563 281.011719 C 257.101563 284.609375 251.699219 284.609375 251.699219 281.011719 C 251.699219 277.410156 257.101563 277.410156 257.101563 281.011719 \"/>\n",
       "<path style=\"fill:none;stroke-width:0.75;stroke-linecap:round;stroke-linejoin:round;stroke:rgb(0%,0%,0%);stroke-opacity:1;stroke-miterlimit:10;\" d=\"M 334.5 163.328125 C 334.5 166.925781 329.101563 166.925781 329.101563 163.328125 C 329.101563 159.726563 334.5 159.726563 334.5 163.328125 \"/>\n",
       "<path style=\"fill:none;stroke-width:0.75;stroke-linecap:round;stroke-linejoin:round;stroke:rgb(0%,0%,0%);stroke-opacity:1;stroke-miterlimit:10;\" d=\"M 264.300781 226.695313 C 264.300781 230.292969 258.898438 230.292969 258.898438 226.695313 C 258.898438 223.09375 264.300781 223.09375 264.300781 226.695313 \"/>\n",
       "<path style=\"fill:none;stroke-width:0.75;stroke-linecap:round;stroke-linejoin:round;stroke:rgb(0%,0%,0%);stroke-opacity:1;stroke-miterlimit:10;\" d=\"M 203.699219 308.167969 C 203.699219 311.769531 198.300781 311.769531 198.300781 308.167969 C 198.300781 304.570313 203.699219 304.570313 203.699219 308.167969 \"/>\n",
       "<path style=\"fill:none;stroke-width:0.75;stroke-linecap:round;stroke-linejoin:round;stroke:rgb(0%,0%,0%);stroke-opacity:1;stroke-miterlimit:10;\" d=\"M 231.898438 271.957031 C 231.898438 275.558594 226.5 275.558594 226.5 271.957031 C 226.5 268.359375 231.898438 268.359375 231.898438 271.957031 \"/>\n",
       "<path style=\"fill:none;stroke-width:0.75;stroke-linecap:round;stroke-linejoin:round;stroke:rgb(0%,0%,0%);stroke-opacity:1;stroke-miterlimit:10;\" d=\"M 291.898438 222.167969 C 291.898438 225.769531 286.5 225.769531 286.5 222.167969 C 286.5 218.570313 291.898438 218.570313 291.898438 222.167969 \"/>\n",
       "<path style=\"fill:none;stroke-width:0.75;stroke-linecap:round;stroke-linejoin:round;stroke:rgb(0%,0%,0%);stroke-opacity:1;stroke-miterlimit:10;\" d=\"M 233.101563 249.328125 C 233.101563 252.925781 227.699219 252.925781 227.699219 249.328125 C 227.699219 245.726563 233.101563 245.726563 233.101563 249.328125 \"/>\n",
       "<path style=\"fill:none;stroke-width:0.75;stroke-linecap:round;stroke-linejoin:round;stroke:rgb(0%,0%,0%);stroke-opacity:1;stroke-miterlimit:10;\" d=\"M 334.5 163.328125 C 334.5 166.925781 329.101563 166.925781 329.101563 163.328125 C 329.101563 159.726563 334.5 159.726563 334.5 163.328125 \"/>\n",
       "<path style=\"fill:none;stroke-width:0.75;stroke-linecap:round;stroke-linejoin:round;stroke:rgb(0%,0%,0%);stroke-opacity:1;stroke-miterlimit:10;\" d=\"M 338.699219 172.378906 C 338.699219 175.980469 333.300781 175.980469 333.300781 172.378906 C 333.300781 168.777344 338.699219 168.777344 338.699219 172.378906 \"/>\n",
       "<path style=\"fill:none;stroke-width:0.75;stroke-linecap:round;stroke-linejoin:round;stroke:rgb(0%,0%,0%);stroke-opacity:1;stroke-miterlimit:10;\" d=\"M 209.699219 294.589844 C 209.699219 298.191406 204.300781 298.191406 204.300781 294.589844 C 204.300781 290.988281 209.699219 290.988281 209.699219 294.589844 \"/>\n",
       "<path style=\"fill:none;stroke-width:0.75;stroke-linecap:round;stroke-linejoin:round;stroke:rgb(0%,0%,0%);stroke-opacity:1;stroke-miterlimit:10;\" d=\"M 287.101563 217.640625 C 287.101563 221.242188 281.699219 221.242188 281.699219 217.640625 C 281.699219 214.042969 287.101563 214.042969 287.101563 217.640625 \"/>\n",
       "<path style=\"fill:none;stroke-width:0.75;stroke-linecap:round;stroke-linejoin:round;stroke:rgb(0%,0%,0%);stroke-opacity:1;stroke-miterlimit:10;\" d=\"M 278.101563 231.222656 C 278.101563 234.820313 272.699219 234.820313 272.699219 231.222656 C 272.699219 227.621094 278.101563 227.621094 278.101563 231.222656 \"/>\n",
       "<path style=\"fill:none;stroke-width:0.75;stroke-linecap:round;stroke-linejoin:round;stroke:rgb(0%,0%,0%);stroke-opacity:1;stroke-miterlimit:10;\" d=\"M 252.300781 249.328125 C 252.300781 252.925781 246.898438 252.925781 246.898438 249.328125 C 246.898438 245.726563 252.300781 245.726563 252.300781 249.328125 \"/>\n",
       "<path style=\"fill:none;stroke-width:0.75;stroke-linecap:round;stroke-linejoin:round;stroke:rgb(0%,0%,0%);stroke-opacity:1;stroke-miterlimit:10;\" d=\"M 321.898438 204.0625 C 321.898438 207.664063 316.5 207.664063 316.5 204.0625 C 316.5 200.464844 321.898438 200.464844 321.898438 204.0625 \"/>\n",
       "<path style=\"fill:none;stroke-width:0.75;stroke-linecap:round;stroke-linejoin:round;stroke:rgb(0%,0%,0%);stroke-opacity:1;stroke-miterlimit:10;\" d=\"M 274.5 262.90625 C 274.5 266.503906 269.101563 266.503906 269.101563 262.90625 C 269.101563 259.304688 274.5 259.304688 274.5 262.90625 \"/>\n",
       "<path style=\"fill:none;stroke-width:0.75;stroke-linecap:round;stroke-linejoin:round;stroke:rgb(0%,0%,0%);stroke-opacity:1;stroke-miterlimit:10;\" d=\"M 165.898438 339.851563 C 165.898438 343.453125 160.5 343.453125 160.5 339.851563 C 160.5 336.253906 165.898438 336.253906 165.898438 339.851563 \"/>\n",
       "<path style=\"fill:none;stroke-width:0.75;stroke-linecap:round;stroke-linejoin:round;stroke:rgb(0%,0%,0%);stroke-opacity:1;stroke-miterlimit:10;\" d=\"M 289.5 217.640625 C 289.5 221.242188 284.101563 221.242188 284.101563 217.640625 C 284.101563 214.042969 289.5 214.042969 289.5 217.640625 \"/>\n",
       "<path style=\"fill:none;stroke-width:0.75;stroke-linecap:round;stroke-linejoin:round;stroke:rgb(0%,0%,0%);stroke-opacity:1;stroke-miterlimit:10;\" d=\"M 208.5 303.640625 C 208.5 307.242188 203.101563 307.242188 203.101563 303.640625 C 203.101563 300.042969 208.5 300.042969 208.5 303.640625 \"/>\n",
       "<path style=\"fill:none;stroke-width:0.75;stroke-linecap:round;stroke-linejoin:round;stroke:rgb(0%,0%,0%);stroke-opacity:1;stroke-miterlimit:10;\" d=\"M 278.699219 226.695313 C 278.699219 230.292969 273.300781 230.292969 273.300781 226.695313 C 273.300781 223.09375 278.699219 223.09375 278.699219 226.695313 \"/>\n",
       "<path style=\"fill:none;stroke-width:0.75;stroke-linecap:round;stroke-linejoin:round;stroke:rgb(0%,0%,0%);stroke-opacity:1;stroke-miterlimit:10;\" d=\"M 335.699219 176.90625 C 335.699219 180.503906 330.300781 180.503906 330.300781 176.90625 C 330.300781 173.304688 335.699219 173.304688 335.699219 176.90625 \"/>\n",
       "<path style=\"fill:none;stroke-width:0.75;stroke-linecap:round;stroke-linejoin:round;stroke:rgb(0%,0%,0%);stroke-opacity:1;stroke-miterlimit:10;\" d=\"M 308.699219 222.167969 C 308.699219 225.769531 303.300781 225.769531 303.300781 222.167969 C 303.300781 218.570313 308.699219 218.570313 308.699219 222.167969 \"/>\n",
       "<path style=\"fill:none;stroke-width:0.75;stroke-linecap:round;stroke-linejoin:round;stroke:rgb(0%,0%,0%);stroke-opacity:1;stroke-miterlimit:10;\" d=\"M 350.101563 167.851563 C 350.101563 171.453125 344.699219 171.453125 344.699219 167.851563 C 344.699219 164.253906 350.101563 164.253906 350.101563 167.851563 \"/>\n",
       "<path style=\"fill:none;stroke-width:0.75;stroke-linecap:round;stroke-linejoin:round;stroke:rgb(0%,0%,0%);stroke-opacity:1;stroke-miterlimit:10;\" d=\"M 230.101563 276.484375 C 230.101563 280.085938 224.699219 280.085938 224.699219 276.484375 C 224.699219 272.882813 230.101563 272.882813 230.101563 276.484375 \"/>\n",
       "<path style=\"fill:none;stroke-width:0.75;stroke-linecap:round;stroke-linejoin:round;stroke:rgb(0%,0%,0%);stroke-opacity:1;stroke-miterlimit:10;\" d=\"M 272.101563 249.328125 C 272.101563 252.925781 266.699219 252.925781 266.699219 249.328125 C 266.699219 245.726563 272.101563 245.726563 272.101563 249.328125 \"/>\n",
       "<path style=\"fill:none;stroke-width:0.75;stroke-linecap:round;stroke-linejoin:round;stroke:rgb(0%,0%,0%);stroke-opacity:1;stroke-miterlimit:10;\" d=\"M 213.898438 276.484375 C 213.898438 280.085938 208.5 280.085938 208.5 276.484375 C 208.5 272.882813 213.898438 272.882813 213.898438 276.484375 \"/>\n",
       "<path style=\"fill:none;stroke-width:0.75;stroke-linecap:round;stroke-linejoin:round;stroke:rgb(0%,0%,0%);stroke-opacity:1;stroke-miterlimit:10;\" d=\"M 266.101563 217.640625 C 266.101563 221.242188 260.699219 221.242188 260.699219 217.640625 C 260.699219 214.042969 266.101563 214.042969 266.101563 217.640625 \"/>\n",
       "<path style=\"fill:none;stroke-width:0.75;stroke-linecap:round;stroke-linejoin:round;stroke:rgb(0%,0%,0%);stroke-opacity:1;stroke-miterlimit:10;\" d=\"M 245.101563 244.800781 C 245.101563 248.398438 239.699219 248.398438 239.699219 244.800781 C 239.699219 241.199219 245.101563 241.199219 245.101563 244.800781 \"/>\n",
       "<path style=\"fill:none;stroke-width:0.75;stroke-linecap:round;stroke-linejoin:round;stroke:rgb(0%,0%,0%);stroke-opacity:1;stroke-miterlimit:10;\" d=\"M 357.300781 154.273438 C 357.300781 157.875 351.898438 157.875 351.898438 154.273438 C 351.898438 150.671875 357.300781 150.671875 357.300781 154.273438 \"/>\n",
       "<path style=\"fill:none;stroke-width:0.75;stroke-linecap:round;stroke-linejoin:round;stroke:rgb(0%,0%,0%);stroke-opacity:1;stroke-miterlimit:10;\" d=\"M 269.699219 217.640625 C 269.699219 221.242188 264.300781 221.242188 264.300781 217.640625 C 264.300781 214.042969 269.699219 214.042969 269.699219 217.640625 \"/>\n",
       "<path style=\"fill:none;stroke-width:0.75;stroke-linecap:round;stroke-linejoin:round;stroke:rgb(0%,0%,0%);stroke-opacity:1;stroke-miterlimit:10;\" d=\"M 292.5 222.167969 C 292.5 225.769531 287.101563 225.769531 287.101563 222.167969 C 287.101563 218.570313 292.5 218.570313 292.5 222.167969 \"/>\n",
       "<path style=\"fill:none;stroke-width:0.75;stroke-linecap:round;stroke-linejoin:round;stroke:rgb(0%,0%,0%);stroke-opacity:1;stroke-miterlimit:10;\" d=\"M 246.898438 258.378906 C 246.898438 261.980469 241.5 261.980469 241.5 258.378906 C 241.5 254.777344 246.898438 254.777344 246.898438 258.378906 \"/>\n",
       "<path style=\"fill:none;stroke-width:0.75;stroke-linecap:round;stroke-linejoin:round;stroke:rgb(0%,0%,0%);stroke-opacity:1;stroke-miterlimit:10;\" d=\"M 277.5 217.640625 C 277.5 221.242188 272.101563 221.242188 272.101563 217.640625 C 272.101563 214.042969 277.5 214.042969 277.5 217.640625 \"/>\n",
       "<path style=\"fill:none;stroke-width:0.75;stroke-linecap:round;stroke-linejoin:round;stroke:rgb(0%,0%,0%);stroke-opacity:1;stroke-miterlimit:10;\" d=\"M 284.699219 213.117188 C 284.699219 216.714844 279.300781 216.714844 279.300781 213.117188 C 279.300781 209.515625 284.699219 209.515625 284.699219 213.117188 \"/>\n",
       "<path style=\"fill:none;stroke-width:0.75;stroke-linecap:round;stroke-linejoin:round;stroke:rgb(0%,0%,0%);stroke-opacity:1;stroke-miterlimit:10;\" d=\"M 312.898438 185.957031 C 312.898438 189.558594 307.5 189.558594 307.5 185.957031 C 307.5 182.359375 312.898438 182.359375 312.898438 185.957031 \"/>\n",
       "<path style=\"fill:none;stroke-width:0.75;stroke-linecap:round;stroke-linejoin:round;stroke:rgb(0%,0%,0%);stroke-opacity:1;stroke-miterlimit:10;\" d=\"M 192.300781 303.640625 C 192.300781 307.242188 186.898438 307.242188 186.898438 303.640625 C 186.898438 300.042969 192.300781 300.042969 192.300781 303.640625 \"/>\n",
       "<path style=\"fill:none;stroke-width:0.75;stroke-linecap:round;stroke-linejoin:round;stroke:rgb(0%,0%,0%);stroke-opacity:1;stroke-miterlimit:10;\" d=\"M 258.300781 253.851563 C 258.300781 257.453125 252.898438 257.453125 252.898438 253.851563 C 252.898438 250.253906 258.300781 250.253906 258.300781 253.851563 \"/>\n",
       "<path style=\"fill:none;stroke-width:0.75;stroke-linecap:round;stroke-linejoin:round;stroke:rgb(0%,0%,0%);stroke-opacity:1;stroke-miterlimit:10;\" d=\"M 296.699219 199.535156 C 296.699219 203.136719 291.300781 203.136719 291.300781 199.535156 C 291.300781 195.9375 296.699219 195.9375 296.699219 199.535156 \"/>\n",
       "<path style=\"fill:none;stroke-width:0.75;stroke-linecap:round;stroke-linejoin:round;stroke:rgb(0%,0%,0%);stroke-opacity:1;stroke-miterlimit:10;\" d=\"M 266.101563 235.746094 C 266.101563 239.347656 260.699219 239.347656 260.699219 235.746094 C 260.699219 232.148438 266.101563 232.148438 266.101563 235.746094 \"/>\n",
       "<path style=\"fill:none;stroke-width:0.75;stroke-linecap:round;stroke-linejoin:round;stroke:rgb(0%,0%,0%);stroke-opacity:1;stroke-miterlimit:10;\" d=\"M 225.300781 249.328125 C 225.300781 252.925781 219.898438 252.925781 219.898438 249.328125 C 219.898438 245.726563 225.300781 245.726563 225.300781 249.328125 \"/>\n",
       "<path style=\"fill:none;stroke-width:0.75;stroke-linecap:round;stroke-linejoin:round;stroke:rgb(0%,0%,0%);stroke-opacity:1;stroke-miterlimit:10;\" d=\"M 305.101563 172.378906 C 305.101563 175.980469 299.699219 175.980469 299.699219 172.378906 C 299.699219 168.777344 305.101563 168.777344 305.101563 172.378906 \"/>\n",
       "<path style=\"fill:none;stroke-width:0.75;stroke-linecap:round;stroke-linejoin:round;stroke:rgb(0%,0%,0%);stroke-opacity:1;stroke-miterlimit:10;\" d=\"M 333.300781 185.957031 C 333.300781 189.558594 327.898438 189.558594 327.898438 185.957031 C 327.898438 182.359375 333.300781 182.359375 333.300781 185.957031 \"/>\n",
       "<path style=\"fill:none;stroke-width:0.75;stroke-linecap:round;stroke-linejoin:round;stroke:rgb(0%,0%,0%);stroke-opacity:1;stroke-miterlimit:10;\" d=\"M 272.699219 249.328125 C 272.699219 252.925781 267.300781 252.925781 267.300781 249.328125 C 267.300781 245.726563 272.699219 245.726563 272.699219 249.328125 \"/>\n",
       "<path style=\"fill:none;stroke-width:0.75;stroke-linecap:round;stroke-linejoin:round;stroke:rgb(0%,0%,0%);stroke-opacity:1;stroke-miterlimit:10;\" d=\"M 273.300781 240.273438 C 273.300781 243.875 267.898438 243.875 267.898438 240.273438 C 267.898438 236.671875 273.300781 236.671875 273.300781 240.273438 \"/>\n",
       "<path style=\"fill:none;stroke-width:0.75;stroke-linecap:round;stroke-linejoin:round;stroke:rgb(0%,0%,0%);stroke-opacity:1;stroke-miterlimit:10;\" d=\"M 225.898438 258.378906 C 225.898438 261.980469 220.5 261.980469 220.5 258.378906 C 220.5 254.777344 225.898438 254.777344 225.898438 258.378906 \"/>\n",
       "<path style=\"fill:none;stroke-width:0.75;stroke-linecap:round;stroke-linejoin:round;stroke:rgb(0%,0%,0%);stroke-opacity:1;stroke-miterlimit:10;\" d=\"M 274.5 258.378906 C 274.5 261.980469 269.101563 261.980469 269.101563 258.378906 C 269.101563 254.777344 274.5 254.777344 274.5 258.378906 \"/>\n",
       "<path style=\"fill:none;stroke-width:0.75;stroke-linecap:round;stroke-linejoin:round;stroke:rgb(0%,0%,0%);stroke-opacity:1;stroke-miterlimit:10;\" d=\"M 301.5 208.589844 C 301.5 212.191406 296.101563 212.191406 296.101563 208.589844 C 296.101563 204.988281 301.5 204.988281 301.5 208.589844 \"/>\n",
       "<path style=\"fill:none;stroke-width:0.75;stroke-linecap:round;stroke-linejoin:round;stroke:rgb(0%,0%,0%);stroke-opacity:1;stroke-miterlimit:10;\" d=\"M 258.898438 262.90625 C 258.898438 266.503906 253.5 266.503906 253.5 262.90625 C 253.5 259.304688 258.898438 259.304688 258.898438 262.90625 \"/>\n",
       "<path style=\"fill:none;stroke-width:0.75;stroke-linecap:round;stroke-linejoin:round;stroke:rgb(0%,0%,0%);stroke-opacity:1;stroke-miterlimit:10;\" d=\"M 237.898438 262.90625 C 237.898438 266.503906 232.5 266.503906 232.5 262.90625 C 232.5 259.304688 237.898438 259.304688 237.898438 262.90625 \"/>\n",
       "<path style=\"fill:none;stroke-width:0.75;stroke-linecap:round;stroke-linejoin:round;stroke:rgb(0%,0%,0%);stroke-opacity:1;stroke-miterlimit:10;\" d=\"M 314.101563 213.117188 C 314.101563 216.714844 308.699219 216.714844 308.699219 213.117188 C 308.699219 209.515625 314.101563 209.515625 314.101563 213.117188 \"/>\n",
       "<path style=\"fill:none;stroke-width:0.75;stroke-linecap:round;stroke-linejoin:round;stroke:rgb(0%,0%,0%);stroke-opacity:1;stroke-miterlimit:10;\" d=\"M 372.898438 185.957031 C 372.898438 189.558594 367.5 189.558594 367.5 185.957031 C 367.5 182.359375 372.898438 182.359375 372.898438 185.957031 \"/>\n",
       "<path style=\"fill:none;stroke-width:0.75;stroke-linecap:round;stroke-linejoin:round;stroke:rgb(0%,0%,0%);stroke-opacity:1;stroke-miterlimit:10;\" d=\"M 188.101563 294.589844 C 188.101563 298.191406 182.699219 298.191406 182.699219 294.589844 C 182.699219 290.988281 188.101563 290.988281 188.101563 294.589844 \"/>\n",
       "<path style=\"fill:none;stroke-width:0.75;stroke-linecap:round;stroke-linejoin:round;stroke:rgb(0%,0%,0%);stroke-opacity:1;stroke-miterlimit:10;\" d=\"M 373.5 131.640625 C 373.5 135.242188 368.101563 135.242188 368.101563 131.640625 C 368.101563 128.042969 373.5 128.042969 373.5 131.640625 \"/>\n",
       "<path style=\"fill:none;stroke-width:0.75;stroke-linecap:round;stroke-linejoin:round;stroke:rgb(0%,0%,0%);stroke-opacity:1;stroke-miterlimit:10;\" d=\"M 225.898438 249.328125 C 225.898438 252.925781 220.5 252.925781 220.5 249.328125 C 220.5 245.726563 225.898438 245.726563 225.898438 249.328125 \"/>\n",
       "<path style=\"fill:none;stroke-width:0.75;stroke-linecap:round;stroke-linejoin:round;stroke:rgb(0%,0%,0%);stroke-opacity:1;stroke-miterlimit:10;\" d=\"M 344.101563 167.851563 C 344.101563 171.453125 338.699219 171.453125 338.699219 167.851563 C 338.699219 164.253906 344.101563 164.253906 344.101563 167.851563 \"/>\n",
       "<path style=\"fill:none;stroke-width:0.75;stroke-linecap:round;stroke-linejoin:round;stroke:rgb(0%,0%,0%);stroke-opacity:1;stroke-miterlimit:10;\" d=\"M 275.699219 258.378906 C 275.699219 261.980469 270.300781 261.980469 270.300781 258.378906 C 270.300781 254.777344 275.699219 254.777344 275.699219 258.378906 \"/>\n",
       "<path style=\"fill:none;stroke-width:0.75;stroke-linecap:round;stroke-linejoin:round;stroke:rgb(0%,0%,0%);stroke-opacity:1;stroke-miterlimit:10;\" d=\"M 251.699219 249.328125 C 251.699219 252.925781 246.300781 252.925781 246.300781 249.328125 C 246.300781 245.726563 251.699219 245.726563 251.699219 249.328125 \"/>\n",
       "<path style=\"fill:none;stroke-width:0.75;stroke-linecap:round;stroke-linejoin:round;stroke:rgb(0%,0%,0%);stroke-opacity:1;stroke-miterlimit:10;\" d=\"M 281.101563 213.117188 C 281.101563 216.714844 275.699219 216.714844 275.699219 213.117188 C 275.699219 209.515625 281.101563 209.515625 281.101563 213.117188 \"/>\n",
       "<path style=\"fill:none;stroke-width:0.75;stroke-linecap:round;stroke-linejoin:round;stroke:rgb(0%,0%,0%);stroke-opacity:1;stroke-miterlimit:10;\" d=\"M 216.300781 281.011719 C 216.300781 284.609375 210.898438 284.609375 210.898438 281.011719 C 210.898438 277.410156 216.300781 277.410156 216.300781 281.011719 \"/>\n",
       "<path style=\"fill:none;stroke-width:0.75;stroke-linecap:round;stroke-linejoin:round;stroke:rgb(0%,0%,0%);stroke-opacity:1;stroke-miterlimit:10;\" d=\"M 263.699219 222.167969 C 263.699219 225.769531 258.300781 225.769531 258.300781 222.167969 C 258.300781 218.570313 263.699219 218.570313 263.699219 222.167969 \"/>\n",
       "<path style=\"fill:none;stroke-width:0.75;stroke-linecap:round;stroke-linejoin:round;stroke:rgb(0%,0%,0%);stroke-opacity:1;stroke-miterlimit:10;\" d=\"M 339.300781 208.589844 C 339.300781 212.191406 333.898438 212.191406 333.898438 208.589844 C 333.898438 204.988281 339.300781 204.988281 339.300781 208.589844 \"/>\n",
       "<path style=\"fill:none;stroke-width:0.75;stroke-linecap:round;stroke-linejoin:round;stroke:rgb(0%,0%,0%);stroke-opacity:1;stroke-miterlimit:10;\" d=\"M 218.101563 312.695313 C 218.101563 316.292969 212.699219 316.292969 212.699219 312.695313 C 212.699219 309.09375 218.101563 309.09375 218.101563 312.695313 \"/>\n",
       "<path style=\"fill:none;stroke-width:0.75;stroke-linecap:round;stroke-linejoin:round;stroke:rgb(0%,0%,0%);stroke-opacity:1;stroke-miterlimit:10;\" d=\"M 288.898438 204.0625 C 288.898438 207.664063 283.5 207.664063 283.5 204.0625 C 283.5 200.464844 288.898438 200.464844 288.898438 204.0625 \"/>\n",
       "<path style=\"fill:none;stroke-width:0.75;stroke-linecap:round;stroke-linejoin:round;stroke:rgb(0%,0%,0%);stroke-opacity:1;stroke-miterlimit:10;\" d=\"M 299.101563 222.167969 C 299.101563 225.769531 293.699219 225.769531 293.699219 222.167969 C 293.699219 218.570313 299.101563 218.570313 299.101563 222.167969 \"/>\n",
       "<path style=\"fill:none;stroke-width:0.75;stroke-linecap:round;stroke-linejoin:round;stroke:rgb(0%,0%,0%);stroke-opacity:1;stroke-miterlimit:10;\" d=\"M 330.300781 185.957031 C 330.300781 189.558594 324.898438 189.558594 324.898438 185.957031 C 324.898438 182.359375 330.300781 182.359375 330.300781 185.957031 \"/>\n",
       "<path style=\"fill:none;stroke-width:0.75;stroke-linecap:round;stroke-linejoin:round;stroke:rgb(0%,0%,0%);stroke-opacity:1;stroke-miterlimit:10;\" d=\"M 323.101563 176.90625 C 323.101563 180.503906 317.699219 180.503906 317.699219 176.90625 C 317.699219 173.304688 323.101563 173.304688 323.101563 176.90625 \"/>\n",
       "<path style=\"fill:none;stroke-width:0.75;stroke-linecap:round;stroke-linejoin:round;stroke:rgb(0%,0%,0%);stroke-opacity:1;stroke-miterlimit:10;\" d=\"M 241.5 285.535156 C 241.5 289.136719 236.101563 289.136719 236.101563 285.535156 C 236.101563 281.9375 241.5 281.9375 241.5 285.535156 \"/>\n",
       "<path style=\"fill:none;stroke-width:0.75;stroke-linecap:round;stroke-linejoin:round;stroke:rgb(0%,0%,0%);stroke-opacity:1;stroke-miterlimit:10;\" d=\"M 240.300781 258.378906 C 240.300781 261.980469 234.898438 261.980469 234.898438 258.378906 C 234.898438 254.777344 240.300781 254.777344 240.300781 258.378906 \"/>\n",
       "<path style=\"fill:none;stroke-width:0.75;stroke-linecap:round;stroke-linejoin:round;stroke:rgb(0%,0%,0%);stroke-opacity:1;stroke-miterlimit:10;\" d=\"M 245.699219 267.429688 C 245.699219 271.03125 240.300781 271.03125 240.300781 267.429688 C 240.300781 263.832031 245.699219 263.832031 245.699219 267.429688 \"/>\n",
       "<path style=\"fill:none;stroke-width:0.75;stroke-linecap:round;stroke-linejoin:round;stroke:rgb(0%,0%,0%);stroke-opacity:1;stroke-miterlimit:10;\" d=\"M 156.300781 330.800781 C 156.300781 334.398438 150.898438 334.398438 150.898438 330.800781 C 150.898438 327.199219 156.300781 327.199219 156.300781 330.800781 \"/>\n",
       "<path style=\"fill:none;stroke-width:0.75;stroke-linecap:round;stroke-linejoin:round;stroke:rgb(0%,0%,0%);stroke-opacity:1;stroke-miterlimit:10;\" d=\"M 262.5 208.589844 C 262.5 212.191406 257.101563 212.191406 257.101563 208.589844 C 257.101563 204.988281 262.5 204.988281 262.5 208.589844 \"/>\n",
       "<path style=\"fill:none;stroke-width:0.75;stroke-linecap:round;stroke-linejoin:round;stroke:rgb(0%,0%,0%);stroke-opacity:1;stroke-miterlimit:10;\" d=\"M 308.699219 181.429688 C 308.699219 185.03125 303.300781 185.03125 303.300781 181.429688 C 303.300781 177.832031 308.699219 177.832031 308.699219 181.429688 \"/>\n",
       "<path style=\"fill:none;stroke-width:0.75;stroke-linecap:round;stroke-linejoin:round;stroke:rgb(0%,0%,0%);stroke-opacity:1;stroke-miterlimit:10;\" d=\"M 286.5 249.328125 C 286.5 252.925781 281.101563 252.925781 281.101563 249.328125 C 281.101563 245.726563 286.5 245.726563 286.5 249.328125 \"/>\n",
       "<path style=\"fill:none;stroke-width:0.75;stroke-linecap:round;stroke-linejoin:round;stroke:rgb(0%,0%,0%);stroke-opacity:1;stroke-miterlimit:10;\" d=\"M 292.5 231.222656 C 292.5 234.820313 287.101563 234.820313 287.101563 231.222656 C 287.101563 227.621094 292.5 227.621094 292.5 231.222656 \"/>\n",
       "<path style=\"fill:none;stroke-width:0.75;stroke-linecap:round;stroke-linejoin:round;stroke:rgb(0%,0%,0%);stroke-opacity:1;stroke-miterlimit:10;\" d=\"M 276.898438 235.746094 C 276.898438 239.347656 271.5 239.347656 271.5 235.746094 C 271.5 232.148438 276.898438 232.148438 276.898438 235.746094 \"/>\n",
       "<path style=\"fill:none;stroke-width:0.75;stroke-linecap:round;stroke-linejoin:round;stroke:rgb(0%,0%,0%);stroke-opacity:1;stroke-miterlimit:10;\" d=\"M 276.898438 231.222656 C 276.898438 234.820313 271.5 234.820313 271.5 231.222656 C 271.5 227.621094 276.898438 227.621094 276.898438 231.222656 \"/>\n",
       "<path style=\"fill:none;stroke-width:0.75;stroke-linecap:round;stroke-linejoin:round;stroke:rgb(0%,0%,0%);stroke-opacity:1;stroke-miterlimit:10;\" d=\"M 328.5 204.0625 C 328.5 207.664063 323.101563 207.664063 323.101563 204.0625 C 323.101563 200.464844 328.5 200.464844 328.5 204.0625 \"/>\n",
       "<path style=\"fill:none;stroke-width:0.75;stroke-linecap:round;stroke-linejoin:round;stroke:rgb(0%,0%,0%);stroke-opacity:1;stroke-miterlimit:10;\" d=\"M 219.300781 262.90625 C 219.300781 266.503906 213.898438 266.503906 213.898438 262.90625 C 213.898438 259.304688 219.300781 259.304688 219.300781 262.90625 \"/>\n",
       "<path style=\"fill:none;stroke-width:0.75;stroke-linecap:round;stroke-linejoin:round;stroke:rgb(0%,0%,0%);stroke-opacity:1;stroke-miterlimit:10;\" d=\"M 357.300781 149.746094 C 357.300781 153.347656 351.898438 153.347656 351.898438 149.746094 C 351.898438 146.148438 357.300781 146.148438 357.300781 149.746094 \"/>\n",
       "<path style=\"fill:none;stroke-width:0.75;stroke-linecap:round;stroke-linejoin:round;stroke:rgb(0%,0%,0%);stroke-opacity:1;stroke-miterlimit:10;\" d=\"M 212.101563 294.589844 C 212.101563 298.191406 206.699219 298.191406 206.699219 294.589844 C 206.699219 290.988281 212.101563 290.988281 212.101563 294.589844 \"/>\n",
       "<path style=\"fill:none;stroke-width:0.75;stroke-linecap:round;stroke-linejoin:round;stroke:rgb(0%,0%,0%);stroke-opacity:1;stroke-miterlimit:10;\" d=\"M 249.898438 262.90625 C 249.898438 266.503906 244.5 266.503906 244.5 262.90625 C 244.5 259.304688 249.898438 259.304688 249.898438 262.90625 \"/>\n",
       "<path style=\"fill:none;stroke-width:0.75;stroke-linecap:round;stroke-linejoin:round;stroke:rgb(0%,0%,0%);stroke-opacity:1;stroke-miterlimit:10;\" d=\"M 285.300781 195.011719 C 285.300781 198.609375 279.898438 198.609375 279.898438 195.011719 C 279.898438 191.410156 285.300781 191.410156 285.300781 195.011719 \"/>\n",
       "<path style=\"fill:none;stroke-width:0.75;stroke-linecap:round;stroke-linejoin:round;stroke:rgb(0%,0%,0%);stroke-opacity:1;stroke-miterlimit:10;\" d=\"M 255.300781 267.429688 C 255.300781 271.03125 249.898438 271.03125 249.898438 267.429688 C 249.898438 263.832031 255.300781 263.832031 255.300781 267.429688 \"/>\n",
       "<path style=\"fill:none;stroke-width:0.75;stroke-linecap:round;stroke-linejoin:round;stroke:rgb(0%,0%,0%);stroke-opacity:1;stroke-miterlimit:10;\" d=\"M 335.101563 181.429688 C 335.101563 185.03125 329.699219 185.03125 329.699219 181.429688 C 329.699219 177.832031 335.101563 177.832031 335.101563 181.429688 \"/>\n",
       "<path style=\"fill:none;stroke-width:0.75;stroke-linecap:round;stroke-linejoin:round;stroke:rgb(0%,0%,0%);stroke-opacity:1;stroke-miterlimit:10;\" d=\"M 290.101563 208.589844 C 290.101563 212.191406 284.699219 212.191406 284.699219 208.589844 C 284.699219 204.988281 290.101563 204.988281 290.101563 208.589844 \"/>\n",
       "<path style=\"fill:none;stroke-width:0.75;stroke-linecap:round;stroke-linejoin:round;stroke:rgb(0%,0%,0%);stroke-opacity:1;stroke-miterlimit:10;\" d=\"M 264.300781 222.167969 C 264.300781 225.769531 258.898438 225.769531 258.898438 222.167969 C 258.898438 218.570313 264.300781 218.570313 264.300781 222.167969 \"/>\n",
       "<path style=\"fill:none;stroke-width:0.75;stroke-linecap:round;stroke-linejoin:round;stroke:rgb(0%,0%,0%);stroke-opacity:1;stroke-miterlimit:10;\" d=\"M 323.699219 195.011719 C 323.699219 198.609375 318.300781 198.609375 318.300781 195.011719 C 318.300781 191.410156 323.699219 191.410156 323.699219 195.011719 \"/>\n",
       "<path style=\"fill:none;stroke-width:0.75;stroke-linecap:round;stroke-linejoin:round;stroke:rgb(0%,0%,0%);stroke-opacity:1;stroke-miterlimit:10;\" d=\"M 164.101563 353.429688 C 164.101563 357.03125 158.699219 357.03125 158.699219 353.429688 C 158.699219 349.832031 164.101563 349.832031 164.101563 353.429688 \"/>\n",
       "<path style=\"fill:none;stroke-width:0.75;stroke-linecap:round;stroke-linejoin:round;stroke:rgb(0%,0%,0%);stroke-opacity:1;stroke-miterlimit:10;\" d=\"M 132.300781 353.429688 C 132.300781 357.03125 126.898438 357.03125 126.898438 353.429688 C 126.898438 349.832031 132.300781 349.832031 132.300781 353.429688 \"/>\n",
       "<path style=\"fill:none;stroke-width:0.75;stroke-linecap:round;stroke-linejoin:round;stroke:rgb(0%,0%,0%);stroke-opacity:1;stroke-miterlimit:10;\" d=\"M 350.101563 195.011719 C 350.101563 198.609375 344.699219 198.609375 344.699219 195.011719 C 344.699219 191.410156 350.101563 191.410156 350.101563 195.011719 \"/>\n",
       "<path style=\"fill:none;stroke-width:0.75;stroke-linecap:round;stroke-linejoin:round;stroke:rgb(0%,0%,0%);stroke-opacity:1;stroke-miterlimit:10;\" d=\"M 241.5 258.378906 C 241.5 261.980469 236.101563 261.980469 236.101563 258.378906 C 236.101563 254.777344 241.5 254.777344 241.5 258.378906 \"/>\n",
       "<path style=\"fill:none;stroke-width:0.75;stroke-linecap:round;stroke-linejoin:round;stroke:rgb(0%,0%,0%);stroke-opacity:1;stroke-miterlimit:10;\" d=\"M 255.300781 249.328125 C 255.300781 252.925781 249.898438 252.925781 249.898438 249.328125 C 249.898438 245.726563 255.300781 245.726563 255.300781 249.328125 \"/>\n",
       "<path style=\"fill:none;stroke-width:0.75;stroke-linecap:round;stroke-linejoin:round;stroke:rgb(0%,0%,0%);stroke-opacity:1;stroke-miterlimit:10;\" d=\"M 200.101563 276.484375 C 200.101563 280.085938 194.699219 280.085938 194.699219 276.484375 C 194.699219 272.882813 200.101563 272.882813 200.101563 276.484375 \"/>\n",
       "<path style=\"fill:none;stroke-width:0.75;stroke-linecap:round;stroke-linejoin:round;stroke:rgb(0%,0%,0%);stroke-opacity:1;stroke-miterlimit:10;\" d=\"M 302.699219 204.0625 C 302.699219 207.664063 297.300781 207.664063 297.300781 204.0625 C 297.300781 200.464844 302.699219 200.464844 302.699219 204.0625 \"/>\n",
       "<path style=\"fill:none;stroke-width:0.75;stroke-linecap:round;stroke-linejoin:round;stroke:rgb(0%,0%,0%);stroke-opacity:1;stroke-miterlimit:10;\" d=\"M 236.699219 244.800781 C 236.699219 248.398438 231.300781 248.398438 231.300781 244.800781 C 231.300781 241.199219 236.699219 241.199219 236.699219 244.800781 \"/>\n",
       "<path style=\"fill:none;stroke-width:0.75;stroke-linecap:round;stroke-linejoin:round;stroke:rgb(0%,0%,0%);stroke-opacity:1;stroke-miterlimit:10;\" d=\"M 302.699219 199.535156 C 302.699219 203.136719 297.300781 203.136719 297.300781 199.535156 C 297.300781 195.9375 302.699219 195.9375 302.699219 199.535156 \"/>\n",
       "<path style=\"fill:none;stroke-width:0.75;stroke-linecap:round;stroke-linejoin:round;stroke:rgb(0%,0%,0%);stroke-opacity:1;stroke-miterlimit:10;\" d=\"M 267.300781 226.695313 C 267.300781 230.292969 261.898438 230.292969 261.898438 226.695313 C 261.898438 223.09375 267.300781 223.09375 267.300781 226.695313 \"/>\n",
       "<path style=\"fill:none;stroke-width:0.75;stroke-linecap:round;stroke-linejoin:round;stroke:rgb(0%,0%,0%);stroke-opacity:1;stroke-miterlimit:10;\" d=\"M 309.300781 217.640625 C 309.300781 221.242188 303.898438 221.242188 303.898438 217.640625 C 303.898438 214.042969 309.300781 214.042969 309.300781 217.640625 \"/>\n",
       "<path style=\"fill:none;stroke-width:0.75;stroke-linecap:round;stroke-linejoin:round;stroke:rgb(0%,0%,0%);stroke-opacity:1;stroke-miterlimit:10;\" d=\"M 326.101563 172.378906 C 326.101563 175.980469 320.699219 175.980469 320.699219 172.378906 C 320.699219 168.777344 326.101563 168.777344 326.101563 172.378906 \"/>\n",
       "<path style=\"fill:none;stroke-width:0.75;stroke-linecap:round;stroke-linejoin:round;stroke:rgb(0%,0%,0%);stroke-opacity:1;stroke-miterlimit:10;\" d=\"M 315.300781 204.0625 C 315.300781 207.664063 309.898438 207.664063 309.898438 204.0625 C 309.898438 200.464844 315.300781 200.464844 315.300781 204.0625 \"/>\n",
       "<path style=\"fill:none;stroke-width:0.75;stroke-linecap:round;stroke-linejoin:round;stroke:rgb(0%,0%,0%);stroke-opacity:1;stroke-miterlimit:10;\" d=\"M 327.898438 185.957031 C 327.898438 189.558594 322.5 189.558594 322.5 185.957031 C 322.5 182.359375 327.898438 182.359375 327.898438 185.957031 \"/>\n",
       "<path style=\"fill:none;stroke-width:0.75;stroke-linecap:round;stroke-linejoin:round;stroke:rgb(0%,0%,0%);stroke-opacity:1;stroke-miterlimit:10;\" d=\"M 297.300781 231.222656 C 297.300781 234.820313 291.898438 234.820313 291.898438 231.222656 C 291.898438 227.621094 297.300781 227.621094 297.300781 231.222656 \"/>\n",
       "<path style=\"fill:none;stroke-width:0.75;stroke-linecap:round;stroke-linejoin:round;stroke:rgb(0%,0%,0%);stroke-opacity:1;stroke-miterlimit:10;\" d=\"M 378.300781 145.222656 C 378.300781 148.820313 372.898438 148.820313 372.898438 145.222656 C 372.898438 141.621094 378.300781 141.621094 378.300781 145.222656 \"/>\n",
       "<path style=\"fill:none;stroke-width:0.75;stroke-linecap:round;stroke-linejoin:round;stroke:rgb(0%,0%,0%);stroke-opacity:1;stroke-miterlimit:10;\" d=\"M 290.101563 213.117188 C 290.101563 216.714844 284.699219 216.714844 284.699219 213.117188 C 284.699219 209.515625 290.101563 209.515625 290.101563 213.117188 \"/>\n",
       "<path style=\"fill:none;stroke-width:0.75;stroke-linecap:round;stroke-linejoin:round;stroke:rgb(0%,0%,0%);stroke-opacity:1;stroke-miterlimit:10;\" d=\"M 383.699219 127.117188 C 383.699219 130.714844 378.300781 130.714844 378.300781 127.117188 C 378.300781 123.515625 383.699219 123.515625 383.699219 127.117188 \"/>\n",
       "<path style=\"fill:none;stroke-width:0.75;stroke-linecap:round;stroke-linejoin:round;stroke:rgb(0%,0%,0%);stroke-opacity:1;stroke-miterlimit:10;\" d=\"M 193.5 303.640625 C 193.5 307.242188 188.101563 307.242188 188.101563 303.640625 C 188.101563 300.042969 193.5 300.042969 193.5 303.640625 \"/>\n",
       "<path style=\"fill:none;stroke-width:0.75;stroke-linecap:round;stroke-linejoin:round;stroke:rgb(0%,0%,0%);stroke-opacity:1;stroke-miterlimit:10;\" d=\"M 296.699219 213.117188 C 296.699219 216.714844 291.300781 216.714844 291.300781 213.117188 C 291.300781 209.515625 296.699219 209.515625 296.699219 213.117188 \"/>\n",
       "<path style=\"fill:none;stroke-width:0.75;stroke-linecap:round;stroke-linejoin:round;stroke:rgb(0%,0%,0%);stroke-opacity:1;stroke-miterlimit:10;\" d=\"M 282.300781 222.167969 C 282.300781 225.769531 276.898438 225.769531 276.898438 222.167969 C 276.898438 218.570313 282.300781 218.570313 282.300781 222.167969 \"/>\n",
       "<path style=\"fill:none;stroke-width:0.75;stroke-linecap:round;stroke-linejoin:round;stroke:rgb(0%,0%,0%);stroke-opacity:1;stroke-miterlimit:10;\" d=\"M 227.699219 290.0625 C 227.699219 293.664063 222.300781 293.664063 222.300781 290.0625 C 222.300781 286.464844 227.699219 286.464844 227.699219 290.0625 \"/>\n",
       "<path style=\"fill:none;stroke-width:0.75;stroke-linecap:round;stroke-linejoin:round;stroke:rgb(0%,0%,0%);stroke-opacity:1;stroke-miterlimit:10;\" d=\"M 302.101563 222.167969 C 302.101563 225.769531 296.699219 225.769531 296.699219 222.167969 C 296.699219 218.570313 302.101563 218.570313 302.101563 222.167969 \"/>\n",
       "<path style=\"fill:none;stroke-width:0.75;stroke-linecap:round;stroke-linejoin:round;stroke:rgb(0%,0%,0%);stroke-opacity:1;stroke-miterlimit:10;\" d=\"M 242.699219 253.851563 C 242.699219 257.453125 237.300781 257.453125 237.300781 253.851563 C 237.300781 250.253906 242.699219 250.253906 242.699219 253.851563 \"/>\n",
       "<path style=\"fill:none;stroke-width:0.75;stroke-linecap:round;stroke-linejoin:round;stroke:rgb(0%,0%,0%);stroke-opacity:1;stroke-miterlimit:10;\" d=\"M 216.898438 281.011719 C 216.898438 284.609375 211.5 284.609375 211.5 281.011719 C 211.5 277.410156 216.898438 277.410156 216.898438 281.011719 \"/>\n",
       "<path style=\"fill:none;stroke-width:0.75;stroke-linecap:round;stroke-linejoin:round;stroke:rgb(0%,0%,0%);stroke-opacity:1;stroke-miterlimit:10;\" d=\"M 325.5 204.0625 C 325.5 207.664063 320.101563 207.664063 320.101563 204.0625 C 320.101563 200.464844 325.5 200.464844 325.5 204.0625 \"/>\n",
       "<path style=\"fill:none;stroke-width:0.75;stroke-linecap:round;stroke-linejoin:round;stroke:rgb(0%,0%,0%);stroke-opacity:1;stroke-miterlimit:10;\" d=\"M 226.5 285.535156 C 226.5 289.136719 221.101563 289.136719 221.101563 285.535156 C 221.101563 281.9375 226.5 281.9375 226.5 285.535156 \"/>\n",
       "<path style=\"fill:none;stroke-width:0.75;stroke-linecap:round;stroke-linejoin:round;stroke:rgb(0%,0%,0%);stroke-opacity:1;stroke-miterlimit:10;\" d=\"M 185.101563 294.589844 C 185.101563 298.191406 179.699219 298.191406 179.699219 294.589844 C 179.699219 290.988281 185.101563 290.988281 185.101563 294.589844 \"/>\n",
       "<path style=\"fill:none;stroke-width:0.75;stroke-linecap:round;stroke-linejoin:round;stroke:rgb(0%,0%,0%);stroke-opacity:1;stroke-miterlimit:10;\" d=\"M 285.898438 244.800781 C 285.898438 248.398438 280.5 248.398438 280.5 244.800781 C 280.5 241.199219 285.898438 241.199219 285.898438 244.800781 \"/>\n",
       "<path style=\"fill:none;stroke-width:0.75;stroke-linecap:round;stroke-linejoin:round;stroke:rgb(0%,0%,0%);stroke-opacity:1;stroke-miterlimit:10;\" d=\"M 255.898438 258.378906 C 255.898438 261.980469 250.5 261.980469 250.5 258.378906 C 250.5 254.777344 255.898438 254.777344 255.898438 258.378906 \"/>\n",
       "<path style=\"fill:none;stroke-width:0.75;stroke-linecap:round;stroke-linejoin:round;stroke:rgb(0%,0%,0%);stroke-opacity:1;stroke-miterlimit:10;\" d=\"M 227.101563 253.851563 C 227.101563 257.453125 221.699219 257.453125 221.699219 253.851563 C 221.699219 250.253906 227.101563 250.253906 227.101563 253.851563 \"/>\n",
       "<path style=\"fill:none;stroke-width:0.75;stroke-linecap:round;stroke-linejoin:round;stroke:rgb(0%,0%,0%);stroke-opacity:1;stroke-miterlimit:10;\" d=\"M 276.898438 249.328125 C 276.898438 252.925781 271.5 252.925781 271.5 249.328125 C 271.5 245.726563 276.898438 245.726563 276.898438 249.328125 \"/>\n",
       "<path style=\"fill:none;stroke-width:0.75;stroke-linecap:round;stroke-linejoin:round;stroke:rgb(0%,0%,0%);stroke-opacity:1;stroke-miterlimit:10;\" d=\"M 294.300781 217.640625 C 294.300781 221.242188 288.898438 221.242188 288.898438 217.640625 C 288.898438 214.042969 294.300781 214.042969 294.300781 217.640625 \"/>\n",
       "<path style=\"fill:none;stroke-width:0.75;stroke-linecap:round;stroke-linejoin:round;stroke:rgb(0%,0%,0%);stroke-opacity:1;stroke-miterlimit:10;\" d=\"M 146.699219 321.746094 C 146.699219 325.347656 141.300781 325.347656 141.300781 321.746094 C 141.300781 318.148438 146.699219 318.148438 146.699219 321.746094 \"/>\n",
       "<path style=\"fill:none;stroke-width:0.75;stroke-linecap:round;stroke-linejoin:round;stroke:rgb(0%,0%,0%);stroke-opacity:1;stroke-miterlimit:10;\" d=\"M 372.300781 154.273438 C 372.300781 157.875 366.898438 157.875 366.898438 154.273438 C 366.898438 150.671875 372.300781 150.671875 372.300781 154.273438 \"/>\n",
       "<path style=\"fill:none;stroke-width:0.75;stroke-linecap:round;stroke-linejoin:round;stroke:rgb(0%,0%,0%);stroke-opacity:1;stroke-miterlimit:10;\" d=\"M 257.699219 253.851563 C 257.699219 257.453125 252.300781 257.453125 252.300781 253.851563 C 252.300781 250.253906 257.699219 250.253906 257.699219 253.851563 \"/>\n",
       "<path style=\"fill:none;stroke-width:0.75;stroke-linecap:round;stroke-linejoin:round;stroke:rgb(0%,0%,0%);stroke-opacity:1;stroke-miterlimit:10;\" d=\"M 290.101563 222.167969 C 290.101563 225.769531 284.699219 225.769531 284.699219 222.167969 C 284.699219 218.570313 290.101563 218.570313 290.101563 222.167969 \"/>\n",
       "<path style=\"fill:none;stroke-width:0.75;stroke-linecap:round;stroke-linejoin:round;stroke:rgb(0%,0%,0%);stroke-opacity:1;stroke-miterlimit:10;\" d=\"M 251.699219 267.429688 C 251.699219 271.03125 246.300781 271.03125 246.300781 267.429688 C 246.300781 263.832031 251.699219 263.832031 251.699219 267.429688 \"/>\n",
       "<path style=\"fill:none;stroke-width:0.75;stroke-linecap:round;stroke-linejoin:round;stroke:rgb(0%,0%,0%);stroke-opacity:1;stroke-miterlimit:10;\" d=\"M 302.699219 185.957031 C 302.699219 189.558594 297.300781 189.558594 297.300781 185.957031 C 297.300781 182.359375 302.699219 182.359375 302.699219 185.957031 \"/>\n",
       "<path style=\"fill:none;stroke-width:0.75;stroke-linecap:round;stroke-linejoin:round;stroke:rgb(0%,0%,0%);stroke-opacity:1;stroke-miterlimit:10;\" d=\"M 263.699219 213.117188 C 263.699219 216.714844 258.300781 216.714844 258.300781 213.117188 C 258.300781 209.515625 263.699219 209.515625 263.699219 213.117188 \"/>\n",
       "<path style=\"fill:none;stroke-width:0.75;stroke-linecap:round;stroke-linejoin:round;stroke:rgb(0%,0%,0%);stroke-opacity:1;stroke-miterlimit:10;\" d=\"M 288.300781 185.957031 C 288.300781 189.558594 282.898438 189.558594 282.898438 185.957031 C 282.898438 182.359375 288.300781 182.359375 288.300781 185.957031 \"/>\n",
       "<path style=\"fill:none;stroke-width:0.75;stroke-linecap:round;stroke-linejoin:round;stroke:rgb(0%,0%,0%);stroke-opacity:1;stroke-miterlimit:10;\" d=\"M 350.699219 181.429688 C 350.699219 185.03125 345.300781 185.03125 345.300781 181.429688 C 345.300781 177.832031 350.699219 177.832031 350.699219 181.429688 \"/>\n",
       "<path style=\"fill:none;stroke-width:0.75;stroke-linecap:round;stroke-linejoin:round;stroke:rgb(0%,0%,0%);stroke-opacity:1;stroke-miterlimit:10;\" d=\"M 293.699219 195.011719 C 293.699219 198.609375 288.300781 198.609375 288.300781 195.011719 C 288.300781 191.410156 293.699219 191.410156 293.699219 195.011719 \"/>\n",
       "<path style=\"fill:none;stroke-width:0.75;stroke-linecap:round;stroke-linejoin:round;stroke:rgb(0%,0%,0%);stroke-opacity:1;stroke-miterlimit:10;\" d=\"M 285.898438 231.222656 C 285.898438 234.820313 280.5 234.820313 280.5 231.222656 C 280.5 227.621094 285.898438 227.621094 285.898438 231.222656 \"/>\n",
       "<path style=\"fill:none;stroke-width:0.75;stroke-linecap:round;stroke-linejoin:round;stroke:rgb(0%,0%,0%);stroke-opacity:1;stroke-miterlimit:10;\" d=\"M 247.5 235.746094 C 247.5 239.347656 242.101563 239.347656 242.101563 235.746094 C 242.101563 232.148438 247.5 232.148438 247.5 235.746094 \"/>\n",
       "<path style=\"fill:none;stroke-width:0.75;stroke-linecap:round;stroke-linejoin:round;stroke:rgb(0%,0%,0%);stroke-opacity:1;stroke-miterlimit:10;\" d=\"M 263.101563 235.746094 C 263.101563 239.347656 257.699219 239.347656 257.699219 235.746094 C 257.699219 232.148438 263.101563 232.148438 263.101563 235.746094 \"/>\n",
       "<path style=\"fill:none;stroke-width:0.75;stroke-linecap:round;stroke-linejoin:round;stroke:rgb(0%,0%,0%);stroke-opacity:1;stroke-miterlimit:10;\" d=\"M 218.699219 303.640625 C 218.699219 307.242188 213.300781 307.242188 213.300781 303.640625 C 213.300781 300.042969 218.699219 300.042969 218.699219 303.640625 \"/>\n",
       "<path style=\"fill:none;stroke-width:0.75;stroke-linecap:round;stroke-linejoin:round;stroke:rgb(0%,0%,0%);stroke-opacity:1;stroke-miterlimit:10;\" d=\"M 251.101563 244.800781 C 251.101563 248.398438 245.699219 248.398438 245.699219 244.800781 C 245.699219 241.199219 251.101563 241.199219 251.101563 244.800781 \"/>\n",
       "<path style=\"fill:none;stroke-width:0.75;stroke-linecap:round;stroke-linejoin:round;stroke:rgb(0%,0%,0%);stroke-opacity:1;stroke-miterlimit:10;\" d=\"M 344.101563 190.484375 C 344.101563 194.085938 338.699219 194.085938 338.699219 190.484375 C 338.699219 186.882813 344.101563 186.882813 344.101563 190.484375 \"/>\n",
       "<path style=\"fill:none;stroke-width:0.75;stroke-linecap:round;stroke-linejoin:round;stroke:rgb(0%,0%,0%);stroke-opacity:1;stroke-miterlimit:10;\" d=\"M 338.699219 167.851563 C 338.699219 171.453125 333.300781 171.453125 333.300781 167.851563 C 333.300781 164.253906 338.699219 164.253906 338.699219 167.851563 \"/>\n",
       "<path style=\"fill:none;stroke-width:0.75;stroke-linecap:round;stroke-linejoin:round;stroke:rgb(0%,0%,0%);stroke-opacity:1;stroke-miterlimit:10;\" d=\"M 260.101563 258.378906 C 260.101563 261.980469 254.699219 261.980469 254.699219 258.378906 C 254.699219 254.777344 260.101563 254.777344 260.101563 258.378906 \"/>\n",
       "<path style=\"fill:none;stroke-width:0.75;stroke-linecap:round;stroke-linejoin:round;stroke:rgb(0%,0%,0%);stroke-opacity:1;stroke-miterlimit:10;\" d=\"M 389.699219 163.328125 C 389.699219 166.925781 384.300781 166.925781 384.300781 163.328125 C 384.300781 159.726563 389.699219 159.726563 389.699219 163.328125 \"/>\n",
       "<path style=\"fill:none;stroke-width:0.75;stroke-linecap:round;stroke-linejoin:round;stroke:rgb(0%,0%,0%);stroke-opacity:1;stroke-miterlimit:10;\" d=\"M 213.300781 271.957031 C 213.300781 275.558594 207.898438 275.558594 207.898438 271.957031 C 207.898438 268.359375 213.300781 268.359375 213.300781 271.957031 \"/>\n",
       "<path style=\"fill:none;stroke-width:0.75;stroke-linecap:round;stroke-linejoin:round;stroke:rgb(0%,0%,0%);stroke-opacity:1;stroke-miterlimit:10;\" d=\"M 244.5 267.429688 C 244.5 271.03125 239.101563 271.03125 239.101563 267.429688 C 239.101563 263.832031 244.5 263.832031 244.5 267.429688 \"/>\n",
       "<path style=\"fill:none;stroke-width:0.75;stroke-linecap:round;stroke-linejoin:round;stroke:rgb(0%,0%,0%);stroke-opacity:1;stroke-miterlimit:10;\" d=\"M 334.5 167.851563 C 334.5 171.453125 329.101563 171.453125 329.101563 167.851563 C 329.101563 164.253906 334.5 164.253906 334.5 167.851563 \"/>\n",
       "<path style=\"fill:none;stroke-width:0.75;stroke-linecap:round;stroke-linejoin:round;stroke:rgb(0%,0%,0%);stroke-opacity:1;stroke-miterlimit:10;\" d=\"M 336.898438 181.429688 C 336.898438 185.03125 331.5 185.03125 331.5 181.429688 C 331.5 177.832031 336.898438 177.832031 336.898438 181.429688 \"/>\n",
       "<path style=\"fill:none;stroke-width:0.75;stroke-linecap:round;stroke-linejoin:round;stroke:rgb(0%,0%,0%);stroke-opacity:1;stroke-miterlimit:10;\" d=\"M 215.101563 281.011719 C 215.101563 284.609375 209.699219 284.609375 209.699219 281.011719 C 209.699219 277.410156 215.101563 277.410156 215.101563 281.011719 \"/>\n",
       "<path style=\"fill:none;stroke-width:0.75;stroke-linecap:round;stroke-linejoin:round;stroke:rgb(0%,0%,0%);stroke-opacity:1;stroke-miterlimit:10;\" d=\"M 242.699219 271.957031 C 242.699219 275.558594 237.300781 275.558594 237.300781 271.957031 C 237.300781 268.359375 242.699219 268.359375 242.699219 271.957031 \"/>\n",
       "<path style=\"fill:none;stroke-width:0.75;stroke-linecap:round;stroke-linejoin:round;stroke:rgb(0%,0%,0%);stroke-opacity:1;stroke-miterlimit:10;\" d=\"M 284.699219 208.589844 C 284.699219 212.191406 279.300781 212.191406 279.300781 208.589844 C 279.300781 204.988281 284.699219 204.988281 284.699219 208.589844 \"/>\n",
       "<path style=\"fill:none;stroke-width:0.75;stroke-linecap:round;stroke-linejoin:round;stroke:rgb(0%,0%,0%);stroke-opacity:1;stroke-miterlimit:10;\" d=\"M 269.699219 217.640625 C 269.699219 221.242188 264.300781 221.242188 264.300781 217.640625 C 264.300781 214.042969 269.699219 214.042969 269.699219 217.640625 \"/>\n",
       "<path style=\"fill:none;stroke-width:0.75;stroke-linecap:round;stroke-linejoin:round;stroke:rgb(0%,0%,0%);stroke-opacity:1;stroke-miterlimit:10;\" d=\"M 326.101563 204.0625 C 326.101563 207.664063 320.699219 207.664063 320.699219 204.0625 C 320.699219 200.464844 326.101563 200.464844 326.101563 204.0625 \"/>\n",
       "<path style=\"fill:none;stroke-width:0.75;stroke-linecap:round;stroke-linejoin:round;stroke:rgb(0%,0%,0%);stroke-opacity:1;stroke-miterlimit:10;\" d=\"M 326.699219 163.328125 C 326.699219 166.925781 321.300781 166.925781 321.300781 163.328125 C 321.300781 159.726563 326.699219 159.726563 326.699219 163.328125 \"/>\n",
       "<path style=\"fill:none;stroke-width:0.75;stroke-linecap:round;stroke-linejoin:round;stroke:rgb(0%,0%,0%);stroke-opacity:1;stroke-miterlimit:10;\" d=\"M 264.300781 253.851563 C 264.300781 257.453125 258.898438 257.453125 258.898438 253.851563 C 258.898438 250.253906 264.300781 250.253906 264.300781 253.851563 \"/>\n",
       "<path style=\"fill:none;stroke-width:0.75;stroke-linecap:round;stroke-linejoin:round;stroke:rgb(0%,0%,0%);stroke-opacity:1;stroke-miterlimit:10;\" d=\"M 251.101563 267.429688 C 251.101563 271.03125 245.699219 271.03125 245.699219 267.429688 C 245.699219 263.832031 251.101563 263.832031 251.101563 267.429688 \"/>\n",
       "<path style=\"fill:none;stroke-width:0.75;stroke-linecap:round;stroke-linejoin:round;stroke:rgb(0%,0%,0%);stroke-opacity:1;stroke-miterlimit:10;\" d=\"M 235.5 249.328125 C 235.5 252.925781 230.101563 252.925781 230.101563 249.328125 C 230.101563 245.726563 235.5 245.726563 235.5 249.328125 \"/>\n",
       "<path style=\"fill:none;stroke-width:0.75;stroke-linecap:round;stroke-linejoin:round;stroke:rgb(0%,0%,0%);stroke-opacity:1;stroke-miterlimit:10;\" d=\"M 216.898438 276.484375 C 216.898438 280.085938 211.5 280.085938 211.5 276.484375 C 211.5 272.882813 216.898438 272.882813 216.898438 276.484375 \"/>\n",
       "<path style=\"fill:none;stroke-width:0.75;stroke-linecap:round;stroke-linejoin:round;stroke:rgb(0%,0%,0%);stroke-opacity:1;stroke-miterlimit:10;\" d=\"M 245.101563 244.800781 C 245.101563 248.398438 239.699219 248.398438 239.699219 244.800781 C 239.699219 241.199219 245.101563 241.199219 245.101563 244.800781 \"/>\n",
       "<path style=\"fill:none;stroke-width:0.75;stroke-linecap:round;stroke-linejoin:round;stroke:rgb(0%,0%,0%);stroke-opacity:1;stroke-miterlimit:10;\" d=\"M 398.699219 109.011719 C 398.699219 112.609375 393.300781 112.609375 393.300781 109.011719 C 393.300781 105.410156 398.699219 105.410156 398.699219 109.011719 \"/>\n",
       "<path style=\"fill:none;stroke-width:0.75;stroke-linecap:round;stroke-linejoin:round;stroke:rgb(0%,0%,0%);stroke-opacity:1;stroke-miterlimit:10;\" d=\"M 311.101563 190.484375 C 311.101563 194.085938 305.699219 194.085938 305.699219 190.484375 C 305.699219 186.882813 311.101563 186.882813 311.101563 190.484375 \"/>\n",
       "<path style=\"fill:none;stroke-width:0.75;stroke-linecap:round;stroke-linejoin:round;stroke:rgb(0%,0%,0%);stroke-opacity:1;stroke-miterlimit:10;\" d=\"M 258.300781 253.851563 C 258.300781 257.453125 252.898438 257.453125 252.898438 253.851563 C 252.898438 250.253906 258.300781 250.253906 258.300781 253.851563 \"/>\n",
       "<path style=\"fill:none;stroke-width:0.75;stroke-linecap:round;stroke-linejoin:round;stroke:rgb(0%,0%,0%);stroke-opacity:1;stroke-miterlimit:10;\" d=\"M 291.300781 208.589844 C 291.300781 212.191406 285.898438 212.191406 285.898438 208.589844 C 285.898438 204.988281 291.300781 204.988281 291.300781 208.589844 \"/>\n",
       "<path style=\"fill:none;stroke-width:0.75;stroke-linecap:round;stroke-linejoin:round;stroke:rgb(0%,0%,0%);stroke-opacity:1;stroke-miterlimit:10;\" d=\"M 253.5 308.167969 C 253.5 311.769531 248.101563 311.769531 248.101563 308.167969 C 248.101563 304.570313 253.5 304.570313 253.5 308.167969 \"/>\n",
       "<path style=\"fill:none;stroke-width:0.75;stroke-linecap:round;stroke-linejoin:round;stroke:rgb(0%,0%,0%);stroke-opacity:1;stroke-miterlimit:10;\" d=\"M 235.5 262.90625 C 235.5 266.503906 230.101563 266.503906 230.101563 262.90625 C 230.101563 259.304688 235.5 259.304688 235.5 262.90625 \"/>\n",
       "<path style=\"fill:none;stroke-width:0.75;stroke-linecap:round;stroke-linejoin:round;stroke:rgb(0%,0%,0%);stroke-opacity:1;stroke-miterlimit:10;\" d=\"M 205.5 294.589844 C 205.5 298.191406 200.101563 298.191406 200.101563 294.589844 C 200.101563 290.988281 205.5 290.988281 205.5 294.589844 \"/>\n",
       "<path style=\"fill:none;stroke-width:0.75;stroke-linecap:round;stroke-linejoin:round;stroke:rgb(0%,0%,0%);stroke-opacity:1;stroke-miterlimit:10;\" d=\"M 323.699219 222.167969 C 323.699219 225.769531 318.300781 225.769531 318.300781 222.167969 C 318.300781 218.570313 323.699219 218.570313 323.699219 222.167969 \"/>\n",
       "<path style=\"fill:none;stroke-width:0.75;stroke-linecap:round;stroke-linejoin:round;stroke:rgb(0%,0%,0%);stroke-opacity:1;stroke-miterlimit:10;\" d=\"M 269.699219 240.273438 C 269.699219 243.875 264.300781 243.875 264.300781 240.273438 C 264.300781 236.671875 269.699219 236.671875 269.699219 240.273438 \"/>\n",
       "<path style=\"fill:none;stroke-width:0.75;stroke-linecap:round;stroke-linejoin:round;stroke:rgb(0%,0%,0%);stroke-opacity:1;stroke-miterlimit:10;\" d=\"M 292.5 204.0625 C 292.5 207.664063 287.101563 207.664063 287.101563 204.0625 C 287.101563 200.464844 292.5 200.464844 292.5 204.0625 \"/>\n",
       "<path style=\"fill:none;stroke-width:0.75;stroke-linecap:round;stroke-linejoin:round;stroke:rgb(0%,0%,0%);stroke-opacity:1;stroke-miterlimit:10;\" d=\"M 321.300781 208.589844 C 321.300781 212.191406 315.898438 212.191406 315.898438 208.589844 C 315.898438 204.988281 321.300781 204.988281 321.300781 208.589844 \"/>\n",
       "<path style=\"fill:none;stroke-width:0.75;stroke-linecap:round;stroke-linejoin:round;stroke:rgb(0%,0%,0%);stroke-opacity:1;stroke-miterlimit:10;\" d=\"M 186.300781 299.117188 C 186.300781 302.714844 180.898438 302.714844 180.898438 299.117188 C 180.898438 295.515625 186.300781 295.515625 186.300781 299.117188 \"/>\n",
       "<path style=\"fill:none;stroke-width:0.75;stroke-linecap:round;stroke-linejoin:round;stroke:rgb(0%,0%,0%);stroke-opacity:1;stroke-miterlimit:10;\" d=\"M 308.101563 222.167969 C 308.101563 225.769531 302.699219 225.769531 302.699219 222.167969 C 302.699219 218.570313 308.101563 218.570313 308.101563 222.167969 \"/>\n",
       "<path style=\"fill:none;stroke-width:0.75;stroke-linecap:round;stroke-linejoin:round;stroke:rgb(0%,0%,0%);stroke-opacity:1;stroke-miterlimit:10;\" d=\"M 323.699219 231.222656 C 323.699219 234.820313 318.300781 234.820313 318.300781 231.222656 C 318.300781 227.621094 323.699219 227.621094 323.699219 231.222656 \"/>\n",
       "<path style=\"fill:none;stroke-width:0.75;stroke-linecap:round;stroke-linejoin:round;stroke:rgb(0%,0%,0%);stroke-opacity:1;stroke-miterlimit:10;\" d=\"M 293.101563 190.484375 C 293.101563 194.085938 287.699219 194.085938 287.699219 190.484375 C 287.699219 186.882813 293.101563 186.882813 293.101563 190.484375 \"/>\n",
       "<path style=\"fill:none;stroke-width:0.75;stroke-linecap:round;stroke-linejoin:round;stroke:rgb(0%,0%,0%);stroke-opacity:1;stroke-miterlimit:10;\" d=\"M 249.898438 249.328125 C 249.898438 252.925781 244.5 252.925781 244.5 249.328125 C 244.5 245.726563 249.898438 245.726563 249.898438 249.328125 \"/>\n",
       "<path style=\"fill:none;stroke-width:0.75;stroke-linecap:round;stroke-linejoin:round;stroke:rgb(0%,0%,0%);stroke-opacity:1;stroke-miterlimit:10;\" d=\"M 285.300781 213.117188 C 285.300781 216.714844 279.898438 216.714844 279.898438 213.117188 C 279.898438 209.515625 285.300781 209.515625 285.300781 213.117188 \"/>\n",
       "<path style=\"fill:none;stroke-width:0.75;stroke-linecap:round;stroke-linejoin:round;stroke:rgb(0%,0%,0%);stroke-opacity:1;stroke-miterlimit:10;\" d=\"M 282.300781 195.011719 C 282.300781 198.609375 276.898438 198.609375 276.898438 195.011719 C 276.898438 191.410156 282.300781 191.410156 282.300781 195.011719 \"/>\n",
       "<path style=\"fill:none;stroke-width:0.75;stroke-linecap:round;stroke-linejoin:round;stroke:rgb(0%,0%,0%);stroke-opacity:1;stroke-miterlimit:10;\" d=\"M 196.5 326.273438 C 196.5 329.875 191.101563 329.875 191.101563 326.273438 C 191.101563 322.671875 196.5 322.671875 196.5 326.273438 \"/>\n",
       "<path style=\"fill:none;stroke-width:0.75;stroke-linecap:round;stroke-linejoin:round;stroke:rgb(0%,0%,0%);stroke-opacity:1;stroke-miterlimit:10;\" d=\"M 300.300781 217.640625 C 300.300781 221.242188 294.898438 221.242188 294.898438 217.640625 C 294.898438 214.042969 300.300781 214.042969 300.300781 217.640625 \"/>\n",
       "<path style=\"fill:none;stroke-width:0.75;stroke-linecap:round;stroke-linejoin:round;stroke:rgb(0%,0%,0%);stroke-opacity:1;stroke-miterlimit:10;\" d=\"M 284.699219 222.167969 C 284.699219 225.769531 279.300781 225.769531 279.300781 222.167969 C 279.300781 218.570313 284.699219 218.570313 284.699219 222.167969 \"/>\n",
       "<path style=\"fill:none;stroke-width:0.75;stroke-linecap:round;stroke-linejoin:round;stroke:rgb(0%,0%,0%);stroke-opacity:1;stroke-miterlimit:10;\" d=\"M 304.5 185.957031 C 304.5 189.558594 299.101563 189.558594 299.101563 185.957031 C 299.101563 182.359375 304.5 182.359375 304.5 185.957031 \"/>\n",
       "<path style=\"fill:none;stroke-width:0.75;stroke-linecap:round;stroke-linejoin:round;stroke:rgb(0%,0%,0%);stroke-opacity:1;stroke-miterlimit:10;\" d=\"M 337.5 167.851563 C 337.5 171.453125 332.101563 171.453125 332.101563 167.851563 C 332.101563 164.253906 337.5 164.253906 337.5 167.851563 \"/>\n",
       "<path style=\"fill:none;stroke-width:0.75;stroke-linecap:round;stroke-linejoin:round;stroke:rgb(0%,0%,0%);stroke-opacity:1;stroke-miterlimit:10;\" d=\"M 208.5 276.484375 C 208.5 280.085938 203.101563 280.085938 203.101563 276.484375 C 203.101563 272.882813 208.5 272.882813 208.5 276.484375 \"/>\n",
       "<path style=\"fill:none;stroke-width:0.75;stroke-linecap:round;stroke-linejoin:round;stroke:rgb(0%,0%,0%);stroke-opacity:1;stroke-miterlimit:10;\" d=\"M 229.5 249.328125 C 229.5 252.925781 224.101563 252.925781 224.101563 249.328125 C 224.101563 245.726563 229.5 245.726563 229.5 249.328125 \"/>\n",
       "<path style=\"fill:none;stroke-width:0.75;stroke-linecap:round;stroke-linejoin:round;stroke:rgb(0%,0%,0%);stroke-opacity:1;stroke-miterlimit:10;\" d=\"M 273.898438 217.640625 C 273.898438 221.242188 268.5 221.242188 268.5 217.640625 C 268.5 214.042969 273.898438 214.042969 273.898438 217.640625 \"/>\n",
       "<path style=\"fill:none;stroke-width:0.75;stroke-linecap:round;stroke-linejoin:round;stroke:rgb(0%,0%,0%);stroke-opacity:1;stroke-miterlimit:10;\" d=\"M 351.898438 154.273438 C 351.898438 157.875 346.5 157.875 346.5 154.273438 C 346.5 150.671875 351.898438 150.671875 351.898438 154.273438 \"/>\n",
       "<path style=\"fill:none;stroke-width:0.75;stroke-linecap:round;stroke-linejoin:round;stroke:rgb(0%,0%,0%);stroke-opacity:1;stroke-miterlimit:10;\" d=\"M 383.101563 158.800781 C 383.101563 162.398438 377.699219 162.398438 377.699219 158.800781 C 377.699219 155.199219 383.101563 155.199219 383.101563 158.800781 \"/>\n",
       "<path style=\"fill:none;stroke-width:0.75;stroke-linecap:round;stroke-linejoin:round;stroke:rgb(0%,0%,0%);stroke-opacity:1;stroke-miterlimit:10;\" d=\"M 257.699219 249.328125 C 257.699219 252.925781 252.300781 252.925781 252.300781 249.328125 C 252.300781 245.726563 257.699219 245.726563 257.699219 249.328125 \"/>\n",
       "<path style=\"fill:none;stroke-width:0.75;stroke-linecap:round;stroke-linejoin:round;stroke:rgb(0%,0%,0%);stroke-opacity:1;stroke-miterlimit:10;\" d=\"M 272.101563 258.378906 C 272.101563 261.980469 266.699219 261.980469 266.699219 258.378906 C 266.699219 254.777344 272.101563 254.777344 272.101563 258.378906 \"/>\n",
       "<path style=\"fill:none;stroke-width:0.75;stroke-linecap:round;stroke-linejoin:round;stroke:rgb(0%,0%,0%);stroke-opacity:1;stroke-miterlimit:10;\" d=\"M 191.699219 339.851563 C 191.699219 343.453125 186.300781 343.453125 186.300781 339.851563 C 186.300781 336.253906 191.699219 336.253906 191.699219 339.851563 \"/>\n",
       "<path style=\"fill:none;stroke-width:0.75;stroke-linecap:round;stroke-linejoin:round;stroke:rgb(0%,0%,0%);stroke-opacity:1;stroke-miterlimit:10;\" d=\"M 292.5 222.167969 C 292.5 225.769531 287.101563 225.769531 287.101563 222.167969 C 287.101563 218.570313 292.5 218.570313 292.5 222.167969 \"/>\n",
       "<path style=\"fill:none;stroke-width:0.75;stroke-linecap:round;stroke-linejoin:round;stroke:rgb(0%,0%,0%);stroke-opacity:1;stroke-miterlimit:10;\" d=\"M 216.300781 262.90625 C 216.300781 266.503906 210.898438 266.503906 210.898438 262.90625 C 210.898438 259.304688 216.300781 259.304688 216.300781 262.90625 \"/>\n",
       "<path style=\"fill:none;stroke-width:0.75;stroke-linecap:round;stroke-linejoin:round;stroke:rgb(0%,0%,0%);stroke-opacity:1;stroke-miterlimit:10;\" d=\"M 204.898438 317.222656 C 204.898438 320.820313 199.5 320.820313 199.5 317.222656 C 199.5 313.621094 204.898438 313.621094 204.898438 317.222656 \"/>\n",
       "<path style=\"fill:none;stroke-width:0.75;stroke-linecap:round;stroke-linejoin:round;stroke:rgb(0%,0%,0%);stroke-opacity:1;stroke-miterlimit:10;\" d=\"M 380.699219 140.695313 C 380.699219 144.292969 375.300781 144.292969 375.300781 140.695313 C 375.300781 137.09375 380.699219 137.09375 380.699219 140.695313 \"/>\n",
       "<path style=\"fill:none;stroke-width:0.75;stroke-linecap:round;stroke-linejoin:round;stroke:rgb(0%,0%,0%);stroke-opacity:1;stroke-miterlimit:10;\" d=\"M 174.898438 317.222656 C 174.898438 320.820313 169.5 320.820313 169.5 317.222656 C 169.5 313.621094 174.898438 313.621094 174.898438 317.222656 \"/>\n",
       "<path style=\"fill:none;stroke-width:0.75;stroke-linecap:round;stroke-linejoin:round;stroke:rgb(0%,0%,0%);stroke-opacity:1;stroke-miterlimit:10;\" d=\"M 378.300781 149.746094 C 378.300781 153.347656 372.898438 153.347656 372.898438 149.746094 C 372.898438 146.148438 378.300781 146.148438 378.300781 149.746094 \"/>\n",
       "<path style=\"fill:none;stroke-width:0.75;stroke-linecap:round;stroke-linejoin:round;stroke:rgb(0%,0%,0%);stroke-opacity:1;stroke-miterlimit:10;\" d=\"M 261.898438 235.746094 C 261.898438 239.347656 256.5 239.347656 256.5 235.746094 C 256.5 232.148438 261.898438 232.148438 261.898438 235.746094 \"/>\n",
       "<path style=\"fill:none;stroke-width:0.75;stroke-linecap:round;stroke-linejoin:round;stroke:rgb(0%,0%,0%);stroke-opacity:1;stroke-miterlimit:10;\" d=\"M 284.101563 213.117188 C 284.101563 216.714844 278.699219 216.714844 278.699219 213.117188 C 278.699219 209.515625 284.101563 209.515625 284.101563 213.117188 \"/>\n",
       "<path style=\"fill:none;stroke-width:0.75;stroke-linecap:round;stroke-linejoin:round;stroke:rgb(0%,0%,0%);stroke-opacity:1;stroke-miterlimit:10;\" d=\"M 303.300781 208.589844 C 303.300781 212.191406 297.898438 212.191406 297.898438 208.589844 C 297.898438 204.988281 303.300781 204.988281 303.300781 208.589844 \"/>\n",
       "<path style=\"fill:none;stroke-width:0.75;stroke-linecap:round;stroke-linejoin:round;stroke:rgb(0%,0%,0%);stroke-opacity:1;stroke-miterlimit:10;\" d=\"M 275.101563 231.222656 C 275.101563 234.820313 269.699219 234.820313 269.699219 231.222656 C 269.699219 227.621094 275.101563 227.621094 275.101563 231.222656 \"/>\n",
       "<path style=\"fill:none;stroke-width:0.75;stroke-linecap:round;stroke-linejoin:round;stroke:rgb(0%,0%,0%);stroke-opacity:1;stroke-miterlimit:10;\" d=\"M 338.101563 163.328125 C 338.101563 166.925781 332.699219 166.925781 332.699219 163.328125 C 332.699219 159.726563 338.101563 159.726563 338.101563 163.328125 \"/>\n",
       "<path style=\"fill:none;stroke-width:0.75;stroke-linecap:round;stroke-linejoin:round;stroke:rgb(0%,0%,0%);stroke-opacity:1;stroke-miterlimit:10;\" d=\"M 241.5 262.90625 C 241.5 266.503906 236.101563 266.503906 236.101563 262.90625 C 236.101563 259.304688 241.5 259.304688 241.5 262.90625 \"/>\n",
       "<path style=\"fill:none;stroke-width:0.75;stroke-linecap:round;stroke-linejoin:round;stroke:rgb(0%,0%,0%);stroke-opacity:1;stroke-miterlimit:10;\" d=\"M 203.699219 281.011719 C 203.699219 284.609375 198.300781 284.609375 198.300781 281.011719 C 198.300781 277.410156 203.699219 277.410156 203.699219 281.011719 \"/>\n",
       "<path style=\"fill:none;stroke-width:0.75;stroke-linecap:round;stroke-linejoin:round;stroke:rgb(0%,0%,0%);stroke-opacity:1;stroke-miterlimit:10;\" d=\"M 272.699219 258.378906 C 272.699219 261.980469 267.300781 261.980469 267.300781 258.378906 C 267.300781 254.777344 272.699219 254.777344 272.699219 258.378906 \"/>\n",
       "<path style=\"fill:none;stroke-width:0.75;stroke-linecap:round;stroke-linejoin:round;stroke:rgb(0%,0%,0%);stroke-opacity:1;stroke-miterlimit:10;\" d=\"M 387.300781 127.117188 C 387.300781 130.714844 381.898438 130.714844 381.898438 127.117188 C 381.898438 123.515625 387.300781 123.515625 387.300781 127.117188 \"/>\n",
       "<path style=\"fill:none;stroke-width:0.75;stroke-linecap:round;stroke-linejoin:round;stroke:rgb(0%,0%,0%);stroke-opacity:1;stroke-miterlimit:10;\" d=\"M 313.5 235.746094 C 313.5 239.347656 308.101563 239.347656 308.101563 235.746094 C 308.101563 232.148438 313.5 232.148438 313.5 235.746094 \"/>\n",
       "<path style=\"fill:none;stroke-width:0.75;stroke-linecap:round;stroke-linejoin:round;stroke:rgb(0%,0%,0%);stroke-opacity:1;stroke-miterlimit:10;\" d=\"M 267.898438 217.640625 C 267.898438 221.242188 262.5 221.242188 262.5 217.640625 C 262.5 214.042969 267.898438 214.042969 267.898438 217.640625 \"/>\n",
       "<path style=\"fill:none;stroke-width:0.75;stroke-linecap:round;stroke-linejoin:round;stroke:rgb(0%,0%,0%);stroke-opacity:1;stroke-miterlimit:10;\" d=\"M 263.699219 240.273438 C 263.699219 243.875 258.300781 243.875 258.300781 240.273438 C 258.300781 236.671875 263.699219 236.671875 263.699219 240.273438 \"/>\n",
       "<path style=\"fill:none;stroke-width:0.75;stroke-linecap:round;stroke-linejoin:round;stroke:rgb(0%,0%,0%);stroke-opacity:1;stroke-miterlimit:10;\" d=\"M 219.898438 294.589844 C 219.898438 298.191406 214.5 298.191406 214.5 294.589844 C 214.5 290.988281 219.898438 290.988281 219.898438 294.589844 \"/>\n",
       "<path style=\"fill:none;stroke-width:0.75;stroke-linecap:round;stroke-linejoin:round;stroke:rgb(0%,0%,0%);stroke-opacity:1;stroke-miterlimit:10;\" d=\"M 274.5 231.222656 C 274.5 234.820313 269.101563 234.820313 269.101563 231.222656 C 269.101563 227.621094 274.5 227.621094 274.5 231.222656 \"/>\n",
       "<path style=\"fill:none;stroke-width:0.75;stroke-linecap:round;stroke-linejoin:round;stroke:rgb(0%,0%,0%);stroke-opacity:1;stroke-miterlimit:10;\" d=\"M 280.5 244.800781 C 280.5 248.398438 275.101563 248.398438 275.101563 244.800781 C 275.101563 241.199219 280.5 241.199219 280.5 244.800781 \"/>\n",
       "<path style=\"fill:none;stroke-width:0.75;stroke-linecap:round;stroke-linejoin:round;stroke:rgb(0%,0%,0%);stroke-opacity:1;stroke-miterlimit:10;\" d=\"M 261.300781 190.484375 C 261.300781 194.085938 255.898438 194.085938 255.898438 190.484375 C 255.898438 186.882813 261.300781 186.882813 261.300781 190.484375 \"/>\n",
       "<path style=\"fill:none;stroke-width:0.75;stroke-linecap:round;stroke-linejoin:round;stroke:rgb(0%,0%,0%);stroke-opacity:1;stroke-miterlimit:10;\" d=\"M 323.101563 204.0625 C 323.101563 207.664063 317.699219 207.664063 317.699219 204.0625 C 317.699219 200.464844 323.101563 200.464844 323.101563 204.0625 \"/>\n",
       "<path style=\"fill:none;stroke-width:0.75;stroke-linecap:round;stroke-linejoin:round;stroke:rgb(0%,0%,0%);stroke-opacity:1;stroke-miterlimit:10;\" d=\"M 240.898438 249.328125 C 240.898438 252.925781 235.5 252.925781 235.5 249.328125 C 235.5 245.726563 240.898438 245.726563 240.898438 249.328125 \"/>\n",
       "<path style=\"fill:none;stroke-width:0.75;stroke-linecap:round;stroke-linejoin:round;stroke:rgb(0%,0%,0%);stroke-opacity:1;stroke-miterlimit:10;\" d=\"M 293.699219 231.222656 C 293.699219 234.820313 288.300781 234.820313 288.300781 231.222656 C 288.300781 227.621094 293.699219 227.621094 293.699219 231.222656 \"/>\n",
       "<path style=\"fill:none;stroke-width:0.75;stroke-linecap:round;stroke-linejoin:round;stroke:rgb(0%,0%,0%);stroke-opacity:1;stroke-miterlimit:10;\" d=\"M 304.5 258.378906 C 304.5 261.980469 299.101563 261.980469 299.101563 258.378906 C 299.101563 254.777344 304.5 254.777344 304.5 258.378906 \"/>\n",
       "<path style=\"fill:none;stroke-width:0.75;stroke-linecap:round;stroke-linejoin:round;stroke:rgb(0%,0%,0%);stroke-opacity:1;stroke-miterlimit:10;\" d=\"M 306.898438 181.429688 C 306.898438 185.03125 301.5 185.03125 301.5 181.429688 C 301.5 177.832031 306.898438 177.832031 306.898438 181.429688 \"/>\n",
       "<path style=\"fill:none;stroke-width:0.75;stroke-linecap:round;stroke-linejoin:round;stroke:rgb(0%,0%,0%);stroke-opacity:1;stroke-miterlimit:10;\" d=\"M 220.5 262.90625 C 220.5 266.503906 215.101563 266.503906 215.101563 262.90625 C 215.101563 259.304688 220.5 259.304688 220.5 262.90625 \"/>\n",
       "<path style=\"fill:none;stroke-width:0.75;stroke-linecap:round;stroke-linejoin:round;stroke:rgb(0%,0%,0%);stroke-opacity:1;stroke-miterlimit:10;\" d=\"M 200.699219 299.117188 C 200.699219 302.714844 195.300781 302.714844 195.300781 299.117188 C 195.300781 295.515625 200.699219 295.515625 200.699219 299.117188 \"/>\n",
       "<path style=\"fill:none;stroke-width:0.75;stroke-linecap:round;stroke-linejoin:round;stroke:rgb(0%,0%,0%);stroke-opacity:1;stroke-miterlimit:10;\" d=\"M 279.898438 217.640625 C 279.898438 221.242188 274.5 221.242188 274.5 217.640625 C 274.5 214.042969 279.898438 214.042969 279.898438 217.640625 \"/>\n",
       "<path style=\"fill:none;stroke-width:0.75;stroke-linecap:round;stroke-linejoin:round;stroke:rgb(0%,0%,0%);stroke-opacity:1;stroke-miterlimit:10;\" d=\"M 240.898438 285.535156 C 240.898438 289.136719 235.5 289.136719 235.5 285.535156 C 235.5 281.9375 240.898438 281.9375 240.898438 285.535156 \"/>\n",
       "<path style=\"fill:none;stroke-width:0.75;stroke-linecap:round;stroke-linejoin:round;stroke:rgb(0%,0%,0%);stroke-opacity:1;stroke-miterlimit:10;\" d=\"M 308.101563 195.011719 C 308.101563 198.609375 302.699219 198.609375 302.699219 195.011719 C 302.699219 191.410156 308.101563 191.410156 308.101563 195.011719 \"/>\n",
       "<path style=\"fill:none;stroke-width:0.75;stroke-linecap:round;stroke-linejoin:round;stroke:rgb(0%,0%,0%);stroke-opacity:1;stroke-miterlimit:10;\" d=\"M 339.300781 199.535156 C 339.300781 203.136719 333.898438 203.136719 333.898438 199.535156 C 333.898438 195.9375 339.300781 195.9375 339.300781 199.535156 \"/>\n",
       "<path style=\"fill:none;stroke-width:0.75;stroke-linecap:round;stroke-linejoin:round;stroke:rgb(0%,0%,0%);stroke-opacity:1;stroke-miterlimit:10;\" d=\"M 363.898438 154.273438 C 363.898438 157.875 358.5 157.875 358.5 154.273438 C 358.5 150.671875 363.898438 150.671875 363.898438 154.273438 \"/>\n",
       "<path style=\"fill:none;stroke-width:0.75;stroke-linecap:round;stroke-linejoin:round;stroke:rgb(0%,0%,0%);stroke-opacity:1;stroke-miterlimit:10;\" d=\"M 245.101563 244.800781 C 245.101563 248.398438 239.699219 248.398438 239.699219 244.800781 C 239.699219 241.199219 245.101563 241.199219 245.101563 244.800781 \"/>\n",
       "<path style=\"fill:none;stroke-width:0.75;stroke-linecap:round;stroke-linejoin:round;stroke:rgb(0%,0%,0%);stroke-opacity:1;stroke-miterlimit:10;\" d=\"M 241.5 281.011719 C 241.5 284.609375 236.101563 284.609375 236.101563 281.011719 C 236.101563 277.410156 241.5 277.410156 241.5 281.011719 \"/>\n",
       "<path style=\"fill:none;stroke-width:0.75;stroke-linecap:round;stroke-linejoin:round;stroke:rgb(0%,0%,0%);stroke-opacity:1;stroke-miterlimit:10;\" d=\"M 264.898438 276.484375 C 264.898438 280.085938 259.5 280.085938 259.5 276.484375 C 259.5 272.882813 264.898438 272.882813 264.898438 276.484375 \"/>\n",
       "<path style=\"fill:none;stroke-width:0.75;stroke-linecap:round;stroke-linejoin:round;stroke:rgb(0%,0%,0%);stroke-opacity:1;stroke-miterlimit:10;\" d=\"M 365.699219 149.746094 C 365.699219 153.347656 360.300781 153.347656 360.300781 149.746094 C 360.300781 146.148438 365.699219 146.148438 365.699219 149.746094 \"/>\n",
       "<path style=\"fill:none;stroke-width:0.75;stroke-linecap:round;stroke-linejoin:round;stroke:rgb(0%,0%,0%);stroke-opacity:1;stroke-miterlimit:10;\" d=\"M 223.5 262.90625 C 223.5 266.503906 218.101563 266.503906 218.101563 262.90625 C 218.101563 259.304688 223.5 259.304688 223.5 262.90625 \"/>\n",
       "<path style=\"fill:none;stroke-width:0.75;stroke-linecap:round;stroke-linejoin:round;stroke:rgb(0%,0%,0%);stroke-opacity:1;stroke-miterlimit:10;\" d=\"M 227.101563 281.011719 C 227.101563 284.609375 221.699219 284.609375 221.699219 281.011719 C 221.699219 277.410156 227.101563 277.410156 227.101563 281.011719 \"/>\n",
       "<path style=\"fill:none;stroke-width:0.75;stroke-linecap:round;stroke-linejoin:round;stroke:rgb(0%,0%,0%);stroke-opacity:1;stroke-miterlimit:10;\" d=\"M 341.699219 181.429688 C 341.699219 185.03125 336.300781 185.03125 336.300781 181.429688 C 336.300781 177.832031 341.699219 177.832031 341.699219 181.429688 \"/>\n",
       "<path style=\"fill:none;stroke-width:0.75;stroke-linecap:round;stroke-linejoin:round;stroke:rgb(0%,0%,0%);stroke-opacity:1;stroke-miterlimit:10;\" d=\"M 273.898438 213.117188 C 273.898438 216.714844 268.5 216.714844 268.5 213.117188 C 268.5 209.515625 273.898438 209.515625 273.898438 213.117188 \"/>\n",
       "<path style=\"fill:none;stroke-width:0.75;stroke-linecap:round;stroke-linejoin:round;stroke:rgb(0%,0%,0%);stroke-opacity:1;stroke-miterlimit:10;\" d=\"M 233.101563 240.273438 C 233.101563 243.875 227.699219 243.875 227.699219 240.273438 C 227.699219 236.671875 233.101563 236.671875 233.101563 240.273438 \"/>\n",
       "<path style=\"fill:none;stroke-width:0.75;stroke-linecap:round;stroke-linejoin:round;stroke:rgb(0%,0%,0%);stroke-opacity:1;stroke-miterlimit:10;\" d=\"M 302.699219 185.957031 C 302.699219 189.558594 297.300781 189.558594 297.300781 185.957031 C 297.300781 182.359375 302.699219 182.359375 302.699219 185.957031 \"/>\n",
       "<path style=\"fill:none;stroke-width:0.75;stroke-linecap:round;stroke-linejoin:round;stroke:rgb(0%,0%,0%);stroke-opacity:1;stroke-miterlimit:10;\" d=\"M 309.300781 204.0625 C 309.300781 207.664063 303.898438 207.664063 303.898438 204.0625 C 303.898438 200.464844 309.300781 200.464844 309.300781 204.0625 \"/>\n",
       "<path style=\"fill:none;stroke-width:0.75;stroke-linecap:round;stroke-linejoin:round;stroke:rgb(0%,0%,0%);stroke-opacity:1;stroke-miterlimit:10;\" d=\"M 207.898438 281.011719 C 207.898438 284.609375 202.5 284.609375 202.5 281.011719 C 202.5 277.410156 207.898438 277.410156 207.898438 281.011719 \"/>\n",
       "<path style=\"fill:none;stroke-width:0.75;stroke-linecap:round;stroke-linejoin:round;stroke:rgb(0%,0%,0%);stroke-opacity:1;stroke-miterlimit:10;\" d=\"M 294.300781 226.695313 C 294.300781 230.292969 288.898438 230.292969 288.898438 226.695313 C 288.898438 223.09375 294.300781 223.09375 294.300781 226.695313 \"/>\n",
       "<path style=\"fill:none;stroke-width:0.75;stroke-linecap:round;stroke-linejoin:round;stroke:rgb(0%,0%,0%);stroke-opacity:1;stroke-miterlimit:10;\" d=\"M 212.699219 290.0625 C 212.699219 293.664063 207.300781 293.664063 207.300781 290.0625 C 207.300781 286.464844 212.699219 286.464844 212.699219 290.0625 \"/>\n",
       "<path style=\"fill:none;stroke-width:0.75;stroke-linecap:round;stroke-linejoin:round;stroke:rgb(0%,0%,0%);stroke-opacity:1;stroke-miterlimit:10;\" d=\"M 315.898438 185.957031 C 315.898438 189.558594 310.5 189.558594 310.5 185.957031 C 310.5 182.359375 315.898438 182.359375 315.898438 185.957031 \"/>\n",
       "<path style=\"fill:none;stroke-width:0.75;stroke-linecap:round;stroke-linejoin:round;stroke:rgb(0%,0%,0%);stroke-opacity:1;stroke-miterlimit:10;\" d=\"M 231.300781 262.90625 C 231.300781 266.503906 225.898438 266.503906 225.898438 262.90625 C 225.898438 259.304688 231.300781 259.304688 231.300781 262.90625 \"/>\n",
       "<path style=\"fill:none;stroke-width:0.75;stroke-linecap:round;stroke-linejoin:round;stroke:rgb(0%,0%,0%);stroke-opacity:1;stroke-miterlimit:10;\" d=\"M 312.300781 190.484375 C 312.300781 194.085938 306.898438 194.085938 306.898438 190.484375 C 306.898438 186.882813 312.300781 186.882813 312.300781 190.484375 \"/>\n",
       "<path style=\"fill:none;stroke-width:0.75;stroke-linecap:round;stroke-linejoin:round;stroke:rgb(0%,0%,0%);stroke-opacity:1;stroke-miterlimit:10;\" d=\"M 282.300781 217.640625 C 282.300781 221.242188 276.898438 221.242188 276.898438 217.640625 C 276.898438 214.042969 282.300781 214.042969 282.300781 217.640625 \"/>\n",
       "<path style=\"fill:none;stroke-width:0.75;stroke-linecap:round;stroke-linejoin:round;stroke:rgb(0%,0%,0%);stroke-opacity:1;stroke-miterlimit:10;\" d=\"M 275.699219 231.222656 C 275.699219 234.820313 270.300781 234.820313 270.300781 231.222656 C 270.300781 227.621094 275.699219 227.621094 275.699219 231.222656 \"/>\n",
       "<path style=\"fill:none;stroke-width:0.75;stroke-linecap:round;stroke-linejoin:round;stroke:rgb(0%,0%,0%);stroke-opacity:1;stroke-miterlimit:10;\" d=\"M 166.5 326.273438 C 166.5 329.875 161.101563 329.875 161.101563 326.273438 C 161.101563 322.671875 166.5 322.671875 166.5 326.273438 \"/>\n",
       "<path style=\"fill:none;stroke-width:0.75;stroke-linecap:round;stroke-linejoin:round;stroke:rgb(0%,0%,0%);stroke-opacity:1;stroke-miterlimit:10;\" d=\"M 269.699219 240.273438 C 269.699219 243.875 264.300781 243.875 264.300781 240.273438 C 264.300781 236.671875 269.699219 236.671875 269.699219 240.273438 \"/>\n",
       "<path style=\"fill:none;stroke-width:0.75;stroke-linecap:round;stroke-linejoin:round;stroke:rgb(0%,0%,0%);stroke-opacity:1;stroke-miterlimit:10;\" d=\"M 257.101563 240.273438 C 257.101563 243.875 251.699219 243.875 251.699219 240.273438 C 251.699219 236.671875 257.101563 236.671875 257.101563 240.273438 \"/>\n",
       "<path style=\"fill:none;stroke-width:0.75;stroke-linecap:round;stroke-linejoin:round;stroke:rgb(0%,0%,0%);stroke-opacity:1;stroke-miterlimit:10;\" d=\"M 293.699219 249.328125 C 293.699219 252.925781 288.300781 252.925781 288.300781 249.328125 C 288.300781 245.726563 293.699219 245.726563 293.699219 249.328125 \"/>\n",
       "<path style=\"fill:none;stroke-width:0.75;stroke-linecap:round;stroke-linejoin:round;stroke:rgb(0%,0%,0%);stroke-opacity:1;stroke-miterlimit:10;\" d=\"M 317.101563 195.011719 C 317.101563 198.609375 311.699219 198.609375 311.699219 195.011719 C 311.699219 191.410156 317.101563 191.410156 317.101563 195.011719 \"/>\n",
       "<path style=\"fill:none;stroke-width:0.75;stroke-linecap:round;stroke-linejoin:round;stroke:rgb(0%,0%,0%);stroke-opacity:1;stroke-miterlimit:10;\" d=\"M 297.898438 195.011719 C 297.898438 198.609375 292.5 198.609375 292.5 195.011719 C 292.5 191.410156 297.898438 191.410156 297.898438 195.011719 \"/>\n",
       "<path style=\"fill:none;stroke-width:0.75;stroke-linecap:round;stroke-linejoin:round;stroke:rgb(0%,0%,0%);stroke-opacity:1;stroke-miterlimit:10;\" d=\"M 327.898438 172.378906 C 327.898438 175.980469 322.5 175.980469 322.5 172.378906 C 322.5 168.777344 327.898438 168.777344 327.898438 172.378906 \"/>\n",
       "<path style=\"fill:none;stroke-width:0.75;stroke-linecap:round;stroke-linejoin:round;stroke:rgb(0%,0%,0%);stroke-opacity:1;stroke-miterlimit:10;\" d=\"M 299.699219 195.011719 C 299.699219 198.609375 294.300781 198.609375 294.300781 195.011719 C 294.300781 191.410156 299.699219 191.410156 299.699219 195.011719 \"/>\n",
       "<path style=\"fill:none;stroke-width:0.75;stroke-linecap:round;stroke-linejoin:round;stroke:rgb(0%,0%,0%);stroke-opacity:1;stroke-miterlimit:10;\" d=\"M 362.101563 176.90625 C 362.101563 180.503906 356.699219 180.503906 356.699219 176.90625 C 356.699219 173.304688 362.101563 173.304688 362.101563 176.90625 \"/>\n",
       "<path style=\"fill:none;stroke-width:0.75;stroke-linecap:round;stroke-linejoin:round;stroke:rgb(0%,0%,0%);stroke-opacity:1;stroke-miterlimit:10;\" d=\"M 255.898438 267.429688 C 255.898438 271.03125 250.5 271.03125 250.5 267.429688 C 250.5 263.832031 255.898438 263.832031 255.898438 267.429688 \"/>\n",
       "<path style=\"fill:none;stroke-width:0.75;stroke-linecap:round;stroke-linejoin:round;stroke:rgb(0%,0%,0%);stroke-opacity:1;stroke-miterlimit:10;\" d=\"M 321.300781 204.0625 C 321.300781 207.664063 315.898438 207.664063 315.898438 204.0625 C 315.898438 200.464844 321.300781 200.464844 321.300781 204.0625 \"/>\n",
       "<path style=\"fill:none;stroke-width:0.75;stroke-linecap:round;stroke-linejoin:round;stroke:rgb(0%,0%,0%);stroke-opacity:1;stroke-miterlimit:10;\" d=\"M 206.101563 321.746094 C 206.101563 325.347656 200.699219 325.347656 200.699219 321.746094 C 200.699219 318.148438 206.101563 318.148438 206.101563 321.746094 \"/>\n",
       "<path style=\"fill:none;stroke-width:0.75;stroke-linecap:round;stroke-linejoin:round;stroke:rgb(0%,0%,0%);stroke-opacity:1;stroke-miterlimit:10;\" d=\"M 236.699219 244.800781 C 236.699219 248.398438 231.300781 248.398438 231.300781 244.800781 C 231.300781 241.199219 236.699219 241.199219 236.699219 244.800781 \"/>\n",
       "<path style=\"fill:none;stroke-width:0.75;stroke-linecap:round;stroke-linejoin:round;stroke:rgb(0%,0%,0%);stroke-opacity:1;stroke-miterlimit:10;\" d=\"M 302.101563 222.167969 C 302.101563 225.769531 296.699219 225.769531 296.699219 222.167969 C 296.699219 218.570313 302.101563 218.570313 302.101563 222.167969 \"/>\n",
       "<path style=\"fill:none;stroke-width:0.75;stroke-linecap:round;stroke-linejoin:round;stroke:rgb(0%,0%,0%);stroke-opacity:1;stroke-miterlimit:10;\" d=\"M 245.101563 249.328125 C 245.101563 252.925781 239.699219 252.925781 239.699219 249.328125 C 239.699219 245.726563 245.101563 245.726563 245.101563 249.328125 \"/>\n",
       "<path style=\"fill:none;stroke-width:0.75;stroke-linecap:round;stroke-linejoin:round;stroke:rgb(0%,0%,0%);stroke-opacity:1;stroke-miterlimit:10;\" d=\"M 315.898438 190.484375 C 315.898438 194.085938 310.5 194.085938 310.5 190.484375 C 310.5 186.882813 315.898438 186.882813 315.898438 190.484375 \"/>\n",
       "<path style=\"fill:none;stroke-width:0.75;stroke-linecap:round;stroke-linejoin:round;stroke:rgb(0%,0%,0%);stroke-opacity:1;stroke-miterlimit:10;\" d=\"M 323.101563 199.535156 C 323.101563 203.136719 317.699219 203.136719 317.699219 199.535156 C 317.699219 195.9375 323.101563 195.9375 323.101563 199.535156 \"/>\n",
       "<path style=\"fill:none;stroke-width:0.75;stroke-linecap:round;stroke-linejoin:round;stroke:rgb(0%,0%,0%);stroke-opacity:1;stroke-miterlimit:10;\" d=\"M 380.101563 167.851563 C 380.101563 171.453125 374.699219 171.453125 374.699219 167.851563 C 374.699219 164.253906 380.101563 164.253906 380.101563 167.851563 \"/>\n",
       "<path style=\"fill:none;stroke-width:0.75;stroke-linecap:round;stroke-linejoin:round;stroke:rgb(0%,0%,0%);stroke-opacity:1;stroke-miterlimit:10;\" d=\"M 178.5 326.273438 C 178.5 329.875 173.101563 329.875 173.101563 326.273438 C 173.101563 322.671875 178.5 322.671875 178.5 326.273438 \"/>\n",
       "<path style=\"fill:none;stroke-width:0.75;stroke-linecap:round;stroke-linejoin:round;stroke:rgb(0%,0%,0%);stroke-opacity:1;stroke-miterlimit:10;\" d=\"M 324.300781 208.589844 C 324.300781 212.191406 318.898438 212.191406 318.898438 208.589844 C 318.898438 204.988281 324.300781 204.988281 324.300781 208.589844 \"/>\n",
       "<path style=\"fill:none;stroke-width:0.75;stroke-linecap:round;stroke-linejoin:round;stroke:rgb(0%,0%,0%);stroke-opacity:1;stroke-miterlimit:10;\" d=\"M 207.300781 303.640625 C 207.300781 307.242188 201.898438 307.242188 201.898438 303.640625 C 201.898438 300.042969 207.300781 300.042969 207.300781 303.640625 \"/>\n",
       "<path style=\"fill:none;stroke-width:0.75;stroke-linecap:round;stroke-linejoin:round;stroke:rgb(0%,0%,0%);stroke-opacity:1;stroke-miterlimit:10;\" d=\"M 271.5 240.273438 C 271.5 243.875 266.101563 243.875 266.101563 240.273438 C 266.101563 236.671875 271.5 236.671875 271.5 240.273438 \"/>\n",
       "<path style=\"fill:none;stroke-width:0.75;stroke-linecap:round;stroke-linejoin:round;stroke:rgb(0%,0%,0%);stroke-opacity:1;stroke-miterlimit:10;\" d=\"M 198.898438 290.0625 C 198.898438 293.664063 193.5 293.664063 193.5 290.0625 C 193.5 286.464844 198.898438 286.464844 198.898438 290.0625 \"/>\n",
       "<path style=\"fill:none;stroke-width:0.75;stroke-linecap:round;stroke-linejoin:round;stroke:rgb(0%,0%,0%);stroke-opacity:1;stroke-miterlimit:10;\" d=\"M 281.699219 195.011719 C 281.699219 198.609375 276.300781 198.609375 276.300781 195.011719 C 276.300781 191.410156 281.699219 191.410156 281.699219 195.011719 \"/>\n",
       "<path style=\"fill:none;stroke-width:0.75;stroke-linecap:round;stroke-linejoin:round;stroke:rgb(0%,0%,0%);stroke-opacity:1;stroke-miterlimit:10;\" d=\"M 292.5 217.640625 C 292.5 221.242188 287.101563 221.242188 287.101563 217.640625 C 287.101563 214.042969 292.5 214.042969 292.5 217.640625 \"/>\n",
       "<path style=\"fill:none;stroke-width:0.75;stroke-linecap:round;stroke-linejoin:round;stroke:rgb(0%,0%,0%);stroke-opacity:1;stroke-miterlimit:10;\" d=\"M 285.898438 231.222656 C 285.898438 234.820313 280.5 234.820313 280.5 231.222656 C 280.5 227.621094 285.898438 227.621094 285.898438 231.222656 \"/>\n",
       "<path style=\"fill:none;stroke-width:0.75;stroke-linecap:round;stroke-linejoin:round;stroke:rgb(0%,0%,0%);stroke-opacity:1;stroke-miterlimit:10;\" d=\"M 239.101563 253.851563 C 239.101563 257.453125 233.699219 257.453125 233.699219 253.851563 C 233.699219 250.253906 239.101563 250.253906 239.101563 253.851563 \"/>\n",
       "<path style=\"fill:none;stroke-width:0.75;stroke-linecap:round;stroke-linejoin:round;stroke:rgb(0%,0%,0%);stroke-opacity:1;stroke-miterlimit:10;\" d=\"M 267.300781 204.0625 C 267.300781 207.664063 261.898438 207.664063 261.898438 204.0625 C 261.898438 200.464844 267.300781 200.464844 267.300781 204.0625 \"/>\n",
       "<path style=\"fill:none;stroke-width:0.75;stroke-linecap:round;stroke-linejoin:round;stroke:rgb(0%,0%,0%);stroke-opacity:1;stroke-miterlimit:10;\" d=\"M 321.300781 181.429688 C 321.300781 185.03125 315.898438 185.03125 315.898438 181.429688 C 315.898438 177.832031 321.300781 177.832031 321.300781 181.429688 \"/>\n",
       "<path style=\"fill:none;stroke-width:0.75;stroke-linecap:round;stroke-linejoin:round;stroke:rgb(0%,0%,0%);stroke-opacity:1;stroke-miterlimit:10;\" d=\"M 180.300781 308.167969 C 180.300781 311.769531 174.898438 311.769531 174.898438 308.167969 C 174.898438 304.570313 180.300781 304.570313 180.300781 308.167969 \"/>\n",
       "<path style=\"fill:none;stroke-width:0.75;stroke-linecap:round;stroke-linejoin:round;stroke:rgb(0%,0%,0%);stroke-opacity:1;stroke-miterlimit:10;\" d=\"M 245.699219 244.800781 C 245.699219 248.398438 240.300781 248.398438 240.300781 244.800781 C 240.300781 241.199219 245.699219 241.199219 245.699219 244.800781 \"/>\n",
       "<path style=\"fill:none;stroke-width:0.75;stroke-linecap:round;stroke-linejoin:round;stroke:rgb(0%,0%,0%);stroke-opacity:1;stroke-miterlimit:10;\" d=\"M 257.699219 231.222656 C 257.699219 234.820313 252.300781 234.820313 252.300781 231.222656 C 252.300781 227.621094 257.699219 227.621094 257.699219 231.222656 \"/>\n",
       "<path style=\"fill:none;stroke-width:0.75;stroke-linecap:round;stroke-linejoin:round;stroke:rgb(0%,0%,0%);stroke-opacity:1;stroke-miterlimit:10;\" d=\"M 374.699219 145.222656 C 374.699219 148.820313 369.300781 148.820313 369.300781 145.222656 C 369.300781 141.621094 374.699219 141.621094 374.699219 145.222656 \"/>\n",
       "<path style=\"fill:none;stroke-width:0.75;stroke-linecap:round;stroke-linejoin:round;stroke:rgb(0%,0%,0%);stroke-opacity:1;stroke-miterlimit:10;\" d=\"M 269.699219 222.167969 C 269.699219 225.769531 264.300781 225.769531 264.300781 222.167969 C 264.300781 218.570313 269.699219 218.570313 269.699219 222.167969 \"/>\n",
       "<path style=\"fill:none;stroke-width:0.75;stroke-linecap:round;stroke-linejoin:round;stroke:rgb(0%,0%,0%);stroke-opacity:1;stroke-miterlimit:10;\" d=\"M 216.300781 303.640625 C 216.300781 307.242188 210.898438 307.242188 210.898438 303.640625 C 210.898438 300.042969 216.300781 300.042969 216.300781 303.640625 \"/>\n",
       "<path style=\"fill:none;stroke-width:0.75;stroke-linecap:round;stroke-linejoin:round;stroke:rgb(0%,0%,0%);stroke-opacity:1;stroke-miterlimit:10;\" d=\"M 207.300781 308.167969 C 207.300781 311.769531 201.898438 311.769531 201.898438 308.167969 C 201.898438 304.570313 207.300781 304.570313 207.300781 308.167969 \"/>\n",
       "<path style=\"fill:none;stroke-width:0.75;stroke-linecap:round;stroke-linejoin:round;stroke:rgb(0%,0%,0%);stroke-opacity:1;stroke-miterlimit:10;\" d=\"M 194.699219 281.011719 C 194.699219 284.609375 189.300781 284.609375 189.300781 281.011719 C 189.300781 277.410156 194.699219 277.410156 194.699219 281.011719 \"/>\n",
       "<path style=\"fill:none;stroke-width:0.75;stroke-linecap:round;stroke-linejoin:round;stroke:rgb(0%,0%,0%);stroke-opacity:1;stroke-miterlimit:10;\" d=\"M 297.898438 195.011719 C 297.898438 198.609375 292.5 198.609375 292.5 195.011719 C 292.5 191.410156 297.898438 191.410156 297.898438 195.011719 \"/>\n",
       "<path style=\"fill:none;stroke-width:0.75;stroke-linecap:round;stroke-linejoin:round;stroke:rgb(0%,0%,0%);stroke-opacity:1;stroke-miterlimit:10;\" d=\"M 234.300781 240.273438 C 234.300781 243.875 228.898438 243.875 228.898438 240.273438 C 228.898438 236.671875 234.300781 236.671875 234.300781 240.273438 \"/>\n",
       "<path style=\"fill:none;stroke-width:0.75;stroke-linecap:round;stroke-linejoin:round;stroke:rgb(0%,0%,0%);stroke-opacity:1;stroke-miterlimit:10;\" d=\"M 319.5 217.640625 C 319.5 221.242188 314.101563 221.242188 314.101563 217.640625 C 314.101563 214.042969 319.5 214.042969 319.5 217.640625 \"/>\n",
       "<path style=\"fill:none;stroke-width:0.75;stroke-linecap:round;stroke-linejoin:round;stroke:rgb(0%,0%,0%);stroke-opacity:1;stroke-miterlimit:10;\" d=\"M 304.5 176.90625 C 304.5 180.503906 299.101563 180.503906 299.101563 176.90625 C 299.101563 173.304688 304.5 173.304688 304.5 176.90625 \"/>\n",
       "<path style=\"fill:none;stroke-width:0.75;stroke-linecap:round;stroke-linejoin:round;stroke:rgb(0%,0%,0%);stroke-opacity:1;stroke-miterlimit:10;\" d=\"M 344.699219 158.800781 C 344.699219 162.398438 339.300781 162.398438 339.300781 158.800781 C 339.300781 155.199219 344.699219 155.199219 344.699219 158.800781 \"/>\n",
       "<path style=\"fill:none;stroke-width:0.75;stroke-linecap:round;stroke-linejoin:round;stroke:rgb(0%,0%,0%);stroke-opacity:1;stroke-miterlimit:10;\" d=\"M 318.898438 181.429688 C 318.898438 185.03125 313.5 185.03125 313.5 181.429688 C 313.5 177.832031 318.898438 177.832031 318.898438 181.429688 \"/>\n",
       "<path style=\"fill:none;stroke-width:0.75;stroke-linecap:round;stroke-linejoin:round;stroke:rgb(0%,0%,0%);stroke-opacity:1;stroke-miterlimit:10;\" d=\"M 353.101563 208.589844 C 353.101563 212.191406 347.699219 212.191406 347.699219 208.589844 C 347.699219 204.988281 353.101563 204.988281 353.101563 208.589844 \"/>\n",
       "<path style=\"fill:none;stroke-width:0.75;stroke-linecap:round;stroke-linejoin:round;stroke:rgb(0%,0%,0%);stroke-opacity:1;stroke-miterlimit:10;\" d=\"M 243.300781 249.328125 C 243.300781 252.925781 237.898438 252.925781 237.898438 249.328125 C 237.898438 245.726563 243.300781 245.726563 243.300781 249.328125 \"/>\n",
       "<path style=\"fill:none;stroke-width:0.75;stroke-linecap:round;stroke-linejoin:round;stroke:rgb(0%,0%,0%);stroke-opacity:1;stroke-miterlimit:10;\" d=\"M 314.699219 190.484375 C 314.699219 194.085938 309.300781 194.085938 309.300781 190.484375 C 309.300781 186.882813 314.699219 186.882813 314.699219 190.484375 \"/>\n",
       "<path style=\"fill:none;stroke-width:0.75;stroke-linecap:round;stroke-linejoin:round;stroke:rgb(0%,0%,0%);stroke-opacity:1;stroke-miterlimit:10;\" d=\"M 221.101563 294.589844 C 221.101563 298.191406 215.699219 298.191406 215.699219 294.589844 C 215.699219 290.988281 221.101563 290.988281 221.101563 294.589844 \"/>\n",
       "<path style=\"fill:none;stroke-width:0.75;stroke-linecap:round;stroke-linejoin:round;stroke:rgb(0%,0%,0%);stroke-opacity:1;stroke-miterlimit:10;\" d=\"M 370.5 131.640625 C 370.5 135.242188 365.101563 135.242188 365.101563 131.640625 C 365.101563 128.042969 370.5 128.042969 370.5 131.640625 \"/>\n",
       "<path style=\"fill:none;stroke-width:0.75;stroke-linecap:round;stroke-linejoin:round;stroke:rgb(0%,0%,0%);stroke-opacity:1;stroke-miterlimit:10;\" d=\"M 302.101563 222.167969 C 302.101563 225.769531 296.699219 225.769531 296.699219 222.167969 C 296.699219 218.570313 302.101563 218.570313 302.101563 222.167969 \"/>\n",
       "<path style=\"fill:none;stroke-width:0.75;stroke-linecap:round;stroke-linejoin:round;stroke:rgb(0%,0%,0%);stroke-opacity:1;stroke-miterlimit:10;\" d=\"M 329.101563 185.957031 C 329.101563 189.558594 323.699219 189.558594 323.699219 185.957031 C 323.699219 182.359375 329.101563 182.359375 329.101563 185.957031 \"/>\n",
       "<path style=\"fill:none;stroke-width:0.75;stroke-linecap:round;stroke-linejoin:round;stroke:rgb(0%,0%,0%);stroke-opacity:1;stroke-miterlimit:10;\" d=\"M 287.699219 222.167969 C 287.699219 225.769531 282.300781 225.769531 282.300781 222.167969 C 282.300781 218.570313 287.699219 218.570313 287.699219 222.167969 \"/>\n",
       "<path style=\"fill:none;stroke-width:0.75;stroke-linecap:round;stroke-linejoin:round;stroke:rgb(0%,0%,0%);stroke-opacity:1;stroke-miterlimit:10;\" d=\"M 237.898438 267.429688 C 237.898438 271.03125 232.5 271.03125 232.5 267.429688 C 232.5 263.832031 237.898438 263.832031 237.898438 267.429688 \"/>\n",
       "<path style=\"fill:none;stroke-width:0.75;stroke-linecap:round;stroke-linejoin:round;stroke:rgb(0%,0%,0%);stroke-opacity:1;stroke-miterlimit:10;\" d=\"M 165.898438 330.800781 C 165.898438 334.398438 160.5 334.398438 160.5 330.800781 C 160.5 327.199219 165.898438 327.199219 165.898438 330.800781 \"/>\n",
       "<path style=\"fill:none;stroke-width:0.75;stroke-linecap:round;stroke-linejoin:round;stroke:rgb(0%,0%,0%);stroke-opacity:1;stroke-miterlimit:10;\" d=\"M 239.101563 258.378906 C 239.101563 261.980469 233.699219 261.980469 233.699219 258.378906 C 233.699219 254.777344 239.101563 254.777344 239.101563 258.378906 \"/>\n",
       "<path style=\"fill:none;stroke-width:0.75;stroke-linecap:round;stroke-linejoin:round;stroke:rgb(0%,0%,0%);stroke-opacity:1;stroke-miterlimit:10;\" d=\"M 292.5 262.90625 C 292.5 266.503906 287.101563 266.503906 287.101563 262.90625 C 287.101563 259.304688 292.5 259.304688 292.5 262.90625 \"/>\n",
       "<path style=\"fill:none;stroke-width:0.75;stroke-linecap:round;stroke-linejoin:round;stroke:rgb(0%,0%,0%);stroke-opacity:1;stroke-miterlimit:10;\" d=\"M 278.101563 253.851563 C 278.101563 257.453125 272.699219 257.453125 272.699219 253.851563 C 272.699219 250.253906 278.101563 250.253906 278.101563 253.851563 \"/>\n",
       "<path style=\"fill:none;stroke-width:0.75;stroke-linecap:round;stroke-linejoin:round;stroke:rgb(0%,0%,0%);stroke-opacity:1;stroke-miterlimit:10;\" d=\"M 192.898438 294.589844 C 192.898438 298.191406 187.5 298.191406 187.5 294.589844 C 187.5 290.988281 192.898438 290.988281 192.898438 294.589844 \"/>\n",
       "<path style=\"fill:none;stroke-width:0.75;stroke-linecap:round;stroke-linejoin:round;stroke:rgb(0%,0%,0%);stroke-opacity:1;stroke-miterlimit:10;\" d=\"M 219.300781 299.117188 C 219.300781 302.714844 213.898438 302.714844 213.898438 299.117188 C 213.898438 295.515625 219.300781 295.515625 219.300781 299.117188 \"/>\n",
       "<path style=\"fill:none;stroke-width:0.75;stroke-linecap:round;stroke-linejoin:round;stroke:rgb(0%,0%,0%);stroke-opacity:1;stroke-miterlimit:10;\" d=\"M 380.699219 136.167969 C 380.699219 139.769531 375.300781 139.769531 375.300781 136.167969 C 375.300781 132.570313 380.699219 132.570313 380.699219 136.167969 \"/>\n",
       "<path style=\"fill:none;stroke-width:0.75;stroke-linecap:round;stroke-linejoin:round;stroke:rgb(0%,0%,0%);stroke-opacity:1;stroke-miterlimit:10;\" d=\"M 353.699219 185.957031 C 353.699219 189.558594 348.300781 189.558594 348.300781 185.957031 C 348.300781 182.359375 353.699219 182.359375 353.699219 185.957031 \"/>\n",
       "<path style=\"fill:none;stroke-width:0.75;stroke-linecap:round;stroke-linejoin:round;stroke:rgb(0%,0%,0%);stroke-opacity:1;stroke-miterlimit:10;\" d=\"M 334.5 199.535156 C 334.5 203.136719 329.101563 203.136719 329.101563 199.535156 C 329.101563 195.9375 334.5 195.9375 334.5 199.535156 \"/>\n",
       "<path style=\"fill:none;stroke-width:0.75;stroke-linecap:round;stroke-linejoin:round;stroke:rgb(0%,0%,0%);stroke-opacity:1;stroke-miterlimit:10;\" d=\"M 275.101563 235.746094 C 275.101563 239.347656 269.699219 239.347656 269.699219 235.746094 C 269.699219 232.148438 275.101563 232.148438 275.101563 235.746094 \"/>\n",
       "<path style=\"fill:none;stroke-width:0.75;stroke-linecap:round;stroke-linejoin:round;stroke:rgb(0%,0%,0%);stroke-opacity:1;stroke-miterlimit:10;\" d=\"M 264.898438 267.429688 C 264.898438 271.03125 259.5 271.03125 259.5 267.429688 C 259.5 263.832031 264.898438 263.832031 264.898438 267.429688 \"/>\n",
       "<path style=\"fill:none;stroke-width:0.75;stroke-linecap:round;stroke-linejoin:round;stroke:rgb(0%,0%,0%);stroke-opacity:1;stroke-miterlimit:10;\" d=\"M 327.898438 190.484375 C 327.898438 194.085938 322.5 194.085938 322.5 190.484375 C 322.5 186.882813 327.898438 186.882813 327.898438 190.484375 \"/>\n",
       "<path style=\"fill:none;stroke-width:0.75;stroke-linecap:round;stroke-linejoin:round;stroke:rgb(0%,0%,0%);stroke-opacity:1;stroke-miterlimit:10;\" d=\"M 248.699219 231.222656 C 248.699219 234.820313 243.300781 234.820313 243.300781 231.222656 C 243.300781 227.621094 248.699219 227.621094 248.699219 231.222656 \"/>\n",
       "<path style=\"fill:none;stroke-width:0.75;stroke-linecap:round;stroke-linejoin:round;stroke:rgb(0%,0%,0%);stroke-opacity:1;stroke-miterlimit:10;\" d=\"M 294.898438 217.640625 C 294.898438 221.242188 289.5 221.242188 289.5 217.640625 C 289.5 214.042969 294.898438 214.042969 294.898438 217.640625 \"/>\n",
       "<path style=\"fill:none;stroke-width:0.75;stroke-linecap:round;stroke-linejoin:round;stroke:rgb(0%,0%,0%);stroke-opacity:1;stroke-miterlimit:10;\" d=\"M 276.300781 195.011719 C 276.300781 198.609375 270.898438 198.609375 270.898438 195.011719 C 270.898438 191.410156 276.300781 191.410156 276.300781 195.011719 \"/>\n",
       "<path style=\"fill:none;stroke-width:0.75;stroke-linecap:round;stroke-linejoin:round;stroke:rgb(0%,0%,0%);stroke-opacity:1;stroke-miterlimit:10;\" d=\"M 296.699219 213.117188 C 296.699219 216.714844 291.300781 216.714844 291.300781 213.117188 C 291.300781 209.515625 296.699219 209.515625 296.699219 213.117188 \"/>\n",
       "<path style=\"fill:none;stroke-width:0.75;stroke-linecap:round;stroke-linejoin:round;stroke:rgb(0%,0%,0%);stroke-opacity:1;stroke-miterlimit:10;\" d=\"M 288.898438 240.273438 C 288.898438 243.875 283.5 243.875 283.5 240.273438 C 283.5 236.671875 288.898438 236.671875 288.898438 240.273438 \"/>\n",
       "<path style=\"fill:none;stroke-width:0.75;stroke-linecap:round;stroke-linejoin:round;stroke:rgb(0%,0%,0%);stroke-opacity:1;stroke-miterlimit:10;\" d=\"M 326.699219 167.851563 C 326.699219 171.453125 321.300781 171.453125 321.300781 167.851563 C 321.300781 164.253906 326.699219 164.253906 326.699219 167.851563 \"/>\n",
       "<path style=\"fill:none;stroke-width:0.75;stroke-linecap:round;stroke-linejoin:round;stroke:rgb(0%,0%,0%);stroke-opacity:1;stroke-miterlimit:10;\" d=\"M 299.101563 226.695313 C 299.101563 230.292969 293.699219 230.292969 293.699219 226.695313 C 293.699219 223.09375 299.101563 223.09375 299.101563 226.695313 \"/>\n",
       "<path style=\"fill:none;stroke-width:0.75;stroke-linecap:round;stroke-linejoin:round;stroke:rgb(0%,0%,0%);stroke-opacity:1;stroke-miterlimit:10;\" d=\"M 347.699219 167.851563 C 347.699219 171.453125 342.300781 171.453125 342.300781 167.851563 C 342.300781 164.253906 347.699219 164.253906 347.699219 167.851563 \"/>\n",
       "<path style=\"fill:none;stroke-width:0.75;stroke-linecap:round;stroke-linejoin:round;stroke:rgb(0%,0%,0%);stroke-opacity:1;stroke-miterlimit:10;\" d=\"M 207.898438 312.695313 C 207.898438 316.292969 202.5 316.292969 202.5 312.695313 C 202.5 309.09375 207.898438 309.09375 207.898438 312.695313 \"/>\n",
       "<path style=\"fill:none;stroke-width:0.75;stroke-linecap:round;stroke-linejoin:round;stroke:rgb(0%,0%,0%);stroke-opacity:1;stroke-miterlimit:10;\" d=\"M 312.898438 195.011719 C 312.898438 198.609375 307.5 198.609375 307.5 195.011719 C 307.5 191.410156 312.898438 191.410156 312.898438 195.011719 \"/>\n",
       "<path style=\"fill:none;stroke-width:0.75;stroke-linecap:round;stroke-linejoin:round;stroke:rgb(0%,0%,0%);stroke-opacity:1;stroke-miterlimit:10;\" d=\"M 103.5 353.429688 C 103.5 357.03125 98.101563 357.03125 98.101563 353.429688 C 98.101563 349.832031 103.5 349.832031 103.5 353.429688 \"/>\n",
       "<path style=\"fill:none;stroke-width:0.75;stroke-linecap:round;stroke-linejoin:round;stroke:rgb(0%,0%,0%);stroke-opacity:1;stroke-miterlimit:10;\" d=\"M 254.699219 217.640625 C 254.699219 221.242188 249.300781 221.242188 249.300781 217.640625 C 249.300781 214.042969 254.699219 214.042969 254.699219 217.640625 \"/>\n",
       "<path style=\"fill:none;stroke-width:0.75;stroke-linecap:round;stroke-linejoin:round;stroke:rgb(0%,0%,0%);stroke-opacity:1;stroke-miterlimit:10;\" d=\"M 354.898438 154.273438 C 354.898438 157.875 349.5 157.875 349.5 154.273438 C 349.5 150.671875 354.898438 150.671875 354.898438 154.273438 \"/>\n",
       "<path style=\"fill:none;stroke-width:0.75;stroke-linecap:round;stroke-linejoin:round;stroke:rgb(0%,0%,0%);stroke-opacity:1;stroke-miterlimit:10;\" d=\"M 228.898438 290.0625 C 228.898438 293.664063 223.5 293.664063 223.5 290.0625 C 223.5 286.464844 228.898438 286.464844 228.898438 290.0625 \"/>\n",
       "<path style=\"fill:none;stroke-width:0.75;stroke-linecap:round;stroke-linejoin:round;stroke:rgb(0%,0%,0%);stroke-opacity:1;stroke-miterlimit:10;\" d=\"M 210.300781 294.589844 C 210.300781 298.191406 204.898438 298.191406 204.898438 294.589844 C 204.898438 290.988281 210.300781 290.988281 210.300781 294.589844 \"/>\n",
       "<path style=\"fill:none;stroke-width:0.75;stroke-linecap:round;stroke-linejoin:round;stroke:rgb(0%,0%,0%);stroke-opacity:1;stroke-miterlimit:10;\" d=\"M 228.300781 276.484375 C 228.300781 280.085938 222.898438 280.085938 222.898438 276.484375 C 222.898438 272.882813 228.300781 272.882813 228.300781 276.484375 \"/>\n",
       "<path style=\"fill:none;stroke-width:0.75;stroke-linecap:round;stroke-linejoin:round;stroke:rgb(0%,0%,0%);stroke-opacity:1;stroke-miterlimit:10;\" d=\"M 298.5 208.589844 C 298.5 212.191406 293.101563 212.191406 293.101563 208.589844 C 293.101563 204.988281 298.5 204.988281 298.5 208.589844 \"/>\n",
       "<path style=\"fill:none;stroke-width:0.75;stroke-linecap:round;stroke-linejoin:round;stroke:rgb(0%,0%,0%);stroke-opacity:1;stroke-miterlimit:10;\" d=\"M 306.898438 222.167969 C 306.898438 225.769531 301.5 225.769531 301.5 222.167969 C 301.5 218.570313 306.898438 218.570313 306.898438 222.167969 \"/>\n",
       "<path style=\"fill:none;stroke-width:0.75;stroke-linecap:round;stroke-linejoin:round;stroke:rgb(0%,0%,0%);stroke-opacity:1;stroke-miterlimit:10;\" d=\"M 126.300781 357.957031 C 126.300781 361.558594 120.898438 361.558594 120.898438 357.957031 C 120.898438 354.359375 126.300781 354.359375 126.300781 357.957031 \"/>\n",
       "<path style=\"fill:none;stroke-width:0.75;stroke-linecap:round;stroke-linejoin:round;stroke:rgb(0%,0%,0%);stroke-opacity:1;stroke-miterlimit:10;\" d=\"M 185.699219 285.535156 C 185.699219 289.136719 180.300781 289.136719 180.300781 285.535156 C 180.300781 281.9375 185.699219 281.9375 185.699219 285.535156 \"/>\n",
       "<path style=\"fill:none;stroke-width:0.75;stroke-linecap:round;stroke-linejoin:round;stroke:rgb(0%,0%,0%);stroke-opacity:1;stroke-miterlimit:10;\" d=\"M 291.300781 190.484375 C 291.300781 194.085938 285.898438 194.085938 285.898438 190.484375 C 285.898438 186.882813 291.300781 186.882813 291.300781 190.484375 \"/>\n",
       "<path style=\"fill:none;stroke-width:0.75;stroke-linecap:round;stroke-linejoin:round;stroke:rgb(0%,0%,0%);stroke-opacity:1;stroke-miterlimit:10;\" d=\"M 359.101563 149.746094 C 359.101563 153.347656 353.699219 153.347656 353.699219 149.746094 C 353.699219 146.148438 359.101563 146.148438 359.101563 149.746094 \"/>\n",
       "<path style=\"fill:none;stroke-width:0.75;stroke-linecap:round;stroke-linejoin:round;stroke:rgb(0%,0%,0%);stroke-opacity:1;stroke-miterlimit:10;\" d=\"M 290.699219 204.0625 C 290.699219 207.664063 285.300781 207.664063 285.300781 204.0625 C 285.300781 200.464844 290.699219 200.464844 290.699219 204.0625 \"/>\n",
       "<path style=\"fill:none;stroke-width:0.75;stroke-linecap:round;stroke-linejoin:round;stroke:rgb(0%,0%,0%);stroke-opacity:1;stroke-miterlimit:10;\" d=\"M 239.699219 240.273438 C 239.699219 243.875 234.300781 243.875 234.300781 240.273438 C 234.300781 236.671875 239.699219 236.671875 239.699219 240.273438 \"/>\n",
       "<path style=\"fill:none;stroke-width:0.75;stroke-linecap:round;stroke-linejoin:round;stroke:rgb(0%,0%,0%);stroke-opacity:1;stroke-miterlimit:10;\" d=\"M 217.5 276.484375 C 217.5 280.085938 212.101563 280.085938 212.101563 276.484375 C 212.101563 272.882813 217.5 272.882813 217.5 276.484375 \"/>\n",
       "<path style=\"fill:none;stroke-width:0.75;stroke-linecap:round;stroke-linejoin:round;stroke:rgb(0%,0%,0%);stroke-opacity:1;stroke-miterlimit:10;\" d=\"M 288.898438 181.429688 C 288.898438 185.03125 283.5 185.03125 283.5 181.429688 C 283.5 177.832031 288.898438 177.832031 288.898438 181.429688 \"/>\n",
       "<path style=\"fill:none;stroke-width:0.75;stroke-linecap:round;stroke-linejoin:round;stroke:rgb(0%,0%,0%);stroke-opacity:1;stroke-miterlimit:10;\" d=\"M 242.699219 285.535156 C 242.699219 289.136719 237.300781 289.136719 237.300781 285.535156 C 237.300781 281.9375 242.699219 281.9375 242.699219 285.535156 \"/>\n",
       "<path style=\"fill:none;stroke-width:0.75;stroke-linecap:round;stroke-linejoin:round;stroke:rgb(0%,0%,0%);stroke-opacity:1;stroke-miterlimit:10;\" d=\"M 312.300781 208.589844 C 312.300781 212.191406 306.898438 212.191406 306.898438 208.589844 C 306.898438 204.988281 312.300781 204.988281 312.300781 208.589844 \"/>\n",
       "<path style=\"fill:none;stroke-width:0.75;stroke-linecap:round;stroke-linejoin:round;stroke:rgb(0%,0%,0%);stroke-opacity:1;stroke-miterlimit:10;\" d=\"M 258.300781 262.90625 C 258.300781 266.503906 252.898438 266.503906 252.898438 262.90625 C 252.898438 259.304688 258.300781 259.304688 258.300781 262.90625 \"/>\n",
       "<path style=\"fill:none;stroke-width:0.75;stroke-linecap:round;stroke-linejoin:round;stroke:rgb(0%,0%,0%);stroke-opacity:1;stroke-miterlimit:10;\" d=\"M 341.101563 181.429688 C 341.101563 185.03125 335.699219 185.03125 335.699219 181.429688 C 335.699219 177.832031 341.101563 177.832031 341.101563 181.429688 \"/>\n",
       "<path style=\"fill:none;stroke-width:0.75;stroke-linecap:round;stroke-linejoin:round;stroke:rgb(0%,0%,0%);stroke-opacity:1;stroke-miterlimit:10;\" d=\"M 368.101563 167.851563 C 368.101563 171.453125 362.699219 171.453125 362.699219 167.851563 C 362.699219 164.253906 368.101563 164.253906 368.101563 167.851563 \"/>\n",
       "<path style=\"fill:none;stroke-width:0.75;stroke-linecap:round;stroke-linejoin:round;stroke:rgb(0%,0%,0%);stroke-opacity:1;stroke-miterlimit:10;\" d=\"M 368.101563 176.90625 C 368.101563 180.503906 362.699219 180.503906 362.699219 176.90625 C 362.699219 173.304688 368.101563 173.304688 368.101563 176.90625 \"/>\n",
       "<path style=\"fill:none;stroke-width:0.75;stroke-linecap:round;stroke-linejoin:round;stroke:rgb(0%,0%,0%);stroke-opacity:1;stroke-miterlimit:10;\" d=\"M 268.5 267.429688 C 268.5 271.03125 263.101563 271.03125 263.101563 267.429688 C 263.101563 263.832031 268.5 263.832031 268.5 267.429688 \"/>\n",
       "<path style=\"fill:none;stroke-width:0.75;stroke-linecap:round;stroke-linejoin:round;stroke:rgb(0%,0%,0%);stroke-opacity:1;stroke-miterlimit:10;\" d=\"M 288.898438 253.851563 C 288.898438 257.453125 283.5 257.453125 283.5 253.851563 C 283.5 250.253906 288.898438 250.253906 288.898438 253.851563 \"/>\n",
       "<path style=\"fill:none;stroke-width:0.75;stroke-linecap:round;stroke-linejoin:round;stroke:rgb(0%,0%,0%);stroke-opacity:1;stroke-miterlimit:10;\" d=\"M 225.898438 299.117188 C 225.898438 302.714844 220.5 302.714844 220.5 299.117188 C 220.5 295.515625 225.898438 295.515625 225.898438 299.117188 \"/>\n",
       "<path style=\"fill:none;stroke-width:0.75;stroke-linecap:round;stroke-linejoin:round;stroke:rgb(0%,0%,0%);stroke-opacity:1;stroke-miterlimit:10;\" d=\"M 367.5 145.222656 C 367.5 148.820313 362.101563 148.820313 362.101563 145.222656 C 362.101563 141.621094 367.5 141.621094 367.5 145.222656 \"/>\n",
       "<path style=\"fill:none;stroke-width:0.75;stroke-linecap:round;stroke-linejoin:round;stroke:rgb(0%,0%,0%);stroke-opacity:1;stroke-miterlimit:10;\" d=\"M 180.898438 285.535156 C 180.898438 289.136719 175.5 289.136719 175.5 285.535156 C 175.5 281.9375 180.898438 281.9375 180.898438 285.535156 \"/>\n",
       "<path style=\"fill:none;stroke-width:0.75;stroke-linecap:round;stroke-linejoin:round;stroke:rgb(0%,0%,0%);stroke-opacity:1;stroke-miterlimit:10;\" d=\"M 348.898438 190.484375 C 348.898438 194.085938 343.5 194.085938 343.5 190.484375 C 343.5 186.882813 348.898438 186.882813 348.898438 190.484375 \"/>\n",
       "<path style=\"fill:none;stroke-width:0.75;stroke-linecap:round;stroke-linejoin:round;stroke:rgb(0%,0%,0%);stroke-opacity:1;stroke-miterlimit:10;\" d=\"M 303.898438 199.535156 C 303.898438 203.136719 298.5 203.136719 298.5 199.535156 C 298.5 195.9375 303.898438 195.9375 303.898438 199.535156 \"/>\n",
       "<path style=\"fill:none;stroke-width:0.75;stroke-linecap:round;stroke-linejoin:round;stroke:rgb(0%,0%,0%);stroke-opacity:1;stroke-miterlimit:10;\" d=\"M 271.5 217.640625 C 271.5 221.242188 266.101563 221.242188 266.101563 217.640625 C 266.101563 214.042969 271.5 214.042969 271.5 217.640625 \"/>\n",
       "<path style=\"fill:none;stroke-width:0.75;stroke-linecap:round;stroke-linejoin:round;stroke:rgb(0%,0%,0%);stroke-opacity:1;stroke-miterlimit:10;\" d=\"M 143.699219 344.378906 C 143.699219 347.980469 138.300781 347.980469 138.300781 344.378906 C 138.300781 340.777344 143.699219 340.777344 143.699219 344.378906 \"/>\n",
       "<path style=\"fill:none;stroke-width:0.75;stroke-linecap:round;stroke-linejoin:round;stroke:rgb(0%,0%,0%);stroke-opacity:1;stroke-miterlimit:10;\" d=\"M 287.101563 195.011719 C 287.101563 198.609375 281.699219 198.609375 281.699219 195.011719 C 281.699219 191.410156 287.101563 191.410156 287.101563 195.011719 \"/>\n",
       "<path style=\"fill:none;stroke-width:0.75;stroke-linecap:round;stroke-linejoin:round;stroke:rgb(0%,0%,0%);stroke-opacity:1;stroke-miterlimit:10;\" d=\"M 241.5 285.535156 C 241.5 289.136719 236.101563 289.136719 236.101563 285.535156 C 236.101563 281.9375 241.5 281.9375 241.5 285.535156 \"/>\n",
       "<path style=\"fill:none;stroke-width:0.75;stroke-linecap:round;stroke-linejoin:round;stroke:rgb(0%,0%,0%);stroke-opacity:1;stroke-miterlimit:10;\" d=\"M 311.699219 204.0625 C 311.699219 207.664063 306.300781 207.664063 306.300781 204.0625 C 306.300781 200.464844 311.699219 200.464844 311.699219 204.0625 \"/>\n",
       "<path style=\"fill:none;stroke-width:0.75;stroke-linecap:round;stroke-linejoin:round;stroke:rgb(0%,0%,0%);stroke-opacity:1;stroke-miterlimit:10;\" d=\"M 164.699219 330.800781 C 164.699219 334.398438 159.300781 334.398438 159.300781 330.800781 C 159.300781 327.199219 164.699219 327.199219 164.699219 330.800781 \"/>\n",
       "<path style=\"fill:none;stroke-width:0.75;stroke-linecap:round;stroke-linejoin:round;stroke:rgb(0%,0%,0%);stroke-opacity:1;stroke-miterlimit:10;\" d=\"M 145.5 321.746094 C 145.5 325.347656 140.101563 325.347656 140.101563 321.746094 C 140.101563 318.148438 145.5 318.148438 145.5 321.746094 \"/>\n",
       "<path style=\"fill:none;stroke-width:0.75;stroke-linecap:round;stroke-linejoin:round;stroke:rgb(0%,0%,0%);stroke-opacity:1;stroke-miterlimit:10;\" d=\"M 315.300781 158.800781 C 315.300781 162.398438 309.898438 162.398438 309.898438 158.800781 C 309.898438 155.199219 315.300781 155.199219 315.300781 158.800781 \"/>\n",
       "<path style=\"fill:none;stroke-width:0.75;stroke-linecap:round;stroke-linejoin:round;stroke:rgb(0%,0%,0%);stroke-opacity:1;stroke-miterlimit:10;\" d=\"M 363.898438 158.800781 C 363.898438 162.398438 358.5 162.398438 358.5 158.800781 C 358.5 155.199219 363.898438 155.199219 363.898438 158.800781 \"/>\n",
       "<path style=\"fill:none;stroke-width:0.75;stroke-linecap:round;stroke-linejoin:round;stroke:rgb(0%,0%,0%);stroke-opacity:1;stroke-miterlimit:10;\" d=\"M 263.699219 262.90625 C 263.699219 266.503906 258.300781 266.503906 258.300781 262.90625 C 258.300781 259.304688 263.699219 259.304688 263.699219 262.90625 \"/>\n",
       "<path style=\"fill:none;stroke-width:0.75;stroke-linecap:round;stroke-linejoin:round;stroke:rgb(0%,0%,0%);stroke-opacity:1;stroke-miterlimit:10;\" d=\"M 247.5 231.222656 C 247.5 234.820313 242.101563 234.820313 242.101563 231.222656 C 242.101563 227.621094 247.5 227.621094 247.5 231.222656 \"/>\n",
       "<path style=\"fill:none;stroke-width:0.75;stroke-linecap:round;stroke-linejoin:round;stroke:rgb(0%,0%,0%);stroke-opacity:1;stroke-miterlimit:10;\" d=\"M 319.5 190.484375 C 319.5 194.085938 314.101563 194.085938 314.101563 190.484375 C 314.101563 186.882813 319.5 186.882813 319.5 190.484375 \"/>\n",
       "<path style=\"fill:none;stroke-width:0.75;stroke-linecap:round;stroke-linejoin:round;stroke:rgb(0%,0%,0%);stroke-opacity:1;stroke-miterlimit:10;\" d=\"M 321.898438 199.535156 C 321.898438 203.136719 316.5 203.136719 316.5 199.535156 C 316.5 195.9375 321.898438 195.9375 321.898438 199.535156 \"/>\n",
       "<path style=\"fill:none;stroke-width:0.75;stroke-linecap:round;stroke-linejoin:round;stroke:rgb(0%,0%,0%);stroke-opacity:1;stroke-miterlimit:10;\" d=\"M 237.898438 276.484375 C 237.898438 280.085938 232.5 280.085938 232.5 276.484375 C 232.5 272.882813 237.898438 272.882813 237.898438 276.484375 \"/>\n",
       "<path style=\"fill:none;stroke-width:0.75;stroke-linecap:round;stroke-linejoin:round;stroke:rgb(0%,0%,0%);stroke-opacity:1;stroke-miterlimit:10;\" d=\"M 253.5 262.90625 C 253.5 266.503906 248.101563 266.503906 248.101563 262.90625 C 248.101563 259.304688 253.5 259.304688 253.5 262.90625 \"/>\n",
       "<path style=\"fill:none;stroke-width:0.75;stroke-linecap:round;stroke-linejoin:round;stroke:rgb(0%,0%,0%);stroke-opacity:1;stroke-miterlimit:10;\" d=\"M 293.699219 231.222656 C 293.699219 234.820313 288.300781 234.820313 288.300781 231.222656 C 288.300781 227.621094 293.699219 227.621094 293.699219 231.222656 \"/>\n",
       "<path style=\"fill:none;stroke-width:0.75;stroke-linecap:round;stroke-linejoin:round;stroke:rgb(0%,0%,0%);stroke-opacity:1;stroke-miterlimit:10;\" d=\"M 378.300781 136.167969 C 378.300781 139.769531 372.898438 139.769531 372.898438 136.167969 C 372.898438 132.570313 378.300781 132.570313 378.300781 136.167969 \"/>\n",
       "<path style=\"fill:none;stroke-width:0.75;stroke-linecap:round;stroke-linejoin:round;stroke:rgb(0%,0%,0%);stroke-opacity:1;stroke-miterlimit:10;\" d=\"M 387.898438 154.273438 C 387.898438 157.875 382.5 157.875 382.5 154.273438 C 382.5 150.671875 387.898438 150.671875 387.898438 154.273438 \"/>\n",
       "<path style=\"fill:none;stroke-width:0.75;stroke-linecap:round;stroke-linejoin:round;stroke:rgb(0%,0%,0%);stroke-opacity:1;stroke-miterlimit:10;\" d=\"M 200.101563 294.589844 C 200.101563 298.191406 194.699219 298.191406 194.699219 294.589844 C 194.699219 290.988281 200.101563 290.988281 200.101563 294.589844 \"/>\n",
       "<path style=\"fill:none;stroke-width:0.75;stroke-linecap:round;stroke-linejoin:round;stroke:rgb(0%,0%,0%);stroke-opacity:1;stroke-miterlimit:10;\" d=\"M 330.300781 217.640625 C 330.300781 221.242188 324.898438 221.242188 324.898438 217.640625 C 324.898438 214.042969 330.300781 214.042969 330.300781 217.640625 \"/>\n",
       "<path style=\"fill:none;stroke-width:0.75;stroke-linecap:round;stroke-linejoin:round;stroke:rgb(0%,0%,0%);stroke-opacity:1;stroke-miterlimit:10;\" d=\"M 233.101563 258.378906 C 233.101563 261.980469 227.699219 261.980469 227.699219 258.378906 C 227.699219 254.777344 233.101563 254.777344 233.101563 258.378906 \"/>\n",
       "<path style=\"fill:none;stroke-width:0.75;stroke-linecap:round;stroke-linejoin:round;stroke:rgb(0%,0%,0%);stroke-opacity:1;stroke-miterlimit:10;\" d=\"M 230.101563 308.167969 C 230.101563 311.769531 224.699219 311.769531 224.699219 308.167969 C 224.699219 304.570313 230.101563 304.570313 230.101563 308.167969 \"/>\n",
       "<path style=\"fill:none;stroke-width:0.75;stroke-linecap:round;stroke-linejoin:round;stroke:rgb(0%,0%,0%);stroke-opacity:1;stroke-miterlimit:10;\" d=\"M 383.699219 145.222656 C 383.699219 148.820313 378.300781 148.820313 378.300781 145.222656 C 378.300781 141.621094 383.699219 141.621094 383.699219 145.222656 \"/>\n",
       "<path style=\"fill:none;stroke-width:0.75;stroke-linecap:round;stroke-linejoin:round;stroke:rgb(0%,0%,0%);stroke-opacity:1;stroke-miterlimit:10;\" d=\"M 189.300781 312.695313 C 189.300781 316.292969 183.898438 316.292969 183.898438 312.695313 C 183.898438 309.09375 189.300781 309.09375 189.300781 312.695313 \"/>\n",
       "<path style=\"fill:none;stroke-width:0.75;stroke-linecap:round;stroke-linejoin:round;stroke:rgb(0%,0%,0%);stroke-opacity:1;stroke-miterlimit:10;\" d=\"M 383.101563 140.695313 C 383.101563 144.292969 377.699219 144.292969 377.699219 140.695313 C 377.699219 137.09375 383.101563 137.09375 383.101563 140.695313 \"/>\n",
       "<path style=\"fill:none;stroke-width:0.75;stroke-linecap:round;stroke-linejoin:round;stroke:rgb(0%,0%,0%);stroke-opacity:1;stroke-miterlimit:10;\" d=\"M 317.101563 163.328125 C 317.101563 166.925781 311.699219 166.925781 311.699219 163.328125 C 311.699219 159.726563 317.101563 159.726563 317.101563 163.328125 \"/>\n",
       "<path style=\"fill:none;stroke-width:0.75;stroke-linecap:round;stroke-linejoin:round;stroke:rgb(0%,0%,0%);stroke-opacity:1;stroke-miterlimit:10;\" d=\"M 190.5 285.535156 C 190.5 289.136719 185.101563 289.136719 185.101563 285.535156 C 185.101563 281.9375 190.5 281.9375 190.5 285.535156 \"/>\n",
       "<path style=\"fill:none;stroke-width:0.75;stroke-linecap:round;stroke-linejoin:round;stroke:rgb(0%,0%,0%);stroke-opacity:1;stroke-miterlimit:10;\" d=\"M 137.101563 308.167969 C 137.101563 311.769531 131.699219 311.769531 131.699219 308.167969 C 131.699219 304.570313 137.101563 304.570313 137.101563 308.167969 \"/>\n",
       "<path style=\"fill:none;stroke-width:0.75;stroke-linecap:round;stroke-linejoin:round;stroke:rgb(0%,0%,0%);stroke-opacity:1;stroke-miterlimit:10;\" d=\"M 252.898438 258.378906 C 252.898438 261.980469 247.5 261.980469 247.5 258.378906 C 247.5 254.777344 252.898438 254.777344 252.898438 258.378906 \"/>\n",
       "<path style=\"fill:none;stroke-width:0.75;stroke-linecap:round;stroke-linejoin:round;stroke:rgb(0%,0%,0%);stroke-opacity:1;stroke-miterlimit:10;\" d=\"M 305.101563 222.167969 C 305.101563 225.769531 299.699219 225.769531 299.699219 222.167969 C 299.699219 218.570313 305.101563 218.570313 305.101563 222.167969 \"/>\n",
       "<path style=\"fill:none;stroke-width:0.75;stroke-linecap:round;stroke-linejoin:round;stroke:rgb(0%,0%,0%);stroke-opacity:1;stroke-miterlimit:10;\" d=\"M 341.699219 172.378906 C 341.699219 175.980469 336.300781 175.980469 336.300781 172.378906 C 336.300781 168.777344 341.699219 168.777344 341.699219 172.378906 \"/>\n",
       "<path style=\"fill:none;stroke-width:0.75;stroke-linecap:round;stroke-linejoin:round;stroke:rgb(0%,0%,0%);stroke-opacity:1;stroke-miterlimit:10;\" d=\"M 145.5 353.429688 C 145.5 357.03125 140.101563 357.03125 140.101563 353.429688 C 140.101563 349.832031 145.5 349.832031 145.5 353.429688 \"/>\n",
       "<path style=\"fill:none;stroke-width:0.75;stroke-linecap:round;stroke-linejoin:round;stroke:rgb(0%,0%,0%);stroke-opacity:1;stroke-miterlimit:10;\" d=\"M 227.699219 281.011719 C 227.699219 284.609375 222.300781 284.609375 222.300781 281.011719 C 222.300781 277.410156 227.699219 277.410156 227.699219 281.011719 \"/>\n",
       "<path style=\"fill:none;stroke-width:0.75;stroke-linecap:round;stroke-linejoin:round;stroke:rgb(0%,0%,0%);stroke-opacity:1;stroke-miterlimit:10;\" d=\"M 288.300781 199.535156 C 288.300781 203.136719 282.898438 203.136719 282.898438 199.535156 C 282.898438 195.9375 288.300781 195.9375 288.300781 199.535156 \"/>\n",
       "<path style=\"fill:none;stroke-width:0.75;stroke-linecap:round;stroke-linejoin:round;stroke:rgb(0%,0%,0%);stroke-opacity:1;stroke-miterlimit:10;\" d=\"M 309.300781 222.167969 C 309.300781 225.769531 303.898438 225.769531 303.898438 222.167969 C 303.898438 218.570313 309.300781 218.570313 309.300781 222.167969 \"/>\n",
       "<path style=\"fill:none;stroke-width:0.75;stroke-linecap:round;stroke-linejoin:round;stroke:rgb(0%,0%,0%);stroke-opacity:1;stroke-miterlimit:10;\" d=\"M 227.101563 253.851563 C 227.101563 257.453125 221.699219 257.453125 221.699219 253.851563 C 221.699219 250.253906 227.101563 250.253906 227.101563 253.851563 \"/>\n",
       "<path style=\"fill:none;stroke-width:0.75;stroke-linecap:round;stroke-linejoin:round;stroke:rgb(0%,0%,0%);stroke-opacity:1;stroke-miterlimit:10;\" d=\"M 205.5 258.378906 C 205.5 261.980469 200.101563 261.980469 200.101563 258.378906 C 200.101563 254.777344 205.5 254.777344 205.5 258.378906 \"/>\n",
       "<path style=\"fill:none;stroke-width:0.75;stroke-linecap:round;stroke-linejoin:round;stroke:rgb(0%,0%,0%);stroke-opacity:1;stroke-miterlimit:10;\" d=\"M 180.300781 308.167969 C 180.300781 311.769531 174.898438 311.769531 174.898438 308.167969 C 174.898438 304.570313 180.300781 304.570313 180.300781 308.167969 \"/>\n",
       "<path style=\"fill:none;stroke-width:0.75;stroke-linecap:round;stroke-linejoin:round;stroke:rgb(0%,0%,0%);stroke-opacity:1;stroke-miterlimit:10;\" d=\"M 410.101563 136.167969 C 410.101563 139.769531 404.699219 139.769531 404.699219 136.167969 C 404.699219 132.570313 410.101563 132.570313 410.101563 136.167969 \"/>\n",
       "<path style=\"fill:none;stroke-width:0.75;stroke-linecap:round;stroke-linejoin:round;stroke:rgb(0%,0%,0%);stroke-opacity:1;stroke-miterlimit:10;\" d=\"M 275.699219 231.222656 C 275.699219 234.820313 270.300781 234.820313 270.300781 231.222656 C 270.300781 227.621094 275.699219 227.621094 275.699219 231.222656 \"/>\n",
       "<path style=\"fill:none;stroke-width:0.75;stroke-linecap:round;stroke-linejoin:round;stroke:rgb(0%,0%,0%);stroke-opacity:1;stroke-miterlimit:10;\" d=\"M 215.699219 262.90625 C 215.699219 266.503906 210.300781 266.503906 210.300781 262.90625 C 210.300781 259.304688 215.699219 259.304688 215.699219 262.90625 \"/>\n",
       "<path style=\"fill:none;stroke-width:0.75;stroke-linecap:round;stroke-linejoin:round;stroke:rgb(0%,0%,0%);stroke-opacity:1;stroke-miterlimit:10;\" d=\"M 256.5 235.746094 C 256.5 239.347656 251.101563 239.347656 251.101563 235.746094 C 251.101563 232.148438 256.5 232.148438 256.5 235.746094 \"/>\n",
       "<path style=\"fill:none;stroke-width:0.75;stroke-linecap:round;stroke-linejoin:round;stroke:rgb(0%,0%,0%);stroke-opacity:1;stroke-miterlimit:10;\" d=\"M 336.898438 190.484375 C 336.898438 194.085938 331.5 194.085938 331.5 190.484375 C 331.5 186.882813 336.898438 186.882813 336.898438 190.484375 \"/>\n",
       "<path style=\"fill:none;stroke-width:0.75;stroke-linecap:round;stroke-linejoin:round;stroke:rgb(0%,0%,0%);stroke-opacity:1;stroke-miterlimit:10;\" d=\"M 314.699219 181.429688 C 314.699219 185.03125 309.300781 185.03125 309.300781 181.429688 C 309.300781 177.832031 314.699219 177.832031 314.699219 181.429688 \"/>\n",
       "<path style=\"fill:none;stroke-width:0.75;stroke-linecap:round;stroke-linejoin:round;stroke:rgb(0%,0%,0%);stroke-opacity:1;stroke-miterlimit:10;\" d=\"M 224.699219 299.117188 C 224.699219 302.714844 219.300781 302.714844 219.300781 299.117188 C 219.300781 295.515625 224.699219 295.515625 224.699219 299.117188 \"/>\n",
       "<path style=\"fill:none;stroke-width:0.75;stroke-linecap:round;stroke-linejoin:round;stroke:rgb(0%,0%,0%);stroke-opacity:1;stroke-miterlimit:10;\" d=\"M 299.101563 213.117188 C 299.101563 216.714844 293.699219 216.714844 293.699219 213.117188 C 293.699219 209.515625 299.101563 209.515625 299.101563 213.117188 \"/>\n",
       "<path style=\"fill:none;stroke-width:0.75;stroke-linecap:round;stroke-linejoin:round;stroke:rgb(0%,0%,0%);stroke-opacity:1;stroke-miterlimit:10;\" d=\"M 153.898438 348.90625 C 153.898438 352.503906 148.5 352.503906 148.5 348.90625 C 148.5 345.304688 153.898438 345.304688 153.898438 348.90625 \"/>\n",
       "<path style=\"fill:none;stroke-width:0.75;stroke-linecap:round;stroke-linejoin:round;stroke:rgb(0%,0%,0%);stroke-opacity:1;stroke-miterlimit:10;\" d=\"M 321.898438 208.589844 C 321.898438 212.191406 316.5 212.191406 316.5 208.589844 C 316.5 204.988281 321.898438 204.988281 321.898438 208.589844 \"/>\n",
       "<path style=\"fill:none;stroke-width:0.75;stroke-linecap:round;stroke-linejoin:round;stroke:rgb(0%,0%,0%);stroke-opacity:1;stroke-miterlimit:10;\" d=\"M 368.699219 158.800781 C 368.699219 162.398438 363.300781 162.398438 363.300781 158.800781 C 363.300781 155.199219 368.699219 155.199219 368.699219 158.800781 \"/>\n",
       "<path style=\"fill:none;stroke-width:0.75;stroke-linecap:round;stroke-linejoin:round;stroke:rgb(0%,0%,0%);stroke-opacity:1;stroke-miterlimit:10;\" d=\"M 328.5 204.0625 C 328.5 207.664063 323.101563 207.664063 323.101563 204.0625 C 323.101563 200.464844 328.5 200.464844 328.5 204.0625 \"/>\n",
       "<path style=\"fill:none;stroke-width:0.75;stroke-linecap:round;stroke-linejoin:round;stroke:rgb(0%,0%,0%);stroke-opacity:1;stroke-miterlimit:10;\" d=\"M 403.5 140.695313 C 403.5 144.292969 398.101563 144.292969 398.101563 140.695313 C 398.101563 137.09375 403.5 137.09375 403.5 140.695313 \"/>\n",
       "<path style=\"fill:none;stroke-width:0.75;stroke-linecap:round;stroke-linejoin:round;stroke:rgb(0%,0%,0%);stroke-opacity:1;stroke-miterlimit:10;\" d=\"M 322.5 181.429688 C 322.5 185.03125 317.101563 185.03125 317.101563 181.429688 C 317.101563 177.832031 322.5 177.832031 322.5 181.429688 \"/>\n",
       "<path style=\"fill:none;stroke-width:0.75;stroke-linecap:round;stroke-linejoin:round;stroke:rgb(0%,0%,0%);stroke-opacity:1;stroke-miterlimit:10;\" d=\"M 220.5 267.429688 C 220.5 271.03125 215.101563 271.03125 215.101563 267.429688 C 215.101563 263.832031 220.5 263.832031 220.5 267.429688 \"/>\n",
       "<path style=\"fill:none;stroke-width:0.75;stroke-linecap:round;stroke-linejoin:round;stroke:rgb(0%,0%,0%);stroke-opacity:1;stroke-miterlimit:10;\" d=\"M 221.101563 262.90625 C 221.101563 266.503906 215.699219 266.503906 215.699219 262.90625 C 215.699219 259.304688 221.101563 259.304688 221.101563 262.90625 \"/>\n",
       "<path style=\"fill:none;stroke-width:0.75;stroke-linecap:round;stroke-linejoin:round;stroke:rgb(0%,0%,0%);stroke-opacity:1;stroke-miterlimit:10;\" d=\"M 250.5 271.957031 C 250.5 275.558594 245.101563 275.558594 245.101563 271.957031 C 245.101563 268.359375 250.5 268.359375 250.5 271.957031 \"/>\n",
       "<path style=\"fill:none;stroke-width:0.75;stroke-linecap:round;stroke-linejoin:round;stroke:rgb(0%,0%,0%);stroke-opacity:1;stroke-miterlimit:10;\" d=\"M 254.101563 253.851563 C 254.101563 257.453125 248.699219 257.453125 248.699219 253.851563 C 248.699219 250.253906 254.101563 250.253906 254.101563 253.851563 \"/>\n",
       "<path style=\"fill:none;stroke-width:0.75;stroke-linecap:round;stroke-linejoin:round;stroke:rgb(0%,0%,0%);stroke-opacity:1;stroke-miterlimit:10;\" d=\"M 182.101563 294.589844 C 182.101563 298.191406 176.699219 298.191406 176.699219 294.589844 C 176.699219 290.988281 182.101563 290.988281 182.101563 294.589844 \"/>\n",
       "<path style=\"fill:none;stroke-width:0.75;stroke-linecap:round;stroke-linejoin:round;stroke:rgb(0%,0%,0%);stroke-opacity:1;stroke-miterlimit:10;\" d=\"M 353.101563 190.484375 C 353.101563 194.085938 347.699219 194.085938 347.699219 190.484375 C 347.699219 186.882813 353.101563 186.882813 353.101563 190.484375 \"/>\n",
       "<path style=\"fill:none;stroke-width:0.75;stroke-linecap:round;stroke-linejoin:round;stroke:rgb(0%,0%,0%);stroke-opacity:1;stroke-miterlimit:10;\" d=\"M 327.898438 167.851563 C 327.898438 171.453125 322.5 171.453125 322.5 167.851563 C 322.5 164.253906 327.898438 164.253906 327.898438 167.851563 \"/>\n",
       "<path style=\"fill:none;stroke-width:0.75;stroke-linecap:round;stroke-linejoin:round;stroke:rgb(0%,0%,0%);stroke-opacity:1;stroke-miterlimit:10;\" d=\"M 218.699219 271.957031 C 218.699219 275.558594 213.300781 275.558594 213.300781 271.957031 C 213.300781 268.359375 218.699219 268.359375 218.699219 271.957031 \"/>\n",
       "<path style=\"fill:none;stroke-width:0.75;stroke-linecap:round;stroke-linejoin:round;stroke:rgb(0%,0%,0%);stroke-opacity:1;stroke-miterlimit:10;\" d=\"M 206.699219 258.378906 C 206.699219 261.980469 201.300781 261.980469 201.300781 258.378906 C 201.300781 254.777344 206.699219 254.777344 206.699219 258.378906 \"/>\n",
       "<path style=\"fill:none;stroke-width:0.75;stroke-linecap:round;stroke-linejoin:round;stroke:rgb(0%,0%,0%);stroke-opacity:1;stroke-miterlimit:10;\" d=\"M 246.898438 258.378906 C 246.898438 261.980469 241.5 261.980469 241.5 258.378906 C 241.5 254.777344 246.898438 254.777344 246.898438 258.378906 \"/>\n",
       "<path style=\"fill:none;stroke-width:0.75;stroke-linecap:round;stroke-linejoin:round;stroke:rgb(0%,0%,0%);stroke-opacity:1;stroke-miterlimit:10;\" d=\"M 428.101563 109.011719 C 428.101563 112.609375 422.699219 112.609375 422.699219 109.011719 C 422.699219 105.410156 428.101563 105.410156 428.101563 109.011719 \"/>\n",
       "<path style=\"fill:none;stroke-width:0.75;stroke-linecap:round;stroke-linejoin:round;stroke:rgb(0%,0%,0%);stroke-opacity:1;stroke-miterlimit:10;\" d=\"M 266.699219 240.273438 C 266.699219 243.875 261.300781 243.875 261.300781 240.273438 C 261.300781 236.671875 266.699219 236.671875 266.699219 240.273438 \"/>\n",
       "<path style=\"fill:none;stroke-width:0.75;stroke-linecap:round;stroke-linejoin:round;stroke:rgb(0%,0%,0%);stroke-opacity:1;stroke-miterlimit:10;\" d=\"M 146.101563 339.851563 C 146.101563 343.453125 140.699219 343.453125 140.699219 339.851563 C 140.699219 336.253906 146.101563 336.253906 146.101563 339.851563 \"/>\n",
       "<path style=\"fill:none;stroke-width:0.75;stroke-linecap:round;stroke-linejoin:round;stroke:rgb(0%,0%,0%);stroke-opacity:1;stroke-miterlimit:10;\" d=\"M 247.5 308.167969 C 247.5 311.769531 242.101563 311.769531 242.101563 308.167969 C 242.101563 304.570313 247.5 304.570313 247.5 308.167969 \"/>\n",
       "<path style=\"fill:none;stroke-width:0.75;stroke-linecap:round;stroke-linejoin:round;stroke:rgb(0%,0%,0%);stroke-opacity:1;stroke-miterlimit:10;\" d=\"M 312.300781 185.957031 C 312.300781 189.558594 306.898438 189.558594 306.898438 185.957031 C 306.898438 182.359375 312.300781 182.359375 312.300781 185.957031 \"/>\n",
       "<path style=\"fill:none;stroke-width:0.75;stroke-linecap:round;stroke-linejoin:round;stroke:rgb(0%,0%,0%);stroke-opacity:1;stroke-miterlimit:10;\" d=\"M 344.101563 199.535156 C 344.101563 203.136719 338.699219 203.136719 338.699219 199.535156 C 338.699219 195.9375 344.101563 195.9375 344.101563 199.535156 \"/>\n",
       "<path style=\"fill:none;stroke-width:0.75;stroke-linecap:round;stroke-linejoin:round;stroke:rgb(0%,0%,0%);stroke-opacity:1;stroke-miterlimit:10;\" d=\"M 205.5 290.0625 C 205.5 293.664063 200.101563 293.664063 200.101563 290.0625 C 200.101563 286.464844 205.5 286.464844 205.5 290.0625 \"/>\n",
       "<path style=\"fill:none;stroke-width:0.75;stroke-linecap:round;stroke-linejoin:round;stroke:rgb(0%,0%,0%);stroke-opacity:1;stroke-miterlimit:10;\" d=\"M 268.5 253.851563 C 268.5 257.453125 263.101563 257.453125 263.101563 253.851563 C 263.101563 250.253906 268.5 250.253906 268.5 253.851563 \"/>\n",
       "<path style=\"fill:none;stroke-width:0.75;stroke-linecap:round;stroke-linejoin:round;stroke:rgb(0%,0%,0%);stroke-opacity:1;stroke-miterlimit:10;\" d=\"M 222.300781 258.378906 C 222.300781 261.980469 216.898438 261.980469 216.898438 258.378906 C 216.898438 254.777344 222.300781 254.777344 222.300781 258.378906 \"/>\n",
       "<path style=\"fill:none;stroke-width:0.75;stroke-linecap:round;stroke-linejoin:round;stroke:rgb(0%,0%,0%);stroke-opacity:1;stroke-miterlimit:10;\" d=\"M 288.300781 226.695313 C 288.300781 230.292969 282.898438 230.292969 282.898438 226.695313 C 282.898438 223.09375 288.300781 223.09375 288.300781 226.695313 \"/>\n",
       "<path style=\"fill:none;stroke-width:0.75;stroke-linecap:round;stroke-linejoin:round;stroke:rgb(0%,0%,0%);stroke-opacity:1;stroke-miterlimit:10;\" d=\"M 331.5 222.167969 C 331.5 225.769531 326.101563 225.769531 326.101563 222.167969 C 326.101563 218.570313 331.5 218.570313 331.5 222.167969 \"/>\n",
       "<path style=\"fill:none;stroke-width:0.75;stroke-linecap:round;stroke-linejoin:round;stroke:rgb(0%,0%,0%);stroke-opacity:1;stroke-miterlimit:10;\" d=\"M 366.898438 154.273438 C 366.898438 157.875 361.5 157.875 361.5 154.273438 C 361.5 150.671875 366.898438 150.671875 366.898438 154.273438 \"/>\n",
       "<path style=\"fill:none;stroke-width:0.75;stroke-linecap:round;stroke-linejoin:round;stroke:rgb(0%,0%,0%);stroke-opacity:1;stroke-miterlimit:10;\" d=\"M 300.300781 208.589844 C 300.300781 212.191406 294.898438 212.191406 294.898438 208.589844 C 294.898438 204.988281 300.300781 204.988281 300.300781 208.589844 \"/>\n",
       "<path style=\"fill:none;stroke-width:0.75;stroke-linecap:round;stroke-linejoin:round;stroke:rgb(0%,0%,0%);stroke-opacity:1;stroke-miterlimit:10;\" d=\"M 363.898438 181.429688 C 363.898438 185.03125 358.5 185.03125 358.5 181.429688 C 358.5 177.832031 363.898438 177.832031 363.898438 181.429688 \"/>\n",
       "<path style=\"fill:none;stroke-width:0.75;stroke-linecap:round;stroke-linejoin:round;stroke:rgb(0%,0%,0%);stroke-opacity:1;stroke-miterlimit:10;\" d=\"M 197.101563 276.484375 C 197.101563 280.085938 191.699219 280.085938 191.699219 276.484375 C 191.699219 272.882813 197.101563 272.882813 197.101563 276.484375 \"/>\n",
       "<path style=\"fill:none;stroke-width:0.75;stroke-linecap:round;stroke-linejoin:round;stroke:rgb(0%,0%,0%);stroke-opacity:1;stroke-miterlimit:10;\" d=\"M 268.5 235.746094 C 268.5 239.347656 263.101563 239.347656 263.101563 235.746094 C 263.101563 232.148438 268.5 232.148438 268.5 235.746094 \"/>\n",
       "<path style=\"fill:none;stroke-width:0.75;stroke-linecap:round;stroke-linejoin:round;stroke:rgb(0%,0%,0%);stroke-opacity:1;stroke-miterlimit:10;\" d=\"M 259.5 226.695313 C 259.5 230.292969 254.101563 230.292969 254.101563 226.695313 C 254.101563 223.09375 259.5 223.09375 259.5 226.695313 \"/>\n",
       "<path style=\"fill:none;stroke-width:0.75;stroke-linecap:round;stroke-linejoin:round;stroke:rgb(0%,0%,0%);stroke-opacity:1;stroke-miterlimit:10;\" d=\"M 264.300781 240.273438 C 264.300781 243.875 258.898438 243.875 258.898438 240.273438 C 258.898438 236.671875 264.300781 236.671875 264.300781 240.273438 \"/>\n",
       "<path style=\"fill:none;stroke-width:0.75;stroke-linecap:round;stroke-linejoin:round;stroke:rgb(0%,0%,0%);stroke-opacity:1;stroke-miterlimit:10;\" d=\"M 334.5 199.535156 C 334.5 203.136719 329.101563 203.136719 329.101563 199.535156 C 329.101563 195.9375 334.5 195.9375 334.5 199.535156 \"/>\n",
       "<path style=\"fill:none;stroke-width:0.75;stroke-linecap:round;stroke-linejoin:round;stroke:rgb(0%,0%,0%);stroke-opacity:1;stroke-miterlimit:10;\" d=\"M 303.898438 185.957031 C 303.898438 189.558594 298.5 189.558594 298.5 185.957031 C 298.5 182.359375 303.898438 182.359375 303.898438 185.957031 \"/>\n",
       "<path style=\"fill:none;stroke-width:0.75;stroke-linecap:round;stroke-linejoin:round;stroke:rgb(0%,0%,0%);stroke-opacity:1;stroke-miterlimit:10;\" d=\"M 296.699219 217.640625 C 296.699219 221.242188 291.300781 221.242188 291.300781 217.640625 C 291.300781 214.042969 296.699219 214.042969 296.699219 217.640625 \"/>\n",
       "<path style=\"fill:none;stroke-width:0.75;stroke-linecap:round;stroke-linejoin:round;stroke:rgb(0%,0%,0%);stroke-opacity:1;stroke-miterlimit:10;\" d=\"M 252.300781 290.0625 C 252.300781 293.664063 246.898438 293.664063 246.898438 290.0625 C 246.898438 286.464844 252.300781 286.464844 252.300781 290.0625 \"/>\n",
       "<path style=\"fill:none;stroke-width:0.75;stroke-linecap:round;stroke-linejoin:round;stroke:rgb(0%,0%,0%);stroke-opacity:1;stroke-miterlimit:10;\" d=\"M 181.5 299.117188 C 181.5 302.714844 176.101563 302.714844 176.101563 299.117188 C 176.101563 295.515625 181.5 295.515625 181.5 299.117188 \"/>\n",
       "<path style=\"fill:none;stroke-width:0.75;stroke-linecap:round;stroke-linejoin:round;stroke:rgb(0%,0%,0%);stroke-opacity:1;stroke-miterlimit:10;\" d=\"M 253.5 235.746094 C 253.5 239.347656 248.101563 239.347656 248.101563 235.746094 C 248.101563 232.148438 253.5 232.148438 253.5 235.746094 \"/>\n",
       "<path style=\"fill:none;stroke-width:0.75;stroke-linecap:round;stroke-linejoin:round;stroke:rgb(0%,0%,0%);stroke-opacity:1;stroke-miterlimit:10;\" d=\"M 362.699219 154.273438 C 362.699219 157.875 357.300781 157.875 357.300781 154.273438 C 357.300781 150.671875 362.699219 150.671875 362.699219 154.273438 \"/>\n",
       "<path style=\"fill:none;stroke-width:0.75;stroke-linecap:round;stroke-linejoin:round;stroke:rgb(0%,0%,0%);stroke-opacity:1;stroke-miterlimit:10;\" d=\"M 256.5 249.328125 C 256.5 252.925781 251.101563 252.925781 251.101563 249.328125 C 251.101563 245.726563 256.5 245.726563 256.5 249.328125 \"/>\n",
       "<path style=\"fill:none;stroke-width:0.75;stroke-linecap:round;stroke-linejoin:round;stroke:rgb(0%,0%,0%);stroke-opacity:1;stroke-miterlimit:10;\" d=\"M 186.898438 271.957031 C 186.898438 275.558594 181.5 275.558594 181.5 271.957031 C 181.5 268.359375 186.898438 268.359375 186.898438 271.957031 \"/>\n",
       "<path style=\"fill:none;stroke-width:0.75;stroke-linecap:round;stroke-linejoin:round;stroke:rgb(0%,0%,0%);stroke-opacity:1;stroke-miterlimit:10;\" d=\"M 288.300781 231.222656 C 288.300781 234.820313 282.898438 234.820313 282.898438 231.222656 C 282.898438 227.621094 288.300781 227.621094 288.300781 231.222656 \"/>\n",
       "<path style=\"fill:none;stroke-width:0.75;stroke-linecap:round;stroke-linejoin:round;stroke:rgb(0%,0%,0%);stroke-opacity:1;stroke-miterlimit:10;\" d=\"M 278.699219 249.328125 C 278.699219 252.925781 273.300781 252.925781 273.300781 249.328125 C 273.300781 245.726563 278.699219 245.726563 278.699219 249.328125 \"/>\n",
       "<path style=\"fill:none;stroke-width:0.75;stroke-linecap:round;stroke-linejoin:round;stroke:rgb(0%,0%,0%);stroke-opacity:1;stroke-miterlimit:10;\" d=\"M 417.898438 136.167969 C 417.898438 139.769531 412.5 139.769531 412.5 136.167969 C 412.5 132.570313 417.898438 132.570313 417.898438 136.167969 \"/>\n",
       "<path style=\"fill:none;stroke-width:0.75;stroke-linecap:round;stroke-linejoin:round;stroke:rgb(0%,0%,0%);stroke-opacity:1;stroke-miterlimit:10;\" d=\"M 267.898438 253.851563 C 267.898438 257.453125 262.5 257.453125 262.5 253.851563 C 262.5 250.253906 267.898438 250.253906 267.898438 253.851563 \"/>\n",
       "<path style=\"fill:none;stroke-width:0.75;stroke-linecap:round;stroke-linejoin:round;stroke:rgb(0%,0%,0%);stroke-opacity:1;stroke-miterlimit:10;\" d=\"M 278.101563 226.695313 C 278.101563 230.292969 272.699219 230.292969 272.699219 226.695313 C 272.699219 223.09375 278.101563 223.09375 278.101563 226.695313 \"/>\n",
       "<path style=\"fill:none;stroke-width:0.75;stroke-linecap:round;stroke-linejoin:round;stroke:rgb(0%,0%,0%);stroke-opacity:1;stroke-miterlimit:10;\" d=\"M 278.699219 240.273438 C 278.699219 243.875 273.300781 243.875 273.300781 240.273438 C 273.300781 236.671875 278.699219 236.671875 278.699219 240.273438 \"/>\n",
       "<path style=\"fill:none;stroke-width:0.75;stroke-linecap:round;stroke-linejoin:round;stroke:rgb(0%,0%,0%);stroke-opacity:1;stroke-miterlimit:10;\" d=\"M 231.300781 276.484375 C 231.300781 280.085938 225.898438 280.085938 225.898438 276.484375 C 225.898438 272.882813 231.300781 272.882813 231.300781 276.484375 \"/>\n",
       "<path style=\"fill:none;stroke-width:0.75;stroke-linecap:round;stroke-linejoin:round;stroke:rgb(0%,0%,0%);stroke-opacity:1;stroke-miterlimit:10;\" d=\"M 304.5 195.011719 C 304.5 198.609375 299.101563 198.609375 299.101563 195.011719 C 299.101563 191.410156 304.5 191.410156 304.5 195.011719 \"/>\n",
       "<path style=\"fill:none;stroke-width:0.75;stroke-linecap:round;stroke-linejoin:round;stroke:rgb(0%,0%,0%);stroke-opacity:1;stroke-miterlimit:10;\" d=\"M 358.5 190.484375 C 358.5 194.085938 353.101563 194.085938 353.101563 190.484375 C 353.101563 186.882813 358.5 186.882813 358.5 190.484375 \"/>\n",
       "<path style=\"fill:none;stroke-width:0.75;stroke-linecap:round;stroke-linejoin:round;stroke:rgb(0%,0%,0%);stroke-opacity:1;stroke-miterlimit:10;\" d=\"M 260.699219 235.746094 C 260.699219 239.347656 255.300781 239.347656 255.300781 235.746094 C 255.300781 232.148438 260.699219 232.148438 260.699219 235.746094 \"/>\n",
       "<path style=\"fill:none;stroke-width:0.75;stroke-linecap:round;stroke-linejoin:round;stroke:rgb(0%,0%,0%);stroke-opacity:1;stroke-miterlimit:10;\" d=\"M 332.101563 199.535156 C 332.101563 203.136719 326.699219 203.136719 326.699219 199.535156 C 326.699219 195.9375 332.101563 195.9375 332.101563 199.535156 \"/>\n",
       "<path style=\"fill:none;stroke-width:0.75;stroke-linecap:round;stroke-linejoin:round;stroke:rgb(0%,0%,0%);stroke-opacity:1;stroke-miterlimit:10;\" d=\"M 102.300781 326.273438 C 102.300781 329.875 96.898438 329.875 96.898438 326.273438 C 96.898438 322.671875 102.300781 322.671875 102.300781 326.273438 \"/>\n",
       "<path style=\"fill:none;stroke-width:0.75;stroke-linecap:round;stroke-linejoin:round;stroke:rgb(0%,0%,0%);stroke-opacity:1;stroke-miterlimit:10;\" d=\"M 222.300781 271.957031 C 222.300781 275.558594 216.898438 275.558594 216.898438 271.957031 C 216.898438 268.359375 222.300781 268.359375 222.300781 271.957031 \"/>\n",
       "<path style=\"fill:none;stroke-width:0.75;stroke-linecap:round;stroke-linejoin:round;stroke:rgb(0%,0%,0%);stroke-opacity:1;stroke-miterlimit:10;\" d=\"M 296.101563 208.589844 C 296.101563 212.191406 290.699219 212.191406 290.699219 208.589844 C 290.699219 204.988281 296.101563 204.988281 296.101563 208.589844 \"/>\n",
       "<path style=\"fill:none;stroke-width:0.75;stroke-linecap:round;stroke-linejoin:round;stroke:rgb(0%,0%,0%);stroke-opacity:1;stroke-miterlimit:10;\" d=\"M 270.898438 222.167969 C 270.898438 225.769531 265.5 225.769531 265.5 222.167969 C 265.5 218.570313 270.898438 218.570313 270.898438 222.167969 \"/>\n",
       "<path style=\"fill:none;stroke-width:0.75;stroke-linecap:round;stroke-linejoin:round;stroke:rgb(0%,0%,0%);stroke-opacity:1;stroke-miterlimit:10;\" d=\"M 290.699219 253.851563 C 290.699219 257.453125 285.300781 257.453125 285.300781 253.851563 C 285.300781 250.253906 290.699219 250.253906 290.699219 253.851563 \"/>\n",
       "<path style=\"fill:none;stroke-width:0.75;stroke-linecap:round;stroke-linejoin:round;stroke:rgb(0%,0%,0%);stroke-opacity:1;stroke-miterlimit:10;\" d=\"M 391.5 158.800781 C 391.5 162.398438 386.101563 162.398438 386.101563 158.800781 C 386.101563 155.199219 391.5 155.199219 391.5 158.800781 \"/>\n",
       "<path style=\"fill:none;stroke-width:0.75;stroke-linecap:round;stroke-linejoin:round;stroke:rgb(0%,0%,0%);stroke-opacity:1;stroke-miterlimit:10;\" d=\"M 330.300781 195.011719 C 330.300781 198.609375 324.898438 198.609375 324.898438 195.011719 C 324.898438 191.410156 330.300781 191.410156 330.300781 195.011719 \"/>\n",
       "<path style=\"fill:none;stroke-width:0.75;stroke-linecap:round;stroke-linejoin:round;stroke:rgb(0%,0%,0%);stroke-opacity:1;stroke-miterlimit:10;\" d=\"M 258.898438 240.273438 C 258.898438 243.875 253.5 243.875 253.5 240.273438 C 253.5 236.671875 258.898438 236.671875 258.898438 240.273438 \"/>\n",
       "<path style=\"fill:none;stroke-width:0.75;stroke-linecap:round;stroke-linejoin:round;stroke:rgb(0%,0%,0%);stroke-opacity:1;stroke-miterlimit:10;\" d=\"M 251.101563 249.328125 C 251.101563 252.925781 245.699219 252.925781 245.699219 249.328125 C 245.699219 245.726563 251.101563 245.726563 251.101563 249.328125 \"/>\n",
       "<path style=\"fill:none;stroke-width:0.75;stroke-linecap:round;stroke-linejoin:round;stroke:rgb(0%,0%,0%);stroke-opacity:1;stroke-miterlimit:10;\" d=\"M 243.898438 249.328125 C 243.898438 252.925781 238.5 252.925781 238.5 249.328125 C 238.5 245.726563 243.898438 245.726563 243.898438 249.328125 \"/>\n",
       "<path style=\"fill:none;stroke-width:0.75;stroke-linecap:round;stroke-linejoin:round;stroke:rgb(0%,0%,0%);stroke-opacity:1;stroke-miterlimit:10;\" d=\"M 347.699219 149.746094 C 347.699219 153.347656 342.300781 153.347656 342.300781 149.746094 C 342.300781 146.148438 347.699219 146.148438 347.699219 149.746094 \"/>\n",
       "<path style=\"fill:none;stroke-width:0.75;stroke-linecap:round;stroke-linejoin:round;stroke:rgb(0%,0%,0%);stroke-opacity:1;stroke-miterlimit:10;\" d=\"M 188.101563 276.484375 C 188.101563 280.085938 182.699219 280.085938 182.699219 276.484375 C 182.699219 272.882813 188.101563 272.882813 188.101563 276.484375 \"/>\n",
       "<path style=\"fill:none;stroke-width:0.75;stroke-linecap:round;stroke-linejoin:round;stroke:rgb(0%,0%,0%);stroke-opacity:1;stroke-miterlimit:10;\" d=\"M 256.5 213.117188 C 256.5 216.714844 251.101563 216.714844 251.101563 213.117188 C 251.101563 209.515625 256.5 209.515625 256.5 213.117188 \"/>\n",
       "<path style=\"fill:none;stroke-width:0.75;stroke-linecap:round;stroke-linejoin:round;stroke:rgb(0%,0%,0%);stroke-opacity:1;stroke-miterlimit:10;\" d=\"M 281.101563 226.695313 C 281.101563 230.292969 275.699219 230.292969 275.699219 226.695313 C 275.699219 223.09375 281.101563 223.09375 281.101563 226.695313 \"/>\n",
       "<path style=\"fill:none;stroke-width:0.75;stroke-linecap:round;stroke-linejoin:round;stroke:rgb(0%,0%,0%);stroke-opacity:1;stroke-miterlimit:10;\" d=\"M 277.5 199.535156 C 277.5 203.136719 272.101563 203.136719 272.101563 199.535156 C 272.101563 195.9375 277.5 195.9375 277.5 199.535156 \"/>\n",
       "<path style=\"fill:none;stroke-width:0.75;stroke-linecap:round;stroke-linejoin:round;stroke:rgb(0%,0%,0%);stroke-opacity:1;stroke-miterlimit:10;\" d=\"M 341.699219 167.851563 C 341.699219 171.453125 336.300781 171.453125 336.300781 167.851563 C 336.300781 164.253906 341.699219 164.253906 341.699219 167.851563 \"/>\n",
       "<path style=\"fill:none;stroke-width:0.75;stroke-linecap:round;stroke-linejoin:round;stroke:rgb(0%,0%,0%);stroke-opacity:1;stroke-miterlimit:10;\" d=\"M 261.898438 262.90625 C 261.898438 266.503906 256.5 266.503906 256.5 262.90625 C 256.5 259.304688 261.898438 259.304688 261.898438 262.90625 \"/>\n",
       "<path style=\"fill:none;stroke-width:0.75;stroke-linecap:round;stroke-linejoin:round;stroke:rgb(0%,0%,0%);stroke-opacity:1;stroke-miterlimit:10;\" d=\"M 303.300781 231.222656 C 303.300781 234.820313 297.898438 234.820313 297.898438 231.222656 C 297.898438 227.621094 303.300781 227.621094 303.300781 231.222656 \"/>\n",
       "<path style=\"fill:none;stroke-width:0.75;stroke-linecap:round;stroke-linejoin:round;stroke:rgb(0%,0%,0%);stroke-opacity:1;stroke-miterlimit:10;\" d=\"M 255.300781 240.273438 C 255.300781 243.875 249.898438 243.875 249.898438 240.273438 C 249.898438 236.671875 255.300781 236.671875 255.300781 240.273438 \"/>\n",
       "<path style=\"fill:none;stroke-width:0.75;stroke-linecap:round;stroke-linejoin:round;stroke:rgb(0%,0%,0%);stroke-opacity:1;stroke-miterlimit:10;\" d=\"M 287.699219 226.695313 C 287.699219 230.292969 282.300781 230.292969 282.300781 226.695313 C 282.300781 223.09375 287.699219 223.09375 287.699219 226.695313 \"/>\n",
       "<path style=\"fill:none;stroke-width:0.75;stroke-linecap:round;stroke-linejoin:round;stroke:rgb(0%,0%,0%);stroke-opacity:1;stroke-miterlimit:10;\" d=\"M 294.300781 235.746094 C 294.300781 239.347656 288.898438 239.347656 288.898438 235.746094 C 288.898438 232.148438 294.300781 232.148438 294.300781 235.746094 \"/>\n",
       "<path style=\"fill:none;stroke-width:0.75;stroke-linecap:round;stroke-linejoin:round;stroke:rgb(0%,0%,0%);stroke-opacity:1;stroke-miterlimit:10;\" d=\"M 361.5 172.378906 C 361.5 175.980469 356.101563 175.980469 356.101563 172.378906 C 356.101563 168.777344 361.5 168.777344 361.5 172.378906 \"/>\n",
       "<path style=\"fill:none;stroke-width:0.75;stroke-linecap:round;stroke-linejoin:round;stroke:rgb(0%,0%,0%);stroke-opacity:1;stroke-miterlimit:10;\" d=\"M 230.699219 276.484375 C 230.699219 280.085938 225.300781 280.085938 225.300781 276.484375 C 225.300781 272.882813 230.699219 272.882813 230.699219 276.484375 \"/>\n",
       "<path style=\"fill:none;stroke-width:0.75;stroke-linecap:round;stroke-linejoin:round;stroke:rgb(0%,0%,0%);stroke-opacity:1;stroke-miterlimit:10;\" d=\"M 282.300781 235.746094 C 282.300781 239.347656 276.898438 239.347656 276.898438 235.746094 C 276.898438 232.148438 282.300781 232.148438 282.300781 235.746094 \"/>\n",
       "<path style=\"fill:none;stroke-width:0.75;stroke-linecap:round;stroke-linejoin:round;stroke:rgb(0%,0%,0%);stroke-opacity:1;stroke-miterlimit:10;\" d=\"M 142.5 326.273438 C 142.5 329.875 137.101563 329.875 137.101563 326.273438 C 137.101563 322.671875 142.5 322.671875 142.5 326.273438 \"/>\n",
       "<path style=\"fill:none;stroke-width:0.75;stroke-linecap:round;stroke-linejoin:round;stroke:rgb(0%,0%,0%);stroke-opacity:1;stroke-miterlimit:10;\" d=\"M 297.898438 199.535156 C 297.898438 203.136719 292.5 203.136719 292.5 199.535156 C 292.5 195.9375 297.898438 195.9375 297.898438 199.535156 \"/>\n",
       "<path style=\"fill:none;stroke-width:0.75;stroke-linecap:round;stroke-linejoin:round;stroke:rgb(0%,0%,0%);stroke-opacity:1;stroke-miterlimit:10;\" d=\"M 299.699219 231.222656 C 299.699219 234.820313 294.300781 234.820313 294.300781 231.222656 C 294.300781 227.621094 299.699219 227.621094 299.699219 231.222656 \"/>\n",
       "<path style=\"fill:none;stroke-width:0.75;stroke-linecap:round;stroke-linejoin:round;stroke:rgb(0%,0%,0%);stroke-opacity:1;stroke-miterlimit:10;\" d=\"M 140.699219 339.851563 C 140.699219 343.453125 135.300781 343.453125 135.300781 339.851563 C 135.300781 336.253906 140.699219 336.253906 140.699219 339.851563 \"/>\n",
       "<path style=\"fill:none;stroke-width:0.75;stroke-linecap:round;stroke-linejoin:round;stroke:rgb(0%,0%,0%);stroke-opacity:1;stroke-miterlimit:10;\" d=\"M 242.101563 226.695313 C 242.101563 230.292969 236.699219 230.292969 236.699219 226.695313 C 236.699219 223.09375 242.101563 223.09375 242.101563 226.695313 \"/>\n",
       "<path style=\"fill:none;stroke-width:0.75;stroke-linecap:round;stroke-linejoin:round;stroke:rgb(0%,0%,0%);stroke-opacity:1;stroke-miterlimit:10;\" d=\"M 402.898438 140.695313 C 402.898438 144.292969 397.5 144.292969 397.5 140.695313 C 397.5 137.09375 402.898438 137.09375 402.898438 140.695313 \"/>\n",
       "<path style=\"fill:none;stroke-width:0.75;stroke-linecap:round;stroke-linejoin:round;stroke:rgb(0%,0%,0%);stroke-opacity:1;stroke-miterlimit:10;\" d=\"M 290.101563 213.117188 C 290.101563 216.714844 284.699219 216.714844 284.699219 213.117188 C 284.699219 209.515625 290.101563 209.515625 290.101563 213.117188 \"/>\n",
       "<path style=\"fill:none;stroke-width:0.75;stroke-linecap:round;stroke-linejoin:round;stroke:rgb(0%,0%,0%);stroke-opacity:1;stroke-miterlimit:10;\" d=\"M 236.699219 253.851563 C 236.699219 257.453125 231.300781 257.453125 231.300781 253.851563 C 231.300781 250.253906 236.699219 250.253906 236.699219 253.851563 \"/>\n",
       "<path style=\"fill:none;stroke-width:0.75;stroke-linecap:round;stroke-linejoin:round;stroke:rgb(0%,0%,0%);stroke-opacity:1;stroke-miterlimit:10;\" d=\"M 269.101563 222.167969 C 269.101563 225.769531 263.699219 225.769531 263.699219 222.167969 C 263.699219 218.570313 269.101563 218.570313 269.101563 222.167969 \"/>\n",
       "<path style=\"fill:none;stroke-width:0.75;stroke-linecap:round;stroke-linejoin:round;stroke:rgb(0%,0%,0%);stroke-opacity:1;stroke-miterlimit:10;\" d=\"M 287.699219 240.273438 C 287.699219 243.875 282.300781 243.875 282.300781 240.273438 C 282.300781 236.671875 287.699219 236.671875 287.699219 240.273438 \"/>\n",
       "<path style=\"fill:none;stroke-width:0.75;stroke-linecap:round;stroke-linejoin:round;stroke:rgb(0%,0%,0%);stroke-opacity:1;stroke-miterlimit:10;\" d=\"M 278.699219 240.273438 C 278.699219 243.875 273.300781 243.875 273.300781 240.273438 C 273.300781 236.671875 278.699219 236.671875 278.699219 240.273438 \"/>\n",
       "<path style=\"fill:none;stroke-width:0.75;stroke-linecap:round;stroke-linejoin:round;stroke:rgb(0%,0%,0%);stroke-opacity:1;stroke-miterlimit:10;\" d=\"M 153.300781 326.273438 C 153.300781 329.875 147.898438 329.875 147.898438 326.273438 C 147.898438 322.671875 153.300781 322.671875 153.300781 326.273438 \"/>\n",
       "<path style=\"fill:none;stroke-width:0.75;stroke-linecap:round;stroke-linejoin:round;stroke:rgb(0%,0%,0%);stroke-opacity:1;stroke-miterlimit:10;\" d=\"M 309.300781 185.957031 C 309.300781 189.558594 303.898438 189.558594 303.898438 185.957031 C 303.898438 182.359375 309.300781 182.359375 309.300781 185.957031 \"/>\n",
       "<path style=\"fill:none;stroke-width:0.75;stroke-linecap:round;stroke-linejoin:round;stroke:rgb(0%,0%,0%);stroke-opacity:1;stroke-miterlimit:10;\" d=\"M 286.5 240.273438 C 286.5 243.875 281.101563 243.875 281.101563 240.273438 C 281.101563 236.671875 286.5 236.671875 286.5 240.273438 \"/>\n",
       "<path style=\"fill:none;stroke-width:0.75;stroke-linecap:round;stroke-linejoin:round;stroke:rgb(0%,0%,0%);stroke-opacity:1;stroke-miterlimit:10;\" d=\"M 297.898438 213.117188 C 297.898438 216.714844 292.5 216.714844 292.5 213.117188 C 292.5 209.515625 297.898438 209.515625 297.898438 213.117188 \"/>\n",
       "<path style=\"fill:none;stroke-width:0.75;stroke-linecap:round;stroke-linejoin:round;stroke:rgb(0%,0%,0%);stroke-opacity:1;stroke-miterlimit:10;\" d=\"M 321.300781 195.011719 C 321.300781 198.609375 315.898438 198.609375 315.898438 195.011719 C 315.898438 191.410156 321.300781 191.410156 321.300781 195.011719 \"/>\n",
       "<path style=\"fill:none;stroke-width:0.75;stroke-linecap:round;stroke-linejoin:round;stroke:rgb(0%,0%,0%);stroke-opacity:1;stroke-miterlimit:10;\" d=\"M 230.699219 285.535156 C 230.699219 289.136719 225.300781 289.136719 225.300781 285.535156 C 225.300781 281.9375 230.699219 281.9375 230.699219 285.535156 \"/>\n",
       "<path style=\"fill:none;stroke-width:0.75;stroke-linecap:round;stroke-linejoin:round;stroke:rgb(0%,0%,0%);stroke-opacity:1;stroke-miterlimit:10;\" d=\"M 266.101563 262.90625 C 266.101563 266.503906 260.699219 266.503906 260.699219 262.90625 C 260.699219 259.304688 266.101563 259.304688 266.101563 262.90625 \"/>\n",
       "<path style=\"fill:none;stroke-width:0.75;stroke-linecap:round;stroke-linejoin:round;stroke:rgb(0%,0%,0%);stroke-opacity:1;stroke-miterlimit:10;\" d=\"M 211.5 276.484375 C 211.5 280.085938 206.101563 280.085938 206.101563 276.484375 C 206.101563 272.882813 211.5 272.882813 211.5 276.484375 \"/>\n",
       "<path style=\"fill:none;stroke-width:0.75;stroke-linecap:round;stroke-linejoin:round;stroke:rgb(0%,0%,0%);stroke-opacity:1;stroke-miterlimit:10;\" d=\"M 298.5 222.167969 C 298.5 225.769531 293.101563 225.769531 293.101563 222.167969 C 293.101563 218.570313 298.5 218.570313 298.5 222.167969 \"/>\n",
       "<path style=\"fill:none;stroke-width:0.75;stroke-linecap:round;stroke-linejoin:round;stroke:rgb(0%,0%,0%);stroke-opacity:1;stroke-miterlimit:10;\" d=\"M 279.898438 231.222656 C 279.898438 234.820313 274.5 234.820313 274.5 231.222656 C 274.5 227.621094 279.898438 227.621094 279.898438 231.222656 \"/>\n",
       "<path style=\"fill:none;stroke-width:0.75;stroke-linecap:round;stroke-linejoin:round;stroke:rgb(0%,0%,0%);stroke-opacity:1;stroke-miterlimit:10;\" d=\"M 351.898438 140.695313 C 351.898438 144.292969 346.5 144.292969 346.5 140.695313 C 346.5 137.09375 351.898438 137.09375 351.898438 140.695313 \"/>\n",
       "<path style=\"fill:none;stroke-width:0.75;stroke-linecap:round;stroke-linejoin:round;stroke:rgb(0%,0%,0%);stroke-opacity:1;stroke-miterlimit:10;\" d=\"M 197.699219 294.589844 C 197.699219 298.191406 192.300781 298.191406 192.300781 294.589844 C 192.300781 290.988281 197.699219 290.988281 197.699219 294.589844 \"/>\n",
       "<path style=\"fill:none;stroke-width:0.75;stroke-linecap:round;stroke-linejoin:round;stroke:rgb(0%,0%,0%);stroke-opacity:1;stroke-miterlimit:10;\" d=\"M 389.101563 158.800781 C 389.101563 162.398438 383.699219 162.398438 383.699219 158.800781 C 383.699219 155.199219 389.101563 155.199219 389.101563 158.800781 \"/>\n",
       "<path style=\"fill:none;stroke-width:0.75;stroke-linecap:round;stroke-linejoin:round;stroke:rgb(0%,0%,0%);stroke-opacity:1;stroke-miterlimit:10;\" d=\"M 201.300781 321.746094 C 201.300781 325.347656 195.898438 325.347656 195.898438 321.746094 C 195.898438 318.148438 201.300781 318.148438 201.300781 321.746094 \"/>\n",
       "<path style=\"fill:none;stroke-width:0.75;stroke-linecap:round;stroke-linejoin:round;stroke:rgb(0%,0%,0%);stroke-opacity:1;stroke-miterlimit:10;\" d=\"M 312.898438 190.484375 C 312.898438 194.085938 307.5 194.085938 307.5 190.484375 C 307.5 186.882813 312.898438 186.882813 312.898438 190.484375 \"/>\n",
       "<path style=\"fill:none;stroke-width:0.75;stroke-linecap:round;stroke-linejoin:round;stroke:rgb(0%,0%,0%);stroke-opacity:1;stroke-miterlimit:10;\" d=\"M 299.699219 190.484375 C 299.699219 194.085938 294.300781 194.085938 294.300781 190.484375 C 294.300781 186.882813 299.699219 186.882813 299.699219 190.484375 \"/>\n",
       "<path style=\"fill:none;stroke-width:0.75;stroke-linecap:round;stroke-linejoin:round;stroke:rgb(0%,0%,0%);stroke-opacity:1;stroke-miterlimit:10;\" d=\"M 201.898438 312.695313 C 201.898438 316.292969 196.5 316.292969 196.5 312.695313 C 196.5 309.09375 201.898438 309.09375 201.898438 312.695313 \"/>\n",
       "<path style=\"fill:none;stroke-width:0.75;stroke-linecap:round;stroke-linejoin:round;stroke:rgb(0%,0%,0%);stroke-opacity:1;stroke-miterlimit:10;\" d=\"M 254.101563 253.851563 C 254.101563 257.453125 248.699219 257.453125 248.699219 253.851563 C 248.699219 250.253906 254.101563 250.253906 254.101563 253.851563 \"/>\n",
       "<path style=\"fill:none;stroke-width:0.75;stroke-linecap:round;stroke-linejoin:round;stroke:rgb(0%,0%,0%);stroke-opacity:1;stroke-miterlimit:10;\" d=\"M 406.5 109.011719 C 406.5 112.609375 401.101563 112.609375 401.101563 109.011719 C 401.101563 105.410156 406.5 105.410156 406.5 109.011719 \"/>\n",
       "<path style=\"fill:none;stroke-width:0.75;stroke-linecap:round;stroke-linejoin:round;stroke:rgb(0%,0%,0%);stroke-opacity:1;stroke-miterlimit:10;\" d=\"M 314.101563 204.0625 C 314.101563 207.664063 308.699219 207.664063 308.699219 204.0625 C 308.699219 200.464844 314.101563 200.464844 314.101563 204.0625 \"/>\n",
       "<path style=\"fill:none;stroke-width:0.75;stroke-linecap:round;stroke-linejoin:round;stroke:rgb(0%,0%,0%);stroke-opacity:1;stroke-miterlimit:10;\" d=\"M 276.300781 208.589844 C 276.300781 212.191406 270.898438 212.191406 270.898438 208.589844 C 270.898438 204.988281 276.300781 204.988281 276.300781 208.589844 \"/>\n",
       "<path style=\"fill:none;stroke-width:0.75;stroke-linecap:round;stroke-linejoin:round;stroke:rgb(0%,0%,0%);stroke-opacity:1;stroke-miterlimit:10;\" d=\"M 351.898438 217.640625 C 351.898438 221.242188 346.5 221.242188 346.5 217.640625 C 346.5 214.042969 351.898438 214.042969 351.898438 217.640625 \"/>\n",
       "<path style=\"fill:none;stroke-width:0.75;stroke-linecap:round;stroke-linejoin:round;stroke:rgb(0%,0%,0%);stroke-opacity:1;stroke-miterlimit:10;\" d=\"M 162.300781 344.378906 C 162.300781 347.980469 156.898438 347.980469 156.898438 344.378906 C 156.898438 340.777344 162.300781 340.777344 162.300781 344.378906 \"/>\n",
       "<path style=\"fill:none;stroke-width:0.75;stroke-linecap:round;stroke-linejoin:round;stroke:rgb(0%,0%,0%);stroke-opacity:1;stroke-miterlimit:10;\" d=\"M 332.101563 136.167969 C 332.101563 139.769531 326.699219 139.769531 326.699219 136.167969 C 326.699219 132.570313 332.101563 132.570313 332.101563 136.167969 \"/>\n",
       "<path style=\"fill:none;stroke-width:0.75;stroke-linecap:round;stroke-linejoin:round;stroke:rgb(0%,0%,0%);stroke-opacity:1;stroke-miterlimit:10;\" d=\"M 260.101563 253.851563 C 260.101563 257.453125 254.699219 257.453125 254.699219 253.851563 C 254.699219 250.253906 260.101563 250.253906 260.101563 253.851563 \"/>\n",
       "<path style=\"fill:none;stroke-width:0.75;stroke-linecap:round;stroke-linejoin:round;stroke:rgb(0%,0%,0%);stroke-opacity:1;stroke-miterlimit:10;\" d=\"M 236.699219 240.273438 C 236.699219 243.875 231.300781 243.875 231.300781 240.273438 C 231.300781 236.671875 236.699219 236.671875 236.699219 240.273438 \"/>\n",
       "<path style=\"fill:none;stroke-width:0.75;stroke-linecap:round;stroke-linejoin:round;stroke:rgb(0%,0%,0%);stroke-opacity:1;stroke-miterlimit:10;\" d=\"M 264.300781 240.273438 C 264.300781 243.875 258.898438 243.875 258.898438 240.273438 C 258.898438 236.671875 264.300781 236.671875 264.300781 240.273438 \"/>\n",
       "<path style=\"fill:none;stroke-width:0.75;stroke-linecap:round;stroke-linejoin:round;stroke:rgb(0%,0%,0%);stroke-opacity:1;stroke-miterlimit:10;\" d=\"M 219.300781 303.640625 C 219.300781 307.242188 213.898438 307.242188 213.898438 303.640625 C 213.898438 300.042969 219.300781 300.042969 219.300781 303.640625 \"/>\n",
       "<path style=\"fill:none;stroke-width:0.75;stroke-linecap:round;stroke-linejoin:round;stroke:rgb(0%,0%,0%);stroke-opacity:1;stroke-miterlimit:10;\" d=\"M 314.699219 204.0625 C 314.699219 207.664063 309.300781 207.664063 309.300781 204.0625 C 309.300781 200.464844 314.699219 200.464844 314.699219 204.0625 \"/>\n",
       "<path style=\"fill:none;stroke-width:0.75;stroke-linecap:round;stroke-linejoin:round;stroke:rgb(0%,0%,0%);stroke-opacity:1;stroke-miterlimit:10;\" d=\"M 192.898438 303.640625 C 192.898438 307.242188 187.5 307.242188 187.5 303.640625 C 187.5 300.042969 192.898438 300.042969 192.898438 303.640625 \"/>\n",
       "<path style=\"fill:none;stroke-width:0.75;stroke-linecap:round;stroke-linejoin:round;stroke:rgb(0%,0%,0%);stroke-opacity:1;stroke-miterlimit:10;\" d=\"M 359.101563 154.273438 C 359.101563 157.875 353.699219 157.875 353.699219 154.273438 C 353.699219 150.671875 359.101563 150.671875 359.101563 154.273438 \"/>\n",
       "<path style=\"fill:none;stroke-width:0.75;stroke-linecap:round;stroke-linejoin:round;stroke:rgb(0%,0%,0%);stroke-opacity:1;stroke-miterlimit:10;\" d=\"M 203.699219 267.429688 C 203.699219 271.03125 198.300781 271.03125 198.300781 267.429688 C 198.300781 263.832031 203.699219 263.832031 203.699219 267.429688 \"/>\n",
       "<path style=\"fill:none;stroke-width:0.75;stroke-linecap:round;stroke-linejoin:round;stroke:rgb(0%,0%,0%);stroke-opacity:1;stroke-miterlimit:10;\" d=\"M 314.699219 222.167969 C 314.699219 225.769531 309.300781 225.769531 309.300781 222.167969 C 309.300781 218.570313 314.699219 218.570313 314.699219 222.167969 \"/>\n",
       "<path style=\"fill:none;stroke-width:0.75;stroke-linecap:round;stroke-linejoin:round;stroke:rgb(0%,0%,0%);stroke-opacity:1;stroke-miterlimit:10;\" d=\"M 316.5 176.90625 C 316.5 180.503906 311.101563 180.503906 311.101563 176.90625 C 311.101563 173.304688 316.5 173.304688 316.5 176.90625 \"/>\n",
       "<path style=\"fill:none;stroke-width:0.75;stroke-linecap:round;stroke-linejoin:round;stroke:rgb(0%,0%,0%);stroke-opacity:1;stroke-miterlimit:10;\" d=\"M 326.699219 195.011719 C 326.699219 198.609375 321.300781 198.609375 321.300781 195.011719 C 321.300781 191.410156 326.699219 191.410156 326.699219 195.011719 \"/>\n",
       "<path style=\"fill:none;stroke-width:0.75;stroke-linecap:round;stroke-linejoin:round;stroke:rgb(0%,0%,0%);stroke-opacity:1;stroke-miterlimit:10;\" d=\"M 194.101563 267.429688 C 194.101563 271.03125 188.699219 271.03125 188.699219 267.429688 C 188.699219 263.832031 194.101563 263.832031 194.101563 267.429688 \"/>\n",
       "<path style=\"fill:none;stroke-width:0.75;stroke-linecap:round;stroke-linejoin:round;stroke:rgb(0%,0%,0%);stroke-opacity:1;stroke-miterlimit:10;\" d=\"M 314.699219 195.011719 C 314.699219 198.609375 309.300781 198.609375 309.300781 195.011719 C 309.300781 191.410156 314.699219 191.410156 314.699219 195.011719 \"/>\n",
       "<path style=\"fill:none;stroke-width:0.75;stroke-linecap:round;stroke-linejoin:round;stroke:rgb(0%,0%,0%);stroke-opacity:1;stroke-miterlimit:10;\" d=\"M 211.5 312.695313 C 211.5 316.292969 206.101563 316.292969 206.101563 312.695313 C 206.101563 309.09375 211.5 309.09375 211.5 312.695313 \"/>\n",
       "<path style=\"fill:none;stroke-width:0.75;stroke-linecap:round;stroke-linejoin:round;stroke:rgb(0%,0%,0%);stroke-opacity:1;stroke-miterlimit:10;\" d=\"M 278.699219 208.589844 C 278.699219 212.191406 273.300781 212.191406 273.300781 208.589844 C 273.300781 204.988281 278.699219 204.988281 278.699219 208.589844 \"/>\n",
       "<path style=\"fill:none;stroke-width:0.75;stroke-linecap:round;stroke-linejoin:round;stroke:rgb(0%,0%,0%);stroke-opacity:1;stroke-miterlimit:10;\" d=\"M 273.898438 253.851563 C 273.898438 257.453125 268.5 257.453125 268.5 253.851563 C 268.5 250.253906 273.898438 250.253906 273.898438 253.851563 \"/>\n",
       "<path style=\"fill:none;stroke-width:0.75;stroke-linecap:round;stroke-linejoin:round;stroke:rgb(0%,0%,0%);stroke-opacity:1;stroke-miterlimit:10;\" d=\"M 237.898438 281.011719 C 237.898438 284.609375 232.5 284.609375 232.5 281.011719 C 232.5 277.410156 237.898438 277.410156 237.898438 281.011719 \"/>\n",
       "<path style=\"fill:none;stroke-width:0.75;stroke-linecap:round;stroke-linejoin:round;stroke:rgb(0%,0%,0%);stroke-opacity:1;stroke-miterlimit:10;\" d=\"M 311.699219 176.90625 C 311.699219 180.503906 306.300781 180.503906 306.300781 176.90625 C 306.300781 173.304688 311.699219 173.304688 311.699219 176.90625 \"/>\n",
       "<path style=\"fill:none;stroke-width:0.75;stroke-linecap:round;stroke-linejoin:round;stroke:rgb(0%,0%,0%);stroke-opacity:1;stroke-miterlimit:10;\" d=\"M 432.898438 104.484375 C 432.898438 108.085938 427.5 108.085938 427.5 104.484375 C 427.5 100.882813 432.898438 100.882813 432.898438 104.484375 \"/>\n",
       "<path style=\"fill:none;stroke-width:0.75;stroke-linecap:round;stroke-linejoin:round;stroke:rgb(0%,0%,0%);stroke-opacity:1;stroke-miterlimit:10;\" d=\"M 279.898438 204.0625 C 279.898438 207.664063 274.5 207.664063 274.5 204.0625 C 274.5 200.464844 279.898438 200.464844 279.898438 204.0625 \"/>\n",
       "<path style=\"fill:none;stroke-width:0.75;stroke-linecap:round;stroke-linejoin:round;stroke:rgb(0%,0%,0%);stroke-opacity:1;stroke-miterlimit:10;\" d=\"M 201.300781 276.484375 C 201.300781 280.085938 195.898438 280.085938 195.898438 276.484375 C 195.898438 272.882813 201.300781 272.882813 201.300781 276.484375 \"/>\n",
       "<path style=\"fill:none;stroke-width:0.75;stroke-linecap:round;stroke-linejoin:round;stroke:rgb(0%,0%,0%);stroke-opacity:1;stroke-miterlimit:10;\" d=\"M 341.101563 181.429688 C 341.101563 185.03125 335.699219 185.03125 335.699219 181.429688 C 335.699219 177.832031 341.101563 177.832031 341.101563 181.429688 \"/>\n",
       "<path style=\"fill:none;stroke-width:0.75;stroke-linecap:round;stroke-linejoin:round;stroke:rgb(0%,0%,0%);stroke-opacity:1;stroke-miterlimit:10;\" d=\"M 216.898438 290.0625 C 216.898438 293.664063 211.5 293.664063 211.5 290.0625 C 211.5 286.464844 216.898438 286.464844 216.898438 290.0625 \"/>\n",
       "<path style=\"fill:none;stroke-width:0.75;stroke-linecap:round;stroke-linejoin:round;stroke:rgb(0%,0%,0%);stroke-opacity:1;stroke-miterlimit:10;\" d=\"M 293.699219 195.011719 C 293.699219 198.609375 288.300781 198.609375 288.300781 195.011719 C 288.300781 191.410156 293.699219 191.410156 293.699219 195.011719 \"/>\n",
       "<path style=\"fill:none;stroke-width:0.75;stroke-linecap:round;stroke-linejoin:round;stroke:rgb(0%,0%,0%);stroke-opacity:1;stroke-miterlimit:10;\" d=\"M 189.300781 317.222656 C 189.300781 320.820313 183.898438 320.820313 183.898438 317.222656 C 183.898438 313.621094 189.300781 313.621094 189.300781 317.222656 \"/>\n",
       "<path style=\"fill:none;stroke-width:0.75;stroke-linecap:round;stroke-linejoin:round;stroke:rgb(0%,0%,0%);stroke-opacity:1;stroke-miterlimit:10;\" d=\"M 335.699219 190.484375 C 335.699219 194.085938 330.300781 194.085938 330.300781 190.484375 C 330.300781 186.882813 335.699219 186.882813 335.699219 190.484375 \"/>\n",
       "<path style=\"fill:none;stroke-width:0.75;stroke-linecap:round;stroke-linejoin:round;stroke:rgb(0%,0%,0%);stroke-opacity:1;stroke-miterlimit:10;\" d=\"M 280.5 231.222656 C 280.5 234.820313 275.101563 234.820313 275.101563 231.222656 C 275.101563 227.621094 280.5 227.621094 280.5 231.222656 \"/>\n",
       "<path style=\"fill:none;stroke-width:0.75;stroke-linecap:round;stroke-linejoin:round;stroke:rgb(0%,0%,0%);stroke-opacity:1;stroke-miterlimit:10;\" d=\"M 214.5 285.535156 C 214.5 289.136719 209.101563 289.136719 209.101563 285.535156 C 209.101563 281.9375 214.5 281.9375 214.5 285.535156 \"/>\n",
       "<path style=\"fill:none;stroke-width:0.75;stroke-linecap:round;stroke-linejoin:round;stroke:rgb(0%,0%,0%);stroke-opacity:1;stroke-miterlimit:10;\" d=\"M 326.101563 213.117188 C 326.101563 216.714844 320.699219 216.714844 320.699219 213.117188 C 320.699219 209.515625 326.101563 209.515625 326.101563 213.117188 \"/>\n",
       "<path style=\"fill:none;stroke-width:0.75;stroke-linecap:round;stroke-linejoin:round;stroke:rgb(0%,0%,0%);stroke-opacity:1;stroke-miterlimit:10;\" d=\"M 378.898438 158.800781 C 378.898438 162.398438 373.5 162.398438 373.5 158.800781 C 373.5 155.199219 378.898438 155.199219 378.898438 158.800781 \"/>\n",
       "<path style=\"fill:none;stroke-width:0.75;stroke-linecap:round;stroke-linejoin:round;stroke:rgb(0%,0%,0%);stroke-opacity:1;stroke-miterlimit:10;\" d=\"M 150.300781 362.484375 C 150.300781 366.085938 144.898438 366.085938 144.898438 362.484375 C 144.898438 358.882813 150.300781 358.882813 150.300781 362.484375 \"/>\n",
       "<path style=\"fill:none;stroke-width:0.75;stroke-linecap:round;stroke-linejoin:round;stroke:rgb(0%,0%,0%);stroke-opacity:1;stroke-miterlimit:10;\" d=\"M 330.300781 145.222656 C 330.300781 148.820313 324.898438 148.820313 324.898438 145.222656 C 324.898438 141.621094 330.300781 141.621094 330.300781 145.222656 \"/>\n",
       "<path style=\"fill:none;stroke-width:0.75;stroke-linecap:round;stroke-linejoin:round;stroke:rgb(0%,0%,0%);stroke-opacity:1;stroke-miterlimit:10;\" d=\"M 260.699219 235.746094 C 260.699219 239.347656 255.300781 239.347656 255.300781 235.746094 C 255.300781 232.148438 260.699219 232.148438 260.699219 235.746094 \"/>\n",
       "<path style=\"fill:none;stroke-width:0.75;stroke-linecap:round;stroke-linejoin:round;stroke:rgb(0%,0%,0%);stroke-opacity:1;stroke-miterlimit:10;\" d=\"M 312.898438 199.535156 C 312.898438 203.136719 307.5 203.136719 307.5 199.535156 C 307.5 195.9375 312.898438 195.9375 312.898438 199.535156 \"/>\n",
       "<path style=\"fill:none;stroke-width:0.75;stroke-linecap:round;stroke-linejoin:round;stroke:rgb(0%,0%,0%);stroke-opacity:1;stroke-miterlimit:10;\" d=\"M 215.699219 312.695313 C 215.699219 316.292969 210.300781 316.292969 210.300781 312.695313 C 210.300781 309.09375 215.699219 309.09375 215.699219 312.695313 \"/>\n",
       "<path style=\"fill:none;stroke-width:0.75;stroke-linecap:round;stroke-linejoin:round;stroke:rgb(0%,0%,0%);stroke-opacity:1;stroke-miterlimit:10;\" d=\"M 319.5 199.535156 C 319.5 203.136719 314.101563 203.136719 314.101563 199.535156 C 314.101563 195.9375 319.5 195.9375 319.5 199.535156 \"/>\n",
       "<path style=\"fill:none;stroke-width:0.75;stroke-linecap:round;stroke-linejoin:round;stroke:rgb(0%,0%,0%);stroke-opacity:1;stroke-miterlimit:10;\" d=\"M 108.898438 362.484375 C 108.898438 366.085938 103.5 366.085938 103.5 362.484375 C 103.5 358.882813 108.898438 358.882813 108.898438 362.484375 \"/>\n",
       "<path style=\"fill:none;stroke-width:0.75;stroke-linecap:round;stroke-linejoin:round;stroke:rgb(0%,0%,0%);stroke-opacity:1;stroke-miterlimit:10;\" d=\"M 179.699219 308.167969 C 179.699219 311.769531 174.300781 311.769531 174.300781 308.167969 C 174.300781 304.570313 179.699219 304.570313 179.699219 308.167969 \"/>\n",
       "<path style=\"fill:none;stroke-width:0.75;stroke-linecap:round;stroke-linejoin:round;stroke:rgb(0%,0%,0%);stroke-opacity:1;stroke-miterlimit:10;\" d=\"M 321.898438 190.484375 C 321.898438 194.085938 316.5 194.085938 316.5 190.484375 C 316.5 186.882813 321.898438 186.882813 321.898438 190.484375 \"/>\n",
       "<path style=\"fill:none;stroke-width:0.75;stroke-linecap:round;stroke-linejoin:round;stroke:rgb(0%,0%,0%);stroke-opacity:1;stroke-miterlimit:10;\" d=\"M 308.699219 204.0625 C 308.699219 207.664063 303.300781 207.664063 303.300781 204.0625 C 303.300781 200.464844 308.699219 200.464844 308.699219 204.0625 \"/>\n",
       "<path style=\"fill:none;stroke-width:0.75;stroke-linecap:round;stroke-linejoin:round;stroke:rgb(0%,0%,0%);stroke-opacity:1;stroke-miterlimit:10;\" d=\"M 305.699219 208.589844 C 305.699219 212.191406 300.300781 212.191406 300.300781 208.589844 C 300.300781 204.988281 305.699219 204.988281 305.699219 208.589844 \"/>\n",
       "<path style=\"fill:none;stroke-width:0.75;stroke-linecap:round;stroke-linejoin:round;stroke:rgb(0%,0%,0%);stroke-opacity:1;stroke-miterlimit:10;\" d=\"M 254.699219 231.222656 C 254.699219 234.820313 249.300781 234.820313 249.300781 231.222656 C 249.300781 227.621094 254.699219 227.621094 254.699219 231.222656 \"/>\n",
       "<path style=\"fill:none;stroke-width:0.75;stroke-linecap:round;stroke-linejoin:round;stroke:rgb(0%,0%,0%);stroke-opacity:1;stroke-miterlimit:10;\" d=\"M 324.898438 185.957031 C 324.898438 189.558594 319.5 189.558594 319.5 185.957031 C 319.5 182.359375 324.898438 182.359375 324.898438 185.957031 \"/>\n",
       "<path style=\"fill:none;stroke-width:0.75;stroke-linecap:round;stroke-linejoin:round;stroke:rgb(0%,0%,0%);stroke-opacity:1;stroke-miterlimit:10;\" d=\"M 277.5 208.589844 C 277.5 212.191406 272.101563 212.191406 272.101563 208.589844 C 272.101563 204.988281 277.5 204.988281 277.5 208.589844 \"/>\n",
       "<path style=\"fill:none;stroke-width:0.75;stroke-linecap:round;stroke-linejoin:round;stroke:rgb(0%,0%,0%);stroke-opacity:1;stroke-miterlimit:10;\" d=\"M 205.5 294.589844 C 205.5 298.191406 200.101563 298.191406 200.101563 294.589844 C 200.101563 290.988281 205.5 290.988281 205.5 294.589844 \"/>\n",
       "<path style=\"fill:none;stroke-width:0.75;stroke-linecap:round;stroke-linejoin:round;stroke:rgb(0%,0%,0%);stroke-opacity:1;stroke-miterlimit:10;\" d=\"M 276.300781 217.640625 C 276.300781 221.242188 270.898438 221.242188 270.898438 217.640625 C 270.898438 214.042969 276.300781 214.042969 276.300781 217.640625 \"/>\n",
       "<path style=\"fill:none;stroke-width:0.75;stroke-linecap:round;stroke-linejoin:round;stroke:rgb(0%,0%,0%);stroke-opacity:1;stroke-miterlimit:10;\" d=\"M 237.300781 294.589844 C 237.300781 298.191406 231.898438 298.191406 231.898438 294.589844 C 231.898438 290.988281 237.300781 290.988281 237.300781 294.589844 \"/>\n",
       "<path style=\"fill:none;stroke-width:0.75;stroke-linecap:round;stroke-linejoin:round;stroke:rgb(0%,0%,0%);stroke-opacity:1;stroke-miterlimit:10;\" d=\"M 285.898438 222.167969 C 285.898438 225.769531 280.5 225.769531 280.5 222.167969 C 280.5 218.570313 285.898438 218.570313 285.898438 222.167969 \"/>\n",
       "<path style=\"fill:none;stroke-width:0.75;stroke-linecap:round;stroke-linejoin:round;stroke:rgb(0%,0%,0%);stroke-opacity:1;stroke-miterlimit:10;\" d=\"M 282.898438 208.589844 C 282.898438 212.191406 277.5 212.191406 277.5 208.589844 C 277.5 204.988281 282.898438 204.988281 282.898438 208.589844 \"/>\n",
       "<path style=\"fill:none;stroke-width:0.75;stroke-linecap:round;stroke-linejoin:round;stroke:rgb(0%,0%,0%);stroke-opacity:1;stroke-miterlimit:10;\" d=\"M 383.101563 131.640625 C 383.101563 135.242188 377.699219 135.242188 377.699219 131.640625 C 377.699219 128.042969 383.101563 128.042969 383.101563 131.640625 \"/>\n",
       "<path style=\"fill:none;stroke-width:0.75;stroke-linecap:round;stroke-linejoin:round;stroke:rgb(0%,0%,0%);stroke-opacity:1;stroke-miterlimit:10;\" d=\"M 228.898438 271.957031 C 228.898438 275.558594 223.5 275.558594 223.5 271.957031 C 223.5 268.359375 228.898438 268.359375 228.898438 271.957031 \"/>\n",
       "<path style=\"fill:none;stroke-width:0.75;stroke-linecap:round;stroke-linejoin:round;stroke:rgb(0%,0%,0%);stroke-opacity:1;stroke-miterlimit:10;\" d=\"M 252.300781 253.851563 C 252.300781 257.453125 246.898438 257.453125 246.898438 253.851563 C 246.898438 250.253906 252.300781 250.253906 252.300781 253.851563 \"/>\n",
       "<path style=\"fill:none;stroke-width:0.75;stroke-linecap:round;stroke-linejoin:round;stroke:rgb(0%,0%,0%);stroke-opacity:1;stroke-miterlimit:10;\" d=\"M 285.300781 240.273438 C 285.300781 243.875 279.898438 243.875 279.898438 240.273438 C 279.898438 236.671875 285.300781 236.671875 285.300781 240.273438 \"/>\n",
       "<path style=\"fill:none;stroke-width:0.75;stroke-linecap:round;stroke-linejoin:round;stroke:rgb(0%,0%,0%);stroke-opacity:1;stroke-miterlimit:10;\" d=\"M 260.101563 267.429688 C 260.101563 271.03125 254.699219 271.03125 254.699219 267.429688 C 254.699219 263.832031 260.101563 263.832031 260.101563 267.429688 \"/>\n",
       "<path style=\"fill:none;stroke-width:0.75;stroke-linecap:round;stroke-linejoin:round;stroke:rgb(0%,0%,0%);stroke-opacity:1;stroke-miterlimit:10;\" d=\"M 278.699219 222.167969 C 278.699219 225.769531 273.300781 225.769531 273.300781 222.167969 C 273.300781 218.570313 278.699219 218.570313 278.699219 222.167969 \"/>\n",
       "<path style=\"fill:none;stroke-width:0.75;stroke-linecap:round;stroke-linejoin:round;stroke:rgb(0%,0%,0%);stroke-opacity:1;stroke-miterlimit:10;\" d=\"M 290.699219 226.695313 C 290.699219 230.292969 285.300781 230.292969 285.300781 226.695313 C 285.300781 223.09375 290.699219 223.09375 290.699219 226.695313 \"/>\n",
       "<path style=\"fill:none;stroke-width:0.75;stroke-linecap:round;stroke-linejoin:round;stroke:rgb(0%,0%,0%);stroke-opacity:1;stroke-miterlimit:10;\" d=\"M 232.5 253.851563 C 232.5 257.453125 227.101563 257.453125 227.101563 253.851563 C 227.101563 250.253906 232.5 250.253906 232.5 253.851563 \"/>\n",
       "<path style=\"fill:none;stroke-width:0.75;stroke-linecap:round;stroke-linejoin:round;stroke:rgb(0%,0%,0%);stroke-opacity:1;stroke-miterlimit:10;\" d=\"M 306.300781 235.746094 C 306.300781 239.347656 300.898438 239.347656 300.898438 235.746094 C 300.898438 232.148438 306.300781 232.148438 306.300781 235.746094 \"/>\n",
       "<path style=\"fill:none;stroke-width:0.75;stroke-linecap:round;stroke-linejoin:round;stroke:rgb(0%,0%,0%);stroke-opacity:1;stroke-miterlimit:10;\" d=\"M 317.699219 199.535156 C 317.699219 203.136719 312.300781 203.136719 312.300781 199.535156 C 312.300781 195.9375 317.699219 195.9375 317.699219 199.535156 \"/>\n",
       "<path style=\"fill:none;stroke-width:0.75;stroke-linecap:round;stroke-linejoin:round;stroke:rgb(0%,0%,0%);stroke-opacity:1;stroke-miterlimit:10;\" d=\"M 342.300781 158.800781 C 342.300781 162.398438 336.898438 162.398438 336.898438 158.800781 C 336.898438 155.199219 342.300781 155.199219 342.300781 158.800781 \"/>\n",
       "<path style=\"fill:none;stroke-width:0.75;stroke-linecap:round;stroke-linejoin:round;stroke:rgb(0%,0%,0%);stroke-opacity:1;stroke-miterlimit:10;\" d=\"M 191.101563 303.640625 C 191.101563 307.242188 185.699219 307.242188 185.699219 303.640625 C 185.699219 300.042969 191.101563 300.042969 191.101563 303.640625 \"/>\n",
       "<path style=\"fill:none;stroke-width:0.75;stroke-linecap:round;stroke-linejoin:round;stroke:rgb(0%,0%,0%);stroke-opacity:1;stroke-miterlimit:10;\" d=\"M 270.300781 249.328125 C 270.300781 252.925781 264.898438 252.925781 264.898438 249.328125 C 264.898438 245.726563 270.300781 245.726563 270.300781 249.328125 \"/>\n",
       "<path style=\"fill:none;stroke-width:0.75;stroke-linecap:round;stroke-linejoin:round;stroke:rgb(0%,0%,0%);stroke-opacity:1;stroke-miterlimit:10;\" d=\"M 312.898438 253.851563 C 312.898438 257.453125 307.5 257.453125 307.5 253.851563 C 307.5 250.253906 312.898438 250.253906 312.898438 253.851563 \"/>\n",
       "<path style=\"fill:none;stroke-width:0.75;stroke-linecap:round;stroke-linejoin:round;stroke:rgb(0%,0%,0%);stroke-opacity:1;stroke-miterlimit:10;\" d=\"M 340.5 181.429688 C 340.5 185.03125 335.101563 185.03125 335.101563 181.429688 C 335.101563 177.832031 340.5 177.832031 340.5 181.429688 \"/>\n",
       "<path style=\"fill:none;stroke-width:0.75;stroke-linecap:round;stroke-linejoin:round;stroke:rgb(0%,0%,0%);stroke-opacity:1;stroke-miterlimit:10;\" d=\"M 263.699219 217.640625 C 263.699219 221.242188 258.300781 221.242188 258.300781 217.640625 C 258.300781 214.042969 263.699219 214.042969 263.699219 217.640625 \"/>\n",
       "<path style=\"fill:none;stroke-width:0.75;stroke-linecap:round;stroke-linejoin:round;stroke:rgb(0%,0%,0%);stroke-opacity:1;stroke-miterlimit:10;\" d=\"M 322.5 204.0625 C 322.5 207.664063 317.101563 207.664063 317.101563 204.0625 C 317.101563 200.464844 322.5 200.464844 322.5 204.0625 \"/>\n",
       "<path style=\"fill:none;stroke-width:0.75;stroke-linecap:round;stroke-linejoin:round;stroke:rgb(0%,0%,0%);stroke-opacity:1;stroke-miterlimit:10;\" d=\"M 299.699219 195.011719 C 299.699219 198.609375 294.300781 198.609375 294.300781 195.011719 C 294.300781 191.410156 299.699219 191.410156 299.699219 195.011719 \"/>\n",
       "<path style=\"fill:none;stroke-width:0.75;stroke-linecap:round;stroke-linejoin:round;stroke:rgb(0%,0%,0%);stroke-opacity:1;stroke-miterlimit:10;\" d=\"M 300.300781 204.0625 C 300.300781 207.664063 294.898438 207.664063 294.898438 204.0625 C 294.898438 200.464844 300.300781 200.464844 300.300781 204.0625 \"/>\n",
       "<path style=\"fill:none;stroke-width:0.75;stroke-linecap:round;stroke-linejoin:round;stroke:rgb(0%,0%,0%);stroke-opacity:1;stroke-miterlimit:10;\" d=\"M 243.300781 258.378906 C 243.300781 261.980469 237.898438 261.980469 237.898438 258.378906 C 237.898438 254.777344 243.300781 254.777344 243.300781 258.378906 \"/>\n",
       "<path style=\"fill:none;stroke-width:0.75;stroke-linecap:round;stroke-linejoin:round;stroke:rgb(0%,0%,0%);stroke-opacity:1;stroke-miterlimit:10;\" d=\"M 333.300781 185.957031 C 333.300781 189.558594 327.898438 189.558594 327.898438 185.957031 C 327.898438 182.359375 333.300781 182.359375 333.300781 185.957031 \"/>\n",
       "<path style=\"fill:none;stroke-width:0.75;stroke-linecap:round;stroke-linejoin:round;stroke:rgb(0%,0%,0%);stroke-opacity:1;stroke-miterlimit:10;\" d=\"M 206.101563 285.535156 C 206.101563 289.136719 200.699219 289.136719 200.699219 285.535156 C 200.699219 281.9375 206.101563 281.9375 206.101563 285.535156 \"/>\n",
       "<path style=\"fill:none;stroke-width:0.75;stroke-linecap:round;stroke-linejoin:round;stroke:rgb(0%,0%,0%);stroke-opacity:1;stroke-miterlimit:10;\" d=\"M 199.5 317.222656 C 199.5 320.820313 194.101563 320.820313 194.101563 317.222656 C 194.101563 313.621094 199.5 313.621094 199.5 317.222656 \"/>\n",
       "<path style=\"fill:none;stroke-width:0.75;stroke-linecap:round;stroke-linejoin:round;stroke:rgb(0%,0%,0%);stroke-opacity:1;stroke-miterlimit:10;\" d=\"M 230.101563 267.429688 C 230.101563 271.03125 224.699219 271.03125 224.699219 267.429688 C 224.699219 263.832031 230.101563 263.832031 230.101563 267.429688 \"/>\n",
       "<path style=\"fill:none;stroke-width:0.75;stroke-linecap:round;stroke-linejoin:round;stroke:rgb(0%,0%,0%);stroke-opacity:1;stroke-miterlimit:10;\" d=\"M 324.300781 185.957031 C 324.300781 189.558594 318.898438 189.558594 318.898438 185.957031 C 318.898438 182.359375 324.300781 182.359375 324.300781 185.957031 \"/>\n",
       "<path style=\"fill:none;stroke-width:0.75;stroke-linecap:round;stroke-linejoin:round;stroke:rgb(0%,0%,0%);stroke-opacity:1;stroke-miterlimit:10;\" d=\"M 171.300781 321.746094 C 171.300781 325.347656 165.898438 325.347656 165.898438 321.746094 C 165.898438 318.148438 171.300781 318.148438 171.300781 321.746094 \"/>\n",
       "<path style=\"fill:none;stroke-width:0.75;stroke-linecap:round;stroke-linejoin:round;stroke:rgb(0%,0%,0%);stroke-opacity:1;stroke-miterlimit:10;\" d=\"M 216.300781 271.957031 C 216.300781 275.558594 210.898438 275.558594 210.898438 271.957031 C 210.898438 268.359375 216.300781 268.359375 216.300781 271.957031 \"/>\n",
       "<path style=\"fill:none;stroke-width:0.75;stroke-linecap:round;stroke-linejoin:round;stroke:rgb(0%,0%,0%);stroke-opacity:1;stroke-miterlimit:10;\" d=\"M 294.300781 226.695313 C 294.300781 230.292969 288.898438 230.292969 288.898438 226.695313 C 288.898438 223.09375 294.300781 223.09375 294.300781 226.695313 \"/>\n",
       "<path style=\"fill:none;stroke-width:0.75;stroke-linecap:round;stroke-linejoin:round;stroke:rgb(0%,0%,0%);stroke-opacity:1;stroke-miterlimit:10;\" d=\"M 267.300781 231.222656 C 267.300781 234.820313 261.898438 234.820313 261.898438 231.222656 C 261.898438 227.621094 267.300781 227.621094 267.300781 231.222656 \"/>\n",
       "<path style=\"fill:none;stroke-width:0.75;stroke-linecap:round;stroke-linejoin:round;stroke:rgb(0%,0%,0%);stroke-opacity:1;stroke-miterlimit:10;\" d=\"M 336.300781 185.957031 C 336.300781 189.558594 330.898438 189.558594 330.898438 185.957031 C 330.898438 182.359375 336.300781 182.359375 336.300781 185.957031 \"/>\n",
       "<path style=\"fill:none;stroke-width:0.75;stroke-linecap:round;stroke-linejoin:round;stroke:rgb(0%,0%,0%);stroke-opacity:1;stroke-miterlimit:10;\" d=\"M 358.5 140.695313 C 358.5 144.292969 353.101563 144.292969 353.101563 140.695313 C 353.101563 137.09375 358.5 137.09375 358.5 140.695313 \"/>\n",
       "<path style=\"fill:none;stroke-width:0.75;stroke-linecap:round;stroke-linejoin:round;stroke:rgb(0%,0%,0%);stroke-opacity:1;stroke-miterlimit:10;\" d=\"M 223.5 253.851563 C 223.5 257.453125 218.101563 257.453125 218.101563 253.851563 C 218.101563 250.253906 223.5 250.253906 223.5 253.851563 \"/>\n",
       "<path style=\"fill:none;stroke-width:0.75;stroke-linecap:round;stroke-linejoin:round;stroke:rgb(0%,0%,0%);stroke-opacity:1;stroke-miterlimit:10;\" d=\"M 335.101563 213.117188 C 335.101563 216.714844 329.699219 216.714844 329.699219 213.117188 C 329.699219 209.515625 335.101563 209.515625 335.101563 213.117188 \"/>\n",
       "<path style=\"fill:none;stroke-width:0.75;stroke-linecap:round;stroke-linejoin:round;stroke:rgb(0%,0%,0%);stroke-opacity:1;stroke-miterlimit:10;\" d=\"M 368.101563 158.800781 C 368.101563 162.398438 362.699219 162.398438 362.699219 158.800781 C 362.699219 155.199219 368.101563 155.199219 368.101563 158.800781 \"/>\n",
       "<path style=\"fill:none;stroke-width:0.75;stroke-linecap:round;stroke-linejoin:round;stroke:rgb(0%,0%,0%);stroke-opacity:1;stroke-miterlimit:10;\" d=\"M 230.101563 271.957031 C 230.101563 275.558594 224.699219 275.558594 224.699219 271.957031 C 224.699219 268.359375 230.101563 268.359375 230.101563 271.957031 \"/>\n",
       "<path style=\"fill:none;stroke-width:0.75;stroke-linecap:round;stroke-linejoin:round;stroke:rgb(0%,0%,0%);stroke-opacity:1;stroke-miterlimit:10;\" d=\"M 252.300781 235.746094 C 252.300781 239.347656 246.898438 239.347656 246.898438 235.746094 C 246.898438 232.148438 252.300781 232.148438 252.300781 235.746094 \"/>\n",
       "<path style=\"fill:none;stroke-width:0.75;stroke-linecap:round;stroke-linejoin:round;stroke:rgb(0%,0%,0%);stroke-opacity:1;stroke-miterlimit:10;\" d=\"M 176.699219 330.800781 C 176.699219 334.398438 171.300781 334.398438 171.300781 330.800781 C 171.300781 327.199219 176.699219 327.199219 176.699219 330.800781 \"/>\n",
       "<path style=\"fill:none;stroke-width:0.75;stroke-linecap:round;stroke-linejoin:round;stroke:rgb(0%,0%,0%);stroke-opacity:1;stroke-miterlimit:10;\" d=\"M 309.898438 222.167969 C 309.898438 225.769531 304.5 225.769531 304.5 222.167969 C 304.5 218.570313 309.898438 218.570313 309.898438 222.167969 \"/>\n",
       "<path style=\"fill:none;stroke-width:0.75;stroke-linecap:round;stroke-linejoin:round;stroke:rgb(0%,0%,0%);stroke-opacity:1;stroke-miterlimit:10;\" d=\"M 269.699219 253.851563 C 269.699219 257.453125 264.300781 257.453125 264.300781 253.851563 C 264.300781 250.253906 269.699219 250.253906 269.699219 253.851563 \"/>\n",
       "<path style=\"fill:none;stroke-width:0.75;stroke-linecap:round;stroke-linejoin:round;stroke:rgb(0%,0%,0%);stroke-opacity:1;stroke-miterlimit:10;\" d=\"M 268.5 231.222656 C 268.5 234.820313 263.101563 234.820313 263.101563 231.222656 C 263.101563 227.621094 268.5 227.621094 268.5 231.222656 \"/>\n",
       "<path style=\"fill:none;stroke-width:0.75;stroke-linecap:round;stroke-linejoin:round;stroke:rgb(0%,0%,0%);stroke-opacity:1;stroke-miterlimit:10;\" d=\"M 288.300781 199.535156 C 288.300781 203.136719 282.898438 203.136719 282.898438 199.535156 C 282.898438 195.9375 288.300781 195.9375 288.300781 199.535156 \"/>\n",
       "<path style=\"fill:none;stroke-width:0.75;stroke-linecap:round;stroke-linejoin:round;stroke:rgb(0%,0%,0%);stroke-opacity:1;stroke-miterlimit:10;\" d=\"M 225.898438 271.957031 C 225.898438 275.558594 220.5 275.558594 220.5 271.957031 C 220.5 268.359375 225.898438 268.359375 225.898438 271.957031 \"/>\n",
       "<path style=\"fill:none;stroke-width:0.75;stroke-linecap:round;stroke-linejoin:round;stroke:rgb(0%,0%,0%);stroke-opacity:1;stroke-miterlimit:10;\" d=\"M 225.300781 262.90625 C 225.300781 266.503906 219.898438 266.503906 219.898438 262.90625 C 219.898438 259.304688 225.300781 259.304688 225.300781 262.90625 \"/>\n",
       "<path style=\"fill:none;stroke-width:0.75;stroke-linecap:round;stroke-linejoin:round;stroke:rgb(0%,0%,0%);stroke-opacity:1;stroke-miterlimit:10;\" d=\"M 345.300781 167.851563 C 345.300781 171.453125 339.898438 171.453125 339.898438 167.851563 C 339.898438 164.253906 345.300781 164.253906 345.300781 167.851563 \"/>\n",
       "<path style=\"fill:none;stroke-width:0.75;stroke-linecap:round;stroke-linejoin:round;stroke:rgb(0%,0%,0%);stroke-opacity:1;stroke-miterlimit:10;\" d=\"M 324.898438 195.011719 C 324.898438 198.609375 319.5 198.609375 319.5 195.011719 C 319.5 191.410156 324.898438 191.410156 324.898438 195.011719 \"/>\n",
       "<path style=\"fill:none;stroke-width:0.75;stroke-linecap:round;stroke-linejoin:round;stroke:rgb(0%,0%,0%);stroke-opacity:1;stroke-miterlimit:10;\" d=\"M 171.300781 299.117188 C 171.300781 302.714844 165.898438 302.714844 165.898438 299.117188 C 165.898438 295.515625 171.300781 295.515625 171.300781 299.117188 \"/>\n",
       "<path style=\"fill:none;stroke-width:0.75;stroke-linecap:round;stroke-linejoin:round;stroke:rgb(0%,0%,0%);stroke-opacity:1;stroke-miterlimit:10;\" d=\"M 275.101563 281.011719 C 275.101563 284.609375 269.699219 284.609375 269.699219 281.011719 C 269.699219 277.410156 275.101563 277.410156 275.101563 281.011719 \"/>\n",
       "<path style=\"fill:none;stroke-width:0.75;stroke-linecap:round;stroke-linejoin:round;stroke:rgb(0%,0%,0%);stroke-opacity:1;stroke-miterlimit:10;\" d=\"M 309.300781 204.0625 C 309.300781 207.664063 303.898438 207.664063 303.898438 204.0625 C 303.898438 200.464844 309.300781 200.464844 309.300781 204.0625 \"/>\n",
       "<path style=\"fill:none;stroke-width:0.75;stroke-linecap:round;stroke-linejoin:round;stroke:rgb(0%,0%,0%);stroke-opacity:1;stroke-miterlimit:10;\" d=\"M 346.5 181.429688 C 346.5 185.03125 341.101563 185.03125 341.101563 181.429688 C 341.101563 177.832031 346.5 177.832031 346.5 181.429688 \"/>\n",
       "<path style=\"fill:none;stroke-width:0.75;stroke-linecap:round;stroke-linejoin:round;stroke:rgb(0%,0%,0%);stroke-opacity:1;stroke-miterlimit:10;\" d=\"M 305.101563 176.90625 C 305.101563 180.503906 299.699219 180.503906 299.699219 176.90625 C 299.699219 173.304688 305.101563 173.304688 305.101563 176.90625 \"/>\n",
       "<path style=\"fill:none;stroke-width:0.75;stroke-linecap:round;stroke-linejoin:round;stroke:rgb(0%,0%,0%);stroke-opacity:1;stroke-miterlimit:10;\" d=\"M 272.101563 222.167969 C 272.101563 225.769531 266.699219 225.769531 266.699219 222.167969 C 266.699219 218.570313 272.101563 218.570313 272.101563 222.167969 \"/>\n",
       "<path style=\"fill:none;stroke-width:0.75;stroke-linecap:round;stroke-linejoin:round;stroke:rgb(0%,0%,0%);stroke-opacity:1;stroke-miterlimit:10;\" d=\"M 214.5 276.484375 C 214.5 280.085938 209.101563 280.085938 209.101563 276.484375 C 209.101563 272.882813 214.5 272.882813 214.5 276.484375 \"/>\n",
       "<path style=\"fill:none;stroke-width:0.75;stroke-linecap:round;stroke-linejoin:round;stroke:rgb(0%,0%,0%);stroke-opacity:1;stroke-miterlimit:10;\" d=\"M 313.5 172.378906 C 313.5 175.980469 308.101563 175.980469 308.101563 172.378906 C 308.101563 168.777344 313.5 168.777344 313.5 172.378906 \"/>\n",
       "<path style=\"fill:none;stroke-width:0.75;stroke-linecap:round;stroke-linejoin:round;stroke:rgb(0%,0%,0%);stroke-opacity:1;stroke-miterlimit:10;\" d=\"M 202.5 317.222656 C 202.5 320.820313 197.101563 320.820313 197.101563 317.222656 C 197.101563 313.621094 202.5 313.621094 202.5 317.222656 \"/>\n",
       "<path style=\"fill:none;stroke-width:0.75;stroke-linecap:round;stroke-linejoin:round;stroke:rgb(0%,0%,0%);stroke-opacity:1;stroke-miterlimit:10;\" d=\"M 250.5 258.378906 C 250.5 261.980469 245.101563 261.980469 245.101563 258.378906 C 245.101563 254.777344 250.5 254.777344 250.5 258.378906 \"/>\n",
       "<path style=\"fill:none;stroke-width:0.75;stroke-linecap:round;stroke-linejoin:round;stroke:rgb(0%,0%,0%);stroke-opacity:1;stroke-miterlimit:10;\" d=\"M 222.898438 271.957031 C 222.898438 275.558594 217.5 275.558594 217.5 271.957031 C 217.5 268.359375 222.898438 268.359375 222.898438 271.957031 \"/>\n",
       "<path style=\"fill:none;stroke-width:0.75;stroke-linecap:round;stroke-linejoin:round;stroke:rgb(0%,0%,0%);stroke-opacity:1;stroke-miterlimit:10;\" d=\"M 330.898438 167.851563 C 330.898438 171.453125 325.5 171.453125 325.5 167.851563 C 325.5 164.253906 330.898438 164.253906 330.898438 167.851563 \"/>\n",
       "<path style=\"fill:none;stroke-width:0.75;stroke-linecap:round;stroke-linejoin:round;stroke:rgb(0%,0%,0%);stroke-opacity:1;stroke-miterlimit:10;\" d=\"M 348.300781 195.011719 C 348.300781 198.609375 342.898438 198.609375 342.898438 195.011719 C 342.898438 191.410156 348.300781 191.410156 348.300781 195.011719 \"/>\n",
       "<path style=\"fill:none;stroke-width:0.75;stroke-linecap:round;stroke-linejoin:round;stroke:rgb(0%,0%,0%);stroke-opacity:1;stroke-miterlimit:10;\" d=\"M 305.699219 204.0625 C 305.699219 207.664063 300.300781 207.664063 300.300781 204.0625 C 300.300781 200.464844 305.699219 200.464844 305.699219 204.0625 \"/>\n",
       "<path style=\"fill:none;stroke-width:0.75;stroke-linecap:round;stroke-linejoin:round;stroke:rgb(0%,0%,0%);stroke-opacity:1;stroke-miterlimit:10;\" d=\"M 322.5 195.011719 C 322.5 198.609375 317.101563 198.609375 317.101563 195.011719 C 317.101563 191.410156 322.5 191.410156 322.5 195.011719 \"/>\n",
       "<path style=\"fill:none;stroke-width:0.75;stroke-linecap:round;stroke-linejoin:round;stroke:rgb(0%,0%,0%);stroke-opacity:1;stroke-miterlimit:10;\" d=\"M 190.5 303.640625 C 190.5 307.242188 185.101563 307.242188 185.101563 303.640625 C 185.101563 300.042969 190.5 300.042969 190.5 303.640625 \"/>\n",
       "<path style=\"fill:none;stroke-width:0.75;stroke-linecap:round;stroke-linejoin:round;stroke:rgb(0%,0%,0%);stroke-opacity:1;stroke-miterlimit:10;\" d=\"M 173.699219 330.800781 C 173.699219 334.398438 168.300781 334.398438 168.300781 330.800781 C 168.300781 327.199219 173.699219 327.199219 173.699219 330.800781 \"/>\n",
       "<path style=\"fill:none;stroke-width:0.75;stroke-linecap:round;stroke-linejoin:round;stroke:rgb(0%,0%,0%);stroke-opacity:1;stroke-miterlimit:10;\" d=\"M 327.898438 158.800781 C 327.898438 162.398438 322.5 162.398438 322.5 158.800781 C 322.5 155.199219 327.898438 155.199219 327.898438 158.800781 \"/>\n",
       "<path style=\"fill:none;stroke-width:0.75;stroke-linecap:round;stroke-linejoin:round;stroke:rgb(0%,0%,0%);stroke-opacity:1;stroke-miterlimit:10;\" d=\"M 380.101563 136.167969 C 380.101563 139.769531 374.699219 139.769531 374.699219 136.167969 C 374.699219 132.570313 380.101563 132.570313 380.101563 136.167969 \"/>\n",
       "<path style=\"fill:none;stroke-width:0.75;stroke-linecap:round;stroke-linejoin:round;stroke:rgb(0%,0%,0%);stroke-opacity:1;stroke-miterlimit:10;\" d=\"M 320.699219 208.589844 C 320.699219 212.191406 315.300781 212.191406 315.300781 208.589844 C 315.300781 204.988281 320.699219 204.988281 320.699219 208.589844 \"/>\n",
       "<path style=\"fill:none;stroke-width:0.75;stroke-linecap:round;stroke-linejoin:round;stroke:rgb(0%,0%,0%);stroke-opacity:1;stroke-miterlimit:10;\" d=\"M 121.5 371.535156 C 121.5 375.136719 116.101563 375.136719 116.101563 371.535156 C 116.101563 367.9375 121.5 367.9375 121.5 371.535156 \"/>\n",
       "<path style=\"fill:none;stroke-width:0.75;stroke-linecap:round;stroke-linejoin:round;stroke:rgb(0%,0%,0%);stroke-opacity:1;stroke-miterlimit:10;\" d=\"M 279.898438 249.328125 C 279.898438 252.925781 274.5 252.925781 274.5 249.328125 C 274.5 245.726563 279.898438 245.726563 279.898438 249.328125 \"/>\n",
       "<path style=\"fill:none;stroke-width:0.75;stroke-linecap:round;stroke-linejoin:round;stroke:rgb(0%,0%,0%);stroke-opacity:1;stroke-miterlimit:10;\" d=\"M 267.898438 213.117188 C 267.898438 216.714844 262.5 216.714844 262.5 213.117188 C 262.5 209.515625 267.898438 209.515625 267.898438 213.117188 \"/>\n",
       "<path style=\"fill:none;stroke-width:0.75;stroke-linecap:round;stroke-linejoin:round;stroke:rgb(0%,0%,0%);stroke-opacity:1;stroke-miterlimit:10;\" d=\"M 332.699219 190.484375 C 332.699219 194.085938 327.300781 194.085938 327.300781 190.484375 C 327.300781 186.882813 332.699219 186.882813 332.699219 190.484375 \"/>\n",
       "<path style=\"fill:none;stroke-width:0.75;stroke-linecap:round;stroke-linejoin:round;stroke:rgb(0%,0%,0%);stroke-opacity:1;stroke-miterlimit:10;\" d=\"M 329.101563 167.851563 C 329.101563 171.453125 323.699219 171.453125 323.699219 167.851563 C 323.699219 164.253906 329.101563 164.253906 329.101563 167.851563 \"/>\n",
       "<path style=\"fill:none;stroke-width:0.75;stroke-linecap:round;stroke-linejoin:round;stroke:rgb(0%,0%,0%);stroke-opacity:1;stroke-miterlimit:10;\" d=\"M 295.5 235.746094 C 295.5 239.347656 290.101563 239.347656 290.101563 235.746094 C 290.101563 232.148438 295.5 232.148438 295.5 235.746094 \"/>\n",
       "<path style=\"fill:none;stroke-width:0.75;stroke-linecap:round;stroke-linejoin:round;stroke:rgb(0%,0%,0%);stroke-opacity:1;stroke-miterlimit:10;\" d=\"M 197.699219 281.011719 C 197.699219 284.609375 192.300781 284.609375 192.300781 281.011719 C 192.300781 277.410156 197.699219 277.410156 197.699219 281.011719 \"/>\n",
       "<path style=\"fill:none;stroke-width:0.75;stroke-linecap:round;stroke-linejoin:round;stroke:rgb(0%,0%,0%);stroke-opacity:1;stroke-miterlimit:10;\" d=\"M 342.898438 158.800781 C 342.898438 162.398438 337.5 162.398438 337.5 158.800781 C 337.5 155.199219 342.898438 155.199219 342.898438 158.800781 \"/>\n",
       "<path style=\"fill:none;stroke-width:0.75;stroke-linecap:round;stroke-linejoin:round;stroke:rgb(0%,0%,0%);stroke-opacity:1;stroke-miterlimit:10;\" d=\"M 212.699219 271.957031 C 212.699219 275.558594 207.300781 275.558594 207.300781 271.957031 C 207.300781 268.359375 212.699219 268.359375 212.699219 271.957031 \"/>\n",
       "<path style=\"fill:none;stroke-width:0.75;stroke-linecap:round;stroke-linejoin:round;stroke:rgb(0%,0%,0%);stroke-opacity:1;stroke-miterlimit:10;\" d=\"M 230.699219 253.851563 C 230.699219 257.453125 225.300781 257.453125 225.300781 253.851563 C 225.300781 250.253906 230.699219 250.253906 230.699219 253.851563 \"/>\n",
       "<path style=\"fill:none;stroke-width:0.75;stroke-linecap:round;stroke-linejoin:round;stroke:rgb(0%,0%,0%);stroke-opacity:1;stroke-miterlimit:10;\" d=\"M 360.300781 154.273438 C 360.300781 157.875 354.898438 157.875 354.898438 154.273438 C 354.898438 150.671875 360.300781 150.671875 360.300781 154.273438 \"/>\n",
       "<path style=\"fill:none;stroke-width:0.75;stroke-linecap:round;stroke-linejoin:round;stroke:rgb(0%,0%,0%);stroke-opacity:1;stroke-miterlimit:10;\" d=\"M 332.101563 181.429688 C 332.101563 185.03125 326.699219 185.03125 326.699219 181.429688 C 326.699219 177.832031 332.101563 177.832031 332.101563 181.429688 \"/>\n",
       "<path style=\"fill:none;stroke-width:0.75;stroke-linecap:round;stroke-linejoin:round;stroke:rgb(0%,0%,0%);stroke-opacity:1;stroke-miterlimit:10;\" d=\"M 273.300781 240.273438 C 273.300781 243.875 267.898438 243.875 267.898438 240.273438 C 267.898438 236.671875 273.300781 236.671875 273.300781 240.273438 \"/>\n",
       "<path style=\"fill:none;stroke-width:0.75;stroke-linecap:round;stroke-linejoin:round;stroke:rgb(0%,0%,0%);stroke-opacity:1;stroke-miterlimit:10;\" d=\"M 288.300781 213.117188 C 288.300781 216.714844 282.898438 216.714844 282.898438 213.117188 C 282.898438 209.515625 288.300781 209.515625 288.300781 213.117188 \"/>\n",
       "<path style=\"fill:none;stroke-width:0.75;stroke-linecap:round;stroke-linejoin:round;stroke:rgb(0%,0%,0%);stroke-opacity:1;stroke-miterlimit:10;\" d=\"M 195.898438 299.117188 C 195.898438 302.714844 190.5 302.714844 190.5 299.117188 C 190.5 295.515625 195.898438 295.515625 195.898438 299.117188 \"/>\n",
       "<path style=\"fill:none;stroke-width:0.75;stroke-linecap:round;stroke-linejoin:round;stroke:rgb(0%,0%,0%);stroke-opacity:1;stroke-miterlimit:10;\" d=\"M 146.699219 339.851563 C 146.699219 343.453125 141.300781 343.453125 141.300781 339.851563 C 141.300781 336.253906 146.699219 336.253906 146.699219 339.851563 \"/>\n",
       "<path style=\"fill:none;stroke-width:0.75;stroke-linecap:round;stroke-linejoin:round;stroke:rgb(0%,0%,0%);stroke-opacity:1;stroke-miterlimit:10;\" d=\"M 271.5 226.695313 C 271.5 230.292969 266.101563 230.292969 266.101563 226.695313 C 266.101563 223.09375 271.5 223.09375 271.5 226.695313 \"/>\n",
       "<path style=\"fill:none;stroke-width:0.75;stroke-linecap:round;stroke-linejoin:round;stroke:rgb(0%,0%,0%);stroke-opacity:1;stroke-miterlimit:10;\" d=\"M 300.898438 235.746094 C 300.898438 239.347656 295.5 239.347656 295.5 235.746094 C 295.5 232.148438 300.898438 232.148438 300.898438 235.746094 \"/>\n",
       "<path style=\"fill:none;stroke-width:0.75;stroke-linecap:round;stroke-linejoin:round;stroke:rgb(0%,0%,0%);stroke-opacity:1;stroke-miterlimit:10;\" d=\"M 311.101563 240.273438 C 311.101563 243.875 305.699219 243.875 305.699219 240.273438 C 305.699219 236.671875 311.101563 236.671875 311.101563 240.273438 \"/>\n",
       "<path style=\"fill:none;stroke-width:0.75;stroke-linecap:round;stroke-linejoin:round;stroke:rgb(0%,0%,0%);stroke-opacity:1;stroke-miterlimit:10;\" d=\"M 311.101563 199.535156 C 311.101563 203.136719 305.699219 203.136719 305.699219 199.535156 C 305.699219 195.9375 311.101563 195.9375 311.101563 199.535156 \"/>\n",
       "<path style=\"fill:none;stroke-width:0.75;stroke-linecap:round;stroke-linejoin:round;stroke:rgb(0%,0%,0%);stroke-opacity:1;stroke-miterlimit:10;\" d=\"M 151.5 357.957031 C 151.5 361.558594 146.101563 361.558594 146.101563 357.957031 C 146.101563 354.359375 151.5 354.359375 151.5 357.957031 \"/>\n",
       "<path style=\"fill:none;stroke-width:0.75;stroke-linecap:round;stroke-linejoin:round;stroke:rgb(0%,0%,0%);stroke-opacity:1;stroke-miterlimit:10;\" d=\"M 367.5 149.746094 C 367.5 153.347656 362.101563 153.347656 362.101563 149.746094 C 362.101563 146.148438 367.5 146.148438 367.5 149.746094 \"/>\n",
       "<path style=\"fill:none;stroke-width:0.75;stroke-linecap:round;stroke-linejoin:round;stroke:rgb(0%,0%,0%);stroke-opacity:1;stroke-miterlimit:10;\" d=\"M 312.300781 181.429688 C 312.300781 185.03125 306.898438 185.03125 306.898438 181.429688 C 306.898438 177.832031 312.300781 177.832031 312.300781 181.429688 \"/>\n",
       "<path style=\"fill:none;stroke-width:0.75;stroke-linecap:round;stroke-linejoin:round;stroke:rgb(0%,0%,0%);stroke-opacity:1;stroke-miterlimit:10;\" d=\"M 291.898438 235.746094 C 291.898438 239.347656 286.5 239.347656 286.5 235.746094 C 286.5 232.148438 291.898438 232.148438 291.898438 235.746094 \"/>\n",
       "<path style=\"fill:none;stroke-width:0.75;stroke-linecap:round;stroke-linejoin:round;stroke:rgb(0%,0%,0%);stroke-opacity:1;stroke-miterlimit:10;\" d=\"M 317.101563 190.484375 C 317.101563 194.085938 311.699219 194.085938 311.699219 190.484375 C 311.699219 186.882813 317.101563 186.882813 317.101563 190.484375 \"/>\n",
       "<path style=\"fill:none;stroke-width:0.75;stroke-linecap:round;stroke-linejoin:round;stroke:rgb(0%,0%,0%);stroke-opacity:1;stroke-miterlimit:10;\" d=\"M 313.5 176.90625 C 313.5 180.503906 308.101563 180.503906 308.101563 176.90625 C 308.101563 173.304688 313.5 173.304688 313.5 176.90625 \"/>\n",
       "<path style=\"fill:none;stroke-width:0.75;stroke-linecap:round;stroke-linejoin:round;stroke:rgb(0%,0%,0%);stroke-opacity:1;stroke-miterlimit:10;\" d=\"M 182.699219 317.222656 C 182.699219 320.820313 177.300781 320.820313 177.300781 317.222656 C 177.300781 313.621094 182.699219 313.621094 182.699219 317.222656 \"/>\n",
       "<path style=\"fill:none;stroke-width:0.75;stroke-linecap:round;stroke-linejoin:round;stroke:rgb(0%,0%,0%);stroke-opacity:1;stroke-miterlimit:10;\" d=\"M 289.5 208.589844 C 289.5 212.191406 284.101563 212.191406 284.101563 208.589844 C 284.101563 204.988281 289.5 204.988281 289.5 208.589844 \"/>\n",
       "<path style=\"fill:none;stroke-width:0.75;stroke-linecap:round;stroke-linejoin:round;stroke:rgb(0%,0%,0%);stroke-opacity:1;stroke-miterlimit:10;\" d=\"M 252.898438 253.851563 C 252.898438 257.453125 247.5 257.453125 247.5 253.851563 C 247.5 250.253906 252.898438 250.253906 252.898438 253.851563 \"/>\n",
       "<path style=\"fill:none;stroke-width:0.75;stroke-linecap:round;stroke-linejoin:round;stroke:rgb(0%,0%,0%);stroke-opacity:1;stroke-miterlimit:10;\" d=\"M 270.898438 226.695313 C 270.898438 230.292969 265.5 230.292969 265.5 226.695313 C 265.5 223.09375 270.898438 223.09375 270.898438 226.695313 \"/>\n",
       "<path style=\"fill:none;stroke-width:0.75;stroke-linecap:round;stroke-linejoin:round;stroke:rgb(0%,0%,0%);stroke-opacity:1;stroke-miterlimit:10;\" d=\"M 359.101563 172.378906 C 359.101563 175.980469 353.699219 175.980469 353.699219 172.378906 C 353.699219 168.777344 359.101563 168.777344 359.101563 172.378906 \"/>\n",
       "<path style=\"fill:none;stroke-width:0.75;stroke-linecap:round;stroke-linejoin:round;stroke:rgb(0%,0%,0%);stroke-opacity:1;stroke-miterlimit:10;\" d=\"M 308.101563 208.589844 C 308.101563 212.191406 302.699219 212.191406 302.699219 208.589844 C 302.699219 204.988281 308.101563 204.988281 308.101563 208.589844 \"/>\n",
       "<path style=\"fill:none;stroke-width:0.75;stroke-linecap:round;stroke-linejoin:round;stroke:rgb(0%,0%,0%);stroke-opacity:1;stroke-miterlimit:10;\" d=\"M 235.5 240.273438 C 235.5 243.875 230.101563 243.875 230.101563 240.273438 C 230.101563 236.671875 235.5 236.671875 235.5 240.273438 \"/>\n",
       "<path style=\"fill:none;stroke-width:0.75;stroke-linecap:round;stroke-linejoin:round;stroke:rgb(0%,0%,0%);stroke-opacity:1;stroke-miterlimit:10;\" d=\"M 273.898438 240.273438 C 273.898438 243.875 268.5 243.875 268.5 240.273438 C 268.5 236.671875 273.898438 236.671875 273.898438 240.273438 \"/>\n",
       "<path style=\"fill:none;stroke-width:0.75;stroke-linecap:round;stroke-linejoin:round;stroke:rgb(0%,0%,0%);stroke-opacity:1;stroke-miterlimit:10;\" d=\"M 170.101563 299.117188 C 170.101563 302.714844 164.699219 302.714844 164.699219 299.117188 C 164.699219 295.515625 170.101563 295.515625 170.101563 299.117188 \"/>\n",
       "<path style=\"fill:none;stroke-width:0.75;stroke-linecap:round;stroke-linejoin:round;stroke:rgb(0%,0%,0%);stroke-opacity:1;stroke-miterlimit:10;\" d=\"M 222.300781 267.429688 C 222.300781 271.03125 216.898438 271.03125 216.898438 267.429688 C 216.898438 263.832031 222.300781 263.832031 222.300781 267.429688 \"/>\n",
       "<path style=\"fill:none;stroke-width:0.75;stroke-linecap:round;stroke-linejoin:round;stroke:rgb(0%,0%,0%);stroke-opacity:1;stroke-miterlimit:10;\" d=\"M 237.898438 281.011719 C 237.898438 284.609375 232.5 284.609375 232.5 281.011719 C 232.5 277.410156 237.898438 277.410156 237.898438 281.011719 \"/>\n",
       "<path style=\"fill:none;stroke-width:0.75;stroke-linecap:round;stroke-linejoin:round;stroke:rgb(0%,0%,0%);stroke-opacity:1;stroke-miterlimit:10;\" d=\"M 329.699219 149.746094 C 329.699219 153.347656 324.300781 153.347656 324.300781 149.746094 C 324.300781 146.148438 329.699219 146.148438 329.699219 149.746094 \"/>\n",
       "<path style=\"fill:none;stroke-width:0.75;stroke-linecap:round;stroke-linejoin:round;stroke:rgb(0%,0%,0%);stroke-opacity:1;stroke-miterlimit:10;\" d=\"M 374.699219 185.957031 C 374.699219 189.558594 369.300781 189.558594 369.300781 185.957031 C 369.300781 182.359375 374.699219 182.359375 374.699219 185.957031 \"/>\n",
       "<path style=\"fill:none;stroke-width:0.75;stroke-linecap:round;stroke-linejoin:round;stroke:rgb(0%,0%,0%);stroke-opacity:1;stroke-miterlimit:10;\" d=\"M 320.101563 217.640625 C 320.101563 221.242188 314.699219 221.242188 314.699219 217.640625 C 314.699219 214.042969 320.101563 214.042969 320.101563 217.640625 \"/>\n",
       "<path style=\"fill:none;stroke-width:0.75;stroke-linecap:round;stroke-linejoin:round;stroke:rgb(0%,0%,0%);stroke-opacity:1;stroke-miterlimit:10;\" d=\"M 111.898438 367.011719 C 111.898438 370.609375 106.5 370.609375 106.5 367.011719 C 106.5 363.410156 111.898438 363.410156 111.898438 367.011719 \"/>\n",
       "<path style=\"fill:none;stroke-width:0.75;stroke-linecap:round;stroke-linejoin:round;stroke:rgb(0%,0%,0%);stroke-opacity:1;stroke-miterlimit:10;\" d=\"M 375.898438 127.117188 C 375.898438 130.714844 370.5 130.714844 370.5 127.117188 C 370.5 123.515625 375.898438 123.515625 375.898438 127.117188 \"/>\n",
       "<path style=\"fill:none;stroke-width:0.75;stroke-linecap:round;stroke-linejoin:round;stroke:rgb(0%,0%,0%);stroke-opacity:1;stroke-miterlimit:10;\" d=\"M 314.101563 204.0625 C 314.101563 207.664063 308.699219 207.664063 308.699219 204.0625 C 308.699219 200.464844 314.101563 200.464844 314.101563 204.0625 \"/>\n",
       "<path style=\"fill:none;stroke-width:0.75;stroke-linecap:round;stroke-linejoin:round;stroke:rgb(0%,0%,0%);stroke-opacity:1;stroke-miterlimit:10;\" d=\"M 258.898438 262.90625 C 258.898438 266.503906 253.5 266.503906 253.5 262.90625 C 253.5 259.304688 258.898438 259.304688 258.898438 262.90625 \"/>\n",
       "<path style=\"fill:none;stroke-width:0.75;stroke-linecap:round;stroke-linejoin:round;stroke:rgb(0%,0%,0%);stroke-opacity:1;stroke-miterlimit:10;\" d=\"M 326.101563 199.535156 C 326.101563 203.136719 320.699219 203.136719 320.699219 199.535156 C 320.699219 195.9375 326.101563 195.9375 326.101563 199.535156 \"/>\n",
       "<path style=\"fill:none;stroke-width:0.75;stroke-linecap:round;stroke-linejoin:round;stroke:rgb(0%,0%,0%);stroke-opacity:1;stroke-miterlimit:10;\" d=\"M 347.101563 176.90625 C 347.101563 180.503906 341.699219 180.503906 341.699219 176.90625 C 341.699219 173.304688 347.101563 173.304688 347.101563 176.90625 \"/>\n",
       "<path style=\"fill:none;stroke-width:0.75;stroke-linecap:round;stroke-linejoin:round;stroke:rgb(0%,0%,0%);stroke-opacity:1;stroke-miterlimit:10;\" d=\"M 135.300781 344.378906 C 135.300781 347.980469 129.898438 347.980469 129.898438 344.378906 C 129.898438 340.777344 135.300781 340.777344 135.300781 344.378906 \"/>\n",
       "<path style=\"fill:none;stroke-width:0.75;stroke-linecap:round;stroke-linejoin:round;stroke:rgb(0%,0%,0%);stroke-opacity:1;stroke-miterlimit:10;\" d=\"M 258.898438 249.328125 C 258.898438 252.925781 253.5 252.925781 253.5 249.328125 C 253.5 245.726563 258.898438 245.726563 258.898438 249.328125 \"/>\n",
       "<path style=\"fill:none;stroke-width:0.75;stroke-linecap:round;stroke-linejoin:round;stroke:rgb(0%,0%,0%);stroke-opacity:1;stroke-miterlimit:10;\" d=\"M 246.300781 253.851563 C 246.300781 257.453125 240.898438 257.453125 240.898438 253.851563 C 240.898438 250.253906 246.300781 250.253906 246.300781 253.851563 \"/>\n",
       "<path style=\"fill:none;stroke-width:0.75;stroke-linecap:round;stroke-linejoin:round;stroke:rgb(0%,0%,0%);stroke-opacity:1;stroke-miterlimit:10;\" d=\"M 158.699219 330.800781 C 158.699219 334.398438 153.300781 334.398438 153.300781 330.800781 C 153.300781 327.199219 158.699219 327.199219 158.699219 330.800781 \"/>\n",
       "<path style=\"fill:none;stroke-width:0.75;stroke-linecap:round;stroke-linejoin:round;stroke:rgb(0%,0%,0%);stroke-opacity:1;stroke-miterlimit:10;\" d=\"M 305.101563 213.117188 C 305.101563 216.714844 299.699219 216.714844 299.699219 213.117188 C 299.699219 209.515625 305.101563 209.515625 305.101563 213.117188 \"/>\n",
       "<path style=\"fill:none;stroke-width:0.75;stroke-linecap:round;stroke-linejoin:round;stroke:rgb(0%,0%,0%);stroke-opacity:1;stroke-miterlimit:10;\" d=\"M 345.898438 154.273438 C 345.898438 157.875 340.5 157.875 340.5 154.273438 C 340.5 150.671875 345.898438 150.671875 345.898438 154.273438 \"/>\n",
       "<path style=\"fill:none;stroke-width:0.75;stroke-linecap:round;stroke-linejoin:round;stroke:rgb(0%,0%,0%);stroke-opacity:1;stroke-miterlimit:10;\" d=\"M 237.898438 235.746094 C 237.898438 239.347656 232.5 239.347656 232.5 235.746094 C 232.5 232.148438 237.898438 232.148438 237.898438 235.746094 \"/>\n",
       "<path style=\"fill:none;stroke-width:0.75;stroke-linecap:round;stroke-linejoin:round;stroke:rgb(0%,0%,0%);stroke-opacity:1;stroke-miterlimit:10;\" d=\"M 315.300781 213.117188 C 315.300781 216.714844 309.898438 216.714844 309.898438 213.117188 C 309.898438 209.515625 315.300781 209.515625 315.300781 213.117188 \"/>\n",
       "<path style=\"fill:none;stroke-width:0.75;stroke-linecap:round;stroke-linejoin:round;stroke:rgb(0%,0%,0%);stroke-opacity:1;stroke-miterlimit:10;\" d=\"M 200.699219 308.167969 C 200.699219 311.769531 195.300781 311.769531 195.300781 308.167969 C 195.300781 304.570313 200.699219 304.570313 200.699219 308.167969 \"/>\n",
       "<path style=\"fill:none;stroke-width:0.75;stroke-linecap:round;stroke-linejoin:round;stroke:rgb(0%,0%,0%);stroke-opacity:1;stroke-miterlimit:10;\" d=\"M 220.5 271.957031 C 220.5 275.558594 215.101563 275.558594 215.101563 271.957031 C 215.101563 268.359375 220.5 268.359375 220.5 271.957031 \"/>\n",
       "<path style=\"fill:none;stroke-width:0.75;stroke-linecap:round;stroke-linejoin:round;stroke:rgb(0%,0%,0%);stroke-opacity:1;stroke-miterlimit:10;\" d=\"M 282.898438 208.589844 C 282.898438 212.191406 277.5 212.191406 277.5 208.589844 C 277.5 204.988281 282.898438 204.988281 282.898438 208.589844 \"/>\n",
       "<path style=\"fill:none;stroke-width:0.75;stroke-linecap:round;stroke-linejoin:round;stroke:rgb(0%,0%,0%);stroke-opacity:1;stroke-miterlimit:10;\" d=\"M 362.699219 136.167969 C 362.699219 139.769531 357.300781 139.769531 357.300781 136.167969 C 357.300781 132.570313 362.699219 132.570313 362.699219 136.167969 \"/>\n",
       "<path style=\"fill:none;stroke-width:0.75;stroke-linecap:round;stroke-linejoin:round;stroke:rgb(0%,0%,0%);stroke-opacity:1;stroke-miterlimit:10;\" d=\"M 326.699219 185.957031 C 326.699219 189.558594 321.300781 189.558594 321.300781 185.957031 C 321.300781 182.359375 326.699219 182.359375 326.699219 185.957031 \"/>\n",
       "<path style=\"fill:none;stroke-width:0.75;stroke-linecap:round;stroke-linejoin:round;stroke:rgb(0%,0%,0%);stroke-opacity:1;stroke-miterlimit:10;\" d=\"M 314.699219 208.589844 C 314.699219 212.191406 309.300781 212.191406 309.300781 208.589844 C 309.300781 204.988281 314.699219 204.988281 314.699219 208.589844 \"/>\n",
       "<path style=\"fill:none;stroke-width:0.75;stroke-linecap:round;stroke-linejoin:round;stroke:rgb(0%,0%,0%);stroke-opacity:1;stroke-miterlimit:10;\" d=\"M 77.101563 416.800781 C 77.101563 420.398438 71.699219 420.398438 71.699219 416.800781 C 71.699219 413.199219 77.101563 413.199219 77.101563 416.800781 \"/>\n",
       "<path style=\"fill:none;stroke-width:0.75;stroke-linecap:round;stroke-linejoin:round;stroke:rgb(0%,0%,0%);stroke-opacity:1;stroke-miterlimit:10;\" d=\"M 357.898438 163.328125 C 357.898438 166.925781 352.5 166.925781 352.5 163.328125 C 352.5 159.726563 357.898438 159.726563 357.898438 163.328125 \"/>\n",
       "<path style=\"fill:none;stroke-width:0.75;stroke-linecap:round;stroke-linejoin:round;stroke:rgb(0%,0%,0%);stroke-opacity:1;stroke-miterlimit:10;\" d=\"M 243.300781 231.222656 C 243.300781 234.820313 237.898438 234.820313 237.898438 231.222656 C 237.898438 227.621094 243.300781 227.621094 243.300781 231.222656 \"/>\n",
       "<path style=\"fill:none;stroke-width:0.75;stroke-linecap:round;stroke-linejoin:round;stroke:rgb(0%,0%,0%);stroke-opacity:1;stroke-miterlimit:10;\" d=\"M 323.699219 176.90625 C 323.699219 180.503906 318.300781 180.503906 318.300781 176.90625 C 318.300781 173.304688 323.699219 173.304688 323.699219 176.90625 \"/>\n",
       "<path style=\"fill:none;stroke-width:0.75;stroke-linecap:round;stroke-linejoin:round;stroke:rgb(0%,0%,0%);stroke-opacity:1;stroke-miterlimit:10;\" d=\"M 388.5 131.640625 C 388.5 135.242188 383.101563 135.242188 383.101563 131.640625 C 383.101563 128.042969 388.5 128.042969 388.5 131.640625 \"/>\n",
       "<path style=\"fill:none;stroke-width:0.75;stroke-linecap:round;stroke-linejoin:round;stroke:rgb(0%,0%,0%);stroke-opacity:1;stroke-miterlimit:10;\" d=\"M 341.699219 217.640625 C 341.699219 221.242188 336.300781 221.242188 336.300781 217.640625 C 336.300781 214.042969 341.699219 214.042969 341.699219 217.640625 \"/>\n",
       "<path style=\"fill:none;stroke-width:0.75;stroke-linecap:round;stroke-linejoin:round;stroke:rgb(0%,0%,0%);stroke-opacity:1;stroke-miterlimit:10;\" d=\"M 205.5 326.273438 C 205.5 329.875 200.101563 329.875 200.101563 326.273438 C 200.101563 322.671875 205.5 322.671875 205.5 326.273438 \"/>\n",
       "</g>\n",
       "<path style=\"fill:none;stroke-width:0.75;stroke-linecap:round;stroke-linejoin:round;stroke:rgb(0%,0%,0%);stroke-opacity:1;stroke-miterlimit:10;\" d=\"M 93 430.558594 L 453 430.558594 \"/>\n",
       "<path style=\"fill:none;stroke-width:0.75;stroke-linecap:round;stroke-linejoin:round;stroke:rgb(0%,0%,0%);stroke-opacity:1;stroke-miterlimit:10;\" d=\"M 93 430.558594 L 93 437.761719 \"/>\n",
       "<path style=\"fill:none;stroke-width:0.75;stroke-linecap:round;stroke-linejoin:round;stroke:rgb(0%,0%,0%);stroke-opacity:1;stroke-miterlimit:10;\" d=\"M 153 430.558594 L 153 437.761719 \"/>\n",
       "<path style=\"fill:none;stroke-width:0.75;stroke-linecap:round;stroke-linejoin:round;stroke:rgb(0%,0%,0%);stroke-opacity:1;stroke-miterlimit:10;\" d=\"M 213 430.558594 L 213 437.761719 \"/>\n",
       "<path style=\"fill:none;stroke-width:0.75;stroke-linecap:round;stroke-linejoin:round;stroke:rgb(0%,0%,0%);stroke-opacity:1;stroke-miterlimit:10;\" d=\"M 273 430.558594 L 273 437.761719 \"/>\n",
       "<path style=\"fill:none;stroke-width:0.75;stroke-linecap:round;stroke-linejoin:round;stroke:rgb(0%,0%,0%);stroke-opacity:1;stroke-miterlimit:10;\" d=\"M 333 430.558594 L 333 437.761719 \"/>\n",
       "<path style=\"fill:none;stroke-width:0.75;stroke-linecap:round;stroke-linejoin:round;stroke:rgb(0%,0%,0%);stroke-opacity:1;stroke-miterlimit:10;\" d=\"M 393 430.558594 L 393 437.761719 \"/>\n",
       "<path style=\"fill:none;stroke-width:0.75;stroke-linecap:round;stroke-linejoin:round;stroke:rgb(0%,0%,0%);stroke-opacity:1;stroke-miterlimit:10;\" d=\"M 453 430.558594 L 453 437.761719 \"/>\n",
       "<g style=\"fill:rgb(0%,0%,0%);fill-opacity:1;\">\n",
       "  <use xlink:href=\"#glyph0-0\" x=\"80.992188\" y=\"456.480469\"/>\n",
       "  <use xlink:href=\"#glyph0-1\" x=\"84.988281\" y=\"456.480469\"/>\n",
       "  <use xlink:href=\"#glyph0-2\" x=\"91.662109\" y=\"456.480469\"/>\n",
       "  <use xlink:href=\"#glyph0-2\" x=\"98.335938\" y=\"456.480469\"/>\n",
       "</g>\n",
       "<g style=\"fill:rgb(0%,0%,0%);fill-opacity:1;\">\n",
       "  <use xlink:href=\"#glyph0-0\" x=\"140.992188\" y=\"456.480469\"/>\n",
       "  <use xlink:href=\"#glyph0-3\" x=\"144.988281\" y=\"456.480469\"/>\n",
       "  <use xlink:href=\"#glyph0-2\" x=\"151.662109\" y=\"456.480469\"/>\n",
       "  <use xlink:href=\"#glyph0-2\" x=\"158.335938\" y=\"456.480469\"/>\n",
       "</g>\n",
       "<g style=\"fill:rgb(0%,0%,0%);fill-opacity:1;\">\n",
       "  <use xlink:href=\"#glyph0-0\" x=\"200.992188\" y=\"456.480469\"/>\n",
       "  <use xlink:href=\"#glyph0-4\" x=\"204.988281\" y=\"456.480469\"/>\n",
       "  <use xlink:href=\"#glyph0-2\" x=\"211.662109\" y=\"456.480469\"/>\n",
       "  <use xlink:href=\"#glyph0-2\" x=\"218.335938\" y=\"456.480469\"/>\n",
       "</g>\n",
       "<g style=\"fill:rgb(0%,0%,0%);fill-opacity:1;\">\n",
       "  <use xlink:href=\"#glyph0-2\" x=\"269.664063\" y=\"456.480469\"/>\n",
       "</g>\n",
       "<g style=\"fill:rgb(0%,0%,0%);fill-opacity:1;\">\n",
       "  <use xlink:href=\"#glyph0-4\" x=\"322.988281\" y=\"456.480469\"/>\n",
       "  <use xlink:href=\"#glyph0-2\" x=\"329.662109\" y=\"456.480469\"/>\n",
       "  <use xlink:href=\"#glyph0-2\" x=\"336.335938\" y=\"456.480469\"/>\n",
       "</g>\n",
       "<g style=\"fill:rgb(0%,0%,0%);fill-opacity:1;\">\n",
       "  <use xlink:href=\"#glyph0-3\" x=\"382.988281\" y=\"456.480469\"/>\n",
       "  <use xlink:href=\"#glyph0-2\" x=\"389.662109\" y=\"456.480469\"/>\n",
       "  <use xlink:href=\"#glyph0-2\" x=\"396.335938\" y=\"456.480469\"/>\n",
       "</g>\n",
       "<g style=\"fill:rgb(0%,0%,0%);fill-opacity:1;\">\n",
       "  <use xlink:href=\"#glyph0-1\" x=\"442.988281\" y=\"456.480469\"/>\n",
       "  <use xlink:href=\"#glyph0-2\" x=\"449.662109\" y=\"456.480469\"/>\n",
       "  <use xlink:href=\"#glyph0-2\" x=\"456.335938\" y=\"456.480469\"/>\n",
       "</g>\n",
       "<path style=\"fill:none;stroke-width:0.75;stroke-linecap:round;stroke-linejoin:round;stroke:rgb(0%,0%,0%);stroke-opacity:1;stroke-miterlimit:10;\" d=\"M 59.039063 416.800781 L 59.039063 145.222656 \"/>\n",
       "<path style=\"fill:none;stroke-width:0.75;stroke-linecap:round;stroke-linejoin:round;stroke:rgb(0%,0%,0%);stroke-opacity:1;stroke-miterlimit:10;\" d=\"M 59.039063 416.800781 L 51.839844 416.800781 \"/>\n",
       "<path style=\"fill:none;stroke-width:0.75;stroke-linecap:round;stroke-linejoin:round;stroke:rgb(0%,0%,0%);stroke-opacity:1;stroke-miterlimit:10;\" d=\"M 59.039063 326.273438 L 51.839844 326.273438 \"/>\n",
       "<path style=\"fill:none;stroke-width:0.75;stroke-linecap:round;stroke-linejoin:round;stroke:rgb(0%,0%,0%);stroke-opacity:1;stroke-miterlimit:10;\" d=\"M 59.039063 235.746094 L 51.839844 235.746094 \"/>\n",
       "<path style=\"fill:none;stroke-width:0.75;stroke-linecap:round;stroke-linejoin:round;stroke:rgb(0%,0%,0%);stroke-opacity:1;stroke-miterlimit:10;\" d=\"M 59.039063 145.222656 L 51.839844 145.222656 \"/>\n",
       "<g style=\"fill:rgb(0%,0%,0%);fill-opacity:1;\">\n",
       "  <use xlink:href=\"#glyph1-0\" x=\"41.761719\" y=\"423.472656\"/>\n",
       "  <use xlink:href=\"#glyph1-1\" x=\"41.761719\" y=\"416.798828\"/>\n",
       "</g>\n",
       "<g style=\"fill:rgb(0%,0%,0%);fill-opacity:1;\">\n",
       "  <use xlink:href=\"#glyph1-2\" x=\"41.761719\" y=\"332.945313\"/>\n",
       "  <use xlink:href=\"#glyph1-1\" x=\"41.761719\" y=\"326.271484\"/>\n",
       "</g>\n",
       "<g style=\"fill:rgb(0%,0%,0%);fill-opacity:1;\">\n",
       "  <use xlink:href=\"#glyph1-3\" x=\"41.761719\" y=\"242.417969\"/>\n",
       "  <use xlink:href=\"#glyph1-1\" x=\"41.761719\" y=\"235.744141\"/>\n",
       "</g>\n",
       "<g style=\"fill:rgb(0%,0%,0%);fill-opacity:1;\">\n",
       "  <use xlink:href=\"#glyph1-4\" x=\"41.761719\" y=\"155.234375\"/>\n",
       "  <use xlink:href=\"#glyph1-1\" x=\"41.761719\" y=\"148.560547\"/>\n",
       "  <use xlink:href=\"#glyph1-1\" x=\"41.761719\" y=\"141.886719\"/>\n",
       "</g>\n",
       "<path style=\"fill:none;stroke-width:0.75;stroke-linecap:round;stroke-linejoin:round;stroke:rgb(0%,0%,0%);stroke-opacity:1;stroke-miterlimit:10;\" d=\"M 59.039063 430.558594 L 473.761719 430.558594 L 473.761719 59.039063 L 59.039063 59.039063 L 59.039063 430.558594 \"/>\n",
       "<g style=\"fill:rgb(0%,0%,0%);fill-opacity:1;\">\n",
       "  <use xlink:href=\"#glyph0-5\" x=\"227.046875\" y=\"485.28125\"/>\n",
       "  <use xlink:href=\"#glyph0-6\" x=\"237.042969\" y=\"485.28125\"/>\n",
       "  <use xlink:href=\"#glyph0-7\" x=\"243.716797\" y=\"485.28125\"/>\n",
       "  <use xlink:href=\"#glyph0-8\" x=\"250.390625\" y=\"485.28125\"/>\n",
       "  <use xlink:href=\"#glyph0-9\" x=\"257.064453\" y=\"485.28125\"/>\n",
       "  <use xlink:href=\"#glyph0-10\" x=\"263.064453\" y=\"485.28125\"/>\n",
       "  <use xlink:href=\"#glyph0-11\" x=\"269.738281\" y=\"485.28125\"/>\n",
       "  <use xlink:href=\"#glyph0-12\" x=\"276.412109\" y=\"485.28125\"/>\n",
       "  <use xlink:href=\"#glyph0-12\" x=\"279.078125\" y=\"485.28125\"/>\n",
       "  <use xlink:href=\"#glyph0-13\" x=\"281.744141\" y=\"485.28125\"/>\n",
       "  <use xlink:href=\"#glyph0-14\" x=\"288.417969\" y=\"485.28125\"/>\n",
       "  <use xlink:href=\"#glyph0-15\" x=\"297.083984\" y=\"485.28125\"/>\n",
       "</g>\n",
       "<g style=\"fill:rgb(0%,0%,0%);fill-opacity:1;\">\n",
       "  <use xlink:href=\"#glyph1-5\" x=\"12.960938\" y=\"281.148438\"/>\n",
       "  <use xlink:href=\"#glyph1-6\" x=\"12.960938\" y=\"271.152344\"/>\n",
       "  <use xlink:href=\"#glyph1-7\" x=\"12.960938\" y=\"264.478516\"/>\n",
       "  <use xlink:href=\"#glyph1-8\" x=\"12.960938\" y=\"257.804688\"/>\n",
       "  <use xlink:href=\"#glyph1-9\" x=\"12.960938\" y=\"251.130859\"/>\n",
       "  <use xlink:href=\"#glyph1-10\" x=\"12.960938\" y=\"245.130859\"/>\n",
       "  <use xlink:href=\"#glyph1-11\" x=\"12.960938\" y=\"238.457031\"/>\n",
       "  <use xlink:href=\"#glyph1-12\" x=\"12.960938\" y=\"231.783203\"/>\n",
       "  <use xlink:href=\"#glyph1-12\" x=\"12.960938\" y=\"229.117188\"/>\n",
       "  <use xlink:href=\"#glyph1-13\" x=\"12.960938\" y=\"226.451172\"/>\n",
       "  <use xlink:href=\"#glyph1-14\" x=\"12.960938\" y=\"219.777344\"/>\n",
       "</g>\n",
       "</g>\n",
       "</svg>\n"
      ],
      "text/plain": [
       "plot without title"
      ]
     },
     "metadata": {
      "image/svg+xml": {
       "isolated": true
      }
     },
     "output_type": "display_data"
    }
   ],
   "source": [
    "plot(moneyball$RD, moneyball$W)"
   ]
  },
  {
   "cell_type": "code",
   "execution_count": 11,
   "metadata": {
    "collapsed": true
   },
   "outputs": [],
   "source": [
    "# #Suggests a strong correlation between Runs Difference and Wins"
   ]
  },
  {
   "cell_type": "code",
   "execution_count": null,
   "metadata": {
    "collapsed": true
   },
   "outputs": [],
   "source": []
  },
  {
   "cell_type": "code",
   "execution_count": null,
   "metadata": {
    "collapsed": true
   },
   "outputs": [],
   "source": []
  },
  {
   "cell_type": "code",
   "execution_count": 12,
   "metadata": {
    "collapsed": true
   },
   "outputs": [],
   "source": [
    "# #Linear Regression\n",
    "WinReg = lm(moneyball$W ~ moneyball$RD, data = moneyball)"
   ]
  },
  {
   "cell_type": "code",
   "execution_count": 14,
   "metadata": {
    "collapsed": false
   },
   "outputs": [
    {
     "data": {
      "text/plain": [
       "\n",
       "Call:\n",
       "lm(formula = moneyball$W ~ moneyball$RD, data = moneyball)\n",
       "\n",
       "Residuals:\n",
       "     Min       1Q   Median       3Q      Max \n",
       "-14.2662  -2.6509   0.1234   2.9364  11.6570 \n",
       "\n",
       "Coefficients:\n",
       "              Estimate Std. Error t value Pr(>|t|)    \n",
       "(Intercept)  80.881375   0.131157  616.67   <2e-16 ***\n",
       "moneyball$RD  0.105766   0.001297   81.55   <2e-16 ***\n",
       "---\n",
       "Signif. codes:  0 '***' 0.001 '**' 0.01 '*' 0.05 '.' 0.1 ' ' 1\n",
       "\n",
       "Residual standard error: 3.939 on 900 degrees of freedom\n",
       "Multiple R-squared:  0.8808,\tAdjusted R-squared:  0.8807 \n",
       "F-statistic:  6651 on 1 and 900 DF,  p-value: < 2.2e-16\n"
      ]
     },
     "execution_count": 14,
     "metadata": {},
     "output_type": "execute_result"
    }
   ],
   "source": [
    "summary(WinReg)"
   ]
  },
  {
   "cell_type": "code",
   "execution_count": 17,
   "metadata": {
    "collapsed": true
   },
   "outputs": [],
   "source": [
    "# #Linear Regression Equation\n",
    "# #moneyball$W ~ 80.881375 + 0.105766*moneyball$RD \n",
    "\n",
    "# #To make it to the Playoffs\n",
    "# #moneyball$W >= 95"
   ]
  },
  {
   "cell_type": "code",
   "execution_count": 18,
   "metadata": {
    "collapsed": false
   },
   "outputs": [
    {
     "data": {
      "text/html": [
       "14.118625"
      ],
      "text/latex": [
       "14.118625"
      ],
      "text/markdown": [
       "14.118625"
      ],
      "text/plain": [
       "[1] 14.11862"
      ]
     },
     "execution_count": 18,
     "metadata": {},
     "output_type": "execute_result"
    }
   ],
   "source": [
    "95 - 80.881375"
   ]
  },
  {
   "cell_type": "code",
   "execution_count": 19,
   "metadata": {
    "collapsed": false
   },
   "outputs": [
    {
     "data": {
      "text/html": [
       "133.489259308284"
      ],
      "text/latex": [
       "133.489259308284"
      ],
      "text/markdown": [
       "133.489259308284"
      ],
      "text/plain": [
       "[1] 133.4893"
      ]
     },
     "execution_count": 19,
     "metadata": {},
     "output_type": "execute_result"
    }
   ],
   "source": [
    "14.118625/0.105766"
   ]
  },
  {
   "cell_type": "code",
   "execution_count": 20,
   "metadata": {
    "collapsed": true
   },
   "outputs": [],
   "source": [
    "# #moneyball$RD >= 133.5\n",
    "# #Then they will make it to the Playoffs"
   ]
  },
  {
   "cell_type": "code",
   "execution_count": 21,
   "metadata": {
    "collapsed": false
   },
   "outputs": [
    {
     "data": {
      "text/html": [
       "<table>\n",
       "<thead><tr><th></th><th scope=col>Team</th><th scope=col>League</th><th scope=col>Year</th><th scope=col>RS</th><th scope=col>RA</th><th scope=col>W</th><th scope=col>OBP</th><th scope=col>SLG</th><th scope=col>BA</th><th scope=col>Playoffs</th><th scope=col>RankSeason</th><th scope=col>RankPlayoffs</th><th scope=col>G</th><th scope=col>OOBP</th><th scope=col>OSLG</th><th scope=col>RD</th></tr></thead>\n",
       "<tbody>\n",
       "\t<tr><th scope=row>331</th><td>ANA</td><td>AL</td><td>2001</td><td>691</td><td>730</td><td>75</td><td>0.327</td><td>0.405</td><td>0.261</td><td>0</td><td>NA</td><td>NA</td><td>162</td><td>0.331</td><td>0.412</td><td>-39</td></tr>\n",
       "\t<tr><th scope=row>332</th><td>ARI</td><td>NL</td><td>2001</td><td>818</td><td>677</td><td>92</td><td>0.341</td><td>0.442</td><td>0.267</td><td>1</td><td>5</td><td>1</td><td>162</td><td>0.311</td><td>0.404</td><td>141</td></tr>\n",
       "\t<tr><th scope=row>333</th><td>ATL</td><td>NL</td><td>2001</td><td>729</td><td>643</td><td>88</td><td>0.324</td><td>0.412</td><td>0.26</td><td>1</td><td>7</td><td>3</td><td>162</td><td>0.314</td><td>0.384</td><td>86</td></tr>\n",
       "\t<tr><th scope=row>334</th><td>BAL</td><td>AL</td><td>2001</td><td>687</td><td>829</td><td>63</td><td>0.319</td><td>0.38</td><td>0.248</td><td>0</td><td>NA</td><td>NA</td><td>162</td><td>0.337</td><td>0.439</td><td>-142</td></tr>\n",
       "\t<tr><th scope=row>335</th><td>BOS</td><td>AL</td><td>2001</td><td>772</td><td>745</td><td>82</td><td>0.334</td><td>0.439</td><td>0.266</td><td>0</td><td>NA</td><td>NA</td><td>161</td><td>0.329</td><td>0.393</td><td>27</td></tr>\n",
       "\t<tr><th scope=row>336</th><td>CHC</td><td>NL</td><td>2001</td><td>777</td><td>701</td><td>88</td><td>0.336</td><td>0.43</td><td>0.261</td><td>0</td><td>NA</td><td>NA</td><td>162</td><td>0.321</td><td>0.398</td><td>76</td></tr>\n",
       "</tbody>\n",
       "</table>\n"
      ],
      "text/latex": [
       "\\begin{tabular}{r|llllllllllllllll}\n",
       "  & Team & League & Year & RS & RA & W & OBP & SLG & BA & Playoffs & RankSeason & RankPlayoffs & G & OOBP & OSLG & RD\\\\\n",
       "\\hline\n",
       "\t331 & ANA & AL & 2001 & 691 & 730 & 75 & 0.327 & 0.405 & 0.261 & 0 & NA & NA & 162 & 0.331 & 0.412 & -39\\\\\n",
       "\t332 & ARI & NL & 2001 & 818 & 677 & 92 & 0.341 & 0.442 & 0.267 & 1 & 5 & 1 & 162 & 0.311 & 0.404 & 141\\\\\n",
       "\t333 & ATL & NL & 2001 & 729 & 643 & 88 & 0.324 & 0.412 & 0.26 & 1 & 7 & 3 & 162 & 0.314 & 0.384 & 86\\\\\n",
       "\t334 & BAL & AL & 2001 & 687 & 829 & 63 & 0.319 & 0.38 & 0.248 & 0 & NA & NA & 162 & 0.337 & 0.439 & -142\\\\\n",
       "\t335 & BOS & AL & 2001 & 772 & 745 & 82 & 0.334 & 0.439 & 0.266 & 0 & NA & NA & 161 & 0.329 & 0.393 & 27\\\\\n",
       "\t336 & CHC & NL & 2001 & 777 & 701 & 88 & 0.336 & 0.43 & 0.261 & 0 & NA & NA & 162 & 0.321 & 0.398 & 76\\\\\n",
       "\\end{tabular}\n"
      ],
      "text/plain": [
       "    Team League Year  RS  RA  W   OBP   SLG    BA Playoffs RankSeason\n",
       "331  ANA     AL 2001 691 730 75 0.327 0.405 0.261        0         NA\n",
       "332  ARI     NL 2001 818 677 92 0.341 0.442 0.267        1          5\n",
       "333  ATL     NL 2001 729 643 88 0.324 0.412 0.260        1          7\n",
       "334  BAL     AL 2001 687 829 63 0.319 0.380 0.248        0         NA\n",
       "335  BOS     AL 2001 772 745 82 0.334 0.439 0.266        0         NA\n",
       "336  CHC     NL 2001 777 701 88 0.336 0.430 0.261        0         NA\n",
       "    RankPlayoffs   G  OOBP  OSLG   RD\n",
       "331           NA 162 0.331 0.412  -39\n",
       "332            1 162 0.311 0.404  141\n",
       "333            3 162 0.314 0.384   86\n",
       "334           NA 162 0.337 0.439 -142\n",
       "335           NA 161 0.329 0.393   27\n",
       "336           NA 162 0.321 0.398   76"
      ]
     },
     "execution_count": 21,
     "metadata": {},
     "output_type": "execute_result"
    }
   ],
   "source": [
    "head(moneyball)"
   ]
  },
  {
   "cell_type": "code",
   "execution_count": 25,
   "metadata": {
    "collapsed": false
   },
   "outputs": [
    {
     "name": "stderr",
     "output_type": "stream",
     "text": [
      "Warning message:\n",
      "In `[<-.factor`(`*tmp*`, ri, value = \"<e2><8b><ae>\"): invalid factor level, NA generatedWarning message:\n",
      "In `[<-.factor`(`*tmp*`, ri, value = \"<e2><8b><ae>\"): invalid factor level, NA generatedWarning message:\n",
      "In `[<-.factor`(`*tmp*`, ri, value = \"<e2><8b><ae>\"): invalid factor level, NA generatedWarning message:\n",
      "In `[<-.factor`(`*tmp*`, ri, value = \"<e2><8b><ae>\"): invalid factor level, NA generated"
     ]
    },
    {
     "data": {
      "text/html": [
       "<table>\n",
       "<thead><tr><th></th><th scope=col>Team</th><th scope=col>League</th><th scope=col>Year</th><th scope=col>RS</th><th scope=col>RA</th><th scope=col>W</th><th scope=col>OBP</th><th scope=col>SLG</th><th scope=col>BA</th><th scope=col>Playoffs</th><th scope=col>RankSeason</th><th scope=col>RankPlayoffs</th><th scope=col>G</th><th scope=col>OOBP</th><th scope=col>OSLG</th><th scope=col>RD</th></tr></thead>\n",
       "<tbody>\n",
       "\t<tr><th scope=row>332</th><td>ARI</td><td>NL</td><td>2001</td><td>818</td><td>677</td><td>92</td><td>0.341</td><td>0.442</td><td>0.267</td><td>1</td><td>5</td><td>1</td><td>162</td><td>0.311</td><td>0.404</td><td>141</td></tr>\n",
       "\t<tr><th scope=row>351</th><td>OAK</td><td>AL</td><td>2001</td><td>884</td><td>645</td><td>102</td><td>0.345</td><td>0.439</td><td>0.264</td><td>1</td><td>2</td><td>4</td><td>162</td><td>0.308</td><td>0.38</td><td>239</td></tr>\n",
       "\t<tr><th scope=row>355</th><td>SEA</td><td>AL</td><td>2001</td><td>927</td><td>627</td><td>116</td><td>0.36</td><td>0.445</td><td>0.288</td><td>1</td><td>1</td><td>3</td><td>162</td><td>0.301</td><td>0.378</td><td>300</td></tr>\n",
       "\t<tr><th scope=row>367</th><td>CHW</td><td>AL</td><td>2000</td><td>978</td><td>839</td><td>95</td><td>0.356</td><td>0.47</td><td>0.286</td><td>1</td><td>2</td><td>4</td><td>162</td><td>0.346</td><td>0.434</td><td>139</td></tr>\n",
       "\t<tr><th scope=row>369</th><td>CLE</td><td>AL</td><td>2000</td><td>950</td><td>816</td><td>90</td><td>0.367</td><td>0.47</td><td>0.288</td><td>0</td><td>NA</td><td>NA</td><td>162</td><td>0.35</td><td>0.425</td><td>134</td></tr>\n",
       "\t<tr><th scope=row>381</th><td>OAK</td><td>AL</td><td>2000</td><td>947</td><td>813</td><td>91</td><td>0.36</td><td>0.458</td><td>0.27</td><td>1</td><td>4</td><td>4</td><td>161</td><td>0.348</td><td>0.423</td><td>134</td></tr>\n",
       "\t<tr><th scope=row>386</th><td>SFG</td><td>NL</td><td>2000</td><td>925</td><td>747</td><td>97</td><td>0.362</td><td>0.472</td><td>0.278</td><td>1</td><td>1</td><td>4</td><td>162</td><td>0.342</td><td>0.412</td><td>178</td></tr>\n",
       "\t<tr><th scope=row>392</th><td>ARI</td><td>NL</td><td>1999</td><td>908</td><td>676</td><td>100</td><td>0.347</td><td>0.459</td><td>0.277</td><td>1</td><td>2</td><td>4</td><td>162</td><td>0.32</td><td>0.402</td><td>232</td></tr>\n",
       "\t<tr><th scope=row>393</th><td>ATL</td><td>NL</td><td>1999</td><td>840</td><td>661</td><td>103</td><td>0.341</td><td>0.436</td><td>0.266</td><td>1</td><td>1</td><td>2</td><td>162</td><td>0.314</td><td>0.377</td><td>179</td></tr>\n",
       "\t<tr><th scope=row>398</th><td>CIN</td><td>NL</td><td>1999</td><td>865</td><td>711</td><td>96</td><td>0.341</td><td>0.451</td><td>0.272</td><td>0</td><td>NA</td><td>NA</td><td>163</td><td>0.324</td><td>0.411</td><td>154</td></tr>\n",
       "\t<tr><th scope=row>399</th><td>CLE</td><td>AL</td><td>1999</td><td>1009</td><td>860</td><td>97</td><td>0.373</td><td>0.467</td><td>0.289</td><td>1</td><td>4</td><td>4</td><td>162</td><td>0.347</td><td>0.439</td><td>149</td></tr>\n",
       "\t<tr><th scope=row>403</th><td>HOU</td><td>NL</td><td>1999</td><td>823</td><td>675</td><td>97</td><td>0.355</td><td>0.42</td><td>0.267</td><td>1</td><td>4</td><td>4</td><td>162</td><td>0.326</td><td>0.397</td><td>148</td></tr>\n",
       "\t<tr><th scope=row>409</th><td>NYM</td><td>NL</td><td>1999</td><td>853</td><td>711</td><td>97</td><td>0.363</td><td>0.434</td><td>0.279</td><td>1</td><td>4</td><td>3</td><td>163</td><td>0.331</td><td>0.418</td><td>142</td></tr>\n",
       "\t<tr><th scope=row>410</th><td>NYY</td><td>AL</td><td>1999</td><td>900</td><td>731</td><td>98</td><td>0.366</td><td>0.453</td><td>0.282</td><td>1</td><td>3</td><td>1</td><td>162</td><td>0.329</td><td>0.4</td><td>169</td></tr>\n",
       "\t<tr><th scope=row>423</th><td>ATL</td><td>NL</td><td>1998</td><td>826</td><td>581</td><td>106</td><td>0.342</td><td>0.453</td><td>0.272</td><td>1</td><td>2</td><td>3</td><td>162</td><td>NA</td><td>NA</td><td>245</td></tr>\n",
       "\t<tr><th scope=row>425</th><td>BOS</td><td>AL</td><td>1998</td><td>876</td><td>729</td><td>92</td><td>0.348</td><td>0.463</td><td>0.28</td><td>1</td><td>5</td><td>4</td><td>162</td><td>NA</td><td>NA</td><td>147</td></tr>\n",
       "\t<tr><th scope=row>433</th><td>HOU</td><td>NL</td><td>1998</td><td>874</td><td>620</td><td>102</td><td>0.356</td><td>0.436</td><td>0.28</td><td>1</td><td>3</td><td>4</td><td>162</td><td>NA</td><td>NA</td><td>254</td></tr>\n",
       "\t<tr><th scope=row>440</th><td>NYY</td><td>AL</td><td>1998</td><td>965</td><td>656</td><td>114</td><td>0.364</td><td>0.46</td><td>0.288</td><td>1</td><td>1</td><td>1</td><td>162</td><td>NA</td><td>NA</td><td>309</td></tr>\n",
       "\t<tr><th scope=row>452</th><td>ATL</td><td>NL</td><td>1997</td><td>791</td><td>581</td><td>101</td><td>0.343</td><td>0.426</td><td>0.27</td><td>1</td><td>1</td><td>3</td><td>162</td><td>NA</td><td>NA</td><td>210</td></tr>\n",
       "\t<tr><th scope=row>469</th><td>NYY</td><td>AL</td><td>1997</td><td>891</td><td>688</td><td>96</td><td>0.362</td><td>0.436</td><td>0.287</td><td>1</td><td>3</td><td>4</td><td>162</td><td>NA</td><td>NA</td><td>203</td></tr>\n",
       "\t<tr><th scope=row>486</th><td>CLE</td><td>AL</td><td>1996</td><td>952</td><td>769</td><td>99</td><td>0.369</td><td>0.475</td><td>0.293</td><td>1</td><td>1</td><td>4</td><td>161</td><td>NA</td><td>NA</td><td>183</td></tr>\n",
       "\t<tr><th scope=row>507</th><td>ATL</td><td>NL</td><td>1993</td><td>767</td><td>559</td><td>104</td><td>0.331</td><td>0.408</td><td>0.262</td><td>1</td><td>1</td><td>3</td><td>162</td><td>NA</td><td>NA</td><td>208</td></tr>\n",
       "\t<tr><th scope=row>527</th><td>PHI</td><td>NL</td><td>1993</td><td>877</td><td>740</td><td>97</td><td>0.351</td><td>0.426</td><td>0.274</td><td>1</td><td>2</td><td>2</td><td>162</td><td>NA</td><td>NA</td><td>137</td></tr>\n",
       "\t<tr><th scope=row>531</th><td>SFG</td><td>NL</td><td>1993</td><td>808</td><td>636</td><td>103</td><td>0.34</td><td>0.427</td><td>0.276</td><td>0</td><td>NA</td><td>NA</td><td>162</td><td>NA</td><td>NA</td><td>172</td></tr>\n",
       "\t<tr><th scope=row>547</th><td>MIL</td><td>AL</td><td>1992</td><td>740</td><td>604</td><td>92</td><td>0.33</td><td>0.375</td><td>0.268</td><td>0</td><td>NA</td><td>NA</td><td>162</td><td>NA</td><td>NA</td><td>136</td></tr>\n",
       "\t<tr><th scope=row>580</th><td>PIT</td><td>NL</td><td>1991</td><td>768</td><td>632</td><td>98</td><td>0.338</td><td>0.398</td><td>0.263</td><td>1</td><td>1</td><td>3</td><td>162</td><td>NA</td><td>NA</td><td>136</td></tr>\n",
       "\t<tr><th scope=row>602</th><td>NYM</td><td>NL</td><td>1990</td><td>775</td><td>613</td><td>91</td><td>0.323</td><td>0.408</td><td>0.256</td><td>0</td><td>NA</td><td>NA</td><td>162</td><td>NA</td><td>NA</td><td>162</td></tr>\n",
       "\t<tr><th scope=row>604</th><td>OAK</td><td>AL</td><td>1990</td><td>733</td><td>570</td><td>103</td><td>0.336</td><td>0.391</td><td>0.254</td><td>1</td><td>1</td><td>2</td><td>162</td><td>NA</td><td>NA</td><td>163</td></tr>\n",
       "\t<tr><th scope=row>630</th><td>OAK</td><td>AL</td><td>1989</td><td>712</td><td>576</td><td>99</td><td>0.331</td><td>0.381</td><td>0.261</td><td>1</td><td>1</td><td>1</td><td>162</td><td>NA</td><td>NA</td><td>136</td></tr>\n",
       "\t<tr><th scope=row>654</th><td>NYM</td><td>NL</td><td>1988</td><td>703</td><td>532</td><td>100</td><td>0.325</td><td>0.396</td><td>0.256</td><td>1</td><td>2</td><td>3</td><td>160</td><td>NA</td><td>NA</td><td>171</td></tr>\n",
       "\t<tr><th scope=row>31</th><td>NA</td><td>NA</td><td><e2><8b><ae></td><td><e2><8b><ae></td><td><e2><8b><ae></td><td><e2><8b><ae></td><td><e2><8b><ae></td><td><e2><8b><ae></td><td><e2><8b><ae></td><td><e2><8b><ae></td><td><e2><8b><ae></td><td><e2><8b><ae></td><td><e2><8b><ae></td><td><e2><8b><ae></td><td><e2><8b><ae></td><td><e2><8b><ae></td></tr>\n",
       "\t<tr><th scope=row>917</th><td>PHI</td><td>NL</td><td>1977</td><td>847</td><td>668</td><td>101</td><td>0.346</td><td>0.448</td><td>0.279</td><td>1</td><td>2</td><td>3</td><td>162</td><td>NA</td><td>NA</td><td>179</td></tr>\n",
       "\t<tr><th scope=row>931</th><td>CIN</td><td>NL</td><td>1976</td><td>857</td><td>633</td><td>102</td><td>0.357</td><td>0.424</td><td>0.28</td><td>1</td><td>1</td><td>1</td><td>162</td><td>NA</td><td>NA</td><td>224</td></tr>\n",
       "\t<tr><th scope=row>941</th><td>NYY</td><td>AL</td><td>1976</td><td>730</td><td>575</td><td>97</td><td>0.328</td><td>0.389</td><td>0.269</td><td>1</td><td>3</td><td>2</td><td>159</td><td>NA</td><td>NA</td><td>155</td></tr>\n",
       "\t<tr><th scope=row>943</th><td>PHI</td><td>NL</td><td>1976</td><td>770</td><td>557</td><td>101</td><td>0.338</td><td>0.395</td><td>0.272</td><td>1</td><td>2</td><td>3</td><td>162</td><td>NA</td><td>NA</td><td>213</td></tr>\n",
       "\t<tr><th scope=row>955</th><td>CIN</td><td>NL</td><td>1975</td><td>840</td><td>586</td><td>108</td><td>0.353</td><td>0.401</td><td>0.271</td><td>1</td><td>1</td><td>1</td><td>162</td><td>NA</td><td>NA</td><td>254</td></tr>\n",
       "\t<tr><th scope=row>966</th><td>OAK</td><td>AL</td><td>1975</td><td>758</td><td>606</td><td>98</td><td>0.333</td><td>0.391</td><td>0.254</td><td>1</td><td>2</td><td>3</td><td>162</td><td>NA</td><td>NA</td><td>152</td></tr>\n",
       "\t<tr><th scope=row>968</th><td>PIT</td><td>NL</td><td>1975</td><td>712</td><td>565</td><td>92</td><td>0.323</td><td>0.402</td><td>0.263</td><td>1</td><td>4</td><td>3</td><td>161</td><td>NA</td><td>NA</td><td>147</td></tr>\n",
       "\t<tr><th scope=row>979</th><td>CIN</td><td>NL</td><td>1974</td><td>776</td><td>631</td><td>98</td><td>0.343</td><td>0.394</td><td>0.26</td><td>0</td><td>NA</td><td>NA</td><td>163</td><td>NA</td><td>NA</td><td>145</td></tr>\n",
       "\t<tr><th scope=row>984</th><td>LAD</td><td>NL</td><td>1974</td><td>798</td><td>561</td><td>102</td><td>0.342</td><td>0.401</td><td>0.272</td><td>1</td><td>1</td><td>2</td><td>162</td><td>NA</td><td>NA</td><td>237</td></tr>\n",
       "\t<tr><th scope=row>990</th><td>OAK</td><td>AL</td><td>1974</td><td>689</td><td>551</td><td>90</td><td>0.321</td><td>0.373</td><td>0.247</td><td>1</td><td>3</td><td>1</td><td>162</td><td>NA</td><td>NA</td><td>138</td></tr>\n",
       "\t<tr><th scope=row>998</th><td>BAL</td><td>AL</td><td>1973</td><td>754</td><td>561</td><td>97</td><td>0.345</td><td>0.389</td><td>0.266</td><td>1</td><td>2</td><td>3</td><td>162</td><td>NA</td><td>NA</td><td>193</td></tr>\n",
       "\t<tr><th scope=row>1014</th><td>OAK</td><td>AL</td><td>1973</td><td>758</td><td>615</td><td>94</td><td>0.333</td><td>0.389</td><td>0.26</td><td>1</td><td>3</td><td>1</td><td>162</td><td>NA</td><td>NA</td><td>143</td></tr>\n",
       "\t<tr><th scope=row>1022</th><td>BAL</td><td>AL</td><td>1971</td><td>742</td><td>530</td><td>101</td><td>0.347</td><td>0.398</td><td>0.261</td><td>1</td><td>1</td><td>2</td><td>158</td><td>NA</td><td>NA</td><td>212</td></tr>\n",
       "\t<tr><th scope=row>1040</th><td>PIT</td><td>NL</td><td>1971</td><td>788</td><td>599</td><td>97</td><td>0.33</td><td>0.416</td><td>0.274</td><td>1</td><td>2</td><td>1</td><td>162</td><td>NA</td><td>NA</td><td>189</td></tr>\n",
       "\t<tr><th scope=row>1046</th><td>BAL</td><td>AL</td><td>1970</td><td>792</td><td>574</td><td>108</td><td>0.344</td><td>0.401</td><td>0.257</td><td>1</td><td>1</td><td>1</td><td>162</td><td>NA</td><td>NA</td><td>218</td></tr>\n",
       "\t<tr><th scope=row>1058</th><td>MIN</td><td>AL</td><td>1970</td><td>744</td><td>605</td><td>98</td><td>0.327</td><td>0.403</td><td>0.262</td><td>1</td><td>3</td><td>3</td><td>162</td><td>NA</td><td>NA</td><td>139</td></tr>\n",
       "\t<tr><th scope=row>1070</th><td>BAL</td><td>AL</td><td>1969</td><td>779</td><td>517</td><td>109</td><td>0.343</td><td>0.414</td><td>0.265</td><td>1</td><td>1</td><td>2</td><td>162</td><td>NA</td><td>NA</td><td>262</td></tr>\n",
       "\t<tr><th scope=row>1081</th><td>MIN</td><td>AL</td><td>1969</td><td>790</td><td>618</td><td>97</td><td>0.34</td><td>0.408</td><td>0.268</td><td>1</td><td>3</td><td>3</td><td>162</td><td>NA</td><td>NA</td><td>172</td></tr>\n",
       "\t<tr><th scope=row>1101</th><td>DET</td><td>AL</td><td>1968</td><td>671</td><td>492</td><td>103</td><td>0.307</td><td>0.385</td><td>0.235</td><td>1</td><td>1</td><td>1</td><td>164</td><td>NA</td><td>NA</td><td>179</td></tr>\n",
       "\t<tr><th scope=row>1131</th><td>STL</td><td>NL</td><td>1967</td><td>695</td><td>557</td><td>101</td><td>0.32</td><td>0.379</td><td>0.263</td><td>1</td><td>1</td><td>1</td><td>161</td><td>NA</td><td>NA</td><td>138</td></tr>\n",
       "\t<tr><th scope=row>1134</th><td>BAL</td><td>AL</td><td>1966</td><td>755</td><td>601</td><td>97</td><td>0.324</td><td>0.409</td><td>0.258</td><td>1</td><td>1</td><td>1</td><td>160</td><td>NA</td><td>NA</td><td>154</td></tr>\n",
       "\t<tr><th scope=row>1164</th><td>MIN</td><td>AL</td><td>1965</td><td>774</td><td>600</td><td>102</td><td>0.324</td><td>0.399</td><td>0.254</td><td>1</td><td>1</td><td>2</td><td>162</td><td>NA</td><td>NA</td><td>174</td></tr>\n",
       "\t<tr><th scope=row>1176</th><td>CHW</td><td>AL</td><td>1964</td><td>642</td><td>501</td><td>98</td><td>0.32</td><td>0.353</td><td>0.247</td><td>0</td><td>NA</td><td>NA</td><td>162</td><td>NA</td><td>NA</td><td>141</td></tr>\n",
       "\t<tr><th scope=row>1187</th><td>NYY</td><td>AL</td><td>1964</td><td>730</td><td>577</td><td>99</td><td>0.317</td><td>0.387</td><td>0.253</td><td>1</td><td>1</td><td>2</td><td>164</td><td>NA</td><td>NA</td><td>153</td></tr>\n",
       "\t<tr><th scope=row>1196</th><td>CHW</td><td>AL</td><td>1963</td><td>683</td><td>544</td><td>94</td><td>0.323</td><td>0.365</td><td>0.25</td><td>0</td><td>NA</td><td>NA</td><td>162</td><td>NA</td><td>NA</td><td>139</td></tr>\n",
       "\t<tr><th scope=row>1204</th><td>MIN</td><td>AL</td><td>1963</td><td>767</td><td>602</td><td>91</td><td>0.325</td><td>0.43</td><td>0.255</td><td>0</td><td>NA</td><td>NA</td><td>161</td><td>NA</td><td>NA</td><td>165</td></tr>\n",
       "\t<tr><th scope=row>1207</th><td>NYY</td><td>AL</td><td>1963</td><td>714</td><td>547</td><td>104</td><td>0.309</td><td>0.403</td><td>0.252</td><td>1</td><td>1</td><td>2</td><td>161</td><td>NA</td><td>NA</td><td>167</td></tr>\n",
       "\t<tr><th scope=row>1223</th><td>LAD</td><td>NL</td><td>1962</td><td>842</td><td>697</td><td>102</td><td>0.337</td><td>0.4</td><td>0.268</td><td>0</td><td>NA</td><td>NA</td><td>165</td><td>NA</td><td>NA</td><td>145</td></tr>\n",
       "\t<tr><th scope=row>1227</th><td>NYY</td><td>AL</td><td>1962</td><td>817</td><td>680</td><td>96</td><td>0.337</td><td>0.426</td><td>0.267</td><td>1</td><td>2</td><td>1</td><td>162</td><td>NA</td><td>NA</td><td>137</td></tr>\n",
       "\t<tr><th scope=row>1230</th><td>SFG</td><td>NL</td><td>1962</td><td>878</td><td>690</td><td>103</td><td>0.341</td><td>0.441</td><td>0.278</td><td>1</td><td>1</td><td>2</td><td>165</td><td>NA</td><td>NA</td><td>188</td></tr>\n",
       "</tbody>\n",
       "</table>\n"
      ],
      "text/latex": [
       "\\begin{tabular}{r|llllllllllllllll}\n",
       "  & Team & League & Year & RS & RA & W & OBP & SLG & BA & Playoffs & RankSeason & RankPlayoffs & G & OOBP & OSLG & RD\\\\\n",
       "\\hline\n",
       "\t332 & ARI & NL & 2001 & 818 & 677 & 92 & 0.341 & 0.442 & 0.267 & 1 & 5 & 1 & 162 & 0.311 & 0.404 & 141\\\\\n",
       "\t351 & OAK & AL & 2001 & 884 & 645 & 102 & 0.345 & 0.439 & 0.264 & 1 & 2 & 4 & 162 & 0.308 & 0.38 & 239\\\\\n",
       "\t355 & SEA & AL & 2001 & 927 & 627 & 116 & 0.36 & 0.445 & 0.288 & 1 & 1 & 3 & 162 & 0.301 & 0.378 & 300\\\\\n",
       "\t367 & CHW & AL & 2000 & 978 & 839 & 95 & 0.356 & 0.47 & 0.286 & 1 & 2 & 4 & 162 & 0.346 & 0.434 & 139\\\\\n",
       "\t369 & CLE & AL & 2000 & 950 & 816 & 90 & 0.367 & 0.47 & 0.288 & 0 & NA & NA & 162 & 0.35 & 0.425 & 134\\\\\n",
       "\t381 & OAK & AL & 2000 & 947 & 813 & 91 & 0.36 & 0.458 & 0.27 & 1 & 4 & 4 & 161 & 0.348 & 0.423 & 134\\\\\n",
       "\t386 & SFG & NL & 2000 & 925 & 747 & 97 & 0.362 & 0.472 & 0.278 & 1 & 1 & 4 & 162 & 0.342 & 0.412 & 178\\\\\n",
       "\t392 & ARI & NL & 1999 & 908 & 676 & 100 & 0.347 & 0.459 & 0.277 & 1 & 2 & 4 & 162 & 0.32 & 0.402 & 232\\\\\n",
       "\t393 & ATL & NL & 1999 & 840 & 661 & 103 & 0.341 & 0.436 & 0.266 & 1 & 1 & 2 & 162 & 0.314 & 0.377 & 179\\\\\n",
       "\t398 & CIN & NL & 1999 & 865 & 711 & 96 & 0.341 & 0.451 & 0.272 & 0 & NA & NA & 163 & 0.324 & 0.411 & 154\\\\\n",
       "\t399 & CLE & AL & 1999 & 1009 & 860 & 97 & 0.373 & 0.467 & 0.289 & 1 & 4 & 4 & 162 & 0.347 & 0.439 & 149\\\\\n",
       "\t403 & HOU & NL & 1999 & 823 & 675 & 97 & 0.355 & 0.42 & 0.267 & 1 & 4 & 4 & 162 & 0.326 & 0.397 & 148\\\\\n",
       "\t409 & NYM & NL & 1999 & 853 & 711 & 97 & 0.363 & 0.434 & 0.279 & 1 & 4 & 3 & 163 & 0.331 & 0.418 & 142\\\\\n",
       "\t410 & NYY & AL & 1999 & 900 & 731 & 98 & 0.366 & 0.453 & 0.282 & 1 & 3 & 1 & 162 & 0.329 & 0.4 & 169\\\\\n",
       "\t423 & ATL & NL & 1998 & 826 & 581 & 106 & 0.342 & 0.453 & 0.272 & 1 & 2 & 3 & 162 & NA & NA & 245\\\\\n",
       "\t425 & BOS & AL & 1998 & 876 & 729 & 92 & 0.348 & 0.463 & 0.28 & 1 & 5 & 4 & 162 & NA & NA & 147\\\\\n",
       "\t433 & HOU & NL & 1998 & 874 & 620 & 102 & 0.356 & 0.436 & 0.28 & 1 & 3 & 4 & 162 & NA & NA & 254\\\\\n",
       "\t440 & NYY & AL & 1998 & 965 & 656 & 114 & 0.364 & 0.46 & 0.288 & 1 & 1 & 1 & 162 & NA & NA & 309\\\\\n",
       "\t452 & ATL & NL & 1997 & 791 & 581 & 101 & 0.343 & 0.426 & 0.27 & 1 & 1 & 3 & 162 & NA & NA & 210\\\\\n",
       "\t469 & NYY & AL & 1997 & 891 & 688 & 96 & 0.362 & 0.436 & 0.287 & 1 & 3 & 4 & 162 & NA & NA & 203\\\\\n",
       "\t486 & CLE & AL & 1996 & 952 & 769 & 99 & 0.369 & 0.475 & 0.293 & 1 & 1 & 4 & 161 & NA & NA & 183\\\\\n",
       "\t507 & ATL & NL & 1993 & 767 & 559 & 104 & 0.331 & 0.408 & 0.262 & 1 & 1 & 3 & 162 & NA & NA & 208\\\\\n",
       "\t527 & PHI & NL & 1993 & 877 & 740 & 97 & 0.351 & 0.426 & 0.274 & 1 & 2 & 2 & 162 & NA & NA & 137\\\\\n",
       "\t531 & SFG & NL & 1993 & 808 & 636 & 103 & 0.34 & 0.427 & 0.276 & 0 & NA & NA & 162 & NA & NA & 172\\\\\n",
       "\t547 & MIL & AL & 1992 & 740 & 604 & 92 & 0.33 & 0.375 & 0.268 & 0 & NA & NA & 162 & NA & NA & 136\\\\\n",
       "\t580 & PIT & NL & 1991 & 768 & 632 & 98 & 0.338 & 0.398 & 0.263 & 1 & 1 & 3 & 162 & NA & NA & 136\\\\\n",
       "\t602 & NYM & NL & 1990 & 775 & 613 & 91 & 0.323 & 0.408 & 0.256 & 0 & NA & NA & 162 & NA & NA & 162\\\\\n",
       "\t604 & OAK & AL & 1990 & 733 & 570 & 103 & 0.336 & 0.391 & 0.254 & 1 & 1 & 2 & 162 & NA & NA & 163\\\\\n",
       "\t630 & OAK & AL & 1989 & 712 & 576 & 99 & 0.331 & 0.381 & 0.261 & 1 & 1 & 1 & 162 & NA & NA & 136\\\\\n",
       "\t654 & NYM & NL & 1988 & 703 & 532 & 100 & 0.325 & 0.396 & 0.256 & 1 & 2 & 3 & 160 & NA & NA & 171\\\\\n",
       "\t31 & NA & NA & <e2><8b><ae> & <e2><8b><ae> & <e2><8b><ae> & <e2><8b><ae> & <e2><8b><ae> & <e2><8b><ae> & <e2><8b><ae> & <e2><8b><ae> & <e2><8b><ae> & <e2><8b><ae> & <e2><8b><ae> & <e2><8b><ae> & <e2><8b><ae> & <e2><8b><ae>\\\\\n",
       "\t917 & PHI & NL & 1977 & 847 & 668 & 101 & 0.346 & 0.448 & 0.279 & 1 & 2 & 3 & 162 & NA & NA & 179\\\\\n",
       "\t931 & CIN & NL & 1976 & 857 & 633 & 102 & 0.357 & 0.424 & 0.28 & 1 & 1 & 1 & 162 & NA & NA & 224\\\\\n",
       "\t941 & NYY & AL & 1976 & 730 & 575 & 97 & 0.328 & 0.389 & 0.269 & 1 & 3 & 2 & 159 & NA & NA & 155\\\\\n",
       "\t943 & PHI & NL & 1976 & 770 & 557 & 101 & 0.338 & 0.395 & 0.272 & 1 & 2 & 3 & 162 & NA & NA & 213\\\\\n",
       "\t955 & CIN & NL & 1975 & 840 & 586 & 108 & 0.353 & 0.401 & 0.271 & 1 & 1 & 1 & 162 & NA & NA & 254\\\\\n",
       "\t966 & OAK & AL & 1975 & 758 & 606 & 98 & 0.333 & 0.391 & 0.254 & 1 & 2 & 3 & 162 & NA & NA & 152\\\\\n",
       "\t968 & PIT & NL & 1975 & 712 & 565 & 92 & 0.323 & 0.402 & 0.263 & 1 & 4 & 3 & 161 & NA & NA & 147\\\\\n",
       "\t979 & CIN & NL & 1974 & 776 & 631 & 98 & 0.343 & 0.394 & 0.26 & 0 & NA & NA & 163 & NA & NA & 145\\\\\n",
       "\t984 & LAD & NL & 1974 & 798 & 561 & 102 & 0.342 & 0.401 & 0.272 & 1 & 1 & 2 & 162 & NA & NA & 237\\\\\n",
       "\t990 & OAK & AL & 1974 & 689 & 551 & 90 & 0.321 & 0.373 & 0.247 & 1 & 3 & 1 & 162 & NA & NA & 138\\\\\n",
       "\t998 & BAL & AL & 1973 & 754 & 561 & 97 & 0.345 & 0.389 & 0.266 & 1 & 2 & 3 & 162 & NA & NA & 193\\\\\n",
       "\t1014 & OAK & AL & 1973 & 758 & 615 & 94 & 0.333 & 0.389 & 0.26 & 1 & 3 & 1 & 162 & NA & NA & 143\\\\\n",
       "\t1022 & BAL & AL & 1971 & 742 & 530 & 101 & 0.347 & 0.398 & 0.261 & 1 & 1 & 2 & 158 & NA & NA & 212\\\\\n",
       "\t1040 & PIT & NL & 1971 & 788 & 599 & 97 & 0.33 & 0.416 & 0.274 & 1 & 2 & 1 & 162 & NA & NA & 189\\\\\n",
       "\t1046 & BAL & AL & 1970 & 792 & 574 & 108 & 0.344 & 0.401 & 0.257 & 1 & 1 & 1 & 162 & NA & NA & 218\\\\\n",
       "\t1058 & MIN & AL & 1970 & 744 & 605 & 98 & 0.327 & 0.403 & 0.262 & 1 & 3 & 3 & 162 & NA & NA & 139\\\\\n",
       "\t1070 & BAL & AL & 1969 & 779 & 517 & 109 & 0.343 & 0.414 & 0.265 & 1 & 1 & 2 & 162 & NA & NA & 262\\\\\n",
       "\t1081 & MIN & AL & 1969 & 790 & 618 & 97 & 0.34 & 0.408 & 0.268 & 1 & 3 & 3 & 162 & NA & NA & 172\\\\\n",
       "\t1101 & DET & AL & 1968 & 671 & 492 & 103 & 0.307 & 0.385 & 0.235 & 1 & 1 & 1 & 164 & NA & NA & 179\\\\\n",
       "\t1131 & STL & NL & 1967 & 695 & 557 & 101 & 0.32 & 0.379 & 0.263 & 1 & 1 & 1 & 161 & NA & NA & 138\\\\\n",
       "\t1134 & BAL & AL & 1966 & 755 & 601 & 97 & 0.324 & 0.409 & 0.258 & 1 & 1 & 1 & 160 & NA & NA & 154\\\\\n",
       "\t1164 & MIN & AL & 1965 & 774 & 600 & 102 & 0.324 & 0.399 & 0.254 & 1 & 1 & 2 & 162 & NA & NA & 174\\\\\n",
       "\t1176 & CHW & AL & 1964 & 642 & 501 & 98 & 0.32 & 0.353 & 0.247 & 0 & NA & NA & 162 & NA & NA & 141\\\\\n",
       "\t1187 & NYY & AL & 1964 & 730 & 577 & 99 & 0.317 & 0.387 & 0.253 & 1 & 1 & 2 & 164 & NA & NA & 153\\\\\n",
       "\t1196 & CHW & AL & 1963 & 683 & 544 & 94 & 0.323 & 0.365 & 0.25 & 0 & NA & NA & 162 & NA & NA & 139\\\\\n",
       "\t1204 & MIN & AL & 1963 & 767 & 602 & 91 & 0.325 & 0.43 & 0.255 & 0 & NA & NA & 161 & NA & NA & 165\\\\\n",
       "\t1207 & NYY & AL & 1963 & 714 & 547 & 104 & 0.309 & 0.403 & 0.252 & 1 & 1 & 2 & 161 & NA & NA & 167\\\\\n",
       "\t1223 & LAD & NL & 1962 & 842 & 697 & 102 & 0.337 & 0.4 & 0.268 & 0 & NA & NA & 165 & NA & NA & 145\\\\\n",
       "\t1227 & NYY & AL & 1962 & 817 & 680 & 96 & 0.337 & 0.426 & 0.267 & 1 & 2 & 1 & 162 & NA & NA & 137\\\\\n",
       "\t1230 & SFG & NL & 1962 & 878 & 690 & 103 & 0.341 & 0.441 & 0.278 & 1 & 1 & 2 & 165 & NA & NA & 188\\\\\n",
       "\\end{tabular}\n"
      ],
      "text/plain": [
       "     Team League Year   RS  RA   W   OBP   SLG    BA Playoffs RankSeason\n",
       "332   ARI     NL 2001  818 677  92 0.341 0.442 0.267        1          5\n",
       "351   OAK     AL 2001  884 645 102 0.345 0.439 0.264        1          2\n",
       "355   SEA     AL 2001  927 627 116 0.360 0.445 0.288        1          1\n",
       "367   CHW     AL 2000  978 839  95 0.356 0.470 0.286        1          2\n",
       "369   CLE     AL 2000  950 816  90 0.367 0.470 0.288        0         NA\n",
       "381   OAK     AL 2000  947 813  91 0.360 0.458 0.270        1          4\n",
       "386   SFG     NL 2000  925 747  97 0.362 0.472 0.278        1          1\n",
       "392   ARI     NL 1999  908 676 100 0.347 0.459 0.277        1          2\n",
       "393   ATL     NL 1999  840 661 103 0.341 0.436 0.266        1          1\n",
       "398   CIN     NL 1999  865 711  96 0.341 0.451 0.272        0         NA\n",
       "399   CLE     AL 1999 1009 860  97 0.373 0.467 0.289        1          4\n",
       "403   HOU     NL 1999  823 675  97 0.355 0.420 0.267        1          4\n",
       "409   NYM     NL 1999  853 711  97 0.363 0.434 0.279        1          4\n",
       "410   NYY     AL 1999  900 731  98 0.366 0.453 0.282        1          3\n",
       "423   ATL     NL 1998  826 581 106 0.342 0.453 0.272        1          2\n",
       "425   BOS     AL 1998  876 729  92 0.348 0.463 0.280        1          5\n",
       "433   HOU     NL 1998  874 620 102 0.356 0.436 0.280        1          3\n",
       "440   NYY     AL 1998  965 656 114 0.364 0.460 0.288        1          1\n",
       "452   ATL     NL 1997  791 581 101 0.343 0.426 0.270        1          1\n",
       "469   NYY     AL 1997  891 688  96 0.362 0.436 0.287        1          3\n",
       "486   CLE     AL 1996  952 769  99 0.369 0.475 0.293        1          1\n",
       "507   ATL     NL 1993  767 559 104 0.331 0.408 0.262        1          1\n",
       "527   PHI     NL 1993  877 740  97 0.351 0.426 0.274        1          2\n",
       "531   SFG     NL 1993  808 636 103 0.340 0.427 0.276        0         NA\n",
       "547   MIL     AL 1992  740 604  92 0.330 0.375 0.268        0         NA\n",
       "580   PIT     NL 1991  768 632  98 0.338 0.398 0.263        1          1\n",
       "602   NYM     NL 1990  775 613  91 0.323 0.408 0.256        0         NA\n",
       "604   OAK     AL 1990  733 570 103 0.336 0.391 0.254        1          1\n",
       "630   OAK     AL 1989  712 576  99 0.331 0.381 0.261        1          1\n",
       "654   NYM     NL 1988  703 532 100 0.325 0.396 0.256        1          2\n",
       "656   OAK     AL 1988  800 620 104 0.336 0.399 0.263        1          1\n",
       "673   DET     AL 1987  896 735  98 0.349 0.451 0.272        1          1\n",
       "690   TOR     AL 1987  845 655  96 0.336 0.446 0.269        0         NA\n",
       "706   NYM     NL 1986  783 578 108 0.339 0.401 0.263        1          1\n",
       "733   NYY     AL 1985  839 660  97 0.344 0.425 0.267        0         NA\n",
       "740   STL     NL 1985  747 572 101 0.335 0.379 0.264        1          1\n",
       "742   TOR     AL 1985  759 588  99 0.331 0.425 0.269        1          2\n",
       "751   DET     AL 1984  829 643 104 0.342 0.432 0.271        1          1\n",
       "770   BAL     AL 1983  799 652  98 0.340 0.421 0.269        1          2\n",
       "774   CHW     AL 1983  800 650  99 0.329 0.413 0.262        1          1\n",
       "798   CAL     AL 1982  814 670  93 0.347 0.433 0.274        1          2\n",
       "807   MIL     AL 1982  891 717  95 0.335 0.455 0.279        1          1\n",
       "822   BAL     AL 1980  805 640 100 0.342 0.413 0.273        0         NA\n",
       "837   NYY     AL 1980  820 662 103 0.343 0.425 0.267        1          1\n",
       "848   BAL     AL 1979  757 582 102 0.336 0.419 0.261        1          1\n",
       "875   BOS     AL 1978  796 657  99 0.336 0.424 0.267        0         NA\n",
       "884   LAD     NL 1978  727 573  95 0.338 0.402 0.264        1          2\n",
       "885   MIL     AL 1978  804 650  93 0.339 0.432 0.276        0         NA\n",
       "889   NYY     AL 1978  735 582 100 0.329 0.388 0.267        1          1\n",
       "901   BOS     AL 1977  859 712  97 0.345 0.465 0.281        0         NA\n",
       "909   KCR     AL 1977  822 651 102 0.340 0.436 0.277        1          1\n",
       "910   LAD     NL 1977  769 582  98 0.336 0.418 0.266        1          4\n",
       "915   NYY     AL 1977  831 651 100 0.344 0.444 0.281        1          3\n",
       "917   PHI     NL 1977  847 668 101 0.346 0.448 0.279        1          2\n",
       "931   CIN     NL 1976  857 633 102 0.357 0.424 0.280        1          1\n",
       "941   NYY     AL 1976  730 575  97 0.328 0.389 0.269        1          3\n",
       "943   PHI     NL 1976  770 557 101 0.338 0.395 0.272        1          2\n",
       "955   CIN     NL 1975  840 586 108 0.353 0.401 0.271        1          1\n",
       "966   OAK     AL 1975  758 606  98 0.333 0.391 0.254        1          2\n",
       "968   PIT     NL 1975  712 565  92 0.323 0.402 0.263        1          4\n",
       "979   CIN     NL 1974  776 631  98 0.343 0.394 0.260        0         NA\n",
       "984   LAD     NL 1974  798 561 102 0.342 0.401 0.272        1          1\n",
       "990   OAK     AL 1974  689 551  90 0.321 0.373 0.247        1          3\n",
       "998   BAL     AL 1973  754 561  97 0.345 0.389 0.266        1          2\n",
       "1014  OAK     AL 1973  758 615  94 0.333 0.389 0.260        1          3\n",
       "1022  BAL     AL 1971  742 530 101 0.347 0.398 0.261        1          1\n",
       "1040  PIT     NL 1971  788 599  97 0.330 0.416 0.274        1          2\n",
       "1046  BAL     AL 1970  792 574 108 0.344 0.401 0.257        1          1\n",
       "1058  MIN     AL 1970  744 605  98 0.327 0.403 0.262        1          3\n",
       "1070  BAL     AL 1969  779 517 109 0.343 0.414 0.265        1          1\n",
       "1081  MIN     AL 1969  790 618  97 0.340 0.408 0.268        1          3\n",
       "1101  DET     AL 1968  671 492 103 0.307 0.385 0.235        1          1\n",
       "1131  STL     NL 1967  695 557 101 0.320 0.379 0.263        1          1\n",
       "1134  BAL     AL 1966  755 601  97 0.324 0.409 0.258        1          1\n",
       "1164  MIN     AL 1965  774 600 102 0.324 0.399 0.254        1          1\n",
       "1176  CHW     AL 1964  642 501  98 0.320 0.353 0.247        0         NA\n",
       "1187  NYY     AL 1964  730 577  99 0.317 0.387 0.253        1          1\n",
       "1196  CHW     AL 1963  683 544  94 0.323 0.365 0.250        0         NA\n",
       "1204  MIN     AL 1963  767 602  91 0.325 0.430 0.255        0         NA\n",
       "1207  NYY     AL 1963  714 547 104 0.309 0.403 0.252        1          1\n",
       "1223  LAD     NL 1962  842 697 102 0.337 0.400 0.268        0         NA\n",
       "1227  NYY     AL 1962  817 680  96 0.337 0.426 0.267        1          2\n",
       "1230  SFG     NL 1962  878 690 103 0.341 0.441 0.278        1          1\n",
       "     RankPlayoffs   G  OOBP  OSLG  RD\n",
       "332             1 162 0.311 0.404 141\n",
       "351             4 162 0.308 0.380 239\n",
       "355             3 162 0.301 0.378 300\n",
       "367             4 162 0.346 0.434 139\n",
       "369            NA 162 0.350 0.425 134\n",
       "381             4 161 0.348 0.423 134\n",
       "386             4 162 0.342 0.412 178\n",
       "392             4 162 0.320 0.402 232\n",
       "393             2 162 0.314 0.377 179\n",
       "398            NA 163 0.324 0.411 154\n",
       "399             4 162 0.347 0.439 149\n",
       "403             4 162 0.326 0.397 148\n",
       "409             3 163 0.331 0.418 142\n",
       "410             1 162 0.329 0.400 169\n",
       "423             3 162    NA    NA 245\n",
       "425             4 162    NA    NA 147\n",
       "433             4 162    NA    NA 254\n",
       "440             1 162    NA    NA 309\n",
       "452             3 162    NA    NA 210\n",
       "469             4 162    NA    NA 203\n",
       "486             4 161    NA    NA 183\n",
       "507             3 162    NA    NA 208\n",
       "527             2 162    NA    NA 137\n",
       "531            NA 162    NA    NA 172\n",
       "547            NA 162    NA    NA 136\n",
       "580             3 162    NA    NA 136\n",
       "602            NA 162    NA    NA 162\n",
       "604             2 162    NA    NA 163\n",
       "630             1 162    NA    NA 136\n",
       "654             3 160    NA    NA 171\n",
       "656             2 162    NA    NA 180\n",
       "673             3 162    NA    NA 161\n",
       "690            NA 162    NA    NA 190\n",
       "706             1 162    NA    NA 205\n",
       "733            NA 161    NA    NA 179\n",
       "740             2 162    NA    NA 175\n",
       "742             3 161    NA    NA 171\n",
       "751             1 162    NA    NA 186\n",
       "770             1 162    NA    NA 147\n",
       "774             3 162    NA    NA 150\n",
       "798             3 162    NA    NA 144\n",
       "807             2 163    NA    NA 174\n",
       "822            NA 162    NA    NA 165\n",
       "837             3 162    NA    NA 158\n",
       "848             2 159    NA    NA 175\n",
       "875            NA 163    NA    NA 139\n",
       "884             2 162    NA    NA 154\n",
       "885            NA 162    NA    NA 154\n",
       "889             1 163    NA    NA 153\n",
       "901            NA 161    NA    NA 147\n",
       "909             3 162    NA    NA 171\n",
       "910             2 162    NA    NA 187\n",
       "915             1 162    NA    NA 180\n",
       "917             3 162    NA    NA 179\n",
       "931             1 162    NA    NA 224\n",
       "941             2 159    NA    NA 155\n",
       "943             3 162    NA    NA 213\n",
       "955             1 162    NA    NA 254\n",
       "966             3 162    NA    NA 152\n",
       "968             3 161    NA    NA 147\n",
       "979            NA 163    NA    NA 145\n",
       "984             2 162    NA    NA 237\n",
       "990             1 162    NA    NA 138\n",
       "998             3 162    NA    NA 193\n",
       "1014            1 162    NA    NA 143\n",
       "1022            2 158    NA    NA 212\n",
       "1040            1 162    NA    NA 189\n",
       "1046            1 162    NA    NA 218\n",
       "1058            3 162    NA    NA 139\n",
       "1070            2 162    NA    NA 262\n",
       "1081            3 162    NA    NA 172\n",
       "1101            1 164    NA    NA 179\n",
       "1131            1 161    NA    NA 138\n",
       "1134            1 160    NA    NA 154\n",
       "1164            2 162    NA    NA 174\n",
       "1176           NA 162    NA    NA 141\n",
       "1187            2 164    NA    NA 153\n",
       "1196           NA 162    NA    NA 139\n",
       "1204           NA 161    NA    NA 165\n",
       "1207            2 161    NA    NA 167\n",
       "1223           NA 165    NA    NA 145\n",
       "1227            1 162    NA    NA 137\n",
       "1230            2 165    NA    NA 188"
      ]
     },
     "execution_count": 25,
     "metadata": {},
     "output_type": "execute_result"
    }
   ],
   "source": [
    "subset(moneyball, RD > 133)"
   ]
  },
  {
   "cell_type": "code",
   "execution_count": null,
   "metadata": {
    "collapsed": true
   },
   "outputs": [],
   "source": []
  },
  {
   "cell_type": "code",
   "execution_count": null,
   "metadata": {
    "collapsed": true
   },
   "outputs": [],
   "source": []
  },
  {
   "cell_type": "code",
   "execution_count": null,
   "metadata": {
    "collapsed": true
   },
   "outputs": [],
   "source": []
  },
  {
   "cell_type": "code",
   "execution_count": 26,
   "metadata": {
    "collapsed": true
   },
   "outputs": [],
   "source": [
    "# #EXERCISE\n",
    "# #Linear Regression Equation\n",
    "# #moneyball$W ~ 80.881375 + 0.105766*moneyball$RD "
   ]
  },
  {
   "cell_type": "code",
   "execution_count": 27,
   "metadata": {
    "collapsed": true
   },
   "outputs": [],
   "source": [
    "#713 runs and allows 614 runs"
   ]
  },
  {
   "cell_type": "code",
   "execution_count": 28,
   "metadata": {
    "collapsed": false
   },
   "outputs": [
    {
     "data": {
      "text/html": [
       "99"
      ],
      "text/latex": [
       "99"
      ],
      "text/markdown": [
       "99"
      ],
      "text/plain": [
       "[1] 99"
      ]
     },
     "execution_count": 28,
     "metadata": {},
     "output_type": "execute_result"
    }
   ],
   "source": [
    "713 - 614"
   ]
  },
  {
   "cell_type": "code",
   "execution_count": 30,
   "metadata": {
    "collapsed": false
   },
   "outputs": [
    {
     "data": {
      "text/html": [
       "91.352209"
      ],
      "text/latex": [
       "91.352209"
      ],
      "text/markdown": [
       "91.352209"
      ],
      "text/plain": [
       "[1] 91.35221"
      ]
     },
     "execution_count": 30,
     "metadata": {},
     "output_type": "execute_result"
    }
   ],
   "source": [
    "80.881375 + 0.105766*99"
   ]
  },
  {
   "cell_type": "code",
   "execution_count": null,
   "metadata": {
    "collapsed": true
   },
   "outputs": [],
   "source": []
  },
  {
   "cell_type": "code",
   "execution_count": null,
   "metadata": {
    "collapsed": true
   },
   "outputs": [],
   "source": []
  },
  {
   "cell_type": "code",
   "execution_count": null,
   "metadata": {
    "collapsed": true
   },
   "outputs": [],
   "source": []
  },
  {
   "cell_type": "code",
   "execution_count": 32,
   "metadata": {
    "collapsed": true
   },
   "outputs": [],
   "source": [
    "# #Our first prediction was to find the number of runs a team has to score to determine if they would make it to the playoffs\n",
    "# #or not.\n",
    "\n",
    "# #Now we know that they have to win 95 or more games, i.e. by having a run difference equal to or greater than 135.\n",
    "\n",
    "# #Our next task is to predict the run differnce based on the batting and fielding statistics"
   ]
  },
  {
   "cell_type": "code",
   "execution_count": null,
   "metadata": {
    "collapsed": true
   },
   "outputs": [],
   "source": []
  },
  {
   "cell_type": "code",
   "execution_count": null,
   "metadata": {
    "collapsed": true
   },
   "outputs": [],
   "source": []
  },
  {
   "cell_type": "code",
   "execution_count": 33,
   "metadata": {
    "collapsed": true
   },
   "outputs": [],
   "source": [
    "# #OBP - On Base Percentage\n",
    "# #SLG - Slugging Percentage\n",
    "\n",
    "# #These two independent variables had the highest weightage for runs scored"
   ]
  },
  {
   "cell_type": "code",
   "execution_count": 57,
   "metadata": {
    "collapsed": true
   },
   "outputs": [],
   "source": [
    "# #Linear Regression Model\n",
    "model_runs_scored_1 = lm(moneyball$RS ~ (moneyball$OBP + moneyball$SLG), data = moneyball)"
   ]
  },
  {
   "cell_type": "code",
   "execution_count": 58,
   "metadata": {
    "collapsed": false
   },
   "outputs": [
    {
     "data": {
      "text/plain": [
       "\n",
       "Call:\n",
       "lm(formula = moneyball$RS ~ (moneyball$OBP + moneyball$SLG), \n",
       "    data = moneyball)\n",
       "\n",
       "Residuals:\n",
       "    Min      1Q  Median      3Q     Max \n",
       "-70.838 -17.174  -1.108  16.770  90.036 \n",
       "\n",
       "Coefficients:\n",
       "              Estimate Std. Error t value Pr(>|t|)    \n",
       "(Intercept)    -804.63      18.92  -42.53   <2e-16 ***\n",
       "moneyball$OBP  2737.77      90.68   30.19   <2e-16 ***\n",
       "moneyball$SLG  1584.91      42.16   37.60   <2e-16 ***\n",
       "---\n",
       "Signif. codes:  0 '***' 0.001 '**' 0.01 '*' 0.05 '.' 0.1 ' ' 1\n",
       "\n",
       "Residual standard error: 24.79 on 899 degrees of freedom\n",
       "Multiple R-squared:  0.9296,\tAdjusted R-squared:  0.9294 \n",
       "F-statistic:  5934 on 2 and 899 DF,  p-value: < 2.2e-16\n"
      ]
     },
     "execution_count": 58,
     "metadata": {},
     "output_type": "execute_result"
    }
   ],
   "source": [
    "summary(model_runs_scored_1)"
   ]
  },
  {
   "cell_type": "code",
   "execution_count": null,
   "metadata": {
    "collapsed": true
   },
   "outputs": [],
   "source": []
  },
  {
   "cell_type": "code",
   "execution_count": 41,
   "metadata": {
    "collapsed": true
   },
   "outputs": [],
   "source": [
    "model_runs_scored_2 = lm(moneyball$RS ~ (moneyball$OBP + moneyball$SLG + moneyball$BA), data = moneyball)"
   ]
  },
  {
   "cell_type": "code",
   "execution_count": 42,
   "metadata": {
    "collapsed": false
   },
   "outputs": [
    {
     "data": {
      "text/plain": [
       "\n",
       "Call:\n",
       "lm(formula = moneyball$RS ~ (moneyball$OBP + moneyball$SLG + \n",
       "    moneyball$BA), data = moneyball)\n",
       "\n",
       "Residuals:\n",
       "    Min      1Q  Median      3Q     Max \n",
       "-70.941 -17.247  -0.621  16.754  90.998 \n",
       "\n",
       "Coefficients:\n",
       "              Estimate Std. Error t value Pr(>|t|)    \n",
       "(Intercept)    -788.46      19.70 -40.029  < 2e-16 ***\n",
       "moneyball$OBP  2917.42     110.47  26.410  < 2e-16 ***\n",
       "moneyball$SLG  1637.93      45.99  35.612  < 2e-16 ***\n",
       "moneyball$BA   -368.97     130.58  -2.826  0.00482 ** \n",
       "---\n",
       "Signif. codes:  0 '***' 0.001 '**' 0.01 '*' 0.05 '.' 0.1 ' ' 1\n",
       "\n",
       "Residual standard error: 24.69 on 898 degrees of freedom\n",
       "Multiple R-squared:  0.9302,\tAdjusted R-squared:   0.93 \n",
       "F-statistic:  3989 on 3 and 898 DF,  p-value: < 2.2e-16\n"
      ]
     },
     "execution_count": 42,
     "metadata": {},
     "output_type": "execute_result"
    }
   ],
   "source": [
    "summary(model_runs_scored_2)"
   ]
  },
  {
   "cell_type": "code",
   "execution_count": null,
   "metadata": {
    "collapsed": true
   },
   "outputs": [],
   "source": []
  },
  {
   "cell_type": "code",
   "execution_count": null,
   "metadata": {
    "collapsed": true
   },
   "outputs": [],
   "source": []
  },
  {
   "cell_type": "code",
   "execution_count": 43,
   "metadata": {
    "collapsed": true
   },
   "outputs": [],
   "source": [
    "# #Runs Allowed has Opponents OBP and SLG\n",
    "model_runs_allowed_1 = lm(moneyball$RA ~ (moneyball$OOBP + moneyball$OSLG), data = moneyball)"
   ]
  },
  {
   "cell_type": "code",
   "execution_count": 44,
   "metadata": {
    "collapsed": false
   },
   "outputs": [
    {
     "data": {
      "text/plain": [
       "\n",
       "Call:\n",
       "lm(formula = moneyball$RA ~ (moneyball$OOBP + moneyball$OSLG), \n",
       "    data = moneyball)\n",
       "\n",
       "Residuals:\n",
       "    Min      1Q  Median      3Q     Max \n",
       "-82.397 -15.178  -0.129  17.679  60.955 \n",
       "\n",
       "Coefficients:\n",
       "               Estimate Std. Error t value Pr(>|t|)    \n",
       "(Intercept)     -837.38      60.26 -13.897  < 2e-16 ***\n",
       "moneyball$OOBP  2913.60     291.97   9.979 4.46e-16 ***\n",
       "moneyball$OSLG  1514.29     175.43   8.632 2.55e-13 ***\n",
       "---\n",
       "Signif. codes:  0 '***' 0.001 '**' 0.01 '*' 0.05 '.' 0.1 ' ' 1\n",
       "\n",
       "Residual standard error: 25.67 on 87 degrees of freedom\n",
       "  (812 observations deleted due to missingness)\n",
       "Multiple R-squared:  0.9073,\tAdjusted R-squared:  0.9052 \n",
       "F-statistic: 425.8 on 2 and 87 DF,  p-value: < 2.2e-16\n"
      ]
     },
     "execution_count": 44,
     "metadata": {},
     "output_type": "execute_result"
    }
   ],
   "source": [
    "summary(model_runs_allowed_1)"
   ]
  },
  {
   "cell_type": "code",
   "execution_count": null,
   "metadata": {
    "collapsed": true
   },
   "outputs": [],
   "source": []
  },
  {
   "cell_type": "code",
   "execution_count": null,
   "metadata": {
    "collapsed": true
   },
   "outputs": [],
   "source": []
  },
  {
   "cell_type": "code",
   "execution_count": 46,
   "metadata": {
    "collapsed": true
   },
   "outputs": [],
   "source": [
    "# #EXERCISE\n",
    "# OBP is 0.311 and SLG is 0.405\n",
    "# #moneyball$RS ~  -804.63 + (2737.77*moneyball$OBP) + (1584.91*moneyball$SLG)"
   ]
  },
  {
   "cell_type": "code",
   "execution_count": 51,
   "metadata": {
    "collapsed": false
   },
   "outputs": [],
   "source": [
    "# #moneyball$RS ~ -804.63 + (2737.77*0.311) + (1584.91*0.405)"
   ]
  },
  {
   "cell_type": "code",
   "execution_count": 66,
   "metadata": {
    "collapsed": false
   },
   "outputs": [
    {
     "data": {
      "text/html": [
       "688.70502"
      ],
      "text/latex": [
       "688.70502"
      ],
      "text/markdown": [
       "688.70502"
      ],
      "text/plain": [
       "[1] 688.705"
      ]
     },
     "execution_count": 66,
     "metadata": {},
     "output_type": "execute_result"
    }
   ],
   "source": [
    "-804.63 + (2737.77*0.311) + (1584.91*0.405)"
   ]
  },
  {
   "cell_type": "code",
   "execution_count": null,
   "metadata": {
    "collapsed": false
   },
   "outputs": [],
   "source": []
  },
  {
   "cell_type": "code",
   "execution_count": 67,
   "metadata": {
    "collapsed": true
   },
   "outputs": [],
   "source": [
    "# # OBP (OOBP) is 0.297 and oppenents SLG (OSLG) is 0.370\n",
    "# #moneyball$RA ~ -837.38+ (2913.60* 0.297) + (1514.29*0.370)"
   ]
  },
  {
   "cell_type": "code",
   "execution_count": 68,
   "metadata": {
    "collapsed": false
   },
   "outputs": [
    {
     "data": {
      "text/html": [
       "588.2465"
      ],
      "text/latex": [
       "588.2465"
      ],
      "text/markdown": [
       "588.2465"
      ],
      "text/plain": [
       "[1] 588.2465"
      ]
     },
     "execution_count": 68,
     "metadata": {},
     "output_type": "execute_result"
    }
   ],
   "source": [
    "-837.38+ (2913.60* 0.297) + (1514.29*0.370)"
   ]
  },
  {
   "cell_type": "code",
   "execution_count": null,
   "metadata": {
    "collapsed": true
   },
   "outputs": [],
   "source": []
  },
  {
   "cell_type": "code",
   "execution_count": null,
   "metadata": {
    "collapsed": true
   },
   "outputs": [],
   "source": []
  },
  {
   "cell_type": "code",
   "execution_count": 82,
   "metadata": {
    "collapsed": false
   },
   "outputs": [
    {
     "data": {
      "text/html": [
       "<table>\n",
       "<thead><tr><th></th><th scope=col>Team</th><th scope=col>League</th><th scope=col>Year</th><th scope=col>RS</th><th scope=col>RA</th><th scope=col>W</th><th scope=col>OBP</th><th scope=col>SLG</th><th scope=col>BA</th><th scope=col>Playoffs</th><th scope=col>RankSeason</th><th scope=col>RankPlayoffs</th><th scope=col>G</th><th scope=col>OOBP</th><th scope=col>OSLG</th><th scope=col>RD</th></tr></thead>\n",
       "<tbody>\n",
       "\t<tr><th scope=row>351</th><td>OAK</td><td>AL</td><td>2001</td><td>884</td><td>645</td><td>102</td><td>0.345</td><td>0.439</td><td>0.264</td><td>1</td><td>2</td><td>4</td><td>162</td><td>0.308</td><td>0.38</td><td>239</td></tr>\n",
       "</tbody>\n",
       "</table>\n"
      ],
      "text/latex": [
       "\\begin{tabular}{r|llllllllllllllll}\n",
       "  & Team & League & Year & RS & RA & W & OBP & SLG & BA & Playoffs & RankSeason & RankPlayoffs & G & OOBP & OSLG & RD\\\\\n",
       "\\hline\n",
       "\t351 & OAK & AL & 2001 & 884 & 645 & 102 & 0.345 & 0.439 & 0.264 & 1 & 2 & 4 & 162 & 0.308 & 0.38 & 239\\\\\n",
       "\\end{tabular}\n"
      ],
      "text/plain": [
       "    Team League Year  RS  RA   W   OBP   SLG    BA Playoffs RankSeason\n",
       "351  OAK     AL 2001 884 645 102 0.345 0.439 0.264        1          2\n",
       "    RankPlayoffs   G  OOBP OSLG  RD\n",
       "351            4 162 0.308 0.38 239"
      ]
     },
     "execution_count": 82,
     "metadata": {},
     "output_type": "execute_result"
    }
   ],
   "source": [
    "subset(moneyball, Year==2001 & Team==\"OAK\")"
   ]
  },
  {
   "cell_type": "code",
   "execution_count": null,
   "metadata": {
    "collapsed": true
   },
   "outputs": [],
   "source": []
  },
  {
   "cell_type": "code",
   "execution_count": null,
   "metadata": {
    "collapsed": true
   },
   "outputs": [],
   "source": []
  },
  {
   "cell_type": "code",
   "execution_count": 83,
   "metadata": {
    "collapsed": false
   },
   "outputs": [
    {
     "data": {
      "text/plain": [
       "\n",
       "Call:\n",
       "lm(formula = moneyball$RS ~ (moneyball$OBP + moneyball$SLG), \n",
       "    data = moneyball)\n",
       "\n",
       "Coefficients:\n",
       "  (Intercept)  moneyball$OBP  moneyball$SLG  \n",
       "       -804.6         2737.8         1584.9  \n"
      ]
     },
     "execution_count": 83,
     "metadata": {},
     "output_type": "execute_result"
    }
   ],
   "source": [
    "# #Exercise\n",
    "model_runs_scored_1"
   ]
  },
  {
   "cell_type": "code",
   "execution_count": null,
   "metadata": {
    "collapsed": true
   },
   "outputs": [],
   "source": []
  },
  {
   "cell_type": "code",
   "execution_count": 89,
   "metadata": {
    "collapsed": false
   },
   "outputs": [
    {
     "data": {
      "text/html": [
       "976.58766"
      ],
      "text/latex": [
       "976.58766"
      ],
      "text/markdown": [
       "976.58766"
      ],
      "text/plain": [
       "[1] 976.5877"
      ]
     },
     "execution_count": 89,
     "metadata": {},
     "output_type": "execute_result"
    }
   ],
   "source": [
    "# #Eric Chavez\t0.338\t0.540\t$1,400,000\n",
    "-804.63 + (2737.77*0.338) + (1584.91*0.540)"
   ]
  },
  {
   "cell_type": "code",
   "execution_count": 90,
   "metadata": {
    "collapsed": false
   },
   "outputs": [
    {
     "data": {
      "text/html": [
       "979.04757"
      ],
      "text/latex": [
       "979.04757"
      ],
      "text/markdown": [
       "979.04757"
      ],
      "text/plain": [
       "[1] 979.0476"
      ]
     },
     "execution_count": 90,
     "metadata": {},
     "output_type": "execute_result"
    }
   ],
   "source": [
    "# #Jeremy Giambi\t0.391\t0.450\t$1,065,000\n",
    "-804.63 + (2737.77*0.391) + (1584.91*0.450)"
   ]
  },
  {
   "cell_type": "code",
   "execution_count": 91,
   "metadata": {
    "collapsed": false
   },
   "outputs": [
    {
     "data": {
      "text/html": [
       "798.36347"
      ],
      "text/latex": [
       "798.36347"
      ],
      "text/markdown": [
       "798.36347"
      ],
      "text/plain": [
       "[1] 798.3635"
      ]
     },
     "execution_count": 91,
     "metadata": {},
     "output_type": "execute_result"
    }
   ],
   "source": [
    "# #Frank Menechino\t0.369\t0.374\t$295,000\n",
    "-804.63 + (2737.77*0.369) + (1584.91*0.374)"
   ]
  },
  {
   "cell_type": "code",
   "execution_count": 92,
   "metadata": {
    "collapsed": false
   },
   "outputs": [
    {
     "data": {
      "text/html": [
       "760.74678"
      ],
      "text/latex": [
       "760.74678"
      ],
      "text/markdown": [
       "760.74678"
      ],
      "text/plain": [
       "[1] 760.7468"
      ]
     },
     "execution_count": 92,
     "metadata": {},
     "output_type": "execute_result"
    }
   ],
   "source": [
    "# #Greg Myers\t0.313\t0.447\t$800,000\n",
    "-804.63 + (2737.77*0.313) + (1584.91*0.447)"
   ]
  },
  {
   "cell_type": "code",
   "execution_count": 93,
   "metadata": {
    "collapsed": false
   },
   "outputs": [
    {
     "data": {
      "text/html": [
       "976.15997"
      ],
      "text/latex": [
       "976.15997"
      ],
      "text/markdown": [
       "976.15997"
      ],
      "text/plain": [
       "[1] 976.16"
      ]
     },
     "execution_count": 93,
     "metadata": {},
     "output_type": "execute_result"
    }
   ],
   "source": [
    "# #Carlos Pena\t0.361\t0.500\t$300,000\n",
    "-804.63 + (2737.77*0.361) + (1584.91*0.500)"
   ]
  },
  {
   "cell_type": "code",
   "execution_count": 94,
   "metadata": {
    "collapsed": true
   },
   "outputs": [],
   "source": [
    "# #You have a budget of $1,500,000 - Which two players would you choose?\n",
    "# #Ans : Jeremy Giambi and Carlos Pena"
   ]
  },
  {
   "cell_type": "code",
   "execution_count": null,
   "metadata": {
    "collapsed": true
   },
   "outputs": [],
   "source": []
  },
  {
   "cell_type": "code",
   "execution_count": null,
   "metadata": {
    "collapsed": true
   },
   "outputs": [],
   "source": []
  },
  {
   "cell_type": "code",
   "execution_count": 95,
   "metadata": {
    "collapsed": true
   },
   "outputs": [],
   "source": [
    "# #Correlation"
   ]
  },
  {
   "cell_type": "code",
   "execution_count": 96,
   "metadata": {
    "collapsed": true
   },
   "outputs": [],
   "source": [
    "teamRank = c(1,2,3,3,4,4,4,4,5,5)"
   ]
  },
  {
   "cell_type": "code",
   "execution_count": 101,
   "metadata": {
    "collapsed": false
   },
   "outputs": [
    {
     "data": {
      "text/html": [
       "10"
      ],
      "text/latex": [
       "10"
      ],
      "text/markdown": [
       "10"
      ],
      "text/plain": [
       "[1] 10"
      ]
     },
     "execution_count": 101,
     "metadata": {},
     "output_type": "execute_result"
    }
   ],
   "source": [
    "length(teamRank)"
   ]
  },
  {
   "cell_type": "code",
   "execution_count": 102,
   "metadata": {
    "collapsed": true
   },
   "outputs": [],
   "source": [
    "wins2012 = c(94,88,95,88,93,94,98,97, 93,94)"
   ]
  },
  {
   "cell_type": "code",
   "execution_count": 103,
   "metadata": {
    "collapsed": false
   },
   "outputs": [
    {
     "data": {
      "text/html": [
       "10"
      ],
      "text/latex": [
       "10"
      ],
      "text/markdown": [
       "10"
      ],
      "text/plain": [
       "[1] 10"
      ]
     },
     "execution_count": 103,
     "metadata": {},
     "output_type": "execute_result"
    }
   ],
   "source": [
    "length(wins2012)"
   ]
  },
  {
   "cell_type": "code",
   "execution_count": 104,
   "metadata": {
    "collapsed": true
   },
   "outputs": [],
   "source": [
    "wins2013 = c(97,97,92,93,92,96,94,96,92,90)"
   ]
  },
  {
   "cell_type": "code",
   "execution_count": 105,
   "metadata": {
    "collapsed": false
   },
   "outputs": [
    {
     "data": {
      "text/html": [
       "10"
      ],
      "text/latex": [
       "10"
      ],
      "text/markdown": [
       "10"
      ],
      "text/plain": [
       "[1] 10"
      ]
     },
     "execution_count": 105,
     "metadata": {},
     "output_type": "execute_result"
    }
   ],
   "source": [
    "length(wins2013)"
   ]
  },
  {
   "cell_type": "code",
   "execution_count": null,
   "metadata": {
    "collapsed": true
   },
   "outputs": [],
   "source": []
  },
  {
   "cell_type": "code",
   "execution_count": 106,
   "metadata": {
    "collapsed": false
   },
   "outputs": [
    {
     "data": {
      "text/html": [
       "0.347712924912751"
      ],
      "text/latex": [
       "0.347712924912751"
      ],
      "text/markdown": [
       "0.347712924912751"
      ],
      "text/plain": [
       "[1] 0.3477129"
      ]
     },
     "execution_count": 106,
     "metadata": {},
     "output_type": "execute_result"
    }
   ],
   "source": [
    "cor(teamRank, wins2012)"
   ]
  },
  {
   "cell_type": "code",
   "execution_count": 107,
   "metadata": {
    "collapsed": false
   },
   "outputs": [
    {
     "data": {
      "text/html": [
       "-0.655694521535187"
      ],
      "text/latex": [
       "-0.655694521535187"
      ],
      "text/markdown": [
       "-0.655694521535187"
      ],
      "text/plain": [
       "[1] -0.6556945"
      ]
     },
     "execution_count": 107,
     "metadata": {},
     "output_type": "execute_result"
    }
   ],
   "source": [
    "cor(teamRank, wins2013)"
   ]
  },
  {
   "cell_type": "code",
   "execution_count": 109,
   "metadata": {
    "collapsed": true
   },
   "outputs": [],
   "source": [
    "# #With the same variables, the correlation for the year 2012 shows positive and that for 2013 is negative.\n",
    "# #In such situations its hard to make a prediction"
   ]
  },
  {
   "cell_type": "code",
   "execution_count": null,
   "metadata": {
    "collapsed": true
   },
   "outputs": [],
   "source": []
  }
 ],
 "metadata": {
  "kernelspec": {
   "display_name": "R",
   "language": "R",
   "name": "ir"
  },
  "language_info": {
   "codemirror_mode": "r",
   "file_extension": ".r",
   "mimetype": "text/x-r-source",
   "name": "R",
   "pygments_lexer": "r",
   "version": "3.2.1"
  }
 },
 "nbformat": 4,
 "nbformat_minor": 0
}
