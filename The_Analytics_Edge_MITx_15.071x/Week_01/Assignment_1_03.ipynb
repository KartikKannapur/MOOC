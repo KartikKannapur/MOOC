{
 "cells": [
  {
   "cell_type": "markdown",
   "metadata": {},
   "source": [
    "# DEMOGRAPHICS AND EMPLOYMENT IN THE UNITED STATES"
   ]
  },
  {
   "cell_type": "code",
   "execution_count": null,
   "metadata": {
    "collapsed": true
   },
   "outputs": [],
   "source": []
  },
  {
   "cell_type": "code",
   "execution_count": null,
   "metadata": {
    "collapsed": true
   },
   "outputs": [],
   "source": []
  },
  {
   "cell_type": "code",
   "execution_count": null,
   "metadata": {
    "collapsed": true
   },
   "outputs": [],
   "source": [
    "CPS = read.csv(\"CPSData.csv\")"
   ]
  },
  {
   "cell_type": "code",
   "execution_count": 2,
   "metadata": {
    "collapsed": false
   },
   "outputs": [
    {
     "data": {
      "text/plain": [
       " PeopleInHousehold       Region               State       MetroAreaCode  \n",
       " Min.   : 1.000    Midwest  :30684   California  :11570   Min.   :10420  \n",
       " 1st Qu.: 2.000    Northeast:25939   Texas       : 7077   1st Qu.:21780  \n",
       " Median : 3.000    South    :41502   New York    : 5595   Median :34740  \n",
       " Mean   : 3.284    West     :33177   Florida     : 5149   Mean   :35075  \n",
       " 3rd Qu.: 4.000                      Pennsylvania: 3930   3rd Qu.:41860  \n",
       " Max.   :15.000                      Illinois    : 3912   Max.   :79600  \n",
       "                                     (Other)     :94069   NA's   :34238  \n",
       "      Age                 Married          Sex       \n",
       " Min.   : 0.00   Divorced     :11151   Female:67481  \n",
       " 1st Qu.:19.00   Married      :55509   Male  :63821  \n",
       " Median :39.00   Never Married:30772                 \n",
       " Mean   :38.83   Separated    : 2027                 \n",
       " 3rd Qu.:57.00   Widowed      : 6505                 \n",
       " Max.   :85.00   NA's         :25338                 \n",
       "                                                     \n",
       "                   Education                   Race           Hispanic     \n",
       " High school            :30906   American Indian :  1433   Min.   :0.0000  \n",
       " Bachelor's degree      :19443   Asian           :  6520   1st Qu.:0.0000  \n",
       " Some college, no degree:18863   Black           : 13913   Median :0.0000  \n",
       " No high school diploma :16095   Multiracial     :  2897   Mean   :0.1393  \n",
       " Associate degree       : 9913   Pacific Islander:   618   3rd Qu.:0.0000  \n",
       " (Other)                :10744   White           :105921   Max.   :1.0000  \n",
       " NA's                   :25338                                             \n",
       " CountryOfBirthCode               Citizenship               EmploymentStatus\n",
       " Min.   : 57.00     Citizen, Native     :116639   Disabled          : 5712  \n",
       " 1st Qu.: 57.00     Citizen, Naturalized:  7073   Employed          :61733  \n",
       " Median : 57.00     Non-Citizen         :  7590   Not in Labor Force:15246  \n",
       " Mean   : 82.68                                   Retired           :18619  \n",
       " 3rd Qu.: 57.00                                   Unemployed        : 4203  \n",
       " Max.   :555.00                                   NA's              :25789  \n",
       "                                                                            \n",
       "                               Industry    \n",
       " Educational and health services   :15017  \n",
       " Trade                             : 8933  \n",
       " Professional and business services: 7519  \n",
       " Manufacturing                     : 6791  \n",
       " Leisure and hospitality           : 6364  \n",
       " (Other)                           :21618  \n",
       " NA's                              :65060  "
      ]
     },
     "execution_count": 2,
     "metadata": {},
     "output_type": "execute_result"
    }
   ],
   "source": [
    "summary(CPS)"
   ]
  },
  {
   "cell_type": "code",
   "execution_count": 3,
   "metadata": {
    "collapsed": false
   },
   "outputs": [
    {
     "name": "stdout",
     "output_type": "stream",
     "text": [
      "'data.frame':\t131302 obs. of  14 variables:\n",
      " $ PeopleInHousehold : int  1 3 3 3 3 3 3 2 2 2 ...\n",
      " $ Region            : Factor w/ 4 levels \"Midwest\",\"Northeast\",..: 3 3 3 3 3 3 3 3 3 3 ...\n",
      " $ State             : Factor w/ 51 levels \"Alabama\",\"Alaska\",..: 1 1 1 1 1 1 1 1 1 1 ...\n",
      " $ MetroAreaCode     : int  26620 13820 13820 13820 26620 26620 26620 33660 33660 26620 ...\n",
      " $ Age               : int  85 21 37 18 52 24 26 71 43 52 ...\n",
      " $ Married           : Factor w/ 5 levels \"Divorced\",\"Married\",..: 5 3 3 3 5 3 3 1 1 3 ...\n",
      " $ Sex               : Factor w/ 2 levels \"Female\",\"Male\": 1 2 1 2 1 2 2 1 2 2 ...\n",
      " $ Education         : Factor w/ 8 levels \"Associate degree\",..: 1 4 4 6 1 2 4 4 4 2 ...\n",
      " $ Race              : Factor w/ 6 levels \"American Indian\",..: 6 3 3 3 6 6 6 6 6 6 ...\n",
      " $ Hispanic          : int  0 0 0 0 0 0 0 0 0 0 ...\n",
      " $ CountryOfBirthCode: int  57 57 57 57 57 57 57 57 57 57 ...\n",
      " $ Citizenship       : Factor w/ 3 levels \"Citizen, Native\",..: 1 1 1 1 1 1 1 1 1 1 ...\n",
      " $ EmploymentStatus  : Factor w/ 5 levels \"Disabled\",\"Employed\",..: 4 5 1 3 2 2 2 2 3 2 ...\n",
      " $ Industry          : Factor w/ 14 levels \"Agriculture, forestry, fishing, and hunting\",..: NA 11 NA NA 11 4 14 4 NA 12 ...\n"
     ]
    }
   ],
   "source": [
    "str(CPS)"
   ]
  },
  {
   "cell_type": "code",
   "execution_count": 4,
   "metadata": {
    "collapsed": false
   },
   "outputs": [
    {
     "data": {
      "text/html": [
       "<dl class=dl-horizontal>\n",
       "\t<dt>Northeast</dt>\n",
       "\t\t<dd>25939</dd>\n",
       "\t<dt>Midwest</dt>\n",
       "\t\t<dd>30684</dd>\n",
       "\t<dt>West</dt>\n",
       "\t\t<dd>33177</dd>\n",
       "\t<dt>South</dt>\n",
       "\t\t<dd>41502</dd>\n",
       "</dl>\n"
      ],
      "text/latex": [
       "\\begin{description*}\n",
       "\\item[Northeast] 25939\n",
       "\\item[Midwest] 30684\n",
       "\\item[West] 33177\n",
       "\\item[South] 41502\n",
       "\\end{description*}\n"
      ],
      "text/markdown": [
       "Northeast\n",
       ":   25939Midwest\n",
       ":   30684West\n",
       ":   33177South\n",
       ":   41502\n",
       "\n"
      ],
      "text/plain": [
       "\n",
       "Northeast   Midwest      West     South \n",
       "    25939     30684     33177     41502 "
      ]
     },
     "execution_count": 4,
     "metadata": {},
     "output_type": "execute_result"
    }
   ],
   "source": [
    "sort(table(CPS$Region))"
   ]
  },
  {
   "cell_type": "code",
   "execution_count": 5,
   "metadata": {
    "collapsed": false
   },
   "outputs": [
    {
     "data": {
      "text/html": [
       "<dl class=dl-horizontal>\n",
       "\t<dt>New Mexico</dt>\n",
       "\t\t<dd>1102</dd>\n",
       "\t<dt>Montana</dt>\n",
       "\t\t<dd>1214</dd>\n",
       "\t<dt>Mississippi</dt>\n",
       "\t\t<dd>1230</dd>\n",
       "\t<dt>Alabama</dt>\n",
       "\t\t<dd>1376</dd>\n",
       "\t<dt>West Virginia</dt>\n",
       "\t\t<dd>1409</dd>\n",
       "\t<dt>Arkansas</dt>\n",
       "\t\t<dd>1421</dd>\n",
       "\t<dt>Louisiana</dt>\n",
       "\t\t<dd>1450</dd>\n",
       "\t<dt>Idaho</dt>\n",
       "\t\t<dd>1518</dd>\n",
       "\t<dt>Oklahoma</dt>\n",
       "\t\t<dd>1523</dd>\n",
       "\t<dt>Arizona</dt>\n",
       "\t\t<dd>1528</dd>\n",
       "\t<dt>Alaska</dt>\n",
       "\t\t<dd>1590</dd>\n",
       "\t<dt>Wyoming</dt>\n",
       "\t\t<dd>1624</dd>\n",
       "\t<dt>North Dakota</dt>\n",
       "\t\t<dd>1645</dd>\n",
       "\t<dt>South Carolina</dt>\n",
       "\t\t<dd>1658</dd>\n",
       "\t<dt>Tennessee</dt>\n",
       "\t\t<dd>1784</dd>\n",
       "\t<dt>District of Columbia</dt>\n",
       "\t\t<dd>1791</dd>\n",
       "\t<dt>Kentucky</dt>\n",
       "\t\t<dd>1841</dd>\n",
       "\t<dt>Utah</dt>\n",
       "\t\t<dd>1842</dd>\n",
       "\t<dt>Nevada</dt>\n",
       "\t\t<dd>1856</dd>\n",
       "\t<dt>Vermont</dt>\n",
       "\t\t<dd>1890</dd>\n",
       "\t<dt>Kansas</dt>\n",
       "\t\t<dd>1935</dd>\n",
       "\t<dt>Oregon</dt>\n",
       "\t\t<dd>1943</dd>\n",
       "\t<dt>Nebraska</dt>\n",
       "\t\t<dd>1949</dd>\n",
       "\t<dt>Massachusetts</dt>\n",
       "\t\t<dd>1987</dd>\n",
       "\t<dt>South Dakota</dt>\n",
       "\t\t<dd>2000</dd>\n",
       "\t<dt>Indiana</dt>\n",
       "\t\t<dd>2004</dd>\n",
       "\t<dt>Hawaii</dt>\n",
       "\t\t<dd>2099</dd>\n",
       "\t<dt>Missouri</dt>\n",
       "\t\t<dd>2145</dd>\n",
       "\t<dt>Rhode Island</dt>\n",
       "\t\t<dd>2209</dd>\n",
       "\t<dt>Delaware</dt>\n",
       "\t\t<dd>2214</dd>\n",
       "\t<dt>Maine</dt>\n",
       "\t\t<dd>2263</dd>\n",
       "\t<dt>Washington</dt>\n",
       "\t\t<dd>2366</dd>\n",
       "\t<dt>Iowa</dt>\n",
       "\t\t<dd>2528</dd>\n",
       "\t<dt>New Jersey</dt>\n",
       "\t\t<dd>2567</dd>\n",
       "\t<dt>North Carolina</dt>\n",
       "\t\t<dd>2619</dd>\n",
       "\t<dt>New Hampshire</dt>\n",
       "\t\t<dd>2662</dd>\n",
       "\t<dt>Wisconsin</dt>\n",
       "\t\t<dd>2686</dd>\n",
       "\t<dt>Georgia</dt>\n",
       "\t\t<dd>2807</dd>\n",
       "\t<dt>Connecticut</dt>\n",
       "\t\t<dd>2836</dd>\n",
       "\t<dt>Colorado</dt>\n",
       "\t\t<dd>2925</dd>\n",
       "\t<dt>Virginia</dt>\n",
       "\t\t<dd>2953</dd>\n",
       "\t<dt>Michigan</dt>\n",
       "\t\t<dd>3063</dd>\n",
       "\t<dt>Minnesota</dt>\n",
       "\t\t<dd>3139</dd>\n",
       "\t<dt>Maryland</dt>\n",
       "\t\t<dd>3200</dd>\n",
       "\t<dt>Ohio</dt>\n",
       "\t\t<dd>3678</dd>\n",
       "\t<dt>Illinois</dt>\n",
       "\t\t<dd>3912</dd>\n",
       "\t<dt>Pennsylvania</dt>\n",
       "\t\t<dd>3930</dd>\n",
       "\t<dt>Florida</dt>\n",
       "\t\t<dd>5149</dd>\n",
       "\t<dt>New York</dt>\n",
       "\t\t<dd>5595</dd>\n",
       "\t<dt>Texas</dt>\n",
       "\t\t<dd>7077</dd>\n",
       "\t<dt>California</dt>\n",
       "\t\t<dd>11570</dd>\n",
       "</dl>\n"
      ],
      "text/latex": [
       "\\begin{description*}\n",
       "\\item[New Mexico] 1102\n",
       "\\item[Montana] 1214\n",
       "\\item[Mississippi] 1230\n",
       "\\item[Alabama] 1376\n",
       "\\item[West Virginia] 1409\n",
       "\\item[Arkansas] 1421\n",
       "\\item[Louisiana] 1450\n",
       "\\item[Idaho] 1518\n",
       "\\item[Oklahoma] 1523\n",
       "\\item[Arizona] 1528\n",
       "\\item[Alaska] 1590\n",
       "\\item[Wyoming] 1624\n",
       "\\item[North Dakota] 1645\n",
       "\\item[South Carolina] 1658\n",
       "\\item[Tennessee] 1784\n",
       "\\item[District of Columbia] 1791\n",
       "\\item[Kentucky] 1841\n",
       "\\item[Utah] 1842\n",
       "\\item[Nevada] 1856\n",
       "\\item[Vermont] 1890\n",
       "\\item[Kansas] 1935\n",
       "\\item[Oregon] 1943\n",
       "\\item[Nebraska] 1949\n",
       "\\item[Massachusetts] 1987\n",
       "\\item[South Dakota] 2000\n",
       "\\item[Indiana] 2004\n",
       "\\item[Hawaii] 2099\n",
       "\\item[Missouri] 2145\n",
       "\\item[Rhode Island] 2209\n",
       "\\item[Delaware] 2214\n",
       "\\item[Maine] 2263\n",
       "\\item[Washington] 2366\n",
       "\\item[Iowa] 2528\n",
       "\\item[New Jersey] 2567\n",
       "\\item[North Carolina] 2619\n",
       "\\item[New Hampshire] 2662\n",
       "\\item[Wisconsin] 2686\n",
       "\\item[Georgia] 2807\n",
       "\\item[Connecticut] 2836\n",
       "\\item[Colorado] 2925\n",
       "\\item[Virginia] 2953\n",
       "\\item[Michigan] 3063\n",
       "\\item[Minnesota] 3139\n",
       "\\item[Maryland] 3200\n",
       "\\item[Ohio] 3678\n",
       "\\item[Illinois] 3912\n",
       "\\item[Pennsylvania] 3930\n",
       "\\item[Florida] 5149\n",
       "\\item[New York] 5595\n",
       "\\item[Texas] 7077\n",
       "\\item[California] 11570\n",
       "\\end{description*}\n"
      ],
      "text/markdown": [
       "New Mexico\n",
       ":   1102Montana\n",
       ":   1214Mississippi\n",
       ":   1230Alabama\n",
       ":   1376West Virginia\n",
       ":   1409Arkansas\n",
       ":   1421Louisiana\n",
       ":   1450Idaho\n",
       ":   1518Oklahoma\n",
       ":   1523Arizona\n",
       ":   1528Alaska\n",
       ":   1590Wyoming\n",
       ":   1624North Dakota\n",
       ":   1645South Carolina\n",
       ":   1658Tennessee\n",
       ":   1784District of Columbia\n",
       ":   1791Kentucky\n",
       ":   1841Utah\n",
       ":   1842Nevada\n",
       ":   1856Vermont\n",
       ":   1890Kansas\n",
       ":   1935Oregon\n",
       ":   1943Nebraska\n",
       ":   1949Massachusetts\n",
       ":   1987South Dakota\n",
       ":   2000Indiana\n",
       ":   2004Hawaii\n",
       ":   2099Missouri\n",
       ":   2145Rhode Island\n",
       ":   2209Delaware\n",
       ":   2214Maine\n",
       ":   2263Washington\n",
       ":   2366Iowa\n",
       ":   2528New Jersey\n",
       ":   2567North Carolina\n",
       ":   2619New Hampshire\n",
       ":   2662Wisconsin\n",
       ":   2686Georgia\n",
       ":   2807Connecticut\n",
       ":   2836Colorado\n",
       ":   2925Virginia\n",
       ":   2953Michigan\n",
       ":   3063Minnesota\n",
       ":   3139Maryland\n",
       ":   3200Ohio\n",
       ":   3678Illinois\n",
       ":   3912Pennsylvania\n",
       ":   3930Florida\n",
       ":   5149New York\n",
       ":   5595Texas\n",
       ":   7077California\n",
       ":   11570\n",
       "\n"
      ],
      "text/plain": [
       "\n",
       "          New Mexico              Montana          Mississippi \n",
       "                1102                 1214                 1230 \n",
       "             Alabama        West Virginia             Arkansas \n",
       "                1376                 1409                 1421 \n",
       "           Louisiana                Idaho             Oklahoma \n",
       "                1450                 1518                 1523 \n",
       "             Arizona               Alaska              Wyoming \n",
       "                1528                 1590                 1624 \n",
       "        North Dakota       South Carolina            Tennessee \n",
       "                1645                 1658                 1784 \n",
       "District of Columbia             Kentucky                 Utah \n",
       "                1791                 1841                 1842 \n",
       "              Nevada              Vermont               Kansas \n",
       "                1856                 1890                 1935 \n",
       "              Oregon             Nebraska        Massachusetts \n",
       "                1943                 1949                 1987 \n",
       "        South Dakota              Indiana               Hawaii \n",
       "                2000                 2004                 2099 \n",
       "            Missouri         Rhode Island             Delaware \n",
       "                2145                 2209                 2214 \n",
       "               Maine           Washington                 Iowa \n",
       "                2263                 2366                 2528 \n",
       "          New Jersey       North Carolina        New Hampshire \n",
       "                2567                 2619                 2662 \n",
       "           Wisconsin              Georgia          Connecticut \n",
       "                2686                 2807                 2836 \n",
       "            Colorado             Virginia             Michigan \n",
       "                2925                 2953                 3063 \n",
       "           Minnesota             Maryland                 Ohio \n",
       "                3139                 3200                 3678 \n",
       "            Illinois         Pennsylvania              Florida \n",
       "                3912                 3930                 5149 \n",
       "            New York                Texas           California \n",
       "                5595                 7077                11570 "
      ]
     },
     "execution_count": 5,
     "metadata": {},
     "output_type": "execute_result"
    }
   ],
   "source": [
    "sort(table(CPS$State))"
   ]
  },
  {
   "cell_type": "code",
   "execution_count": 6,
   "metadata": {
    "collapsed": false
   },
   "outputs": [
    {
     "data": {
      "text/html": [
       "<dl class=dl-horizontal>\n",
       "\t<dt>Citizen, Naturalized</dt>\n",
       "\t\t<dd>7073</dd>\n",
       "\t<dt>Non-Citizen</dt>\n",
       "\t\t<dd>7590</dd>\n",
       "\t<dt>Citizen, Native</dt>\n",
       "\t\t<dd>116639</dd>\n",
       "</dl>\n"
      ],
      "text/latex": [
       "\\begin{description*}\n",
       "\\item[Citizen, Naturalized] 7073\n",
       "\\item[Non-Citizen] 7590\n",
       "\\item[Citizen, Native] 116639\n",
       "\\end{description*}\n"
      ],
      "text/markdown": [
       "Citizen, Naturalized\n",
       ":   7073Non-Citizen\n",
       ":   7590Citizen, Native\n",
       ":   116639\n",
       "\n"
      ],
      "text/plain": [
       "\n",
       "Citizen, Naturalized          Non-Citizen      Citizen, Native \n",
       "                7073                 7590               116639 "
      ]
     },
     "execution_count": 6,
     "metadata": {},
     "output_type": "execute_result"
    }
   ],
   "source": [
    "sort(table(CPS$Citizenship))"
   ]
  },
  {
   "cell_type": "code",
   "execution_count": 7,
   "metadata": {
    "collapsed": false
   },
   "outputs": [
    {
     "data": {
      "text/html": [
       "0.942194330627104"
      ],
      "text/latex": [
       "0.942194330627104"
      ],
      "text/markdown": [
       "0.942194330627104"
      ],
      "text/plain": [
       "[1] 0.9421943"
      ]
     },
     "execution_count": 7,
     "metadata": {},
     "output_type": "execute_result"
    }
   ],
   "source": [
    "(116639+7073)/(116639+7073+7590)"
   ]
  },
  {
   "cell_type": "code",
   "execution_count": null,
   "metadata": {
    "collapsed": true
   },
   "outputs": [],
   "source": []
  },
  {
   "cell_type": "code",
   "execution_count": 8,
   "metadata": {
    "collapsed": false
   },
   "outputs": [
    {
     "data": {
      "text/plain": [
       "           \n",
       "            FALSE  TRUE\n",
       "  Midwest   24609  6075\n",
       "  Northeast 21432  4507\n",
       "  South     33535  7967\n",
       "  West      26388  6789"
      ]
     },
     "execution_count": 8,
     "metadata": {},
     "output_type": "execute_result"
    }
   ],
   "source": [
    "table(CPS$Region, is.na(CPS$Married))"
   ]
  },
  {
   "cell_type": "code",
   "execution_count": 9,
   "metadata": {
    "collapsed": false
   },
   "outputs": [
    {
     "data": {
      "text/plain": [
       "                      \n",
       "                       FALSE  TRUE\n",
       "  Citizen, Native      91956 24683\n",
       "  Citizen, Naturalized  6910   163\n",
       "  Non-Citizen           7098   492"
      ]
     },
     "execution_count": 9,
     "metadata": {},
     "output_type": "execute_result"
    }
   ],
   "source": [
    "table(CPS$Citizenship, is.na(CPS$Married))"
   ]
  },
  {
   "cell_type": "code",
   "execution_count": 10,
   "metadata": {
    "collapsed": false
   },
   "outputs": [
    {
     "data": {
      "text/plain": [
       "    \n",
       "     FALSE TRUE\n",
       "  0      0 1283\n",
       "  1      0 1559\n",
       "  2      0 1574\n",
       "  3      0 1693\n",
       "  4      0 1695\n",
       "  5      0 1795\n",
       "  6      0 1721\n",
       "  7      0 1681\n",
       "  8      0 1729\n",
       "  9      0 1748\n",
       "  10     0 1750\n",
       "  11     0 1721\n",
       "  12     0 1797\n",
       "  13     0 1802\n",
       "  14     0 1790\n",
       "  15  1795    0\n",
       "  16  1751    0\n",
       "  17  1764    0\n",
       "  18  1596    0\n",
       "  19  1517    0\n",
       "  20  1398    0\n",
       "  21  1525    0\n",
       "  22  1536    0\n",
       "  23  1638    0\n",
       "  24  1627    0\n",
       "  25  1604    0\n",
       "  26  1643    0\n",
       "  27  1657    0\n",
       "  28  1736    0\n",
       "  29  1645    0\n",
       "  30  1854    0\n",
       "  31  1762    0\n",
       "  32  1790    0\n",
       "  33  1804    0\n",
       "  34  1653    0\n",
       "  35  1716    0\n",
       "  36  1663    0\n",
       "  37  1531    0\n",
       "  38  1530    0\n",
       "  39  1542    0\n",
       "  40  1571    0\n",
       "  41  1673    0\n",
       "  42  1711    0\n",
       "  43  1819    0\n",
       "  44  1764    0\n",
       "  45  1749    0\n",
       "  46  1665    0\n",
       "  47  1647    0\n",
       "  48  1791    0\n",
       "  49  1989    0\n",
       "  50  1966    0\n",
       "  51  1931    0\n",
       "  52  1935    0\n",
       "  53  1994    0\n",
       "  54  1912    0\n",
       "  55  1895    0\n",
       "  56  1935    0\n",
       "  57  1827    0\n",
       "  58  1874    0\n",
       "  59  1758    0\n",
       "  60  1746    0\n",
       "  61  1735    0\n",
       "  62  1595    0\n",
       "  63  1596    0\n",
       "  64  1519    0\n",
       "  65  1569    0\n",
       "  66  1577    0\n",
       "  67  1227    0\n",
       "  68  1130    0\n",
       "  69  1062    0\n",
       "  70  1195    0\n",
       "  71  1031    0\n",
       "  72   941    0\n",
       "  73   896    0\n",
       "  74   842    0\n",
       "  75   763    0\n",
       "  76   729    0\n",
       "  77   698    0\n",
       "  78   659    0\n",
       "  79   661    0\n",
       "  80  2664    0\n",
       "  85  2446    0"
      ]
     },
     "execution_count": 10,
     "metadata": {},
     "output_type": "execute_result"
    }
   ],
   "source": [
    "table(CPS$Age, is.na(CPS$Married))"
   ]
  },
  {
   "cell_type": "code",
   "execution_count": 11,
   "metadata": {
    "collapsed": false
   },
   "outputs": [
    {
     "data": {
      "text/plain": [
       "        \n",
       "         FALSE  TRUE\n",
       "  Female 55264 12217\n",
       "  Male   50700 13121"
      ]
     },
     "execution_count": 11,
     "metadata": {},
     "output_type": "execute_result"
    }
   ],
   "source": [
    "table(CPS$Sex, is.na(CPS$Married))"
   ]
  },
  {
   "cell_type": "code",
   "execution_count": null,
   "metadata": {
    "collapsed": true
   },
   "outputs": [],
   "source": []
  },
  {
   "cell_type": "code",
   "execution_count": null,
   "metadata": {
    "collapsed": true
   },
   "outputs": [],
   "source": []
  },
  {
   "cell_type": "code",
   "execution_count": 12,
   "metadata": {
    "collapsed": false
   },
   "outputs": [
    {
     "data": {
      "text/plain": [
       "                      \n",
       "                       FALSE  TRUE\n",
       "  Alabama               1020   356\n",
       "  Alaska                   0  1590\n",
       "  Arizona               1327   201\n",
       "  Arkansas               724   697\n",
       "  California           11333   237\n",
       "  Colorado              2545   380\n",
       "  Connecticut           2593   243\n",
       "  Delaware              1696   518\n",
       "  District of Columbia  1791     0\n",
       "  Florida               4947   202\n",
       "  Georgia               2250   557\n",
       "  Hawaii                1576   523\n",
       "  Idaho                  761   757\n",
       "  Illinois              3473   439\n",
       "  Indiana               1420   584\n",
       "  Iowa                  1297  1231\n",
       "  Kansas                1234   701\n",
       "  Kentucky               908   933\n",
       "  Louisiana             1216   234\n",
       "  Maine                  909  1354\n",
       "  Maryland              2978   222\n",
       "  Massachusetts         1858   129\n",
       "  Michigan              2517   546\n",
       "  Minnesota             2150   989\n",
       "  Mississippi            376   854\n",
       "  Missouri              1440   705\n",
       "  Montana                199  1015\n",
       "  Nebraska               816  1133\n",
       "  Nevada                1609   247\n",
       "  New Hampshire         1148  1514\n",
       "  New Jersey            2567     0\n",
       "  New Mexico             832   270\n",
       "  New York              5144   451\n",
       "  North Carolina        1642   977\n",
       "  North Dakota           432  1213\n",
       "  Ohio                  2754   924\n",
       "  Oklahoma              1024   499\n",
       "  Oregon                1519   424\n",
       "  Pennsylvania          3245   685\n",
       "  Rhode Island          2209     0\n",
       "  South Carolina        1139   519\n",
       "  South Dakota           595  1405\n",
       "  Tennessee             1149   635\n",
       "  Texas                 6060  1017\n",
       "  Utah                  1455   387\n",
       "  Vermont                657  1233\n",
       "  Virginia              2367   586\n",
       "  Washington            1937   429\n",
       "  West Virginia          344  1065\n",
       "  Wisconsin             1882   804\n",
       "  Wyoming                  0  1624"
      ]
     },
     "execution_count": 12,
     "metadata": {},
     "output_type": "execute_result"
    }
   ],
   "source": [
    "table(CPS$State, is.na(CPS$MetroAreaCode))"
   ]
  },
  {
   "cell_type": "code",
   "execution_count": 13,
   "metadata": {
    "collapsed": false
   },
   "outputs": [
    {
     "data": {
      "text/plain": [
       "           \n",
       "            FALSE  TRUE\n",
       "  Midwest   20010 10674\n",
       "  Northeast 20330  5609\n",
       "  South     31631  9871\n",
       "  West      25093  8084"
      ]
     },
     "execution_count": 13,
     "metadata": {},
     "output_type": "execute_result"
    }
   ],
   "source": [
    "table(CPS$Region, is.na(CPS$MetroAreaCode))"
   ]
  },
  {
   "cell_type": "code",
   "execution_count": null,
   "metadata": {
    "collapsed": true
   },
   "outputs": [],
   "source": []
  },
  {
   "cell_type": "code",
   "execution_count": null,
   "metadata": {
    "collapsed": true
   },
   "outputs": [],
   "source": []
  },
  {
   "cell_type": "code",
   "execution_count": 14,
   "metadata": {
    "collapsed": true
   },
   "outputs": [],
   "source": [
    "MetroAreaMap = read.csv(\"MetroAreaCodes.csv\")"
   ]
  },
  {
   "cell_type": "code",
   "execution_count": 15,
   "metadata": {
    "collapsed": true
   },
   "outputs": [],
   "source": [
    "CountryOfBirthCode = read.csv(\"CountryCodes.csv\")"
   ]
  },
  {
   "cell_type": "code",
   "execution_count": null,
   "metadata": {
    "collapsed": true
   },
   "outputs": [],
   "source": []
  },
  {
   "cell_type": "code",
   "execution_count": 17,
   "metadata": {
    "collapsed": false
   },
   "outputs": [
    {
     "name": "stdout",
     "output_type": "stream",
     "text": [
      "'data.frame':\t271 obs. of  2 variables:\n",
      " $ Code     : int  460 3000 3160 3610 3720 6450 10420 10500 10580 10740 ...\n",
      " $ MetroArea: Factor w/ 271 levels \"Akron, OH\",\"Albany-Schenectady-Troy, NY\",..: 12 92 97 117 122 195 1 3 2 4 ...\n"
     ]
    }
   ],
   "source": [
    "str(MetroAreaMap)"
   ]
  },
  {
   "cell_type": "code",
   "execution_count": 18,
   "metadata": {
    "collapsed": false
   },
   "outputs": [
    {
     "name": "stdout",
     "output_type": "stream",
     "text": [
      "'data.frame':\t149 obs. of  2 variables:\n",
      " $ Code   : int  57 66 73 78 96 100 102 103 104 105 ...\n",
      " $ Country: Factor w/ 149 levels \"Afghanistan\",..: 139 57 105 135 97 3 11 18 24 37 ...\n"
     ]
    }
   ],
   "source": [
    "str(CountryOfBirthCode)"
   ]
  },
  {
   "cell_type": "code",
   "execution_count": null,
   "metadata": {
    "collapsed": true
   },
   "outputs": [],
   "source": []
  },
  {
   "cell_type": "code",
   "execution_count": null,
   "metadata": {
    "collapsed": true
   },
   "outputs": [],
   "source": []
  },
  {
   "cell_type": "code",
   "execution_count": null,
   "metadata": {
    "collapsed": false
   },
   "outputs": [],
   "source": [
    "CPS = merge(CPS, MetroAreaMap)"
   ]
  },
  {
   "cell_type": "code",
   "execution_count": null,
   "metadata": {
    "collapsed": true
   },
   "outputs": [],
   "source": []
  }
 ],
 "metadata": {
  "kernelspec": {
   "display_name": "R",
   "language": "R",
   "name": "ir"
  },
  "language_info": {
   "codemirror_mode": "r",
   "file_extension": ".r",
   "mimetype": "text/x-r-source",
   "name": "R",
   "pygments_lexer": "r",
   "version": "3.2.1"
  }
 },
 "nbformat": 4,
 "nbformat_minor": 0
}
