{
 "cells": [
  {
   "cell_type": "markdown",
   "metadata": {},
   "source": [
    "# STOCK DYNAMICS"
   ]
  },
  {
   "cell_type": "code",
   "execution_count": null,
   "metadata": {
    "collapsed": true
   },
   "outputs": [],
   "source": []
  },
  {
   "cell_type": "code",
   "execution_count": null,
   "metadata": {
    "collapsed": true
   },
   "outputs": [],
   "source": []
  },
  {
   "cell_type": "code",
   "execution_count": null,
   "metadata": {
    "collapsed": true
   },
   "outputs": [],
   "source": []
  },
  {
   "cell_type": "code",
   "execution_count": 1,
   "metadata": {
    "collapsed": true
   },
   "outputs": [],
   "source": [
    "IBM = read.csv(\"IBMStock.csv\")"
   ]
  },
  {
   "cell_type": "code",
   "execution_count": 2,
   "metadata": {
    "collapsed": true
   },
   "outputs": [],
   "source": [
    "GE = read.csv(\"GEStock.csv\")"
   ]
  },
  {
   "cell_type": "code",
   "execution_count": 3,
   "metadata": {
    "collapsed": true
   },
   "outputs": [],
   "source": [
    "CocaCola = read.csv(\"CocaColaStock.csv\")"
   ]
  },
  {
   "cell_type": "code",
   "execution_count": 4,
   "metadata": {
    "collapsed": true
   },
   "outputs": [],
   "source": [
    "ProcterGamble = read.csv(\"ProcterGambleStock.csv\")"
   ]
  },
  {
   "cell_type": "code",
   "execution_count": 5,
   "metadata": {
    "collapsed": true
   },
   "outputs": [],
   "source": [
    "Boeing = read.csv(\"BoeingStock.csv\")"
   ]
  },
  {
   "cell_type": "code",
   "execution_count": null,
   "metadata": {
    "collapsed": true
   },
   "outputs": [],
   "source": []
  },
  {
   "cell_type": "code",
   "execution_count": 6,
   "metadata": {
    "collapsed": true
   },
   "outputs": [],
   "source": [
    "IBM$Date = as.Date(IBM$Date, \"%m/%d/%y\")"
   ]
  },
  {
   "cell_type": "code",
   "execution_count": 8,
   "metadata": {
    "collapsed": true
   },
   "outputs": [],
   "source": [
    "GE$Date = as.Date(GE$Date, \"%m/%d/%y\")"
   ]
  },
  {
   "cell_type": "code",
   "execution_count": 9,
   "metadata": {
    "collapsed": true
   },
   "outputs": [],
   "source": [
    "CocaCola$Date = as.Date(CocaCola$Date, \"%m/%d/%y\")"
   ]
  },
  {
   "cell_type": "code",
   "execution_count": 10,
   "metadata": {
    "collapsed": true
   },
   "outputs": [],
   "source": [
    "ProcterGamble$Date = as.Date(ProcterGamble$Date, \"%m/%d/%y\")"
   ]
  },
  {
   "cell_type": "code",
   "execution_count": 11,
   "metadata": {
    "collapsed": true
   },
   "outputs": [],
   "source": [
    "Boeing$Date = as.Date(Boeing$Date, \"%m/%d/%y\")"
   ]
  },
  {
   "cell_type": "code",
   "execution_count": null,
   "metadata": {
    "collapsed": true
   },
   "outputs": [],
   "source": []
  },
  {
   "cell_type": "code",
   "execution_count": null,
   "metadata": {
    "collapsed": true
   },
   "outputs": [],
   "source": []
  },
  {
   "cell_type": "code",
   "execution_count": 12,
   "metadata": {
    "collapsed": false
   },
   "outputs": [
    {
     "name": "stdout",
     "output_type": "stream",
     "text": [
      "'data.frame':\t480 obs. of  2 variables:\n",
      " $ Date      : Date, format: \"1970-01-01\" \"1970-02-01\" ...\n",
      " $ StockPrice: num  360 347 327 320 270 ...\n"
     ]
    }
   ],
   "source": [
    "str(IBM)"
   ]
  },
  {
   "cell_type": "code",
   "execution_count": 13,
   "metadata": {
    "collapsed": false
   },
   "outputs": [
    {
     "name": "stdout",
     "output_type": "stream",
     "text": [
      "'data.frame':\t480 obs. of  2 variables:\n",
      " $ Date      : Date, format: \"1970-01-01\" \"1970-02-01\" ...\n",
      " $ StockPrice: num  74.3 70 72.2 74.3 66.7 ...\n"
     ]
    }
   ],
   "source": [
    "str(GE)"
   ]
  },
  {
   "cell_type": "code",
   "execution_count": null,
   "metadata": {
    "collapsed": true
   },
   "outputs": [],
   "source": []
  },
  {
   "cell_type": "code",
   "execution_count": 15,
   "metadata": {
    "collapsed": false
   },
   "outputs": [
    {
     "data": {
      "text/plain": [
       "[1] \"1970-01-01\""
      ]
     },
     "execution_count": 15,
     "metadata": {},
     "output_type": "execute_result"
    }
   ],
   "source": [
    "min(GE$Date)"
   ]
  },
  {
   "cell_type": "code",
   "execution_count": 16,
   "metadata": {
    "collapsed": false
   },
   "outputs": [
    {
     "data": {
      "text/html": [
       "<table>\n",
       "<thead><tr><th></th><th scope=col>Date</th><th scope=col>StockPrice</th></tr></thead>\n",
       "<tbody>\n",
       "\t<tr><th scope=row>1</th><td>1970-01-01</td><td>360.319</td></tr>\n",
       "\t<tr><th scope=row>2</th><td>1970-02-01</td><td>346.7237</td></tr>\n",
       "\t<tr><th scope=row>3</th><td>1970-03-01</td><td>327.3457</td></tr>\n",
       "\t<tr><th scope=row>4</th><td>1970-04-01</td><td>319.8527</td></tr>\n",
       "\t<tr><th scope=row>5</th><td>1970-05-01</td><td>270.3752</td></tr>\n",
       "\t<tr><th scope=row>6</th><td>1970-06-01</td><td>267.205</td></tr>\n",
       "</tbody>\n",
       "</table>\n"
      ],
      "text/latex": [
       "\\begin{tabular}{r|ll}\n",
       "  & Date & StockPrice\\\\\n",
       "\\hline\n",
       "\t1 & 1970-01-01 & 360.319\\\\\n",
       "\t2 & 1970-02-01 & 346.7237\\\\\n",
       "\t3 & 1970-03-01 & 327.3457\\\\\n",
       "\t4 & 1970-04-01 & 319.8527\\\\\n",
       "\t5 & 1970-05-01 & 270.3752\\\\\n",
       "\t6 & 1970-06-01 & 267.205\\\\\n",
       "\\end{tabular}\n"
      ],
      "text/plain": [
       "        Date StockPrice\n",
       "1 1970-01-01   360.3190\n",
       "2 1970-02-01   346.7237\n",
       "3 1970-03-01   327.3457\n",
       "4 1970-04-01   319.8527\n",
       "5 1970-05-01   270.3752\n",
       "6 1970-06-01   267.2050"
      ]
     },
     "execution_count": 16,
     "metadata": {},
     "output_type": "execute_result"
    }
   ],
   "source": [
    "head(IBM)"
   ]
  },
  {
   "cell_type": "code",
   "execution_count": 18,
   "metadata": {
    "collapsed": false
   },
   "outputs": [
    {
     "data": {
      "text/plain": [
       "[1] \"2009-12-01\""
      ]
     },
     "execution_count": 18,
     "metadata": {},
     "output_type": "execute_result"
    }
   ],
   "source": [
    "max(GE$Date)"
   ]
  },
  {
   "cell_type": "code",
   "execution_count": 19,
   "metadata": {
    "collapsed": false
   },
   "outputs": [
    {
     "data": {
      "text/plain": [
       "      Date              StockPrice    \n",
       " Min.   :1970-01-01   Min.   : 43.40  \n",
       " 1st Qu.:1979-12-24   1st Qu.: 88.34  \n",
       " Median :1989-12-16   Median :112.11  \n",
       " Mean   :1989-12-15   Mean   :144.38  \n",
       " 3rd Qu.:1999-12-08   3rd Qu.:165.41  \n",
       " Max.   :2009-12-01   Max.   :438.90  "
      ]
     },
     "execution_count": 19,
     "metadata": {},
     "output_type": "execute_result"
    }
   ],
   "source": [
    "summary(IBM)"
   ]
  },
  {
   "cell_type": "code",
   "execution_count": 20,
   "metadata": {
    "collapsed": false
   },
   "outputs": [
    {
     "data": {
      "text/plain": [
       "      Date              StockPrice     \n",
       " Min.   :1970-01-01   Min.   :  9.294  \n",
       " 1st Qu.:1979-12-24   1st Qu.: 44.214  \n",
       " Median :1989-12-16   Median : 55.812  \n",
       " Mean   :1989-12-15   Mean   : 59.303  \n",
       " 3rd Qu.:1999-12-08   3rd Qu.: 72.226  \n",
       " Max.   :2009-12-01   Max.   :156.844  "
      ]
     },
     "execution_count": 20,
     "metadata": {},
     "output_type": "execute_result"
    }
   ],
   "source": [
    "summary(GE)"
   ]
  },
  {
   "cell_type": "code",
   "execution_count": 21,
   "metadata": {
    "collapsed": false
   },
   "outputs": [
    {
     "data": {
      "text/plain": [
       "      Date              StockPrice    \n",
       " Min.   :1970-01-01   Min.   : 30.06  \n",
       " 1st Qu.:1979-12-24   1st Qu.: 42.76  \n",
       " Median :1989-12-16   Median : 51.44  \n",
       " Mean   :1989-12-15   Mean   : 60.03  \n",
       " 3rd Qu.:1999-12-08   3rd Qu.: 69.62  \n",
       " Max.   :2009-12-01   Max.   :146.58  "
      ]
     },
     "execution_count": 21,
     "metadata": {},
     "output_type": "execute_result"
    }
   ],
   "source": [
    "summary(CocaCola)"
   ]
  },
  {
   "cell_type": "code",
   "execution_count": 22,
   "metadata": {
    "collapsed": false
   },
   "outputs": [
    {
     "data": {
      "text/plain": [
       "      Date              StockPrice    \n",
       " Min.   :1970-01-01   Min.   : 12.74  \n",
       " 1st Qu.:1979-12-24   1st Qu.: 34.64  \n",
       " Median :1989-12-16   Median : 44.88  \n",
       " Mean   :1989-12-15   Mean   : 46.59  \n",
       " 3rd Qu.:1999-12-08   3rd Qu.: 57.21  \n",
       " Max.   :2009-12-01   Max.   :107.28  "
      ]
     },
     "execution_count": 22,
     "metadata": {},
     "output_type": "execute_result"
    }
   ],
   "source": [
    "summary(Boeing)"
   ]
  },
  {
   "cell_type": "code",
   "execution_count": 23,
   "metadata": {
    "collapsed": false
   },
   "outputs": [
    {
     "data": {
      "text/html": [
       "18.1941403079716"
      ],
      "text/latex": [
       "18.1941403079716"
      ],
      "text/markdown": [
       "18.1941403079716"
      ],
      "text/plain": [
       "[1] 18.19414"
      ]
     },
     "execution_count": 23,
     "metadata": {},
     "output_type": "execute_result"
    }
   ],
   "source": [
    "sd(ProcterGamble$StockPrice)"
   ]
  },
  {
   "cell_type": "code",
   "execution_count": null,
   "metadata": {
    "collapsed": true
   },
   "outputs": [],
   "source": []
  },
  {
   "cell_type": "code",
   "execution_count": null,
   "metadata": {
    "collapsed": true
   },
   "outputs": [],
   "source": []
  },
  {
   "cell_type": "code",
   "execution_count": 37,
   "metadata": {
    "collapsed": false
   },
   "outputs": [
    {
     "data": {
      "image/png": "[encoded data removed]",
      "image/svg+xml": [
       "<?xml version=\"1.0\" encoding=\"UTF-8\"?>\n",
       "<svg xmlns=\"http://www.w3.org/2000/svg\" xmlns:xlink=\"http://www.w3.org/1999/xlink\" width=\"504pt\" height=\"504pt\" viewBox=\"0 0 504 504\" version=\"1.1\">\n",
       "<defs>\n",
       "<g>\n",
       "<symbol overflow=\"visible\" id=\"glyph0-0\">\n",
       "<path style=\"stroke:none;\" d=\"M 4.46875 0 L 3.414063 0 L 3.414063 -6.71875 C 3.160156 -6.476563 2.828125 -6.234375 2.414063 -5.996094 C 2 -5.75 1.628906 -5.570313 1.304688 -5.449219 L 1.304688 -6.46875 C 1.894531 -6.742188 2.410156 -7.078125 2.851563 -7.476563 C 3.292969 -7.871094 3.605469 -8.253906 3.789063 -8.625 L 4.46875 -8.625 Z M 4.46875 0 \"/>\n",
       "</symbol>\n",
       "<symbol overflow=\"visible\" id=\"glyph0-1\">\n",
       "<path style=\"stroke:none;\" d=\"M 0.65625 -1.984375 L 1.671875 -2.078125 C 1.75 -1.601563 1.914063 -1.257813 2.160156 -1.042969 C 2.398438 -0.824219 2.710938 -0.714844 3.09375 -0.71875 C 3.414063 -0.714844 3.695313 -0.789063 3.945313 -0.941406 C 4.1875 -1.085938 4.390625 -1.285156 4.546875 -1.535156 C 4.703125 -1.785156 4.832031 -2.121094 4.9375 -2.542969 C 5.042969 -2.964844 5.097656 -3.394531 5.097656 -3.832031 C 5.097656 -3.878906 5.09375 -3.949219 5.09375 -4.042969 C 4.875 -3.707031 4.585938 -3.433594 4.226563 -3.226563 C 3.859375 -3.015625 3.464844 -2.910156 3.039063 -2.914063 C 2.328125 -2.910156 1.726563 -3.167969 1.238281 -3.6875 C 0.742188 -4.199219 0.496094 -4.878906 0.5 -5.726563 C 0.496094 -6.59375 0.753906 -7.296875 1.269531 -7.828125 C 1.78125 -8.359375 2.425781 -8.625 3.199219 -8.625 C 3.757813 -8.625 4.265625 -8.472656 4.730469 -8.171875 C 5.191406 -7.871094 5.542969 -7.441406 5.785156 -6.886719 C 6.023438 -6.328125 6.144531 -5.523438 6.148438 -4.46875 C 6.144531 -3.371094 6.027344 -2.496094 5.789063 -1.847656 C 5.546875 -1.195313 5.191406 -0.703125 4.722656 -0.363281 C 4.253906 -0.0234375 3.703125 0.144531 3.070313 0.148438 C 2.398438 0.144531 1.847656 -0.0390625 1.421875 -0.410156 C 0.996094 -0.785156 0.742188 -1.308594 0.65625 -1.984375 Z M 4.976563 -5.777344 C 4.972656 -6.382813 4.8125 -6.863281 4.492188 -7.21875 C 4.167969 -7.570313 3.78125 -7.746094 3.328125 -7.75 C 2.859375 -7.746094 2.449219 -7.554688 2.101563 -7.175781 C 1.753906 -6.789063 1.582031 -6.292969 1.582031 -5.6875 C 1.582031 -5.136719 1.746094 -4.691406 2.074219 -4.355469 C 2.402344 -4.011719 2.808594 -3.84375 3.296875 -3.84375 C 3.785156 -3.84375 4.1875 -4.011719 4.503906 -4.355469 C 4.816406 -4.691406 4.972656 -5.167969 4.976563 -5.777344 Z M 4.976563 -5.777344 \"/>\n",
       "</symbol>\n",
       "<symbol overflow=\"visible\" id=\"glyph0-2\">\n",
       "<path style=\"stroke:none;\" d=\"M 0.570313 -7.464844 L 0.570313 -8.476563 L 6.128906 -8.476563 L 6.128906 -7.65625 C 5.582031 -7.074219 5.039063 -6.300781 4.5 -5.335938 C 3.960938 -4.371094 3.546875 -3.378906 3.257813 -2.359375 C 3.046875 -1.636719 2.910156 -0.851563 2.851563 0 L 1.769531 0 C 1.78125 -0.675781 1.914063 -1.492188 2.167969 -2.449219 C 2.417969 -3.402344 2.78125 -4.324219 3.257813 -5.214844 C 3.734375 -6.105469 4.238281 -6.855469 4.773438 -7.464844 Z M 0.570313 -7.464844 \"/>\n",
       "</symbol>\n",
       "<symbol overflow=\"visible\" id=\"glyph0-3\">\n",
       "<path style=\"stroke:none;\" d=\"M 0.5 -4.234375 C 0.496094 -5.246094 0.601563 -6.0625 0.8125 -6.6875 C 1.019531 -7.304688 1.328125 -7.785156 1.742188 -8.121094 C 2.148438 -8.457031 2.667969 -8.625 3.296875 -8.625 C 3.757813 -8.625 4.164063 -8.53125 4.511719 -8.347656 C 4.855469 -8.160156 5.140625 -7.890625 5.371094 -7.542969 C 5.59375 -7.191406 5.773438 -6.765625 5.90625 -6.265625 C 6.035156 -5.761719 6.097656 -5.085938 6.101563 -4.234375 C 6.097656 -3.226563 5.996094 -2.414063 5.789063 -1.796875 C 5.578125 -1.175781 5.265625 -0.695313 4.859375 -0.359375 C 4.445313 -0.0195313 3.925781 0.144531 3.296875 0.148438 C 2.464844 0.144531 1.816406 -0.148438 1.347656 -0.742188 C 0.78125 -1.457031 0.496094 -2.621094 0.5 -4.234375 Z M 1.582031 -4.234375 C 1.582031 -2.824219 1.746094 -1.886719 2.074219 -1.417969 C 2.402344 -0.949219 2.808594 -0.714844 3.296875 -0.71875 C 3.777344 -0.714844 4.183594 -0.949219 4.519531 -1.421875 C 4.847656 -1.886719 5.015625 -2.824219 5.015625 -4.234375 C 5.015625 -5.648438 4.847656 -6.589844 4.519531 -7.054688 C 4.183594 -7.515625 3.773438 -7.746094 3.289063 -7.75 C 2.800781 -7.746094 2.414063 -7.542969 2.125 -7.136719 C 1.761719 -6.613281 1.582031 -5.644531 1.582031 -4.234375 Z M 1.582031 -4.234375 \"/>\n",
       "</symbol>\n",
       "<symbol overflow=\"visible\" id=\"glyph0-4\">\n",
       "<path style=\"stroke:none;\" d=\"M 2.121094 -4.65625 C 1.683594 -4.816406 1.359375 -5.046875 1.148438 -5.34375 C 0.9375 -5.640625 0.832031 -5.996094 0.832031 -6.410156 C 0.832031 -7.035156 1.054688 -7.558594 1.503906 -7.984375 C 1.953125 -8.410156 2.550781 -8.625 3.296875 -8.625 C 4.042969 -8.625 4.648438 -8.40625 5.109375 -7.972656 C 5.566406 -7.535156 5.792969 -7.003906 5.796875 -6.382813 C 5.792969 -5.976563 5.6875 -5.628906 5.480469 -5.339844 C 5.269531 -5.042969 4.953125 -4.816406 4.53125 -4.65625 C 5.054688 -4.480469 5.457031 -4.203125 5.734375 -3.824219 C 6.007813 -3.4375 6.144531 -2.980469 6.148438 -2.453125 C 6.144531 -1.714844 5.886719 -1.097656 5.367188 -0.601563 C 4.84375 -0.101563 4.160156 0.144531 3.316406 0.148438 C 2.46875 0.144531 1.785156 -0.101563 1.265625 -0.605469 C 0.742188 -1.105469 0.480469 -1.734375 0.484375 -2.484375 C 0.480469 -3.039063 0.621094 -3.503906 0.910156 -3.886719 C 1.191406 -4.261719 1.597656 -4.519531 2.121094 -4.65625 Z M 1.910156 -6.445313 C 1.910156 -6.039063 2.039063 -5.707031 2.300781 -5.449219 C 2.5625 -5.191406 2.902344 -5.0625 3.320313 -5.0625 C 3.722656 -5.0625 4.054688 -5.1875 4.320313 -5.445313 C 4.578125 -5.695313 4.710938 -6.011719 4.710938 -6.386719 C 4.710938 -6.773438 4.574219 -7.097656 4.308594 -7.363281 C 4.035156 -7.625 3.703125 -7.757813 3.3125 -7.757813 C 2.90625 -7.757813 2.574219 -7.628906 2.308594 -7.371094 C 2.042969 -7.113281 1.910156 -6.804688 1.910156 -6.445313 Z M 1.570313 -2.476563 C 1.570313 -2.175781 1.640625 -1.886719 1.785156 -1.605469 C 1.925781 -1.324219 2.136719 -1.105469 2.421875 -0.949219 C 2.699219 -0.792969 3.003906 -0.714844 3.328125 -0.71875 C 3.832031 -0.714844 4.246094 -0.878906 4.578125 -1.207031 C 4.902344 -1.53125 5.066406 -1.941406 5.070313 -2.445313 C 5.066406 -2.945313 4.898438 -3.367188 4.5625 -3.703125 C 4.222656 -4.035156 3.800781 -4.199219 3.292969 -4.203125 C 2.792969 -4.199219 2.378906 -4.035156 2.058594 -3.710938 C 1.730469 -3.378906 1.570313 -2.96875 1.570313 -2.476563 Z M 1.570313 -2.476563 \"/>\n",
       "</symbol>\n",
       "<symbol overflow=\"visible\" id=\"glyph0-5\">\n",
       "<path style=\"stroke:none;\" d=\"M 6.039063 -1.015625 L 6.039063 0 L 0.363281 0 C 0.355469 -0.253906 0.394531 -0.496094 0.484375 -0.734375 C 0.628906 -1.117188 0.859375 -1.5 1.179688 -1.875 C 1.492188 -2.25 1.953125 -2.683594 2.5625 -3.175781 C 3.492188 -3.941406 4.125 -4.546875 4.453125 -4.992188 C 4.78125 -5.4375 4.945313 -5.859375 4.945313 -6.265625 C 4.945313 -6.679688 4.792969 -7.03125 4.496094 -7.320313 C 4.191406 -7.601563 3.804688 -7.746094 3.328125 -7.75 C 2.820313 -7.746094 2.414063 -7.59375 2.109375 -7.292969 C 1.804688 -6.984375 1.648438 -6.5625 1.648438 -6.03125 L 0.5625 -6.140625 C 0.632813 -6.945313 0.910156 -7.558594 1.398438 -7.988281 C 1.878906 -8.410156 2.53125 -8.625 3.351563 -8.625 C 4.171875 -8.625 4.824219 -8.394531 5.308594 -7.9375 C 5.789063 -7.480469 6.027344 -6.914063 6.03125 -6.242188 C 6.027344 -5.894531 5.957031 -5.558594 5.820313 -5.226563 C 5.675781 -4.890625 5.441406 -4.539063 5.117188 -4.175781 C 4.789063 -3.804688 4.25 -3.300781 3.492188 -2.664063 C 2.859375 -2.128906 2.453125 -1.769531 2.273438 -1.582031 C 2.09375 -1.394531 1.945313 -1.203125 1.828125 -1.015625 Z M 6.039063 -1.015625 \"/>\n",
       "</symbol>\n",
       "<symbol overflow=\"visible\" id=\"glyph0-6\">\n",
       "<path style=\"stroke:none;\" d=\"M 7.054688 -3.011719 L 8.191406 -2.726563 C 7.953125 -1.789063 7.523438 -1.078125 6.90625 -0.585938 C 6.285156 -0.0976563 5.527344 0.144531 4.632813 0.148438 C 3.707031 0.144531 2.953125 -0.0390625 2.375 -0.417969 C 1.792969 -0.792969 1.351563 -1.339844 1.050781 -2.054688 C 0.746094 -2.769531 0.597656 -3.539063 0.597656 -4.359375 C 0.597656 -5.253906 0.765625 -6.03125 1.109375 -6.699219 C 1.449219 -7.363281 1.9375 -7.871094 2.570313 -8.214844 C 3.199219 -8.558594 3.894531 -8.730469 4.652344 -8.734375 C 5.511719 -8.730469 6.234375 -8.511719 6.820313 -8.078125 C 7.40625 -7.636719 7.8125 -7.023438 8.046875 -6.234375 L 6.925781 -5.96875 C 6.722656 -6.589844 6.433594 -7.046875 6.058594 -7.335938 C 5.679688 -7.621094 5.203125 -7.761719 4.628906 -7.765625 C 3.96875 -7.761719 3.414063 -7.605469 2.972656 -7.289063 C 2.527344 -6.96875 2.21875 -6.542969 2.039063 -6.011719 C 1.859375 -5.480469 1.769531 -4.929688 1.769531 -4.367188 C 1.769531 -3.632813 1.875 -2.996094 2.085938 -2.449219 C 2.296875 -1.902344 2.628906 -1.496094 3.082031 -1.230469 C 3.53125 -0.960938 4.015625 -0.824219 4.539063 -0.828125 C 5.175781 -0.824219 5.714844 -1.007813 6.15625 -1.378906 C 6.597656 -1.742188 6.898438 -2.289063 7.054688 -3.011719 Z M 7.054688 -3.011719 \"/>\n",
       "</symbol>\n",
       "<symbol overflow=\"visible\" id=\"glyph0-7\">\n",
       "<path style=\"stroke:none;\" d=\"M 0.398438 -3.109375 C 0.398438 -4.261719 0.71875 -5.117188 1.359375 -5.671875 C 1.894531 -6.132813 2.546875 -6.363281 3.316406 -6.363281 C 4.171875 -6.363281 4.871094 -6.082031 5.414063 -5.519531 C 5.953125 -4.957031 6.222656 -4.183594 6.226563 -3.199219 C 6.222656 -2.398438 6.101563 -1.765625 5.867188 -1.308594 C 5.625 -0.847656 5.277344 -0.492188 4.820313 -0.238281 C 4.359375 0.015625 3.859375 0.140625 3.316406 0.140625 C 2.441406 0.140625 1.734375 -0.136719 1.203125 -0.695313 C 0.664063 -1.253906 0.398438 -2.058594 0.398438 -3.109375 Z M 1.484375 -3.109375 C 1.480469 -2.308594 1.65625 -1.710938 2.003906 -1.320313 C 2.347656 -0.921875 2.785156 -0.726563 3.316406 -0.726563 C 3.839844 -0.726563 4.273438 -0.925781 4.621094 -1.324219 C 4.96875 -1.722656 5.144531 -2.328125 5.144531 -3.148438 C 5.144531 -3.914063 4.96875 -4.496094 4.617188 -4.894531 C 4.265625 -5.289063 3.832031 -5.488281 3.316406 -5.492188 C 2.785156 -5.488281 2.347656 -5.292969 2.003906 -4.898438 C 1.65625 -4.5 1.480469 -3.902344 1.484375 -3.109375 Z M 1.484375 -3.109375 \"/>\n",
       "</symbol>\n",
       "<symbol overflow=\"visible\" id=\"glyph0-8\">\n",
       "<path style=\"stroke:none;\" d=\"M 4.851563 -2.28125 L 5.890625 -2.144531 C 5.773438 -1.425781 5.484375 -0.863281 5.019531 -0.464844 C 4.550781 -0.0585938 3.976563 0.140625 3.296875 0.140625 C 2.445313 0.140625 1.761719 -0.136719 1.246094 -0.695313 C 0.726563 -1.25 0.46875 -2.046875 0.46875 -3.085938 C 0.46875 -3.753906 0.578125 -4.34375 0.800781 -4.851563 C 1.023438 -5.355469 1.363281 -5.730469 1.816406 -5.984375 C 2.269531 -6.234375 2.765625 -6.363281 3.304688 -6.363281 C 3.980469 -6.363281 4.53125 -6.191406 4.964844 -5.847656 C 5.390625 -5.503906 5.667969 -5.019531 5.789063 -4.394531 L 4.765625 -4.234375 C 4.664063 -4.652344 4.492188 -4.96875 4.246094 -5.179688 C 3.996094 -5.390625 3.695313 -5.496094 3.34375 -5.496094 C 2.808594 -5.496094 2.378906 -5.304688 2.050781 -4.921875 C 1.71875 -4.539063 1.550781 -3.9375 1.554688 -3.117188 C 1.550781 -2.28125 1.710938 -1.671875 2.035156 -1.292969 C 2.351563 -0.914063 2.769531 -0.726563 3.289063 -0.726563 C 3.695313 -0.726563 4.042969 -0.851563 4.324219 -1.105469 C 4.601563 -1.359375 4.777344 -1.75 4.851563 -2.28125 Z M 4.851563 -2.28125 \"/>\n",
       "</symbol>\n",
       "<symbol overflow=\"visible\" id=\"glyph0-9\">\n",
       "<path style=\"stroke:none;\" d=\"M 4.851563 -0.765625 C 4.460938 -0.433594 4.082031 -0.199219 3.722656 -0.0625 C 3.355469 0.0742188 2.96875 0.140625 2.5625 0.140625 C 1.875 0.140625 1.351563 -0.0234375 0.984375 -0.359375 C 0.617188 -0.6875 0.433594 -1.117188 0.433594 -1.640625 C 0.433594 -1.945313 0.5 -2.222656 0.640625 -2.472656 C 0.777344 -2.722656 0.960938 -2.925781 1.1875 -3.082031 C 1.410156 -3.234375 1.664063 -3.347656 1.945313 -3.429688 C 2.152344 -3.476563 2.464844 -3.53125 2.882813 -3.585938 C 3.734375 -3.6875 4.359375 -3.808594 4.765625 -3.949219 C 4.765625 -4.089844 4.769531 -4.179688 4.769531 -4.226563 C 4.769531 -4.648438 4.667969 -4.953125 4.46875 -5.132813 C 4.199219 -5.371094 3.800781 -5.488281 3.269531 -5.492188 C 2.769531 -5.488281 2.402344 -5.402344 2.167969 -5.230469 C 1.933594 -5.054688 1.757813 -4.746094 1.648438 -4.304688 L 0.617188 -4.445313 C 0.707031 -4.886719 0.863281 -5.242188 1.078125 -5.515625 C 1.289063 -5.78125 1.597656 -5.992188 2.007813 -6.140625 C 2.410156 -6.289063 2.882813 -6.363281 3.421875 -6.363281 C 3.953125 -6.363281 4.382813 -6.300781 4.714844 -6.175781 C 5.046875 -6.050781 5.292969 -5.890625 5.449219 -5.703125 C 5.605469 -5.511719 5.714844 -5.273438 5.777344 -4.984375 C 5.808594 -4.804688 5.824219 -4.480469 5.828125 -4.015625 L 5.828125 -2.609375 C 5.824219 -1.625 5.847656 -1.003906 5.894531 -0.746094 C 5.941406 -0.484375 6.03125 -0.238281 6.164063 0 L 5.0625 0 C 4.953125 -0.21875 4.882813 -0.472656 4.851563 -0.765625 Z M 4.765625 -3.125 C 4.375 -2.964844 3.800781 -2.832031 3.039063 -2.726563 C 2.605469 -2.660156 2.300781 -2.589844 2.121094 -2.515625 C 1.941406 -2.433594 1.800781 -2.320313 1.703125 -2.171875 C 1.605469 -2.019531 1.558594 -1.851563 1.558594 -1.671875 C 1.558594 -1.386719 1.664063 -1.152344 1.875 -0.96875 C 2.085938 -0.777344 2.398438 -0.683594 2.8125 -0.6875 C 3.21875 -0.683594 3.578125 -0.773438 3.894531 -0.953125 C 4.210938 -1.128906 4.445313 -1.371094 4.59375 -1.679688 C 4.707031 -1.917969 4.761719 -2.269531 4.765625 -2.734375 Z M 4.765625 -3.125 \"/>\n",
       "</symbol>\n",
       "<symbol overflow=\"visible\" id=\"glyph0-10\">\n",
       "<path style=\"stroke:none;\" d=\"M 0.765625 0 L 0.765625 -8.589844 L 1.820313 -8.589844 L 1.820313 0 Z M 0.765625 0 \"/>\n",
       "</symbol>\n",
       "<symbol overflow=\"visible\" id=\"glyph0-11\">\n",
       "<path style=\"stroke:none;\" d=\"M 2.988281 1.234375 L 2.988281 0.179688 C 2.457031 0.113281 2.027344 0 1.699219 -0.171875 C 1.371094 -0.339844 1.085938 -0.617188 0.84375 -0.996094 C 0.601563 -1.371094 0.460938 -1.832031 0.429688 -2.382813 L 1.488281 -2.585938 C 1.566406 -2.015625 1.710938 -1.601563 1.921875 -1.335938 C 2.21875 -0.960938 2.574219 -0.75 2.988281 -0.710938 L 2.988281 -4.066406 C 2.550781 -4.144531 2.105469 -4.3125 1.65625 -4.570313 C 1.320313 -4.757813 1.0625 -5.015625 0.882813 -5.347656 C 0.699219 -5.679688 0.609375 -6.058594 0.609375 -6.480469 C 0.609375 -7.230469 0.875 -7.835938 1.40625 -8.304688 C 1.757813 -8.613281 2.285156 -8.804688 2.988281 -8.875 L 2.988281 -9.382813 L 3.609375 -9.382813 L 3.609375 -8.875 C 4.222656 -8.816406 4.707031 -8.636719 5.070313 -8.335938 C 5.523438 -7.953125 5.800781 -7.429688 5.898438 -6.761719 L 4.8125 -6.597656 C 4.746094 -7.011719 4.617188 -7.328125 4.421875 -7.550781 C 4.222656 -7.769531 3.953125 -7.914063 3.609375 -7.984375 L 3.609375 -4.945313 C 4.140625 -4.8125 4.492188 -4.707031 4.664063 -4.632813 C 4.992188 -4.488281 5.257813 -4.3125 5.464844 -4.105469 C 5.671875 -3.898438 5.832031 -3.652344 5.941406 -3.367188 C 6.050781 -3.082031 6.105469 -2.773438 6.109375 -2.445313 C 6.105469 -1.710938 5.875 -1.101563 5.414063 -0.613281 C 4.949219 -0.125 4.347656 0.132813 3.609375 0.171875 L 3.609375 1.234375 Z M 2.988281 -8 C 2.578125 -7.933594 2.253906 -7.769531 2.019531 -7.507813 C 1.78125 -7.238281 1.664063 -6.925781 1.664063 -6.5625 C 1.664063 -6.203125 1.761719 -5.902344 1.964844 -5.660156 C 2.160156 -5.417969 2.503906 -5.222656 2.988281 -5.078125 Z M 3.609375 -0.710938 C 4.019531 -0.757813 4.355469 -0.9375 4.625 -1.242188 C 4.890625 -1.546875 5.027344 -1.921875 5.027344 -2.375 C 5.027344 -2.75 4.929688 -3.058594 4.742188 -3.292969 C 4.550781 -3.527344 4.175781 -3.734375 3.609375 -3.921875 Z M 3.609375 -0.710938 \"/>\n",
       "</symbol>\n",
       "<symbol overflow=\"visible\" id=\"glyph0-12\">\n",
       "<path style=\"stroke:none;\" d=\"M 0.925781 0 L 0.925781 -8.589844 L 3.882813 -8.589844 C 4.550781 -8.589844 5.0625 -8.546875 5.414063 -8.46875 C 5.90625 -8.351563 6.324219 -8.148438 6.671875 -7.851563 C 7.121094 -7.46875 7.460938 -6.976563 7.6875 -6.382813 C 7.914063 -5.785156 8.027344 -5.105469 8.027344 -4.34375 C 8.027344 -3.6875 7.949219 -3.109375 7.796875 -2.605469 C 7.644531 -2.101563 7.449219 -1.683594 7.210938 -1.355469 C 6.972656 -1.019531 6.710938 -0.761719 6.429688 -0.574219 C 6.144531 -0.386719 5.804688 -0.242188 5.40625 -0.144531 C 5.003906 -0.046875 4.542969 0 4.023438 0 Z M 2.0625 -1.015625 L 3.898438 -1.015625 C 4.460938 -1.011719 4.90625 -1.066406 5.226563 -1.171875 C 5.546875 -1.273438 5.804688 -1.421875 6 -1.617188 C 6.269531 -1.886719 6.476563 -2.246094 6.628906 -2.703125 C 6.777344 -3.15625 6.855469 -3.710938 6.855469 -4.359375 C 6.855469 -5.257813 6.707031 -5.945313 6.410156 -6.429688 C 6.113281 -6.910156 5.753906 -7.234375 5.335938 -7.398438 C 5.03125 -7.515625 4.542969 -7.574219 3.867188 -7.578125 L 2.0625 -7.578125 Z M 2.0625 -1.015625 \"/>\n",
       "</symbol>\n",
       "<symbol overflow=\"visible\" id=\"glyph0-13\">\n",
       "<path style=\"stroke:none;\" d=\"M 3.09375 -0.945313 L 3.246094 -0.0117188 C 2.949219 0.0507813 2.683594 0.0820313 2.449219 0.0820313 C 2.066406 0.0820313 1.769531 0.0234375 1.558594 -0.0976563 C 1.347656 -0.21875 1.199219 -0.378906 1.113281 -0.578125 C 1.027344 -0.773438 0.984375 -1.1875 0.984375 -1.820313 L 0.984375 -5.402344 L 0.210938 -5.402344 L 0.210938 -6.222656 L 0.984375 -6.222656 L 0.984375 -7.765625 L 2.03125 -8.398438 L 2.03125 -6.222656 L 3.09375 -6.222656 L 3.09375 -5.402344 L 2.03125 -5.402344 L 2.03125 -1.765625 C 2.027344 -1.460938 2.046875 -1.269531 2.085938 -1.183594 C 2.125 -1.097656 2.183594 -1.027344 2.269531 -0.976563 C 2.351563 -0.925781 2.472656 -0.902344 2.632813 -0.902344 C 2.742188 -0.902344 2.898438 -0.914063 3.09375 -0.945313 Z M 3.09375 -0.945313 \"/>\n",
       "</symbol>\n",
       "<symbol overflow=\"visible\" id=\"glyph0-14\">\n",
       "<path style=\"stroke:none;\" d=\"M 5.050781 -2.003906 L 6.140625 -1.867188 C 5.96875 -1.230469 5.648438 -0.738281 5.183594 -0.386719 C 4.71875 -0.0351563 4.125 0.140625 3.40625 0.140625 C 2.492188 0.140625 1.769531 -0.136719 1.238281 -0.699219 C 0.699219 -1.253906 0.433594 -2.042969 0.4375 -3.058594 C 0.433594 -4.105469 0.703125 -4.917969 1.246094 -5.496094 C 1.78125 -6.074219 2.480469 -6.363281 3.34375 -6.363281 C 4.175781 -6.363281 4.855469 -6.078125 5.382813 -5.511719 C 5.910156 -4.945313 6.175781 -4.148438 6.175781 -3.125 C 6.175781 -3.058594 6.171875 -2.964844 6.171875 -2.84375 L 1.53125 -2.84375 C 1.5625 -2.15625 1.757813 -1.632813 2.109375 -1.269531 C 2.457031 -0.90625 2.890625 -0.726563 3.410156 -0.726563 C 3.796875 -0.726563 4.125 -0.828125 4.402344 -1.03125 C 4.671875 -1.234375 4.890625 -1.558594 5.050781 -2.003906 Z M 1.585938 -3.710938 L 5.0625 -3.710938 C 5.015625 -4.226563 4.882813 -4.621094 4.664063 -4.886719 C 4.328125 -5.292969 3.890625 -5.496094 3.359375 -5.496094 C 2.871094 -5.496094 2.464844 -5.332031 2.136719 -5.007813 C 1.804688 -4.683594 1.621094 -4.25 1.585938 -3.710938 Z M 1.585938 -3.710938 \"/>\n",
       "</symbol>\n",
       "<symbol overflow=\"visible\" id=\"glyph1-0\">\n",
       "<path style=\"stroke:none;\" d=\"M 0 -3.878906 L -2.054688 -3.878906 L -2.054688 -0.152344 L -3.023438 -0.152344 L -8.589844 -4.074219 L -8.589844 -4.933594 L -3.023438 -4.933594 L -3.023438 -6.09375 L -2.054688 -6.09375 L -2.054688 -4.933594 L 0 -4.933594 Z M -3.023438 -3.878906 L -6.898438 -3.878906 L -3.023438 -1.191406 Z M -3.023438 -3.878906 \"/>\n",
       "</symbol>\n",
       "<symbol overflow=\"visible\" id=\"glyph1-1\">\n",
       "<path style=\"stroke:none;\" d=\"M -4.234375 -0.5 C -5.246094 -0.496094 -6.0625 -0.601563 -6.6875 -0.8125 C -7.304688 -1.019531 -7.785156 -1.328125 -8.121094 -1.742188 C -8.457031 -2.152344 -8.625 -2.671875 -8.625 -3.300781 C -8.625 -3.757813 -8.53125 -4.164063 -8.347656 -4.511719 C -8.160156 -4.859375 -7.890625 -5.144531 -7.542969 -5.371094 C -7.191406 -5.59375 -6.765625 -5.773438 -6.265625 -5.90625 C -5.761719 -6.035156 -5.085938 -6.097656 -4.234375 -6.101563 C -3.222656 -6.097656 -2.410156 -5.996094 -1.792969 -5.789063 C -1.175781 -5.578125 -0.695313 -5.265625 -0.359375 -4.859375 C -0.0195313 -4.445313 0.144531 -3.925781 0.148438 -3.296875 C 0.144531 -2.464844 -0.148438 -1.816406 -0.742188 -1.347656 C -1.457031 -0.78125 -2.621094 -0.496094 -4.234375 -0.5 Z M -4.234375 -1.582031 C -2.824219 -1.582031 -1.886719 -1.746094 -1.417969 -2.074219 C -0.949219 -2.402344 -0.714844 -2.808594 -0.71875 -3.296875 C -0.714844 -3.777344 -0.949219 -4.183594 -1.421875 -4.519531 C -1.886719 -4.847656 -2.824219 -5.015625 -4.234375 -5.015625 C -5.648438 -5.015625 -6.589844 -4.847656 -7.054688 -4.519531 C -7.515625 -4.1875 -7.746094 -3.777344 -7.75 -3.289063 C -7.746094 -2.800781 -7.542969 -2.414063 -7.136719 -2.128906 C -6.613281 -1.761719 -5.644531 -1.582031 -4.234375 -1.582031 Z M -4.234375 -1.582031 \"/>\n",
       "</symbol>\n",
       "<symbol overflow=\"visible\" id=\"glyph1-2\">\n",
       "<path style=\"stroke:none;\" d=\"M -6.484375 -5.96875 L -6.40625 -4.921875 C -6.8125 -4.828125 -7.113281 -4.695313 -7.304688 -4.523438 C -7.605469 -4.238281 -7.757813 -3.886719 -7.757813 -3.46875 C -7.757813 -3.132813 -7.664063 -2.835938 -7.476563 -2.585938 C -7.234375 -2.25 -6.878906 -1.988281 -6.414063 -1.796875 C -5.949219 -1.605469 -5.289063 -1.507813 -4.429688 -1.5 C -4.8125 -1.753906 -5.097656 -2.0625 -5.289063 -2.433594 C -5.472656 -2.796875 -5.566406 -3.183594 -5.570313 -3.585938 C -5.566406 -4.289063 -5.308594 -4.886719 -4.792969 -5.382813 C -4.277344 -5.875 -3.609375 -6.121094 -2.789063 -6.125 C -2.25 -6.121094 -1.746094 -6.003906 -1.285156 -5.773438 C -0.816406 -5.539063 -0.460938 -5.222656 -0.21875 -4.816406 C 0.0273438 -4.410156 0.144531 -3.949219 0.148438 -3.433594 C 0.144531 -2.554688 -0.175781 -1.835938 -0.820313 -1.285156 C -1.46875 -0.726563 -2.535156 -0.449219 -4.019531 -0.453125 C -5.675781 -0.449219 -6.882813 -0.757813 -7.640625 -1.371094 C -8.296875 -1.90625 -8.625 -2.625 -8.625 -3.535156 C -8.625 -4.207031 -8.433594 -4.761719 -8.054688 -5.195313 C -7.675781 -5.625 -7.152344 -5.882813 -6.484375 -5.96875 Z M -2.78125 -1.664063 C -2.417969 -1.664063 -2.070313 -1.738281 -1.738281 -1.894531 C -1.40625 -2.042969 -1.152344 -2.261719 -0.980469 -2.542969 C -0.800781 -2.820313 -0.714844 -3.109375 -0.71875 -3.414063 C -0.714844 -3.859375 -0.894531 -4.242188 -1.257813 -4.566406 C -1.613281 -4.882813 -2.101563 -5.042969 -2.722656 -5.046875 C -3.3125 -5.042969 -3.78125 -4.886719 -4.125 -4.570313 C -4.46875 -4.25 -4.640625 -3.851563 -4.640625 -3.375 C -4.640625 -2.898438 -4.46875 -2.492188 -4.128906 -2.160156 C -3.785156 -1.828125 -3.335938 -1.664063 -2.78125 -1.664063 Z M -2.78125 -1.664063 \"/>\n",
       "</symbol>\n",
       "<symbol overflow=\"visible\" id=\"glyph1-3\">\n",
       "<path style=\"stroke:none;\" d=\"M -4.65625 -2.121094 C -4.816406 -1.683594 -5.046875 -1.359375 -5.34375 -1.148438 C -5.640625 -0.9375 -5.996094 -0.832031 -6.410156 -0.832031 C -7.035156 -0.832031 -7.558594 -1.054688 -7.984375 -1.503906 C -8.410156 -1.953125 -8.625 -2.550781 -8.625 -3.300781 C -8.625 -4.046875 -8.40625 -4.652344 -7.972656 -5.109375 C -7.535156 -5.566406 -7.003906 -5.792969 -6.382813 -5.796875 C -5.976563 -5.792969 -5.628906 -5.6875 -5.339844 -5.480469 C -5.042969 -5.269531 -4.816406 -4.953125 -4.65625 -4.53125 C -4.480469 -5.054688 -4.203125 -5.457031 -3.824219 -5.734375 C -3.4375 -6.007813 -2.980469 -6.144531 -2.453125 -6.148438 C -1.714844 -6.144531 -1.097656 -5.886719 -0.601563 -5.367188 C -0.101563 -4.84375 0.144531 -4.160156 0.148438 -3.316406 C 0.144531 -2.46875 -0.101563 -1.785156 -0.605469 -1.265625 C -1.105469 -0.746094 -1.734375 -0.484375 -2.484375 -0.488281 C -3.039063 -0.484375 -3.503906 -0.625 -3.886719 -0.910156 C -4.261719 -1.191406 -4.519531 -1.597656 -4.65625 -2.121094 Z M -6.445313 -1.910156 C -6.039063 -1.910156 -5.707031 -2.039063 -5.449219 -2.300781 C -5.191406 -2.5625 -5.0625 -2.902344 -5.0625 -3.324219 C -5.0625 -3.726563 -5.1875 -4.058594 -5.445313 -4.320313 C -5.695313 -4.578125 -6.011719 -4.710938 -6.386719 -4.710938 C -6.773438 -4.710938 -7.097656 -4.574219 -7.363281 -4.308594 C -7.625 -4.039063 -7.757813 -3.707031 -7.757813 -3.3125 C -7.757813 -2.90625 -7.628906 -2.574219 -7.371094 -2.308594 C -7.113281 -2.042969 -6.804688 -1.910156 -6.445313 -1.910156 Z M -2.476563 -1.570313 C -2.175781 -1.570313 -1.886719 -1.640625 -1.605469 -1.785156 C -1.324219 -1.925781 -1.105469 -2.136719 -0.949219 -2.421875 C -0.792969 -2.699219 -0.714844 -3.003906 -0.71875 -3.328125 C -0.714844 -3.832031 -0.875 -4.246094 -1.203125 -4.578125 C -1.523438 -4.902344 -1.9375 -5.066406 -2.441406 -5.070313 C -2.945313 -5.066406 -3.367188 -4.898438 -3.703125 -4.5625 C -4.035156 -4.222656 -4.199219 -3.800781 -4.203125 -3.292969 C -4.199219 -2.796875 -4.035156 -2.382813 -3.710938 -2.058594 C -3.378906 -1.730469 -2.96875 -1.570313 -2.476563 -1.570313 Z M -2.476563 -1.570313 \"/>\n",
       "</symbol>\n",
       "<symbol overflow=\"visible\" id=\"glyph1-4\">\n",
       "<path style=\"stroke:none;\" d=\"M 0 -4.46875 L 0 -3.414063 L -6.71875 -3.417969 C -6.476563 -3.160156 -6.234375 -2.828125 -5.996094 -2.417969 C -5.75 -2.003906 -5.570313 -1.632813 -5.449219 -1.308594 L -6.46875 -1.308594 C -6.742188 -1.894531 -7.078125 -2.410156 -7.476563 -2.851563 C -7.871094 -3.292969 -8.253906 -3.605469 -8.625 -3.792969 L -8.625 -4.472656 Z M 0 -4.46875 \"/>\n",
       "</symbol>\n",
       "<symbol overflow=\"visible\" id=\"glyph1-5\">\n",
       "<path style=\"stroke:none;\" d=\"M -1.011719 -6.039063 L 0 -6.039063 L 0 -0.363281 C -0.253906 -0.355469 -0.496094 -0.394531 -0.734375 -0.488281 C -1.117188 -0.628906 -1.5 -0.859375 -1.875 -1.179688 C -2.25 -1.496094 -2.683594 -1.957031 -3.175781 -2.5625 C -3.941406 -3.492188 -4.546875 -4.125 -4.992188 -4.453125 C -5.4375 -4.78125 -5.859375 -4.945313 -6.265625 -4.945313 C -6.679688 -4.945313 -7.03125 -4.792969 -7.320313 -4.496094 C -7.601563 -4.195313 -7.746094 -3.808594 -7.75 -3.328125 C -7.746094 -2.820313 -7.59375 -2.414063 -7.292969 -2.109375 C -6.984375 -1.804688 -6.5625 -1.648438 -6.03125 -1.648438 L -6.140625 -0.5625 C -6.945313 -0.636719 -7.558594 -0.914063 -7.988281 -1.402344 C -8.410156 -1.882813 -8.625 -2.535156 -8.625 -3.351563 C -8.625 -4.175781 -8.394531 -4.828125 -7.9375 -5.308594 C -7.480469 -5.789063 -6.914063 -6.027344 -6.242188 -6.03125 C -5.894531 -6.027344 -5.558594 -5.957031 -5.226563 -5.820313 C -4.890625 -5.675781 -4.539063 -5.441406 -4.175781 -5.117188 C -3.804688 -4.789063 -3.300781 -4.25 -2.664063 -3.492188 C -2.128906 -2.859375 -1.769531 -2.453125 -1.582031 -2.273438 C -1.394531 -2.09375 -1.203125 -1.945313 -1.011719 -1.828125 Z M -1.011719 -6.039063 \"/>\n",
       "</symbol>\n",
       "<symbol overflow=\"visible\" id=\"glyph1-6\">\n",
       "<path style=\"stroke:none;\" d=\"M -3.011719 -7.054688 L -2.722656 -8.191406 C -1.789063 -7.953125 -1.078125 -7.523438 -0.585938 -6.90625 C -0.0976563 -6.285156 0.144531 -5.527344 0.148438 -4.632813 C 0.144531 -3.707031 -0.0390625 -2.953125 -0.417969 -2.375 C -0.792969 -1.792969 -1.339844 -1.351563 -2.054688 -1.050781 C -2.769531 -0.746094 -3.539063 -0.597656 -4.359375 -0.597656 C -5.253906 -0.597656 -6.03125 -0.765625 -6.699219 -1.109375 C -7.363281 -1.449219 -7.871094 -1.9375 -8.214844 -2.570313 C -8.558594 -3.199219 -8.730469 -3.894531 -8.734375 -4.652344 C -8.730469 -5.511719 -8.511719 -6.234375 -8.078125 -6.820313 C -7.636719 -7.40625 -7.023438 -7.8125 -6.234375 -8.046875 L -5.96875 -6.925781 C -6.589844 -6.722656 -7.046875 -6.433594 -7.335938 -6.058594 C -7.621094 -5.679688 -7.761719 -5.203125 -7.765625 -4.628906 C -7.761719 -3.96875 -7.605469 -3.414063 -7.289063 -2.972656 C -6.96875 -2.527344 -6.542969 -2.21875 -6.011719 -2.039063 C -5.480469 -1.859375 -4.929688 -1.769531 -4.367188 -1.769531 C -3.632813 -1.769531 -2.996094 -1.875 -2.449219 -2.085938 C -1.902344 -2.296875 -1.492188 -2.628906 -1.226563 -3.082031 C -0.953125 -3.53125 -0.820313 -4.015625 -0.824219 -4.539063 C -0.820313 -5.175781 -1.003906 -5.714844 -1.375 -6.15625 C -1.738281 -6.597656 -2.285156 -6.898438 -3.011719 -7.054688 Z M -3.011719 -7.054688 \"/>\n",
       "</symbol>\n",
       "<symbol overflow=\"visible\" id=\"glyph1-7\">\n",
       "<path style=\"stroke:none;\" d=\"M -3.109375 -0.398438 C -4.261719 -0.398438 -5.117188 -0.71875 -5.671875 -1.359375 C -6.132813 -1.894531 -6.363281 -2.546875 -6.363281 -3.316406 C -6.363281 -4.171875 -6.082031 -4.871094 -5.519531 -5.414063 C -4.957031 -5.953125 -4.183594 -6.222656 -3.199219 -6.226563 C -2.394531 -6.222656 -1.761719 -6.101563 -1.308594 -5.867188 C -0.847656 -5.625 -0.492188 -5.277344 -0.238281 -4.820313 C 0.015625 -4.359375 0.140625 -3.859375 0.140625 -3.316406 C 0.140625 -2.441406 -0.136719 -1.734375 -0.695313 -1.203125 C -1.253906 -0.664063 -2.058594 -0.398438 -3.109375 -0.398438 Z M -3.109375 -1.484375 C -2.308594 -1.480469 -1.710938 -1.65625 -1.320313 -2.003906 C -0.921875 -2.347656 -0.726563 -2.785156 -0.726563 -3.316406 C -0.726563 -3.839844 -0.925781 -4.273438 -1.324219 -4.621094 C -1.722656 -4.96875 -2.328125 -5.144531 -3.144531 -5.144531 C -3.914063 -5.144531 -4.496094 -4.96875 -4.894531 -4.617188 C -5.289063 -4.265625 -5.488281 -3.832031 -5.492188 -3.316406 C -5.488281 -2.789063 -5.292969 -2.351563 -4.898438 -2.003906 C -4.5 -1.65625 -3.902344 -1.480469 -3.109375 -1.484375 Z M -3.109375 -1.484375 \"/>\n",
       "</symbol>\n",
       "<symbol overflow=\"visible\" id=\"glyph1-8\">\n",
       "<path style=\"stroke:none;\" d=\"M -2.277344 -4.851563 L -2.144531 -5.890625 C -1.425781 -5.773438 -0.863281 -5.484375 -0.464844 -5.019531 C -0.0585938 -4.550781 0.140625 -3.976563 0.140625 -3.296875 C 0.140625 -2.445313 -0.136719 -1.761719 -0.695313 -1.246094 C -1.25 -0.726563 -2.046875 -0.46875 -3.085938 -0.46875 C -3.753906 -0.46875 -4.34375 -0.578125 -4.851563 -0.800781 C -5.355469 -1.023438 -5.730469 -1.363281 -5.984375 -1.820313 C -6.234375 -2.273438 -6.363281 -2.769531 -6.363281 -3.304688 C -6.363281 -3.980469 -6.191406 -4.53125 -5.847656 -4.964844 C -5.503906 -5.390625 -5.019531 -5.667969 -4.394531 -5.789063 L -4.234375 -4.765625 C -4.652344 -4.664063 -4.96875 -4.492188 -5.179688 -4.246094 C -5.390625 -3.996094 -5.496094 -3.695313 -5.496094 -3.347656 C -5.496094 -2.8125 -5.304688 -2.382813 -4.921875 -2.050781 C -4.539063 -1.71875 -3.9375 -1.550781 -3.117188 -1.554688 C -2.28125 -1.550781 -1.671875 -1.710938 -1.292969 -2.035156 C -0.914063 -2.351563 -0.726563 -2.769531 -0.726563 -3.289063 C -0.726563 -3.695313 -0.851563 -4.042969 -1.105469 -4.324219 C -1.359375 -4.601563 -1.75 -4.777344 -2.277344 -4.851563 Z M -2.277344 -4.851563 \"/>\n",
       "</symbol>\n",
       "<symbol overflow=\"visible\" id=\"glyph1-9\">\n",
       "<path style=\"stroke:none;\" d=\"M -0.765625 -4.851563 C -0.433594 -4.460938 -0.199219 -4.082031 -0.0625 -3.722656 C 0.0742188 -3.355469 0.140625 -2.96875 0.140625 -2.5625 C 0.140625 -1.875 -0.0234375 -1.351563 -0.359375 -0.984375 C -0.6875 -0.617188 -1.117188 -0.433594 -1.640625 -0.433594 C -1.945313 -0.433594 -2.222656 -0.5 -2.472656 -0.640625 C -2.722656 -0.777344 -2.925781 -0.960938 -3.082031 -1.1875 C -3.234375 -1.410156 -3.347656 -1.664063 -3.429688 -1.945313 C -3.476563 -2.152344 -3.53125 -2.464844 -3.585938 -2.882813 C -3.6875 -3.734375 -3.808594 -4.359375 -3.949219 -4.765625 C -4.089844 -4.765625 -4.179688 -4.769531 -4.226563 -4.769531 C -4.648438 -4.769531 -4.953125 -4.667969 -5.132813 -4.46875 C -5.371094 -4.199219 -5.488281 -3.800781 -5.492188 -3.269531 C -5.488281 -2.773438 -5.402344 -2.40625 -5.230469 -2.171875 C -5.054688 -1.933594 -4.746094 -1.757813 -4.304688 -1.648438 L -4.445313 -0.617188 C -4.886719 -0.707031 -5.242188 -0.863281 -5.515625 -1.078125 C -5.78125 -1.292969 -5.992188 -1.601563 -6.140625 -2.011719 C -6.289063 -2.414063 -6.363281 -2.886719 -6.363281 -3.421875 C -6.363281 -3.953125 -6.300781 -4.382813 -6.175781 -4.714844 C -6.050781 -5.046875 -5.890625 -5.292969 -5.703125 -5.449219 C -5.511719 -5.605469 -5.273438 -5.714844 -4.984375 -5.777344 C -4.804688 -5.808594 -4.480469 -5.824219 -4.015625 -5.828125 L -2.605469 -5.828125 C -1.625 -5.824219 -1.003906 -5.847656 -0.746094 -5.894531 C -0.480469 -5.941406 -0.234375 -6.03125 0 -6.164063 L 0 -5.0625 C -0.21875 -4.953125 -0.472656 -4.882813 -0.765625 -4.851563 Z M -3.121094 -4.765625 C -2.960938 -4.375 -2.828125 -3.800781 -2.726563 -3.039063 C -2.660156 -2.605469 -2.589844 -2.300781 -2.515625 -2.121094 C -2.433594 -1.941406 -2.320313 -1.800781 -2.171875 -1.703125 C -2.019531 -1.605469 -1.851563 -1.558594 -1.671875 -1.558594 C -1.386719 -1.558594 -1.152344 -1.664063 -0.964844 -1.875 C -0.773438 -2.085938 -0.679688 -2.398438 -0.683594 -2.8125 C -0.679688 -3.21875 -0.769531 -3.578125 -0.949219 -3.894531 C -1.128906 -4.210938 -1.371094 -4.445313 -1.679688 -4.59375 C -1.917969 -4.707031 -2.269531 -4.761719 -2.734375 -4.765625 Z M -3.121094 -4.765625 \"/>\n",
       "</symbol>\n",
       "<symbol overflow=\"visible\" id=\"glyph1-10\">\n",
       "<path style=\"stroke:none;\" d=\"M 0 -0.765625 L -8.589844 -0.769531 L -8.589844 -1.824219 L 0 -1.820313 Z M 0 -0.765625 \"/>\n",
       "</symbol>\n",
       "<symbol overflow=\"visible\" id=\"glyph1-11\">\n",
       "<path style=\"stroke:none;\" d=\"M 1.238281 -2.988281 L 0.183594 -2.988281 C 0.113281 -2.457031 0 -2.027344 -0.171875 -1.699219 C -0.335938 -1.371094 -0.609375 -1.085938 -0.992188 -0.847656 C -1.367188 -0.605469 -1.832031 -0.464844 -2.382813 -0.429688 L -2.585938 -1.488281 C -2.015625 -1.566406 -1.601563 -1.710938 -1.335938 -1.921875 C -0.960938 -2.21875 -0.75 -2.574219 -0.707031 -2.988281 L -4.066406 -2.988281 C -4.144531 -2.554688 -4.3125 -2.109375 -4.570313 -1.660156 C -4.757813 -1.320313 -5.015625 -1.0625 -5.347656 -0.882813 C -5.679688 -0.699219 -6.058594 -0.609375 -6.480469 -0.609375 C -7.230469 -0.609375 -7.835938 -0.875 -8.304688 -1.40625 C -8.613281 -1.761719 -8.804688 -2.289063 -8.875 -2.988281 L -9.382813 -2.988281 L -9.382813 -3.609375 L -8.875 -3.609375 C -8.816406 -4.222656 -8.636719 -4.707031 -8.335938 -5.070313 C -7.953125 -5.527344 -7.429688 -5.804688 -6.761719 -5.898438 L -6.597656 -4.8125 C -7.011719 -4.746094 -7.328125 -4.617188 -7.550781 -4.421875 C -7.769531 -4.222656 -7.914063 -3.953125 -7.984375 -3.609375 L -4.945313 -3.609375 C -4.8125 -4.140625 -4.707031 -4.492188 -4.632813 -4.664063 C -4.488281 -4.992188 -4.3125 -5.257813 -4.105469 -5.464844 C -3.898438 -5.671875 -3.652344 -5.832031 -3.367188 -5.941406 C -3.082031 -6.050781 -2.773438 -6.105469 -2.441406 -6.109375 C -1.710938 -6.105469 -1.101563 -5.875 -0.613281 -5.414063 C -0.125 -4.949219 0.132813 -4.347656 0.171875 -3.609375 L 1.238281 -3.609375 Z M -8 -2.988281 C -7.933594 -2.578125 -7.769531 -2.253906 -7.507813 -2.019531 C -7.238281 -1.78125 -6.925781 -1.664063 -6.5625 -1.664063 C -6.203125 -1.664063 -5.902344 -1.761719 -5.660156 -1.964844 C -5.417969 -2.164063 -5.222656 -2.507813 -5.078125 -2.988281 Z M -0.707031 -3.609375 C -0.757813 -4.019531 -0.9375 -4.355469 -1.242188 -4.625 C -1.546875 -4.890625 -1.921875 -5.027344 -2.371094 -5.027344 C -2.75 -5.027344 -3.058594 -4.929688 -3.292969 -4.742188 C -3.527344 -4.550781 -3.734375 -4.175781 -3.921875 -3.609375 Z M -0.707031 -3.609375 \"/>\n",
       "</symbol>\n",
       "<symbol overflow=\"visible\" id=\"glyph1-12\">\n",
       "<path style=\"stroke:none;\" d=\"M -2.757813 -0.539063 L -2.851563 -1.613281 C -2.421875 -1.660156 -2.070313 -1.777344 -1.796875 -1.964844 C -1.519531 -2.144531 -1.296875 -2.433594 -1.125 -2.828125 C -0.953125 -3.214844 -0.867188 -3.65625 -0.871094 -4.148438 C -0.867188 -4.578125 -0.929688 -4.960938 -1.0625 -5.296875 C -1.1875 -5.628906 -1.367188 -5.875 -1.59375 -6.039063 C -1.820313 -6.199219 -2.066406 -6.28125 -2.332031 -6.28125 C -2.597656 -6.28125 -2.832031 -6.203125 -3.035156 -6.046875 C -3.238281 -5.890625 -3.40625 -5.632813 -3.542969 -5.273438 C -3.632813 -5.042969 -3.773438 -4.53125 -3.964844 -3.746094 C -4.152344 -2.953125 -4.332031 -2.402344 -4.5 -2.085938 C -4.710938 -1.675781 -4.976563 -1.367188 -5.296875 -1.167969 C -5.617188 -0.964844 -5.972656 -0.867188 -6.367188 -0.867188 C -6.800781 -0.867188 -7.207031 -0.988281 -7.582031 -1.234375 C -7.957031 -1.480469 -8.242188 -1.839844 -8.441406 -2.3125 C -8.632813 -2.785156 -8.730469 -3.3125 -8.734375 -3.890625 C -8.730469 -4.527344 -8.628906 -5.085938 -8.425781 -5.574219 C -8.222656 -6.058594 -7.921875 -6.433594 -7.523438 -6.695313 C -7.125 -6.957031 -6.671875 -7.097656 -6.171875 -7.117188 L -6.085938 -6.03125 C -6.628906 -5.96875 -7.039063 -5.769531 -7.316406 -5.433594 C -7.59375 -5.09375 -7.734375 -4.597656 -7.734375 -3.9375 C -7.734375 -3.25 -7.605469 -2.746094 -7.355469 -2.433594 C -7.097656 -2.117188 -6.796875 -1.960938 -6.445313 -1.964844 C -6.136719 -1.960938 -5.882813 -2.074219 -5.683594 -2.296875 C -5.480469 -2.515625 -5.273438 -3.085938 -5.070313 -4.011719 C -4.859375 -4.933594 -4.679688 -5.566406 -4.523438 -5.914063 C -4.292969 -6.410156 -4 -6.78125 -3.648438 -7.019531 C -3.292969 -7.253906 -2.886719 -7.371094 -2.425781 -7.375 C -1.964844 -7.371094 -1.53125 -7.242188 -1.132813 -6.984375 C -0.726563 -6.722656 -0.414063 -6.34375 -0.1875 -5.855469 C 0.0351563 -5.363281 0.144531 -4.8125 0.148438 -4.203125 C 0.144531 -3.421875 0.0351563 -2.769531 -0.191406 -2.246094 C -0.414063 -1.71875 -0.753906 -1.308594 -1.214844 -1.011719 C -1.667969 -0.710938 -2.183594 -0.554688 -2.757813 -0.539063 Z M -2.757813 -0.539063 \"/>\n",
       "</symbol>\n",
       "<symbol overflow=\"visible\" id=\"glyph1-13\">\n",
       "<path style=\"stroke:none;\" d=\"M -0.941406 -3.09375 L -0.0117188 -3.246094 C 0.0507813 -2.949219 0.0820313 -2.683594 0.0820313 -2.449219 C 0.0820313 -2.066406 0.0234375 -1.769531 -0.0976563 -1.558594 C -0.21875 -1.347656 -0.378906 -1.199219 -0.574219 -1.113281 C -0.769531 -1.027344 -1.183594 -0.984375 -1.820313 -0.984375 L -5.402344 -0.984375 L -5.402344 -0.210938 L -6.222656 -0.210938 L -6.222656 -0.984375 L -7.765625 -0.984375 L -8.398438 -2.035156 L -6.222656 -2.035156 L -6.222656 -3.09375 L -5.402344 -3.09375 L -5.402344 -2.035156 L -1.761719 -2.03125 C -1.460938 -2.027344 -1.269531 -2.046875 -1.183594 -2.085938 C -1.097656 -2.125 -1.027344 -2.183594 -0.976563 -2.269531 C -0.925781 -2.351563 -0.902344 -2.472656 -0.902344 -2.632813 C -0.902344 -2.742188 -0.914063 -2.898438 -0.941406 -3.09375 Z M -0.941406 -3.09375 \"/>\n",
       "</symbol>\n",
       "<symbol overflow=\"visible\" id=\"glyph1-14\">\n",
       "<path style=\"stroke:none;\" d=\"M 0 -0.796875 L -8.589844 -0.796875 L -8.589844 -1.851563 L -3.691406 -1.851563 L -6.222656 -4.347656 L -6.222656 -5.710938 L -3.914063 -3.335938 L 0 -5.953125 L 0 -4.652344 L -3.179688 -2.59375 L -2.46875 -1.851563 L 0 -1.851563 Z M 0 -0.796875 \"/>\n",
       "</symbol>\n",
       "<symbol overflow=\"visible\" id=\"glyph1-15\">\n",
       "<path style=\"stroke:none;\" d=\"M 0 -0.925781 L -8.589844 -0.925781 L -8.589844 -4.167969 C -8.589844 -4.734375 -8.5625 -5.171875 -8.507813 -5.472656 C -8.4375 -5.894531 -8.300781 -6.246094 -8.105469 -6.53125 C -7.90625 -6.816406 -7.632813 -7.046875 -7.277344 -7.222656 C -6.917969 -7.394531 -6.527344 -7.480469 -6.105469 -7.484375 C -5.371094 -7.480469 -4.75 -7.25 -4.25 -6.785156 C -3.742188 -6.316406 -3.492188 -5.476563 -3.492188 -4.265625 L -3.492188 -2.0625 L 0 -2.0625 Z M -4.507813 -2.0625 L -4.507813 -4.28125 C -4.503906 -5.011719 -4.640625 -5.535156 -4.917969 -5.847656 C -5.1875 -6.15625 -5.574219 -6.308594 -6.070313 -6.3125 C -6.429688 -6.308594 -6.734375 -6.21875 -6.992188 -6.039063 C -7.242188 -5.855469 -7.414063 -5.617188 -7.5 -5.320313 C -7.550781 -5.128906 -7.574219 -4.773438 -7.578125 -4.261719 L -7.578125 -2.0625 Z M -4.507813 -2.0625 \"/>\n",
       "</symbol>\n",
       "<symbol overflow=\"visible\" id=\"glyph1-16\">\n",
       "<path style=\"stroke:none;\" d=\"M 0 -0.78125 L -6.222656 -0.78125 L -6.222656 -1.730469 L -5.28125 -1.730469 C -5.71875 -1.96875 -6.011719 -2.191406 -6.152344 -2.398438 C -6.292969 -2.601563 -6.363281 -2.828125 -6.363281 -3.078125 C -6.363281 -3.429688 -6.25 -3.792969 -6.023438 -4.160156 L -5.046875 -3.796875 C -5.195313 -3.539063 -5.273438 -3.28125 -5.273438 -3.023438 C -5.273438 -2.792969 -5.203125 -2.585938 -5.066406 -2.402344 C -4.925781 -2.21875 -4.734375 -2.085938 -4.488281 -2.011719 C -4.113281 -1.890625 -3.703125 -1.832031 -3.257813 -1.835938 L 0 -1.835938 Z M 0 -0.78125 \"/>\n",
       "</symbol>\n",
       "<symbol overflow=\"visible\" id=\"glyph1-17\">\n",
       "<path style=\"stroke:none;\" d=\"M -7.375 -0.796875 L -8.589844 -0.796875 L -8.589844 -1.851563 L -7.375 -1.851563 Z M 0 -0.796875 L -6.222656 -0.796875 L -6.222656 -1.851563 L 0 -1.851563 Z M 0 -0.796875 \"/>\n",
       "</symbol>\n",
       "<symbol overflow=\"visible\" id=\"glyph1-18\">\n",
       "<path style=\"stroke:none;\" d=\"M -2.003906 -5.050781 L -1.867188 -6.140625 C -1.230469 -5.96875 -0.738281 -5.648438 -0.386719 -5.183594 C -0.0351563 -4.71875 0.140625 -4.125 0.140625 -3.40625 C 0.140625 -2.492188 -0.136719 -1.769531 -0.699219 -1.238281 C -1.253906 -0.703125 -2.042969 -0.4375 -3.058594 -0.441406 C -4.105469 -0.4375 -4.917969 -0.707031 -5.496094 -1.25 C -6.074219 -1.785156 -6.363281 -2.484375 -6.363281 -3.347656 C -6.363281 -4.175781 -6.078125 -4.855469 -5.511719 -5.382813 C -4.945313 -5.910156 -4.148438 -6.175781 -3.121094 -6.175781 C -3.054688 -6.175781 -2.960938 -6.171875 -2.839844 -6.171875 L -2.84375 -1.53125 C -2.15625 -1.566406 -1.632813 -1.761719 -1.269531 -2.109375 C -0.90625 -2.457031 -0.726563 -2.890625 -0.726563 -3.410156 C -0.726563 -3.796875 -0.828125 -4.125 -1.03125 -4.402344 C -1.234375 -4.671875 -1.558594 -4.890625 -2.003906 -5.050781 Z M -3.710938 -1.589844 L -3.707031 -5.0625 C -4.226563 -5.015625 -4.621094 -4.882813 -4.886719 -4.664063 C -5.292969 -4.328125 -5.496094 -3.890625 -5.496094 -3.359375 C -5.496094 -2.871094 -5.332031 -2.464844 -5.007813 -2.136719 C -4.683594 -1.804688 -4.25 -1.621094 -3.710938 -1.589844 Z M -3.710938 -1.589844 \"/>\n",
       "</symbol>\n",
       "</g>\n",
       "<clipPath id=\"clip1\">\n",
       "  <path d=\"M 59.039063 59.039063 L 474.757813 59.039063 L 474.757813 431.558594 L 59.039063 431.558594 Z M 59.039063 59.039063 \"/>\n",
       "</clipPath>\n",
       "</defs>\n",
       "<g id=\"surface41\">\n",
       "<rect x=\"0\" y=\"0\" width=\"504\" height=\"504\" style=\"fill:rgb(100%,100%,100%);fill-opacity:1;stroke:none;\"/>\n",
       "<g clip-path=\"url(#clip1)\" clip-rule=\"nonzero\">\n",
       "<path style=\"fill:none;stroke-width:0.75;stroke-linecap:round;stroke-linejoin:round;stroke:rgb(100%,0%,0%);stroke-opacity:1;stroke-miterlimit:10;\" d=\"M 74.398438 259.421875 L 75.214844 264.667969 L 75.953125 265.414063 L 76.769531 278.792969 L 77.5625 301.015625 L 78.378906 292.933594 L 79.167969 293.84375 L 79.984375 299.347656 L 80.800781 290.789063 L 81.589844 275.15625 L 82.40625 266.378906 L 83.199219 255.882813 L 84.015625 254.179688 L 84.832031 249.964844 L 85.566406 235.097656 L 86.382813 216.667969 L 87.175781 212.464844 L 87.992188 204 L 88.78125 204.597656 L 89.597656 200.363281 L 90.414063 187.761719 L 91.203125 182.257813 L 92.019531 185.53125 L 92.8125 163.242188 L 93.628906 159.71875 L 94.445313 139.507813 L 95.207031 129.023438 L 96.023438 125.429688 L 96.816406 124.320313 L 97.632813 118.554688 L 98.421875 99.929688 L 99.238281 81.535156 L 100.054688 101.996094 L 100.84375 94.230469 L 101.660156 84.136719 L 102.453125 73.746094 L 103.269531 72.800781 L 104.085938 81.105469 L 104.820313 79.503906 L 105.636719 90.316406 L 106.429688 103.773438 L 107.246094 88.230469 L 108.035156 84.832031 L 108.851563 85.046875 L 109.667969 82.613281 L 110.457031 82.898438 L 111.273438 96.539063 L 112.066406 142.460938 L 112.882813 149.671875 L 113.699219 171.117188 L 114.4375 164.707031 L 115.253906 184.164063 L 116.042969 199.304688 L 116.859375 172.132813 L 117.648438 215.039063 L 118.464844 272.421875 L 119.28125 311.097656 L 120.074219 339.9375 L 120.890625 337.316406 L 121.679688 358.042969 L 122.496094 330.636719 L 123.3125 292.328125 L 124.050781 277.523438 L 124.867188 276.5625 L 125.65625 244.1875 L 126.472656 239.53125 L 127.261719 249.089844 L 128.078125 279.59375 L 128.894531 290.714844 L 129.6875 271.710938 L 130.503906 251.597656 L 131.292969 258.078125 L 132.109375 242.871094 L 132.925781 242.585938 L 133.691406 250.019531 L 134.507813 253.273438 L 135.296875 263.152344 L 136.113281 267.757813 L 136.902344 253.21875 L 137.71875 249.796875 L 138.535156 248.722656 L 139.328125 261.09375 L 140.144531 271.398438 L 140.933594 277.671875 L 141.75 281.035156 L 142.566406 281.355469 L 143.304688 276.8125 L 144.121094 279.347656 L 144.910156 287.03125 L 145.726563 395.542969 L 146.515625 391.074219 L 147.332031 389.832031 L 148.148438 388.214844 L 148.941406 391.515625 L 149.757813 393.328125 L 150.546875 396.3125 L 151.363281 399.214844 L 152.179688 398.335938 L 152.917969 394.738281 L 153.734375 387.496094 L 154.523438 380.09375 L 155.339844 380.578125 L 156.128906 383.195313 L 156.945313 372.421875 L 157.765625 373.695313 L 158.554688 377.226563 L 159.371094 383.011719 L 160.160156 377.996094 L 160.976563 372.863281 L 161.792969 379.148438 L 162.53125 383.265625 L 163.347656 386.761719 L 164.136719 392.488281 L 164.953125 390.21875 L 165.746094 393.394531 L 166.5625 387.601563 L 167.378906 391.929688 L 168.167969 401.433594 L 168.984375 406.3125 L 169.773438 403.402344 L 170.589844 404.414063 L 171.40625 405.910156 L 172.171875 416.800781 L 172.988281 413.191406 L 173.777344 404.679688 L 174.59375 406.578125 L 175.382813 403.863281 L 176.203125 397.367188 L 177.019531 404.324219 L 177.808594 411.238281 L 178.625 414.246094 L 179.414063 413.046875 L 180.230469 404.132813 L 181.046875 405.617188 L 181.785156 397.152344 L 182.601563 398.445313 L 183.390625 400.761719 L 184.207031 396.515625 L 185 405.894531 L 185.816406 406.960938 L 186.632813 411.066406 L 187.421875 402.4375 L 188.238281 401.554688 L 189.027344 402.015625 L 189.84375 406.691406 L 190.660156 412.273438 L 191.398438 411.582031 L 192.214844 405.011719 L 193.003906 405.890625 L 193.820313 406.128906 L 194.613281 398.597656 L 195.429688 395.960938 L 196.246094 385.59375 L 197.035156 375.511719 L 197.851563 366.917969 L 198.640625 354.9375 L 199.457031 359.644531 L 200.273438 362.058594 L 201.011719 354.984375 L 201.828125 342.054688 L 202.621094 347.535156 L 203.4375 353.324219 L 204.226563 361.054688 L 205.042969 358.273438 L 205.859375 357.164063 L 206.648438 347.285156 L 207.464844 344.914063 L 208.257813 341.792969 L 209.074219 350.523438 L 209.890625 356.484375 L 210.652344 346.460938 L 211.46875 344.859375 L 212.257813 340.191406 L 213.078125 337.0625 L 213.867188 333.28125 L 214.683594 323.9375 L 215.5 323.113281 L 216.289063 319.101563 L 217.105469 317.019531 L 217.894531 322.753906 L 218.710938 320.234375 L 219.527344 323.71875 L 220.265625 311.1875 L 221.082031 301.035156 L 221.875 306.273438 L 222.691406 300.699219 L 223.480469 294.730469 L 224.296875 293.609375 L 225.113281 300.3125 L 225.902344 297.03125 L 226.71875 275.828125 L 227.511719 255.328125 L 228.328125 265.726563 L 229.144531 246.550781 L 229.878906 203.847656 L 230.695313 185.738281 L 231.488281 181.492188 L 232.304688 161.023438 L 233.09375 384.136719 L 233.910156 391.691406 L 234.726563 402.183594 L 235.515625 397.773438 L 236.332031 397.964844 L 237.125 392.472656 L 237.941406 386.722656 L 238.757813 376.738281 L 239.496094 368.167969 L 240.3125 374.597656 L 241.101563 384.527344 L 241.917969 374.808594 L 242.707031 371.65625 L 243.523438 358.148438 L 244.339844 360.082031 L 245.132813 379.15625 L 245.949219 389.710938 L 246.738281 391.601563 L 247.554688 393.125 L 248.371094 396.40625 L 249.132813 391.324219 L 249.949219 392.515625 L 250.742188 396.914063 L 251.558594 392.4375 L 252.347656 394.632813 L 253.164063 391.804688 L 253.980469 381.042969 L 254.769531 378.269531 L 255.585938 380.289063 L 256.378906 375.210938 L 257.195313 372.820313 L 258.011719 365.710938 L 258.75 358.390625 L 259.566406 350.003906 L 260.355469 339.21875 L 261.171875 335.742188 L 261.960938 328.859375 L 262.777344 308.824219 L 263.59375 316.78125 L 264.386719 299.613281 L 265.203125 285.375 L 265.992188 275.714844 L 266.808594 289.5 L 267.625 302.714844 L 268.363281 290.472656 L 269.179688 275.679688 L 269.96875 335.015625 L 270.785156 373.699219 L 271.574219 371.136719 L 272.390625 379.597656 L 273.207031 385.460938 L 274 379.242188 L 274.816406 371.992188 L 275.605469 365.503906 L 276.421875 369.15625 L 277.238281 354.152344 L 277.976563 348.621094 L 278.792969 345.742188 L 279.582031 342.839844 L 280.398438 341.902344 L 281.191406 336.148438 L 282.007813 317.953125 L 282.824219 314.71875 L 283.613281 316.929688 L 284.429688 307.398438 L 285.21875 285.675781 L 286.035156 277.65625 L 286.851563 273.390625 L 287.617188 265.449219 L 288.433594 264.433594 L 289.222656 335.171875 L 290.039063 381.957031 L 290.828125 383.332031 L 291.644531 378.8125 L 292.460938 377.878906 L 293.253906 388.667969 L 294.070313 384.914063 L 294.859375 383.769531 L 295.675781 382.421875 L 296.492188 383.207031 L 297.230469 379.820313 L 298.046875 388.195313 L 298.835938 387.070313 L 299.652344 382.460938 L 300.445313 376.511719 L 301.261719 378.382813 L 302.078125 378.234375 L 302.867188 379.527344 L 303.683594 381.871094 L 304.472656 377.109375 L 305.289063 380.902344 L 306.105469 383.421875 L 306.84375 382.625 L 307.660156 386.507813 L 308.449219 385.824219 L 309.265625 385.527344 L 310.058594 380.722656 L 310.875 372.066406 L 311.691406 365.335938 L 312.480469 358.429688 L 313.296875 354.125 L 314.085938 354.105469 L 314.902344 355.863281 L 315.71875 348.34375 L 316.457031 337.957031 L 317.273438 334.222656 L 318.0625 331.015625 L 318.882813 321.644531 L 319.671875 314.476563 L 320.488281 313.648438 L 321.304688 308.703125 L 322.09375 295.101563 L 322.910156 288.367188 L 323.699219 278.847656 L 324.515625 286.699219 L 325.335938 270.089844 L 326.097656 261.113281 L 326.914063 265.3125 L 327.703125 332.347656 L 328.519531 366.535156 L 329.3125 366.019531 L 330.128906 357.28125 L 330.945313 353.429688 L 331.734375 358.660156 L 332.550781 353.21875 L 333.339844 356.425781 L 334.15625 340.742188 L 334.972656 327.585938 L 335.710938 328.46875 L 336.527344 334.085938 L 337.320313 309.503906 L 338.136719 300.132813 L 338.925781 299.664063 L 339.742188 321.058594 L 340.558594 330.453125 L 341.347656 329.007813 L 342.164063 330.179688 L 342.953125 313.46875 L 343.773438 313.039063 L 344.589844 304.492188 L 345.324219 290.390625 L 346.140625 279.058594 L 346.933594 276.988281 L 347.75 265.5625 L 348.539063 253.617188 L 349.355469 272.523438 L 350.171875 325.527344 L 350.960938 313.503906 L 351.777344 294.101563 L 352.570313 306.878906 L 353.386719 313.125 L 354.203125 317.019531 L 354.9375 312.96875 L 355.757813 316.332031 L 356.546875 305.410156 L 357.363281 313.804688 L 358.152344 319.441406 L 358.96875 328.554688 L 359.785156 345.28125 L 360.574219 351.199219 L 361.390625 326.953125 L 362.183594 324.117188 L 363 325.027344 L 363.816406 345.890625 L 364.578125 365.203125 L 365.394531 363.195313 L 366.1875 357.320313 L 367.003906 344.21875 L 367.792969 331.914063 L 368.609375 328.5625 L 369.425781 348.328125 L 370.214844 335.933594 L 371.03125 327.664063 L 371.824219 330.875 L 372.640625 334.488281 L 373.457031 336.300781 L 374.195313 362.65625 L 375.011719 370.332031 L 375.800781 366.097656 L 376.617188 371.804688 L 377.40625 371.476563 L 378.222656 367.488281 L 379.039063 362.257813 L 379.828125 368.125 L 380.648438 361.671875 L 381.4375 367.269531 L 382.253906 372.15625 L 383.070313 369.601563 L 383.808594 361.074219 L 384.625 347.875 L 385.414063 339.492188 L 386.230469 343.621094 L 387.019531 354.46875 L 387.835938 355.171875 L 388.652344 360.351563 L 389.445313 360.90625 L 390.261719 370.847656 L 391.050781 372.964844 L 391.867188 375.910156 L 392.683594 386.851563 L 393.421875 388.457031 L 394.238281 384.453125 L 395.027344 377.285156 L 395.84375 367.75 L 396.632813 372.949219 L 397.449219 374.550781 L 398.265625 376.628906 L 399.058594 373.179688 L 399.875 368.15625 L 400.664063 361.40625 L 401.480469 358.496094 L 402.296875 356.488281 L 403.0625 360.785156 L 403.878906 354.820313 L 404.667969 357.429688 L 405.484375 353.941406 L 406.273438 361.507813 L 407.089844 375.300781 L 407.90625 381.703125 L 408.699219 387.828125 L 409.515625 385.972656 L 410.304688 384.789063 L 411.121094 383.917969 L 411.9375 379.730469 L 412.675781 380.453125 L 413.492188 381.027344 L 414.28125 374.492188 L 415.097656 376.707031 L 415.886719 378.257813 L 416.703125 376.019531 L 417.519531 377.570313 L 418.3125 380.582031 L 419.128906 379.980469 L 419.917969 382.886719 L 420.734375 384.039063 L 421.550781 383.011719 L 422.289063 380.574219 L 423.105469 382.566406 L 423.894531 377.667969 L 424.710938 378.085938 L 425.503906 376.601563 L 426.320313 374.859375 L 427.136719 373.988281 L 427.925781 372.015625 L 428.742188 367.664063 L 429.53125 362.601563 L 430.347656 363.03125 L 431.164063 364.34375 L 431.902344 365.867188 L 432.71875 356.101563 L 433.507813 350.582031 L 434.324219 352.375 L 435.117188 348.972656 L 435.933594 346.050781 L 436.75 341.09375 L 437.539063 331.660156 L 438.355469 323.335938 L 439.144531 319.878906 L 439.960938 324.210938 L 440.777344 331.628906 L 441.542969 329.695313 L 442.359375 327.285156 L 443.148438 335.6875 L 443.964844 342.871094 L 444.757813 354.300781 L 445.574219 345.605469 L 446.390625 350.222656 L 447.179688 368.386719 L 447.996094 373.910156 L 448.785156 372.617188 L 449.601563 375.878906 L 450.417969 379.613281 L 451.15625 382.976563 L 451.972656 375.21875 L 452.761719 373.207031 L 453.578125 361.925781 L 454.371094 359.816406 L 455.1875 360.433594 L 456.003906 353.238281 L 456.792969 345.851563 L 457.609375 340.484375 L 458.398438 334.925781 \"/>\n",
       "</g>\n",
       "<path style=\"fill:none;stroke-width:0.75;stroke-linecap:round;stroke-linejoin:round;stroke:rgb(0%,0%,0%);stroke-opacity:1;stroke-miterlimit:10;\" d=\"M 74.398438 430.558594 L 459.214844 430.558594 \"/>\n",
       "<path style=\"fill:none;stroke-width:0.75;stroke-linecap:round;stroke-linejoin:round;stroke:rgb(0%,0%,0%);stroke-opacity:1;stroke-miterlimit:10;\" d=\"M 74.398438 430.558594 L 74.398438 437.761719 \"/>\n",
       "<path style=\"fill:none;stroke-width:0.75;stroke-linecap:round;stroke-linejoin:round;stroke:rgb(0%,0%,0%);stroke-opacity:1;stroke-miterlimit:10;\" d=\"M 170.589844 430.558594 L 170.589844 437.761719 \"/>\n",
       "<path style=\"fill:none;stroke-width:0.75;stroke-linecap:round;stroke-linejoin:round;stroke:rgb(0%,0%,0%);stroke-opacity:1;stroke-miterlimit:10;\" d=\"M 266.808594 430.558594 L 266.808594 437.761719 \"/>\n",
       "<path style=\"fill:none;stroke-width:0.75;stroke-linecap:round;stroke-linejoin:round;stroke:rgb(0%,0%,0%);stroke-opacity:1;stroke-miterlimit:10;\" d=\"M 363 430.558594 L 363 437.761719 \"/>\n",
       "<path style=\"fill:none;stroke-width:0.75;stroke-linecap:round;stroke-linejoin:round;stroke:rgb(0%,0%,0%);stroke-opacity:1;stroke-miterlimit:10;\" d=\"M 459.214844 430.558594 L 459.214844 437.761719 \"/>\n",
       "<g style=\"fill:rgb(0%,0%,0%);fill-opacity:1;\">\n",
       "  <use xlink:href=\"#glyph0-0\" x=\"61.050781\" y=\"456.480469\"/>\n",
       "  <use xlink:href=\"#glyph0-1\" x=\"67.724609\" y=\"456.480469\"/>\n",
       "  <use xlink:href=\"#glyph0-2\" x=\"74.398438\" y=\"456.480469\"/>\n",
       "  <use xlink:href=\"#glyph0-3\" x=\"81.072266\" y=\"456.480469\"/>\n",
       "</g>\n",
       "<g style=\"fill:rgb(0%,0%,0%);fill-opacity:1;\">\n",
       "  <use xlink:href=\"#glyph0-0\" x=\"157.242188\" y=\"456.480469\"/>\n",
       "  <use xlink:href=\"#glyph0-1\" x=\"163.916016\" y=\"456.480469\"/>\n",
       "  <use xlink:href=\"#glyph0-4\" x=\"170.589844\" y=\"456.480469\"/>\n",
       "  <use xlink:href=\"#glyph0-3\" x=\"177.263672\" y=\"456.480469\"/>\n",
       "</g>\n",
       "<g style=\"fill:rgb(0%,0%,0%);fill-opacity:1;\">\n",
       "  <use xlink:href=\"#glyph0-0\" x=\"253.460938\" y=\"456.480469\"/>\n",
       "  <use xlink:href=\"#glyph0-1\" x=\"260.134766\" y=\"456.480469\"/>\n",
       "  <use xlink:href=\"#glyph0-1\" x=\"266.808594\" y=\"456.480469\"/>\n",
       "  <use xlink:href=\"#glyph0-3\" x=\"273.482422\" y=\"456.480469\"/>\n",
       "</g>\n",
       "<g style=\"fill:rgb(0%,0%,0%);fill-opacity:1;\">\n",
       "  <use xlink:href=\"#glyph0-5\" x=\"349.652344\" y=\"456.480469\"/>\n",
       "  <use xlink:href=\"#glyph0-3\" x=\"356.326172\" y=\"456.480469\"/>\n",
       "  <use xlink:href=\"#glyph0-3\" x=\"363\" y=\"456.480469\"/>\n",
       "  <use xlink:href=\"#glyph0-3\" x=\"369.673828\" y=\"456.480469\"/>\n",
       "</g>\n",
       "<g style=\"fill:rgb(0%,0%,0%);fill-opacity:1;\">\n",
       "  <use xlink:href=\"#glyph0-5\" x=\"445.867188\" y=\"456.480469\"/>\n",
       "  <use xlink:href=\"#glyph0-3\" x=\"452.541016\" y=\"456.480469\"/>\n",
       "  <use xlink:href=\"#glyph0-0\" x=\"459.214844\" y=\"456.480469\"/>\n",
       "  <use xlink:href=\"#glyph0-3\" x=\"465.888672\" y=\"456.480469\"/>\n",
       "</g>\n",
       "<path style=\"fill:none;stroke-width:0.75;stroke-linecap:round;stroke-linejoin:round;stroke:rgb(0%,0%,0%);stroke-opacity:1;stroke-miterlimit:10;\" d=\"M 59.039063 387.449219 L 59.039063 92.238281 \"/>\n",
       "<path style=\"fill:none;stroke-width:0.75;stroke-linecap:round;stroke-linejoin:round;stroke:rgb(0%,0%,0%);stroke-opacity:1;stroke-miterlimit:10;\" d=\"M 59.039063 387.449219 L 51.839844 387.449219 \"/>\n",
       "<path style=\"fill:none;stroke-width:0.75;stroke-linecap:round;stroke-linejoin:round;stroke:rgb(0%,0%,0%);stroke-opacity:1;stroke-miterlimit:10;\" d=\"M 59.039063 328.40625 L 51.839844 328.40625 \"/>\n",
       "<path style=\"fill:none;stroke-width:0.75;stroke-linecap:round;stroke-linejoin:round;stroke:rgb(0%,0%,0%);stroke-opacity:1;stroke-miterlimit:10;\" d=\"M 59.039063 269.363281 L 51.839844 269.363281 \"/>\n",
       "<path style=\"fill:none;stroke-width:0.75;stroke-linecap:round;stroke-linejoin:round;stroke:rgb(0%,0%,0%);stroke-opacity:1;stroke-miterlimit:10;\" d=\"M 59.039063 210.320313 L 51.839844 210.320313 \"/>\n",
       "<path style=\"fill:none;stroke-width:0.75;stroke-linecap:round;stroke-linejoin:round;stroke:rgb(0%,0%,0%);stroke-opacity:1;stroke-miterlimit:10;\" d=\"M 59.039063 151.28125 L 51.839844 151.28125 \"/>\n",
       "<path style=\"fill:none;stroke-width:0.75;stroke-linecap:round;stroke-linejoin:round;stroke:rgb(0%,0%,0%);stroke-opacity:1;stroke-miterlimit:10;\" d=\"M 59.039063 92.238281 L 51.839844 92.238281 \"/>\n",
       "<g style=\"fill:rgb(0%,0%,0%);fill-opacity:1;\">\n",
       "  <use xlink:href=\"#glyph1-0\" x=\"41.761719\" y=\"394.121094\"/>\n",
       "  <use xlink:href=\"#glyph1-1\" x=\"41.761719\" y=\"387.447266\"/>\n",
       "</g>\n",
       "<g style=\"fill:rgb(0%,0%,0%);fill-opacity:1;\">\n",
       "  <use xlink:href=\"#glyph1-2\" x=\"41.761719\" y=\"335.078125\"/>\n",
       "  <use xlink:href=\"#glyph1-1\" x=\"41.761719\" y=\"328.404297\"/>\n",
       "</g>\n",
       "<g style=\"fill:rgb(0%,0%,0%);fill-opacity:1;\">\n",
       "  <use xlink:href=\"#glyph1-3\" x=\"41.761719\" y=\"276.035156\"/>\n",
       "  <use xlink:href=\"#glyph1-1\" x=\"41.761719\" y=\"269.361328\"/>\n",
       "</g>\n",
       "<g style=\"fill:rgb(0%,0%,0%);fill-opacity:1;\">\n",
       "  <use xlink:href=\"#glyph1-4\" x=\"41.761719\" y=\"220.332031\"/>\n",
       "  <use xlink:href=\"#glyph1-1\" x=\"41.761719\" y=\"213.658203\"/>\n",
       "  <use xlink:href=\"#glyph1-1\" x=\"41.761719\" y=\"206.984375\"/>\n",
       "</g>\n",
       "<g style=\"fill:rgb(0%,0%,0%);fill-opacity:1;\">\n",
       "  <use xlink:href=\"#glyph1-4\" x=\"41.761719\" y=\"161.292969\"/>\n",
       "  <use xlink:href=\"#glyph1-5\" x=\"41.761719\" y=\"154.619141\"/>\n",
       "  <use xlink:href=\"#glyph1-1\" x=\"41.761719\" y=\"147.945313\"/>\n",
       "</g>\n",
       "<g style=\"fill:rgb(0%,0%,0%);fill-opacity:1;\">\n",
       "  <use xlink:href=\"#glyph1-4\" x=\"41.761719\" y=\"102.25\"/>\n",
       "  <use xlink:href=\"#glyph1-0\" x=\"41.761719\" y=\"95.576172\"/>\n",
       "  <use xlink:href=\"#glyph1-1\" x=\"41.761719\" y=\"88.902344\"/>\n",
       "</g>\n",
       "<path style=\"fill:none;stroke-width:0.75;stroke-linecap:round;stroke-linejoin:round;stroke:rgb(0%,0%,0%);stroke-opacity:1;stroke-miterlimit:10;\" d=\"M 59.039063 430.558594 L 473.761719 430.558594 L 473.761719 59.039063 L 59.039063 59.039063 L 59.039063 430.558594 \"/>\n",
       "<g style=\"fill:rgb(0%,0%,0%);fill-opacity:1;\">\n",
       "  <use xlink:href=\"#glyph0-6\" x=\"224.039063\" y=\"485.28125\"/>\n",
       "  <use xlink:href=\"#glyph0-7\" x=\"232.705078\" y=\"485.28125\"/>\n",
       "  <use xlink:href=\"#glyph0-8\" x=\"239.378906\" y=\"485.28125\"/>\n",
       "  <use xlink:href=\"#glyph0-9\" x=\"245.378906\" y=\"485.28125\"/>\n",
       "  <use xlink:href=\"#glyph0-6\" x=\"252.052734\" y=\"485.28125\"/>\n",
       "  <use xlink:href=\"#glyph0-7\" x=\"260.71875\" y=\"485.28125\"/>\n",
       "  <use xlink:href=\"#glyph0-10\" x=\"267.392578\" y=\"485.28125\"/>\n",
       "  <use xlink:href=\"#glyph0-9\" x=\"270.058594\" y=\"485.28125\"/>\n",
       "  <use xlink:href=\"#glyph0-11\" x=\"276.732422\" y=\"485.28125\"/>\n",
       "  <use xlink:href=\"#glyph0-12\" x=\"283.40625\" y=\"485.28125\"/>\n",
       "  <use xlink:href=\"#glyph0-9\" x=\"292.072266\" y=\"485.28125\"/>\n",
       "  <use xlink:href=\"#glyph0-13\" x=\"298.746094\" y=\"485.28125\"/>\n",
       "  <use xlink:href=\"#glyph0-14\" x=\"302.080078\" y=\"485.28125\"/>\n",
       "</g>\n",
       "<g style=\"fill:rgb(0%,0%,0%);fill-opacity:1;\">\n",
       "  <use xlink:href=\"#glyph1-6\" x=\"12.960938\" y=\"303.160156\"/>\n",
       "  <use xlink:href=\"#glyph1-7\" x=\"12.960938\" y=\"294.494141\"/>\n",
       "  <use xlink:href=\"#glyph1-8\" x=\"12.960938\" y=\"287.820313\"/>\n",
       "  <use xlink:href=\"#glyph1-9\" x=\"12.960938\" y=\"281.820313\"/>\n",
       "  <use xlink:href=\"#glyph1-6\" x=\"12.960938\" y=\"275.146484\"/>\n",
       "  <use xlink:href=\"#glyph1-7\" x=\"12.960938\" y=\"266.480469\"/>\n",
       "  <use xlink:href=\"#glyph1-10\" x=\"12.960938\" y=\"259.806641\"/>\n",
       "  <use xlink:href=\"#glyph1-9\" x=\"12.960938\" y=\"257.140625\"/>\n",
       "  <use xlink:href=\"#glyph1-11\" x=\"12.960938\" y=\"250.466797\"/>\n",
       "  <use xlink:href=\"#glyph1-12\" x=\"12.960938\" y=\"243.792969\"/>\n",
       "  <use xlink:href=\"#glyph1-13\" x=\"12.960938\" y=\"235.789063\"/>\n",
       "  <use xlink:href=\"#glyph1-7\" x=\"12.960938\" y=\"232.455078\"/>\n",
       "  <use xlink:href=\"#glyph1-8\" x=\"12.960938\" y=\"225.78125\"/>\n",
       "  <use xlink:href=\"#glyph1-14\" x=\"12.960938\" y=\"219.78125\"/>\n",
       "  <use xlink:href=\"#glyph1-15\" x=\"12.960938\" y=\"213.78125\"/>\n",
       "  <use xlink:href=\"#glyph1-16\" x=\"12.960938\" y=\"205.777344\"/>\n",
       "  <use xlink:href=\"#glyph1-17\" x=\"12.960938\" y=\"201.78125\"/>\n",
       "  <use xlink:href=\"#glyph1-8\" x=\"12.960938\" y=\"199.115234\"/>\n",
       "  <use xlink:href=\"#glyph1-18\" x=\"12.960938\" y=\"193.115234\"/>\n",
       "</g>\n",
       "</g>\n",
       "</svg>\n"
      ],
      "text/plain": [
       "plot without title"
      ]
     },
     "metadata": {
      "image/svg+xml": {
       "isolated": true
      }
     },
     "output_type": "display_data"
    }
   ],
   "source": [
    "plot(CocaCola$Date, CocaCola$StockPrice, type = \"l\", col = \"red\")"
   ]
  },
  {
   "cell_type": "code",
   "execution_count": 39,
   "metadata": {
    "collapsed": false
   },
   "outputs": [
    {
     "data": {
      "image/png": "[encoded data removed]",
      "image/svg+xml": [
       "<?xml version=\"1.0\" encoding=\"UTF-8\"?>\n",
       "<svg xmlns=\"http://www.w3.org/2000/svg\" xmlns:xlink=\"http://www.w3.org/1999/xlink\" width=\"504pt\" height=\"504pt\" viewBox=\"0 0 504 504\" version=\"1.1\">\n",
       "<defs>\n",
       "<g>\n",
       "<symbol overflow=\"visible\" id=\"glyph0-0\">\n",
       "<path style=\"stroke:none;\" d=\"M 4.46875 0 L 3.414063 0 L 3.414063 -6.71875 C 3.160156 -6.476563 2.828125 -6.234375 2.414063 -5.996094 C 2 -5.75 1.628906 -5.570313 1.304688 -5.449219 L 1.304688 -6.46875 C 1.894531 -6.742188 2.410156 -7.078125 2.851563 -7.476563 C 3.292969 -7.871094 3.605469 -8.253906 3.789063 -8.625 L 4.46875 -8.625 Z M 4.46875 0 \"/>\n",
       "</symbol>\n",
       "<symbol overflow=\"visible\" id=\"glyph0-1\">\n",
       "<path style=\"stroke:none;\" d=\"M 0.65625 -1.984375 L 1.671875 -2.078125 C 1.75 -1.601563 1.914063 -1.257813 2.160156 -1.042969 C 2.398438 -0.824219 2.710938 -0.714844 3.09375 -0.71875 C 3.414063 -0.714844 3.695313 -0.789063 3.945313 -0.941406 C 4.1875 -1.085938 4.390625 -1.285156 4.546875 -1.535156 C 4.703125 -1.785156 4.832031 -2.121094 4.9375 -2.542969 C 5.042969 -2.964844 5.097656 -3.394531 5.097656 -3.832031 C 5.097656 -3.878906 5.09375 -3.949219 5.09375 -4.042969 C 4.875 -3.707031 4.585938 -3.433594 4.226563 -3.226563 C 3.859375 -3.015625 3.464844 -2.910156 3.039063 -2.914063 C 2.328125 -2.910156 1.726563 -3.167969 1.238281 -3.6875 C 0.742188 -4.199219 0.496094 -4.878906 0.5 -5.726563 C 0.496094 -6.59375 0.753906 -7.296875 1.269531 -7.828125 C 1.78125 -8.359375 2.425781 -8.625 3.199219 -8.625 C 3.757813 -8.625 4.265625 -8.472656 4.730469 -8.171875 C 5.191406 -7.871094 5.542969 -7.441406 5.785156 -6.886719 C 6.023438 -6.328125 6.144531 -5.523438 6.148438 -4.46875 C 6.144531 -3.371094 6.027344 -2.496094 5.789063 -1.847656 C 5.546875 -1.195313 5.191406 -0.703125 4.722656 -0.363281 C 4.253906 -0.0234375 3.703125 0.144531 3.070313 0.148438 C 2.398438 0.144531 1.847656 -0.0390625 1.421875 -0.410156 C 0.996094 -0.785156 0.742188 -1.308594 0.65625 -1.984375 Z M 4.976563 -5.777344 C 4.972656 -6.382813 4.8125 -6.863281 4.492188 -7.21875 C 4.167969 -7.570313 3.78125 -7.746094 3.328125 -7.75 C 2.859375 -7.746094 2.449219 -7.554688 2.101563 -7.175781 C 1.753906 -6.789063 1.582031 -6.292969 1.582031 -5.6875 C 1.582031 -5.136719 1.746094 -4.691406 2.074219 -4.355469 C 2.402344 -4.011719 2.808594 -3.84375 3.296875 -3.84375 C 3.785156 -3.84375 4.1875 -4.011719 4.503906 -4.355469 C 4.816406 -4.691406 4.972656 -5.167969 4.976563 -5.777344 Z M 4.976563 -5.777344 \"/>\n",
       "</symbol>\n",
       "<symbol overflow=\"visible\" id=\"glyph0-2\">\n",
       "<path style=\"stroke:none;\" d=\"M 0.570313 -7.464844 L 0.570313 -8.476563 L 6.128906 -8.476563 L 6.128906 -7.65625 C 5.582031 -7.074219 5.039063 -6.300781 4.5 -5.335938 C 3.960938 -4.371094 3.546875 -3.378906 3.257813 -2.359375 C 3.046875 -1.636719 2.910156 -0.851563 2.851563 0 L 1.769531 0 C 1.78125 -0.675781 1.914063 -1.492188 2.167969 -2.449219 C 2.417969 -3.402344 2.78125 -4.324219 3.257813 -5.214844 C 3.734375 -6.105469 4.238281 -6.855469 4.773438 -7.464844 Z M 0.570313 -7.464844 \"/>\n",
       "</symbol>\n",
       "<symbol overflow=\"visible\" id=\"glyph0-3\">\n",
       "<path style=\"stroke:none;\" d=\"M 0.5 -4.234375 C 0.496094 -5.246094 0.601563 -6.0625 0.8125 -6.6875 C 1.019531 -7.304688 1.328125 -7.785156 1.742188 -8.121094 C 2.148438 -8.457031 2.667969 -8.625 3.296875 -8.625 C 3.757813 -8.625 4.164063 -8.53125 4.511719 -8.347656 C 4.855469 -8.160156 5.140625 -7.890625 5.371094 -7.542969 C 5.59375 -7.191406 5.773438 -6.765625 5.90625 -6.265625 C 6.035156 -5.761719 6.097656 -5.085938 6.101563 -4.234375 C 6.097656 -3.226563 5.996094 -2.414063 5.789063 -1.796875 C 5.578125 -1.175781 5.265625 -0.695313 4.859375 -0.359375 C 4.445313 -0.0195313 3.925781 0.144531 3.296875 0.148438 C 2.464844 0.144531 1.816406 -0.148438 1.347656 -0.742188 C 0.78125 -1.457031 0.496094 -2.621094 0.5 -4.234375 Z M 1.582031 -4.234375 C 1.582031 -2.824219 1.746094 -1.886719 2.074219 -1.417969 C 2.402344 -0.949219 2.808594 -0.714844 3.296875 -0.71875 C 3.777344 -0.714844 4.183594 -0.949219 4.519531 -1.421875 C 4.847656 -1.886719 5.015625 -2.824219 5.015625 -4.234375 C 5.015625 -5.648438 4.847656 -6.589844 4.519531 -7.054688 C 4.183594 -7.515625 3.773438 -7.746094 3.289063 -7.75 C 2.800781 -7.746094 2.414063 -7.542969 2.125 -7.136719 C 1.761719 -6.613281 1.582031 -5.644531 1.582031 -4.234375 Z M 1.582031 -4.234375 \"/>\n",
       "</symbol>\n",
       "<symbol overflow=\"visible\" id=\"glyph0-4\">\n",
       "<path style=\"stroke:none;\" d=\"M 2.121094 -4.65625 C 1.683594 -4.816406 1.359375 -5.046875 1.148438 -5.34375 C 0.9375 -5.640625 0.832031 -5.996094 0.832031 -6.410156 C 0.832031 -7.035156 1.054688 -7.558594 1.503906 -7.984375 C 1.953125 -8.410156 2.550781 -8.625 3.296875 -8.625 C 4.042969 -8.625 4.648438 -8.40625 5.109375 -7.972656 C 5.566406 -7.535156 5.792969 -7.003906 5.796875 -6.382813 C 5.792969 -5.976563 5.6875 -5.628906 5.480469 -5.339844 C 5.269531 -5.042969 4.953125 -4.816406 4.53125 -4.65625 C 5.054688 -4.480469 5.457031 -4.203125 5.734375 -3.824219 C 6.007813 -3.4375 6.144531 -2.980469 6.148438 -2.453125 C 6.144531 -1.714844 5.886719 -1.097656 5.367188 -0.601563 C 4.84375 -0.101563 4.160156 0.144531 3.316406 0.148438 C 2.46875 0.144531 1.785156 -0.101563 1.265625 -0.605469 C 0.742188 -1.105469 0.480469 -1.734375 0.484375 -2.484375 C 0.480469 -3.039063 0.621094 -3.503906 0.910156 -3.886719 C 1.191406 -4.261719 1.597656 -4.519531 2.121094 -4.65625 Z M 1.910156 -6.445313 C 1.910156 -6.039063 2.039063 -5.707031 2.300781 -5.449219 C 2.5625 -5.191406 2.902344 -5.0625 3.320313 -5.0625 C 3.722656 -5.0625 4.054688 -5.1875 4.320313 -5.445313 C 4.578125 -5.695313 4.710938 -6.011719 4.710938 -6.386719 C 4.710938 -6.773438 4.574219 -7.097656 4.308594 -7.363281 C 4.035156 -7.625 3.703125 -7.757813 3.3125 -7.757813 C 2.90625 -7.757813 2.574219 -7.628906 2.308594 -7.371094 C 2.042969 -7.113281 1.910156 -6.804688 1.910156 -6.445313 Z M 1.570313 -2.476563 C 1.570313 -2.175781 1.640625 -1.886719 1.785156 -1.605469 C 1.925781 -1.324219 2.136719 -1.105469 2.421875 -0.949219 C 2.699219 -0.792969 3.003906 -0.714844 3.328125 -0.71875 C 3.832031 -0.714844 4.246094 -0.878906 4.578125 -1.207031 C 4.902344 -1.53125 5.066406 -1.941406 5.070313 -2.445313 C 5.066406 -2.945313 4.898438 -3.367188 4.5625 -3.703125 C 4.222656 -4.035156 3.800781 -4.199219 3.292969 -4.203125 C 2.792969 -4.199219 2.378906 -4.035156 2.058594 -3.710938 C 1.730469 -3.378906 1.570313 -2.96875 1.570313 -2.476563 Z M 1.570313 -2.476563 \"/>\n",
       "</symbol>\n",
       "<symbol overflow=\"visible\" id=\"glyph0-5\">\n",
       "<path style=\"stroke:none;\" d=\"M 6.039063 -1.015625 L 6.039063 0 L 0.363281 0 C 0.355469 -0.253906 0.394531 -0.496094 0.484375 -0.734375 C 0.628906 -1.117188 0.859375 -1.5 1.179688 -1.875 C 1.492188 -2.25 1.953125 -2.683594 2.5625 -3.175781 C 3.492188 -3.941406 4.125 -4.546875 4.453125 -4.992188 C 4.78125 -5.4375 4.945313 -5.859375 4.945313 -6.265625 C 4.945313 -6.679688 4.792969 -7.03125 4.496094 -7.320313 C 4.191406 -7.601563 3.804688 -7.746094 3.328125 -7.75 C 2.820313 -7.746094 2.414063 -7.59375 2.109375 -7.292969 C 1.804688 -6.984375 1.648438 -6.5625 1.648438 -6.03125 L 0.5625 -6.140625 C 0.632813 -6.945313 0.910156 -7.558594 1.398438 -7.988281 C 1.878906 -8.410156 2.53125 -8.625 3.351563 -8.625 C 4.171875 -8.625 4.824219 -8.394531 5.308594 -7.9375 C 5.789063 -7.480469 6.027344 -6.914063 6.03125 -6.242188 C 6.027344 -5.894531 5.957031 -5.558594 5.820313 -5.226563 C 5.675781 -4.890625 5.441406 -4.539063 5.117188 -4.175781 C 4.789063 -3.804688 4.25 -3.300781 3.492188 -2.664063 C 2.859375 -2.128906 2.453125 -1.769531 2.273438 -1.582031 C 2.09375 -1.394531 1.945313 -1.203125 1.828125 -1.015625 Z M 6.039063 -1.015625 \"/>\n",
       "</symbol>\n",
       "<symbol overflow=\"visible\" id=\"glyph0-6\">\n",
       "<path style=\"stroke:none;\" d=\"M 0.925781 0 L 0.925781 -8.589844 L 4.164063 -8.589844 C 4.734375 -8.589844 5.171875 -8.5625 5.472656 -8.507813 C 5.894531 -8.4375 6.246094 -8.300781 6.53125 -8.105469 C 6.816406 -7.90625 7.046875 -7.632813 7.222656 -7.277344 C 7.394531 -6.917969 7.480469 -6.527344 7.484375 -6.105469 C 7.480469 -5.371094 7.25 -4.75 6.785156 -4.25 C 6.316406 -3.742188 5.476563 -3.492188 4.265625 -3.492188 L 2.0625 -3.492188 L 2.0625 0 Z M 2.0625 -4.507813 L 4.28125 -4.507813 C 5.011719 -4.503906 5.535156 -4.640625 5.847656 -4.917969 C 6.15625 -5.1875 6.308594 -5.574219 6.3125 -6.070313 C 6.308594 -6.429688 6.21875 -6.734375 6.039063 -6.992188 C 5.855469 -7.242188 5.617188 -7.414063 5.320313 -7.5 C 5.125 -7.550781 4.769531 -7.574219 4.257813 -7.578125 L 2.0625 -7.578125 Z M 2.0625 -4.507813 \"/>\n",
       "</symbol>\n",
       "<symbol overflow=\"visible\" id=\"glyph0-7\">\n",
       "<path style=\"stroke:none;\" d=\"M 0.78125 0 L 0.78125 -6.222656 L 1.726563 -6.222656 L 1.726563 -5.28125 C 1.96875 -5.71875 2.191406 -6.011719 2.398438 -6.152344 C 2.601563 -6.292969 2.828125 -6.363281 3.078125 -6.363281 C 3.429688 -6.363281 3.792969 -6.25 4.160156 -6.023438 L 3.796875 -5.046875 C 3.539063 -5.195313 3.28125 -5.273438 3.023438 -5.273438 C 2.792969 -5.273438 2.585938 -5.203125 2.402344 -5.066406 C 2.214844 -4.925781 2.082031 -4.734375 2.007813 -4.488281 C 1.890625 -4.113281 1.832031 -3.703125 1.835938 -3.257813 L 1.835938 0 Z M 0.78125 0 \"/>\n",
       "</symbol>\n",
       "<symbol overflow=\"visible\" id=\"glyph0-8\">\n",
       "<path style=\"stroke:none;\" d=\"M 0.398438 -3.109375 C 0.398438 -4.261719 0.71875 -5.117188 1.359375 -5.671875 C 1.894531 -6.132813 2.546875 -6.363281 3.316406 -6.363281 C 4.171875 -6.363281 4.871094 -6.082031 5.414063 -5.519531 C 5.953125 -4.957031 6.222656 -4.183594 6.226563 -3.199219 C 6.222656 -2.398438 6.101563 -1.765625 5.867188 -1.308594 C 5.625 -0.847656 5.277344 -0.492188 4.820313 -0.238281 C 4.359375 0.015625 3.859375 0.140625 3.316406 0.140625 C 2.441406 0.140625 1.734375 -0.136719 1.203125 -0.695313 C 0.664063 -1.253906 0.398438 -2.058594 0.398438 -3.109375 Z M 1.484375 -3.109375 C 1.480469 -2.308594 1.65625 -1.710938 2.003906 -1.320313 C 2.347656 -0.921875 2.785156 -0.726563 3.316406 -0.726563 C 3.839844 -0.726563 4.273438 -0.925781 4.621094 -1.324219 C 4.96875 -1.722656 5.144531 -2.328125 5.144531 -3.148438 C 5.144531 -3.914063 4.96875 -4.496094 4.617188 -4.894531 C 4.265625 -5.289063 3.832031 -5.488281 3.316406 -5.492188 C 2.785156 -5.488281 2.347656 -5.292969 2.003906 -4.898438 C 1.65625 -4.5 1.480469 -3.902344 1.484375 -3.109375 Z M 1.484375 -3.109375 \"/>\n",
       "</symbol>\n",
       "<symbol overflow=\"visible\" id=\"glyph0-9\">\n",
       "<path style=\"stroke:none;\" d=\"M 4.851563 -2.28125 L 5.890625 -2.144531 C 5.773438 -1.425781 5.484375 -0.863281 5.019531 -0.464844 C 4.550781 -0.0585938 3.976563 0.140625 3.296875 0.140625 C 2.445313 0.140625 1.761719 -0.136719 1.246094 -0.695313 C 0.726563 -1.25 0.46875 -2.046875 0.46875 -3.085938 C 0.46875 -3.753906 0.578125 -4.34375 0.800781 -4.851563 C 1.023438 -5.355469 1.363281 -5.730469 1.816406 -5.984375 C 2.269531 -6.234375 2.765625 -6.363281 3.304688 -6.363281 C 3.980469 -6.363281 4.53125 -6.191406 4.964844 -5.847656 C 5.390625 -5.503906 5.667969 -5.019531 5.789063 -4.394531 L 4.765625 -4.234375 C 4.664063 -4.652344 4.492188 -4.96875 4.246094 -5.179688 C 3.996094 -5.390625 3.695313 -5.496094 3.34375 -5.496094 C 2.808594 -5.496094 2.378906 -5.304688 2.050781 -4.921875 C 1.71875 -4.539063 1.550781 -3.9375 1.554688 -3.117188 C 1.550781 -2.28125 1.710938 -1.671875 2.035156 -1.292969 C 2.351563 -0.914063 2.769531 -0.726563 3.289063 -0.726563 C 3.695313 -0.726563 4.042969 -0.851563 4.324219 -1.105469 C 4.601563 -1.359375 4.777344 -1.75 4.851563 -2.28125 Z M 4.851563 -2.28125 \"/>\n",
       "</symbol>\n",
       "<symbol overflow=\"visible\" id=\"glyph0-10\">\n",
       "<path style=\"stroke:none;\" d=\"M 3.09375 -0.945313 L 3.246094 -0.0117188 C 2.949219 0.0507813 2.683594 0.0820313 2.449219 0.0820313 C 2.066406 0.0820313 1.769531 0.0234375 1.558594 -0.0976563 C 1.347656 -0.21875 1.199219 -0.378906 1.113281 -0.578125 C 1.027344 -0.773438 0.984375 -1.1875 0.984375 -1.820313 L 0.984375 -5.402344 L 0.210938 -5.402344 L 0.210938 -6.222656 L 0.984375 -6.222656 L 0.984375 -7.765625 L 2.03125 -8.398438 L 2.03125 -6.222656 L 3.09375 -6.222656 L 3.09375 -5.402344 L 2.03125 -5.402344 L 2.03125 -1.765625 C 2.027344 -1.460938 2.046875 -1.269531 2.085938 -1.183594 C 2.125 -1.097656 2.183594 -1.027344 2.269531 -0.976563 C 2.351563 -0.925781 2.472656 -0.902344 2.632813 -0.902344 C 2.742188 -0.902344 2.898438 -0.914063 3.09375 -0.945313 Z M 3.09375 -0.945313 \"/>\n",
       "</symbol>\n",
       "<symbol overflow=\"visible\" id=\"glyph0-11\">\n",
       "<path style=\"stroke:none;\" d=\"M 5.050781 -2.003906 L 6.140625 -1.867188 C 5.96875 -1.230469 5.648438 -0.738281 5.183594 -0.386719 C 4.71875 -0.0351563 4.125 0.140625 3.40625 0.140625 C 2.492188 0.140625 1.769531 -0.136719 1.238281 -0.699219 C 0.699219 -1.253906 0.433594 -2.042969 0.4375 -3.058594 C 0.433594 -4.105469 0.703125 -4.917969 1.246094 -5.496094 C 1.78125 -6.074219 2.480469 -6.363281 3.34375 -6.363281 C 4.175781 -6.363281 4.855469 -6.078125 5.382813 -5.511719 C 5.910156 -4.945313 6.175781 -4.148438 6.175781 -3.125 C 6.175781 -3.058594 6.171875 -2.964844 6.171875 -2.84375 L 1.53125 -2.84375 C 1.5625 -2.15625 1.757813 -1.632813 2.109375 -1.269531 C 2.457031 -0.90625 2.890625 -0.726563 3.410156 -0.726563 C 3.796875 -0.726563 4.125 -0.828125 4.402344 -1.03125 C 4.671875 -1.234375 4.890625 -1.558594 5.050781 -2.003906 Z M 1.585938 -3.710938 L 5.0625 -3.710938 C 5.015625 -4.226563 4.882813 -4.621094 4.664063 -4.886719 C 4.328125 -5.292969 3.890625 -5.496094 3.359375 -5.496094 C 2.871094 -5.496094 2.464844 -5.332031 2.136719 -5.007813 C 1.804688 -4.683594 1.621094 -4.25 1.585938 -3.710938 Z M 1.585938 -3.710938 \"/>\n",
       "</symbol>\n",
       "<symbol overflow=\"visible\" id=\"glyph0-12\">\n",
       "<path style=\"stroke:none;\" d=\"M 4.945313 -3.367188 L 4.945313 -4.375 L 8.585938 -4.382813 L 8.585938 -1.195313 C 8.023438 -0.75 7.449219 -0.414063 6.855469 -0.1875 C 6.261719 0.0351563 5.652344 0.144531 5.027344 0.148438 C 4.183594 0.144531 3.414063 -0.03125 2.726563 -0.394531 C 2.035156 -0.753906 1.515625 -1.277344 1.167969 -1.960938 C 0.8125 -2.644531 0.636719 -3.410156 0.640625 -4.253906 C 0.636719 -5.089844 0.8125 -5.867188 1.164063 -6.59375 C 1.511719 -7.3125 2.015625 -7.851563 2.671875 -8.207031 C 3.328125 -8.554688 4.082031 -8.730469 4.9375 -8.734375 C 5.558594 -8.730469 6.121094 -8.628906 6.621094 -8.433594 C 7.121094 -8.230469 7.515625 -7.953125 7.804688 -7.59375 C 8.089844 -7.234375 8.304688 -6.765625 8.453125 -6.1875 L 7.429688 -5.90625 C 7.296875 -6.34375 7.136719 -6.6875 6.949219 -6.9375 C 6.757813 -7.1875 6.484375 -7.386719 6.128906 -7.539063 C 5.769531 -7.6875 5.375 -7.761719 4.945313 -7.765625 C 4.421875 -7.761719 3.972656 -7.683594 3.597656 -7.527344 C 3.21875 -7.367188 2.910156 -7.160156 2.679688 -6.902344 C 2.445313 -6.644531 2.265625 -6.359375 2.140625 -6.054688 C 1.917969 -5.519531 1.808594 -4.945313 1.8125 -4.324219 C 1.808594 -3.558594 1.941406 -2.917969 2.207031 -2.402344 C 2.46875 -1.886719 2.851563 -1.503906 3.355469 -1.253906 C 3.859375 -1.003906 4.394531 -0.878906 4.960938 -0.878906 C 5.453125 -0.878906 5.933594 -0.972656 6.40625 -1.160156 C 6.871094 -1.347656 7.226563 -1.550781 7.46875 -1.769531 L 7.46875 -3.367188 Z M 4.945313 -3.367188 \"/>\n",
       "</symbol>\n",
       "<symbol overflow=\"visible\" id=\"glyph0-13\">\n",
       "<path style=\"stroke:none;\" d=\"M 4.851563 -0.765625 C 4.460938 -0.433594 4.082031 -0.199219 3.722656 -0.0625 C 3.355469 0.0742188 2.96875 0.140625 2.5625 0.140625 C 1.875 0.140625 1.351563 -0.0234375 0.984375 -0.359375 C 0.617188 -0.6875 0.433594 -1.117188 0.433594 -1.640625 C 0.433594 -1.945313 0.5 -2.222656 0.640625 -2.472656 C 0.777344 -2.722656 0.960938 -2.925781 1.1875 -3.082031 C 1.410156 -3.234375 1.664063 -3.347656 1.945313 -3.429688 C 2.152344 -3.476563 2.464844 -3.53125 2.882813 -3.585938 C 3.734375 -3.6875 4.359375 -3.808594 4.765625 -3.949219 C 4.765625 -4.089844 4.769531 -4.179688 4.769531 -4.226563 C 4.769531 -4.648438 4.667969 -4.953125 4.46875 -5.132813 C 4.199219 -5.371094 3.800781 -5.488281 3.269531 -5.492188 C 2.769531 -5.488281 2.402344 -5.402344 2.167969 -5.230469 C 1.933594 -5.054688 1.757813 -4.746094 1.648438 -4.304688 L 0.617188 -4.445313 C 0.707031 -4.886719 0.863281 -5.242188 1.078125 -5.515625 C 1.289063 -5.78125 1.597656 -5.992188 2.007813 -6.140625 C 2.410156 -6.289063 2.882813 -6.363281 3.421875 -6.363281 C 3.953125 -6.363281 4.382813 -6.300781 4.714844 -6.175781 C 5.046875 -6.050781 5.292969 -5.890625 5.449219 -5.703125 C 5.605469 -5.511719 5.714844 -5.273438 5.777344 -4.984375 C 5.808594 -4.804688 5.824219 -4.480469 5.828125 -4.015625 L 5.828125 -2.609375 C 5.824219 -1.625 5.847656 -1.003906 5.894531 -0.746094 C 5.941406 -0.484375 6.03125 -0.238281 6.164063 0 L 5.0625 0 C 4.953125 -0.21875 4.882813 -0.472656 4.851563 -0.765625 Z M 4.765625 -3.125 C 4.375 -2.964844 3.800781 -2.832031 3.039063 -2.726563 C 2.605469 -2.660156 2.300781 -2.589844 2.121094 -2.515625 C 1.941406 -2.433594 1.800781 -2.320313 1.703125 -2.171875 C 1.605469 -2.019531 1.558594 -1.851563 1.558594 -1.671875 C 1.558594 -1.386719 1.664063 -1.152344 1.875 -0.96875 C 2.085938 -0.777344 2.398438 -0.683594 2.8125 -0.6875 C 3.21875 -0.683594 3.578125 -0.773438 3.894531 -0.953125 C 4.210938 -1.128906 4.445313 -1.371094 4.59375 -1.679688 C 4.707031 -1.917969 4.761719 -2.269531 4.765625 -2.734375 Z M 4.765625 -3.125 \"/>\n",
       "</symbol>\n",
       "<symbol overflow=\"visible\" id=\"glyph0-14\">\n",
       "<path style=\"stroke:none;\" d=\"M 0.789063 0 L 0.789063 -6.222656 L 1.734375 -6.222656 L 1.734375 -5.351563 C 1.929688 -5.648438 2.1875 -5.894531 2.511719 -6.082031 C 2.835938 -6.269531 3.207031 -6.363281 3.621094 -6.363281 C 4.082031 -6.363281 4.457031 -6.265625 4.753906 -6.074219 C 5.042969 -5.882813 5.253906 -5.617188 5.378906 -5.273438 C 5.871094 -6 6.511719 -6.363281 7.300781 -6.363281 C 7.917969 -6.363281 8.390625 -6.191406 8.722656 -5.847656 C 9.054688 -5.503906 9.222656 -4.976563 9.222656 -4.273438 L 9.222656 0 L 8.171875 0 L 8.171875 -3.921875 C 8.167969 -4.339844 8.132813 -4.644531 8.070313 -4.832031 C 8 -5.015625 7.878906 -5.164063 7.699219 -5.277344 C 7.519531 -5.390625 7.308594 -5.449219 7.066406 -5.449219 C 6.628906 -5.449219 6.265625 -5.300781 5.976563 -5.011719 C 5.6875 -4.71875 5.542969 -4.253906 5.542969 -3.617188 L 5.542969 0 L 4.488281 0 L 4.488281 -4.042969 C 4.488281 -4.511719 4.402344 -4.863281 4.230469 -5.097656 C 4.058594 -5.332031 3.777344 -5.449219 3.386719 -5.449219 C 3.089844 -5.449219 2.8125 -5.371094 2.5625 -5.214844 C 2.308594 -5.058594 2.128906 -4.828125 2.015625 -4.527344 C 1.898438 -4.226563 1.839844 -3.792969 1.84375 -3.226563 L 1.84375 0 Z M 0.789063 0 \"/>\n",
       "</symbol>\n",
       "<symbol overflow=\"visible\" id=\"glyph0-15\">\n",
       "<path style=\"stroke:none;\" d=\"M 1.765625 0 L 0.785156 0 L 0.785156 -8.589844 L 1.839844 -8.589844 L 1.839844 -5.523438 C 2.285156 -6.082031 2.851563 -6.363281 3.546875 -6.363281 C 3.921875 -6.363281 4.285156 -6.285156 4.628906 -6.128906 C 4.972656 -5.972656 5.253906 -5.753906 5.472656 -5.480469 C 5.691406 -5.199219 5.863281 -4.863281 5.992188 -4.46875 C 6.113281 -4.074219 6.175781 -3.652344 6.179688 -3.203125 C 6.175781 -2.136719 5.914063 -1.3125 5.390625 -0.730469 C 4.863281 -0.148438 4.230469 0.140625 3.492188 0.140625 C 2.757813 0.140625 2.179688 -0.164063 1.765625 -0.78125 Z M 1.75 -3.15625 C 1.746094 -2.410156 1.847656 -1.871094 2.054688 -1.539063 C 2.386719 -0.996094 2.835938 -0.726563 3.40625 -0.726563 C 3.859375 -0.726563 4.257813 -0.925781 4.597656 -1.328125 C 4.929688 -1.726563 5.097656 -2.324219 5.101563 -3.117188 C 5.097656 -3.929688 4.9375 -4.527344 4.617188 -4.914063 C 4.296875 -5.300781 3.90625 -5.496094 3.453125 -5.496094 C 2.984375 -5.496094 2.585938 -5.292969 2.253906 -4.894531 C 1.914063 -4.492188 1.746094 -3.914063 1.75 -3.15625 Z M 1.75 -3.15625 \"/>\n",
       "</symbol>\n",
       "<symbol overflow=\"visible\" id=\"glyph0-16\">\n",
       "<path style=\"stroke:none;\" d=\"M 0.765625 0 L 0.765625 -8.589844 L 1.820313 -8.589844 L 1.820313 0 Z M 0.765625 0 \"/>\n",
       "</symbol>\n",
       "<symbol overflow=\"visible\" id=\"glyph0-17\">\n",
       "<path style=\"stroke:none;\" d=\"M 2.988281 1.234375 L 2.988281 0.179688 C 2.457031 0.113281 2.027344 0 1.699219 -0.171875 C 1.371094 -0.339844 1.085938 -0.617188 0.84375 -0.996094 C 0.601563 -1.371094 0.460938 -1.832031 0.429688 -2.382813 L 1.488281 -2.585938 C 1.566406 -2.015625 1.710938 -1.601563 1.921875 -1.335938 C 2.21875 -0.960938 2.574219 -0.75 2.988281 -0.710938 L 2.988281 -4.066406 C 2.550781 -4.144531 2.105469 -4.3125 1.65625 -4.570313 C 1.320313 -4.757813 1.0625 -5.015625 0.882813 -5.347656 C 0.699219 -5.679688 0.609375 -6.058594 0.609375 -6.480469 C 0.609375 -7.230469 0.875 -7.835938 1.40625 -8.304688 C 1.757813 -8.613281 2.285156 -8.804688 2.988281 -8.875 L 2.988281 -9.382813 L 3.609375 -9.382813 L 3.609375 -8.875 C 4.222656 -8.816406 4.707031 -8.636719 5.070313 -8.335938 C 5.523438 -7.953125 5.800781 -7.429688 5.898438 -6.761719 L 4.8125 -6.597656 C 4.746094 -7.011719 4.617188 -7.328125 4.421875 -7.550781 C 4.222656 -7.769531 3.953125 -7.914063 3.609375 -7.984375 L 3.609375 -4.945313 C 4.140625 -4.8125 4.492188 -4.707031 4.664063 -4.632813 C 4.992188 -4.488281 5.257813 -4.3125 5.464844 -4.105469 C 5.671875 -3.898438 5.832031 -3.652344 5.941406 -3.367188 C 6.050781 -3.082031 6.105469 -2.773438 6.109375 -2.445313 C 6.105469 -1.710938 5.875 -1.101563 5.414063 -0.613281 C 4.949219 -0.125 4.347656 0.132813 3.609375 0.171875 L 3.609375 1.234375 Z M 2.988281 -8 C 2.578125 -7.933594 2.253906 -7.769531 2.019531 -7.507813 C 1.78125 -7.238281 1.664063 -6.925781 1.664063 -6.5625 C 1.664063 -6.203125 1.761719 -5.902344 1.964844 -5.660156 C 2.160156 -5.417969 2.503906 -5.222656 2.988281 -5.078125 Z M 3.609375 -0.710938 C 4.019531 -0.757813 4.355469 -0.9375 4.625 -1.242188 C 4.890625 -1.546875 5.027344 -1.921875 5.027344 -2.375 C 5.027344 -2.75 4.929688 -3.058594 4.742188 -3.292969 C 4.550781 -3.527344 4.175781 -3.734375 3.609375 -3.921875 Z M 3.609375 -0.710938 \"/>\n",
       "</symbol>\n",
       "<symbol overflow=\"visible\" id=\"glyph0-18\">\n",
       "<path style=\"stroke:none;\" d=\"M 0.925781 0 L 0.925781 -8.589844 L 3.882813 -8.589844 C 4.550781 -8.589844 5.0625 -8.546875 5.414063 -8.46875 C 5.90625 -8.351563 6.324219 -8.148438 6.671875 -7.851563 C 7.121094 -7.46875 7.460938 -6.976563 7.6875 -6.382813 C 7.914063 -5.785156 8.027344 -5.105469 8.027344 -4.34375 C 8.027344 -3.6875 7.949219 -3.109375 7.796875 -2.605469 C 7.644531 -2.101563 7.449219 -1.683594 7.210938 -1.355469 C 6.972656 -1.019531 6.710938 -0.761719 6.429688 -0.574219 C 6.144531 -0.386719 5.804688 -0.242188 5.40625 -0.144531 C 5.003906 -0.046875 4.542969 0 4.023438 0 Z M 2.0625 -1.015625 L 3.898438 -1.015625 C 4.460938 -1.011719 4.90625 -1.066406 5.226563 -1.171875 C 5.546875 -1.273438 5.804688 -1.421875 6 -1.617188 C 6.269531 -1.886719 6.476563 -2.246094 6.628906 -2.703125 C 6.777344 -3.15625 6.855469 -3.710938 6.855469 -4.359375 C 6.855469 -5.257813 6.707031 -5.945313 6.410156 -6.429688 C 6.113281 -6.910156 5.753906 -7.234375 5.335938 -7.398438 C 5.03125 -7.515625 4.542969 -7.574219 3.867188 -7.578125 L 2.0625 -7.578125 Z M 2.0625 -1.015625 \"/>\n",
       "</symbol>\n",
       "<symbol overflow=\"visible\" id=\"glyph1-0\">\n",
       "<path style=\"stroke:none;\" d=\"M -6.484375 -5.96875 L -6.40625 -4.921875 C -6.8125 -4.828125 -7.113281 -4.695313 -7.304688 -4.523438 C -7.605469 -4.238281 -7.757813 -3.886719 -7.757813 -3.46875 C -7.757813 -3.132813 -7.664063 -2.835938 -7.476563 -2.585938 C -7.234375 -2.25 -6.878906 -1.988281 -6.414063 -1.796875 C -5.949219 -1.605469 -5.289063 -1.507813 -4.429688 -1.5 C -4.8125 -1.753906 -5.097656 -2.0625 -5.289063 -2.433594 C -5.472656 -2.796875 -5.566406 -3.183594 -5.570313 -3.585938 C -5.566406 -4.289063 -5.308594 -4.886719 -4.792969 -5.382813 C -4.277344 -5.875 -3.609375 -6.121094 -2.789063 -6.125 C -2.25 -6.121094 -1.746094 -6.003906 -1.285156 -5.773438 C -0.816406 -5.539063 -0.460938 -5.222656 -0.21875 -4.816406 C 0.0273438 -4.410156 0.144531 -3.949219 0.148438 -3.433594 C 0.144531 -2.554688 -0.175781 -1.835938 -0.820313 -1.285156 C -1.46875 -0.726563 -2.535156 -0.449219 -4.019531 -0.453125 C -5.675781 -0.449219 -6.882813 -0.757813 -7.640625 -1.371094 C -8.296875 -1.90625 -8.625 -2.625 -8.625 -3.535156 C -8.625 -4.207031 -8.433594 -4.761719 -8.054688 -5.195313 C -7.675781 -5.625 -7.152344 -5.882813 -6.484375 -5.96875 Z M -2.78125 -1.664063 C -2.417969 -1.664063 -2.070313 -1.738281 -1.738281 -1.894531 C -1.40625 -2.042969 -1.152344 -2.261719 -0.980469 -2.542969 C -0.800781 -2.820313 -0.714844 -3.109375 -0.71875 -3.414063 C -0.714844 -3.859375 -0.894531 -4.242188 -1.257813 -4.566406 C -1.613281 -4.882813 -2.101563 -5.042969 -2.722656 -5.046875 C -3.3125 -5.042969 -3.78125 -4.886719 -4.125 -4.570313 C -4.46875 -4.25 -4.640625 -3.851563 -4.640625 -3.375 C -4.640625 -2.898438 -4.46875 -2.492188 -4.128906 -2.160156 C -3.785156 -1.828125 -3.335938 -1.664063 -2.78125 -1.664063 Z M -2.78125 -1.664063 \"/>\n",
       "</symbol>\n",
       "<symbol overflow=\"visible\" id=\"glyph1-1\">\n",
       "<path style=\"stroke:none;\" d=\"M -4.234375 -0.5 C -5.246094 -0.496094 -6.0625 -0.601563 -6.6875 -0.8125 C -7.304688 -1.019531 -7.785156 -1.328125 -8.121094 -1.742188 C -8.457031 -2.152344 -8.625 -2.671875 -8.625 -3.300781 C -8.625 -3.757813 -8.53125 -4.164063 -8.347656 -4.511719 C -8.160156 -4.859375 -7.890625 -5.144531 -7.542969 -5.371094 C -7.191406 -5.59375 -6.765625 -5.773438 -6.265625 -5.90625 C -5.761719 -6.035156 -5.085938 -6.097656 -4.234375 -6.101563 C -3.222656 -6.097656 -2.410156 -5.996094 -1.792969 -5.789063 C -1.175781 -5.578125 -0.695313 -5.265625 -0.359375 -4.859375 C -0.0195313 -4.445313 0.144531 -3.925781 0.148438 -3.296875 C 0.144531 -2.464844 -0.148438 -1.816406 -0.742188 -1.347656 C -1.457031 -0.78125 -2.621094 -0.496094 -4.234375 -0.5 Z M -4.234375 -1.582031 C -2.824219 -1.582031 -1.886719 -1.746094 -1.417969 -2.074219 C -0.949219 -2.402344 -0.714844 -2.808594 -0.71875 -3.296875 C -0.714844 -3.777344 -0.949219 -4.183594 -1.421875 -4.519531 C -1.886719 -4.847656 -2.824219 -5.015625 -4.234375 -5.015625 C -5.648438 -5.015625 -6.589844 -4.847656 -7.054688 -4.519531 C -7.515625 -4.1875 -7.746094 -3.777344 -7.75 -3.289063 C -7.746094 -2.800781 -7.542969 -2.414063 -7.136719 -2.128906 C -6.613281 -1.761719 -5.644531 -1.582031 -4.234375 -1.582031 Z M -4.234375 -1.582031 \"/>\n",
       "</symbol>\n",
       "<symbol overflow=\"visible\" id=\"glyph1-2\">\n",
       "<path style=\"stroke:none;\" d=\"M -4.65625 -2.121094 C -4.816406 -1.683594 -5.046875 -1.359375 -5.34375 -1.148438 C -5.640625 -0.9375 -5.996094 -0.832031 -6.410156 -0.832031 C -7.035156 -0.832031 -7.558594 -1.054688 -7.984375 -1.503906 C -8.410156 -1.953125 -8.625 -2.550781 -8.625 -3.300781 C -8.625 -4.046875 -8.40625 -4.652344 -7.972656 -5.109375 C -7.535156 -5.566406 -7.003906 -5.792969 -6.382813 -5.796875 C -5.976563 -5.792969 -5.628906 -5.6875 -5.339844 -5.480469 C -5.042969 -5.269531 -4.816406 -4.953125 -4.65625 -4.53125 C -4.480469 -5.054688 -4.203125 -5.457031 -3.824219 -5.734375 C -3.4375 -6.007813 -2.980469 -6.144531 -2.453125 -6.148438 C -1.714844 -6.144531 -1.097656 -5.886719 -0.601563 -5.367188 C -0.101563 -4.84375 0.144531 -4.160156 0.148438 -3.316406 C 0.144531 -2.46875 -0.101563 -1.785156 -0.605469 -1.265625 C -1.105469 -0.746094 -1.734375 -0.484375 -2.484375 -0.488281 C -3.039063 -0.484375 -3.503906 -0.625 -3.886719 -0.910156 C -4.261719 -1.191406 -4.519531 -1.597656 -4.65625 -2.121094 Z M -6.445313 -1.910156 C -6.039063 -1.910156 -5.707031 -2.039063 -5.449219 -2.300781 C -5.191406 -2.5625 -5.0625 -2.902344 -5.0625 -3.324219 C -5.0625 -3.726563 -5.1875 -4.058594 -5.445313 -4.320313 C -5.695313 -4.578125 -6.011719 -4.710938 -6.386719 -4.710938 C -6.773438 -4.710938 -7.097656 -4.574219 -7.363281 -4.308594 C -7.625 -4.039063 -7.757813 -3.707031 -7.757813 -3.3125 C -7.757813 -2.90625 -7.628906 -2.574219 -7.371094 -2.308594 C -7.113281 -2.042969 -6.804688 -1.910156 -6.445313 -1.910156 Z M -2.476563 -1.570313 C -2.175781 -1.570313 -1.886719 -1.640625 -1.605469 -1.785156 C -1.324219 -1.925781 -1.105469 -2.136719 -0.949219 -2.421875 C -0.792969 -2.699219 -0.714844 -3.003906 -0.71875 -3.328125 C -0.714844 -3.832031 -0.875 -4.246094 -1.203125 -4.578125 C -1.523438 -4.902344 -1.9375 -5.066406 -2.441406 -5.070313 C -2.945313 -5.066406 -3.367188 -4.898438 -3.703125 -4.5625 C -4.035156 -4.222656 -4.199219 -3.800781 -4.203125 -3.292969 C -4.199219 -2.796875 -4.035156 -2.382813 -3.710938 -2.058594 C -3.378906 -1.730469 -2.96875 -1.570313 -2.476563 -1.570313 Z M -2.476563 -1.570313 \"/>\n",
       "</symbol>\n",
       "<symbol overflow=\"visible\" id=\"glyph1-3\">\n",
       "<path style=\"stroke:none;\" d=\"M 0 -4.46875 L 0 -3.414063 L -6.71875 -3.417969 C -6.476563 -3.160156 -6.234375 -2.828125 -5.996094 -2.417969 C -5.75 -2.003906 -5.570313 -1.632813 -5.449219 -1.308594 L -6.46875 -1.308594 C -6.742188 -1.894531 -7.078125 -2.410156 -7.476563 -2.851563 C -7.871094 -3.292969 -8.253906 -3.605469 -8.625 -3.792969 L -8.625 -4.472656 Z M 0 -4.46875 \"/>\n",
       "</symbol>\n",
       "<symbol overflow=\"visible\" id=\"glyph1-4\">\n",
       "<path style=\"stroke:none;\" d=\"M -1.011719 -6.039063 L 0 -6.039063 L 0 -0.363281 C -0.253906 -0.355469 -0.496094 -0.394531 -0.734375 -0.488281 C -1.117188 -0.628906 -1.5 -0.859375 -1.875 -1.179688 C -2.25 -1.496094 -2.683594 -1.957031 -3.175781 -2.5625 C -3.941406 -3.492188 -4.546875 -4.125 -4.992188 -4.453125 C -5.4375 -4.78125 -5.859375 -4.945313 -6.265625 -4.945313 C -6.679688 -4.945313 -7.03125 -4.792969 -7.320313 -4.496094 C -7.601563 -4.195313 -7.746094 -3.808594 -7.75 -3.328125 C -7.746094 -2.820313 -7.59375 -2.414063 -7.292969 -2.109375 C -6.984375 -1.804688 -6.5625 -1.648438 -6.03125 -1.648438 L -6.140625 -0.5625 C -6.945313 -0.636719 -7.558594 -0.914063 -7.988281 -1.402344 C -8.410156 -1.882813 -8.625 -2.535156 -8.625 -3.351563 C -8.625 -4.175781 -8.394531 -4.828125 -7.9375 -5.308594 C -7.480469 -5.789063 -6.914063 -6.027344 -6.242188 -6.03125 C -5.894531 -6.027344 -5.558594 -5.957031 -5.226563 -5.820313 C -4.890625 -5.675781 -4.539063 -5.441406 -4.175781 -5.117188 C -3.804688 -4.789063 -3.300781 -4.25 -2.664063 -3.492188 C -2.128906 -2.859375 -1.769531 -2.453125 -1.582031 -2.273438 C -1.394531 -2.09375 -1.203125 -1.945313 -1.011719 -1.828125 Z M -1.011719 -6.039063 \"/>\n",
       "</symbol>\n",
       "<symbol overflow=\"visible\" id=\"glyph1-5\">\n",
       "<path style=\"stroke:none;\" d=\"M 0 -3.878906 L -2.054688 -3.878906 L -2.054688 -0.152344 L -3.023438 -0.152344 L -8.589844 -4.074219 L -8.589844 -4.933594 L -3.023438 -4.933594 L -3.023438 -6.09375 L -2.054688 -6.09375 L -2.054688 -4.933594 L 0 -4.933594 Z M -3.023438 -3.878906 L -6.898438 -3.878906 L -3.023438 -1.191406 Z M -3.023438 -3.878906 \"/>\n",
       "</symbol>\n",
       "<symbol overflow=\"visible\" id=\"glyph1-6\">\n",
       "<path style=\"stroke:none;\" d=\"M 0 -0.925781 L -8.589844 -0.925781 L -8.589844 -4.167969 C -8.589844 -4.734375 -8.5625 -5.171875 -8.507813 -5.472656 C -8.4375 -5.894531 -8.300781 -6.246094 -8.105469 -6.53125 C -7.90625 -6.816406 -7.632813 -7.046875 -7.277344 -7.222656 C -6.917969 -7.394531 -6.527344 -7.480469 -6.105469 -7.484375 C -5.371094 -7.480469 -4.75 -7.25 -4.25 -6.785156 C -3.742188 -6.316406 -3.492188 -5.476563 -3.492188 -4.265625 L -3.492188 -2.0625 L 0 -2.0625 Z M -4.507813 -2.0625 L -4.507813 -4.28125 C -4.503906 -5.011719 -4.640625 -5.535156 -4.917969 -5.847656 C -5.1875 -6.15625 -5.574219 -6.308594 -6.070313 -6.3125 C -6.429688 -6.308594 -6.734375 -6.21875 -6.992188 -6.039063 C -7.242188 -5.855469 -7.414063 -5.617188 -7.5 -5.320313 C -7.550781 -5.128906 -7.574219 -4.773438 -7.578125 -4.261719 L -7.578125 -2.0625 Z M -4.507813 -2.0625 \"/>\n",
       "</symbol>\n",
       "<symbol overflow=\"visible\" id=\"glyph1-7\">\n",
       "<path style=\"stroke:none;\" d=\"M 0 -0.78125 L -6.222656 -0.78125 L -6.222656 -1.730469 L -5.28125 -1.730469 C -5.71875 -1.96875 -6.011719 -2.191406 -6.152344 -2.398438 C -6.292969 -2.601563 -6.363281 -2.828125 -6.363281 -3.078125 C -6.363281 -3.429688 -6.25 -3.792969 -6.023438 -4.160156 L -5.046875 -3.796875 C -5.195313 -3.539063 -5.273438 -3.28125 -5.273438 -3.023438 C -5.273438 -2.792969 -5.203125 -2.585938 -5.066406 -2.402344 C -4.925781 -2.21875 -4.734375 -2.085938 -4.488281 -2.011719 C -4.113281 -1.890625 -3.703125 -1.832031 -3.257813 -1.835938 L 0 -1.835938 Z M 0 -0.78125 \"/>\n",
       "</symbol>\n",
       "<symbol overflow=\"visible\" id=\"glyph1-8\">\n",
       "<path style=\"stroke:none;\" d=\"M -3.109375 -0.398438 C -4.261719 -0.398438 -5.117188 -0.71875 -5.671875 -1.359375 C -6.132813 -1.894531 -6.363281 -2.546875 -6.363281 -3.316406 C -6.363281 -4.171875 -6.082031 -4.871094 -5.519531 -5.414063 C -4.957031 -5.953125 -4.183594 -6.222656 -3.199219 -6.226563 C -2.394531 -6.222656 -1.761719 -6.101563 -1.308594 -5.867188 C -0.847656 -5.625 -0.492188 -5.277344 -0.238281 -4.820313 C 0.015625 -4.359375 0.140625 -3.859375 0.140625 -3.316406 C 0.140625 -2.441406 -0.136719 -1.734375 -0.695313 -1.203125 C -1.253906 -0.664063 -2.058594 -0.398438 -3.109375 -0.398438 Z M -3.109375 -1.484375 C -2.308594 -1.480469 -1.710938 -1.65625 -1.320313 -2.003906 C -0.921875 -2.347656 -0.726563 -2.785156 -0.726563 -3.316406 C -0.726563 -3.839844 -0.925781 -4.273438 -1.324219 -4.621094 C -1.722656 -4.96875 -2.328125 -5.144531 -3.144531 -5.144531 C -3.914063 -5.144531 -4.496094 -4.96875 -4.894531 -4.617188 C -5.289063 -4.265625 -5.488281 -3.832031 -5.492188 -3.316406 C -5.488281 -2.789063 -5.292969 -2.351563 -4.898438 -2.003906 C -4.5 -1.65625 -3.902344 -1.480469 -3.109375 -1.484375 Z M -3.109375 -1.484375 \"/>\n",
       "</symbol>\n",
       "<symbol overflow=\"visible\" id=\"glyph1-9\">\n",
       "<path style=\"stroke:none;\" d=\"M -2.277344 -4.851563 L -2.144531 -5.890625 C -1.425781 -5.773438 -0.863281 -5.484375 -0.464844 -5.019531 C -0.0585938 -4.550781 0.140625 -3.976563 0.140625 -3.296875 C 0.140625 -2.445313 -0.136719 -1.761719 -0.695313 -1.246094 C -1.25 -0.726563 -2.046875 -0.46875 -3.085938 -0.46875 C -3.753906 -0.46875 -4.34375 -0.578125 -4.851563 -0.800781 C -5.355469 -1.023438 -5.730469 -1.363281 -5.984375 -1.820313 C -6.234375 -2.273438 -6.363281 -2.769531 -6.363281 -3.304688 C -6.363281 -3.980469 -6.191406 -4.53125 -5.847656 -4.964844 C -5.503906 -5.390625 -5.019531 -5.667969 -4.394531 -5.789063 L -4.234375 -4.765625 C -4.652344 -4.664063 -4.96875 -4.492188 -5.179688 -4.246094 C -5.390625 -3.996094 -5.496094 -3.695313 -5.496094 -3.347656 C -5.496094 -2.8125 -5.304688 -2.382813 -4.921875 -2.050781 C -4.539063 -1.71875 -3.9375 -1.550781 -3.117188 -1.554688 C -2.28125 -1.550781 -1.671875 -1.710938 -1.292969 -2.035156 C -0.914063 -2.351563 -0.726563 -2.769531 -0.726563 -3.289063 C -0.726563 -3.695313 -0.851563 -4.042969 -1.105469 -4.324219 C -1.359375 -4.601563 -1.75 -4.777344 -2.277344 -4.851563 Z M -2.277344 -4.851563 \"/>\n",
       "</symbol>\n",
       "<symbol overflow=\"visible\" id=\"glyph1-10\">\n",
       "<path style=\"stroke:none;\" d=\"M -0.941406 -3.09375 L -0.0117188 -3.246094 C 0.0507813 -2.949219 0.0820313 -2.683594 0.0820313 -2.449219 C 0.0820313 -2.066406 0.0234375 -1.769531 -0.0976563 -1.558594 C -0.21875 -1.347656 -0.378906 -1.199219 -0.574219 -1.113281 C -0.769531 -1.027344 -1.183594 -0.984375 -1.820313 -0.984375 L -5.402344 -0.984375 L -5.402344 -0.210938 L -6.222656 -0.210938 L -6.222656 -0.984375 L -7.765625 -0.984375 L -8.398438 -2.035156 L -6.222656 -2.035156 L -6.222656 -3.09375 L -5.402344 -3.09375 L -5.402344 -2.035156 L -1.761719 -2.03125 C -1.460938 -2.027344 -1.269531 -2.046875 -1.183594 -2.085938 C -1.097656 -2.125 -1.027344 -2.183594 -0.976563 -2.269531 C -0.925781 -2.351563 -0.902344 -2.472656 -0.902344 -2.632813 C -0.902344 -2.742188 -0.914063 -2.898438 -0.941406 -3.09375 Z M -0.941406 -3.09375 \"/>\n",
       "</symbol>\n",
       "<symbol overflow=\"visible\" id=\"glyph1-11\">\n",
       "<path style=\"stroke:none;\" d=\"M -2.003906 -5.050781 L -1.867188 -6.140625 C -1.230469 -5.96875 -0.738281 -5.648438 -0.386719 -5.183594 C -0.0351563 -4.71875 0.140625 -4.125 0.140625 -3.40625 C 0.140625 -2.492188 -0.136719 -1.769531 -0.699219 -1.238281 C -1.253906 -0.703125 -2.042969 -0.4375 -3.058594 -0.441406 C -4.105469 -0.4375 -4.917969 -0.707031 -5.496094 -1.25 C -6.074219 -1.785156 -6.363281 -2.484375 -6.363281 -3.347656 C -6.363281 -4.175781 -6.078125 -4.855469 -5.511719 -5.382813 C -4.945313 -5.910156 -4.148438 -6.175781 -3.121094 -6.175781 C -3.054688 -6.175781 -2.960938 -6.171875 -2.839844 -6.171875 L -2.84375 -1.53125 C -2.15625 -1.566406 -1.632813 -1.761719 -1.269531 -2.109375 C -0.90625 -2.457031 -0.726563 -2.890625 -0.726563 -3.410156 C -0.726563 -3.796875 -0.828125 -4.125 -1.03125 -4.402344 C -1.234375 -4.671875 -1.558594 -4.890625 -2.003906 -5.050781 Z M -3.710938 -1.589844 L -3.707031 -5.0625 C -4.226563 -5.015625 -4.621094 -4.882813 -4.886719 -4.664063 C -5.292969 -4.328125 -5.496094 -3.890625 -5.496094 -3.359375 C -5.496094 -2.871094 -5.332031 -2.464844 -5.007813 -2.136719 C -4.683594 -1.804688 -4.25 -1.621094 -3.710938 -1.589844 Z M -3.710938 -1.589844 \"/>\n",
       "</symbol>\n",
       "<symbol overflow=\"visible\" id=\"glyph1-12\">\n",
       "<path style=\"stroke:none;\" d=\"M -3.367188 -4.945313 L -4.375 -4.945313 L -4.382813 -8.585938 L -1.195313 -8.585938 C -0.75 -8.023438 -0.414063 -7.449219 -0.1875 -6.855469 C 0.0351563 -6.261719 0.144531 -5.652344 0.148438 -5.027344 C 0.144531 -4.183594 -0.03125 -3.414063 -0.394531 -2.726563 C -0.753906 -2.035156 -1.277344 -1.515625 -1.960938 -1.167969 C -2.644531 -0.8125 -3.410156 -0.636719 -4.253906 -0.640625 C -5.089844 -0.636719 -5.867188 -0.8125 -6.59375 -1.164063 C -7.3125 -1.511719 -7.851563 -2.015625 -8.207031 -2.671875 C -8.554688 -3.328125 -8.730469 -4.082031 -8.734375 -4.941406 C -8.730469 -5.558594 -8.628906 -6.121094 -8.433594 -6.625 C -8.230469 -7.125 -7.953125 -7.519531 -7.59375 -7.804688 C -7.234375 -8.089844 -6.765625 -8.304688 -6.1875 -8.453125 L -5.90625 -7.429688 C -6.34375 -7.296875 -6.6875 -7.136719 -6.9375 -6.949219 C -7.1875 -6.757813 -7.386719 -6.484375 -7.539063 -6.128906 C -7.6875 -5.773438 -7.761719 -5.378906 -7.765625 -4.945313 C -7.761719 -4.425781 -7.683594 -3.976563 -7.527344 -3.597656 C -7.367188 -3.21875 -7.160156 -2.910156 -6.902344 -2.679688 C -6.644531 -2.445313 -6.359375 -2.265625 -6.054688 -2.140625 C -5.519531 -1.917969 -4.945313 -1.808594 -4.324219 -1.8125 C -3.558594 -1.808594 -2.917969 -1.941406 -2.402344 -2.207031 C -1.886719 -2.46875 -1.503906 -2.851563 -1.253906 -3.355469 C -1.003906 -3.859375 -0.878906 -4.394531 -0.878906 -4.960938 C -0.878906 -5.453125 -0.972656 -5.933594 -1.160156 -6.40625 C -1.347656 -6.871094 -1.550781 -7.226563 -1.769531 -7.46875 L -3.367188 -7.46875 Z M -3.367188 -4.945313 \"/>\n",
       "</symbol>\n",
       "<symbol overflow=\"visible\" id=\"glyph1-13\">\n",
       "<path style=\"stroke:none;\" d=\"M -0.765625 -4.851563 C -0.433594 -4.460938 -0.199219 -4.082031 -0.0625 -3.722656 C 0.0742188 -3.355469 0.140625 -2.96875 0.140625 -2.5625 C 0.140625 -1.875 -0.0234375 -1.351563 -0.359375 -0.984375 C -0.6875 -0.617188 -1.117188 -0.433594 -1.640625 -0.433594 C -1.945313 -0.433594 -2.222656 -0.5 -2.472656 -0.640625 C -2.722656 -0.777344 -2.925781 -0.960938 -3.082031 -1.1875 C -3.234375 -1.410156 -3.347656 -1.664063 -3.429688 -1.945313 C -3.476563 -2.152344 -3.53125 -2.464844 -3.585938 -2.882813 C -3.6875 -3.734375 -3.808594 -4.359375 -3.949219 -4.765625 C -4.089844 -4.765625 -4.179688 -4.769531 -4.226563 -4.769531 C -4.648438 -4.769531 -4.953125 -4.667969 -5.132813 -4.46875 C -5.371094 -4.199219 -5.488281 -3.800781 -5.492188 -3.269531 C -5.488281 -2.773438 -5.402344 -2.40625 -5.230469 -2.171875 C -5.054688 -1.933594 -4.746094 -1.757813 -4.304688 -1.648438 L -4.445313 -0.617188 C -4.886719 -0.707031 -5.242188 -0.863281 -5.515625 -1.078125 C -5.78125 -1.292969 -5.992188 -1.601563 -6.140625 -2.011719 C -6.289063 -2.414063 -6.363281 -2.886719 -6.363281 -3.421875 C -6.363281 -3.953125 -6.300781 -4.382813 -6.175781 -4.714844 C -6.050781 -5.046875 -5.890625 -5.292969 -5.703125 -5.449219 C -5.511719 -5.605469 -5.273438 -5.714844 -4.984375 -5.777344 C -4.804688 -5.808594 -4.480469 -5.824219 -4.015625 -5.828125 L -2.605469 -5.828125 C -1.625 -5.824219 -1.003906 -5.847656 -0.746094 -5.894531 C -0.480469 -5.941406 -0.234375 -6.03125 0 -6.164063 L 0 -5.0625 C -0.21875 -4.953125 -0.472656 -4.882813 -0.765625 -4.851563 Z M -3.121094 -4.765625 C -2.960938 -4.375 -2.828125 -3.800781 -2.726563 -3.039063 C -2.660156 -2.605469 -2.589844 -2.300781 -2.515625 -2.121094 C -2.433594 -1.941406 -2.320313 -1.800781 -2.171875 -1.703125 C -2.019531 -1.605469 -1.851563 -1.558594 -1.671875 -1.558594 C -1.386719 -1.558594 -1.152344 -1.664063 -0.964844 -1.875 C -0.773438 -2.085938 -0.679688 -2.398438 -0.683594 -2.8125 C -0.679688 -3.21875 -0.769531 -3.578125 -0.949219 -3.894531 C -1.128906 -4.210938 -1.371094 -4.445313 -1.679688 -4.59375 C -1.917969 -4.707031 -2.269531 -4.761719 -2.734375 -4.765625 Z M -3.121094 -4.765625 \"/>\n",
       "</symbol>\n",
       "<symbol overflow=\"visible\" id=\"glyph1-14\">\n",
       "<path style=\"stroke:none;\" d=\"M 0 -0.789063 L -6.222656 -0.792969 L -6.222656 -1.734375 L -5.351563 -1.734375 C -5.648438 -1.929688 -5.894531 -2.1875 -6.082031 -2.511719 C -6.269531 -2.835938 -6.363281 -3.207031 -6.363281 -3.621094 C -6.363281 -4.082031 -6.265625 -4.457031 -6.074219 -4.753906 C -5.882813 -5.042969 -5.617188 -5.253906 -5.273438 -5.378906 C -6 -5.871094 -6.363281 -6.511719 -6.363281 -7.300781 C -6.363281 -7.917969 -6.191406 -8.390625 -5.847656 -8.722656 C -5.503906 -9.054688 -4.976563 -9.222656 -4.269531 -9.222656 L 0 -9.222656 L 0 -8.171875 L -3.917969 -8.171875 C -4.335938 -8.167969 -4.640625 -8.132813 -4.828125 -8.070313 C -5.015625 -8 -5.164063 -7.878906 -5.277344 -7.699219 C -5.390625 -7.519531 -5.449219 -7.308594 -5.449219 -7.066406 C -5.449219 -6.628906 -5.300781 -6.265625 -5.011719 -5.976563 C -4.71875 -5.6875 -4.253906 -5.542969 -3.613281 -5.542969 L 0 -5.542969 L 0 -4.488281 L -4.042969 -4.488281 C -4.511719 -4.488281 -4.863281 -4.402344 -5.097656 -4.230469 C -5.332031 -4.058594 -5.449219 -3.777344 -5.449219 -3.386719 C -5.449219 -3.089844 -5.371094 -2.8125 -5.214844 -2.5625 C -5.058594 -2.308594 -4.828125 -2.128906 -4.527344 -2.015625 C -4.226563 -1.902344 -3.792969 -1.84375 -3.226563 -1.847656 L 0 -1.84375 Z M 0 -0.789063 \"/>\n",
       "</symbol>\n",
       "<symbol overflow=\"visible\" id=\"glyph1-15\">\n",
       "<path style=\"stroke:none;\" d=\"M 0 -1.765625 L 0 -0.785156 L -8.589844 -0.785156 L -8.589844 -1.839844 L -5.523438 -1.839844 C -6.082031 -2.285156 -6.363281 -2.851563 -6.363281 -3.546875 C -6.363281 -3.921875 -6.285156 -4.285156 -6.128906 -4.628906 C -5.972656 -4.972656 -5.753906 -5.253906 -5.480469 -5.472656 C -5.199219 -5.691406 -4.863281 -5.863281 -4.46875 -5.992188 C -4.074219 -6.113281 -3.652344 -6.175781 -3.203125 -6.179688 C -2.136719 -6.175781 -1.3125 -5.914063 -0.730469 -5.390625 C -0.148438 -4.863281 0.140625 -4.230469 0.140625 -3.492188 C 0.140625 -2.757813 -0.164063 -2.179688 -0.777344 -1.765625 Z M -3.15625 -1.753906 C -2.410156 -1.75 -1.871094 -1.851563 -1.539063 -2.054688 C -0.996094 -2.386719 -0.726563 -2.835938 -0.726563 -3.40625 C -0.726563 -3.859375 -0.925781 -4.257813 -1.324219 -4.597656 C -1.722656 -4.929688 -2.320313 -5.097656 -3.117188 -5.101563 C -3.929688 -5.097656 -4.527344 -4.9375 -4.914063 -4.617188 C -5.300781 -4.296875 -5.496094 -3.90625 -5.496094 -3.453125 C -5.496094 -2.988281 -5.292969 -2.589844 -4.894531 -2.257813 C -4.492188 -1.917969 -3.914063 -1.75 -3.15625 -1.753906 Z M -3.15625 -1.753906 \"/>\n",
       "</symbol>\n",
       "<symbol overflow=\"visible\" id=\"glyph1-16\">\n",
       "<path style=\"stroke:none;\" d=\"M 0 -0.765625 L -8.589844 -0.769531 L -8.589844 -1.824219 L 0 -1.820313 Z M 0 -0.765625 \"/>\n",
       "</symbol>\n",
       "<symbol overflow=\"visible\" id=\"glyph1-17\">\n",
       "<path style=\"stroke:none;\" d=\"M 1.238281 -2.988281 L 0.183594 -2.988281 C 0.113281 -2.457031 0 -2.027344 -0.171875 -1.699219 C -0.335938 -1.371094 -0.609375 -1.085938 -0.992188 -0.847656 C -1.367188 -0.605469 -1.832031 -0.464844 -2.382813 -0.429688 L -2.585938 -1.488281 C -2.015625 -1.566406 -1.601563 -1.710938 -1.335938 -1.921875 C -0.960938 -2.21875 -0.75 -2.574219 -0.707031 -2.988281 L -4.066406 -2.988281 C -4.144531 -2.554688 -4.3125 -2.109375 -4.570313 -1.660156 C -4.757813 -1.320313 -5.015625 -1.0625 -5.347656 -0.882813 C -5.679688 -0.699219 -6.058594 -0.609375 -6.480469 -0.609375 C -7.230469 -0.609375 -7.835938 -0.875 -8.304688 -1.40625 C -8.613281 -1.761719 -8.804688 -2.289063 -8.875 -2.988281 L -9.382813 -2.988281 L -9.382813 -3.609375 L -8.875 -3.609375 C -8.816406 -4.222656 -8.636719 -4.707031 -8.335938 -5.070313 C -7.953125 -5.527344 -7.429688 -5.804688 -6.761719 -5.898438 L -6.597656 -4.8125 C -7.011719 -4.746094 -7.328125 -4.617188 -7.550781 -4.421875 C -7.769531 -4.222656 -7.914063 -3.953125 -7.984375 -3.609375 L -4.945313 -3.609375 C -4.8125 -4.140625 -4.707031 -4.492188 -4.632813 -4.664063 C -4.488281 -4.992188 -4.3125 -5.257813 -4.105469 -5.464844 C -3.898438 -5.671875 -3.652344 -5.832031 -3.367188 -5.941406 C -3.082031 -6.050781 -2.773438 -6.105469 -2.441406 -6.109375 C -1.710938 -6.105469 -1.101563 -5.875 -0.613281 -5.414063 C -0.125 -4.949219 0.132813 -4.347656 0.171875 -3.609375 L 1.238281 -3.609375 Z M -8 -2.988281 C -7.933594 -2.578125 -7.769531 -2.253906 -7.507813 -2.019531 C -7.238281 -1.78125 -6.925781 -1.664063 -6.5625 -1.664063 C -6.203125 -1.664063 -5.902344 -1.761719 -5.660156 -1.964844 C -5.417969 -2.164063 -5.222656 -2.507813 -5.078125 -2.988281 Z M -0.707031 -3.609375 C -0.757813 -4.019531 -0.9375 -4.355469 -1.242188 -4.625 C -1.546875 -4.890625 -1.921875 -5.027344 -2.371094 -5.027344 C -2.75 -5.027344 -3.058594 -4.929688 -3.292969 -4.742188 C -3.527344 -4.550781 -3.734375 -4.175781 -3.921875 -3.609375 Z M -0.707031 -3.609375 \"/>\n",
       "</symbol>\n",
       "<symbol overflow=\"visible\" id=\"glyph1-18\">\n",
       "<path style=\"stroke:none;\" d=\"M -2.757813 -0.539063 L -2.851563 -1.613281 C -2.421875 -1.660156 -2.070313 -1.777344 -1.796875 -1.964844 C -1.519531 -2.144531 -1.296875 -2.433594 -1.125 -2.828125 C -0.953125 -3.214844 -0.867188 -3.65625 -0.871094 -4.148438 C -0.867188 -4.578125 -0.929688 -4.960938 -1.0625 -5.296875 C -1.1875 -5.628906 -1.367188 -5.875 -1.59375 -6.039063 C -1.820313 -6.199219 -2.066406 -6.28125 -2.332031 -6.28125 C -2.597656 -6.28125 -2.832031 -6.203125 -3.035156 -6.046875 C -3.238281 -5.890625 -3.40625 -5.632813 -3.542969 -5.273438 C -3.632813 -5.042969 -3.773438 -4.53125 -3.964844 -3.746094 C -4.152344 -2.953125 -4.332031 -2.402344 -4.5 -2.085938 C -4.710938 -1.675781 -4.976563 -1.367188 -5.296875 -1.167969 C -5.617188 -0.964844 -5.972656 -0.867188 -6.367188 -0.867188 C -6.800781 -0.867188 -7.207031 -0.988281 -7.582031 -1.234375 C -7.957031 -1.480469 -8.242188 -1.839844 -8.441406 -2.3125 C -8.632813 -2.785156 -8.730469 -3.3125 -8.734375 -3.890625 C -8.730469 -4.527344 -8.628906 -5.085938 -8.425781 -5.574219 C -8.222656 -6.058594 -7.921875 -6.433594 -7.523438 -6.695313 C -7.125 -6.957031 -6.671875 -7.097656 -6.171875 -7.117188 L -6.085938 -6.03125 C -6.628906 -5.96875 -7.039063 -5.769531 -7.316406 -5.433594 C -7.59375 -5.09375 -7.734375 -4.597656 -7.734375 -3.9375 C -7.734375 -3.25 -7.605469 -2.746094 -7.355469 -2.433594 C -7.097656 -2.117188 -6.796875 -1.960938 -6.445313 -1.964844 C -6.136719 -1.960938 -5.882813 -2.074219 -5.683594 -2.296875 C -5.480469 -2.515625 -5.273438 -3.085938 -5.070313 -4.011719 C -4.859375 -4.933594 -4.679688 -5.566406 -4.523438 -5.914063 C -4.292969 -6.410156 -4 -6.78125 -3.648438 -7.019531 C -3.292969 -7.253906 -2.886719 -7.371094 -2.425781 -7.375 C -1.964844 -7.371094 -1.53125 -7.242188 -1.132813 -6.984375 C -0.726563 -6.722656 -0.414063 -6.34375 -0.1875 -5.855469 C 0.0351563 -5.363281 0.144531 -4.8125 0.148438 -4.203125 C 0.144531 -3.421875 0.0351563 -2.769531 -0.191406 -2.246094 C -0.414063 -1.71875 -0.753906 -1.308594 -1.214844 -1.011719 C -1.667969 -0.710938 -2.183594 -0.554688 -2.757813 -0.539063 Z M -2.757813 -0.539063 \"/>\n",
       "</symbol>\n",
       "<symbol overflow=\"visible\" id=\"glyph1-19\">\n",
       "<path style=\"stroke:none;\" d=\"M 0 -0.796875 L -8.589844 -0.796875 L -8.589844 -1.851563 L -3.691406 -1.851563 L -6.222656 -4.347656 L -6.222656 -5.710938 L -3.914063 -3.335938 L 0 -5.953125 L 0 -4.652344 L -3.179688 -2.59375 L -2.46875 -1.851563 L 0 -1.851563 Z M 0 -0.796875 \"/>\n",
       "</symbol>\n",
       "<symbol overflow=\"visible\" id=\"glyph1-20\">\n",
       "<path style=\"stroke:none;\" d=\"M -7.375 -0.796875 L -8.589844 -0.796875 L -8.589844 -1.851563 L -7.375 -1.851563 Z M 0 -0.796875 L -6.222656 -0.796875 L -6.222656 -1.851563 L 0 -1.851563 Z M 0 -0.796875 \"/>\n",
       "</symbol>\n",
       "</g>\n",
       "<clipPath id=\"clip1\">\n",
       "  <path d=\"M 59.039063 59.039063 L 474.757813 59.039063 L 474.757813 431.558594 L 59.039063 431.558594 Z M 59.039063 59.039063 \"/>\n",
       "</clipPath>\n",
       "</defs>\n",
       "<g id=\"surface51\">\n",
       "<rect x=\"0\" y=\"0\" width=\"504\" height=\"504\" style=\"fill:rgb(100%,100%,100%);fill-opacity:1;stroke:none;\"/>\n",
       "<g clip-path=\"url(#clip1)\" clip-rule=\"nonzero\">\n",
       "<path style=\"fill:none;stroke-width:0.75;stroke-linecap:round;stroke-linejoin:round;stroke:rgb(0%,0%,100%);stroke-opacity:1;stroke-miterlimit:10;\" d=\"M 74.398438 199.1875 L 75.214844 200.597656 L 75.953125 210.648438 L 76.769531 217.890625 L 77.5625 328.242188 L 78.378906 412 L 79.167969 401.945313 L 79.984375 401.058594 L 80.800781 396.574219 L 81.589844 392.816406 L 82.40625 382.042969 L 83.199219 376.078125 L 84.015625 381.523438 L 84.832031 378.453125 L 85.566406 371.332031 L 86.382813 368.929688 L 87.175781 372.960938 L 87.992188 361.585938 L 88.78125 344.367188 L 89.597656 343.496094 L 90.414063 331.152344 L 91.203125 335.457031 L 92.019531 328.265625 L 92.8125 317.300781 L 93.628906 312.480469 L 94.445313 288.800781 L 95.207031 284.710938 L 96.023438 271.769531 L 96.816406 255.789063 L 97.632813 248.617188 L 98.421875 251.046875 L 99.238281 245.867188 L 100.054688 248.039063 L 100.84375 243.425781 L 101.660156 208.835938 L 102.453125 208.882813 L 103.269531 190.257813 L 104.085938 210.425781 L 104.820313 211.726563 L 105.636719 240 L 106.429688 238.175781 L 107.246094 231.496094 L 108.035156 218.78125 L 108.851563 226.613281 L 109.667969 247.234375 L 110.457031 240.242188 L 111.273438 240.886719 L 112.066406 261.890625 L 112.882813 274.777344 L 113.699219 287.855469 L 114.4375 268.273438 L 115.253906 276.34375 L 116.042969 248.84375 L 116.859375 233.972656 L 117.648438 243.9375 L 118.464844 281 L 119.28125 309.292969 L 120.074219 310.886719 L 120.890625 286.355469 L 121.679688 304.90625 L 122.496094 293.707031 L 123.3125 262.351563 L 124.050781 255.484375 L 124.867188 256.796875 L 125.65625 252.203125 L 126.472656 253.460938 L 127.261719 256.078125 L 128.078125 283.9375 L 128.894531 294.164063 L 129.6875 280.460938 L 130.503906 265.078125 L 131.292969 269.867188 L 132.109375 261.554688 L 132.925781 278.167969 L 133.691406 286.503906 L 134.507813 274.074219 L 135.296875 277.273438 L 136.113281 271.734375 L 136.902344 247.582031 L 137.71875 257.273438 L 138.535156 255.015625 L 139.328125 263.195313 L 140.144531 261.386719 L 140.933594 264.253906 L 141.75 273.988281 L 142.566406 293.015625 L 143.304688 298.101563 L 144.121094 314.355469 L 144.910156 320.433594 L 145.726563 308.605469 L 146.515625 303.457031 L 147.332031 297.949219 L 148.148438 288.242188 L 148.941406 297.375 L 149.757813 295.21875 L 150.546875 292.367188 L 151.363281 299.75 L 152.179688 310.773438 L 152.917969 318.726563 L 153.734375 311.171875 L 154.523438 290.320313 L 155.339844 284.40625 L 156.128906 278.34375 L 156.945313 276.476563 L 157.765625 276.546875 L 158.554688 285.242188 L 159.371094 290.117188 L 160.160156 281.542969 L 160.976563 280.996094 L 161.792969 296.121094 L 162.53125 302.78125 L 163.347656 305.859375 L 164.136719 307.769531 L 164.953125 310.527344 L 165.746094 321.667969 L 166.5625 312.695313 L 167.378906 313.148438 L 168.167969 317.296875 L 168.984375 328.34375 L 169.773438 326.035156 L 170.589844 327.707031 L 171.40625 333.148438 L 172.171875 353.652344 L 172.988281 343.671875 L 173.777344 317.679688 L 174.59375 319.933594 L 175.382813 320.992188 L 176.203125 305.925781 L 177.019531 316.507813 L 177.808594 333.765625 L 178.625 337.898438 L 179.414063 350.535156 L 180.230469 341.957031 L 181.046875 348.460938 L 181.785156 333.851563 L 182.601563 335.066406 L 183.390625 340.222656 L 184.207031 324.355469 L 185 326.46875 L 185.816406 338.667969 L 186.632813 339.441406 L 187.421875 324.835938 L 188.238281 313.078125 L 189.027344 308.871094 L 189.84375 301.738281 L 190.660156 293.832031 L 191.398438 301.609375 L 192.214844 286.929688 L 193.003906 288.554688 L 193.820313 293.671875 L 194.613281 288.664063 L 195.429688 278.28125 L 196.246094 246.773438 L 197.035156 211.269531 L 197.851563 199.054688 L 198.640625 180.625 L 199.457031 200.648438 L 200.273438 248.136719 L 201.011719 378.5 L 201.828125 368.335938 L 202.621094 382.960938 L 203.4375 391.5625 L 204.226563 392.015625 L 205.042969 397.878906 L 205.859375 386.96875 L 206.648438 379.773438 L 207.464844 383.320313 L 208.257813 382.242188 L 209.074219 392.546875 L 209.890625 411.867188 L 210.652344 415.398438 L 211.46875 413.375 L 212.257813 412.46875 L 213.078125 401.699219 L 213.867188 396.753906 L 214.683594 388.402344 L 215.5 388.148438 L 216.289063 387.304688 L 217.105469 378.957031 L 217.894531 379.996094 L 218.710938 385.300781 L 219.527344 385.320313 L 220.265625 385.289063 L 221.082031 396.15625 L 221.875 398.769531 L 222.691406 392.253906 L 223.480469 380.714844 L 224.296875 380.523438 L 225.113281 382.109375 L 225.902344 378.613281 L 226.71875 352.777344 L 227.511719 342.238281 L 228.328125 350.363281 L 229.144531 351.171875 L 229.878906 333 L 230.695313 323.027344 L 231.488281 325.570313 L 232.304688 316.726563 L 233.09375 317.777344 L 233.910156 312.941406 L 234.726563 331.234375 L 235.515625 334.640625 L 236.332031 319.820313 L 237.125 310.46875 L 237.941406 295.355469 L 238.757813 283.316406 L 239.496094 267.96875 L 240.3125 272 L 241.101563 274.257813 L 241.917969 251.964844 L 242.707031 259.003906 L 243.523438 243.316406 L 244.339844 244.234375 L 245.132813 273.765625 L 245.949219 286.957031 L 246.738281 291.785156 L 247.554688 289.433594 L 248.371094 296.125 L 249.132813 303.792969 L 249.949219 309.792969 L 250.742188 324.914063 L 251.558594 315.109375 L 252.347656 323.566406 L 253.164063 326.558594 L 253.980469 311.761719 L 254.769531 300.621094 L 255.585938 301.195313 L 256.378906 290.714844 L 257.195313 279.851563 L 258.011719 271.207031 L 258.75 272.757813 L 259.566406 262.289063 L 260.355469 241.558594 L 261.171875 210.71875 L 261.960938 190.152344 L 262.777344 159.699219 L 263.59375 163.277344 L 264.386719 147.589844 L 265.203125 226.214844 L 265.992188 349.222656 L 266.808594 347.546875 L 267.625 356.957031 L 268.363281 353.84375 L 269.179688 341.144531 L 269.96875 319.867188 L 270.785156 295.878906 L 271.574219 278.316406 L 272.390625 311.214844 L 273.207031 321.214844 L 274 314.253906 L 274.816406 302.777344 L 275.605469 287.339844 L 276.421875 302.6875 L 277.238281 297.773438 L 277.976563 291.820313 L 278.792969 287.332031 L 279.582031 296.128906 L 280.398438 299.4375 L 281.191406 307.46875 L 282.007813 299.015625 L 282.824219 294.105469 L 283.613281 296.0625 L 284.429688 297.949219 L 285.21875 289.023438 L 286.035156 255.945313 L 286.851563 235.933594 L 287.617188 238.859375 L 288.433594 235.171875 L 289.222656 228.050781 L 290.039063 332.910156 L 290.828125 408.679688 L 291.644531 410.527344 L 292.460938 412.640625 L 293.253906 403.792969 L 294.070313 394.21875 L 294.859375 393.976563 L 295.675781 404.019531 L 296.492188 403.894531 L 297.230469 399.066406 L 298.046875 413.136719 L 298.835938 408.765625 L 299.652344 409.480469 L 300.445313 403.730469 L 301.261719 414.023438 L 302.078125 413.457031 L 302.867188 403.25 L 303.683594 389.519531 L 304.472656 383.226563 L 305.289063 379.867188 L 306.105469 378.78125 L 306.84375 386.414063 L 307.660156 390.894531 L 308.449219 388.660156 L 309.265625 386.554688 L 310.058594 392.152344 L 310.875 385.300781 L 311.691406 374.570313 L 312.480469 367.175781 L 313.296875 363.707031 L 314.085938 366.082031 L 314.902344 365.242188 L 315.71875 354.058594 L 316.457031 347.269531 L 317.273438 345.710938 L 318.0625 340.09375 L 318.882813 333.09375 L 319.671875 341.371094 L 320.488281 344.285156 L 321.304688 327.625 L 322.09375 304.949219 L 322.910156 290.039063 L 323.699219 288.996094 L 324.515625 285.1875 L 325.335938 290.980469 L 326.097656 286.269531 L 326.914063 290.457031 L 327.703125 284.078125 L 328.519531 272.023438 L 329.3125 282.335938 L 330.128906 273.179688 L 330.945313 266.28125 L 331.734375 249.363281 L 332.550781 219.621094 L 333.339844 217.289063 L 334.15625 204.730469 L 334.972656 164.097656 L 335.710938 165.226563 L 336.527344 170.273438 L 337.320313 131.289063 L 338.136719 111.59375 L 338.925781 72.800781 L 339.742188 98.324219 L 340.558594 191.886719 L 341.347656 336.566406 L 342.164063 328.023438 L 342.953125 307.480469 L 343.773438 305.324219 L 344.589844 297.613281 L 345.324219 292.023438 L 346.140625 289.28125 L 346.933594 296.316406 L 347.75 280.480469 L 348.539063 272.34375 L 349.355469 307.128906 L 350.171875 330.972656 L 350.960938 304.710938 L 351.777344 273.113281 L 352.570313 276.25 L 353.386719 280.875 L 354.203125 275.988281 L 354.9375 260.238281 L 355.757813 248.3125 L 356.546875 262.117188 L 357.363281 274.566406 L 358.152344 279.5625 L 358.96875 255.601563 L 359.785156 239.929688 L 360.574219 246.996094 L 361.390625 211.328125 L 362.183594 205.34375 L 363 209.480469 L 363.816406 259.773438 L 364.578125 363.234375 L 365.394531 357.339844 L 366.1875 361.5 L 367.003906 380.207031 L 367.792969 382.058594 L 368.609375 371.753906 L 369.425781 364.132813 L 370.214844 331.375 L 371.03125 333.445313 L 371.824219 328.4375 L 372.640625 332.269531 L 373.457031 325.285156 L 374.195313 353.117188 L 375.011719 375.21875 L 375.800781 356.042969 L 376.617188 360.078125 L 377.40625 346.863281 L 378.222656 328.796875 L 379.039063 329.304688 L 379.828125 332.820313 L 380.648438 315.144531 L 381.4375 309.558594 L 382.253906 310.550781 L 383.070313 293.875 L 383.808594 282.847656 L 384.625 272.457031 L 385.414063 267.34375 L 386.230469 267.8125 L 387.019531 290.914063 L 387.835938 274.015625 L 388.652344 271.460938 L 389.445313 273.011719 L 390.261719 283.570313 L 391.050781 284.058594 L 391.867188 286.421875 L 392.683594 292.632813 L 393.421875 291.335938 L 394.238281 274.015625 L 395.027344 273.398438 L 395.84375 268.421875 L 396.632813 275.738281 L 397.449219 278.660156 L 398.265625 267.949219 L 399.058594 254.097656 L 399.875 251.078125 L 400.664063 247.066406 L 401.480469 241.613281 L 402.296875 230.882813 L 403.0625 227.371094 L 403.878906 219.996094 L 404.667969 217.382813 L 405.484375 275.929688 L 406.273438 392.082031 L 407.089844 391.746094 L 407.90625 388.292969 L 408.699219 395.25 L 409.515625 394.550781 L 410.304688 388.167969 L 411.121094 388.40625 L 411.9375 396.339844 L 412.675781 396.070313 L 413.492188 392.1875 L 414.28125 388.371094 L 415.097656 391.410156 L 415.886719 392.257813 L 416.703125 390.894531 L 417.519531 385.304688 L 418.3125 385.96875 L 419.128906 384.570313 L 419.917969 379.699219 L 420.734375 377.597656 L 421.550781 372.355469 L 422.289063 374.675781 L 423.105469 383 L 423.894531 387.363281 L 424.710938 389.945313 L 425.503906 385.011719 L 426.320313 372.917969 L 427.136719 367.609375 L 427.925781 364.367188 L 428.742188 361.5625 L 429.53125 360.152344 L 430.347656 357.179688 L 431.164063 357.453125 L 431.902344 363.960938 L 432.71875 361.660156 L 433.507813 363.859375 L 434.324219 365.277344 L 435.117188 365.707031 L 435.933594 358.300781 L 436.75 347.101563 L 437.539063 336.421875 L 438.355469 333.78125 L 439.144531 326.320313 L 439.960938 343.074219 L 440.777344 351.867188 L 441.542969 347.335938 L 442.359375 342.832031 L 443.148438 352.960938 L 443.964844 356.339844 L 444.757813 360.386719 L 445.574219 341.957031 L 446.390625 338.066406 L 447.179688 361.242188 L 447.996094 361.074219 L 448.785156 370.484375 L 449.601563 376.664063 L 450.417969 401.441406 L 451.15625 416.800781 L 451.972656 408.21875 L 452.761719 400.757813 L 453.578125 400.003906 L 454.371094 392.824219 L 455.1875 395.996094 L 456.003906 387.066406 L 456.792969 381.195313 L 457.609375 368.542969 L 458.398438 366.011719 \"/>\n",
       "</g>\n",
       "<path style=\"fill:none;stroke-width:0.75;stroke-linecap:round;stroke-linejoin:round;stroke:rgb(0%,0%,0%);stroke-opacity:1;stroke-miterlimit:10;\" d=\"M 74.398438 430.558594 L 459.214844 430.558594 \"/>\n",
       "<path style=\"fill:none;stroke-width:0.75;stroke-linecap:round;stroke-linejoin:round;stroke:rgb(0%,0%,0%);stroke-opacity:1;stroke-miterlimit:10;\" d=\"M 74.398438 430.558594 L 74.398438 437.761719 \"/>\n",
       "<path style=\"fill:none;stroke-width:0.75;stroke-linecap:round;stroke-linejoin:round;stroke:rgb(0%,0%,0%);stroke-opacity:1;stroke-miterlimit:10;\" d=\"M 170.589844 430.558594 L 170.589844 437.761719 \"/>\n",
       "<path style=\"fill:none;stroke-width:0.75;stroke-linecap:round;stroke-linejoin:round;stroke:rgb(0%,0%,0%);stroke-opacity:1;stroke-miterlimit:10;\" d=\"M 266.808594 430.558594 L 266.808594 437.761719 \"/>\n",
       "<path style=\"fill:none;stroke-width:0.75;stroke-linecap:round;stroke-linejoin:round;stroke:rgb(0%,0%,0%);stroke-opacity:1;stroke-miterlimit:10;\" d=\"M 363 430.558594 L 363 437.761719 \"/>\n",
       "<path style=\"fill:none;stroke-width:0.75;stroke-linecap:round;stroke-linejoin:round;stroke:rgb(0%,0%,0%);stroke-opacity:1;stroke-miterlimit:10;\" d=\"M 459.214844 430.558594 L 459.214844 437.761719 \"/>\n",
       "<g style=\"fill:rgb(0%,0%,0%);fill-opacity:1;\">\n",
       "  <use xlink:href=\"#glyph0-0\" x=\"61.050781\" y=\"456.480469\"/>\n",
       "  <use xlink:href=\"#glyph0-1\" x=\"67.724609\" y=\"456.480469\"/>\n",
       "  <use xlink:href=\"#glyph0-2\" x=\"74.398438\" y=\"456.480469\"/>\n",
       "  <use xlink:href=\"#glyph0-3\" x=\"81.072266\" y=\"456.480469\"/>\n",
       "</g>\n",
       "<g style=\"fill:rgb(0%,0%,0%);fill-opacity:1;\">\n",
       "  <use xlink:href=\"#glyph0-0\" x=\"157.242188\" y=\"456.480469\"/>\n",
       "  <use xlink:href=\"#glyph0-1\" x=\"163.916016\" y=\"456.480469\"/>\n",
       "  <use xlink:href=\"#glyph0-4\" x=\"170.589844\" y=\"456.480469\"/>\n",
       "  <use xlink:href=\"#glyph0-3\" x=\"177.263672\" y=\"456.480469\"/>\n",
       "</g>\n",
       "<g style=\"fill:rgb(0%,0%,0%);fill-opacity:1;\">\n",
       "  <use xlink:href=\"#glyph0-0\" x=\"253.460938\" y=\"456.480469\"/>\n",
       "  <use xlink:href=\"#glyph0-1\" x=\"260.134766\" y=\"456.480469\"/>\n",
       "  <use xlink:href=\"#glyph0-1\" x=\"266.808594\" y=\"456.480469\"/>\n",
       "  <use xlink:href=\"#glyph0-3\" x=\"273.482422\" y=\"456.480469\"/>\n",
       "</g>\n",
       "<g style=\"fill:rgb(0%,0%,0%);fill-opacity:1;\">\n",
       "  <use xlink:href=\"#glyph0-5\" x=\"349.652344\" y=\"456.480469\"/>\n",
       "  <use xlink:href=\"#glyph0-3\" x=\"356.326172\" y=\"456.480469\"/>\n",
       "  <use xlink:href=\"#glyph0-3\" x=\"363\" y=\"456.480469\"/>\n",
       "  <use xlink:href=\"#glyph0-3\" x=\"369.673828\" y=\"456.480469\"/>\n",
       "</g>\n",
       "<g style=\"fill:rgb(0%,0%,0%);fill-opacity:1;\">\n",
       "  <use xlink:href=\"#glyph0-5\" x=\"445.867188\" y=\"456.480469\"/>\n",
       "  <use xlink:href=\"#glyph0-3\" x=\"452.541016\" y=\"456.480469\"/>\n",
       "  <use xlink:href=\"#glyph0-0\" x=\"459.214844\" y=\"456.480469\"/>\n",
       "  <use xlink:href=\"#glyph0-3\" x=\"465.888672\" y=\"456.480469\"/>\n",
       "</g>\n",
       "<path style=\"fill:none;stroke-width:0.75;stroke-linecap:round;stroke-linejoin:round;stroke:rgb(0%,0%,0%);stroke-opacity:1;stroke-miterlimit:10;\" d=\"M 59.039063 372.882813 L 59.039063 105.011719 \"/>\n",
       "<path style=\"fill:none;stroke-width:0.75;stroke-linecap:round;stroke-linejoin:round;stroke:rgb(0%,0%,0%);stroke-opacity:1;stroke-miterlimit:10;\" d=\"M 59.039063 372.882813 L 51.839844 372.882813 \"/>\n",
       "<path style=\"fill:none;stroke-width:0.75;stroke-linecap:round;stroke-linejoin:round;stroke:rgb(0%,0%,0%);stroke-opacity:1;stroke-miterlimit:10;\" d=\"M 59.039063 305.917969 L 51.839844 305.917969 \"/>\n",
       "<path style=\"fill:none;stroke-width:0.75;stroke-linecap:round;stroke-linejoin:round;stroke:rgb(0%,0%,0%);stroke-opacity:1;stroke-miterlimit:10;\" d=\"M 59.039063 238.949219 L 51.839844 238.949219 \"/>\n",
       "<path style=\"fill:none;stroke-width:0.75;stroke-linecap:round;stroke-linejoin:round;stroke:rgb(0%,0%,0%);stroke-opacity:1;stroke-miterlimit:10;\" d=\"M 59.039063 171.980469 L 51.839844 171.980469 \"/>\n",
       "<path style=\"fill:none;stroke-width:0.75;stroke-linecap:round;stroke-linejoin:round;stroke:rgb(0%,0%,0%);stroke-opacity:1;stroke-miterlimit:10;\" d=\"M 59.039063 105.011719 L 51.839844 105.011719 \"/>\n",
       "<g style=\"fill:rgb(0%,0%,0%);fill-opacity:1;\">\n",
       "  <use xlink:href=\"#glyph1-0\" x=\"41.761719\" y=\"379.554688\"/>\n",
       "  <use xlink:href=\"#glyph1-1\" x=\"41.761719\" y=\"372.880859\"/>\n",
       "</g>\n",
       "<g style=\"fill:rgb(0%,0%,0%);fill-opacity:1;\">\n",
       "  <use xlink:href=\"#glyph1-2\" x=\"41.761719\" y=\"312.589844\"/>\n",
       "  <use xlink:href=\"#glyph1-1\" x=\"41.761719\" y=\"305.916016\"/>\n",
       "</g>\n",
       "<g style=\"fill:rgb(0%,0%,0%);fill-opacity:1;\">\n",
       "  <use xlink:href=\"#glyph1-3\" x=\"41.761719\" y=\"248.960938\"/>\n",
       "  <use xlink:href=\"#glyph1-1\" x=\"41.761719\" y=\"242.287109\"/>\n",
       "  <use xlink:href=\"#glyph1-1\" x=\"41.761719\" y=\"235.613281\"/>\n",
       "</g>\n",
       "<g style=\"fill:rgb(0%,0%,0%);fill-opacity:1;\">\n",
       "  <use xlink:href=\"#glyph1-3\" x=\"41.761719\" y=\"181.992188\"/>\n",
       "  <use xlink:href=\"#glyph1-4\" x=\"41.761719\" y=\"175.318359\"/>\n",
       "  <use xlink:href=\"#glyph1-1\" x=\"41.761719\" y=\"168.644531\"/>\n",
       "</g>\n",
       "<g style=\"fill:rgb(0%,0%,0%);fill-opacity:1;\">\n",
       "  <use xlink:href=\"#glyph1-3\" x=\"41.761719\" y=\"115.023438\"/>\n",
       "  <use xlink:href=\"#glyph1-5\" x=\"41.761719\" y=\"108.349609\"/>\n",
       "  <use xlink:href=\"#glyph1-1\" x=\"41.761719\" y=\"101.675781\"/>\n",
       "</g>\n",
       "<path style=\"fill:none;stroke-width:0.75;stroke-linecap:round;stroke-linejoin:round;stroke:rgb(0%,0%,0%);stroke-opacity:1;stroke-miterlimit:10;\" d=\"M 59.039063 430.558594 L 473.761719 430.558594 L 473.761719 59.039063 L 59.039063 59.039063 L 59.039063 430.558594 \"/>\n",
       "<g style=\"fill:rgb(0%,0%,0%);fill-opacity:1;\">\n",
       "  <use xlink:href=\"#glyph0-6\" x=\"210.039063\" y=\"485.28125\"/>\n",
       "  <use xlink:href=\"#glyph0-7\" x=\"218.042969\" y=\"485.28125\"/>\n",
       "  <use xlink:href=\"#glyph0-8\" x=\"222.039063\" y=\"485.28125\"/>\n",
       "  <use xlink:href=\"#glyph0-9\" x=\"228.712891\" y=\"485.28125\"/>\n",
       "  <use xlink:href=\"#glyph0-10\" x=\"234.712891\" y=\"485.28125\"/>\n",
       "  <use xlink:href=\"#glyph0-11\" x=\"238.046875\" y=\"485.28125\"/>\n",
       "  <use xlink:href=\"#glyph0-7\" x=\"244.720703\" y=\"485.28125\"/>\n",
       "  <use xlink:href=\"#glyph0-12\" x=\"248.716797\" y=\"485.28125\"/>\n",
       "  <use xlink:href=\"#glyph0-13\" x=\"258.050781\" y=\"485.28125\"/>\n",
       "  <use xlink:href=\"#glyph0-14\" x=\"264.724609\" y=\"485.28125\"/>\n",
       "  <use xlink:href=\"#glyph0-15\" x=\"274.720703\" y=\"485.28125\"/>\n",
       "  <use xlink:href=\"#glyph0-16\" x=\"281.394531\" y=\"485.28125\"/>\n",
       "  <use xlink:href=\"#glyph0-11\" x=\"284.060547\" y=\"485.28125\"/>\n",
       "  <use xlink:href=\"#glyph0-17\" x=\"290.734375\" y=\"485.28125\"/>\n",
       "  <use xlink:href=\"#glyph0-18\" x=\"297.408203\" y=\"485.28125\"/>\n",
       "  <use xlink:href=\"#glyph0-13\" x=\"306.074219\" y=\"485.28125\"/>\n",
       "  <use xlink:href=\"#glyph0-10\" x=\"312.748047\" y=\"485.28125\"/>\n",
       "  <use xlink:href=\"#glyph0-11\" x=\"316.082031\" y=\"485.28125\"/>\n",
       "</g>\n",
       "<g style=\"fill:rgb(0%,0%,0%);fill-opacity:1;\">\n",
       "  <use xlink:href=\"#glyph1-6\" x=\"12.960938\" y=\"317.160156\"/>\n",
       "  <use xlink:href=\"#glyph1-7\" x=\"12.960938\" y=\"309.15625\"/>\n",
       "  <use xlink:href=\"#glyph1-8\" x=\"12.960938\" y=\"305.160156\"/>\n",
       "  <use xlink:href=\"#glyph1-9\" x=\"12.960938\" y=\"298.486328\"/>\n",
       "  <use xlink:href=\"#glyph1-10\" x=\"12.960938\" y=\"292.486328\"/>\n",
       "  <use xlink:href=\"#glyph1-11\" x=\"12.960938\" y=\"289.152344\"/>\n",
       "  <use xlink:href=\"#glyph1-7\" x=\"12.960938\" y=\"282.478516\"/>\n",
       "  <use xlink:href=\"#glyph1-12\" x=\"12.960938\" y=\"278.482422\"/>\n",
       "  <use xlink:href=\"#glyph1-13\" x=\"12.960938\" y=\"269.148438\"/>\n",
       "  <use xlink:href=\"#glyph1-14\" x=\"12.960938\" y=\"262.474609\"/>\n",
       "  <use xlink:href=\"#glyph1-15\" x=\"12.960938\" y=\"252.478516\"/>\n",
       "  <use xlink:href=\"#glyph1-16\" x=\"12.960938\" y=\"245.804688\"/>\n",
       "  <use xlink:href=\"#glyph1-11\" x=\"12.960938\" y=\"243.138672\"/>\n",
       "  <use xlink:href=\"#glyph1-17\" x=\"12.960938\" y=\"236.464844\"/>\n",
       "  <use xlink:href=\"#glyph1-18\" x=\"12.960938\" y=\"229.791016\"/>\n",
       "  <use xlink:href=\"#glyph1-10\" x=\"12.960938\" y=\"221.787109\"/>\n",
       "  <use xlink:href=\"#glyph1-8\" x=\"12.960938\" y=\"218.453125\"/>\n",
       "  <use xlink:href=\"#glyph1-9\" x=\"12.960938\" y=\"211.779297\"/>\n",
       "  <use xlink:href=\"#glyph1-19\" x=\"12.960938\" y=\"205.779297\"/>\n",
       "  <use xlink:href=\"#glyph1-6\" x=\"12.960938\" y=\"199.779297\"/>\n",
       "  <use xlink:href=\"#glyph1-7\" x=\"12.960938\" y=\"191.775391\"/>\n",
       "  <use xlink:href=\"#glyph1-20\" x=\"12.960938\" y=\"187.779297\"/>\n",
       "  <use xlink:href=\"#glyph1-9\" x=\"12.960938\" y=\"185.113281\"/>\n",
       "  <use xlink:href=\"#glyph1-11\" x=\"12.960938\" y=\"179.113281\"/>\n",
       "</g>\n",
       "</g>\n",
       "</svg>\n"
      ],
      "text/plain": [
       "plot without title"
      ]
     },
     "metadata": {
      "image/svg+xml": {
       "isolated": true
      }
     },
     "output_type": "display_data"
    }
   ],
   "source": [
    "plot(ProcterGamble$Date, ProcterGamble$StockPrice, type = \"l\",col = \"blue\")"
   ]
  },
  {
   "cell_type": "code",
   "execution_count": null,
   "metadata": {
    "collapsed": true
   },
   "outputs": [],
   "source": []
  },
  {
   "cell_type": "code",
   "execution_count": null,
   "metadata": {
    "collapsed": true
   },
   "outputs": [],
   "source": []
  },
  {
   "cell_type": "code",
   "execution_count": 40,
   "metadata": {
    "collapsed": false
   },
   "outputs": [
    {
     "data": {
      "image/png": "[encoded data removed]",
      "image/svg+xml": [
       "<?xml version=\"1.0\" encoding=\"UTF-8\"?>\n",
       "<svg xmlns=\"http://www.w3.org/2000/svg\" xmlns:xlink=\"http://www.w3.org/1999/xlink\" width=\"504pt\" height=\"504pt\" viewBox=\"0 0 504 504\" version=\"1.1\">\n",
       "<defs>\n",
       "<g>\n",
       "<symbol overflow=\"visible\" id=\"glyph0-0\">\n",
       "<path style=\"stroke:none;\" d=\"M 4.46875 0 L 3.414063 0 L 3.414063 -6.71875 C 3.160156 -6.476563 2.828125 -6.234375 2.414063 -5.996094 C 2 -5.75 1.628906 -5.570313 1.304688 -5.449219 L 1.304688 -6.46875 C 1.894531 -6.742188 2.410156 -7.078125 2.851563 -7.476563 C 3.292969 -7.871094 3.605469 -8.253906 3.789063 -8.625 L 4.46875 -8.625 Z M 4.46875 0 \"/>\n",
       "</symbol>\n",
       "<symbol overflow=\"visible\" id=\"glyph0-1\">\n",
       "<path style=\"stroke:none;\" d=\"M 0.65625 -1.984375 L 1.671875 -2.078125 C 1.75 -1.601563 1.914063 -1.257813 2.160156 -1.042969 C 2.398438 -0.824219 2.710938 -0.714844 3.09375 -0.71875 C 3.414063 -0.714844 3.695313 -0.789063 3.945313 -0.941406 C 4.1875 -1.085938 4.390625 -1.285156 4.546875 -1.535156 C 4.703125 -1.785156 4.832031 -2.121094 4.9375 -2.542969 C 5.042969 -2.964844 5.097656 -3.394531 5.097656 -3.832031 C 5.097656 -3.878906 5.09375 -3.949219 5.09375 -4.042969 C 4.875 -3.707031 4.585938 -3.433594 4.226563 -3.226563 C 3.859375 -3.015625 3.464844 -2.910156 3.039063 -2.914063 C 2.328125 -2.910156 1.726563 -3.167969 1.238281 -3.6875 C 0.742188 -4.199219 0.496094 -4.878906 0.5 -5.726563 C 0.496094 -6.59375 0.753906 -7.296875 1.269531 -7.828125 C 1.78125 -8.359375 2.425781 -8.625 3.199219 -8.625 C 3.757813 -8.625 4.265625 -8.472656 4.730469 -8.171875 C 5.191406 -7.871094 5.542969 -7.441406 5.785156 -6.886719 C 6.023438 -6.328125 6.144531 -5.523438 6.148438 -4.46875 C 6.144531 -3.371094 6.027344 -2.496094 5.789063 -1.847656 C 5.546875 -1.195313 5.191406 -0.703125 4.722656 -0.363281 C 4.253906 -0.0234375 3.703125 0.144531 3.070313 0.148438 C 2.398438 0.144531 1.847656 -0.0390625 1.421875 -0.410156 C 0.996094 -0.785156 0.742188 -1.308594 0.65625 -1.984375 Z M 4.976563 -5.777344 C 4.972656 -6.382813 4.8125 -6.863281 4.492188 -7.21875 C 4.167969 -7.570313 3.78125 -7.746094 3.328125 -7.75 C 2.859375 -7.746094 2.449219 -7.554688 2.101563 -7.175781 C 1.753906 -6.789063 1.582031 -6.292969 1.582031 -5.6875 C 1.582031 -5.136719 1.746094 -4.691406 2.074219 -4.355469 C 2.402344 -4.011719 2.808594 -3.84375 3.296875 -3.84375 C 3.785156 -3.84375 4.1875 -4.011719 4.503906 -4.355469 C 4.816406 -4.691406 4.972656 -5.167969 4.976563 -5.777344 Z M 4.976563 -5.777344 \"/>\n",
       "</symbol>\n",
       "<symbol overflow=\"visible\" id=\"glyph0-2\">\n",
       "<path style=\"stroke:none;\" d=\"M 5.96875 -6.484375 L 4.921875 -6.40625 C 4.828125 -6.8125 4.695313 -7.113281 4.523438 -7.304688 C 4.234375 -7.605469 3.882813 -7.757813 3.46875 -7.757813 C 3.132813 -7.757813 2.835938 -7.664063 2.585938 -7.476563 C 2.25 -7.234375 1.988281 -6.878906 1.796875 -6.414063 C 1.605469 -5.949219 1.507813 -5.289063 1.5 -4.429688 C 1.753906 -4.8125 2.0625 -5.097656 2.433594 -5.289063 C 2.796875 -5.472656 3.183594 -5.566406 3.585938 -5.570313 C 4.289063 -5.566406 4.886719 -5.308594 5.382813 -4.792969 C 5.875 -4.277344 6.121094 -3.609375 6.125 -2.789063 C 6.121094 -2.25 6.003906 -1.746094 5.773438 -1.285156 C 5.539063 -0.820313 5.222656 -0.46875 4.816406 -0.222656 C 4.410156 0.0234375 3.949219 0.144531 3.433594 0.148438 C 2.554688 0.144531 1.835938 -0.175781 1.285156 -0.820313 C 0.726563 -1.46875 0.449219 -2.535156 0.453125 -4.019531 C 0.449219 -5.675781 0.757813 -6.882813 1.371094 -7.640625 C 1.902344 -8.296875 2.621094 -8.625 3.53125 -8.625 C 4.207031 -8.625 4.761719 -8.433594 5.195313 -8.054688 C 5.625 -7.675781 5.882813 -7.152344 5.96875 -6.484375 Z M 1.664063 -2.78125 C 1.664063 -2.417969 1.738281 -2.070313 1.894531 -1.738281 C 2.042969 -1.40625 2.261719 -1.152344 2.542969 -0.980469 C 2.820313 -0.800781 3.109375 -0.714844 3.414063 -0.71875 C 3.859375 -0.714844 4.242188 -0.894531 4.566406 -1.257813 C 4.882813 -1.613281 5.042969 -2.101563 5.046875 -2.726563 C 5.042969 -3.316406 4.886719 -3.785156 4.570313 -4.128906 C 4.25 -4.46875 3.851563 -4.640625 3.375 -4.640625 C 2.898438 -4.640625 2.492188 -4.46875 2.160156 -4.128906 C 1.828125 -3.785156 1.664063 -3.335938 1.664063 -2.78125 Z M 1.664063 -2.78125 \"/>\n",
       "</symbol>\n",
       "<symbol overflow=\"visible\" id=\"glyph0-3\">\n",
       "<path style=\"stroke:none;\" d=\"M 2.121094 -4.65625 C 1.683594 -4.816406 1.359375 -5.046875 1.148438 -5.34375 C 0.9375 -5.640625 0.832031 -5.996094 0.832031 -6.410156 C 0.832031 -7.035156 1.054688 -7.558594 1.503906 -7.984375 C 1.953125 -8.410156 2.550781 -8.625 3.296875 -8.625 C 4.042969 -8.625 4.648438 -8.40625 5.109375 -7.972656 C 5.566406 -7.535156 5.792969 -7.003906 5.796875 -6.382813 C 5.792969 -5.976563 5.6875 -5.628906 5.480469 -5.339844 C 5.269531 -5.042969 4.953125 -4.816406 4.53125 -4.65625 C 5.054688 -4.480469 5.457031 -4.203125 5.734375 -3.824219 C 6.007813 -3.4375 6.144531 -2.980469 6.148438 -2.453125 C 6.144531 -1.714844 5.886719 -1.097656 5.367188 -0.601563 C 4.84375 -0.101563 4.160156 0.144531 3.316406 0.148438 C 2.46875 0.144531 1.785156 -0.101563 1.265625 -0.605469 C 0.742188 -1.105469 0.480469 -1.734375 0.484375 -2.484375 C 0.480469 -3.039063 0.621094 -3.503906 0.910156 -3.886719 C 1.191406 -4.261719 1.597656 -4.519531 2.121094 -4.65625 Z M 1.910156 -6.445313 C 1.910156 -6.039063 2.039063 -5.707031 2.300781 -5.449219 C 2.5625 -5.191406 2.902344 -5.0625 3.320313 -5.0625 C 3.722656 -5.0625 4.054688 -5.1875 4.320313 -5.445313 C 4.578125 -5.695313 4.710938 -6.011719 4.710938 -6.386719 C 4.710938 -6.773438 4.574219 -7.097656 4.308594 -7.363281 C 4.035156 -7.625 3.703125 -7.757813 3.3125 -7.757813 C 2.90625 -7.757813 2.574219 -7.628906 2.308594 -7.371094 C 2.042969 -7.113281 1.910156 -6.804688 1.910156 -6.445313 Z M 1.570313 -2.476563 C 1.570313 -2.175781 1.640625 -1.886719 1.785156 -1.605469 C 1.925781 -1.324219 2.136719 -1.105469 2.421875 -0.949219 C 2.699219 -0.792969 3.003906 -0.714844 3.328125 -0.71875 C 3.832031 -0.714844 4.246094 -0.878906 4.578125 -1.207031 C 4.902344 -1.53125 5.066406 -1.941406 5.070313 -2.445313 C 5.066406 -2.945313 4.898438 -3.367188 4.5625 -3.703125 C 4.222656 -4.035156 3.800781 -4.199219 3.292969 -4.203125 C 2.792969 -4.199219 2.378906 -4.035156 2.058594 -3.710938 C 1.730469 -3.378906 1.570313 -2.96875 1.570313 -2.476563 Z M 1.570313 -2.476563 \"/>\n",
       "</symbol>\n",
       "<symbol overflow=\"visible\" id=\"glyph0-4\">\n",
       "<path style=\"stroke:none;\" d=\"M 6.039063 -1.015625 L 6.039063 0 L 0.363281 0 C 0.355469 -0.253906 0.394531 -0.496094 0.484375 -0.734375 C 0.628906 -1.117188 0.859375 -1.5 1.179688 -1.875 C 1.492188 -2.25 1.953125 -2.683594 2.5625 -3.175781 C 3.492188 -3.941406 4.125 -4.546875 4.453125 -4.992188 C 4.78125 -5.4375 4.945313 -5.859375 4.945313 -6.265625 C 4.945313 -6.679688 4.792969 -7.03125 4.496094 -7.320313 C 4.191406 -7.601563 3.804688 -7.746094 3.328125 -7.75 C 2.820313 -7.746094 2.414063 -7.59375 2.109375 -7.292969 C 1.804688 -6.984375 1.648438 -6.5625 1.648438 -6.03125 L 0.5625 -6.140625 C 0.632813 -6.945313 0.910156 -7.558594 1.398438 -7.988281 C 1.878906 -8.410156 2.53125 -8.625 3.351563 -8.625 C 4.171875 -8.625 4.824219 -8.394531 5.308594 -7.9375 C 5.789063 -7.480469 6.027344 -6.914063 6.03125 -6.242188 C 6.027344 -5.894531 5.957031 -5.558594 5.820313 -5.226563 C 5.675781 -4.890625 5.441406 -4.539063 5.117188 -4.175781 C 4.789063 -3.804688 4.25 -3.300781 3.492188 -2.664063 C 2.859375 -2.128906 2.453125 -1.769531 2.273438 -1.582031 C 2.09375 -1.394531 1.945313 -1.203125 1.828125 -1.015625 Z M 6.039063 -1.015625 \"/>\n",
       "</symbol>\n",
       "<symbol overflow=\"visible\" id=\"glyph0-5\">\n",
       "<path style=\"stroke:none;\" d=\"M 0.5 -4.234375 C 0.496094 -5.246094 0.601563 -6.0625 0.8125 -6.6875 C 1.019531 -7.304688 1.328125 -7.785156 1.742188 -8.121094 C 2.148438 -8.457031 2.667969 -8.625 3.296875 -8.625 C 3.757813 -8.625 4.164063 -8.53125 4.511719 -8.347656 C 4.855469 -8.160156 5.140625 -7.890625 5.371094 -7.542969 C 5.59375 -7.191406 5.773438 -6.765625 5.90625 -6.265625 C 6.035156 -5.761719 6.097656 -5.085938 6.101563 -4.234375 C 6.097656 -3.226563 5.996094 -2.414063 5.789063 -1.796875 C 5.578125 -1.175781 5.265625 -0.695313 4.859375 -0.359375 C 4.445313 -0.0195313 3.925781 0.144531 3.296875 0.148438 C 2.464844 0.144531 1.816406 -0.148438 1.347656 -0.742188 C 0.78125 -1.457031 0.496094 -2.621094 0.5 -4.234375 Z M 1.582031 -4.234375 C 1.582031 -2.824219 1.746094 -1.886719 2.074219 -1.417969 C 2.402344 -0.949219 2.808594 -0.714844 3.296875 -0.71875 C 3.777344 -0.714844 4.183594 -0.949219 4.519531 -1.421875 C 4.847656 -1.886719 5.015625 -2.824219 5.015625 -4.234375 C 5.015625 -5.648438 4.847656 -6.589844 4.519531 -7.054688 C 4.183594 -7.515625 3.773438 -7.746094 3.289063 -7.75 C 2.800781 -7.746094 2.414063 -7.542969 2.125 -7.136719 C 1.761719 -6.613281 1.582031 -5.644531 1.582031 -4.234375 Z M 1.582031 -4.234375 \"/>\n",
       "</symbol>\n",
       "<symbol overflow=\"visible\" id=\"glyph0-6\">\n",
       "<path style=\"stroke:none;\" d=\"M 3.878906 0 L 3.878906 -2.054688 L 0.152344 -2.054688 L 0.152344 -3.023438 L 4.070313 -8.589844 L 4.933594 -8.589844 L 4.933594 -3.023438 L 6.09375 -3.023438 L 6.09375 -2.054688 L 4.933594 -2.054688 L 4.933594 0 Z M 3.878906 -3.023438 L 3.878906 -6.898438 L 1.1875 -3.023438 Z M 3.878906 -3.023438 \"/>\n",
       "</symbol>\n",
       "<symbol overflow=\"visible\" id=\"glyph0-7\">\n",
       "<path style=\"stroke:none;\" d=\"M 7.054688 -3.011719 L 8.191406 -2.726563 C 7.953125 -1.789063 7.523438 -1.078125 6.90625 -0.585938 C 6.285156 -0.0976563 5.527344 0.144531 4.632813 0.148438 C 3.707031 0.144531 2.953125 -0.0390625 2.375 -0.417969 C 1.792969 -0.792969 1.351563 -1.339844 1.050781 -2.054688 C 0.746094 -2.769531 0.597656 -3.539063 0.597656 -4.359375 C 0.597656 -5.253906 0.765625 -6.03125 1.109375 -6.699219 C 1.449219 -7.363281 1.9375 -7.871094 2.570313 -8.214844 C 3.199219 -8.558594 3.894531 -8.730469 4.652344 -8.734375 C 5.511719 -8.730469 6.234375 -8.511719 6.820313 -8.078125 C 7.40625 -7.636719 7.8125 -7.023438 8.046875 -6.234375 L 6.925781 -5.96875 C 6.722656 -6.589844 6.433594 -7.046875 6.058594 -7.335938 C 5.679688 -7.621094 5.203125 -7.761719 4.628906 -7.765625 C 3.96875 -7.761719 3.414063 -7.605469 2.972656 -7.289063 C 2.527344 -6.96875 2.21875 -6.542969 2.039063 -6.011719 C 1.859375 -5.480469 1.769531 -4.929688 1.769531 -4.367188 C 1.769531 -3.632813 1.875 -2.996094 2.085938 -2.449219 C 2.296875 -1.902344 2.628906 -1.496094 3.082031 -1.230469 C 3.53125 -0.960938 4.015625 -0.824219 4.539063 -0.828125 C 5.175781 -0.824219 5.714844 -1.007813 6.15625 -1.378906 C 6.597656 -1.742188 6.898438 -2.289063 7.054688 -3.011719 Z M 7.054688 -3.011719 \"/>\n",
       "</symbol>\n",
       "<symbol overflow=\"visible\" id=\"glyph0-8\">\n",
       "<path style=\"stroke:none;\" d=\"M 0.398438 -3.109375 C 0.398438 -4.261719 0.71875 -5.117188 1.359375 -5.671875 C 1.894531 -6.132813 2.546875 -6.363281 3.316406 -6.363281 C 4.171875 -6.363281 4.871094 -6.082031 5.414063 -5.519531 C 5.953125 -4.957031 6.222656 -4.183594 6.226563 -3.199219 C 6.222656 -2.398438 6.101563 -1.765625 5.867188 -1.308594 C 5.625 -0.847656 5.277344 -0.492188 4.820313 -0.238281 C 4.359375 0.015625 3.859375 0.140625 3.316406 0.140625 C 2.441406 0.140625 1.734375 -0.136719 1.203125 -0.695313 C 0.664063 -1.253906 0.398438 -2.058594 0.398438 -3.109375 Z M 1.484375 -3.109375 C 1.480469 -2.308594 1.65625 -1.710938 2.003906 -1.320313 C 2.347656 -0.921875 2.785156 -0.726563 3.316406 -0.726563 C 3.839844 -0.726563 4.273438 -0.925781 4.621094 -1.324219 C 4.96875 -1.722656 5.144531 -2.328125 5.144531 -3.148438 C 5.144531 -3.914063 4.96875 -4.496094 4.617188 -4.894531 C 4.265625 -5.289063 3.832031 -5.488281 3.316406 -5.492188 C 2.785156 -5.488281 2.347656 -5.292969 2.003906 -4.898438 C 1.65625 -4.5 1.480469 -3.902344 1.484375 -3.109375 Z M 1.484375 -3.109375 \"/>\n",
       "</symbol>\n",
       "<symbol overflow=\"visible\" id=\"glyph0-9\">\n",
       "<path style=\"stroke:none;\" d=\"M 4.851563 -2.28125 L 5.890625 -2.144531 C 5.773438 -1.425781 5.484375 -0.863281 5.019531 -0.464844 C 4.550781 -0.0585938 3.976563 0.140625 3.296875 0.140625 C 2.445313 0.140625 1.761719 -0.136719 1.246094 -0.695313 C 0.726563 -1.25 0.46875 -2.046875 0.46875 -3.085938 C 0.46875 -3.753906 0.578125 -4.34375 0.800781 -4.851563 C 1.023438 -5.355469 1.363281 -5.730469 1.816406 -5.984375 C 2.269531 -6.234375 2.765625 -6.363281 3.304688 -6.363281 C 3.980469 -6.363281 4.53125 -6.191406 4.964844 -5.847656 C 5.390625 -5.503906 5.667969 -5.019531 5.789063 -4.394531 L 4.765625 -4.234375 C 4.664063 -4.652344 4.492188 -4.96875 4.246094 -5.179688 C 3.996094 -5.390625 3.695313 -5.496094 3.34375 -5.496094 C 2.808594 -5.496094 2.378906 -5.304688 2.050781 -4.921875 C 1.71875 -4.539063 1.550781 -3.9375 1.554688 -3.117188 C 1.550781 -2.28125 1.710938 -1.671875 2.035156 -1.292969 C 2.351563 -0.914063 2.769531 -0.726563 3.289063 -0.726563 C 3.695313 -0.726563 4.042969 -0.851563 4.324219 -1.105469 C 4.601563 -1.359375 4.777344 -1.75 4.851563 -2.28125 Z M 4.851563 -2.28125 \"/>\n",
       "</symbol>\n",
       "<symbol overflow=\"visible\" id=\"glyph0-10\">\n",
       "<path style=\"stroke:none;\" d=\"M 4.851563 -0.765625 C 4.460938 -0.433594 4.082031 -0.199219 3.722656 -0.0625 C 3.355469 0.0742188 2.96875 0.140625 2.5625 0.140625 C 1.875 0.140625 1.351563 -0.0234375 0.984375 -0.359375 C 0.617188 -0.6875 0.433594 -1.117188 0.433594 -1.640625 C 0.433594 -1.945313 0.5 -2.222656 0.640625 -2.472656 C 0.777344 -2.722656 0.960938 -2.925781 1.1875 -3.082031 C 1.410156 -3.234375 1.664063 -3.347656 1.945313 -3.429688 C 2.152344 -3.476563 2.464844 -3.53125 2.882813 -3.585938 C 3.734375 -3.6875 4.359375 -3.808594 4.765625 -3.949219 C 4.765625 -4.089844 4.769531 -4.179688 4.769531 -4.226563 C 4.769531 -4.648438 4.667969 -4.953125 4.46875 -5.132813 C 4.199219 -5.371094 3.800781 -5.488281 3.269531 -5.492188 C 2.769531 -5.488281 2.402344 -5.402344 2.167969 -5.230469 C 1.933594 -5.054688 1.757813 -4.746094 1.648438 -4.304688 L 0.617188 -4.445313 C 0.707031 -4.886719 0.863281 -5.242188 1.078125 -5.515625 C 1.289063 -5.78125 1.597656 -5.992188 2.007813 -6.140625 C 2.410156 -6.289063 2.882813 -6.363281 3.421875 -6.363281 C 3.953125 -6.363281 4.382813 -6.300781 4.714844 -6.175781 C 5.046875 -6.050781 5.292969 -5.890625 5.449219 -5.703125 C 5.605469 -5.511719 5.714844 -5.273438 5.777344 -4.984375 C 5.808594 -4.804688 5.824219 -4.480469 5.828125 -4.015625 L 5.828125 -2.609375 C 5.824219 -1.625 5.847656 -1.003906 5.894531 -0.746094 C 5.941406 -0.484375 6.03125 -0.238281 6.164063 0 L 5.0625 0 C 4.953125 -0.21875 4.882813 -0.472656 4.851563 -0.765625 Z M 4.765625 -3.125 C 4.375 -2.964844 3.800781 -2.832031 3.039063 -2.726563 C 2.605469 -2.660156 2.300781 -2.589844 2.121094 -2.515625 C 1.941406 -2.433594 1.800781 -2.320313 1.703125 -2.171875 C 1.605469 -2.019531 1.558594 -1.851563 1.558594 -1.671875 C 1.558594 -1.386719 1.664063 -1.152344 1.875 -0.96875 C 2.085938 -0.777344 2.398438 -0.683594 2.8125 -0.6875 C 3.21875 -0.683594 3.578125 -0.773438 3.894531 -0.953125 C 4.210938 -1.128906 4.445313 -1.371094 4.59375 -1.679688 C 4.707031 -1.917969 4.761719 -2.269531 4.765625 -2.734375 Z M 4.765625 -3.125 \"/>\n",
       "</symbol>\n",
       "<symbol overflow=\"visible\" id=\"glyph0-11\">\n",
       "<path style=\"stroke:none;\" d=\"M 0.765625 0 L 0.765625 -8.589844 L 1.820313 -8.589844 L 1.820313 0 Z M 0.765625 0 \"/>\n",
       "</symbol>\n",
       "<symbol overflow=\"visible\" id=\"glyph0-12\">\n",
       "<path style=\"stroke:none;\" d=\"M 2.988281 1.234375 L 2.988281 0.179688 C 2.457031 0.113281 2.027344 0 1.699219 -0.171875 C 1.371094 -0.339844 1.085938 -0.617188 0.84375 -0.996094 C 0.601563 -1.371094 0.460938 -1.832031 0.429688 -2.382813 L 1.488281 -2.585938 C 1.566406 -2.015625 1.710938 -1.601563 1.921875 -1.335938 C 2.21875 -0.960938 2.574219 -0.75 2.988281 -0.710938 L 2.988281 -4.066406 C 2.550781 -4.144531 2.105469 -4.3125 1.65625 -4.570313 C 1.320313 -4.757813 1.0625 -5.015625 0.882813 -5.347656 C 0.699219 -5.679688 0.609375 -6.058594 0.609375 -6.480469 C 0.609375 -7.230469 0.875 -7.835938 1.40625 -8.304688 C 1.757813 -8.613281 2.285156 -8.804688 2.988281 -8.875 L 2.988281 -9.382813 L 3.609375 -9.382813 L 3.609375 -8.875 C 4.222656 -8.816406 4.707031 -8.636719 5.070313 -8.335938 C 5.523438 -7.953125 5.800781 -7.429688 5.898438 -6.761719 L 4.8125 -6.597656 C 4.746094 -7.011719 4.617188 -7.328125 4.421875 -7.550781 C 4.222656 -7.769531 3.953125 -7.914063 3.609375 -7.984375 L 3.609375 -4.945313 C 4.140625 -4.8125 4.492188 -4.707031 4.664063 -4.632813 C 4.992188 -4.488281 5.257813 -4.3125 5.464844 -4.105469 C 5.671875 -3.898438 5.832031 -3.652344 5.941406 -3.367188 C 6.050781 -3.082031 6.105469 -2.773438 6.109375 -2.445313 C 6.105469 -1.710938 5.875 -1.101563 5.414063 -0.613281 C 4.949219 -0.125 4.347656 0.132813 3.609375 0.171875 L 3.609375 1.234375 Z M 2.988281 -8 C 2.578125 -7.933594 2.253906 -7.769531 2.019531 -7.507813 C 1.78125 -7.238281 1.664063 -6.925781 1.664063 -6.5625 C 1.664063 -6.203125 1.761719 -5.902344 1.964844 -5.660156 C 2.160156 -5.417969 2.503906 -5.222656 2.988281 -5.078125 Z M 3.609375 -0.710938 C 4.019531 -0.757813 4.355469 -0.9375 4.625 -1.242188 C 4.890625 -1.546875 5.027344 -1.921875 5.027344 -2.375 C 5.027344 -2.75 4.929688 -3.058594 4.742188 -3.292969 C 4.550781 -3.527344 4.175781 -3.734375 3.609375 -3.921875 Z M 3.609375 -0.710938 \"/>\n",
       "</symbol>\n",
       "<symbol overflow=\"visible\" id=\"glyph0-13\">\n",
       "<path style=\"stroke:none;\" d=\"M 0.925781 0 L 0.925781 -8.589844 L 3.882813 -8.589844 C 4.550781 -8.589844 5.0625 -8.546875 5.414063 -8.46875 C 5.90625 -8.351563 6.324219 -8.148438 6.671875 -7.851563 C 7.121094 -7.46875 7.460938 -6.976563 7.6875 -6.382813 C 7.914063 -5.785156 8.027344 -5.105469 8.027344 -4.34375 C 8.027344 -3.6875 7.949219 -3.109375 7.796875 -2.605469 C 7.644531 -2.101563 7.449219 -1.683594 7.210938 -1.355469 C 6.972656 -1.019531 6.710938 -0.761719 6.429688 -0.574219 C 6.144531 -0.386719 5.804688 -0.242188 5.40625 -0.144531 C 5.003906 -0.046875 4.542969 0 4.023438 0 Z M 2.0625 -1.015625 L 3.898438 -1.015625 C 4.460938 -1.011719 4.90625 -1.066406 5.226563 -1.171875 C 5.546875 -1.273438 5.804688 -1.421875 6 -1.617188 C 6.269531 -1.886719 6.476563 -2.246094 6.628906 -2.703125 C 6.777344 -3.15625 6.855469 -3.710938 6.855469 -4.359375 C 6.855469 -5.257813 6.707031 -5.945313 6.410156 -6.429688 C 6.113281 -6.910156 5.753906 -7.234375 5.335938 -7.398438 C 5.03125 -7.515625 4.542969 -7.574219 3.867188 -7.578125 L 2.0625 -7.578125 Z M 2.0625 -1.015625 \"/>\n",
       "</symbol>\n",
       "<symbol overflow=\"visible\" id=\"glyph0-14\">\n",
       "<path style=\"stroke:none;\" d=\"M 3.09375 -0.945313 L 3.246094 -0.0117188 C 2.949219 0.0507813 2.683594 0.0820313 2.449219 0.0820313 C 2.066406 0.0820313 1.769531 0.0234375 1.558594 -0.0976563 C 1.347656 -0.21875 1.199219 -0.378906 1.113281 -0.578125 C 1.027344 -0.773438 0.984375 -1.1875 0.984375 -1.820313 L 0.984375 -5.402344 L 0.210938 -5.402344 L 0.210938 -6.222656 L 0.984375 -6.222656 L 0.984375 -7.765625 L 2.03125 -8.398438 L 2.03125 -6.222656 L 3.09375 -6.222656 L 3.09375 -5.402344 L 2.03125 -5.402344 L 2.03125 -1.765625 C 2.027344 -1.460938 2.046875 -1.269531 2.085938 -1.183594 C 2.125 -1.097656 2.183594 -1.027344 2.269531 -0.976563 C 2.351563 -0.925781 2.472656 -0.902344 2.632813 -0.902344 C 2.742188 -0.902344 2.898438 -0.914063 3.09375 -0.945313 Z M 3.09375 -0.945313 \"/>\n",
       "</symbol>\n",
       "<symbol overflow=\"visible\" id=\"glyph0-15\">\n",
       "<path style=\"stroke:none;\" d=\"M 5.050781 -2.003906 L 6.140625 -1.867188 C 5.96875 -1.230469 5.648438 -0.738281 5.183594 -0.386719 C 4.71875 -0.0351563 4.125 0.140625 3.40625 0.140625 C 2.492188 0.140625 1.769531 -0.136719 1.238281 -0.699219 C 0.699219 -1.253906 0.433594 -2.042969 0.4375 -3.058594 C 0.433594 -4.105469 0.703125 -4.917969 1.246094 -5.496094 C 1.78125 -6.074219 2.480469 -6.363281 3.34375 -6.363281 C 4.175781 -6.363281 4.855469 -6.078125 5.382813 -5.511719 C 5.910156 -4.945313 6.175781 -4.148438 6.175781 -3.125 C 6.175781 -3.058594 6.171875 -2.964844 6.171875 -2.84375 L 1.53125 -2.84375 C 1.5625 -2.15625 1.757813 -1.632813 2.109375 -1.269531 C 2.457031 -0.90625 2.890625 -0.726563 3.410156 -0.726563 C 3.796875 -0.726563 4.125 -0.828125 4.402344 -1.03125 C 4.671875 -1.234375 4.890625 -1.558594 5.050781 -2.003906 Z M 1.585938 -3.710938 L 5.0625 -3.710938 C 5.015625 -4.226563 4.882813 -4.621094 4.664063 -4.886719 C 4.328125 -5.292969 3.890625 -5.496094 3.359375 -5.496094 C 2.871094 -5.496094 2.464844 -5.332031 2.136719 -5.007813 C 1.804688 -4.683594 1.621094 -4.25 1.585938 -3.710938 Z M 1.585938 -3.710938 \"/>\n",
       "</symbol>\n",
       "<symbol overflow=\"visible\" id=\"glyph0-16\">\n",
       "<path style=\"stroke:none;\" d=\"M 0.8125 2.382813 L 0.8125 -8.589844 L 3.140625 -8.589844 L 3.140625 -7.71875 L 1.867188 -7.71875 L 1.867188 1.511719 L 3.140625 1.511719 L 3.140625 2.382813 Z M 0.8125 2.382813 \"/>\n",
       "</symbol>\n",
       "<symbol overflow=\"visible\" id=\"glyph0-17\">\n",
       "<path style=\"stroke:none;\" d=\"M 0.503906 -2.265625 L 1.558594 -2.40625 C 1.679688 -1.808594 1.882813 -1.378906 2.175781 -1.113281 C 2.464844 -0.847656 2.820313 -0.714844 3.242188 -0.71875 C 3.734375 -0.714844 4.152344 -0.886719 4.496094 -1.234375 C 4.832031 -1.574219 5.003906 -2 5.007813 -2.515625 C 5.003906 -2.996094 4.847656 -3.394531 4.535156 -3.710938 C 4.21875 -4.023438 3.816406 -4.183594 3.328125 -4.183594 C 3.128906 -4.183594 2.878906 -4.144531 2.585938 -4.066406 L 2.703125 -4.992188 C 2.765625 -4.984375 2.824219 -4.980469 2.871094 -4.980469 C 3.320313 -4.980469 3.722656 -5.097656 4.085938 -5.332031 C 4.441406 -5.566406 4.621094 -5.925781 4.625 -6.414063 C 4.621094 -6.800781 4.492188 -7.121094 4.230469 -7.375 C 3.964844 -7.628906 3.625 -7.757813 3.21875 -7.757813 C 2.804688 -7.757813 2.464844 -7.628906 2.191406 -7.371094 C 1.917969 -7.113281 1.742188 -6.726563 1.664063 -6.210938 L 0.609375 -6.398438 C 0.738281 -7.105469 1.03125 -7.652344 1.488281 -8.042969 C 1.941406 -8.429688 2.507813 -8.625 3.195313 -8.625 C 3.660156 -8.625 4.09375 -8.523438 4.488281 -8.324219 C 4.878906 -8.121094 5.179688 -7.847656 5.390625 -7.5 C 5.601563 -7.148438 5.707031 -6.777344 5.707031 -6.390625 C 5.707031 -6.019531 5.605469 -5.683594 5.40625 -5.378906 C 5.207031 -5.074219 4.914063 -4.832031 4.523438 -4.652344 C 5.03125 -4.535156 5.425781 -4.289063 5.707031 -3.921875 C 5.988281 -3.546875 6.128906 -3.085938 6.128906 -2.539063 C 6.128906 -1.785156 5.855469 -1.148438 5.308594 -0.628906 C 4.761719 -0.105469 4.070313 0.152344 3.234375 0.152344 C 2.476563 0.152344 1.847656 -0.0703125 1.355469 -0.519531 C 0.855469 -0.96875 0.574219 -1.550781 0.503906 -2.265625 Z M 0.503906 -2.265625 \"/>\n",
       "</symbol>\n",
       "<symbol overflow=\"visible\" id=\"glyph0-18\">\n",
       "<path style=\"stroke:none;\" d=\"M 1.085938 -5.023438 L 1.085938 -6.222656 L 2.285156 -6.222656 L 2.285156 -5.023438 Z M 1.085938 0 L 1.085938 -1.203125 L 2.285156 -1.203125 L 2.285156 0 Z M 1.085938 0 \"/>\n",
       "</symbol>\n",
       "<symbol overflow=\"visible\" id=\"glyph0-19\">\n",
       "<path style=\"stroke:none;\" d=\"M 2.554688 2.382813 L 0.226563 2.382813 L 0.226563 1.511719 L 1.5 1.511719 L 1.5 -7.71875 L 0.226563 -7.71875 L 0.226563 -8.589844 L 2.554688 -8.589844 Z M 2.554688 2.382813 \"/>\n",
       "</symbol>\n",
       "<symbol overflow=\"visible\" id=\"glyph1-0\">\n",
       "<path style=\"stroke:none;\" d=\"M -4.234375 -0.5 C -5.246094 -0.496094 -6.0625 -0.601563 -6.6875 -0.8125 C -7.304688 -1.019531 -7.785156 -1.328125 -8.121094 -1.742188 C -8.457031 -2.152344 -8.625 -2.671875 -8.625 -3.300781 C -8.625 -3.757813 -8.53125 -4.164063 -8.347656 -4.511719 C -8.160156 -4.859375 -7.890625 -5.144531 -7.542969 -5.371094 C -7.191406 -5.59375 -6.765625 -5.773438 -6.265625 -5.90625 C -5.761719 -6.035156 -5.085938 -6.097656 -4.234375 -6.101563 C -3.222656 -6.097656 -2.410156 -5.996094 -1.792969 -5.789063 C -1.175781 -5.578125 -0.695313 -5.265625 -0.359375 -4.859375 C -0.0195313 -4.445313 0.144531 -3.925781 0.148438 -3.296875 C 0.144531 -2.464844 -0.148438 -1.816406 -0.742188 -1.347656 C -1.457031 -0.78125 -2.621094 -0.496094 -4.234375 -0.5 Z M -4.234375 -1.582031 C -2.824219 -1.582031 -1.886719 -1.746094 -1.417969 -2.074219 C -0.949219 -2.402344 -0.714844 -2.808594 -0.71875 -3.296875 C -0.714844 -3.777344 -0.949219 -4.183594 -1.421875 -4.519531 C -1.886719 -4.847656 -2.824219 -5.015625 -4.234375 -5.015625 C -5.648438 -5.015625 -6.589844 -4.847656 -7.054688 -4.519531 C -7.515625 -4.1875 -7.746094 -3.777344 -7.75 -3.289063 C -7.746094 -2.800781 -7.542969 -2.414063 -7.136719 -2.128906 C -6.613281 -1.761719 -5.644531 -1.582031 -4.234375 -1.582031 Z M -4.234375 -1.582031 \"/>\n",
       "</symbol>\n",
       "<symbol overflow=\"visible\" id=\"glyph1-1\">\n",
       "<path style=\"stroke:none;\" d=\"M -2.25 -0.5 L -2.34375 -1.605469 C -1.804688 -1.683594 -1.398438 -1.871094 -1.125 -2.175781 C -0.851563 -2.472656 -0.714844 -2.835938 -0.71875 -3.257813 C -0.714844 -3.765625 -0.90625 -4.195313 -1.292969 -4.546875 C -1.671875 -4.898438 -2.179688 -5.074219 -2.816406 -5.074219 C -3.414063 -5.074219 -3.890625 -4.902344 -4.242188 -4.566406 C -4.589844 -4.226563 -4.761719 -3.785156 -4.765625 -3.242188 C -4.761719 -2.898438 -4.683594 -2.59375 -4.53125 -2.320313 C -4.375 -2.046875 -4.175781 -1.832031 -3.929688 -1.675781 L -4.0625 -0.6875 L -8.472656 -1.519531 L -8.472656 -5.789063 L -7.464844 -5.789063 L -7.464844 -2.363281 L -5.15625 -1.898438 C -5.515625 -2.414063 -5.695313 -2.953125 -5.695313 -3.523438 C -5.695313 -4.269531 -5.433594 -4.902344 -4.914063 -5.421875 C -4.394531 -5.933594 -3.726563 -6.191406 -2.910156 -6.195313 C -2.132813 -6.191406 -1.460938 -5.964844 -0.894531 -5.515625 C -0.199219 -4.960938 0.144531 -4.210938 0.148438 -3.257813 C 0.144531 -2.476563 -0.0703125 -1.835938 -0.507813 -1.34375 C -0.941406 -0.847656 -1.523438 -0.566406 -2.25 -0.5 Z M -2.25 -0.5 \"/>\n",
       "</symbol>\n",
       "<symbol overflow=\"visible\" id=\"glyph1-2\">\n",
       "<path style=\"stroke:none;\" d=\"M 0 -4.46875 L 0 -3.414063 L -6.71875 -3.417969 C -6.476563 -3.160156 -6.234375 -2.828125 -5.996094 -2.417969 C -5.75 -2.003906 -5.570313 -1.632813 -5.449219 -1.308594 L -6.46875 -1.308594 C -6.742188 -1.894531 -7.078125 -2.410156 -7.476563 -2.851563 C -7.871094 -3.292969 -8.253906 -3.605469 -8.625 -3.792969 L -8.625 -4.472656 Z M 0 -4.46875 \"/>\n",
       "</symbol>\n",
       "<symbol overflow=\"visible\" id=\"glyph1-3\">\n",
       "<path style=\"stroke:none;\" d=\"M -1.011719 -6.039063 L 0 -6.039063 L 0 -0.363281 C -0.253906 -0.355469 -0.496094 -0.394531 -0.734375 -0.488281 C -1.117188 -0.628906 -1.5 -0.859375 -1.875 -1.179688 C -2.25 -1.496094 -2.683594 -1.957031 -3.175781 -2.5625 C -3.941406 -3.492188 -4.546875 -4.125 -4.992188 -4.453125 C -5.4375 -4.78125 -5.859375 -4.945313 -6.265625 -4.945313 C -6.679688 -4.945313 -7.03125 -4.792969 -7.320313 -4.496094 C -7.601563 -4.195313 -7.746094 -3.808594 -7.75 -3.328125 C -7.746094 -2.820313 -7.59375 -2.414063 -7.292969 -2.109375 C -6.984375 -1.804688 -6.5625 -1.648438 -6.03125 -1.648438 L -6.140625 -0.5625 C -6.945313 -0.636719 -7.558594 -0.914063 -7.988281 -1.402344 C -8.410156 -1.882813 -8.625 -2.535156 -8.625 -3.351563 C -8.625 -4.175781 -8.394531 -4.828125 -7.9375 -5.308594 C -7.480469 -5.789063 -6.914063 -6.027344 -6.242188 -6.03125 C -5.894531 -6.027344 -5.558594 -5.957031 -5.226563 -5.820313 C -4.890625 -5.675781 -4.539063 -5.441406 -4.175781 -5.117188 C -3.804688 -4.789063 -3.300781 -4.25 -2.664063 -3.492188 C -2.128906 -2.859375 -1.769531 -2.453125 -1.582031 -2.273438 C -1.394531 -2.09375 -1.203125 -1.945313 -1.011719 -1.828125 Z M -1.011719 -6.039063 \"/>\n",
       "</symbol>\n",
       "<symbol overflow=\"visible\" id=\"glyph1-4\">\n",
       "<path style=\"stroke:none;\" d=\"M -3.011719 -7.054688 L -2.722656 -8.191406 C -1.789063 -7.953125 -1.078125 -7.523438 -0.585938 -6.90625 C -0.0976563 -6.285156 0.144531 -5.527344 0.148438 -4.632813 C 0.144531 -3.707031 -0.0390625 -2.953125 -0.417969 -2.375 C -0.792969 -1.792969 -1.339844 -1.351563 -2.054688 -1.050781 C -2.769531 -0.746094 -3.539063 -0.597656 -4.359375 -0.597656 C -5.253906 -0.597656 -6.03125 -0.765625 -6.699219 -1.109375 C -7.363281 -1.449219 -7.871094 -1.9375 -8.214844 -2.570313 C -8.558594 -3.199219 -8.730469 -3.894531 -8.734375 -4.652344 C -8.730469 -5.511719 -8.511719 -6.234375 -8.078125 -6.820313 C -7.636719 -7.40625 -7.023438 -7.8125 -6.234375 -8.046875 L -5.96875 -6.925781 C -6.589844 -6.722656 -7.046875 -6.433594 -7.335938 -6.058594 C -7.621094 -5.679688 -7.761719 -5.203125 -7.765625 -4.628906 C -7.761719 -3.96875 -7.605469 -3.414063 -7.289063 -2.972656 C -6.96875 -2.527344 -6.542969 -2.21875 -6.011719 -2.039063 C -5.480469 -1.859375 -4.929688 -1.769531 -4.367188 -1.769531 C -3.632813 -1.769531 -2.996094 -1.875 -2.449219 -2.085938 C -1.902344 -2.296875 -1.492188 -2.628906 -1.226563 -3.082031 C -0.953125 -3.53125 -0.820313 -4.015625 -0.824219 -4.539063 C -0.820313 -5.175781 -1.003906 -5.714844 -1.375 -6.15625 C -1.738281 -6.597656 -2.285156 -6.898438 -3.011719 -7.054688 Z M -3.011719 -7.054688 \"/>\n",
       "</symbol>\n",
       "<symbol overflow=\"visible\" id=\"glyph1-5\">\n",
       "<path style=\"stroke:none;\" d=\"M -3.109375 -0.398438 C -4.261719 -0.398438 -5.117188 -0.71875 -5.671875 -1.359375 C -6.132813 -1.894531 -6.363281 -2.546875 -6.363281 -3.316406 C -6.363281 -4.171875 -6.082031 -4.871094 -5.519531 -5.414063 C -4.957031 -5.953125 -4.183594 -6.222656 -3.199219 -6.226563 C -2.394531 -6.222656 -1.761719 -6.101563 -1.308594 -5.867188 C -0.847656 -5.625 -0.492188 -5.277344 -0.238281 -4.820313 C 0.015625 -4.359375 0.140625 -3.859375 0.140625 -3.316406 C 0.140625 -2.441406 -0.136719 -1.734375 -0.695313 -1.203125 C -1.253906 -0.664063 -2.058594 -0.398438 -3.109375 -0.398438 Z M -3.109375 -1.484375 C -2.308594 -1.480469 -1.710938 -1.65625 -1.320313 -2.003906 C -0.921875 -2.347656 -0.726563 -2.785156 -0.726563 -3.316406 C -0.726563 -3.839844 -0.925781 -4.273438 -1.324219 -4.621094 C -1.722656 -4.96875 -2.328125 -5.144531 -3.144531 -5.144531 C -3.914063 -5.144531 -4.496094 -4.96875 -4.894531 -4.617188 C -5.289063 -4.265625 -5.488281 -3.832031 -5.492188 -3.316406 C -5.488281 -2.789063 -5.292969 -2.351563 -4.898438 -2.003906 C -4.5 -1.65625 -3.902344 -1.480469 -3.109375 -1.484375 Z M -3.109375 -1.484375 \"/>\n",
       "</symbol>\n",
       "<symbol overflow=\"visible\" id=\"glyph1-6\">\n",
       "<path style=\"stroke:none;\" d=\"M -2.277344 -4.851563 L -2.144531 -5.890625 C -1.425781 -5.773438 -0.863281 -5.484375 -0.464844 -5.019531 C -0.0585938 -4.550781 0.140625 -3.976563 0.140625 -3.296875 C 0.140625 -2.445313 -0.136719 -1.761719 -0.695313 -1.246094 C -1.25 -0.726563 -2.046875 -0.46875 -3.085938 -0.46875 C -3.753906 -0.46875 -4.34375 -0.578125 -4.851563 -0.800781 C -5.355469 -1.023438 -5.730469 -1.363281 -5.984375 -1.820313 C -6.234375 -2.273438 -6.363281 -2.769531 -6.363281 -3.304688 C -6.363281 -3.980469 -6.191406 -4.53125 -5.847656 -4.964844 C -5.503906 -5.390625 -5.019531 -5.667969 -4.394531 -5.789063 L -4.234375 -4.765625 C -4.652344 -4.664063 -4.96875 -4.492188 -5.179688 -4.246094 C -5.390625 -3.996094 -5.496094 -3.695313 -5.496094 -3.347656 C -5.496094 -2.8125 -5.304688 -2.382813 -4.921875 -2.050781 C -4.539063 -1.71875 -3.9375 -1.550781 -3.117188 -1.554688 C -2.28125 -1.550781 -1.671875 -1.710938 -1.292969 -2.035156 C -0.914063 -2.351563 -0.726563 -2.769531 -0.726563 -3.289063 C -0.726563 -3.695313 -0.851563 -4.042969 -1.105469 -4.324219 C -1.359375 -4.601563 -1.75 -4.777344 -2.277344 -4.851563 Z M -2.277344 -4.851563 \"/>\n",
       "</symbol>\n",
       "<symbol overflow=\"visible\" id=\"glyph1-7\">\n",
       "<path style=\"stroke:none;\" d=\"M -0.765625 -4.851563 C -0.433594 -4.460938 -0.199219 -4.082031 -0.0625 -3.722656 C 0.0742188 -3.355469 0.140625 -2.96875 0.140625 -2.5625 C 0.140625 -1.875 -0.0234375 -1.351563 -0.359375 -0.984375 C -0.6875 -0.617188 -1.117188 -0.433594 -1.640625 -0.433594 C -1.945313 -0.433594 -2.222656 -0.5 -2.472656 -0.640625 C -2.722656 -0.777344 -2.925781 -0.960938 -3.082031 -1.1875 C -3.234375 -1.410156 -3.347656 -1.664063 -3.429688 -1.945313 C -3.476563 -2.152344 -3.53125 -2.464844 -3.585938 -2.882813 C -3.6875 -3.734375 -3.808594 -4.359375 -3.949219 -4.765625 C -4.089844 -4.765625 -4.179688 -4.769531 -4.226563 -4.769531 C -4.648438 -4.769531 -4.953125 -4.667969 -5.132813 -4.46875 C -5.371094 -4.199219 -5.488281 -3.800781 -5.492188 -3.269531 C -5.488281 -2.773438 -5.402344 -2.40625 -5.230469 -2.171875 C -5.054688 -1.933594 -4.746094 -1.757813 -4.304688 -1.648438 L -4.445313 -0.617188 C -4.886719 -0.707031 -5.242188 -0.863281 -5.515625 -1.078125 C -5.78125 -1.292969 -5.992188 -1.601563 -6.140625 -2.011719 C -6.289063 -2.414063 -6.363281 -2.886719 -6.363281 -3.421875 C -6.363281 -3.953125 -6.300781 -4.382813 -6.175781 -4.714844 C -6.050781 -5.046875 -5.890625 -5.292969 -5.703125 -5.449219 C -5.511719 -5.605469 -5.273438 -5.714844 -4.984375 -5.777344 C -4.804688 -5.808594 -4.480469 -5.824219 -4.015625 -5.828125 L -2.605469 -5.828125 C -1.625 -5.824219 -1.003906 -5.847656 -0.746094 -5.894531 C -0.480469 -5.941406 -0.234375 -6.03125 0 -6.164063 L 0 -5.0625 C -0.21875 -4.953125 -0.472656 -4.882813 -0.765625 -4.851563 Z M -3.121094 -4.765625 C -2.960938 -4.375 -2.828125 -3.800781 -2.726563 -3.039063 C -2.660156 -2.605469 -2.589844 -2.300781 -2.515625 -2.121094 C -2.433594 -1.941406 -2.320313 -1.800781 -2.171875 -1.703125 C -2.019531 -1.605469 -1.851563 -1.558594 -1.671875 -1.558594 C -1.386719 -1.558594 -1.152344 -1.664063 -0.964844 -1.875 C -0.773438 -2.085938 -0.679688 -2.398438 -0.683594 -2.8125 C -0.679688 -3.21875 -0.769531 -3.578125 -0.949219 -3.894531 C -1.128906 -4.210938 -1.371094 -4.445313 -1.679688 -4.59375 C -1.917969 -4.707031 -2.269531 -4.761719 -2.734375 -4.765625 Z M -3.121094 -4.765625 \"/>\n",
       "</symbol>\n",
       "<symbol overflow=\"visible\" id=\"glyph1-8\">\n",
       "<path style=\"stroke:none;\" d=\"M 0 -0.765625 L -8.589844 -0.769531 L -8.589844 -1.824219 L 0 -1.820313 Z M 0 -0.765625 \"/>\n",
       "</symbol>\n",
       "<symbol overflow=\"visible\" id=\"glyph1-9\">\n",
       "<path style=\"stroke:none;\" d=\"M 1.238281 -2.988281 L 0.183594 -2.988281 C 0.113281 -2.457031 0 -2.027344 -0.171875 -1.699219 C -0.335938 -1.371094 -0.609375 -1.085938 -0.992188 -0.847656 C -1.367188 -0.605469 -1.832031 -0.464844 -2.382813 -0.429688 L -2.585938 -1.488281 C -2.015625 -1.566406 -1.601563 -1.710938 -1.335938 -1.921875 C -0.960938 -2.21875 -0.75 -2.574219 -0.707031 -2.988281 L -4.066406 -2.988281 C -4.144531 -2.554688 -4.3125 -2.109375 -4.570313 -1.660156 C -4.757813 -1.320313 -5.015625 -1.0625 -5.347656 -0.882813 C -5.679688 -0.699219 -6.058594 -0.609375 -6.480469 -0.609375 C -7.230469 -0.609375 -7.835938 -0.875 -8.304688 -1.40625 C -8.613281 -1.761719 -8.804688 -2.289063 -8.875 -2.988281 L -9.382813 -2.988281 L -9.382813 -3.609375 L -8.875 -3.609375 C -8.816406 -4.222656 -8.636719 -4.707031 -8.335938 -5.070313 C -7.953125 -5.527344 -7.429688 -5.804688 -6.761719 -5.898438 L -6.597656 -4.8125 C -7.011719 -4.746094 -7.328125 -4.617188 -7.550781 -4.421875 C -7.769531 -4.222656 -7.914063 -3.953125 -7.984375 -3.609375 L -4.945313 -3.609375 C -4.8125 -4.140625 -4.707031 -4.492188 -4.632813 -4.664063 C -4.488281 -4.992188 -4.3125 -5.257813 -4.105469 -5.464844 C -3.898438 -5.671875 -3.652344 -5.832031 -3.367188 -5.941406 C -3.082031 -6.050781 -2.773438 -6.105469 -2.441406 -6.109375 C -1.710938 -6.105469 -1.101563 -5.875 -0.613281 -5.414063 C -0.125 -4.949219 0.132813 -4.347656 0.171875 -3.609375 L 1.238281 -3.609375 Z M -8 -2.988281 C -7.933594 -2.578125 -7.769531 -2.253906 -7.507813 -2.019531 C -7.238281 -1.78125 -6.925781 -1.664063 -6.5625 -1.664063 C -6.203125 -1.664063 -5.902344 -1.761719 -5.660156 -1.964844 C -5.417969 -2.164063 -5.222656 -2.507813 -5.078125 -2.988281 Z M -0.707031 -3.609375 C -0.757813 -4.019531 -0.9375 -4.355469 -1.242188 -4.625 C -1.546875 -4.890625 -1.921875 -5.027344 -2.371094 -5.027344 C -2.75 -5.027344 -3.058594 -4.929688 -3.292969 -4.742188 C -3.527344 -4.550781 -3.734375 -4.175781 -3.921875 -3.609375 Z M -0.707031 -3.609375 \"/>\n",
       "</symbol>\n",
       "<symbol overflow=\"visible\" id=\"glyph1-10\">\n",
       "<path style=\"stroke:none;\" d=\"M -2.757813 -0.539063 L -2.851563 -1.613281 C -2.421875 -1.660156 -2.070313 -1.777344 -1.796875 -1.964844 C -1.519531 -2.144531 -1.296875 -2.433594 -1.125 -2.828125 C -0.953125 -3.214844 -0.867188 -3.65625 -0.871094 -4.148438 C -0.867188 -4.578125 -0.929688 -4.960938 -1.0625 -5.296875 C -1.1875 -5.628906 -1.367188 -5.875 -1.59375 -6.039063 C -1.820313 -6.199219 -2.066406 -6.28125 -2.332031 -6.28125 C -2.597656 -6.28125 -2.832031 -6.203125 -3.035156 -6.046875 C -3.238281 -5.890625 -3.40625 -5.632813 -3.542969 -5.273438 C -3.632813 -5.042969 -3.773438 -4.53125 -3.964844 -3.746094 C -4.152344 -2.953125 -4.332031 -2.402344 -4.5 -2.085938 C -4.710938 -1.675781 -4.976563 -1.367188 -5.296875 -1.167969 C -5.617188 -0.964844 -5.972656 -0.867188 -6.367188 -0.867188 C -6.800781 -0.867188 -7.207031 -0.988281 -7.582031 -1.234375 C -7.957031 -1.480469 -8.242188 -1.839844 -8.441406 -2.3125 C -8.632813 -2.785156 -8.730469 -3.3125 -8.734375 -3.890625 C -8.730469 -4.527344 -8.628906 -5.085938 -8.425781 -5.574219 C -8.222656 -6.058594 -7.921875 -6.433594 -7.523438 -6.695313 C -7.125 -6.957031 -6.671875 -7.097656 -6.171875 -7.117188 L -6.085938 -6.03125 C -6.628906 -5.96875 -7.039063 -5.769531 -7.316406 -5.433594 C -7.59375 -5.09375 -7.734375 -4.597656 -7.734375 -3.9375 C -7.734375 -3.25 -7.605469 -2.746094 -7.355469 -2.433594 C -7.097656 -2.117188 -6.796875 -1.960938 -6.445313 -1.964844 C -6.136719 -1.960938 -5.882813 -2.074219 -5.683594 -2.296875 C -5.480469 -2.515625 -5.273438 -3.085938 -5.070313 -4.011719 C -4.859375 -4.933594 -4.679688 -5.566406 -4.523438 -5.914063 C -4.292969 -6.410156 -4 -6.78125 -3.648438 -7.019531 C -3.292969 -7.253906 -2.886719 -7.371094 -2.425781 -7.375 C -1.964844 -7.371094 -1.53125 -7.242188 -1.132813 -6.984375 C -0.726563 -6.722656 -0.414063 -6.34375 -0.1875 -5.855469 C 0.0351563 -5.363281 0.144531 -4.8125 0.148438 -4.203125 C 0.144531 -3.421875 0.0351563 -2.769531 -0.191406 -2.246094 C -0.414063 -1.71875 -0.753906 -1.308594 -1.214844 -1.011719 C -1.667969 -0.710938 -2.183594 -0.554688 -2.757813 -0.539063 Z M -2.757813 -0.539063 \"/>\n",
       "</symbol>\n",
       "<symbol overflow=\"visible\" id=\"glyph1-11\">\n",
       "<path style=\"stroke:none;\" d=\"M -0.941406 -3.09375 L -0.0117188 -3.246094 C 0.0507813 -2.949219 0.0820313 -2.683594 0.0820313 -2.449219 C 0.0820313 -2.066406 0.0234375 -1.769531 -0.0976563 -1.558594 C -0.21875 -1.347656 -0.378906 -1.199219 -0.574219 -1.113281 C -0.769531 -1.027344 -1.183594 -0.984375 -1.820313 -0.984375 L -5.402344 -0.984375 L -5.402344 -0.210938 L -6.222656 -0.210938 L -6.222656 -0.984375 L -7.765625 -0.984375 L -8.398438 -2.035156 L -6.222656 -2.035156 L -6.222656 -3.09375 L -5.402344 -3.09375 L -5.402344 -2.035156 L -1.761719 -2.03125 C -1.460938 -2.027344 -1.269531 -2.046875 -1.183594 -2.085938 C -1.097656 -2.125 -1.027344 -2.183594 -0.976563 -2.269531 C -0.925781 -2.351563 -0.902344 -2.472656 -0.902344 -2.632813 C -0.902344 -2.742188 -0.914063 -2.898438 -0.941406 -3.09375 Z M -0.941406 -3.09375 \"/>\n",
       "</symbol>\n",
       "<symbol overflow=\"visible\" id=\"glyph1-12\">\n",
       "<path style=\"stroke:none;\" d=\"M 0 -0.796875 L -8.589844 -0.796875 L -8.589844 -1.851563 L -3.691406 -1.851563 L -6.222656 -4.347656 L -6.222656 -5.710938 L -3.914063 -3.335938 L 0 -5.953125 L 0 -4.652344 L -3.179688 -2.59375 L -2.46875 -1.851563 L 0 -1.851563 Z M 0 -0.796875 \"/>\n",
       "</symbol>\n",
       "<symbol overflow=\"visible\" id=\"glyph1-13\">\n",
       "<path style=\"stroke:none;\" d=\"M 0 -0.925781 L -8.589844 -0.925781 L -8.589844 -4.167969 C -8.589844 -4.734375 -8.5625 -5.171875 -8.507813 -5.472656 C -8.4375 -5.894531 -8.300781 -6.246094 -8.105469 -6.53125 C -7.90625 -6.816406 -7.632813 -7.046875 -7.277344 -7.222656 C -6.917969 -7.394531 -6.527344 -7.480469 -6.105469 -7.484375 C -5.371094 -7.480469 -4.75 -7.25 -4.25 -6.785156 C -3.742188 -6.316406 -3.492188 -5.476563 -3.492188 -4.265625 L -3.492188 -2.0625 L 0 -2.0625 Z M -4.507813 -2.0625 L -4.507813 -4.28125 C -4.503906 -5.011719 -4.640625 -5.535156 -4.917969 -5.847656 C -5.1875 -6.15625 -5.574219 -6.308594 -6.070313 -6.3125 C -6.429688 -6.308594 -6.734375 -6.21875 -6.992188 -6.039063 C -7.242188 -5.855469 -7.414063 -5.617188 -7.5 -5.320313 C -7.550781 -5.128906 -7.574219 -4.773438 -7.578125 -4.261719 L -7.578125 -2.0625 Z M -4.507813 -2.0625 \"/>\n",
       "</symbol>\n",
       "<symbol overflow=\"visible\" id=\"glyph1-14\">\n",
       "<path style=\"stroke:none;\" d=\"M 0 -0.78125 L -6.222656 -0.78125 L -6.222656 -1.730469 L -5.28125 -1.730469 C -5.71875 -1.96875 -6.011719 -2.191406 -6.152344 -2.398438 C -6.292969 -2.601563 -6.363281 -2.828125 -6.363281 -3.078125 C -6.363281 -3.429688 -6.25 -3.792969 -6.023438 -4.160156 L -5.046875 -3.796875 C -5.195313 -3.539063 -5.273438 -3.28125 -5.273438 -3.023438 C -5.273438 -2.792969 -5.203125 -2.585938 -5.066406 -2.402344 C -4.925781 -2.21875 -4.734375 -2.085938 -4.488281 -2.011719 C -4.113281 -1.890625 -3.703125 -1.832031 -3.257813 -1.835938 L 0 -1.835938 Z M 0 -0.78125 \"/>\n",
       "</symbol>\n",
       "<symbol overflow=\"visible\" id=\"glyph1-15\">\n",
       "<path style=\"stroke:none;\" d=\"M -7.375 -0.796875 L -8.589844 -0.796875 L -8.589844 -1.851563 L -7.375 -1.851563 Z M 0 -0.796875 L -6.222656 -0.796875 L -6.222656 -1.851563 L 0 -1.851563 Z M 0 -0.796875 \"/>\n",
       "</symbol>\n",
       "<symbol overflow=\"visible\" id=\"glyph1-16\">\n",
       "<path style=\"stroke:none;\" d=\"M -2.003906 -5.050781 L -1.867188 -6.140625 C -1.230469 -5.96875 -0.738281 -5.648438 -0.386719 -5.183594 C -0.0351563 -4.71875 0.140625 -4.125 0.140625 -3.40625 C 0.140625 -2.492188 -0.136719 -1.769531 -0.699219 -1.238281 C -1.253906 -0.703125 -2.042969 -0.4375 -3.058594 -0.441406 C -4.105469 -0.4375 -4.917969 -0.707031 -5.496094 -1.25 C -6.074219 -1.785156 -6.363281 -2.484375 -6.363281 -3.347656 C -6.363281 -4.175781 -6.078125 -4.855469 -5.511719 -5.382813 C -4.945313 -5.910156 -4.148438 -6.175781 -3.121094 -6.175781 C -3.054688 -6.175781 -2.960938 -6.171875 -2.839844 -6.171875 L -2.84375 -1.53125 C -2.15625 -1.566406 -1.632813 -1.761719 -1.269531 -2.109375 C -0.90625 -2.457031 -0.726563 -2.890625 -0.726563 -3.410156 C -0.726563 -3.796875 -0.828125 -4.125 -1.03125 -4.402344 C -1.234375 -4.671875 -1.558594 -4.890625 -2.003906 -5.050781 Z M -3.710938 -1.589844 L -3.707031 -5.0625 C -4.226563 -5.015625 -4.621094 -4.882813 -4.886719 -4.664063 C -5.292969 -4.328125 -5.496094 -3.890625 -5.496094 -3.359375 C -5.496094 -2.871094 -5.332031 -2.464844 -5.007813 -2.136719 C -4.683594 -1.804688 -4.25 -1.621094 -3.710938 -1.589844 Z M -3.710938 -1.589844 \"/>\n",
       "</symbol>\n",
       "<symbol overflow=\"visible\" id=\"glyph1-17\">\n",
       "<path style=\"stroke:none;\" d=\"M 2.382813 -0.8125 L -8.589844 -0.816406 L -8.589844 -3.140625 L -7.71875 -3.140625 L -7.71875 -1.871094 L 1.511719 -1.867188 L 1.511719 -3.140625 L 2.382813 -3.140625 Z M 2.382813 -0.8125 \"/>\n",
       "</symbol>\n",
       "<symbol overflow=\"visible\" id=\"glyph1-18\">\n",
       "<path style=\"stroke:none;\" d=\"M -2.265625 -0.503906 L -2.40625 -1.558594 C -1.808594 -1.679688 -1.378906 -1.882813 -1.113281 -2.175781 C -0.847656 -2.464844 -0.714844 -2.820313 -0.71875 -3.242188 C -0.714844 -3.734375 -0.886719 -4.152344 -1.234375 -4.496094 C -1.574219 -4.832031 -2 -5.003906 -2.511719 -5.007813 C -2.992188 -5.003906 -3.390625 -4.847656 -3.710938 -4.535156 C -4.023438 -4.21875 -4.183594 -3.816406 -4.183594 -3.328125 C -4.183594 -3.128906 -4.144531 -2.878906 -4.066406 -2.585938 L -4.992188 -2.703125 C -4.984375 -2.769531 -4.980469 -2.828125 -4.980469 -2.871094 C -4.980469 -3.320313 -5.097656 -3.722656 -5.332031 -4.085938 C -5.566406 -4.441406 -5.925781 -4.621094 -6.414063 -4.625 C -6.800781 -4.621094 -7.121094 -4.492188 -7.375 -4.230469 C -7.628906 -3.96875 -7.757813 -3.628906 -7.757813 -3.21875 C -7.757813 -2.804688 -7.628906 -2.464844 -7.371094 -2.191406 C -7.113281 -1.917969 -6.726563 -1.742188 -6.210938 -1.664063 L -6.398438 -0.609375 C -7.105469 -0.738281 -7.652344 -1.03125 -8.042969 -1.488281 C -8.429688 -1.945313 -8.625 -2.511719 -8.625 -3.195313 C -8.625 -3.660156 -8.523438 -4.09375 -8.324219 -4.488281 C -8.121094 -4.882813 -7.847656 -5.183594 -7.5 -5.394531 C -7.148438 -5.601563 -6.777344 -5.707031 -6.390625 -5.707031 C -6.019531 -5.707031 -5.683594 -5.605469 -5.378906 -5.40625 C -5.074219 -5.207031 -4.832031 -4.914063 -4.652344 -4.523438 C -4.535156 -5.03125 -4.289063 -5.425781 -3.921875 -5.707031 C -3.546875 -5.988281 -3.085938 -6.128906 -2.535156 -6.128906 C -1.78125 -6.128906 -1.144531 -5.855469 -0.628906 -5.308594 C -0.105469 -4.761719 0.152344 -4.070313 0.152344 -3.234375 C 0.152344 -2.476563 -0.0703125 -1.847656 -0.519531 -1.355469 C -0.96875 -0.855469 -1.550781 -0.574219 -2.265625 -0.503906 Z M -2.265625 -0.503906 \"/>\n",
       "</symbol>\n",
       "<symbol overflow=\"visible\" id=\"glyph1-19\">\n",
       "<path style=\"stroke:none;\" d=\"M -5.023438 -1.085938 L -6.222656 -1.085938 L -6.222656 -2.285156 L -5.023438 -2.285156 Z M 0 -1.085938 L -1.203125 -1.085938 L -1.199219 -2.285156 L 0 -2.285156 Z M 0 -1.085938 \"/>\n",
       "</symbol>\n",
       "<symbol overflow=\"visible\" id=\"glyph1-20\">\n",
       "<path style=\"stroke:none;\" d=\"M 0 -3.878906 L -2.054688 -3.878906 L -2.054688 -0.152344 L -3.023438 -0.152344 L -8.589844 -4.074219 L -8.589844 -4.933594 L -3.023438 -4.933594 L -3.023438 -6.09375 L -2.054688 -6.09375 L -2.054688 -4.933594 L 0 -4.933594 Z M -3.023438 -3.878906 L -6.898438 -3.878906 L -3.023438 -1.191406 Z M -3.023438 -3.878906 \"/>\n",
       "</symbol>\n",
       "<symbol overflow=\"visible\" id=\"glyph1-21\">\n",
       "<path style=\"stroke:none;\" d=\"M 2.382813 -2.554688 L 2.382813 -0.226563 L 1.511719 -0.226563 L 1.511719 -1.5 L -7.71875 -1.5 L -7.71875 -0.230469 L -8.589844 -0.230469 L -8.589844 -2.554688 Z M 2.382813 -2.554688 \"/>\n",
       "</symbol>\n",
       "</g>\n",
       "<clipPath id=\"clip1\">\n",
       "  <path d=\"M 59.039063 59.039063 L 474.757813 59.039063 L 474.757813 431.558594 L 59.039063 431.558594 Z M 59.039063 59.039063 \"/>\n",
       "</clipPath>\n",
       "</defs>\n",
       "<g id=\"surface56\">\n",
       "<rect x=\"0\" y=\"0\" width=\"504\" height=\"504\" style=\"fill:rgb(100%,100%,100%);fill-opacity:1;stroke:none;\"/>\n",
       "<g clip-path=\"url(#clip1)\" clip-rule=\"nonzero\">\n",
       "<path style=\"fill:none;stroke-width:0.75;stroke-linecap:round;stroke-linejoin:round;stroke:rgb(100%,0%,0%);stroke-opacity:1;stroke-miterlimit:10;\" d=\"M 74.398438 333.75 L 77.386719 329.578125 L 80.082031 323.816406 L 83.066406 321.742188 L 85.957031 319.960938 L 88.941406 314.761719 L 91.832031 310.785156 L 94.820313 310.324219 L 97.804688 307.582031 L 100.695313 300.035156 L 103.679688 296.296875 L 106.570313 291.015625 L 109.554688 295.371094 L 112.539063 286.15625 L 115.332031 281.171875 L 118.320313 283.503906 L 121.207031 320.699219 L 124.195313 339.671875 L 127.082031 339.386719 L 130.070313 334.535156 L 133.054688 332.398438 L 135.945313 335.300781 L 138.929688 332.28125 L 141.820313 334.0625 L 144.804688 325.359375 L 147.789063 318.058594 L 150.488281 318.550781 L 153.472656 321.667969 L 156.363281 308.023438 L 159.347656 302.824219 L 162.238281 302.566406 L 165.222656 314.4375 L 168.207031 319.652344 L 171.097656 318.847656 L 174.082031 319.5 L 176.972656 310.226563 L 179.960938 309.988281 L 182.945313 305.242188 L 185.640625 297.421875 L 188.628906 291.132813 L 191.515625 289.984375 L 194.503906 283.640625 L 197.390625 277.015625 L 200.378906 287.503906 L 203.363281 316.917969 L 206.253906 310.246094 L 209.238281 299.480469 L 212.128906 306.570313 L 215.113281 310.035156 L 218.097656 312.195313 L 220.796875 309.949219 L 223.78125 311.816406 L 226.671875 305.753906 L 229.65625 310.410156 L 232.546875 313.539063 L 235.53125 318.597656 L 238.515625 327.878906 L 241.40625 331.164063 L 244.390625 317.707031 L 247.28125 316.132813 L 250.265625 316.640625 L 253.253906 328.21875 L 256.046875 338.933594 L 259.03125 337.816406 L 261.921875 334.558594 L 264.90625 327.289063 L 267.796875 320.460938 L 270.78125 318.601563 L 273.769531 329.570313 L 276.65625 322.691406 L 279.644531 318.101563 L 282.53125 319.886719 L 285.519531 321.890625 L 288.503906 322.894531 L 291.199219 337.519531 L 294.1875 341.78125 L 297.074219 339.429688 L 300.0625 342.59375 L 302.949219 342.414063 L 305.9375 340.203125 L 308.921875 337.296875 L 311.8125 340.554688 L 314.796875 336.972656 L 317.6875 340.078125 L 320.671875 342.789063 L 323.65625 341.375 L 326.355469 336.640625 L 329.339844 329.316406 L 332.230469 324.667969 L 335.214844 326.957031 L 338.105469 332.976563 L 341.089844 333.367188 L 344.078125 336.238281 L 346.964844 336.546875 L 349.953125 342.066406 L 352.839844 343.238281 L 355.828125 344.875 L 358.8125 350.945313 L 361.507813 351.835938 L 364.496094 349.613281 L 367.382813 345.636719 L 370.371094 340.347656 L 373.257813 343.230469 L 376.246094 344.121094 L 379.230469 345.273438 L 382.121094 343.359375 L 385.105469 340.574219 L 387.996094 336.824219 L 390.980469 335.210938 L 393.964844 334.097656 L 396.757813 336.480469 L 399.746094 333.171875 L 402.632813 334.621094 L 405.621094 332.683594 L 408.511719 336.882813 L 411.496094 344.535156 L 414.480469 348.089844 L 417.371094 351.488281 L 420.355469 350.457031 L 423.246094 349.800781 L 426.230469 349.316406 L 429.21875 346.996094 L 431.914063 347.394531 L 434.898438 347.714844 L 437.789063 344.085938 L 440.773438 345.316406 L 443.664063 346.175781 L 446.648438 344.933594 L 449.636719 345.792969 L 452.523438 347.464844 L 455.511719 347.132813 L 458.398438 348.746094 \"/>\n",
       "</g>\n",
       "<path style=\"fill:none;stroke-width:0.75;stroke-linecap:round;stroke-linejoin:round;stroke:rgb(0%,0%,0%);stroke-opacity:1;stroke-miterlimit:10;\" d=\"M 109.554688 430.558594 L 461.386719 430.558594 \"/>\n",
       "<path style=\"fill:none;stroke-width:0.75;stroke-linecap:round;stroke-linejoin:round;stroke:rgb(0%,0%,0%);stroke-opacity:1;stroke-miterlimit:10;\" d=\"M 109.554688 430.558594 L 109.554688 437.761719 \"/>\n",
       "<path style=\"fill:none;stroke-width:0.75;stroke-linecap:round;stroke-linejoin:round;stroke:rgb(0%,0%,0%);stroke-opacity:1;stroke-miterlimit:10;\" d=\"M 179.960938 430.558594 L 179.960938 437.761719 \"/>\n",
       "<path style=\"fill:none;stroke-width:0.75;stroke-linecap:round;stroke-linejoin:round;stroke:rgb(0%,0%,0%);stroke-opacity:1;stroke-miterlimit:10;\" d=\"M 250.265625 430.558594 L 250.265625 437.761719 \"/>\n",
       "<path style=\"fill:none;stroke-width:0.75;stroke-linecap:round;stroke-linejoin:round;stroke:rgb(0%,0%,0%);stroke-opacity:1;stroke-miterlimit:10;\" d=\"M 320.671875 430.558594 L 320.671875 437.761719 \"/>\n",
       "<path style=\"fill:none;stroke-width:0.75;stroke-linecap:round;stroke-linejoin:round;stroke:rgb(0%,0%,0%);stroke-opacity:1;stroke-miterlimit:10;\" d=\"M 390.980469 430.558594 L 390.980469 437.761719 \"/>\n",
       "<path style=\"fill:none;stroke-width:0.75;stroke-linecap:round;stroke-linejoin:round;stroke:rgb(0%,0%,0%);stroke-opacity:1;stroke-miterlimit:10;\" d=\"M 461.386719 430.558594 L 461.386719 437.761719 \"/>\n",
       "<g style=\"fill:rgb(0%,0%,0%);fill-opacity:1;\">\n",
       "  <use xlink:href=\"#glyph0-0\" x=\"96.207031\" y=\"456.480469\"/>\n",
       "  <use xlink:href=\"#glyph0-1\" x=\"102.880859\" y=\"456.480469\"/>\n",
       "  <use xlink:href=\"#glyph0-1\" x=\"109.554688\" y=\"456.480469\"/>\n",
       "  <use xlink:href=\"#glyph0-2\" x=\"116.228516\" y=\"456.480469\"/>\n",
       "</g>\n",
       "<g style=\"fill:rgb(0%,0%,0%);fill-opacity:1;\">\n",
       "  <use xlink:href=\"#glyph0-0\" x=\"166.613281\" y=\"456.480469\"/>\n",
       "  <use xlink:href=\"#glyph0-1\" x=\"173.287109\" y=\"456.480469\"/>\n",
       "  <use xlink:href=\"#glyph0-1\" x=\"179.960938\" y=\"456.480469\"/>\n",
       "  <use xlink:href=\"#glyph0-3\" x=\"186.634766\" y=\"456.480469\"/>\n",
       "</g>\n",
       "<g style=\"fill:rgb(0%,0%,0%);fill-opacity:1;\">\n",
       "  <use xlink:href=\"#glyph0-4\" x=\"236.917969\" y=\"456.480469\"/>\n",
       "  <use xlink:href=\"#glyph0-5\" x=\"243.591797\" y=\"456.480469\"/>\n",
       "  <use xlink:href=\"#glyph0-5\" x=\"250.265625\" y=\"456.480469\"/>\n",
       "  <use xlink:href=\"#glyph0-5\" x=\"256.939453\" y=\"456.480469\"/>\n",
       "</g>\n",
       "<g style=\"fill:rgb(0%,0%,0%);fill-opacity:1;\">\n",
       "  <use xlink:href=\"#glyph0-4\" x=\"307.324219\" y=\"456.480469\"/>\n",
       "  <use xlink:href=\"#glyph0-5\" x=\"313.998047\" y=\"456.480469\"/>\n",
       "  <use xlink:href=\"#glyph0-5\" x=\"320.671875\" y=\"456.480469\"/>\n",
       "  <use xlink:href=\"#glyph0-4\" x=\"327.345703\" y=\"456.480469\"/>\n",
       "</g>\n",
       "<g style=\"fill:rgb(0%,0%,0%);fill-opacity:1;\">\n",
       "  <use xlink:href=\"#glyph0-4\" x=\"377.632813\" y=\"456.480469\"/>\n",
       "  <use xlink:href=\"#glyph0-5\" x=\"384.306641\" y=\"456.480469\"/>\n",
       "  <use xlink:href=\"#glyph0-5\" x=\"390.980469\" y=\"456.480469\"/>\n",
       "  <use xlink:href=\"#glyph0-6\" x=\"397.654297\" y=\"456.480469\"/>\n",
       "</g>\n",
       "<g style=\"fill:rgb(0%,0%,0%);fill-opacity:1;\">\n",
       "  <use xlink:href=\"#glyph0-4\" x=\"448.039063\" y=\"456.480469\"/>\n",
       "  <use xlink:href=\"#glyph0-5\" x=\"454.712891\" y=\"456.480469\"/>\n",
       "  <use xlink:href=\"#glyph0-5\" x=\"461.386719\" y=\"456.480469\"/>\n",
       "  <use xlink:href=\"#glyph0-2\" x=\"468.060547\" y=\"456.480469\"/>\n",
       "</g>\n",
       "<path style=\"fill:none;stroke-width:0.75;stroke-linecap:round;stroke-linejoin:round;stroke:rgb(0%,0%,0%);stroke-opacity:1;stroke-miterlimit:10;\" d=\"M 59.039063 416.800781 L 59.039063 89.179688 \"/>\n",
       "<path style=\"fill:none;stroke-width:0.75;stroke-linecap:round;stroke-linejoin:round;stroke:rgb(0%,0%,0%);stroke-opacity:1;stroke-miterlimit:10;\" d=\"M 59.039063 416.800781 L 51.839844 416.800781 \"/>\n",
       "<path style=\"fill:none;stroke-width:0.75;stroke-linecap:round;stroke-linejoin:round;stroke:rgb(0%,0%,0%);stroke-opacity:1;stroke-miterlimit:10;\" d=\"M 59.039063 334.894531 L 51.839844 334.894531 \"/>\n",
       "<path style=\"fill:none;stroke-width:0.75;stroke-linecap:round;stroke-linejoin:round;stroke:rgb(0%,0%,0%);stroke-opacity:1;stroke-miterlimit:10;\" d=\"M 59.039063 252.992188 L 51.839844 252.992188 \"/>\n",
       "<path style=\"fill:none;stroke-width:0.75;stroke-linecap:round;stroke-linejoin:round;stroke:rgb(0%,0%,0%);stroke-opacity:1;stroke-miterlimit:10;\" d=\"M 59.039063 171.085938 L 51.839844 171.085938 \"/>\n",
       "<path style=\"fill:none;stroke-width:0.75;stroke-linecap:round;stroke-linejoin:round;stroke:rgb(0%,0%,0%);stroke-opacity:1;stroke-miterlimit:10;\" d=\"M 59.039063 89.179688 L 51.839844 89.179688 \"/>\n",
       "<g style=\"fill:rgb(0%,0%,0%);fill-opacity:1;\">\n",
       "  <use xlink:href=\"#glyph1-0\" x=\"41.761719\" y=\"420.136719\"/>\n",
       "</g>\n",
       "<g style=\"fill:rgb(0%,0%,0%);fill-opacity:1;\">\n",
       "  <use xlink:href=\"#glyph1-1\" x=\"41.761719\" y=\"341.566406\"/>\n",
       "  <use xlink:href=\"#glyph1-0\" x=\"41.761719\" y=\"334.892578\"/>\n",
       "</g>\n",
       "<g style=\"fill:rgb(0%,0%,0%);fill-opacity:1;\">\n",
       "  <use xlink:href=\"#glyph1-2\" x=\"41.761719\" y=\"263.003906\"/>\n",
       "  <use xlink:href=\"#glyph1-0\" x=\"41.761719\" y=\"256.330078\"/>\n",
       "  <use xlink:href=\"#glyph1-0\" x=\"41.761719\" y=\"249.65625\"/>\n",
       "</g>\n",
       "<g style=\"fill:rgb(0%,0%,0%);fill-opacity:1;\">\n",
       "  <use xlink:href=\"#glyph1-2\" x=\"41.761719\" y=\"181.097656\"/>\n",
       "  <use xlink:href=\"#glyph1-1\" x=\"41.761719\" y=\"174.423828\"/>\n",
       "  <use xlink:href=\"#glyph1-0\" x=\"41.761719\" y=\"167.75\"/>\n",
       "</g>\n",
       "<g style=\"fill:rgb(0%,0%,0%);fill-opacity:1;\">\n",
       "  <use xlink:href=\"#glyph1-3\" x=\"41.761719\" y=\"99.191406\"/>\n",
       "  <use xlink:href=\"#glyph1-0\" x=\"41.761719\" y=\"92.517578\"/>\n",
       "  <use xlink:href=\"#glyph1-0\" x=\"41.761719\" y=\"85.84375\"/>\n",
       "</g>\n",
       "<path style=\"fill:none;stroke-width:0.75;stroke-linecap:round;stroke-linejoin:round;stroke:rgb(0%,0%,0%);stroke-opacity:1;stroke-miterlimit:10;\" d=\"M 59.039063 430.558594 L 473.761719 430.558594 L 473.761719 59.039063 L 59.039063 59.039063 L 59.039063 430.558594 \"/>\n",
       "<g style=\"fill:rgb(0%,0%,0%);fill-opacity:1;\">\n",
       "  <use xlink:href=\"#glyph0-7\" x=\"199.019531\" y=\"485.28125\"/>\n",
       "  <use xlink:href=\"#glyph0-8\" x=\"207.685547\" y=\"485.28125\"/>\n",
       "  <use xlink:href=\"#glyph0-9\" x=\"214.359375\" y=\"485.28125\"/>\n",
       "  <use xlink:href=\"#glyph0-10\" x=\"220.359375\" y=\"485.28125\"/>\n",
       "  <use xlink:href=\"#glyph0-7\" x=\"227.033203\" y=\"485.28125\"/>\n",
       "  <use xlink:href=\"#glyph0-8\" x=\"235.699219\" y=\"485.28125\"/>\n",
       "  <use xlink:href=\"#glyph0-11\" x=\"242.373047\" y=\"485.28125\"/>\n",
       "  <use xlink:href=\"#glyph0-10\" x=\"245.039063\" y=\"485.28125\"/>\n",
       "  <use xlink:href=\"#glyph0-12\" x=\"251.712891\" y=\"485.28125\"/>\n",
       "  <use xlink:href=\"#glyph0-13\" x=\"258.386719\" y=\"485.28125\"/>\n",
       "  <use xlink:href=\"#glyph0-10\" x=\"267.052734\" y=\"485.28125\"/>\n",
       "  <use xlink:href=\"#glyph0-14\" x=\"273.726563\" y=\"485.28125\"/>\n",
       "  <use xlink:href=\"#glyph0-15\" x=\"277.060547\" y=\"485.28125\"/>\n",
       "  <use xlink:href=\"#glyph0-16\" x=\"283.734375\" y=\"485.28125\"/>\n",
       "  <use xlink:href=\"#glyph0-17\" x=\"287.068359\" y=\"485.28125\"/>\n",
       "  <use xlink:href=\"#glyph0-5\" x=\"293.742188\" y=\"485.28125\"/>\n",
       "  <use xlink:href=\"#glyph0-0\" x=\"300.416016\" y=\"485.28125\"/>\n",
       "  <use xlink:href=\"#glyph0-18\" x=\"307.089844\" y=\"485.28125\"/>\n",
       "  <use xlink:href=\"#glyph0-6\" x=\"310.423828\" y=\"485.28125\"/>\n",
       "  <use xlink:href=\"#glyph0-17\" x=\"317.097656\" y=\"485.28125\"/>\n",
       "  <use xlink:href=\"#glyph0-4\" x=\"323.771484\" y=\"485.28125\"/>\n",
       "  <use xlink:href=\"#glyph0-19\" x=\"330.445313\" y=\"485.28125\"/>\n",
       "</g>\n",
       "<g style=\"fill:rgb(0%,0%,0%);fill-opacity:1;\">\n",
       "  <use xlink:href=\"#glyph1-4\" x=\"12.960938\" y=\"328.183594\"/>\n",
       "  <use xlink:href=\"#glyph1-5\" x=\"12.960938\" y=\"319.517578\"/>\n",
       "  <use xlink:href=\"#glyph1-6\" x=\"12.960938\" y=\"312.84375\"/>\n",
       "  <use xlink:href=\"#glyph1-7\" x=\"12.960938\" y=\"306.84375\"/>\n",
       "  <use xlink:href=\"#glyph1-4\" x=\"12.960938\" y=\"300.169922\"/>\n",
       "  <use xlink:href=\"#glyph1-5\" x=\"12.960938\" y=\"291.503906\"/>\n",
       "  <use xlink:href=\"#glyph1-8\" x=\"12.960938\" y=\"284.830078\"/>\n",
       "  <use xlink:href=\"#glyph1-7\" x=\"12.960938\" y=\"282.164063\"/>\n",
       "  <use xlink:href=\"#glyph1-9\" x=\"12.960938\" y=\"275.490234\"/>\n",
       "  <use xlink:href=\"#glyph1-10\" x=\"12.960938\" y=\"268.816406\"/>\n",
       "  <use xlink:href=\"#glyph1-11\" x=\"12.960938\" y=\"260.8125\"/>\n",
       "  <use xlink:href=\"#glyph1-5\" x=\"12.960938\" y=\"257.478516\"/>\n",
       "  <use xlink:href=\"#glyph1-6\" x=\"12.960938\" y=\"250.804688\"/>\n",
       "  <use xlink:href=\"#glyph1-12\" x=\"12.960938\" y=\"244.804688\"/>\n",
       "  <use xlink:href=\"#glyph1-13\" x=\"12.960938\" y=\"238.804688\"/>\n",
       "  <use xlink:href=\"#glyph1-14\" x=\"12.960938\" y=\"230.800781\"/>\n",
       "  <use xlink:href=\"#glyph1-15\" x=\"12.960938\" y=\"226.804688\"/>\n",
       "  <use xlink:href=\"#glyph1-6\" x=\"12.960938\" y=\"224.138672\"/>\n",
       "  <use xlink:href=\"#glyph1-16\" x=\"12.960938\" y=\"218.138672\"/>\n",
       "  <use xlink:href=\"#glyph1-17\" x=\"12.960938\" y=\"211.464844\"/>\n",
       "  <use xlink:href=\"#glyph1-18\" x=\"12.960938\" y=\"208.130859\"/>\n",
       "  <use xlink:href=\"#glyph1-0\" x=\"12.960938\" y=\"201.457031\"/>\n",
       "  <use xlink:href=\"#glyph1-2\" x=\"12.960938\" y=\"194.783203\"/>\n",
       "  <use xlink:href=\"#glyph1-19\" x=\"12.960938\" y=\"188.109375\"/>\n",
       "  <use xlink:href=\"#glyph1-20\" x=\"12.960938\" y=\"184.775391\"/>\n",
       "  <use xlink:href=\"#glyph1-18\" x=\"12.960938\" y=\"178.101563\"/>\n",
       "  <use xlink:href=\"#glyph1-3\" x=\"12.960938\" y=\"171.427734\"/>\n",
       "  <use xlink:href=\"#glyph1-21\" x=\"12.960938\" y=\"164.753906\"/>\n",
       "</g>\n",
       "</g>\n",
       "</svg>\n"
      ],
      "text/plain": [
       "plot without title"
      ]
     },
     "metadata": {
      "image/svg+xml": {
       "isolated": true
      }
     },
     "output_type": "display_data"
    }
   ],
   "source": [
    "plot(CocaCola$Date[301:432], CocaCola$StockPrice[301:432], type=\"l\", col=\"red\", ylim=c(0,210))"
   ]
  },
  {
   "cell_type": "code",
   "execution_count": 41,
   "metadata": {
    "collapsed": false
   },
   "outputs": [
    {
     "ename": "ERROR",
     "evalue": "Error in plot.xy(xy.coords(x, y), type = type, ...): plot.new has not been called yet\n",
     "output_type": "error",
     "traceback": [
      "Error in plot.xy(xy.coords(x, y), type = type, ...): plot.new has not been called yet\n"
     ]
    }
   ],
   "source": [
    "lines(IBM$Date[301:432], IBM$StockPrice[301:432], type=\"l\", col=\"red\", ylim=c(0,210))"
   ]
  },
  {
   "cell_type": "code",
   "execution_count": null,
   "metadata": {
    "collapsed": true
   },
   "outputs": [],
   "source": []
  },
  {
   "cell_type": "code",
   "execution_count": null,
   "metadata": {
    "collapsed": true
   },
   "outputs": [],
   "source": []
  },
  {
   "cell_type": "code",
   "execution_count": 43,
   "metadata": {
    "collapsed": false
   },
   "outputs": [
    {
     "data": {
      "text/html": [
       "<dl class=dl-horizontal>\n",
       "\t<dt>April</dt>\n",
       "\t\t<dd>152.11682382375</dd>\n",
       "\t<dt>August</dt>\n",
       "\t\t<dd>140.145474968</dd>\n",
       "\t<dt>December</dt>\n",
       "\t\t<dd>140.75930962775</dd>\n",
       "\t<dt>February</dt>\n",
       "\t\t<dd>152.6939934145</dd>\n",
       "\t<dt>January</dt>\n",
       "\t\t<dd>150.2384226615</dd>\n",
       "\t<dt>July</dt>\n",
       "\t\t<dd>139.06701818325</dd>\n",
       "\t<dt>June</dt>\n",
       "\t\t<dd>139.0906762995</dd>\n",
       "\t<dt>March</dt>\n",
       "\t\t<dd>152.432689622</dd>\n",
       "\t<dt>May</dt>\n",
       "\t\t<dd>151.5021941505</dd>\n",
       "\t<dt>November</dt>\n",
       "\t\t<dd>138.01868188175</dd>\n",
       "\t<dt>October</dt>\n",
       "\t\t<dd>137.346552522</dd>\n",
       "\t<dt>September</dt>\n",
       "\t\t<dd>139.0885265375</dd>\n",
       "</dl>\n"
      ],
      "text/latex": [
       "\\begin{description*}\n",
       "\\item[April] 152.11682382375\n",
       "\\item[August] 140.145474968\n",
       "\\item[December] 140.75930962775\n",
       "\\item[February] 152.6939934145\n",
       "\\item[January] 150.2384226615\n",
       "\\item[July] 139.06701818325\n",
       "\\item[June] 139.0906762995\n",
       "\\item[March] 152.432689622\n",
       "\\item[May] 151.5021941505\n",
       "\\item[November] 138.01868188175\n",
       "\\item[October] 137.346552522\n",
       "\\item[September] 139.0885265375\n",
       "\\end{description*}\n"
      ],
      "text/markdown": [
       "April\n",
       ":   152.11682382375August\n",
       ":   140.145474968December\n",
       ":   140.75930962775February\n",
       ":   152.6939934145January\n",
       ":   150.2384226615July\n",
       ":   139.06701818325June\n",
       ":   139.0906762995March\n",
       ":   152.432689622May\n",
       ":   151.5021941505November\n",
       ":   138.01868188175October\n",
       ":   137.346552522September\n",
       ":   139.0885265375\n",
       "\n"
      ],
      "text/plain": [
       "    April    August  December  February   January      July      June     March \n",
       " 152.1168  140.1455  140.7593  152.6940  150.2384  139.0670  139.0907  152.4327 \n",
       "      May  November   October September \n",
       " 151.5022  138.0187  137.3466  139.0885 "
      ]
     },
     "execution_count": 43,
     "metadata": {},
     "output_type": "execute_result"
    }
   ],
   "source": [
    "tapply(IBM$StockPrice, months(IBM$Date), mean)"
   ]
  },
  {
   "cell_type": "code",
   "execution_count": 44,
   "metadata": {
    "collapsed": false
   },
   "outputs": [
    {
     "data": {
      "text/html": [
       "<dl class=dl-horizontal>\n",
       "\t<dt>April</dt>\n",
       "\t\t<dd>64.4800915325</dd>\n",
       "\t<dt>August</dt>\n",
       "\t\t<dd>56.50314874</dd>\n",
       "\t<dt>December</dt>\n",
       "\t\t<dd>59.10217406075</dd>\n",
       "\t<dt>February</dt>\n",
       "\t\t<dd>62.52080460625</dd>\n",
       "\t<dt>January</dt>\n",
       "\t\t<dd>62.045106331</dd>\n",
       "\t<dt>July</dt>\n",
       "\t\t<dd>56.7334929405</dd>\n",
       "\t<dt>June</dt>\n",
       "\t\t<dd>56.46843917825</dd>\n",
       "\t<dt>March</dt>\n",
       "\t\t<dd>63.15054792035</dd>\n",
       "\t<dt>May</dt>\n",
       "\t\t<dd>60.87135102825</dd>\n",
       "\t<dt>November</dt>\n",
       "\t\t<dd>57.2887945375</dd>\n",
       "\t<dt>October</dt>\n",
       "\t\t<dd>56.2389679325</dd>\n",
       "\t<dt>September</dt>\n",
       "\t\t<dd>56.239130513</dd>\n",
       "</dl>\n"
      ],
      "text/latex": [
       "\\begin{description*}\n",
       "\\item[April] 64.4800915325\n",
       "\\item[August] 56.50314874\n",
       "\\item[December] 59.10217406075\n",
       "\\item[February] 62.52080460625\n",
       "\\item[January] 62.045106331\n",
       "\\item[July] 56.7334929405\n",
       "\\item[June] 56.46843917825\n",
       "\\item[March] 63.15054792035\n",
       "\\item[May] 60.87135102825\n",
       "\\item[November] 57.2887945375\n",
       "\\item[October] 56.2389679325\n",
       "\\item[September] 56.239130513\n",
       "\\end{description*}\n"
      ],
      "text/markdown": [
       "April\n",
       ":   64.4800915325August\n",
       ":   56.50314874December\n",
       ":   59.10217406075February\n",
       ":   62.52080460625January\n",
       ":   62.045106331July\n",
       ":   56.7334929405June\n",
       ":   56.46843917825March\n",
       ":   63.15054792035May\n",
       ":   60.87135102825November\n",
       ":   57.2887945375October\n",
       ":   56.2389679325September\n",
       ":   56.239130513\n",
       "\n"
      ],
      "text/plain": [
       "    April    August  December  February   January      July      June     March \n",
       " 64.48009  56.50315  59.10217  62.52080  62.04511  56.73349  56.46844  63.15055 \n",
       "      May  November   October September \n",
       " 60.87135  57.28879  56.23897  56.23913 "
      ]
     },
     "execution_count": 44,
     "metadata": {},
     "output_type": "execute_result"
    }
   ],
   "source": [
    "tapply(GE$StockPrice, months(GE$Date), mean)"
   ]
  },
  {
   "cell_type": "code",
   "execution_count": null,
   "metadata": {
    "collapsed": true
   },
   "outputs": [],
   "source": []
  }
 ],
 "metadata": {
  "kernelspec": {
   "display_name": "R",
   "language": "R",
   "name": "ir"
  },
  "language_info": {
   "codemirror_mode": "r",
   "file_extension": ".r",
   "mimetype": "text/x-r-source",
   "name": "R",
   "pygments_lexer": "r",
   "version": "3.2.1"
  }
 },
 "nbformat": 4,
 "nbformat_minor": 0
}
