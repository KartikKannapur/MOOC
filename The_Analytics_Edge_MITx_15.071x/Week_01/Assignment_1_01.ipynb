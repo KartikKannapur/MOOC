{
 "cells": [
  {
   "cell_type": "markdown",
   "metadata": {},
   "source": [
    "# AN ANALYTICAL DETECTIVE"
   ]
  },
  {
   "cell_type": "code",
   "execution_count": null,
   "metadata": {
    "collapsed": true
   },
   "outputs": [],
   "source": []
  },
  {
   "cell_type": "code",
   "execution_count": null,
   "metadata": {
    "collapsed": true
   },
   "outputs": [],
   "source": []
  },
  {
   "cell_type": "code",
   "execution_count": null,
   "metadata": {
    "collapsed": true
   },
   "outputs": [],
   "source": []
  },
  {
   "cell_type": "code",
   "execution_count": 25,
   "metadata": {
    "collapsed": true
   },
   "outputs": [],
   "source": [
    "# #Read the CSV\n",
    "DATA = read.csv(\"mvtWeek1.csv\")"
   ]
  },
  {
   "cell_type": "code",
   "execution_count": 2,
   "metadata": {
    "collapsed": false
   },
   "outputs": [
    {
     "data": {
      "text/html": [
       "<table>\n",
       "<thead><tr><th></th><th scope=col>ID</th><th scope=col>Date</th><th scope=col>LocationDescription</th><th scope=col>Arrest</th><th scope=col>Domestic</th><th scope=col>Beat</th><th scope=col>District</th><th scope=col>CommunityArea</th><th scope=col>Year</th><th scope=col>Latitude</th><th scope=col>Longitude</th></tr></thead>\n",
       "<tbody>\n",
       "\t<tr><th scope=row>1</th><td>8951354</td><td>12/31/12 23:15</td><td>STREET</td><td>FALSE</td><td>FALSE</td><td>623</td><td>6</td><td>69</td><td>2012</td><td>41.75628</td><td>-87.62164</td></tr>\n",
       "\t<tr><th scope=row>2</th><td>8951141</td><td>12/31/12 22:00</td><td>STREET</td><td>FALSE</td><td>FALSE</td><td>1213</td><td>12</td><td>24</td><td>2012</td><td>41.89879</td><td>-87.6613</td></tr>\n",
       "\t<tr><th scope=row>3</th><td>8952745</td><td>12/31/12 22:00</td><td>RESIDENTIAL YARD (FRONT/BACK)</td><td>FALSE</td><td>FALSE</td><td>1622</td><td>16</td><td>11</td><td>2012</td><td>41.96919</td><td>-87.76767</td></tr>\n",
       "\t<tr><th scope=row>4</th><td>8952223</td><td>12/31/12 22:00</td><td>STREET</td><td>FALSE</td><td>FALSE</td><td>724</td><td>7</td><td>67</td><td>2012</td><td>41.76933</td><td>-87.65773</td></tr>\n",
       "\t<tr><th scope=row>5</th><td>8951608</td><td>12/31/12 21:30</td><td>STREET</td><td>FALSE</td><td>FALSE</td><td>211</td><td>2</td><td>35</td><td>2012</td><td>41.83757</td><td>-87.62176</td></tr>\n",
       "\t<tr><th scope=row>6</th><td>8950793</td><td>12/31/12 20:30</td><td>STREET</td><td>TRUE</td><td>FALSE</td><td>2521</td><td>25</td><td>19</td><td>2012</td><td>41.92856</td><td>-87.754</td></tr>\n",
       "</tbody>\n",
       "</table>\n"
      ],
      "text/latex": [
       "\\begin{tabular}{r|lllllllllll}\n",
       "  & ID & Date & LocationDescription & Arrest & Domestic & Beat & District & CommunityArea & Year & Latitude & Longitude\\\\\n",
       "\\hline\n",
       "\t1 & 8951354 & 12/31/12 23:15 & STREET & FALSE & FALSE & 623 & 6 & 69 & 2012 & 41.75628 & -87.62164\\\\\n",
       "\t2 & 8951141 & 12/31/12 22:00 & STREET & FALSE & FALSE & 1213 & 12 & 24 & 2012 & 41.89879 & -87.6613\\\\\n",
       "\t3 & 8952745 & 12/31/12 22:00 & RESIDENTIAL YARD (FRONT/BACK) & FALSE & FALSE & 1622 & 16 & 11 & 2012 & 41.96919 & -87.76767\\\\\n",
       "\t4 & 8952223 & 12/31/12 22:00 & STREET & FALSE & FALSE & 724 & 7 & 67 & 2012 & 41.76933 & -87.65773\\\\\n",
       "\t5 & 8951608 & 12/31/12 21:30 & STREET & FALSE & FALSE & 211 & 2 & 35 & 2012 & 41.83757 & -87.62176\\\\\n",
       "\t6 & 8950793 & 12/31/12 20:30 & STREET & TRUE & FALSE & 2521 & 25 & 19 & 2012 & 41.92856 & -87.754\\\\\n",
       "\\end{tabular}\n"
      ],
      "text/plain": [
       "       ID           Date           LocationDescription Arrest Domestic Beat\n",
       "1 8951354 12/31/12 23:15                        STREET  FALSE    FALSE  623\n",
       "2 8951141 12/31/12 22:00                        STREET  FALSE    FALSE 1213\n",
       "3 8952745 12/31/12 22:00 RESIDENTIAL YARD (FRONT/BACK)  FALSE    FALSE 1622\n",
       "4 8952223 12/31/12 22:00                        STREET  FALSE    FALSE  724\n",
       "5 8951608 12/31/12 21:30                        STREET  FALSE    FALSE  211\n",
       "6 8950793 12/31/12 20:30                        STREET   TRUE    FALSE 2521\n",
       "  District CommunityArea Year Latitude Longitude\n",
       "1        6            69 2012 41.75628 -87.62164\n",
       "2       12            24 2012 41.89879 -87.66130\n",
       "3       16            11 2012 41.96919 -87.76767\n",
       "4        7            67 2012 41.76933 -87.65773\n",
       "5        2            35 2012 41.83757 -87.62176\n",
       "6       25            19 2012 41.92856 -87.75400"
      ]
     },
     "execution_count": 2,
     "metadata": {},
     "output_type": "execute_result"
    }
   ],
   "source": [
    "head(DATA)"
   ]
  },
  {
   "cell_type": "code",
   "execution_count": 4,
   "metadata": {
    "collapsed": false
   },
   "outputs": [
    {
     "name": "stdout",
     "output_type": "stream",
     "text": [
      "'data.frame':\t191641 obs. of  11 variables:\n",
      " $ ID                 : int  8951354 8951141 8952745 8952223 8951608 8950793 8950760 8951611 8951802 8950706 ...\n",
      " $ Date               : Factor w/ 131680 levels \"1/1/01 0:01\",..: 42824 42823 42823 42823 42822 42821 42820 42819 42817 42816 ...\n",
      " $ LocationDescription: Factor w/ 78 levels \"ABANDONED BUILDING\",..: 72 72 62 72 72 72 72 72 72 72 ...\n",
      " $ Arrest             : logi  FALSE FALSE FALSE FALSE FALSE TRUE ...\n",
      " $ Domestic           : logi  FALSE FALSE FALSE FALSE FALSE FALSE ...\n",
      " $ Beat               : int  623 1213 1622 724 211 2521 423 231 1021 1215 ...\n",
      " $ District           : int  6 12 16 7 2 25 4 2 10 12 ...\n",
      " $ CommunityArea      : int  69 24 11 67 35 19 48 40 29 24 ...\n",
      " $ Year               : int  2012 2012 2012 2012 2012 2012 2012 2012 2012 2012 ...\n",
      " $ Latitude           : num  41.8 41.9 42 41.8 41.8 ...\n",
      " $ Longitude          : num  -87.6 -87.7 -87.8 -87.7 -87.6 ...\n"
     ]
    }
   ],
   "source": [
    "# #Structure\n",
    "str(DATA)"
   ]
  },
  {
   "cell_type": "code",
   "execution_count": 5,
   "metadata": {
    "collapsed": false
   },
   "outputs": [
    {
     "data": {
      "text/plain": [
       "       ID                      Date       \n",
       " Min.   :1310022   5/16/08 0:00  :    11  \n",
       " 1st Qu.:2832144   10/17/01 22:00:    10  \n",
       " Median :4762956   4/13/04 21:00 :    10  \n",
       " Mean   :4968629   9/17/05 22:00 :    10  \n",
       " 3rd Qu.:7201878   10/12/01 22:00:     9  \n",
       " Max.   :9181151   10/13/01 22:00:     9  \n",
       "                   (Other)       :191582  \n",
       "                     LocationDescription   Arrest         Domestic      \n",
       " STREET                        :156564   Mode :logical   Mode :logical  \n",
       " PARKING LOT/GARAGE(NON.RESID.): 14852   FALSE:176105    FALSE:191226   \n",
       " OTHER                         :  4573   TRUE :15536     TRUE :415      \n",
       " ALLEY                         :  2308   NA's :0         NA's :0        \n",
       " GAS STATION                   :  2111                                  \n",
       " DRIVEWAY - RESIDENTIAL        :  1675                                  \n",
       " (Other)                       :  9558                                  \n",
       "      Beat         District     CommunityArea        Year         Latitude    \n",
       " Min.   : 111   Min.   : 1.00   Min.   : 0      Min.   :2001   Min.   :41.64  \n",
       " 1st Qu.: 722   1st Qu.: 6.00   1st Qu.:22      1st Qu.:2003   1st Qu.:41.77  \n",
       " Median :1121   Median :10.00   Median :32      Median :2006   Median :41.85  \n",
       " Mean   :1259   Mean   :11.82   Mean   :38      Mean   :2006   Mean   :41.84  \n",
       " 3rd Qu.:1733   3rd Qu.:17.00   3rd Qu.:60      3rd Qu.:2009   3rd Qu.:41.92  \n",
       " Max.   :2535   Max.   :31.00   Max.   :77      Max.   :2012   Max.   :42.02  \n",
       "                NA's   :43056   NA's   :24616                  NA's   :2276   \n",
       "   Longitude     \n",
       " Min.   :-87.93  \n",
       " 1st Qu.:-87.72  \n",
       " Median :-87.68  \n",
       " Mean   :-87.68  \n",
       " 3rd Qu.:-87.64  \n",
       " Max.   :-87.52  \n",
       " NA's   :2276    "
      ]
     },
     "execution_count": 5,
     "metadata": {},
     "output_type": "execute_result"
    }
   ],
   "source": [
    "# #Summary\n",
    "summary(DATA)"
   ]
  },
  {
   "cell_type": "code",
   "execution_count": 8,
   "metadata": {
    "collapsed": false
   },
   "outputs": [
    {
     "data": {
      "text/html": [
       "9181151"
      ],
      "text/latex": [
       "9181151"
      ],
      "text/markdown": [
       "9181151"
      ],
      "text/plain": [
       "[1] 9181151"
      ]
     },
     "execution_count": 8,
     "metadata": {},
     "output_type": "execute_result"
    }
   ],
   "source": [
    "max(DATA$ID)"
   ]
  },
  {
   "cell_type": "code",
   "execution_count": 9,
   "metadata": {
    "collapsed": false
   },
   "outputs": [
    {
     "data": {
      "text/html": [
       "111"
      ],
      "text/latex": [
       "111"
      ],
      "text/markdown": [
       "111"
      ],
      "text/plain": [
       "[1] 111"
      ]
     },
     "execution_count": 9,
     "metadata": {},
     "output_type": "execute_result"
    }
   ],
   "source": [
    "min(DATA$Beat)"
   ]
  },
  {
   "cell_type": "code",
   "execution_count": null,
   "metadata": {
    "collapsed": true
   },
   "outputs": [],
   "source": []
  },
  {
   "cell_type": "code",
   "execution_count": 14,
   "metadata": {
    "collapsed": false
   },
   "outputs": [],
   "source": [
    "DATA_ARREST = subset(DATA, Arrest == \"TRUE\")"
   ]
  },
  {
   "cell_type": "code",
   "execution_count": 15,
   "metadata": {
    "collapsed": false
   },
   "outputs": [
    {
     "data": {
      "text/html": [
       "15536"
      ],
      "text/latex": [
       "15536"
      ],
      "text/markdown": [
       "15536"
      ],
      "text/plain": [
       "[1] 15536"
      ]
     },
     "execution_count": 15,
     "metadata": {},
     "output_type": "execute_result"
    }
   ],
   "source": [
    "nrow(DATA_ARREST)"
   ]
  },
  {
   "cell_type": "code",
   "execution_count": null,
   "metadata": {
    "collapsed": true
   },
   "outputs": [],
   "source": []
  },
  {
   "cell_type": "code",
   "execution_count": 16,
   "metadata": {
    "collapsed": true
   },
   "outputs": [],
   "source": [
    "DATA_LOC_DESC = subset(DATA, LocationDescription == \"ALLEY\")"
   ]
  },
  {
   "cell_type": "code",
   "execution_count": 17,
   "metadata": {
    "collapsed": false
   },
   "outputs": [
    {
     "data": {
      "text/html": [
       "2308"
      ],
      "text/latex": [
       "2308"
      ],
      "text/markdown": [
       "2308"
      ],
      "text/plain": [
       "[1] 2308"
      ]
     },
     "execution_count": 17,
     "metadata": {},
     "output_type": "execute_result"
    }
   ],
   "source": [
    "nrow(DATA_LOC_DESC)"
   ]
  },
  {
   "cell_type": "code",
   "execution_count": null,
   "metadata": {
    "collapsed": true
   },
   "outputs": [],
   "source": []
  },
  {
   "cell_type": "code",
   "execution_count": 18,
   "metadata": {
    "collapsed": false
   },
   "outputs": [
    {
     "data": {
      "text/html": [
       "<table>\n",
       "<thead><tr><th></th><th scope=col>ID</th><th scope=col>Date</th><th scope=col>LocationDescription</th><th scope=col>Arrest</th><th scope=col>Domestic</th><th scope=col>Beat</th><th scope=col>District</th><th scope=col>CommunityArea</th><th scope=col>Year</th><th scope=col>Latitude</th><th scope=col>Longitude</th></tr></thead>\n",
       "<tbody>\n",
       "\t<tr><th scope=row>1</th><td>8951354</td><td>12/31/12 23:15</td><td>STREET</td><td>FALSE</td><td>FALSE</td><td>623</td><td>6</td><td>69</td><td>2012</td><td>41.75628</td><td>-87.62164</td></tr>\n",
       "\t<tr><th scope=row>2</th><td>8951141</td><td>12/31/12 22:00</td><td>STREET</td><td>FALSE</td><td>FALSE</td><td>1213</td><td>12</td><td>24</td><td>2012</td><td>41.89879</td><td>-87.6613</td></tr>\n",
       "\t<tr><th scope=row>3</th><td>8952745</td><td>12/31/12 22:00</td><td>RESIDENTIAL YARD (FRONT/BACK)</td><td>FALSE</td><td>FALSE</td><td>1622</td><td>16</td><td>11</td><td>2012</td><td>41.96919</td><td>-87.76767</td></tr>\n",
       "\t<tr><th scope=row>4</th><td>8952223</td><td>12/31/12 22:00</td><td>STREET</td><td>FALSE</td><td>FALSE</td><td>724</td><td>7</td><td>67</td><td>2012</td><td>41.76933</td><td>-87.65773</td></tr>\n",
       "\t<tr><th scope=row>5</th><td>8951608</td><td>12/31/12 21:30</td><td>STREET</td><td>FALSE</td><td>FALSE</td><td>211</td><td>2</td><td>35</td><td>2012</td><td>41.83757</td><td>-87.62176</td></tr>\n",
       "\t<tr><th scope=row>6</th><td>8950793</td><td>12/31/12 20:30</td><td>STREET</td><td>TRUE</td><td>FALSE</td><td>2521</td><td>25</td><td>19</td><td>2012</td><td>41.92856</td><td>-87.754</td></tr>\n",
       "</tbody>\n",
       "</table>\n"
      ],
      "text/latex": [
       "\\begin{tabular}{r|lllllllllll}\n",
       "  & ID & Date & LocationDescription & Arrest & Domestic & Beat & District & CommunityArea & Year & Latitude & Longitude\\\\\n",
       "\\hline\n",
       "\t1 & 8951354 & 12/31/12 23:15 & STREET & FALSE & FALSE & 623 & 6 & 69 & 2012 & 41.75628 & -87.62164\\\\\n",
       "\t2 & 8951141 & 12/31/12 22:00 & STREET & FALSE & FALSE & 1213 & 12 & 24 & 2012 & 41.89879 & -87.6613\\\\\n",
       "\t3 & 8952745 & 12/31/12 22:00 & RESIDENTIAL YARD (FRONT/BACK) & FALSE & FALSE & 1622 & 16 & 11 & 2012 & 41.96919 & -87.76767\\\\\n",
       "\t4 & 8952223 & 12/31/12 22:00 & STREET & FALSE & FALSE & 724 & 7 & 67 & 2012 & 41.76933 & -87.65773\\\\\n",
       "\t5 & 8951608 & 12/31/12 21:30 & STREET & FALSE & FALSE & 211 & 2 & 35 & 2012 & 41.83757 & -87.62176\\\\\n",
       "\t6 & 8950793 & 12/31/12 20:30 & STREET & TRUE & FALSE & 2521 & 25 & 19 & 2012 & 41.92856 & -87.754\\\\\n",
       "\\end{tabular}\n"
      ],
      "text/plain": [
       "       ID           Date           LocationDescription Arrest Domestic Beat\n",
       "1 8951354 12/31/12 23:15                        STREET  FALSE    FALSE  623\n",
       "2 8951141 12/31/12 22:00                        STREET  FALSE    FALSE 1213\n",
       "3 8952745 12/31/12 22:00 RESIDENTIAL YARD (FRONT/BACK)  FALSE    FALSE 1622\n",
       "4 8952223 12/31/12 22:00                        STREET  FALSE    FALSE  724\n",
       "5 8951608 12/31/12 21:30                        STREET  FALSE    FALSE  211\n",
       "6 8950793 12/31/12 20:30                        STREET   TRUE    FALSE 2521\n",
       "  District CommunityArea Year Latitude Longitude\n",
       "1        6            69 2012 41.75628 -87.62164\n",
       "2       12            24 2012 41.89879 -87.66130\n",
       "3       16            11 2012 41.96919 -87.76767\n",
       "4        7            67 2012 41.76933 -87.65773\n",
       "5        2            35 2012 41.83757 -87.62176\n",
       "6       25            19 2012 41.92856 -87.75400"
      ]
     },
     "execution_count": 18,
     "metadata": {},
     "output_type": "execute_result"
    }
   ],
   "source": [
    "head(DATA)"
   ]
  },
  {
   "cell_type": "code",
   "execution_count": 19,
   "metadata": {
    "collapsed": false
   },
   "outputs": [
    {
     "data": {
      "text/html": [
       "<table>\n",
       "<thead><tr><th></th><th scope=col>Date</th></tr></thead>\n",
       "<tbody>\n",
       "\t<tr><th scope=row>1</th><td>12/31/12 23:15</td></tr>\n",
       "\t<tr><th scope=row>2</th><td>12/31/12 22:00</td></tr>\n",
       "\t<tr><th scope=row>3</th><td>12/31/12 22:00</td></tr>\n",
       "\t<tr><th scope=row>4</th><td>12/31/12 22:00</td></tr>\n",
       "\t<tr><th scope=row>5</th><td>12/31/12 21:30</td></tr>\n",
       "\t<tr><th scope=row>6</th><td>12/31/12 20:30</td></tr>\n",
       "</tbody>\n",
       "</table>\n"
      ],
      "text/latex": [
       "\\begin{tabular}{r|l}\n",
       "  & Date\\\\\n",
       "\\hline\n",
       "\t1 & 12/31/12 23:15\\\\\n",
       "\t2 & 12/31/12 22:00\\\\\n",
       "\t3 & 12/31/12 22:00\\\\\n",
       "\t4 & 12/31/12 22:00\\\\\n",
       "\t5 & 12/31/12 21:30\\\\\n",
       "\t6 & 12/31/12 20:30\\\\\n",
       "\\end{tabular}\n"
      ],
      "text/plain": [
       "            Date\n",
       "1 12/31/12 23:15\n",
       "2 12/31/12 22:00\n",
       "3 12/31/12 22:00\n",
       "4 12/31/12 22:00\n",
       "5 12/31/12 21:30\n",
       "6 12/31/12 20:30"
      ]
     },
     "execution_count": 19,
     "metadata": {},
     "output_type": "execute_result"
    }
   ],
   "source": [
    "head(DATA[\"Date\"])"
   ]
  },
  {
   "cell_type": "code",
   "execution_count": 37,
   "metadata": {
    "collapsed": true
   },
   "outputs": [],
   "source": [
    "DateConvert = as.Date(strptime(DATA$Date, \"%m/%d/%y %H:%M\"))"
   ]
  },
  {
   "cell_type": "code",
   "execution_count": 25,
   "metadata": {
    "collapsed": false
   },
   "outputs": [
    {
     "data": {
      "text/plain": [
       "[1] \"2012-12-31\" \"2012-12-31\" \"2012-12-31\" \"2012-12-31\" \"2012-12-31\"\n",
       "[6] \"2012-12-31\""
      ]
     },
     "execution_count": 25,
     "metadata": {},
     "output_type": "execute_result"
    }
   ],
   "source": [
    "head(DateConvert)"
   ]
  },
  {
   "cell_type": "code",
   "execution_count": 26,
   "metadata": {
    "collapsed": false
   },
   "outputs": [
    {
     "data": {
      "text/plain": [
       "        Min.      1st Qu.       Median         Mean      3rd Qu.         Max. \n",
       "\"2001-01-01\" \"2003-07-10\" \"2006-05-21\" \"2006-08-23\" \"2009-10-24\" \"2012-12-31\" "
      ]
     },
     "execution_count": 26,
     "metadata": {},
     "output_type": "execute_result"
    }
   ],
   "source": [
    "summary(DateConvert)"
   ]
  },
  {
   "cell_type": "code",
   "execution_count": null,
   "metadata": {
    "collapsed": true
   },
   "outputs": [],
   "source": []
  },
  {
   "cell_type": "code",
   "execution_count": 38,
   "metadata": {
    "collapsed": true
   },
   "outputs": [],
   "source": [
    "DATA$Month = months(DateConvert)"
   ]
  },
  {
   "cell_type": "code",
   "execution_count": 39,
   "metadata": {
    "collapsed": false
   },
   "outputs": [],
   "source": [
    "DATA$Weekday = weekdays(DateConvert)"
   ]
  },
  {
   "cell_type": "code",
   "execution_count": 40,
   "metadata": {
    "collapsed": true
   },
   "outputs": [],
   "source": [
    "DATA$Date = DateConvert"
   ]
  },
  {
   "cell_type": "code",
   "execution_count": 50,
   "metadata": {
    "collapsed": false
   },
   "outputs": [
    {
     "data": {
      "text/html": [
       "<table>\n",
       "<thead><tr><th></th><th scope=col>ID</th><th scope=col>Date</th><th scope=col>LocationDescription</th><th scope=col>Arrest</th><th scope=col>Domestic</th><th scope=col>Beat</th><th scope=col>District</th><th scope=col>CommunityArea</th><th scope=col>Year</th><th scope=col>Latitude</th><th scope=col>Longitude</th><th scope=col>Month</th><th scope=col>Weekday</th></tr></thead>\n",
       "<tbody>\n",
       "\t<tr><th scope=row>1</th><td>8951354</td><td>2012-12-31</td><td>STREET</td><td>FALSE</td><td>FALSE</td><td>623</td><td>6</td><td>69</td><td>2012</td><td>41.75628</td><td>-87.62164</td><td>December</td><td>Monday</td></tr>\n",
       "\t<tr><th scope=row>2</th><td>8951141</td><td>2012-12-31</td><td>STREET</td><td>FALSE</td><td>FALSE</td><td>1213</td><td>12</td><td>24</td><td>2012</td><td>41.89879</td><td>-87.6613</td><td>December</td><td>Monday</td></tr>\n",
       "\t<tr><th scope=row>3</th><td>8952745</td><td>2012-12-31</td><td>RESIDENTIAL YARD (FRONT/BACK)</td><td>FALSE</td><td>FALSE</td><td>1622</td><td>16</td><td>11</td><td>2012</td><td>41.96919</td><td>-87.76767</td><td>December</td><td>Monday</td></tr>\n",
       "\t<tr><th scope=row>4</th><td>8952223</td><td>2012-12-31</td><td>STREET</td><td>FALSE</td><td>FALSE</td><td>724</td><td>7</td><td>67</td><td>2012</td><td>41.76933</td><td>-87.65773</td><td>December</td><td>Monday</td></tr>\n",
       "\t<tr><th scope=row>5</th><td>8951608</td><td>2012-12-31</td><td>STREET</td><td>FALSE</td><td>FALSE</td><td>211</td><td>2</td><td>35</td><td>2012</td><td>41.83757</td><td>-87.62176</td><td>December</td><td>Monday</td></tr>\n",
       "\t<tr><th scope=row>6</th><td>8950793</td><td>2012-12-31</td><td>STREET</td><td>TRUE</td><td>FALSE</td><td>2521</td><td>25</td><td>19</td><td>2012</td><td>41.92856</td><td>-87.754</td><td>December</td><td>Monday</td></tr>\n",
       "</tbody>\n",
       "</table>\n"
      ],
      "text/latex": [
       "\\begin{tabular}{r|lllllllllllll}\n",
       "  & ID & Date & LocationDescription & Arrest & Domestic & Beat & District & CommunityArea & Year & Latitude & Longitude & Month & Weekday\\\\\n",
       "\\hline\n",
       "\t1 & 8951354 & 2012-12-31 & STREET & FALSE & FALSE & 623 & 6 & 69 & 2012 & 41.75628 & -87.62164 & December & Monday\\\\\n",
       "\t2 & 8951141 & 2012-12-31 & STREET & FALSE & FALSE & 1213 & 12 & 24 & 2012 & 41.89879 & -87.6613 & December & Monday\\\\\n",
       "\t3 & 8952745 & 2012-12-31 & RESIDENTIAL YARD (FRONT/BACK) & FALSE & FALSE & 1622 & 16 & 11 & 2012 & 41.96919 & -87.76767 & December & Monday\\\\\n",
       "\t4 & 8952223 & 2012-12-31 & STREET & FALSE & FALSE & 724 & 7 & 67 & 2012 & 41.76933 & -87.65773 & December & Monday\\\\\n",
       "\t5 & 8951608 & 2012-12-31 & STREET & FALSE & FALSE & 211 & 2 & 35 & 2012 & 41.83757 & -87.62176 & December & Monday\\\\\n",
       "\t6 & 8950793 & 2012-12-31 & STREET & TRUE & FALSE & 2521 & 25 & 19 & 2012 & 41.92856 & -87.754 & December & Monday\\\\\n",
       "\\end{tabular}\n"
      ],
      "text/plain": [
       "       ID       Date           LocationDescription Arrest Domestic Beat\n",
       "1 8951354 2012-12-31                        STREET  FALSE    FALSE  623\n",
       "2 8951141 2012-12-31                        STREET  FALSE    FALSE 1213\n",
       "3 8952745 2012-12-31 RESIDENTIAL YARD (FRONT/BACK)  FALSE    FALSE 1622\n",
       "4 8952223 2012-12-31                        STREET  FALSE    FALSE  724\n",
       "5 8951608 2012-12-31                        STREET  FALSE    FALSE  211\n",
       "6 8950793 2012-12-31                        STREET   TRUE    FALSE 2521\n",
       "  District CommunityArea Year Latitude Longitude    Month Weekday\n",
       "1        6            69 2012 41.75628 -87.62164 December  Monday\n",
       "2       12            24 2012 41.89879 -87.66130 December  Monday\n",
       "3       16            11 2012 41.96919 -87.76767 December  Monday\n",
       "4        7            67 2012 41.76933 -87.65773 December  Monday\n",
       "5        2            35 2012 41.83757 -87.62176 December  Monday\n",
       "6       25            19 2012 41.92856 -87.75400 December  Monday"
      ]
     },
     "execution_count": 50,
     "metadata": {},
     "output_type": "execute_result"
    }
   ],
   "source": [
    "head(DATA)"
   ]
  },
  {
   "cell_type": "code",
   "execution_count": 51,
   "metadata": {
    "collapsed": true
   },
   "outputs": [],
   "source": [
    "df_veh_theft = subset(DATA, Arrest == \"TRUE\")"
   ]
  },
  {
   "cell_type": "code",
   "execution_count": 52,
   "metadata": {
    "collapsed": false
   },
   "outputs": [
    {
     "data": {
      "text/plain": [
       "\n",
       "   Friday    Monday  Saturday    Sunday  Thursday   Tuesday Wednesday \n",
       "     2370      2176      2255      2330      2087      2108      2210 "
      ]
     },
     "execution_count": 52,
     "metadata": {},
     "output_type": "execute_result"
    }
   ],
   "source": [
    "table(df_veh_theft$Weekday)"
   ]
  },
  {
   "cell_type": "code",
   "execution_count": 53,
   "metadata": {
    "collapsed": false
   },
   "outputs": [
    {
     "data": {
      "text/plain": [
       "\n",
       "    April    August  December  February   January      July      June     March \n",
       "     1252      1329      1397      1238      1435      1324      1230      1298 \n",
       "      May  November   October September \n",
       "     1187      1256      1342      1248 "
      ]
     },
     "execution_count": 53,
     "metadata": {},
     "output_type": "execute_result"
    }
   ],
   "source": [
    "table(df_veh_theft$Month)"
   ]
  },
  {
   "cell_type": "code",
   "execution_count": null,
   "metadata": {
    "collapsed": true
   },
   "outputs": [],
   "source": []
  },
  {
   "cell_type": "code",
   "execution_count": null,
   "metadata": {
    "collapsed": true
   },
   "outputs": [],
   "source": []
  },
  {
   "cell_type": "code",
   "execution_count": 57,
   "metadata": {
    "collapsed": false
   },
   "outputs": [
    {
     "data": {
      "image/png": "[encoded data removed]",
      "image/svg+xml": [
       "<?xml version=\"1.0\" encoding=\"UTF-8\"?>\n",
       "<svg xmlns=\"http://www.w3.org/2000/svg\" xmlns:xlink=\"http://www.w3.org/1999/xlink\" width=\"504pt\" height=\"504pt\" viewBox=\"0 0 504 504\" version=\"1.1\">\n",
       "<defs>\n",
       "<g>\n",
       "<symbol overflow=\"visible\" id=\"glyph0-0\">\n",
       "<path style=\"stroke:none;\" d=\"M 1.054688 0 L 1.054688 -10.308594 L 3.136719 -10.308594 L 3.136719 -6.25 L 7.214844 -6.25 L 7.214844 -10.308594 L 9.296875 -10.308594 L 9.296875 0 L 7.214844 0 L 7.214844 -4.507813 L 3.136719 -4.507813 L 3.136719 0 Z M 1.054688 0 \"/>\n",
       "</symbol>\n",
       "<symbol overflow=\"visible\" id=\"glyph0-1\">\n",
       "<path style=\"stroke:none;\" d=\"M 1.035156 -8.480469 L 1.035156 -10.308594 L 3.007813 -10.308594 L 3.007813 -8.480469 Z M 1.035156 0 L 1.035156 -7.46875 L 3.007813 -7.46875 L 3.007813 0 Z M 1.035156 0 \"/>\n",
       "</symbol>\n",
       "<symbol overflow=\"visible\" id=\"glyph0-2\">\n",
       "<path style=\"stroke:none;\" d=\"M 0.335938 -2.128906 L 2.320313 -2.433594 C 2.402344 -2.042969 2.570313 -1.75 2.832031 -1.554688 C 3.085938 -1.351563 3.449219 -1.253906 3.917969 -1.257813 C 4.425781 -1.253906 4.808594 -1.347656 5.070313 -1.539063 C 5.238281 -1.667969 5.324219 -1.84375 5.328125 -2.066406 C 5.324219 -2.214844 5.277344 -2.339844 5.1875 -2.441406 C 5.085938 -2.53125 4.867188 -2.617188 4.527344 -2.699219 C 2.929688 -3.046875 1.917969 -3.367188 1.496094 -3.664063 C 0.902344 -4.0625 0.609375 -4.625 0.613281 -5.34375 C 0.609375 -5.988281 0.863281 -6.53125 1.378906 -6.972656 C 1.886719 -7.414063 2.679688 -7.632813 3.753906 -7.636719 C 4.773438 -7.632813 5.53125 -7.46875 6.03125 -7.136719 C 6.523438 -6.800781 6.867188 -6.308594 7.058594 -5.660156 L 5.195313 -5.316406 C 5.113281 -5.601563 4.960938 -5.824219 4.742188 -5.980469 C 4.515625 -6.132813 4.199219 -6.210938 3.789063 -6.214844 C 3.265625 -6.210938 2.894531 -6.136719 2.671875 -5.996094 C 2.519531 -5.890625 2.441406 -5.757813 2.445313 -5.597656 C 2.441406 -5.453125 2.507813 -5.335938 2.644531 -5.238281 C 2.816406 -5.105469 3.433594 -4.917969 4.488281 -4.683594 C 5.539063 -4.441406 6.273438 -4.148438 6.695313 -3.804688 C 7.105469 -3.449219 7.3125 -2.960938 7.3125 -2.335938 C 7.3125 -1.648438 7.023438 -1.058594 6.453125 -0.570313 C 5.878906 -0.078125 5.035156 0.164063 3.917969 0.167969 C 2.898438 0.164063 2.09375 -0.0390625 1.5 -0.449219 C 0.90625 -0.859375 0.515625 -1.417969 0.335938 -2.128906 Z M 0.335938 -2.128906 \"/>\n",
       "</symbol>\n",
       "<symbol overflow=\"visible\" id=\"glyph0-3\">\n",
       "<path style=\"stroke:none;\" d=\"M 4.457031 -7.46875 L 4.457031 -5.890625 L 3.109375 -5.890625 L 3.109375 -2.882813 C 3.105469 -2.273438 3.117188 -1.917969 3.144531 -1.816406 C 3.167969 -1.714844 3.226563 -1.628906 3.320313 -1.566406 C 3.410156 -1.496094 3.523438 -1.464844 3.65625 -1.46875 C 3.835938 -1.464844 4.097656 -1.527344 4.449219 -1.660156 L 4.621094 -0.125 C 4.15625 0.0703125 3.636719 0.164063 3.058594 0.167969 C 2.699219 0.164063 2.375 0.105469 2.09375 -0.0117188 C 1.804688 -0.128906 1.597656 -0.28125 1.464844 -0.472656 C 1.332031 -0.660156 1.238281 -0.917969 1.1875 -1.246094 C 1.144531 -1.472656 1.125 -1.9375 1.125 -2.636719 L 1.125 -5.890625 L 0.21875 -5.890625 L 0.21875 -7.46875 L 1.125 -7.46875 L 1.125 -8.949219 L 3.109375 -10.105469 L 3.109375 -7.46875 Z M 4.457031 -7.46875 \"/>\n",
       "</symbol>\n",
       "<symbol overflow=\"visible\" id=\"glyph0-4\">\n",
       "<path style=\"stroke:none;\" d=\"M 0.578125 -3.839844 C 0.574219 -4.492188 0.734375 -5.128906 1.0625 -5.742188 C 1.382813 -6.355469 1.839844 -6.824219 2.433594 -7.148438 C 3.023438 -7.472656 3.6875 -7.632813 4.421875 -7.636719 C 5.550781 -7.632813 6.476563 -7.265625 7.199219 -6.535156 C 7.917969 -5.796875 8.277344 -4.871094 8.28125 -3.753906 C 8.277344 -2.621094 7.914063 -1.683594 7.1875 -0.945313 C 6.457031 -0.203125 5.539063 0.164063 4.4375 0.167969 C 3.75 0.164063 3.097656 0.0117188 2.476563 -0.292969 C 1.855469 -0.601563 1.382813 -1.054688 1.0625 -1.652344 C 0.734375 -2.25 0.574219 -2.976563 0.578125 -3.839844 Z M 2.601563 -3.734375 C 2.601563 -2.988281 2.777344 -2.421875 3.128906 -2.03125 C 3.480469 -1.636719 3.914063 -1.441406 4.429688 -1.441406 C 4.945313 -1.441406 5.375 -1.636719 5.726563 -2.03125 C 6.070313 -2.421875 6.246094 -2.992188 6.25 -3.746094 C 6.246094 -4.472656 6.070313 -5.035156 5.726563 -5.433594 C 5.375 -5.824219 4.945313 -6.023438 4.429688 -6.027344 C 3.914063 -6.023438 3.480469 -5.824219 3.128906 -5.433594 C 2.777344 -5.035156 2.601563 -4.46875 2.601563 -3.734375 Z M 2.601563 -3.734375 \"/>\n",
       "</symbol>\n",
       "<symbol overflow=\"visible\" id=\"glyph0-5\">\n",
       "<path style=\"stroke:none;\" d=\"M 0.851563 0.492188 L 3.109375 0.765625 C 3.144531 1.027344 3.230469 1.207031 3.367188 1.308594 C 3.550781 1.445313 3.847656 1.515625 4.253906 1.519531 C 4.769531 1.515625 5.15625 1.4375 5.414063 1.285156 C 5.585938 1.179688 5.714844 1.015625 5.808594 0.789063 C 5.863281 0.621094 5.894531 0.320313 5.898438 -0.121094 L 5.898438 -1.210938 C 5.304688 -0.402344 4.558594 0 3.664063 0 C 2.65625 0 1.863281 -0.421875 1.28125 -1.273438 C 0.816406 -1.9375 0.585938 -2.773438 0.589844 -3.777344 C 0.585938 -5.023438 0.886719 -5.980469 1.492188 -6.644531 C 2.09375 -7.304688 2.84375 -7.632813 3.742188 -7.636719 C 4.660156 -7.632813 5.421875 -7.226563 6.027344 -6.417969 L 6.027344 -7.46875 L 7.875 -7.46875 L 7.875 -0.765625 C 7.875 0.113281 7.800781 0.769531 7.65625 1.207031 C 7.507813 1.644531 7.304688 1.984375 7.042969 2.234375 C 6.78125 2.480469 6.429688 2.675781 5.992188 2.820313 C 5.550781 2.957031 4.996094 3.027344 4.332031 3.03125 C 3.0625 3.027344 2.164063 2.8125 1.636719 2.378906 C 1.105469 1.945313 0.84375 1.394531 0.84375 0.730469 C 0.84375 0.664063 0.84375 0.585938 0.851563 0.492188 Z M 2.617188 -3.886719 C 2.613281 -3.089844 2.765625 -2.511719 3.074219 -2.148438 C 3.378906 -1.777344 3.757813 -1.59375 4.210938 -1.597656 C 4.691406 -1.59375 5.097656 -1.78125 5.433594 -2.160156 C 5.761719 -2.535156 5.929688 -3.09375 5.933594 -3.839844 C 5.929688 -4.609375 5.769531 -5.183594 5.453125 -5.5625 C 5.132813 -5.933594 4.730469 -6.121094 4.246094 -6.125 C 3.769531 -6.121094 3.378906 -5.9375 3.074219 -5.570313 C 2.765625 -5.199219 2.613281 -4.636719 2.617188 -3.886719 Z M 2.617188 -3.886719 \"/>\n",
       "</symbol>\n",
       "<symbol overflow=\"visible\" id=\"glyph0-6\">\n",
       "<path style=\"stroke:none;\" d=\"M 2.925781 0 L 0.949219 0 L 0.949219 -7.46875 L 2.785156 -7.46875 L 2.785156 -6.40625 C 3.09375 -6.902344 3.375 -7.234375 3.628906 -7.394531 C 3.878906 -7.554688 4.164063 -7.632813 4.484375 -7.636719 C 4.929688 -7.632813 5.363281 -7.507813 5.785156 -7.261719 L 5.175781 -5.539063 C 4.839844 -5.75 4.53125 -5.859375 4.246094 -5.863281 C 3.96875 -5.859375 3.734375 -5.78125 3.542969 -5.632813 C 3.347656 -5.476563 3.195313 -5.203125 3.089844 -4.808594 C 2.976563 -4.40625 2.921875 -3.570313 2.925781 -2.304688 Z M 2.925781 0 \"/>\n",
       "</symbol>\n",
       "<symbol overflow=\"visible\" id=\"glyph0-7\">\n",
       "<path style=\"stroke:none;\" d=\"M 2.511719 -5.1875 L 0.71875 -5.511719 C 0.917969 -6.230469 1.265625 -6.765625 1.757813 -7.113281 C 2.25 -7.460938 2.980469 -7.632813 3.953125 -7.636719 C 4.832031 -7.632813 5.488281 -7.53125 5.917969 -7.324219 C 6.347656 -7.113281 6.648438 -6.847656 6.828125 -6.527344 C 7 -6.207031 7.089844 -5.617188 7.09375 -4.761719 L 7.074219 -2.453125 C 7.070313 -1.792969 7.101563 -1.308594 7.167969 -1 C 7.226563 -0.6875 7.347656 -0.355469 7.523438 0 L 5.570313 0 C 5.515625 -0.128906 5.453125 -0.320313 5.378906 -0.582031 C 5.34375 -0.695313 5.320313 -0.773438 5.308594 -0.816406 C 4.96875 -0.484375 4.605469 -0.238281 4.222656 -0.078125 C 3.835938 0.0859375 3.425781 0.164063 2.996094 0.167969 C 2.222656 0.164063 1.617188 -0.0429688 1.175781 -0.457031 C 0.730469 -0.871094 0.507813 -1.398438 0.511719 -2.039063 C 0.507813 -2.460938 0.609375 -2.835938 0.8125 -3.167969 C 1.011719 -3.496094 1.292969 -3.75 1.660156 -3.925781 C 2.019531 -4.101563 2.546875 -4.253906 3.234375 -4.386719 C 4.15625 -4.558594 4.792969 -4.71875 5.152344 -4.871094 L 5.152344 -5.070313 C 5.148438 -5.445313 5.054688 -5.71875 4.871094 -5.882813 C 4.679688 -6.042969 4.328125 -6.121094 3.8125 -6.125 C 3.457031 -6.121094 3.183594 -6.054688 2.988281 -5.917969 C 2.789063 -5.777344 2.628906 -5.53125 2.511719 -5.1875 Z M 5.152344 -3.585938 C 4.894531 -3.5 4.496094 -3.398438 3.949219 -3.285156 C 3.402344 -3.164063 3.042969 -3.046875 2.875 -2.9375 C 2.613281 -2.75 2.484375 -2.519531 2.488281 -2.242188 C 2.484375 -1.964844 2.585938 -1.726563 2.796875 -1.523438 C 3 -1.320313 3.265625 -1.21875 3.585938 -1.222656 C 3.941406 -1.21875 4.28125 -1.335938 4.605469 -1.574219 C 4.84375 -1.75 5 -1.96875 5.078125 -2.230469 C 5.125 -2.394531 5.148438 -2.714844 5.152344 -3.191406 Z M 5.152344 -3.585938 \"/>\n",
       "</symbol>\n",
       "<symbol overflow=\"visible\" id=\"glyph0-8\">\n",
       "<path style=\"stroke:none;\" d=\"M 0.886719 -7.46875 L 2.707031 -7.46875 L 2.707031 -6.449219 C 3.355469 -7.238281 4.128906 -7.632813 5.035156 -7.636719 C 5.507813 -7.632813 5.921875 -7.535156 6.277344 -7.339844 C 6.625 -7.140625 6.914063 -6.84375 7.144531 -6.449219 C 7.46875 -6.84375 7.824219 -7.140625 8.203125 -7.339844 C 8.582031 -7.535156 8.988281 -7.632813 9.421875 -7.636719 C 9.96875 -7.632813 10.429688 -7.523438 10.8125 -7.300781 C 11.1875 -7.078125 11.472656 -6.75 11.664063 -6.320313 C 11.796875 -6 11.863281 -5.484375 11.867188 -4.773438 L 11.867188 0 L 9.894531 0 L 9.894531 -4.269531 C 9.890625 -5.007813 9.820313 -5.484375 9.6875 -5.703125 C 9.5 -5.980469 9.21875 -6.121094 8.84375 -6.125 C 8.5625 -6.121094 8.304688 -6.039063 8.0625 -5.871094 C 7.820313 -5.699219 7.644531 -5.449219 7.535156 -5.128906 C 7.425781 -4.800781 7.371094 -4.289063 7.375 -3.585938 L 7.375 0 L 5.398438 0 L 5.398438 -4.09375 C 5.394531 -4.816406 5.359375 -5.285156 5.292969 -5.5 C 5.21875 -5.707031 5.109375 -5.863281 4.964844 -5.96875 C 4.816406 -6.070313 4.617188 -6.121094 4.367188 -6.125 C 4.058594 -6.121094 3.785156 -6.039063 3.542969 -5.878906 C 3.296875 -5.710938 3.121094 -5.476563 3.019531 -5.167969 C 2.910156 -4.855469 2.859375 -4.339844 2.863281 -3.628906 L 2.863281 0 L 0.886719 0 Z M 0.886719 -7.46875 \"/>\n",
       "</symbol>\n",
       "<symbol overflow=\"visible\" id=\"glyph0-9\">\n",
       "<path style=\"stroke:none;\" d=\"\"/>\n",
       "</symbol>\n",
       "<symbol overflow=\"visible\" id=\"glyph0-10\">\n",
       "<path style=\"stroke:none;\" d=\"M 0.167969 -7.46875 L 1.265625 -7.46875 L 1.265625 -8.03125 C 1.265625 -8.65625 1.332031 -9.125 1.464844 -9.433594 C 1.597656 -9.742188 1.84375 -9.992188 2.203125 -10.191406 C 2.5625 -10.382813 3.015625 -10.480469 3.566406 -10.484375 C 4.125 -10.480469 4.675781 -10.398438 5.21875 -10.230469 L 4.949219 -8.851563 C 4.632813 -8.925781 4.332031 -8.964844 4.042969 -8.964844 C 3.753906 -8.964844 3.546875 -8.894531 3.425781 -8.761719 C 3.300781 -8.625 3.238281 -8.371094 3.242188 -7.996094 L 3.242188 -7.46875 L 4.71875 -7.46875 L 4.71875 -5.914063 L 3.242188 -5.914063 L 3.242188 0 L 1.265625 0 L 1.265625 -5.914063 L 0.167969 -5.914063 Z M 0.167969 -7.46875 \"/>\n",
       "</symbol>\n",
       "<symbol overflow=\"visible\" id=\"glyph0-11\">\n",
       "<path style=\"stroke:none;\" d=\"M 1.039063 -10.308594 L 4.84375 -10.308594 C 5.699219 -10.304688 6.351563 -10.238281 6.804688 -10.109375 C 7.40625 -9.929688 7.925781 -9.613281 8.359375 -9.160156 C 8.789063 -8.703125 9.117188 -8.148438 9.34375 -7.492188 C 9.566406 -6.832031 9.679688 -6.019531 9.683594 -5.054688 C 9.679688 -4.203125 9.574219 -3.472656 9.367188 -2.863281 C 9.105469 -2.109375 8.738281 -1.5 8.261719 -1.039063 C 7.898438 -0.683594 7.410156 -0.410156 6.800781 -0.21875 C 6.335938 -0.0703125 5.722656 0 4.957031 0 L 1.039063 0 Z M 3.121094 -8.5625 L 3.121094 -1.738281 L 4.675781 -1.738281 C 5.253906 -1.734375 5.671875 -1.765625 5.933594 -1.835938 C 6.269531 -1.914063 6.550781 -2.058594 6.773438 -2.261719 C 6.996094 -2.464844 7.175781 -2.796875 7.320313 -3.257813 C 7.457031 -3.71875 7.527344 -4.347656 7.53125 -5.148438 C 7.527344 -5.941406 7.457031 -6.550781 7.320313 -6.980469 C 7.175781 -7.402344 6.980469 -7.738281 6.726563 -7.980469 C 6.472656 -8.21875 6.152344 -8.378906 5.765625 -8.464844 C 5.472656 -8.527344 4.902344 -8.558594 4.058594 -8.5625 Z M 3.121094 -8.5625 \"/>\n",
       "</symbol>\n",
       "<symbol overflow=\"visible\" id=\"glyph0-12\">\n",
       "<path style=\"stroke:none;\" d=\"M 10.34375 0 L 8.078125 0 L 7.179688 -2.339844 L 3.058594 -2.339844 L 2.207031 0 L 0 0 L 4.015625 -10.308594 L 6.214844 -10.308594 Z M 6.511719 -4.078125 L 5.089844 -7.902344 L 3.699219 -4.078125 Z M 6.511719 -4.078125 \"/>\n",
       "</symbol>\n",
       "<symbol overflow=\"visible\" id=\"glyph0-13\">\n",
       "<path style=\"stroke:none;\" d=\"M 3.367188 0 L 3.367188 -8.5625 L 0.308594 -8.5625 L 0.308594 -10.308594 L 8.5 -10.308594 L 8.5 -8.5625 L 5.449219 -8.5625 L 5.449219 0 Z M 3.367188 0 \"/>\n",
       "</symbol>\n",
       "<symbol overflow=\"visible\" id=\"glyph0-14\">\n",
       "<path style=\"stroke:none;\" d=\"M 3.4375 -1.527344 L 3.4375 -4.472656 C 2.515625 -4.730469 1.839844 -5.128906 1.414063 -5.664063 C 0.984375 -6.191406 0.773438 -6.835938 0.773438 -7.601563 C 0.773438 -8.367188 1.015625 -9.011719 1.5 -9.535156 C 1.984375 -10.054688 2.628906 -10.359375 3.4375 -10.441406 L 3.4375 -11.136719 L 4.457031 -11.136719 L 4.457031 -10.441406 C 5.199219 -10.351563 5.792969 -10.097656 6.234375 -9.679688 C 6.675781 -9.257813 6.957031 -8.695313 7.082031 -7.996094 L 5.300781 -7.761719 C 5.191406 -8.3125 4.910156 -8.6875 4.457031 -8.886719 L 4.457031 -6.136719 C 5.578125 -5.828125 6.34375 -5.433594 6.753906 -4.953125 C 7.160156 -4.464844 7.363281 -3.84375 7.367188 -3.085938 C 7.363281 -2.234375 7.109375 -1.519531 6.597656 -0.941406 C 6.082031 -0.359375 5.367188 -0.0078125 4.457031 0.125 L 4.457031 1.441406 L 3.4375 1.441406 L 3.4375 0.160156 C 2.625 0.0585938 1.964844 -0.238281 1.460938 -0.742188 C 0.953125 -1.246094 0.632813 -1.960938 0.492188 -2.890625 L 2.328125 -3.085938 C 2.398438 -2.707031 2.539063 -2.382813 2.75 -2.113281 C 2.953125 -1.839844 3.183594 -1.644531 3.4375 -1.527344 Z M 3.4375 -8.910156 C 3.160156 -8.8125 2.941406 -8.652344 2.777344 -8.429688 C 2.613281 -8.203125 2.53125 -7.953125 2.53125 -7.683594 C 2.53125 -7.433594 2.605469 -7.203125 2.753906 -6.992188 C 2.902344 -6.773438 3.128906 -6.601563 3.4375 -6.476563 Z M 4.457031 -1.425781 C 4.804688 -1.488281 5.089844 -1.652344 5.3125 -1.914063 C 5.53125 -2.171875 5.640625 -2.476563 5.644531 -2.832031 C 5.640625 -3.144531 5.550781 -3.417969 5.367188 -3.644531 C 5.179688 -3.871094 4.875 -4.042969 4.457031 -4.167969 Z M 4.457031 -1.425781 \"/>\n",
       "</symbol>\n",
       "<symbol overflow=\"visible\" id=\"glyph0-15\">\n",
       "<path style=\"stroke:none;\" d=\"M 5.359375 -2.375 L 7.328125 -2.046875 C 7.070313 -1.320313 6.667969 -0.773438 6.125 -0.398438 C 5.578125 -0.0234375 4.898438 0.164063 4.078125 0.167969 C 2.777344 0.164063 1.816406 -0.257813 1.195313 -1.105469 C 0.703125 -1.78125 0.457031 -2.636719 0.457031 -3.675781 C 0.457031 -4.910156 0.777344 -5.882813 1.425781 -6.585938 C 2.070313 -7.285156 2.890625 -7.632813 3.882813 -7.636719 C 4.988281 -7.632813 5.863281 -7.265625 6.507813 -6.535156 C 7.148438 -5.796875 7.457031 -4.675781 7.433594 -3.164063 L 2.480469 -3.164063 C 2.492188 -2.578125 2.652344 -2.121094 2.960938 -1.796875 C 3.261719 -1.46875 3.640625 -1.304688 4.097656 -1.308594 C 4.402344 -1.304688 4.664063 -1.390625 4.878906 -1.558594 C 5.085938 -1.726563 5.246094 -1.996094 5.359375 -2.375 Z M 5.46875 -4.375 C 5.453125 -4.941406 5.308594 -5.375 5.027344 -5.675781 C 4.746094 -5.972656 4.402344 -6.121094 4 -6.125 C 3.566406 -6.121094 3.210938 -5.964844 2.933594 -5.652344 C 2.648438 -5.335938 2.507813 -4.910156 2.515625 -4.375 Z M 5.46875 -4.375 \"/>\n",
       "</symbol>\n",
       "<symbol overflow=\"visible\" id=\"glyph1-0\">\n",
       "<path style=\"stroke:none;\" d=\"M 0.925781 0 L 0.925781 -8.589844 L 3.882813 -8.589844 C 4.550781 -8.589844 5.0625 -8.546875 5.414063 -8.46875 C 5.90625 -8.351563 6.324219 -8.148438 6.671875 -7.851563 C 7.121094 -7.46875 7.460938 -6.976563 7.6875 -6.382813 C 7.914063 -5.785156 8.027344 -5.105469 8.027344 -4.34375 C 8.027344 -3.6875 7.949219 -3.109375 7.796875 -2.605469 C 7.644531 -2.101563 7.449219 -1.683594 7.210938 -1.355469 C 6.972656 -1.019531 6.710938 -0.761719 6.429688 -0.574219 C 6.144531 -0.386719 5.804688 -0.242188 5.40625 -0.144531 C 5.003906 -0.046875 4.542969 0 4.023438 0 Z M 2.0625 -1.015625 L 3.898438 -1.015625 C 4.460938 -1.011719 4.90625 -1.066406 5.226563 -1.171875 C 5.546875 -1.273438 5.804688 -1.421875 6 -1.617188 C 6.269531 -1.886719 6.476563 -2.246094 6.628906 -2.703125 C 6.777344 -3.15625 6.855469 -3.710938 6.855469 -4.359375 C 6.855469 -5.257813 6.707031 -5.945313 6.410156 -6.429688 C 6.113281 -6.910156 5.753906 -7.234375 5.335938 -7.398438 C 5.03125 -7.515625 4.542969 -7.574219 3.867188 -7.578125 L 2.0625 -7.578125 Z M 2.0625 -1.015625 \"/>\n",
       "</symbol>\n",
       "<symbol overflow=\"visible\" id=\"glyph1-1\">\n",
       "<path style=\"stroke:none;\" d=\"M -0.015625 0 L 3.28125 -8.589844 L 4.507813 -8.589844 L 8.023438 0 L 6.726563 0 L 5.726563 -2.601563 L 2.132813 -2.601563 L 1.1875 0 Z M 2.460938 -3.527344 L 5.375 -3.527344 L 4.476563 -5.90625 C 4.203125 -6.628906 4 -7.222656 3.867188 -7.6875 C 3.757813 -7.132813 3.601563 -6.585938 3.40625 -6.046875 Z M 2.460938 -3.527344 \"/>\n",
       "</symbol>\n",
       "<symbol overflow=\"visible\" id=\"glyph1-2\">\n",
       "<path style=\"stroke:none;\" d=\"M 3.109375 0 L 3.109375 -7.578125 L 0.28125 -7.578125 L 0.28125 -8.589844 L 7.089844 -8.589844 L 7.089844 -7.578125 L 4.25 -7.578125 L 4.25 0 Z M 3.109375 0 \"/>\n",
       "</symbol>\n",
       "<symbol overflow=\"visible\" id=\"glyph1-3\">\n",
       "<path style=\"stroke:none;\" d=\"M 2.988281 1.234375 L 2.988281 0.179688 C 2.457031 0.113281 2.027344 0 1.699219 -0.171875 C 1.371094 -0.339844 1.085938 -0.617188 0.84375 -0.996094 C 0.601563 -1.371094 0.460938 -1.832031 0.429688 -2.382813 L 1.488281 -2.585938 C 1.566406 -2.015625 1.710938 -1.601563 1.921875 -1.335938 C 2.21875 -0.960938 2.574219 -0.75 2.988281 -0.710938 L 2.988281 -4.066406 C 2.550781 -4.144531 2.105469 -4.3125 1.65625 -4.570313 C 1.320313 -4.757813 1.0625 -5.015625 0.882813 -5.347656 C 0.699219 -5.679688 0.609375 -6.058594 0.609375 -6.480469 C 0.609375 -7.230469 0.875 -7.835938 1.40625 -8.304688 C 1.757813 -8.613281 2.285156 -8.804688 2.988281 -8.875 L 2.988281 -9.382813 L 3.609375 -9.382813 L 3.609375 -8.875 C 4.222656 -8.816406 4.707031 -8.636719 5.070313 -8.335938 C 5.523438 -7.953125 5.800781 -7.429688 5.898438 -6.761719 L 4.8125 -6.597656 C 4.746094 -7.011719 4.617188 -7.328125 4.421875 -7.550781 C 4.222656 -7.769531 3.953125 -7.914063 3.609375 -7.984375 L 3.609375 -4.945313 C 4.140625 -4.8125 4.492188 -4.707031 4.664063 -4.632813 C 4.992188 -4.488281 5.257813 -4.3125 5.464844 -4.105469 C 5.671875 -3.898438 5.832031 -3.652344 5.941406 -3.367188 C 6.050781 -3.082031 6.105469 -2.773438 6.109375 -2.445313 C 6.105469 -1.710938 5.875 -1.101563 5.414063 -0.613281 C 4.949219 -0.125 4.347656 0.132813 3.609375 0.171875 L 3.609375 1.234375 Z M 2.988281 -8 C 2.578125 -7.933594 2.253906 -7.769531 2.019531 -7.507813 C 1.78125 -7.238281 1.664063 -6.925781 1.664063 -6.5625 C 1.664063 -6.203125 1.761719 -5.902344 1.964844 -5.660156 C 2.160156 -5.417969 2.503906 -5.222656 2.988281 -5.078125 Z M 3.609375 -0.710938 C 4.019531 -0.757813 4.355469 -0.9375 4.625 -1.242188 C 4.890625 -1.546875 5.027344 -1.921875 5.027344 -2.375 C 5.027344 -2.75 4.929688 -3.058594 4.742188 -3.292969 C 4.550781 -3.527344 4.175781 -3.734375 3.609375 -3.921875 Z M 3.609375 -0.710938 \"/>\n",
       "</symbol>\n",
       "<symbol overflow=\"visible\" id=\"glyph1-4\">\n",
       "<path style=\"stroke:none;\" d=\"M 4.851563 -0.765625 C 4.460938 -0.433594 4.082031 -0.199219 3.722656 -0.0625 C 3.355469 0.0742188 2.96875 0.140625 2.5625 0.140625 C 1.875 0.140625 1.351563 -0.0234375 0.984375 -0.359375 C 0.617188 -0.6875 0.433594 -1.117188 0.433594 -1.640625 C 0.433594 -1.945313 0.5 -2.222656 0.640625 -2.472656 C 0.777344 -2.722656 0.960938 -2.925781 1.1875 -3.082031 C 1.410156 -3.234375 1.664063 -3.347656 1.945313 -3.429688 C 2.152344 -3.476563 2.464844 -3.53125 2.882813 -3.585938 C 3.734375 -3.6875 4.359375 -3.808594 4.765625 -3.949219 C 4.765625 -4.089844 4.769531 -4.179688 4.769531 -4.226563 C 4.769531 -4.648438 4.667969 -4.953125 4.46875 -5.132813 C 4.199219 -5.371094 3.800781 -5.488281 3.269531 -5.492188 C 2.769531 -5.488281 2.402344 -5.402344 2.167969 -5.230469 C 1.933594 -5.054688 1.757813 -4.746094 1.648438 -4.304688 L 0.617188 -4.445313 C 0.707031 -4.886719 0.863281 -5.242188 1.078125 -5.515625 C 1.289063 -5.78125 1.597656 -5.992188 2.007813 -6.140625 C 2.410156 -6.289063 2.882813 -6.363281 3.421875 -6.363281 C 3.953125 -6.363281 4.382813 -6.300781 4.714844 -6.175781 C 5.046875 -6.050781 5.292969 -5.890625 5.449219 -5.703125 C 5.605469 -5.511719 5.714844 -5.273438 5.777344 -4.984375 C 5.808594 -4.804688 5.824219 -4.480469 5.828125 -4.015625 L 5.828125 -2.609375 C 5.824219 -1.625 5.847656 -1.003906 5.894531 -0.746094 C 5.941406 -0.484375 6.03125 -0.238281 6.164063 0 L 5.0625 0 C 4.953125 -0.21875 4.882813 -0.472656 4.851563 -0.765625 Z M 4.765625 -3.125 C 4.375 -2.964844 3.800781 -2.832031 3.039063 -2.726563 C 2.605469 -2.660156 2.300781 -2.589844 2.121094 -2.515625 C 1.941406 -2.433594 1.800781 -2.320313 1.703125 -2.171875 C 1.605469 -2.019531 1.558594 -1.851563 1.558594 -1.671875 C 1.558594 -1.386719 1.664063 -1.152344 1.875 -0.96875 C 2.085938 -0.777344 2.398438 -0.683594 2.8125 -0.6875 C 3.21875 -0.683594 3.578125 -0.773438 3.894531 -0.953125 C 4.210938 -1.128906 4.445313 -1.371094 4.59375 -1.679688 C 4.707031 -1.917969 4.761719 -2.269531 4.765625 -2.734375 Z M 4.765625 -3.125 \"/>\n",
       "</symbol>\n",
       "<symbol overflow=\"visible\" id=\"glyph1-5\">\n",
       "<path style=\"stroke:none;\" d=\"M 3.09375 -0.945313 L 3.246094 -0.0117188 C 2.949219 0.0507813 2.683594 0.0820313 2.449219 0.0820313 C 2.066406 0.0820313 1.769531 0.0234375 1.558594 -0.0976563 C 1.347656 -0.21875 1.199219 -0.378906 1.113281 -0.578125 C 1.027344 -0.773438 0.984375 -1.1875 0.984375 -1.820313 L 0.984375 -5.402344 L 0.210938 -5.402344 L 0.210938 -6.222656 L 0.984375 -6.222656 L 0.984375 -7.765625 L 2.03125 -8.398438 L 2.03125 -6.222656 L 3.09375 -6.222656 L 3.09375 -5.402344 L 2.03125 -5.402344 L 2.03125 -1.765625 C 2.027344 -1.460938 2.046875 -1.269531 2.085938 -1.183594 C 2.125 -1.097656 2.183594 -1.027344 2.269531 -0.976563 C 2.351563 -0.925781 2.472656 -0.902344 2.632813 -0.902344 C 2.742188 -0.902344 2.898438 -0.914063 3.09375 -0.945313 Z M 3.09375 -0.945313 \"/>\n",
       "</symbol>\n",
       "<symbol overflow=\"visible\" id=\"glyph1-6\">\n",
       "<path style=\"stroke:none;\" d=\"M 5.050781 -2.003906 L 6.140625 -1.867188 C 5.96875 -1.230469 5.648438 -0.738281 5.183594 -0.386719 C 4.71875 -0.0351563 4.125 0.140625 3.40625 0.140625 C 2.492188 0.140625 1.769531 -0.136719 1.238281 -0.699219 C 0.699219 -1.253906 0.433594 -2.042969 0.4375 -3.058594 C 0.433594 -4.105469 0.703125 -4.917969 1.246094 -5.496094 C 1.78125 -6.074219 2.480469 -6.363281 3.34375 -6.363281 C 4.175781 -6.363281 4.855469 -6.078125 5.382813 -5.511719 C 5.910156 -4.945313 6.175781 -4.148438 6.175781 -3.125 C 6.175781 -3.058594 6.171875 -2.964844 6.171875 -2.84375 L 1.53125 -2.84375 C 1.5625 -2.15625 1.757813 -1.632813 2.109375 -1.269531 C 2.457031 -0.90625 2.890625 -0.726563 3.410156 -0.726563 C 3.796875 -0.726563 4.125 -0.828125 4.402344 -1.03125 C 4.671875 -1.234375 4.890625 -1.558594 5.050781 -2.003906 Z M 1.585938 -3.710938 L 5.0625 -3.710938 C 5.015625 -4.226563 4.882813 -4.621094 4.664063 -4.886719 C 4.328125 -5.292969 3.890625 -5.496094 3.359375 -5.496094 C 2.871094 -5.496094 2.464844 -5.332031 2.136719 -5.007813 C 1.804688 -4.683594 1.621094 -4.25 1.585938 -3.710938 Z M 1.585938 -3.710938 \"/>\n",
       "</symbol>\n",
       "<symbol overflow=\"visible\" id=\"glyph1-7\">\n",
       "<path style=\"stroke:none;\" d=\"M 6.039063 -1.015625 L 6.039063 0 L 0.363281 0 C 0.355469 -0.253906 0.394531 -0.496094 0.484375 -0.734375 C 0.628906 -1.117188 0.859375 -1.5 1.179688 -1.875 C 1.492188 -2.25 1.953125 -2.683594 2.5625 -3.175781 C 3.492188 -3.941406 4.125 -4.546875 4.453125 -4.992188 C 4.78125 -5.4375 4.945313 -5.859375 4.945313 -6.265625 C 4.945313 -6.679688 4.792969 -7.03125 4.496094 -7.320313 C 4.191406 -7.601563 3.804688 -7.746094 3.328125 -7.75 C 2.820313 -7.746094 2.414063 -7.59375 2.109375 -7.292969 C 1.804688 -6.984375 1.648438 -6.5625 1.648438 -6.03125 L 0.5625 -6.140625 C 0.632813 -6.945313 0.910156 -7.558594 1.398438 -7.988281 C 1.878906 -8.410156 2.53125 -8.625 3.351563 -8.625 C 4.171875 -8.625 4.824219 -8.394531 5.308594 -7.9375 C 5.789063 -7.480469 6.027344 -6.914063 6.03125 -6.242188 C 6.027344 -5.894531 5.957031 -5.558594 5.820313 -5.226563 C 5.675781 -4.890625 5.441406 -4.539063 5.117188 -4.175781 C 4.789063 -3.804688 4.25 -3.300781 3.492188 -2.664063 C 2.859375 -2.128906 2.453125 -1.769531 2.273438 -1.582031 C 2.09375 -1.394531 1.945313 -1.203125 1.828125 -1.015625 Z M 6.039063 -1.015625 \"/>\n",
       "</symbol>\n",
       "<symbol overflow=\"visible\" id=\"glyph1-8\">\n",
       "<path style=\"stroke:none;\" d=\"M 0.5 -4.234375 C 0.496094 -5.246094 0.601563 -6.0625 0.8125 -6.6875 C 1.019531 -7.304688 1.328125 -7.785156 1.742188 -8.121094 C 2.148438 -8.457031 2.667969 -8.625 3.296875 -8.625 C 3.757813 -8.625 4.164063 -8.53125 4.511719 -8.347656 C 4.855469 -8.160156 5.140625 -7.890625 5.371094 -7.542969 C 5.59375 -7.191406 5.773438 -6.765625 5.90625 -6.265625 C 6.035156 -5.761719 6.097656 -5.085938 6.101563 -4.234375 C 6.097656 -3.226563 5.996094 -2.414063 5.789063 -1.796875 C 5.578125 -1.175781 5.265625 -0.695313 4.859375 -0.359375 C 4.445313 -0.0195313 3.925781 0.144531 3.296875 0.148438 C 2.464844 0.144531 1.816406 -0.148438 1.347656 -0.742188 C 0.78125 -1.457031 0.496094 -2.621094 0.5 -4.234375 Z M 1.582031 -4.234375 C 1.582031 -2.824219 1.746094 -1.886719 2.074219 -1.417969 C 2.402344 -0.949219 2.808594 -0.714844 3.296875 -0.71875 C 3.777344 -0.714844 4.183594 -0.949219 4.519531 -1.421875 C 4.847656 -1.886719 5.015625 -2.824219 5.015625 -4.234375 C 5.015625 -5.648438 4.847656 -6.589844 4.519531 -7.054688 C 4.183594 -7.515625 3.773438 -7.746094 3.289063 -7.75 C 2.800781 -7.746094 2.414063 -7.542969 2.125 -7.136719 C 1.761719 -6.613281 1.582031 -5.644531 1.582031 -4.234375 Z M 1.582031 -4.234375 \"/>\n",
       "</symbol>\n",
       "<symbol overflow=\"visible\" id=\"glyph1-9\">\n",
       "<path style=\"stroke:none;\" d=\"M 0.503906 -2.265625 L 1.558594 -2.40625 C 1.679688 -1.808594 1.882813 -1.378906 2.175781 -1.113281 C 2.464844 -0.847656 2.820313 -0.714844 3.242188 -0.71875 C 3.734375 -0.714844 4.152344 -0.886719 4.496094 -1.234375 C 4.832031 -1.574219 5.003906 -2 5.007813 -2.515625 C 5.003906 -2.996094 4.847656 -3.394531 4.535156 -3.710938 C 4.21875 -4.023438 3.816406 -4.183594 3.328125 -4.183594 C 3.128906 -4.183594 2.878906 -4.144531 2.585938 -4.066406 L 2.703125 -4.992188 C 2.765625 -4.984375 2.824219 -4.980469 2.871094 -4.980469 C 3.320313 -4.980469 3.722656 -5.097656 4.085938 -5.332031 C 4.441406 -5.566406 4.621094 -5.925781 4.625 -6.414063 C 4.621094 -6.800781 4.492188 -7.121094 4.230469 -7.375 C 3.964844 -7.628906 3.625 -7.757813 3.21875 -7.757813 C 2.804688 -7.757813 2.464844 -7.628906 2.191406 -7.371094 C 1.917969 -7.113281 1.742188 -6.726563 1.664063 -6.210938 L 0.609375 -6.398438 C 0.738281 -7.105469 1.03125 -7.652344 1.488281 -8.042969 C 1.941406 -8.429688 2.507813 -8.625 3.195313 -8.625 C 3.660156 -8.625 4.09375 -8.523438 4.488281 -8.324219 C 4.878906 -8.121094 5.179688 -7.847656 5.390625 -7.5 C 5.601563 -7.148438 5.707031 -6.777344 5.707031 -6.390625 C 5.707031 -6.019531 5.605469 -5.683594 5.40625 -5.378906 C 5.207031 -5.074219 4.914063 -4.832031 4.523438 -4.652344 C 5.03125 -4.535156 5.425781 -4.289063 5.707031 -3.921875 C 5.988281 -3.546875 6.128906 -3.085938 6.128906 -2.539063 C 6.128906 -1.785156 5.855469 -1.148438 5.308594 -0.628906 C 4.761719 -0.105469 4.070313 0.152344 3.234375 0.152344 C 2.476563 0.152344 1.847656 -0.0703125 1.355469 -0.519531 C 0.855469 -0.96875 0.574219 -1.550781 0.503906 -2.265625 Z M 0.503906 -2.265625 \"/>\n",
       "</symbol>\n",
       "<symbol overflow=\"visible\" id=\"glyph1-10\">\n",
       "<path style=\"stroke:none;\" d=\"M 3.878906 0 L 3.878906 -2.054688 L 0.152344 -2.054688 L 0.152344 -3.023438 L 4.070313 -8.589844 L 4.933594 -8.589844 L 4.933594 -3.023438 L 6.09375 -3.023438 L 6.09375 -2.054688 L 4.933594 -2.054688 L 4.933594 0 Z M 3.878906 -3.023438 L 3.878906 -6.898438 L 1.1875 -3.023438 Z M 3.878906 -3.023438 \"/>\n",
       "</symbol>\n",
       "<symbol overflow=\"visible\" id=\"glyph1-11\">\n",
       "<path style=\"stroke:none;\" d=\"M 0.5 -2.25 L 1.605469 -2.34375 C 1.683594 -1.804688 1.871094 -1.398438 2.175781 -1.125 C 2.472656 -0.851563 2.835938 -0.714844 3.257813 -0.71875 C 3.765625 -0.714844 4.195313 -0.90625 4.546875 -1.292969 C 4.898438 -1.671875 5.074219 -2.179688 5.074219 -2.820313 C 5.074219 -3.414063 4.902344 -3.890625 4.566406 -4.242188 C 4.226563 -4.589844 3.785156 -4.761719 3.242188 -4.765625 C 2.898438 -4.761719 2.59375 -4.683594 2.320313 -4.53125 C 2.046875 -4.375 1.832031 -4.175781 1.675781 -3.929688 L 0.6875 -4.0625 L 1.515625 -8.472656 L 5.789063 -8.472656 L 5.789063 -7.464844 L 2.359375 -7.464844 L 1.898438 -5.15625 C 2.414063 -5.515625 2.953125 -5.695313 3.523438 -5.695313 C 4.269531 -5.695313 4.902344 -5.433594 5.421875 -4.914063 C 5.933594 -4.394531 6.191406 -3.726563 6.195313 -2.914063 C 6.191406 -2.132813 5.964844 -1.460938 5.515625 -0.898438 C 4.960938 -0.199219 4.210938 0.144531 3.257813 0.148438 C 2.476563 0.144531 1.835938 -0.0703125 1.34375 -0.507813 C 0.84375 -0.941406 0.5625 -1.523438 0.5 -2.25 Z M 0.5 -2.25 \"/>\n",
       "</symbol>\n",
       "<symbol overflow=\"visible\" id=\"glyph1-12\">\n",
       "<path style=\"stroke:none;\" d=\"M 0.570313 -7.464844 L 0.570313 -8.476563 L 6.128906 -8.476563 L 6.128906 -7.65625 C 5.582031 -7.074219 5.039063 -6.300781 4.5 -5.335938 C 3.960938 -4.371094 3.546875 -3.378906 3.257813 -2.359375 C 3.046875 -1.636719 2.910156 -0.851563 2.851563 0 L 1.769531 0 C 1.78125 -0.675781 1.914063 -1.492188 2.167969 -2.449219 C 2.417969 -3.402344 2.78125 -4.324219 3.257813 -5.214844 C 3.734375 -6.105469 4.238281 -6.855469 4.773438 -7.464844 Z M 0.570313 -7.464844 \"/>\n",
       "</symbol>\n",
       "<symbol overflow=\"visible\" id=\"glyph1-13\">\n",
       "<path style=\"stroke:none;\" d=\"M 2.121094 -4.65625 C 1.683594 -4.816406 1.359375 -5.046875 1.148438 -5.34375 C 0.9375 -5.640625 0.832031 -5.996094 0.832031 -6.410156 C 0.832031 -7.035156 1.054688 -7.558594 1.503906 -7.984375 C 1.953125 -8.410156 2.550781 -8.625 3.296875 -8.625 C 4.042969 -8.625 4.648438 -8.40625 5.109375 -7.972656 C 5.566406 -7.535156 5.792969 -7.003906 5.796875 -6.382813 C 5.792969 -5.976563 5.6875 -5.628906 5.480469 -5.339844 C 5.269531 -5.042969 4.953125 -4.816406 4.53125 -4.65625 C 5.054688 -4.480469 5.457031 -4.203125 5.734375 -3.824219 C 6.007813 -3.4375 6.144531 -2.980469 6.148438 -2.453125 C 6.144531 -1.714844 5.886719 -1.097656 5.367188 -0.601563 C 4.84375 -0.101563 4.160156 0.144531 3.316406 0.148438 C 2.46875 0.144531 1.785156 -0.101563 1.265625 -0.605469 C 0.742188 -1.105469 0.480469 -1.734375 0.484375 -2.484375 C 0.480469 -3.039063 0.621094 -3.503906 0.910156 -3.886719 C 1.191406 -4.261719 1.597656 -4.519531 2.121094 -4.65625 Z M 1.910156 -6.445313 C 1.910156 -6.039063 2.039063 -5.707031 2.300781 -5.449219 C 2.5625 -5.191406 2.902344 -5.0625 3.320313 -5.0625 C 3.722656 -5.0625 4.054688 -5.1875 4.320313 -5.445313 C 4.578125 -5.695313 4.710938 -6.011719 4.710938 -6.386719 C 4.710938 -6.773438 4.574219 -7.097656 4.308594 -7.363281 C 4.035156 -7.625 3.703125 -7.757813 3.3125 -7.757813 C 2.90625 -7.757813 2.574219 -7.628906 2.308594 -7.371094 C 2.042969 -7.113281 1.910156 -6.804688 1.910156 -6.445313 Z M 1.570313 -2.476563 C 1.570313 -2.175781 1.640625 -1.886719 1.785156 -1.605469 C 1.925781 -1.324219 2.136719 -1.105469 2.421875 -0.949219 C 2.699219 -0.792969 3.003906 -0.714844 3.328125 -0.71875 C 3.832031 -0.714844 4.246094 -0.878906 4.578125 -1.207031 C 4.902344 -1.53125 5.066406 -1.941406 5.070313 -2.445313 C 5.066406 -2.945313 4.898438 -3.367188 4.5625 -3.703125 C 4.222656 -4.035156 3.800781 -4.199219 3.292969 -4.203125 C 2.792969 -4.199219 2.378906 -4.035156 2.058594 -3.710938 C 1.730469 -3.378906 1.570313 -2.96875 1.570313 -2.476563 Z M 1.570313 -2.476563 \"/>\n",
       "</symbol>\n",
       "<symbol overflow=\"visible\" id=\"glyph1-14\">\n",
       "<path style=\"stroke:none;\" d=\"M 0.65625 -1.984375 L 1.671875 -2.078125 C 1.75 -1.601563 1.914063 -1.257813 2.160156 -1.042969 C 2.398438 -0.824219 2.710938 -0.714844 3.09375 -0.71875 C 3.414063 -0.714844 3.695313 -0.789063 3.945313 -0.941406 C 4.1875 -1.085938 4.390625 -1.285156 4.546875 -1.535156 C 4.703125 -1.785156 4.832031 -2.121094 4.9375 -2.542969 C 5.042969 -2.964844 5.097656 -3.394531 5.097656 -3.832031 C 5.097656 -3.878906 5.09375 -3.949219 5.09375 -4.042969 C 4.875 -3.707031 4.585938 -3.433594 4.226563 -3.226563 C 3.859375 -3.015625 3.464844 -2.910156 3.039063 -2.914063 C 2.328125 -2.910156 1.726563 -3.167969 1.238281 -3.6875 C 0.742188 -4.199219 0.496094 -4.878906 0.5 -5.726563 C 0.496094 -6.59375 0.753906 -7.296875 1.269531 -7.828125 C 1.78125 -8.359375 2.425781 -8.625 3.199219 -8.625 C 3.757813 -8.625 4.265625 -8.472656 4.730469 -8.171875 C 5.191406 -7.871094 5.542969 -7.441406 5.785156 -6.886719 C 6.023438 -6.328125 6.144531 -5.523438 6.148438 -4.46875 C 6.144531 -3.371094 6.027344 -2.496094 5.789063 -1.847656 C 5.546875 -1.195313 5.191406 -0.703125 4.722656 -0.363281 C 4.253906 -0.0234375 3.703125 0.144531 3.070313 0.148438 C 2.398438 0.144531 1.847656 -0.0390625 1.421875 -0.410156 C 0.996094 -0.785156 0.742188 -1.308594 0.65625 -1.984375 Z M 4.976563 -5.777344 C 4.972656 -6.382813 4.8125 -6.863281 4.492188 -7.21875 C 4.167969 -7.570313 3.78125 -7.746094 3.328125 -7.75 C 2.859375 -7.746094 2.449219 -7.554688 2.101563 -7.175781 C 1.753906 -6.789063 1.582031 -6.292969 1.582031 -5.6875 C 1.582031 -5.136719 1.746094 -4.691406 2.074219 -4.355469 C 2.402344 -4.011719 2.808594 -3.84375 3.296875 -3.84375 C 3.785156 -3.84375 4.1875 -4.011719 4.503906 -4.355469 C 4.816406 -4.691406 4.972656 -5.167969 4.976563 -5.777344 Z M 4.976563 -5.777344 \"/>\n",
       "</symbol>\n",
       "<symbol overflow=\"visible\" id=\"glyph1-15\">\n",
       "<path style=\"stroke:none;\" d=\"M 4.46875 0 L 3.414063 0 L 3.414063 -6.71875 C 3.160156 -6.476563 2.828125 -6.234375 2.414063 -5.996094 C 2 -5.75 1.628906 -5.570313 1.304688 -5.449219 L 1.304688 -6.46875 C 1.894531 -6.742188 2.410156 -7.078125 2.851563 -7.476563 C 3.292969 -7.871094 3.605469 -8.253906 3.789063 -8.625 L 4.46875 -8.625 Z M 4.46875 0 \"/>\n",
       "</symbol>\n",
       "<symbol overflow=\"visible\" id=\"glyph2-0\">\n",
       "<path style=\"stroke:none;\" d=\"M 0 -0.925781 L -8.589844 -0.925781 L -8.589844 -3.886719 C -8.589844 -4.550781 -8.546875 -5.0625 -8.46875 -5.414063 C -8.351563 -5.90625 -8.148438 -6.324219 -7.851563 -6.675781 C -7.46875 -7.125 -6.976563 -7.464844 -6.382813 -7.691406 C -5.78125 -7.914063 -5.101563 -8.027344 -4.339844 -8.027344 C -3.6875 -8.027344 -3.109375 -7.949219 -2.605469 -7.796875 C -2.101563 -7.644531 -1.683594 -7.449219 -1.355469 -7.210938 C -1.019531 -6.972656 -0.761719 -6.710938 -0.574219 -6.429688 C -0.386719 -6.144531 -0.242188 -5.804688 -0.144531 -5.40625 C -0.046875 -5.003906 0 -4.542969 0 -4.023438 Z M -1.011719 -2.0625 L -1.011719 -3.898438 C -1.007813 -4.460938 -1.058594 -4.90625 -1.167969 -5.226563 C -1.269531 -5.546875 -1.421875 -5.804688 -1.617188 -6 C -1.882813 -6.269531 -2.242188 -6.476563 -2.703125 -6.628906 C -3.15625 -6.777344 -3.710938 -6.855469 -4.359375 -6.855469 C -5.257813 -6.855469 -5.945313 -6.707031 -6.429688 -6.410156 C -6.910156 -6.113281 -7.234375 -5.753906 -7.398438 -5.339844 C -7.515625 -5.03125 -7.574219 -4.542969 -7.578125 -3.867188 L -7.578125 -2.0625 Z M -1.011719 -2.0625 \"/>\n",
       "</symbol>\n",
       "<symbol overflow=\"visible\" id=\"glyph2-1\">\n",
       "<path style=\"stroke:none;\" d=\"M -2.003906 -5.050781 L -1.867188 -6.140625 C -1.230469 -5.96875 -0.738281 -5.648438 -0.386719 -5.183594 C -0.0351563 -4.71875 0.140625 -4.125 0.140625 -3.40625 C 0.140625 -2.492188 -0.136719 -1.769531 -0.699219 -1.238281 C -1.253906 -0.703125 -2.042969 -0.4375 -3.058594 -0.441406 C -4.105469 -0.4375 -4.917969 -0.707031 -5.496094 -1.25 C -6.074219 -1.785156 -6.363281 -2.484375 -6.363281 -3.347656 C -6.363281 -4.175781 -6.078125 -4.855469 -5.511719 -5.382813 C -4.945313 -5.910156 -4.148438 -6.175781 -3.121094 -6.175781 C -3.054688 -6.175781 -2.960938 -6.171875 -2.839844 -6.171875 L -2.84375 -1.53125 C -2.15625 -1.566406 -1.632813 -1.761719 -1.269531 -2.109375 C -0.90625 -2.457031 -0.726563 -2.890625 -0.726563 -3.410156 C -0.726563 -3.796875 -0.828125 -4.125 -1.03125 -4.402344 C -1.234375 -4.671875 -1.558594 -4.890625 -2.003906 -5.050781 Z M -3.710938 -1.589844 L -3.707031 -5.0625 C -4.226563 -5.015625 -4.621094 -4.882813 -4.886719 -4.664063 C -5.292969 -4.328125 -5.496094 -3.890625 -5.496094 -3.359375 C -5.496094 -2.871094 -5.332031 -2.464844 -5.007813 -2.136719 C -4.683594 -1.804688 -4.25 -1.621094 -3.710938 -1.589844 Z M -3.710938 -1.589844 \"/>\n",
       "</symbol>\n",
       "<symbol overflow=\"visible\" id=\"glyph2-2\">\n",
       "<path style=\"stroke:none;\" d=\"M 0 -0.789063 L -6.222656 -0.792969 L -6.222656 -1.742188 L -5.335938 -1.742188 C -6.019531 -2.195313 -6.363281 -2.855469 -6.363281 -3.722656 C -6.363281 -4.089844 -6.292969 -4.433594 -6.160156 -4.753906 C -6.023438 -5.066406 -5.847656 -5.304688 -5.632813 -5.460938 C -5.410156 -5.617188 -5.152344 -5.726563 -4.851563 -5.789063 C -4.65625 -5.828125 -4.3125 -5.847656 -3.824219 -5.847656 L 0 -5.847656 L 0 -4.792969 L -3.785156 -4.792969 C -4.214844 -4.792969 -4.535156 -4.75 -4.75 -4.667969 C -4.960938 -4.585938 -5.128906 -4.441406 -5.257813 -4.234375 C -5.382813 -4.023438 -5.449219 -3.777344 -5.449219 -3.5 C -5.449219 -3.046875 -5.304688 -2.660156 -5.019531 -2.335938 C -4.734375 -2.007813 -4.195313 -1.84375 -3.398438 -1.847656 L 0 -1.84375 Z M 0 -0.789063 \"/>\n",
       "</symbol>\n",
       "<symbol overflow=\"visible\" id=\"glyph2-3\">\n",
       "<path style=\"stroke:none;\" d=\"M -1.859375 -0.371094 L -2.023438 -1.414063 C -1.601563 -1.46875 -1.28125 -1.632813 -1.058594 -1.902344 C -0.835938 -2.167969 -0.726563 -2.542969 -0.726563 -3.023438 C -0.726563 -3.507813 -0.824219 -3.867188 -1.019531 -4.101563 C -1.214844 -4.335938 -1.445313 -4.453125 -1.714844 -4.453125 C -1.953125 -4.453125 -2.140625 -4.347656 -2.277344 -4.140625 C -2.367188 -3.996094 -2.488281 -3.636719 -2.636719 -3.0625 C -2.832031 -2.289063 -3 -1.753906 -3.144531 -1.457031 C -3.285156 -1.15625 -3.480469 -0.929688 -3.734375 -0.777344 C -3.984375 -0.621094 -4.265625 -0.542969 -4.570313 -0.546875 C -4.84375 -0.542969 -5.097656 -0.605469 -5.339844 -0.734375 C -5.574219 -0.859375 -5.773438 -1.035156 -5.929688 -1.253906 C -6.046875 -1.417969 -6.148438 -1.640625 -6.234375 -1.925781 C -6.320313 -2.207031 -6.363281 -2.511719 -6.363281 -2.835938 C -6.363281 -3.324219 -6.292969 -3.75 -6.152344 -4.121094 C -6.011719 -4.488281 -5.820313 -4.761719 -5.578125 -4.9375 C -5.335938 -5.113281 -5.015625 -5.234375 -4.617188 -5.304688 L -4.476563 -4.273438 C -4.796875 -4.222656 -5.046875 -4.085938 -5.226563 -3.863281 C -5.40625 -3.636719 -5.496094 -3.320313 -5.496094 -2.914063 C -5.496094 -2.425781 -5.414063 -2.082031 -5.253906 -1.875 C -5.09375 -1.667969 -4.90625 -1.5625 -4.695313 -1.566406 C -4.554688 -1.5625 -4.433594 -1.605469 -4.324219 -1.695313 C -4.210938 -1.777344 -4.117188 -1.914063 -4.042969 -2.097656 C -4.003906 -2.203125 -3.914063 -2.511719 -3.773438 -3.03125 C -3.570313 -3.773438 -3.40625 -4.292969 -3.28125 -4.589844 C -3.15625 -4.878906 -2.972656 -5.113281 -2.730469 -5.285156 C -2.488281 -5.453125 -2.1875 -5.535156 -1.828125 -5.539063 C -1.476563 -5.535156 -1.144531 -5.433594 -0.832031 -5.230469 C -0.519531 -5.023438 -0.277344 -4.726563 -0.113281 -4.339844 C 0.0585938 -3.953125 0.140625 -3.515625 0.140625 -3.03125 C 0.140625 -2.21875 -0.0273438 -1.601563 -0.363281 -1.179688 C -0.699219 -0.753906 -1.195313 -0.484375 -1.859375 -0.371094 Z M -1.859375 -0.371094 \"/>\n",
       "</symbol>\n",
       "<symbol overflow=\"visible\" id=\"glyph2-4\">\n",
       "<path style=\"stroke:none;\" d=\"M -7.375 -0.796875 L -8.589844 -0.796875 L -8.589844 -1.851563 L -7.375 -1.851563 Z M 0 -0.796875 L -6.222656 -0.796875 L -6.222656 -1.851563 L 0 -1.851563 Z M 0 -0.796875 \"/>\n",
       "</symbol>\n",
       "<symbol overflow=\"visible\" id=\"glyph2-5\">\n",
       "<path style=\"stroke:none;\" d=\"M -0.941406 -3.09375 L -0.0117188 -3.246094 C 0.0507813 -2.949219 0.0820313 -2.683594 0.0820313 -2.449219 C 0.0820313 -2.066406 0.0234375 -1.769531 -0.0976563 -1.558594 C -0.21875 -1.347656 -0.378906 -1.199219 -0.574219 -1.113281 C -0.769531 -1.027344 -1.183594 -0.984375 -1.820313 -0.984375 L -5.402344 -0.984375 L -5.402344 -0.210938 L -6.222656 -0.210938 L -6.222656 -0.984375 L -7.765625 -0.984375 L -8.398438 -2.035156 L -6.222656 -2.035156 L -6.222656 -3.09375 L -5.402344 -3.09375 L -5.402344 -2.035156 L -1.761719 -2.03125 C -1.460938 -2.027344 -1.269531 -2.046875 -1.183594 -2.085938 C -1.097656 -2.125 -1.027344 -2.183594 -0.976563 -2.269531 C -0.925781 -2.351563 -0.902344 -2.472656 -0.902344 -2.632813 C -0.902344 -2.742188 -0.914063 -2.898438 -0.941406 -3.09375 Z M -0.941406 -3.09375 \"/>\n",
       "</symbol>\n",
       "<symbol overflow=\"visible\" id=\"glyph2-6\">\n",
       "<path style=\"stroke:none;\" d=\"M 2.398438 -0.742188 L 1.40625 -0.625 C 1.46875 -0.855469 1.5 -1.058594 1.5 -1.230469 C 1.5 -1.464844 1.460938 -1.652344 1.382813 -1.792969 C 1.304688 -1.933594 1.195313 -2.046875 1.054688 -2.140625 C 0.949219 -2.203125 0.6875 -2.3125 0.269531 -2.460938 C 0.210938 -2.480469 0.125 -2.511719 0.0117188 -2.554688 L -6.222656 -0.195313 L -6.222656 -1.332031 L -2.617188 -2.625 C -2.160156 -2.789063 -1.679688 -2.9375 -1.175781 -3.078125 C -1.65625 -3.195313 -2.128906 -3.339844 -2.59375 -3.507813 L -6.222656 -4.839844 L -6.222656 -5.894531 L 0.105469 -3.527344 C 0.789063 -3.273438 1.257813 -3.074219 1.519531 -2.9375 C 1.863281 -2.746094 2.117188 -2.53125 2.28125 -2.289063 C 2.4375 -2.042969 2.519531 -1.753906 2.523438 -1.421875 C 2.519531 -1.214844 2.476563 -0.988281 2.398438 -0.742188 Z M 2.398438 -0.742188 \"/>\n",
       "</symbol>\n",
       "<symbol overflow=\"visible\" id=\"glyph2-7\">\n",
       "<path style=\"stroke:none;\" d=\"M -4.234375 -0.5 C -5.246094 -0.496094 -6.0625 -0.601563 -6.6875 -0.8125 C -7.304688 -1.019531 -7.785156 -1.328125 -8.121094 -1.742188 C -8.457031 -2.152344 -8.625 -2.671875 -8.625 -3.300781 C -8.625 -3.757813 -8.53125 -4.164063 -8.347656 -4.511719 C -8.160156 -4.859375 -7.890625 -5.144531 -7.542969 -5.371094 C -7.191406 -5.59375 -6.765625 -5.773438 -6.265625 -5.90625 C -5.761719 -6.035156 -5.085938 -6.097656 -4.234375 -6.101563 C -3.222656 -6.097656 -2.410156 -5.996094 -1.792969 -5.789063 C -1.175781 -5.578125 -0.695313 -5.265625 -0.359375 -4.859375 C -0.0195313 -4.445313 0.144531 -3.925781 0.148438 -3.296875 C 0.144531 -2.464844 -0.148438 -1.816406 -0.742188 -1.347656 C -1.457031 -0.78125 -2.621094 -0.496094 -4.234375 -0.5 Z M -4.234375 -1.582031 C -2.824219 -1.582031 -1.886719 -1.746094 -1.417969 -2.074219 C -0.949219 -2.402344 -0.714844 -2.808594 -0.71875 -3.296875 C -0.714844 -3.777344 -0.949219 -4.183594 -1.421875 -4.519531 C -1.886719 -4.847656 -2.824219 -5.015625 -4.234375 -5.015625 C -5.648438 -5.015625 -6.589844 -4.847656 -7.054688 -4.519531 C -7.515625 -4.1875 -7.746094 -3.777344 -7.75 -3.289063 C -7.746094 -2.800781 -7.542969 -2.414063 -7.136719 -2.128906 C -6.613281 -1.761719 -5.644531 -1.582031 -4.234375 -1.582031 Z M -4.234375 -1.582031 \"/>\n",
       "</symbol>\n",
       "<symbol overflow=\"visible\" id=\"glyph2-8\">\n",
       "<path style=\"stroke:none;\" d=\"M 0 -1.089844 L -1.203125 -1.089844 L -1.199219 -2.289063 L 0 -2.289063 Z M 0 -1.089844 \"/>\n",
       "</symbol>\n",
       "<symbol overflow=\"visible\" id=\"glyph2-9\">\n",
       "<path style=\"stroke:none;\" d=\"M 0 -4.46875 L 0 -3.414063 L -6.71875 -3.417969 C -6.476563 -3.160156 -6.234375 -2.828125 -5.996094 -2.417969 C -5.75 -2.003906 -5.570313 -1.632813 -5.449219 -1.308594 L -6.46875 -1.308594 C -6.742188 -1.894531 -7.078125 -2.410156 -7.476563 -2.851563 C -7.871094 -3.292969 -8.253906 -3.605469 -8.625 -3.792969 L -8.625 -4.472656 Z M 0 -4.46875 \"/>\n",
       "</symbol>\n",
       "<symbol overflow=\"visible\" id=\"glyph2-10\">\n",
       "<path style=\"stroke:none;\" d=\"M -1.011719 -6.039063 L 0 -6.039063 L 0 -0.363281 C -0.253906 -0.355469 -0.496094 -0.394531 -0.734375 -0.488281 C -1.117188 -0.628906 -1.5 -0.859375 -1.875 -1.179688 C -2.25 -1.496094 -2.683594 -1.957031 -3.175781 -2.5625 C -3.941406 -3.492188 -4.546875 -4.125 -4.992188 -4.453125 C -5.4375 -4.78125 -5.859375 -4.945313 -6.265625 -4.945313 C -6.679688 -4.945313 -7.03125 -4.792969 -7.320313 -4.496094 C -7.601563 -4.195313 -7.746094 -3.808594 -7.75 -3.328125 C -7.746094 -2.820313 -7.59375 -2.414063 -7.292969 -2.109375 C -6.984375 -1.804688 -6.5625 -1.648438 -6.03125 -1.648438 L -6.140625 -0.5625 C -6.945313 -0.636719 -7.558594 -0.914063 -7.988281 -1.402344 C -8.410156 -1.882813 -8.625 -2.535156 -8.625 -3.351563 C -8.625 -4.175781 -8.394531 -4.828125 -7.9375 -5.308594 C -7.480469 -5.789063 -6.914063 -6.027344 -6.242188 -6.03125 C -5.894531 -6.027344 -5.558594 -5.957031 -5.226563 -5.820313 C -4.890625 -5.675781 -4.539063 -5.441406 -4.175781 -5.117188 C -3.804688 -4.789063 -3.300781 -4.25 -2.664063 -3.492188 C -2.128906 -2.859375 -1.769531 -2.453125 -1.582031 -2.273438 C -1.394531 -2.09375 -1.203125 -1.945313 -1.011719 -1.828125 Z M -1.011719 -6.039063 \"/>\n",
       "</symbol>\n",
       "<symbol overflow=\"visible\" id=\"glyph2-11\">\n",
       "<path style=\"stroke:none;\" d=\"M -2.265625 -0.503906 L -2.40625 -1.558594 C -1.808594 -1.679688 -1.378906 -1.882813 -1.113281 -2.175781 C -0.847656 -2.464844 -0.714844 -2.820313 -0.71875 -3.242188 C -0.714844 -3.734375 -0.886719 -4.152344 -1.234375 -4.496094 C -1.574219 -4.832031 -2 -5.003906 -2.511719 -5.007813 C -2.992188 -5.003906 -3.390625 -4.847656 -3.710938 -4.535156 C -4.023438 -4.21875 -4.183594 -3.816406 -4.183594 -3.328125 C -4.183594 -3.128906 -4.144531 -2.878906 -4.066406 -2.585938 L -4.992188 -2.703125 C -4.984375 -2.769531 -4.980469 -2.828125 -4.980469 -2.871094 C -4.980469 -3.320313 -5.097656 -3.722656 -5.332031 -4.085938 C -5.566406 -4.441406 -5.925781 -4.621094 -6.414063 -4.625 C -6.800781 -4.621094 -7.121094 -4.492188 -7.375 -4.230469 C -7.628906 -3.96875 -7.757813 -3.628906 -7.757813 -3.21875 C -7.757813 -2.804688 -7.628906 -2.464844 -7.371094 -2.191406 C -7.113281 -1.917969 -6.726563 -1.742188 -6.210938 -1.664063 L -6.398438 -0.609375 C -7.105469 -0.738281 -7.652344 -1.03125 -8.042969 -1.488281 C -8.429688 -1.945313 -8.625 -2.511719 -8.625 -3.195313 C -8.625 -3.660156 -8.523438 -4.09375 -8.324219 -4.488281 C -8.121094 -4.882813 -7.847656 -5.183594 -7.5 -5.394531 C -7.148438 -5.601563 -6.777344 -5.707031 -6.390625 -5.707031 C -6.019531 -5.707031 -5.683594 -5.605469 -5.378906 -5.40625 C -5.074219 -5.207031 -4.832031 -4.914063 -4.652344 -4.523438 C -4.535156 -5.03125 -4.289063 -5.425781 -3.921875 -5.707031 C -3.546875 -5.988281 -3.085938 -6.128906 -2.535156 -6.128906 C -1.78125 -6.128906 -1.144531 -5.855469 -0.628906 -5.308594 C -0.105469 -4.761719 0.152344 -4.070313 0.152344 -3.234375 C 0.152344 -2.476563 -0.0703125 -1.847656 -0.519531 -1.355469 C -0.96875 -0.855469 -1.550781 -0.574219 -2.265625 -0.503906 Z M -2.265625 -0.503906 \"/>\n",
       "</symbol>\n",
       "</g>\n",
       "<clipPath id=\"clip1\">\n",
       "  <path d=\"M 59.039063 59.039063 L 474.757813 59.039063 L 474.757813 431.558594 L 59.039063 431.558594 Z M 59.039063 59.039063 \"/>\n",
       "</clipPath>\n",
       "</defs>\n",
       "<g id=\"surface16\">\n",
       "<rect x=\"0\" y=\"0\" width=\"504\" height=\"504\" style=\"fill:rgb(100%,100%,100%);fill-opacity:1;stroke:none;\"/>\n",
       "<g style=\"fill:rgb(0%,0%,0%);fill-opacity:1;\">\n",
       "  <use xlink:href=\"#glyph0-0\" x=\"180.390625\" y=\"34.675781\"/>\n",
       "  <use xlink:href=\"#glyph0-1\" x=\"190.789844\" y=\"34.675781\"/>\n",
       "  <use xlink:href=\"#glyph0-2\" x=\"194.790625\" y=\"34.675781\"/>\n",
       "  <use xlink:href=\"#glyph0-3\" x=\"202.799219\" y=\"34.675781\"/>\n",
       "  <use xlink:href=\"#glyph0-4\" x=\"207.594531\" y=\"34.675781\"/>\n",
       "  <use xlink:href=\"#glyph0-5\" x=\"216.390625\" y=\"34.675781\"/>\n",
       "  <use xlink:href=\"#glyph0-6\" x=\"225.186719\" y=\"34.675781\"/>\n",
       "  <use xlink:href=\"#glyph0-7\" x=\"230.790625\" y=\"34.675781\"/>\n",
       "  <use xlink:href=\"#glyph0-8\" x=\"238.799219\" y=\"34.675781\"/>\n",
       "  <use xlink:href=\"#glyph0-9\" x=\"251.603125\" y=\"34.675781\"/>\n",
       "  <use xlink:href=\"#glyph0-4\" x=\"255.603906\" y=\"34.675781\"/>\n",
       "  <use xlink:href=\"#glyph0-10\" x=\"264.4\" y=\"34.675781\"/>\n",
       "  <use xlink:href=\"#glyph0-9\" x=\"269.195313\" y=\"34.675781\"/>\n",
       "  <use xlink:href=\"#glyph0-11\" x=\"273.196094\" y=\"34.675781\"/>\n",
       "  <use xlink:href=\"#glyph0-12\" x=\"283.595312\" y=\"34.675781\"/>\n",
       "  <use xlink:href=\"#glyph0-13\" x=\"293.994531\" y=\"34.675781\"/>\n",
       "  <use xlink:href=\"#glyph0-12\" x=\"302.790625\" y=\"34.675781\"/>\n",
       "  <use xlink:href=\"#glyph0-14\" x=\"313.189844\" y=\"34.675781\"/>\n",
       "  <use xlink:href=\"#glyph0-11\" x=\"321.198437\" y=\"34.675781\"/>\n",
       "  <use xlink:href=\"#glyph0-7\" x=\"331.597656\" y=\"34.675781\"/>\n",
       "  <use xlink:href=\"#glyph0-3\" x=\"339.60625\" y=\"34.675781\"/>\n",
       "  <use xlink:href=\"#glyph0-15\" x=\"344.401562\" y=\"34.675781\"/>\n",
       "</g>\n",
       "<g style=\"fill:rgb(0%,0%,0%);fill-opacity:1;\">\n",
       "  <use xlink:href=\"#glyph1-0\" x=\"234.386719\" y=\"485.28125\"/>\n",
       "  <use xlink:href=\"#glyph1-1\" x=\"243.052734\" y=\"485.28125\"/>\n",
       "  <use xlink:href=\"#glyph1-2\" x=\"251.056641\" y=\"485.28125\"/>\n",
       "  <use xlink:href=\"#glyph1-1\" x=\"258.386719\" y=\"485.28125\"/>\n",
       "  <use xlink:href=\"#glyph1-3\" x=\"266.390625\" y=\"485.28125\"/>\n",
       "  <use xlink:href=\"#glyph1-0\" x=\"273.064453\" y=\"485.28125\"/>\n",
       "  <use xlink:href=\"#glyph1-4\" x=\"281.730469\" y=\"485.28125\"/>\n",
       "  <use xlink:href=\"#glyph1-5\" x=\"288.404297\" y=\"485.28125\"/>\n",
       "  <use xlink:href=\"#glyph1-6\" x=\"291.738281\" y=\"485.28125\"/>\n",
       "</g>\n",
       "<g style=\"fill:rgb(0%,0%,0%);fill-opacity:1;\">\n",
       "  <use xlink:href=\"#glyph2-0\" x=\"12.960938\" y=\"264.808594\"/>\n",
       "  <use xlink:href=\"#glyph2-1\" x=\"12.960938\" y=\"256.142578\"/>\n",
       "  <use xlink:href=\"#glyph2-2\" x=\"12.960938\" y=\"249.46875\"/>\n",
       "  <use xlink:href=\"#glyph2-3\" x=\"12.960938\" y=\"242.794922\"/>\n",
       "  <use xlink:href=\"#glyph2-4\" x=\"12.960938\" y=\"236.794922\"/>\n",
       "  <use xlink:href=\"#glyph2-5\" x=\"12.960938\" y=\"234.128906\"/>\n",
       "  <use xlink:href=\"#glyph2-6\" x=\"12.960938\" y=\"230.794922\"/>\n",
       "</g>\n",
       "<g clip-path=\"url(#clip1)\" clip-rule=\"nonzero\">\n",
       "<path style=\"fill:none;stroke-width:0.75;stroke-linecap:round;stroke-linejoin:round;stroke:rgb(0%,0%,0%);stroke-opacity:1;stroke-miterlimit:10;\" d=\"M 74.398438 416.800781 L 78.714844 416.800781 L 78.714844 279.542969 L 74.398438 279.542969 Z M 74.398438 416.800781 \"/>\n",
       "<path style=\"fill:none;stroke-width:0.75;stroke-linecap:round;stroke-linejoin:round;stroke:rgb(0%,0%,0%);stroke-opacity:1;stroke-miterlimit:10;\" d=\"M 78.714844 416.800781 L 83.03125 416.800781 L 83.03125 182.027344 L 78.714844 182.027344 Z M 78.714844 416.800781 \"/>\n",
       "<path style=\"fill:none;stroke-width:0.75;stroke-linecap:round;stroke-linejoin:round;stroke:rgb(0%,0%,0%);stroke-opacity:1;stroke-miterlimit:10;\" d=\"M 83.027344 416.800781 L 87.34375 416.800781 L 87.34375 167.109375 L 83.027344 167.109375 Z M 83.027344 416.800781 \"/>\n",
       "<path style=\"fill:none;stroke-width:0.75;stroke-linecap:round;stroke-linejoin:round;stroke:rgb(0%,0%,0%);stroke-opacity:1;stroke-miterlimit:10;\" d=\"M 87.34375 416.800781 L 91.660156 416.800781 L 91.660156 152.292969 L 87.34375 152.292969 Z M 87.34375 416.800781 \"/>\n",
       "<path style=\"fill:none;stroke-width:0.75;stroke-linecap:round;stroke-linejoin:round;stroke:rgb(0%,0%,0%);stroke-opacity:1;stroke-miterlimit:10;\" d=\"M 91.660156 416.800781 L 95.976563 416.800781 L 95.976563 111.445313 L 91.660156 111.445313 Z M 91.660156 416.800781 \"/>\n",
       "<path style=\"fill:none;stroke-width:0.75;stroke-linecap:round;stroke-linejoin:round;stroke:rgb(0%,0%,0%);stroke-opacity:1;stroke-miterlimit:10;\" d=\"M 95.972656 416.800781 L 100.289063 416.800781 L 100.289063 100.832031 L 95.972656 100.832031 Z M 95.972656 416.800781 \"/>\n",
       "<path style=\"fill:none;stroke-width:0.75;stroke-linecap:round;stroke-linejoin:round;stroke:rgb(0%,0%,0%);stroke-opacity:1;stroke-miterlimit:10;\" d=\"M 100.289063 416.800781 L 104.605469 416.800781 L 104.605469 72.800781 L 100.289063 72.800781 Z M 100.289063 416.800781 \"/>\n",
       "<path style=\"fill:none;stroke-width:0.75;stroke-linecap:round;stroke-linejoin:round;stroke:rgb(0%,0%,0%);stroke-opacity:1;stroke-miterlimit:10;\" d=\"M 104.601563 416.800781 L 108.917969 416.800781 L 108.917969 129.765625 L 104.601563 129.765625 Z M 104.601563 416.800781 \"/>\n",
       "<path style=\"fill:none;stroke-width:0.75;stroke-linecap:round;stroke-linejoin:round;stroke:rgb(0%,0%,0%);stroke-opacity:1;stroke-miterlimit:10;\" d=\"M 108.917969 416.800781 L 113.234375 416.800781 L 113.234375 158.398438 L 108.917969 158.398438 Z M 108.917969 416.800781 \"/>\n",
       "<path style=\"fill:none;stroke-width:0.75;stroke-linecap:round;stroke-linejoin:round;stroke:rgb(0%,0%,0%);stroke-opacity:1;stroke-miterlimit:10;\" d=\"M 113.230469 416.800781 L 117.546875 416.800781 L 117.546875 155.296875 L 113.230469 155.296875 Z M 113.230469 416.800781 \"/>\n",
       "<path style=\"fill:none;stroke-width:0.75;stroke-linecap:round;stroke-linejoin:round;stroke:rgb(0%,0%,0%);stroke-opacity:1;stroke-miterlimit:10;\" d=\"M 117.546875 416.800781 L 121.863281 416.800781 L 121.863281 173.816406 L 117.546875 173.816406 Z M 117.546875 416.800781 \"/>\n",
       "<path style=\"fill:none;stroke-width:0.75;stroke-linecap:round;stroke-linejoin:round;stroke:rgb(0%,0%,0%);stroke-opacity:1;stroke-miterlimit:10;\" d=\"M 121.859375 416.800781 L 126.175781 416.800781 L 126.175781 150.191406 L 121.859375 150.191406 Z M 121.859375 416.800781 \"/>\n",
       "<path style=\"fill:none;stroke-width:0.75;stroke-linecap:round;stroke-linejoin:round;stroke:rgb(0%,0%,0%);stroke-opacity:1;stroke-miterlimit:10;\" d=\"M 126.175781 416.800781 L 130.492188 416.800781 L 130.492188 149.089844 L 126.175781 149.089844 Z M 126.175781 416.800781 \"/>\n",
       "<path style=\"fill:none;stroke-width:0.75;stroke-linecap:round;stroke-linejoin:round;stroke:rgb(0%,0%,0%);stroke-opacity:1;stroke-miterlimit:10;\" d=\"M 130.488281 416.800781 L 134.804688 416.800781 L 134.804688 140.878906 L 130.488281 140.878906 Z M 130.488281 416.800781 \"/>\n",
       "<path style=\"fill:none;stroke-width:0.75;stroke-linecap:round;stroke-linejoin:round;stroke:rgb(0%,0%,0%);stroke-opacity:1;stroke-miterlimit:10;\" d=\"M 134.804688 416.800781 L 139.121094 416.800781 L 139.121094 191.839844 L 134.804688 191.839844 Z M 134.804688 416.800781 \"/>\n",
       "<path style=\"fill:none;stroke-width:0.75;stroke-linecap:round;stroke-linejoin:round;stroke:rgb(0%,0%,0%);stroke-opacity:1;stroke-miterlimit:10;\" d=\"M 139.117188 416.800781 L 143.433594 416.800781 L 143.433594 206.15625 L 139.117188 206.15625 Z M 139.117188 416.800781 \"/>\n",
       "<path style=\"fill:none;stroke-width:0.75;stroke-linecap:round;stroke-linejoin:round;stroke:rgb(0%,0%,0%);stroke-opacity:1;stroke-miterlimit:10;\" d=\"M 143.433594 416.800781 L 147.75 416.800781 L 147.75 199.449219 L 143.433594 199.449219 Z M 143.433594 416.800781 \"/>\n",
       "<path style=\"fill:none;stroke-width:0.75;stroke-linecap:round;stroke-linejoin:round;stroke:rgb(0%,0%,0%);stroke-opacity:1;stroke-miterlimit:10;\" d=\"M 147.75 416.800781 L 152.066406 416.800781 L 152.066406 184.128906 L 147.75 184.128906 Z M 147.75 416.800781 \"/>\n",
       "<path style=\"fill:none;stroke-width:0.75;stroke-linecap:round;stroke-linejoin:round;stroke:rgb(0%,0%,0%);stroke-opacity:1;stroke-miterlimit:10;\" d=\"M 152.0625 416.800781 L 156.378906 416.800781 L 156.378906 183.53125 L 152.0625 183.53125 Z M 152.0625 416.800781 \"/>\n",
       "<path style=\"fill:none;stroke-width:0.75;stroke-linecap:round;stroke-linejoin:round;stroke:rgb(0%,0%,0%);stroke-opacity:1;stroke-miterlimit:10;\" d=\"M 156.378906 416.800781 L 160.695313 416.800781 L 160.695313 185.433594 L 156.378906 185.433594 Z M 156.378906 416.800781 \"/>\n",
       "<path style=\"fill:none;stroke-width:0.75;stroke-linecap:round;stroke-linejoin:round;stroke:rgb(0%,0%,0%);stroke-opacity:1;stroke-miterlimit:10;\" d=\"M 160.691406 416.800781 L 165.007813 416.800781 L 165.007813 178.023438 L 160.691406 178.023438 Z M 160.691406 416.800781 \"/>\n",
       "<path style=\"fill:none;stroke-width:0.75;stroke-linecap:round;stroke-linejoin:round;stroke:rgb(0%,0%,0%);stroke-opacity:1;stroke-miterlimit:10;\" d=\"M 165.007813 416.800781 L 169.324219 416.800781 L 169.324219 177.421875 L 165.007813 177.421875 Z M 165.007813 416.800781 \"/>\n",
       "<path style=\"fill:none;stroke-width:0.75;stroke-linecap:round;stroke-linejoin:round;stroke:rgb(0%,0%,0%);stroke-opacity:1;stroke-miterlimit:10;\" d=\"M 169.320313 416.800781 L 173.636719 416.800781 L 173.636719 200.851563 L 169.320313 200.851563 Z M 169.320313 416.800781 \"/>\n",
       "<path style=\"fill:none;stroke-width:0.75;stroke-linecap:round;stroke-linejoin:round;stroke:rgb(0%,0%,0%);stroke-opacity:1;stroke-miterlimit:10;\" d=\"M 173.636719 416.800781 L 177.953125 416.800781 L 177.953125 189.636719 L 173.636719 189.636719 Z M 173.636719 416.800781 \"/>\n",
       "<path style=\"fill:none;stroke-width:0.75;stroke-linecap:round;stroke-linejoin:round;stroke:rgb(0%,0%,0%);stroke-opacity:1;stroke-miterlimit:10;\" d=\"M 177.949219 416.800781 L 182.265625 416.800781 L 182.265625 184.230469 L 177.949219 184.230469 Z M 177.949219 416.800781 \"/>\n",
       "<path style=\"fill:none;stroke-width:0.75;stroke-linecap:round;stroke-linejoin:round;stroke:rgb(0%,0%,0%);stroke-opacity:1;stroke-miterlimit:10;\" d=\"M 182.265625 416.800781 L 186.582031 416.800781 L 186.582031 176.019531 L 182.265625 176.019531 Z M 182.265625 416.800781 \"/>\n",
       "<path style=\"fill:none;stroke-width:0.75;stroke-linecap:round;stroke-linejoin:round;stroke:rgb(0%,0%,0%);stroke-opacity:1;stroke-miterlimit:10;\" d=\"M 186.578125 416.800781 L 190.894531 416.800781 L 190.894531 175.71875 L 186.578125 175.71875 Z M 186.578125 416.800781 \"/>\n",
       "<path style=\"fill:none;stroke-width:0.75;stroke-linecap:round;stroke-linejoin:round;stroke:rgb(0%,0%,0%);stroke-opacity:1;stroke-miterlimit:10;\" d=\"M 190.894531 416.800781 L 195.210938 416.800781 L 195.210938 192.941406 L 190.894531 192.941406 Z M 190.894531 416.800781 \"/>\n",
       "<path style=\"fill:none;stroke-width:0.75;stroke-linecap:round;stroke-linejoin:round;stroke:rgb(0%,0%,0%);stroke-opacity:1;stroke-miterlimit:10;\" d=\"M 195.210938 416.800781 L 199.527344 416.800781 L 199.527344 189.335938 L 195.210938 189.335938 Z M 195.210938 416.800781 \"/>\n",
       "<path style=\"fill:none;stroke-width:0.75;stroke-linecap:round;stroke-linejoin:round;stroke:rgb(0%,0%,0%);stroke-opacity:1;stroke-miterlimit:10;\" d=\"M 199.523438 416.800781 L 203.839844 416.800781 L 203.839844 192.238281 L 199.523438 192.238281 Z M 199.523438 416.800781 \"/>\n",
       "<path style=\"fill:none;stroke-width:0.75;stroke-linecap:round;stroke-linejoin:round;stroke:rgb(0%,0%,0%);stroke-opacity:1;stroke-miterlimit:10;\" d=\"M 203.839844 416.800781 L 208.15625 416.800781 L 208.15625 202.851563 L 203.839844 202.851563 Z M 203.839844 416.800781 \"/>\n",
       "<path style=\"fill:none;stroke-width:0.75;stroke-linecap:round;stroke-linejoin:round;stroke:rgb(0%,0%,0%);stroke-opacity:1;stroke-miterlimit:10;\" d=\"M 208.152344 416.800781 L 212.46875 416.800781 L 212.46875 192.941406 L 208.152344 192.941406 Z M 208.152344 416.800781 \"/>\n",
       "<path style=\"fill:none;stroke-width:0.75;stroke-linecap:round;stroke-linejoin:round;stroke:rgb(0%,0%,0%);stroke-opacity:1;stroke-miterlimit:10;\" d=\"M 212.46875 416.800781 L 216.785156 416.800781 L 216.785156 192.039063 L 212.46875 192.039063 Z M 212.46875 416.800781 \"/>\n",
       "<path style=\"fill:none;stroke-width:0.75;stroke-linecap:round;stroke-linejoin:round;stroke:rgb(0%,0%,0%);stroke-opacity:1;stroke-miterlimit:10;\" d=\"M 216.78125 416.800781 L 221.097656 416.800781 L 221.097656 205.957031 L 216.78125 205.957031 Z M 216.78125 416.800781 \"/>\n",
       "<path style=\"fill:none;stroke-width:0.75;stroke-linecap:round;stroke-linejoin:round;stroke:rgb(0%,0%,0%);stroke-opacity:1;stroke-miterlimit:10;\" d=\"M 221.097656 416.800781 L 225.414063 416.800781 L 225.414063 194.742188 L 221.097656 194.742188 Z M 221.097656 416.800781 \"/>\n",
       "<path style=\"fill:none;stroke-width:0.75;stroke-linecap:round;stroke-linejoin:round;stroke:rgb(0%,0%,0%);stroke-opacity:1;stroke-miterlimit:10;\" d=\"M 225.410156 416.800781 L 229.726563 416.800781 L 229.726563 172.617188 L 225.410156 172.617188 Z M 225.410156 416.800781 \"/>\n",
       "<path style=\"fill:none;stroke-width:0.75;stroke-linecap:round;stroke-linejoin:round;stroke:rgb(0%,0%,0%);stroke-opacity:1;stroke-miterlimit:10;\" d=\"M 229.726563 416.800781 L 234.042969 416.800781 L 234.042969 169.511719 L 229.726563 169.511719 Z M 229.726563 416.800781 \"/>\n",
       "<path style=\"fill:none;stroke-width:0.75;stroke-linecap:round;stroke-linejoin:round;stroke:rgb(0%,0%,0%);stroke-opacity:1;stroke-miterlimit:10;\" d=\"M 234.039063 416.800781 L 238.355469 416.800781 L 238.355469 174.820313 L 234.039063 174.820313 Z M 234.039063 416.800781 \"/>\n",
       "<path style=\"fill:none;stroke-width:0.75;stroke-linecap:round;stroke-linejoin:round;stroke:rgb(0%,0%,0%);stroke-opacity:1;stroke-miterlimit:10;\" d=\"M 238.355469 416.800781 L 242.671875 416.800781 L 242.671875 197.046875 L 238.355469 197.046875 Z M 238.355469 416.800781 \"/>\n",
       "<path style=\"fill:none;stroke-width:0.75;stroke-linecap:round;stroke-linejoin:round;stroke:rgb(0%,0%,0%);stroke-opacity:1;stroke-miterlimit:10;\" d=\"M 242.667969 416.800781 L 246.984375 416.800781 L 246.984375 191.839844 L 242.667969 191.839844 Z M 242.667969 416.800781 \"/>\n",
       "<path style=\"fill:none;stroke-width:0.75;stroke-linecap:round;stroke-linejoin:round;stroke:rgb(0%,0%,0%);stroke-opacity:1;stroke-miterlimit:10;\" d=\"M 246.984375 416.800781 L 251.300781 416.800781 L 251.300781 180.828125 L 246.984375 180.828125 Z M 246.984375 416.800781 \"/>\n",
       "<path style=\"fill:none;stroke-width:0.75;stroke-linecap:round;stroke-linejoin:round;stroke:rgb(0%,0%,0%);stroke-opacity:1;stroke-miterlimit:10;\" d=\"M 251.300781 416.800781 L 255.617188 416.800781 L 255.617188 196.84375 L 251.300781 196.84375 Z M 251.300781 416.800781 \"/>\n",
       "<path style=\"fill:none;stroke-width:0.75;stroke-linecap:round;stroke-linejoin:round;stroke:rgb(0%,0%,0%);stroke-opacity:1;stroke-miterlimit:10;\" d=\"M 255.613281 416.800781 L 259.929688 416.800781 L 259.929688 207.457031 L 255.613281 207.457031 Z M 255.613281 416.800781 \"/>\n",
       "<path style=\"fill:none;stroke-width:0.75;stroke-linecap:round;stroke-linejoin:round;stroke:rgb(0%,0%,0%);stroke-opacity:1;stroke-miterlimit:10;\" d=\"M 259.929688 416.800781 L 264.246094 416.800781 L 264.246094 216.867188 L 259.929688 216.867188 Z M 259.929688 416.800781 \"/>\n",
       "<path style=\"fill:none;stroke-width:0.75;stroke-linecap:round;stroke-linejoin:round;stroke:rgb(0%,0%,0%);stroke-opacity:1;stroke-miterlimit:10;\" d=\"M 264.242188 416.800781 L 268.558594 416.800781 L 268.558594 215.066406 L 264.242188 215.066406 Z M 264.242188 416.800781 \"/>\n",
       "<path style=\"fill:none;stroke-width:0.75;stroke-linecap:round;stroke-linejoin:round;stroke:rgb(0%,0%,0%);stroke-opacity:1;stroke-miterlimit:10;\" d=\"M 268.558594 416.800781 L 272.875 416.800781 L 272.875 230.382813 L 268.558594 230.382813 Z M 268.558594 416.800781 \"/>\n",
       "<path style=\"fill:none;stroke-width:0.75;stroke-linecap:round;stroke-linejoin:round;stroke:rgb(0%,0%,0%);stroke-opacity:1;stroke-miterlimit:10;\" d=\"M 272.871094 416.800781 L 277.1875 416.800781 L 277.1875 225.277344 L 272.871094 225.277344 Z M 272.871094 416.800781 \"/>\n",
       "<path style=\"fill:none;stroke-width:0.75;stroke-linecap:round;stroke-linejoin:round;stroke:rgb(0%,0%,0%);stroke-opacity:1;stroke-miterlimit:10;\" d=\"M 277.1875 416.800781 L 281.503906 416.800781 L 281.503906 216.867188 L 277.1875 216.867188 Z M 277.1875 416.800781 \"/>\n",
       "<path style=\"fill:none;stroke-width:0.75;stroke-linecap:round;stroke-linejoin:round;stroke:rgb(0%,0%,0%);stroke-opacity:1;stroke-miterlimit:10;\" d=\"M 281.5 416.800781 L 285.816406 416.800781 L 285.816406 217.070313 L 281.5 217.070313 Z M 281.5 416.800781 \"/>\n",
       "<path style=\"fill:none;stroke-width:0.75;stroke-linecap:round;stroke-linejoin:round;stroke:rgb(0%,0%,0%);stroke-opacity:1;stroke-miterlimit:10;\" d=\"M 285.816406 416.800781 L 290.132813 416.800781 L 290.132813 223.777344 L 285.816406 223.777344 Z M 285.816406 416.800781 \"/>\n",
       "<path style=\"fill:none;stroke-width:0.75;stroke-linecap:round;stroke-linejoin:round;stroke:rgb(0%,0%,0%);stroke-opacity:1;stroke-miterlimit:10;\" d=\"M 290.128906 416.800781 L 294.445313 416.800781 L 294.445313 216.367188 L 290.128906 216.367188 Z M 290.128906 416.800781 \"/>\n",
       "<path style=\"fill:none;stroke-width:0.75;stroke-linecap:round;stroke-linejoin:round;stroke:rgb(0%,0%,0%);stroke-opacity:1;stroke-miterlimit:10;\" d=\"M 294.445313 416.800781 L 298.761719 416.800781 L 298.761719 226.078125 L 294.445313 226.078125 Z M 294.445313 416.800781 \"/>\n",
       "<path style=\"fill:none;stroke-width:0.75;stroke-linecap:round;stroke-linejoin:round;stroke:rgb(0%,0%,0%);stroke-opacity:1;stroke-miterlimit:10;\" d=\"M 298.757813 416.800781 L 303.074219 416.800781 L 303.074219 239.195313 L 298.757813 239.195313 Z M 298.757813 416.800781 \"/>\n",
       "<path style=\"fill:none;stroke-width:0.75;stroke-linecap:round;stroke-linejoin:round;stroke:rgb(0%,0%,0%);stroke-opacity:1;stroke-miterlimit:10;\" d=\"M 303.074219 416.800781 L 307.390625 416.800781 L 307.390625 220.574219 L 303.074219 220.574219 Z M 303.074219 416.800781 \"/>\n",
       "<path style=\"fill:none;stroke-width:0.75;stroke-linecap:round;stroke-linejoin:round;stroke:rgb(0%,0%,0%);stroke-opacity:1;stroke-miterlimit:10;\" d=\"M 307.390625 416.800781 L 311.707031 416.800781 L 311.707031 221.875 L 307.390625 221.875 Z M 307.390625 416.800781 \"/>\n",
       "<path style=\"fill:none;stroke-width:0.75;stroke-linecap:round;stroke-linejoin:round;stroke:rgb(0%,0%,0%);stroke-opacity:1;stroke-miterlimit:10;\" d=\"M 311.703125 416.800781 L 316.019531 416.800781 L 316.019531 178.625 L 311.703125 178.625 Z M 311.703125 416.800781 \"/>\n",
       "<path style=\"fill:none;stroke-width:0.75;stroke-linecap:round;stroke-linejoin:round;stroke:rgb(0%,0%,0%);stroke-opacity:1;stroke-miterlimit:10;\" d=\"M 316.019531 416.800781 L 320.335938 416.800781 L 320.335938 191.839844 L 316.019531 191.839844 Z M 316.019531 416.800781 \"/>\n",
       "<path style=\"fill:none;stroke-width:0.75;stroke-linecap:round;stroke-linejoin:round;stroke:rgb(0%,0%,0%);stroke-opacity:1;stroke-miterlimit:10;\" d=\"M 320.332031 416.800781 L 324.648438 416.800781 L 324.648438 235.691406 L 320.332031 235.691406 Z M 320.332031 416.800781 \"/>\n",
       "<path style=\"fill:none;stroke-width:0.75;stroke-linecap:round;stroke-linejoin:round;stroke:rgb(0%,0%,0%);stroke-opacity:1;stroke-miterlimit:10;\" d=\"M 324.648438 416.800781 L 328.964844 416.800781 L 328.964844 244.699219 L 324.648438 244.699219 Z M 324.648438 416.800781 \"/>\n",
       "<path style=\"fill:none;stroke-width:0.75;stroke-linecap:round;stroke-linejoin:round;stroke:rgb(0%,0%,0%);stroke-opacity:1;stroke-miterlimit:10;\" d=\"M 328.960938 416.800781 L 333.277344 416.800781 L 333.277344 255.714844 L 328.960938 255.714844 Z M 328.960938 416.800781 \"/>\n",
       "<path style=\"fill:none;stroke-width:0.75;stroke-linecap:round;stroke-linejoin:round;stroke:rgb(0%,0%,0%);stroke-opacity:1;stroke-miterlimit:10;\" d=\"M 333.277344 416.800781 L 337.59375 416.800781 L 337.59375 261.019531 L 333.277344 261.019531 Z M 333.277344 416.800781 \"/>\n",
       "<path style=\"fill:none;stroke-width:0.75;stroke-linecap:round;stroke-linejoin:round;stroke:rgb(0%,0%,0%);stroke-opacity:1;stroke-miterlimit:10;\" d=\"M 337.589844 416.800781 L 341.90625 416.800781 L 341.90625 274.636719 L 337.589844 274.636719 Z M 337.589844 416.800781 \"/>\n",
       "<path style=\"fill:none;stroke-width:0.75;stroke-linecap:round;stroke-linejoin:round;stroke:rgb(0%,0%,0%);stroke-opacity:1;stroke-miterlimit:10;\" d=\"M 341.90625 416.800781 L 346.222656 416.800781 L 346.222656 261.421875 L 341.90625 261.421875 Z M 341.90625 416.800781 \"/>\n",
       "<path style=\"fill:none;stroke-width:0.75;stroke-linecap:round;stroke-linejoin:round;stroke:rgb(0%,0%,0%);stroke-opacity:1;stroke-miterlimit:10;\" d=\"M 346.21875 416.800781 L 350.535156 416.800781 L 350.535156 252.507813 L 346.21875 252.507813 Z M 346.21875 416.800781 \"/>\n",
       "<path style=\"fill:none;stroke-width:0.75;stroke-linecap:round;stroke-linejoin:round;stroke:rgb(0%,0%,0%);stroke-opacity:1;stroke-miterlimit:10;\" d=\"M 350.535156 416.800781 L 354.851563 416.800781 L 354.851563 229.382813 L 350.535156 229.382813 Z M 350.535156 416.800781 \"/>\n",
       "<path style=\"fill:none;stroke-width:0.75;stroke-linecap:round;stroke-linejoin:round;stroke:rgb(0%,0%,0%);stroke-opacity:1;stroke-miterlimit:10;\" d=\"M 354.847656 416.800781 L 359.164063 416.800781 L 359.164063 220.773438 L 354.847656 220.773438 Z M 354.847656 416.800781 \"/>\n",
       "<path style=\"fill:none;stroke-width:0.75;stroke-linecap:round;stroke-linejoin:round;stroke:rgb(0%,0%,0%);stroke-opacity:1;stroke-miterlimit:10;\" d=\"M 359.164063 416.800781 L 363.480469 416.800781 L 363.480469 221.273438 L 359.164063 221.273438 Z M 359.164063 416.800781 \"/>\n",
       "<path style=\"fill:none;stroke-width:0.75;stroke-linecap:round;stroke-linejoin:round;stroke:rgb(0%,0%,0%);stroke-opacity:1;stroke-miterlimit:10;\" d=\"M 363.480469 416.800781 L 367.796875 416.800781 L 367.796875 245 L 363.480469 245 Z M 363.480469 416.800781 \"/>\n",
       "<path style=\"fill:none;stroke-width:0.75;stroke-linecap:round;stroke-linejoin:round;stroke:rgb(0%,0%,0%);stroke-opacity:1;stroke-miterlimit:10;\" d=\"M 367.792969 416.800781 L 372.109375 416.800781 L 372.109375 212.964844 L 367.792969 212.964844 Z M 367.792969 416.800781 \"/>\n",
       "<path style=\"fill:none;stroke-width:0.75;stroke-linecap:round;stroke-linejoin:round;stroke:rgb(0%,0%,0%);stroke-opacity:1;stroke-miterlimit:10;\" d=\"M 372.109375 416.800781 L 376.425781 416.800781 L 376.425781 209.660156 L 372.109375 209.660156 Z M 372.109375 416.800781 \"/>\n",
       "<path style=\"fill:none;stroke-width:0.75;stroke-linecap:round;stroke-linejoin:round;stroke:rgb(0%,0%,0%);stroke-opacity:1;stroke-miterlimit:10;\" d=\"M 376.421875 416.800781 L 380.738281 416.800781 L 380.738281 210.160156 L 376.421875 210.160156 Z M 376.421875 416.800781 \"/>\n",
       "<path style=\"fill:none;stroke-width:0.75;stroke-linecap:round;stroke-linejoin:round;stroke:rgb(0%,0%,0%);stroke-opacity:1;stroke-miterlimit:10;\" d=\"M 380.738281 416.800781 L 385.054688 416.800781 L 385.054688 182.328125 L 380.738281 182.328125 Z M 380.738281 416.800781 \"/>\n",
       "<path style=\"fill:none;stroke-width:0.75;stroke-linecap:round;stroke-linejoin:round;stroke:rgb(0%,0%,0%);stroke-opacity:1;stroke-miterlimit:10;\" d=\"M 385.050781 416.800781 L 389.367188 416.800781 L 389.367188 169.011719 L 385.050781 169.011719 Z M 385.050781 416.800781 \"/>\n",
       "<path style=\"fill:none;stroke-width:0.75;stroke-linecap:round;stroke-linejoin:round;stroke:rgb(0%,0%,0%);stroke-opacity:1;stroke-miterlimit:10;\" d=\"M 389.367188 416.800781 L 393.683594 416.800781 L 393.683594 166.109375 L 389.367188 166.109375 Z M 389.367188 416.800781 \"/>\n",
       "<path style=\"fill:none;stroke-width:0.75;stroke-linecap:round;stroke-linejoin:round;stroke:rgb(0%,0%,0%);stroke-opacity:1;stroke-miterlimit:10;\" d=\"M 393.679688 416.800781 L 397.996094 416.800781 L 397.996094 222.476563 L 393.679688 222.476563 Z M 393.679688 416.800781 \"/>\n",
       "<path style=\"fill:none;stroke-width:0.75;stroke-linecap:round;stroke-linejoin:round;stroke:rgb(0%,0%,0%);stroke-opacity:1;stroke-miterlimit:10;\" d=\"M 397.996094 416.800781 L 402.3125 416.800781 L 402.3125 187.234375 L 397.996094 187.234375 Z M 397.996094 416.800781 \"/>\n",
       "<path style=\"fill:none;stroke-width:0.75;stroke-linecap:round;stroke-linejoin:round;stroke:rgb(0%,0%,0%);stroke-opacity:1;stroke-miterlimit:10;\" d=\"M 402.308594 416.800781 L 406.625 416.800781 L 406.625 176.019531 L 402.308594 176.019531 Z M 402.308594 416.800781 \"/>\n",
       "<path style=\"fill:none;stroke-width:0.75;stroke-linecap:round;stroke-linejoin:round;stroke:rgb(0%,0%,0%);stroke-opacity:1;stroke-miterlimit:10;\" d=\"M 406.625 416.800781 L 410.941406 416.800781 L 410.941406 200.648438 L 406.625 200.648438 Z M 406.625 416.800781 \"/>\n",
       "<path style=\"fill:none;stroke-width:0.75;stroke-linecap:round;stroke-linejoin:round;stroke:rgb(0%,0%,0%);stroke-opacity:1;stroke-miterlimit:10;\" d=\"M 410.9375 416.800781 L 415.253906 416.800781 L 415.253906 222.773438 L 410.9375 222.773438 Z M 410.9375 416.800781 \"/>\n",
       "<path style=\"fill:none;stroke-width:0.75;stroke-linecap:round;stroke-linejoin:round;stroke:rgb(0%,0%,0%);stroke-opacity:1;stroke-miterlimit:10;\" d=\"M 415.253906 416.800781 L 419.570313 416.800781 L 419.570313 214.464844 L 415.253906 214.464844 Z M 415.253906 416.800781 \"/>\n",
       "<path style=\"fill:none;stroke-width:0.75;stroke-linecap:round;stroke-linejoin:round;stroke:rgb(0%,0%,0%);stroke-opacity:1;stroke-miterlimit:10;\" d=\"M 419.570313 416.800781 L 423.886719 416.800781 L 423.886719 211.960938 L 419.570313 211.960938 Z M 419.570313 416.800781 \"/>\n",
       "<path style=\"fill:none;stroke-width:0.75;stroke-linecap:round;stroke-linejoin:round;stroke:rgb(0%,0%,0%);stroke-opacity:1;stroke-miterlimit:10;\" d=\"M 423.882813 416.800781 L 428.199219 416.800781 L 428.199219 233.386719 L 423.882813 233.386719 Z M 423.882813 416.800781 \"/>\n",
       "<path style=\"fill:none;stroke-width:0.75;stroke-linecap:round;stroke-linejoin:round;stroke:rgb(0%,0%,0%);stroke-opacity:1;stroke-miterlimit:10;\" d=\"M 428.199219 416.800781 L 432.515625 416.800781 L 432.515625 224.675781 L 428.199219 224.675781 Z M 428.199219 416.800781 \"/>\n",
       "<path style=\"fill:none;stroke-width:0.75;stroke-linecap:round;stroke-linejoin:round;stroke:rgb(0%,0%,0%);stroke-opacity:1;stroke-miterlimit:10;\" d=\"M 432.511719 416.800781 L 436.828125 416.800781 L 436.828125 219.171875 L 432.511719 219.171875 Z M 432.511719 416.800781 \"/>\n",
       "<path style=\"fill:none;stroke-width:0.75;stroke-linecap:round;stroke-linejoin:round;stroke:rgb(0%,0%,0%);stroke-opacity:1;stroke-miterlimit:10;\" d=\"M 436.828125 416.800781 L 441.144531 416.800781 L 441.144531 223.277344 L 436.828125 223.277344 Z M 436.828125 416.800781 \"/>\n",
       "<path style=\"fill:none;stroke-width:0.75;stroke-linecap:round;stroke-linejoin:round;stroke:rgb(0%,0%,0%);stroke-opacity:1;stroke-miterlimit:10;\" d=\"M 441.140625 416.800781 L 445.457031 416.800781 L 445.457031 230.984375 L 441.140625 230.984375 Z M 441.140625 416.800781 \"/>\n",
       "<path style=\"fill:none;stroke-width:0.75;stroke-linecap:round;stroke-linejoin:round;stroke:rgb(0%,0%,0%);stroke-opacity:1;stroke-miterlimit:10;\" d=\"M 445.457031 416.800781 L 449.773438 416.800781 L 449.773438 229.382813 L 445.457031 229.382813 Z M 445.457031 416.800781 \"/>\n",
       "<path style=\"fill:none;stroke-width:0.75;stroke-linecap:round;stroke-linejoin:round;stroke:rgb(0%,0%,0%);stroke-opacity:1;stroke-miterlimit:10;\" d=\"M 449.769531 416.800781 L 454.085938 416.800781 L 454.085938 216.367188 L 449.769531 216.367188 Z M 449.769531 416.800781 \"/>\n",
       "<path style=\"fill:none;stroke-width:0.75;stroke-linecap:round;stroke-linejoin:round;stroke:rgb(0%,0%,0%);stroke-opacity:1;stroke-miterlimit:10;\" d=\"M 454.085938 416.800781 L 458.402344 416.800781 L 458.402344 393.875 L 454.085938 393.875 Z M 454.085938 416.800781 \"/>\n",
       "</g>\n",
       "<path style=\"fill:none;stroke-width:0.75;stroke-linecap:round;stroke-linejoin:round;stroke:rgb(0%,0%,0%);stroke-opacity:1;stroke-miterlimit:10;\" d=\"M 59.039063 416.800781 L 59.039063 81.039063 \"/>\n",
       "<path style=\"fill:none;stroke-width:0.75;stroke-linecap:round;stroke-linejoin:round;stroke:rgb(0%,0%,0%);stroke-opacity:1;stroke-miterlimit:10;\" d=\"M 59.039063 416.800781 L 51.839844 416.800781 \"/>\n",
       "<path style=\"fill:none;stroke-width:0.75;stroke-linecap:round;stroke-linejoin:round;stroke:rgb(0%,0%,0%);stroke-opacity:1;stroke-miterlimit:10;\" d=\"M 59.039063 368.832031 L 51.839844 368.832031 \"/>\n",
       "<path style=\"fill:none;stroke-width:0.75;stroke-linecap:round;stroke-linejoin:round;stroke:rgb(0%,0%,0%);stroke-opacity:1;stroke-miterlimit:10;\" d=\"M 59.039063 320.867188 L 51.839844 320.867188 \"/>\n",
       "<path style=\"fill:none;stroke-width:0.75;stroke-linecap:round;stroke-linejoin:round;stroke:rgb(0%,0%,0%);stroke-opacity:1;stroke-miterlimit:10;\" d=\"M 59.039063 272.902344 L 51.839844 272.902344 \"/>\n",
       "<path style=\"fill:none;stroke-width:0.75;stroke-linecap:round;stroke-linejoin:round;stroke:rgb(0%,0%,0%);stroke-opacity:1;stroke-miterlimit:10;\" d=\"M 59.039063 224.9375 L 51.839844 224.9375 \"/>\n",
       "<path style=\"fill:none;stroke-width:0.75;stroke-linecap:round;stroke-linejoin:round;stroke:rgb(0%,0%,0%);stroke-opacity:1;stroke-miterlimit:10;\" d=\"M 59.039063 176.96875 L 51.839844 176.96875 \"/>\n",
       "<path style=\"fill:none;stroke-width:0.75;stroke-linecap:round;stroke-linejoin:round;stroke:rgb(0%,0%,0%);stroke-opacity:1;stroke-miterlimit:10;\" d=\"M 59.039063 129.003906 L 51.839844 129.003906 \"/>\n",
       "<path style=\"fill:none;stroke-width:0.75;stroke-linecap:round;stroke-linejoin:round;stroke:rgb(0%,0%,0%);stroke-opacity:1;stroke-miterlimit:10;\" d=\"M 59.039063 81.039063 L 51.839844 81.039063 \"/>\n",
       "<g style=\"fill:rgb(0%,0%,0%);fill-opacity:1;\">\n",
       "  <use xlink:href=\"#glyph2-7\" x=\"41.761719\" y=\"438.488281\"/>\n",
       "  <use xlink:href=\"#glyph2-8\" x=\"41.761719\" y=\"431.814453\"/>\n",
       "  <use xlink:href=\"#glyph2-7\" x=\"41.761719\" y=\"428.480469\"/>\n",
       "  <use xlink:href=\"#glyph2-7\" x=\"41.761719\" y=\"421.806641\"/>\n",
       "  <use xlink:href=\"#glyph2-7\" x=\"41.761719\" y=\"415.132813\"/>\n",
       "  <use xlink:href=\"#glyph2-7\" x=\"41.761719\" y=\"408.458984\"/>\n",
       "  <use xlink:href=\"#glyph2-7\" x=\"41.761719\" y=\"401.785156\"/>\n",
       "</g>\n",
       "<g style=\"fill:rgb(0%,0%,0%);fill-opacity:1;\">\n",
       "  <use xlink:href=\"#glyph2-7\" x=\"41.761719\" y=\"342.554688\"/>\n",
       "  <use xlink:href=\"#glyph2-8\" x=\"41.761719\" y=\"335.880859\"/>\n",
       "  <use xlink:href=\"#glyph2-7\" x=\"41.761719\" y=\"332.546875\"/>\n",
       "  <use xlink:href=\"#glyph2-7\" x=\"41.761719\" y=\"325.873047\"/>\n",
       "  <use xlink:href=\"#glyph2-7\" x=\"41.761719\" y=\"319.199219\"/>\n",
       "  <use xlink:href=\"#glyph2-9\" x=\"41.761719\" y=\"312.525391\"/>\n",
       "  <use xlink:href=\"#glyph2-7\" x=\"41.761719\" y=\"305.851563\"/>\n",
       "</g>\n",
       "<g style=\"fill:rgb(0%,0%,0%);fill-opacity:1;\">\n",
       "  <use xlink:href=\"#glyph2-7\" x=\"41.761719\" y=\"246.625\"/>\n",
       "  <use xlink:href=\"#glyph2-8\" x=\"41.761719\" y=\"239.951172\"/>\n",
       "  <use xlink:href=\"#glyph2-7\" x=\"41.761719\" y=\"236.617188\"/>\n",
       "  <use xlink:href=\"#glyph2-7\" x=\"41.761719\" y=\"229.943359\"/>\n",
       "  <use xlink:href=\"#glyph2-7\" x=\"41.761719\" y=\"223.269531\"/>\n",
       "  <use xlink:href=\"#glyph2-10\" x=\"41.761719\" y=\"216.595703\"/>\n",
       "  <use xlink:href=\"#glyph2-7\" x=\"41.761719\" y=\"209.921875\"/>\n",
       "</g>\n",
       "<g style=\"fill:rgb(0%,0%,0%);fill-opacity:1;\">\n",
       "  <use xlink:href=\"#glyph2-7\" x=\"41.761719\" y=\"150.691406\"/>\n",
       "  <use xlink:href=\"#glyph2-8\" x=\"41.761719\" y=\"144.017578\"/>\n",
       "  <use xlink:href=\"#glyph2-7\" x=\"41.761719\" y=\"140.683594\"/>\n",
       "  <use xlink:href=\"#glyph2-7\" x=\"41.761719\" y=\"134.009766\"/>\n",
       "  <use xlink:href=\"#glyph2-7\" x=\"41.761719\" y=\"127.335938\"/>\n",
       "  <use xlink:href=\"#glyph2-11\" x=\"41.761719\" y=\"120.662109\"/>\n",
       "  <use xlink:href=\"#glyph2-7\" x=\"41.761719\" y=\"113.988281\"/>\n",
       "</g>\n",
       "<path style=\"fill:none;stroke-width:0.75;stroke-linecap:round;stroke-linejoin:round;stroke:rgb(0%,0%,0%);stroke-opacity:1;stroke-miterlimit:10;\" d=\"M 74.398438 430.558594 L 458.398438 430.558594 \"/>\n",
       "<path style=\"fill:none;stroke-width:0.75;stroke-linecap:round;stroke-linejoin:round;stroke:rgb(0%,0%,0%);stroke-opacity:1;stroke-miterlimit:10;\" d=\"M 74.398438 430.558594 L 74.398438 437.761719 \"/>\n",
       "<path style=\"fill:none;stroke-width:0.75;stroke-linecap:round;stroke-linejoin:round;stroke:rgb(0%,0%,0%);stroke-opacity:1;stroke-miterlimit:10;\" d=\"M 78.714844 430.558594 L 78.714844 437.761719 \"/>\n",
       "<path style=\"fill:none;stroke-width:0.75;stroke-linecap:round;stroke-linejoin:round;stroke:rgb(0%,0%,0%);stroke-opacity:1;stroke-miterlimit:10;\" d=\"M 83.027344 430.558594 L 83.027344 437.761719 \"/>\n",
       "<path style=\"fill:none;stroke-width:0.75;stroke-linecap:round;stroke-linejoin:round;stroke:rgb(0%,0%,0%);stroke-opacity:1;stroke-miterlimit:10;\" d=\"M 87.34375 430.558594 L 87.34375 437.761719 \"/>\n",
       "<path style=\"fill:none;stroke-width:0.75;stroke-linecap:round;stroke-linejoin:round;stroke:rgb(0%,0%,0%);stroke-opacity:1;stroke-miterlimit:10;\" d=\"M 91.660156 430.558594 L 91.660156 437.761719 \"/>\n",
       "<path style=\"fill:none;stroke-width:0.75;stroke-linecap:round;stroke-linejoin:round;stroke:rgb(0%,0%,0%);stroke-opacity:1;stroke-miterlimit:10;\" d=\"M 95.972656 430.558594 L 95.972656 437.761719 \"/>\n",
       "<path style=\"fill:none;stroke-width:0.75;stroke-linecap:round;stroke-linejoin:round;stroke:rgb(0%,0%,0%);stroke-opacity:1;stroke-miterlimit:10;\" d=\"M 100.289063 430.558594 L 100.289063 437.761719 \"/>\n",
       "<path style=\"fill:none;stroke-width:0.75;stroke-linecap:round;stroke-linejoin:round;stroke:rgb(0%,0%,0%);stroke-opacity:1;stroke-miterlimit:10;\" d=\"M 104.601563 430.558594 L 104.601563 437.761719 \"/>\n",
       "<path style=\"fill:none;stroke-width:0.75;stroke-linecap:round;stroke-linejoin:round;stroke:rgb(0%,0%,0%);stroke-opacity:1;stroke-miterlimit:10;\" d=\"M 108.917969 430.558594 L 108.917969 437.761719 \"/>\n",
       "<path style=\"fill:none;stroke-width:0.75;stroke-linecap:round;stroke-linejoin:round;stroke:rgb(0%,0%,0%);stroke-opacity:1;stroke-miterlimit:10;\" d=\"M 113.230469 430.558594 L 113.230469 437.761719 \"/>\n",
       "<path style=\"fill:none;stroke-width:0.75;stroke-linecap:round;stroke-linejoin:round;stroke:rgb(0%,0%,0%);stroke-opacity:1;stroke-miterlimit:10;\" d=\"M 117.546875 430.558594 L 117.546875 437.761719 \"/>\n",
       "<path style=\"fill:none;stroke-width:0.75;stroke-linecap:round;stroke-linejoin:round;stroke:rgb(0%,0%,0%);stroke-opacity:1;stroke-miterlimit:10;\" d=\"M 121.859375 430.558594 L 121.859375 437.761719 \"/>\n",
       "<path style=\"fill:none;stroke-width:0.75;stroke-linecap:round;stroke-linejoin:round;stroke:rgb(0%,0%,0%);stroke-opacity:1;stroke-miterlimit:10;\" d=\"M 126.175781 430.558594 L 126.175781 437.761719 \"/>\n",
       "<path style=\"fill:none;stroke-width:0.75;stroke-linecap:round;stroke-linejoin:round;stroke:rgb(0%,0%,0%);stroke-opacity:1;stroke-miterlimit:10;\" d=\"M 130.488281 430.558594 L 130.488281 437.761719 \"/>\n",
       "<path style=\"fill:none;stroke-width:0.75;stroke-linecap:round;stroke-linejoin:round;stroke:rgb(0%,0%,0%);stroke-opacity:1;stroke-miterlimit:10;\" d=\"M 134.804688 430.558594 L 134.804688 437.761719 \"/>\n",
       "<path style=\"fill:none;stroke-width:0.75;stroke-linecap:round;stroke-linejoin:round;stroke:rgb(0%,0%,0%);stroke-opacity:1;stroke-miterlimit:10;\" d=\"M 139.117188 430.558594 L 139.117188 437.761719 \"/>\n",
       "<path style=\"fill:none;stroke-width:0.75;stroke-linecap:round;stroke-linejoin:round;stroke:rgb(0%,0%,0%);stroke-opacity:1;stroke-miterlimit:10;\" d=\"M 143.433594 430.558594 L 143.433594 437.761719 \"/>\n",
       "<path style=\"fill:none;stroke-width:0.75;stroke-linecap:round;stroke-linejoin:round;stroke:rgb(0%,0%,0%);stroke-opacity:1;stroke-miterlimit:10;\" d=\"M 147.75 430.558594 L 147.75 437.761719 \"/>\n",
       "<path style=\"fill:none;stroke-width:0.75;stroke-linecap:round;stroke-linejoin:round;stroke:rgb(0%,0%,0%);stroke-opacity:1;stroke-miterlimit:10;\" d=\"M 152.0625 430.558594 L 152.0625 437.761719 \"/>\n",
       "<path style=\"fill:none;stroke-width:0.75;stroke-linecap:round;stroke-linejoin:round;stroke:rgb(0%,0%,0%);stroke-opacity:1;stroke-miterlimit:10;\" d=\"M 156.378906 430.558594 L 156.378906 437.761719 \"/>\n",
       "<path style=\"fill:none;stroke-width:0.75;stroke-linecap:round;stroke-linejoin:round;stroke:rgb(0%,0%,0%);stroke-opacity:1;stroke-miterlimit:10;\" d=\"M 160.691406 430.558594 L 160.691406 437.761719 \"/>\n",
       "<path style=\"fill:none;stroke-width:0.75;stroke-linecap:round;stroke-linejoin:round;stroke:rgb(0%,0%,0%);stroke-opacity:1;stroke-miterlimit:10;\" d=\"M 165.007813 430.558594 L 165.007813 437.761719 \"/>\n",
       "<path style=\"fill:none;stroke-width:0.75;stroke-linecap:round;stroke-linejoin:round;stroke:rgb(0%,0%,0%);stroke-opacity:1;stroke-miterlimit:10;\" d=\"M 169.320313 430.558594 L 169.320313 437.761719 \"/>\n",
       "<path style=\"fill:none;stroke-width:0.75;stroke-linecap:round;stroke-linejoin:round;stroke:rgb(0%,0%,0%);stroke-opacity:1;stroke-miterlimit:10;\" d=\"M 173.636719 430.558594 L 173.636719 437.761719 \"/>\n",
       "<path style=\"fill:none;stroke-width:0.75;stroke-linecap:round;stroke-linejoin:round;stroke:rgb(0%,0%,0%);stroke-opacity:1;stroke-miterlimit:10;\" d=\"M 177.949219 430.558594 L 177.949219 437.761719 \"/>\n",
       "<path style=\"fill:none;stroke-width:0.75;stroke-linecap:round;stroke-linejoin:round;stroke:rgb(0%,0%,0%);stroke-opacity:1;stroke-miterlimit:10;\" d=\"M 182.265625 430.558594 L 182.265625 437.761719 \"/>\n",
       "<path style=\"fill:none;stroke-width:0.75;stroke-linecap:round;stroke-linejoin:round;stroke:rgb(0%,0%,0%);stroke-opacity:1;stroke-miterlimit:10;\" d=\"M 186.578125 430.558594 L 186.578125 437.761719 \"/>\n",
       "<path style=\"fill:none;stroke-width:0.75;stroke-linecap:round;stroke-linejoin:round;stroke:rgb(0%,0%,0%);stroke-opacity:1;stroke-miterlimit:10;\" d=\"M 190.894531 430.558594 L 190.894531 437.761719 \"/>\n",
       "<path style=\"fill:none;stroke-width:0.75;stroke-linecap:round;stroke-linejoin:round;stroke:rgb(0%,0%,0%);stroke-opacity:1;stroke-miterlimit:10;\" d=\"M 195.210938 430.558594 L 195.210938 437.761719 \"/>\n",
       "<path style=\"fill:none;stroke-width:0.75;stroke-linecap:round;stroke-linejoin:round;stroke:rgb(0%,0%,0%);stroke-opacity:1;stroke-miterlimit:10;\" d=\"M 199.523438 430.558594 L 199.523438 437.761719 \"/>\n",
       "<path style=\"fill:none;stroke-width:0.75;stroke-linecap:round;stroke-linejoin:round;stroke:rgb(0%,0%,0%);stroke-opacity:1;stroke-miterlimit:10;\" d=\"M 203.839844 430.558594 L 203.839844 437.761719 \"/>\n",
       "<path style=\"fill:none;stroke-width:0.75;stroke-linecap:round;stroke-linejoin:round;stroke:rgb(0%,0%,0%);stroke-opacity:1;stroke-miterlimit:10;\" d=\"M 208.152344 430.558594 L 208.152344 437.761719 \"/>\n",
       "<path style=\"fill:none;stroke-width:0.75;stroke-linecap:round;stroke-linejoin:round;stroke:rgb(0%,0%,0%);stroke-opacity:1;stroke-miterlimit:10;\" d=\"M 212.46875 430.558594 L 212.46875 437.761719 \"/>\n",
       "<path style=\"fill:none;stroke-width:0.75;stroke-linecap:round;stroke-linejoin:round;stroke:rgb(0%,0%,0%);stroke-opacity:1;stroke-miterlimit:10;\" d=\"M 216.78125 430.558594 L 216.78125 437.761719 \"/>\n",
       "<path style=\"fill:none;stroke-width:0.75;stroke-linecap:round;stroke-linejoin:round;stroke:rgb(0%,0%,0%);stroke-opacity:1;stroke-miterlimit:10;\" d=\"M 221.097656 430.558594 L 221.097656 437.761719 \"/>\n",
       "<path style=\"fill:none;stroke-width:0.75;stroke-linecap:round;stroke-linejoin:round;stroke:rgb(0%,0%,0%);stroke-opacity:1;stroke-miterlimit:10;\" d=\"M 225.410156 430.558594 L 225.410156 437.761719 \"/>\n",
       "<path style=\"fill:none;stroke-width:0.75;stroke-linecap:round;stroke-linejoin:round;stroke:rgb(0%,0%,0%);stroke-opacity:1;stroke-miterlimit:10;\" d=\"M 229.726563 430.558594 L 229.726563 437.761719 \"/>\n",
       "<path style=\"fill:none;stroke-width:0.75;stroke-linecap:round;stroke-linejoin:round;stroke:rgb(0%,0%,0%);stroke-opacity:1;stroke-miterlimit:10;\" d=\"M 234.039063 430.558594 L 234.039063 437.761719 \"/>\n",
       "<path style=\"fill:none;stroke-width:0.75;stroke-linecap:round;stroke-linejoin:round;stroke:rgb(0%,0%,0%);stroke-opacity:1;stroke-miterlimit:10;\" d=\"M 238.355469 430.558594 L 238.355469 437.761719 \"/>\n",
       "<path style=\"fill:none;stroke-width:0.75;stroke-linecap:round;stroke-linejoin:round;stroke:rgb(0%,0%,0%);stroke-opacity:1;stroke-miterlimit:10;\" d=\"M 242.667969 430.558594 L 242.667969 437.761719 \"/>\n",
       "<path style=\"fill:none;stroke-width:0.75;stroke-linecap:round;stroke-linejoin:round;stroke:rgb(0%,0%,0%);stroke-opacity:1;stroke-miterlimit:10;\" d=\"M 246.984375 430.558594 L 246.984375 437.761719 \"/>\n",
       "<path style=\"fill:none;stroke-width:0.75;stroke-linecap:round;stroke-linejoin:round;stroke:rgb(0%,0%,0%);stroke-opacity:1;stroke-miterlimit:10;\" d=\"M 251.300781 430.558594 L 251.300781 437.761719 \"/>\n",
       "<path style=\"fill:none;stroke-width:0.75;stroke-linecap:round;stroke-linejoin:round;stroke:rgb(0%,0%,0%);stroke-opacity:1;stroke-miterlimit:10;\" d=\"M 255.613281 430.558594 L 255.613281 437.761719 \"/>\n",
       "<path style=\"fill:none;stroke-width:0.75;stroke-linecap:round;stroke-linejoin:round;stroke:rgb(0%,0%,0%);stroke-opacity:1;stroke-miterlimit:10;\" d=\"M 259.929688 430.558594 L 259.929688 437.761719 \"/>\n",
       "<path style=\"fill:none;stroke-width:0.75;stroke-linecap:round;stroke-linejoin:round;stroke:rgb(0%,0%,0%);stroke-opacity:1;stroke-miterlimit:10;\" d=\"M 264.242188 430.558594 L 264.242188 437.761719 \"/>\n",
       "<path style=\"fill:none;stroke-width:0.75;stroke-linecap:round;stroke-linejoin:round;stroke:rgb(0%,0%,0%);stroke-opacity:1;stroke-miterlimit:10;\" d=\"M 268.558594 430.558594 L 268.558594 437.761719 \"/>\n",
       "<path style=\"fill:none;stroke-width:0.75;stroke-linecap:round;stroke-linejoin:round;stroke:rgb(0%,0%,0%);stroke-opacity:1;stroke-miterlimit:10;\" d=\"M 272.871094 430.558594 L 272.871094 437.761719 \"/>\n",
       "<path style=\"fill:none;stroke-width:0.75;stroke-linecap:round;stroke-linejoin:round;stroke:rgb(0%,0%,0%);stroke-opacity:1;stroke-miterlimit:10;\" d=\"M 277.1875 430.558594 L 277.1875 437.761719 \"/>\n",
       "<path style=\"fill:none;stroke-width:0.75;stroke-linecap:round;stroke-linejoin:round;stroke:rgb(0%,0%,0%);stroke-opacity:1;stroke-miterlimit:10;\" d=\"M 281.5 430.558594 L 281.5 437.761719 \"/>\n",
       "<path style=\"fill:none;stroke-width:0.75;stroke-linecap:round;stroke-linejoin:round;stroke:rgb(0%,0%,0%);stroke-opacity:1;stroke-miterlimit:10;\" d=\"M 285.816406 430.558594 L 285.816406 437.761719 \"/>\n",
       "<path style=\"fill:none;stroke-width:0.75;stroke-linecap:round;stroke-linejoin:round;stroke:rgb(0%,0%,0%);stroke-opacity:1;stroke-miterlimit:10;\" d=\"M 290.128906 430.558594 L 290.128906 437.761719 \"/>\n",
       "<path style=\"fill:none;stroke-width:0.75;stroke-linecap:round;stroke-linejoin:round;stroke:rgb(0%,0%,0%);stroke-opacity:1;stroke-miterlimit:10;\" d=\"M 294.445313 430.558594 L 294.445313 437.761719 \"/>\n",
       "<path style=\"fill:none;stroke-width:0.75;stroke-linecap:round;stroke-linejoin:round;stroke:rgb(0%,0%,0%);stroke-opacity:1;stroke-miterlimit:10;\" d=\"M 298.757813 430.558594 L 298.757813 437.761719 \"/>\n",
       "<path style=\"fill:none;stroke-width:0.75;stroke-linecap:round;stroke-linejoin:round;stroke:rgb(0%,0%,0%);stroke-opacity:1;stroke-miterlimit:10;\" d=\"M 303.074219 430.558594 L 303.074219 437.761719 \"/>\n",
       "<path style=\"fill:none;stroke-width:0.75;stroke-linecap:round;stroke-linejoin:round;stroke:rgb(0%,0%,0%);stroke-opacity:1;stroke-miterlimit:10;\" d=\"M 307.390625 430.558594 L 307.390625 437.761719 \"/>\n",
       "<path style=\"fill:none;stroke-width:0.75;stroke-linecap:round;stroke-linejoin:round;stroke:rgb(0%,0%,0%);stroke-opacity:1;stroke-miterlimit:10;\" d=\"M 311.703125 430.558594 L 311.703125 437.761719 \"/>\n",
       "<path style=\"fill:none;stroke-width:0.75;stroke-linecap:round;stroke-linejoin:round;stroke:rgb(0%,0%,0%);stroke-opacity:1;stroke-miterlimit:10;\" d=\"M 316.019531 430.558594 L 316.019531 437.761719 \"/>\n",
       "<path style=\"fill:none;stroke-width:0.75;stroke-linecap:round;stroke-linejoin:round;stroke:rgb(0%,0%,0%);stroke-opacity:1;stroke-miterlimit:10;\" d=\"M 320.332031 430.558594 L 320.332031 437.761719 \"/>\n",
       "<path style=\"fill:none;stroke-width:0.75;stroke-linecap:round;stroke-linejoin:round;stroke:rgb(0%,0%,0%);stroke-opacity:1;stroke-miterlimit:10;\" d=\"M 324.648438 430.558594 L 324.648438 437.761719 \"/>\n",
       "<path style=\"fill:none;stroke-width:0.75;stroke-linecap:round;stroke-linejoin:round;stroke:rgb(0%,0%,0%);stroke-opacity:1;stroke-miterlimit:10;\" d=\"M 328.960938 430.558594 L 328.960938 437.761719 \"/>\n",
       "<path style=\"fill:none;stroke-width:0.75;stroke-linecap:round;stroke-linejoin:round;stroke:rgb(0%,0%,0%);stroke-opacity:1;stroke-miterlimit:10;\" d=\"M 333.277344 430.558594 L 333.277344 437.761719 \"/>\n",
       "<path style=\"fill:none;stroke-width:0.75;stroke-linecap:round;stroke-linejoin:round;stroke:rgb(0%,0%,0%);stroke-opacity:1;stroke-miterlimit:10;\" d=\"M 337.589844 430.558594 L 337.589844 437.761719 \"/>\n",
       "<path style=\"fill:none;stroke-width:0.75;stroke-linecap:round;stroke-linejoin:round;stroke:rgb(0%,0%,0%);stroke-opacity:1;stroke-miterlimit:10;\" d=\"M 341.90625 430.558594 L 341.90625 437.761719 \"/>\n",
       "<path style=\"fill:none;stroke-width:0.75;stroke-linecap:round;stroke-linejoin:round;stroke:rgb(0%,0%,0%);stroke-opacity:1;stroke-miterlimit:10;\" d=\"M 346.21875 430.558594 L 346.21875 437.761719 \"/>\n",
       "<path style=\"fill:none;stroke-width:0.75;stroke-linecap:round;stroke-linejoin:round;stroke:rgb(0%,0%,0%);stroke-opacity:1;stroke-miterlimit:10;\" d=\"M 350.535156 430.558594 L 350.535156 437.761719 \"/>\n",
       "<path style=\"fill:none;stroke-width:0.75;stroke-linecap:round;stroke-linejoin:round;stroke:rgb(0%,0%,0%);stroke-opacity:1;stroke-miterlimit:10;\" d=\"M 354.847656 430.558594 L 354.847656 437.761719 \"/>\n",
       "<path style=\"fill:none;stroke-width:0.75;stroke-linecap:round;stroke-linejoin:round;stroke:rgb(0%,0%,0%);stroke-opacity:1;stroke-miterlimit:10;\" d=\"M 359.164063 430.558594 L 359.164063 437.761719 \"/>\n",
       "<path style=\"fill:none;stroke-width:0.75;stroke-linecap:round;stroke-linejoin:round;stroke:rgb(0%,0%,0%);stroke-opacity:1;stroke-miterlimit:10;\" d=\"M 363.480469 430.558594 L 363.480469 437.761719 \"/>\n",
       "<path style=\"fill:none;stroke-width:0.75;stroke-linecap:round;stroke-linejoin:round;stroke:rgb(0%,0%,0%);stroke-opacity:1;stroke-miterlimit:10;\" d=\"M 367.792969 430.558594 L 367.792969 437.761719 \"/>\n",
       "<path style=\"fill:none;stroke-width:0.75;stroke-linecap:round;stroke-linejoin:round;stroke:rgb(0%,0%,0%);stroke-opacity:1;stroke-miterlimit:10;\" d=\"M 372.109375 430.558594 L 372.109375 437.761719 \"/>\n",
       "<path style=\"fill:none;stroke-width:0.75;stroke-linecap:round;stroke-linejoin:round;stroke:rgb(0%,0%,0%);stroke-opacity:1;stroke-miterlimit:10;\" d=\"M 376.421875 430.558594 L 376.421875 437.761719 \"/>\n",
       "<path style=\"fill:none;stroke-width:0.75;stroke-linecap:round;stroke-linejoin:round;stroke:rgb(0%,0%,0%);stroke-opacity:1;stroke-miterlimit:10;\" d=\"M 380.738281 430.558594 L 380.738281 437.761719 \"/>\n",
       "<path style=\"fill:none;stroke-width:0.75;stroke-linecap:round;stroke-linejoin:round;stroke:rgb(0%,0%,0%);stroke-opacity:1;stroke-miterlimit:10;\" d=\"M 385.050781 430.558594 L 385.050781 437.761719 \"/>\n",
       "<path style=\"fill:none;stroke-width:0.75;stroke-linecap:round;stroke-linejoin:round;stroke:rgb(0%,0%,0%);stroke-opacity:1;stroke-miterlimit:10;\" d=\"M 389.367188 430.558594 L 389.367188 437.761719 \"/>\n",
       "<path style=\"fill:none;stroke-width:0.75;stroke-linecap:round;stroke-linejoin:round;stroke:rgb(0%,0%,0%);stroke-opacity:1;stroke-miterlimit:10;\" d=\"M 393.679688 430.558594 L 393.679688 437.761719 \"/>\n",
       "<path style=\"fill:none;stroke-width:0.75;stroke-linecap:round;stroke-linejoin:round;stroke:rgb(0%,0%,0%);stroke-opacity:1;stroke-miterlimit:10;\" d=\"M 397.996094 430.558594 L 397.996094 437.761719 \"/>\n",
       "<path style=\"fill:none;stroke-width:0.75;stroke-linecap:round;stroke-linejoin:round;stroke:rgb(0%,0%,0%);stroke-opacity:1;stroke-miterlimit:10;\" d=\"M 402.308594 430.558594 L 402.308594 437.761719 \"/>\n",
       "<path style=\"fill:none;stroke-width:0.75;stroke-linecap:round;stroke-linejoin:round;stroke:rgb(0%,0%,0%);stroke-opacity:1;stroke-miterlimit:10;\" d=\"M 406.625 430.558594 L 406.625 437.761719 \"/>\n",
       "<path style=\"fill:none;stroke-width:0.75;stroke-linecap:round;stroke-linejoin:round;stroke:rgb(0%,0%,0%);stroke-opacity:1;stroke-miterlimit:10;\" d=\"M 410.9375 430.558594 L 410.9375 437.761719 \"/>\n",
       "<path style=\"fill:none;stroke-width:0.75;stroke-linecap:round;stroke-linejoin:round;stroke:rgb(0%,0%,0%);stroke-opacity:1;stroke-miterlimit:10;\" d=\"M 415.253906 430.558594 L 415.253906 437.761719 \"/>\n",
       "<path style=\"fill:none;stroke-width:0.75;stroke-linecap:round;stroke-linejoin:round;stroke:rgb(0%,0%,0%);stroke-opacity:1;stroke-miterlimit:10;\" d=\"M 419.570313 430.558594 L 419.570313 437.761719 \"/>\n",
       "<path style=\"fill:none;stroke-width:0.75;stroke-linecap:round;stroke-linejoin:round;stroke:rgb(0%,0%,0%);stroke-opacity:1;stroke-miterlimit:10;\" d=\"M 423.882813 430.558594 L 423.882813 437.761719 \"/>\n",
       "<path style=\"fill:none;stroke-width:0.75;stroke-linecap:round;stroke-linejoin:round;stroke:rgb(0%,0%,0%);stroke-opacity:1;stroke-miterlimit:10;\" d=\"M 428.199219 430.558594 L 428.199219 437.761719 \"/>\n",
       "<path style=\"fill:none;stroke-width:0.75;stroke-linecap:round;stroke-linejoin:round;stroke:rgb(0%,0%,0%);stroke-opacity:1;stroke-miterlimit:10;\" d=\"M 432.511719 430.558594 L 432.511719 437.761719 \"/>\n",
       "<path style=\"fill:none;stroke-width:0.75;stroke-linecap:round;stroke-linejoin:round;stroke:rgb(0%,0%,0%);stroke-opacity:1;stroke-miterlimit:10;\" d=\"M 436.828125 430.558594 L 436.828125 437.761719 \"/>\n",
       "<path style=\"fill:none;stroke-width:0.75;stroke-linecap:round;stroke-linejoin:round;stroke:rgb(0%,0%,0%);stroke-opacity:1;stroke-miterlimit:10;\" d=\"M 441.140625 430.558594 L 441.140625 437.761719 \"/>\n",
       "<path style=\"fill:none;stroke-width:0.75;stroke-linecap:round;stroke-linejoin:round;stroke:rgb(0%,0%,0%);stroke-opacity:1;stroke-miterlimit:10;\" d=\"M 445.457031 430.558594 L 445.457031 437.761719 \"/>\n",
       "<path style=\"fill:none;stroke-width:0.75;stroke-linecap:round;stroke-linejoin:round;stroke:rgb(0%,0%,0%);stroke-opacity:1;stroke-miterlimit:10;\" d=\"M 449.769531 430.558594 L 449.769531 437.761719 \"/>\n",
       "<path style=\"fill:none;stroke-width:0.75;stroke-linecap:round;stroke-linejoin:round;stroke:rgb(0%,0%,0%);stroke-opacity:1;stroke-miterlimit:10;\" d=\"M 454.085938 430.558594 L 454.085938 437.761719 \"/>\n",
       "<path style=\"fill:none;stroke-width:0.75;stroke-linecap:round;stroke-linejoin:round;stroke:rgb(0%,0%,0%);stroke-opacity:1;stroke-miterlimit:10;\" d=\"M 458.398438 430.558594 L 458.398438 437.761719 \"/>\n",
       "<g style=\"fill:rgb(0%,0%,0%);fill-opacity:1;\">\n",
       "  <use xlink:href=\"#glyph1-7\" x=\"61.050781\" y=\"456.480469\"/>\n",
       "  <use xlink:href=\"#glyph1-8\" x=\"67.724609\" y=\"456.480469\"/>\n",
       "  <use xlink:href=\"#glyph1-8\" x=\"74.398438\" y=\"456.480469\"/>\n",
       "  <use xlink:href=\"#glyph1-8\" x=\"81.072266\" y=\"456.480469\"/>\n",
       "</g>\n",
       "<g style=\"fill:rgb(0%,0%,0%);fill-opacity:1;\">\n",
       "  <use xlink:href=\"#glyph1-7\" x=\"99.882813\" y=\"456.480469\"/>\n",
       "  <use xlink:href=\"#glyph1-8\" x=\"106.556641\" y=\"456.480469\"/>\n",
       "  <use xlink:href=\"#glyph1-8\" x=\"113.230469\" y=\"456.480469\"/>\n",
       "  <use xlink:href=\"#glyph1-7\" x=\"119.904297\" y=\"456.480469\"/>\n",
       "</g>\n",
       "<g style=\"fill:rgb(0%,0%,0%);fill-opacity:1;\">\n",
       "  <use xlink:href=\"#glyph1-7\" x=\"138.714844\" y=\"456.480469\"/>\n",
       "  <use xlink:href=\"#glyph1-8\" x=\"145.388672\" y=\"456.480469\"/>\n",
       "  <use xlink:href=\"#glyph1-8\" x=\"152.0625\" y=\"456.480469\"/>\n",
       "  <use xlink:href=\"#glyph1-9\" x=\"158.736328\" y=\"456.480469\"/>\n",
       "</g>\n",
       "<g style=\"fill:rgb(0%,0%,0%);fill-opacity:1;\">\n",
       "  <use xlink:href=\"#glyph1-7\" x=\"177.546875\" y=\"456.480469\"/>\n",
       "  <use xlink:href=\"#glyph1-8\" x=\"184.220703\" y=\"456.480469\"/>\n",
       "  <use xlink:href=\"#glyph1-8\" x=\"190.894531\" y=\"456.480469\"/>\n",
       "  <use xlink:href=\"#glyph1-10\" x=\"197.568359\" y=\"456.480469\"/>\n",
       "</g>\n",
       "<g style=\"fill:rgb(0%,0%,0%);fill-opacity:1;\">\n",
       "  <use xlink:href=\"#glyph1-7\" x=\"216.378906\" y=\"456.480469\"/>\n",
       "  <use xlink:href=\"#glyph1-8\" x=\"223.052734\" y=\"456.480469\"/>\n",
       "  <use xlink:href=\"#glyph1-8\" x=\"229.726563\" y=\"456.480469\"/>\n",
       "  <use xlink:href=\"#glyph1-11\" x=\"236.400391\" y=\"456.480469\"/>\n",
       "</g>\n",
       "<g style=\"fill:rgb(0%,0%,0%);fill-opacity:1;\">\n",
       "  <use xlink:href=\"#glyph1-7\" x=\"255.210938\" y=\"456.480469\"/>\n",
       "  <use xlink:href=\"#glyph1-8\" x=\"261.884766\" y=\"456.480469\"/>\n",
       "  <use xlink:href=\"#glyph1-8\" x=\"268.558594\" y=\"456.480469\"/>\n",
       "  <use xlink:href=\"#glyph1-12\" x=\"275.232422\" y=\"456.480469\"/>\n",
       "</g>\n",
       "<g style=\"fill:rgb(0%,0%,0%);fill-opacity:1;\">\n",
       "  <use xlink:href=\"#glyph1-7\" x=\"294.042969\" y=\"456.480469\"/>\n",
       "  <use xlink:href=\"#glyph1-8\" x=\"300.716797\" y=\"456.480469\"/>\n",
       "  <use xlink:href=\"#glyph1-8\" x=\"307.390625\" y=\"456.480469\"/>\n",
       "  <use xlink:href=\"#glyph1-13\" x=\"314.064453\" y=\"456.480469\"/>\n",
       "</g>\n",
       "<g style=\"fill:rgb(0%,0%,0%);fill-opacity:1;\">\n",
       "  <use xlink:href=\"#glyph1-7\" x=\"332.871094\" y=\"456.480469\"/>\n",
       "  <use xlink:href=\"#glyph1-8\" x=\"339.544922\" y=\"456.480469\"/>\n",
       "  <use xlink:href=\"#glyph1-8\" x=\"346.21875\" y=\"456.480469\"/>\n",
       "  <use xlink:href=\"#glyph1-14\" x=\"352.892578\" y=\"456.480469\"/>\n",
       "</g>\n",
       "<g style=\"fill:rgb(0%,0%,0%);fill-opacity:1;\">\n",
       "  <use xlink:href=\"#glyph1-7\" x=\"371.703125\" y=\"456.480469\"/>\n",
       "  <use xlink:href=\"#glyph1-8\" x=\"378.376953\" y=\"456.480469\"/>\n",
       "  <use xlink:href=\"#glyph1-15\" x=\"385.050781\" y=\"456.480469\"/>\n",
       "  <use xlink:href=\"#glyph1-8\" x=\"391.724609\" y=\"456.480469\"/>\n",
       "</g>\n",
       "<g style=\"fill:rgb(0%,0%,0%);fill-opacity:1;\">\n",
       "  <use xlink:href=\"#glyph1-7\" x=\"410.535156\" y=\"456.480469\"/>\n",
       "  <use xlink:href=\"#glyph1-8\" x=\"417.208984\" y=\"456.480469\"/>\n",
       "  <use xlink:href=\"#glyph1-15\" x=\"423.882813\" y=\"456.480469\"/>\n",
       "  <use xlink:href=\"#glyph1-7\" x=\"430.556641\" y=\"456.480469\"/>\n",
       "</g>\n",
       "</g>\n",
       "</svg>\n"
      ],
      "text/plain": [
       "Plot with title \"Histogram of DATA$Date\""
      ]
     },
     "metadata": {
      "image/svg+xml": {
       "isolated": true
      }
     },
     "output_type": "display_data"
    }
   ],
   "source": [
    "hist(DATA$Date, breaks = 100)"
   ]
  },
  {
   "cell_type": "code",
   "execution_count": 10,
   "metadata": {
    "collapsed": false
   },
   "outputs": [
    {
     "data": {
      "image/png": "[encoded data removed]",
      "image/svg+xml": [
       "<?xml version=\"1.0\" encoding=\"UTF-8\"?>\n",
       "<svg xmlns=\"http://www.w3.org/2000/svg\" xmlns:xlink=\"http://www.w3.org/1999/xlink\" width=\"504pt\" height=\"504pt\" viewBox=\"0 0 504 504\" version=\"1.1\">\n",
       "<defs>\n",
       "<g>\n",
       "<symbol overflow=\"visible\" id=\"glyph0-0\">\n",
       "<path style=\"stroke:none;\" d=\"M 0.984375 0 L 0.984375 -8.589844 L 6.78125 -8.589844 L 6.78125 -7.578125 L 2.121094 -7.578125 L 2.121094 -4.914063 L 6.152344 -4.914063 L 6.152344 -3.902344 L 2.121094 -3.902344 L 2.121094 0 Z M 0.984375 0 \"/>\n",
       "</symbol>\n",
       "<symbol overflow=\"visible\" id=\"glyph0-1\">\n",
       "<path style=\"stroke:none;\" d=\"M -0.015625 0 L 3.28125 -8.589844 L 4.507813 -8.589844 L 8.023438 0 L 6.726563 0 L 5.726563 -2.601563 L 2.132813 -2.601563 L 1.1875 0 Z M 2.460938 -3.527344 L 5.375 -3.527344 L 4.476563 -5.90625 C 4.203125 -6.628906 4 -7.222656 3.867188 -7.6875 C 3.757813 -7.132813 3.601563 -6.585938 3.40625 -6.046875 Z M 2.460938 -3.527344 \"/>\n",
       "</symbol>\n",
       "<symbol overflow=\"visible\" id=\"glyph0-2\">\n",
       "<path style=\"stroke:none;\" d=\"M 0.878906 0 L 0.878906 -8.589844 L 2.015625 -8.589844 L 2.015625 -1.015625 L 6.246094 -1.015625 L 6.246094 0 Z M 0.878906 0 \"/>\n",
       "</symbol>\n",
       "<symbol overflow=\"visible\" id=\"glyph0-3\">\n",
       "<path style=\"stroke:none;\" d=\"M 0.539063 -2.757813 L 1.609375 -2.851563 C 1.660156 -2.421875 1.777344 -2.070313 1.964844 -1.796875 C 2.144531 -1.519531 2.433594 -1.296875 2.828125 -1.128906 C 3.214844 -0.957031 3.65625 -0.871094 4.148438 -0.875 C 4.578125 -0.871094 4.960938 -0.9375 5.296875 -1.066406 C 5.628906 -1.191406 5.875 -1.367188 6.039063 -1.59375 C 6.199219 -1.820313 6.28125 -2.066406 6.28125 -2.332031 C 6.28125 -2.597656 6.203125 -2.832031 6.046875 -3.035156 C 5.890625 -3.238281 5.632813 -3.40625 5.273438 -3.546875 C 5.042969 -3.632813 4.53125 -3.773438 3.746094 -3.964844 C 2.953125 -4.152344 2.402344 -4.332031 2.085938 -4.5 C 1.671875 -4.710938 1.363281 -4.976563 1.167969 -5.296875 C 0.964844 -5.617188 0.867188 -5.972656 0.867188 -6.367188 C 0.867188 -6.800781 0.988281 -7.207031 1.234375 -7.582031 C 1.480469 -7.957031 1.839844 -8.242188 2.3125 -8.441406 C 2.785156 -8.632813 3.3125 -8.730469 3.890625 -8.734375 C 4.523438 -8.730469 5.082031 -8.628906 5.574219 -8.425781 C 6.058594 -8.222656 6.433594 -7.921875 6.695313 -7.523438 C 6.957031 -7.125 7.097656 -6.671875 7.117188 -6.171875 L 6.03125 -6.085938 C 5.96875 -6.628906 5.769531 -7.039063 5.433594 -7.316406 C 5.09375 -7.59375 4.597656 -7.734375 3.9375 -7.734375 C 3.25 -7.734375 2.746094 -7.605469 2.433594 -7.355469 C 2.113281 -7.097656 1.957031 -6.796875 1.960938 -6.445313 C 1.957031 -6.136719 2.070313 -5.882813 2.296875 -5.683594 C 2.515625 -5.480469 3.085938 -5.273438 4.011719 -5.070313 C 4.933594 -4.859375 5.566406 -4.679688 5.914063 -4.523438 C 6.410156 -4.292969 6.78125 -4 7.019531 -3.648438 C 7.253906 -3.292969 7.371094 -2.886719 7.375 -2.425781 C 7.371094 -1.96875 7.242188 -1.535156 6.984375 -1.132813 C 6.722656 -0.726563 6.34375 -0.414063 5.855469 -0.1875 C 5.363281 0.0351563 4.8125 0.144531 4.203125 0.148438 C 3.421875 0.144531 2.769531 0.0351563 2.246094 -0.191406 C 1.71875 -0.414063 1.308594 -0.753906 1.011719 -1.214844 C 0.710938 -1.667969 0.554688 -2.183594 0.539063 -2.757813 Z M 0.539063 -2.757813 \"/>\n",
       "</symbol>\n",
       "<symbol overflow=\"visible\" id=\"glyph0-4\">\n",
       "<path style=\"stroke:none;\" d=\"M 0.949219 0 L 0.949219 -8.589844 L 7.160156 -8.589844 L 7.160156 -7.578125 L 2.085938 -7.578125 L 2.085938 -4.945313 L 6.835938 -4.945313 L 6.835938 -3.9375 L 2.085938 -3.9375 L 2.085938 -1.015625 L 7.359375 -1.015625 L 7.359375 0 Z M 0.949219 0 \"/>\n",
       "</symbol>\n",
       "<symbol overflow=\"visible\" id=\"glyph0-5\">\n",
       "<path style=\"stroke:none;\" d=\"M 3.109375 0 L 3.109375 -7.578125 L 0.28125 -7.578125 L 0.28125 -8.589844 L 7.089844 -8.589844 L 7.089844 -7.578125 L 4.25 -7.578125 L 4.25 0 Z M 3.109375 0 \"/>\n",
       "</symbol>\n",
       "<symbol overflow=\"visible\" id=\"glyph0-6\">\n",
       "<path style=\"stroke:none;\" d=\"M 0.945313 0 L 0.945313 -8.589844 L 4.75 -8.589844 C 5.511719 -8.589844 6.09375 -8.511719 6.496094 -8.355469 C 6.890625 -8.199219 7.210938 -7.925781 7.453125 -7.539063 C 7.691406 -7.144531 7.808594 -6.714844 7.8125 -6.246094 C 7.808594 -5.636719 7.613281 -5.121094 7.21875 -4.703125 C 6.820313 -4.285156 6.210938 -4.019531 5.390625 -3.90625 C 5.691406 -3.761719 5.917969 -3.621094 6.078125 -3.480469 C 6.40625 -3.175781 6.722656 -2.792969 7.019531 -2.335938 L 8.515625 0 L 7.085938 0 L 5.945313 -1.789063 C 5.613281 -2.300781 5.339844 -2.695313 5.125 -2.972656 C 4.910156 -3.242188 4.71875 -3.433594 4.550781 -3.546875 C 4.378906 -3.652344 4.207031 -3.730469 4.03125 -3.773438 C 3.898438 -3.796875 3.6875 -3.808594 3.398438 -3.8125 L 2.078125 -3.8125 L 2.078125 0 Z M 2.078125 -4.796875 L 4.523438 -4.796875 C 5.042969 -4.792969 5.449219 -4.847656 5.742188 -4.957031 C 6.03125 -5.066406 6.253906 -5.238281 6.410156 -5.472656 C 6.5625 -5.707031 6.636719 -5.964844 6.640625 -6.246094 C 6.636719 -6.652344 6.488281 -6.984375 6.195313 -7.246094 C 5.898438 -7.507813 5.433594 -7.640625 4.796875 -7.640625 L 2.078125 -7.640625 Z M 2.078125 -4.796875 \"/>\n",
       "</symbol>\n",
       "<symbol overflow=\"visible\" id=\"glyph0-7\">\n",
       "<path style=\"stroke:none;\" d=\"M 6.5625 -8.589844 L 7.699219 -8.589844 L 7.699219 -3.625 C 7.699219 -2.761719 7.601563 -2.078125 7.40625 -1.570313 C 7.210938 -1.0625 6.855469 -0.648438 6.347656 -0.328125 C 5.835938 -0.0117188 5.167969 0.144531 4.34375 0.148438 C 3.53125 0.144531 2.875 0.0078125 2.367188 -0.269531 C 1.855469 -0.546875 1.488281 -0.945313 1.273438 -1.472656 C 1.050781 -1.996094 0.941406 -2.714844 0.945313 -3.625 L 0.945313 -8.589844 L 2.078125 -8.589844 L 2.078125 -3.632813 C 2.074219 -2.886719 2.144531 -2.335938 2.285156 -1.984375 C 2.425781 -1.628906 2.664063 -1.355469 3 -1.164063 C 3.335938 -0.972656 3.75 -0.878906 4.242188 -0.878906 C 5.078125 -0.878906 5.671875 -1.066406 6.027344 -1.445313 C 6.382813 -1.824219 6.5625 -2.554688 6.5625 -3.632813 Z M 6.5625 -8.589844 \"/>\n",
       "</symbol>\n",
       "<symbol overflow=\"visible\" id=\"glyph1-0\">\n",
       "<path style=\"stroke:none;\" d=\"M -1.011719 -6.039063 L 0 -6.039063 L 0 -0.363281 C -0.253906 -0.355469 -0.496094 -0.394531 -0.734375 -0.488281 C -1.117188 -0.628906 -1.5 -0.859375 -1.875 -1.179688 C -2.25 -1.496094 -2.683594 -1.957031 -3.175781 -2.5625 C -3.941406 -3.492188 -4.546875 -4.125 -4.992188 -4.453125 C -5.4375 -4.78125 -5.859375 -4.945313 -6.265625 -4.945313 C -6.679688 -4.945313 -7.03125 -4.792969 -7.320313 -4.496094 C -7.601563 -4.195313 -7.746094 -3.808594 -7.75 -3.328125 C -7.746094 -2.820313 -7.59375 -2.414063 -7.292969 -2.109375 C -6.984375 -1.804688 -6.5625 -1.648438 -6.03125 -1.648438 L -6.140625 -0.5625 C -6.945313 -0.636719 -7.558594 -0.914063 -7.988281 -1.402344 C -8.410156 -1.882813 -8.625 -2.535156 -8.625 -3.351563 C -8.625 -4.175781 -8.394531 -4.828125 -7.9375 -5.308594 C -7.480469 -5.789063 -6.914063 -6.027344 -6.242188 -6.03125 C -5.894531 -6.027344 -5.558594 -5.957031 -5.226563 -5.820313 C -4.890625 -5.675781 -4.539063 -5.441406 -4.175781 -5.117188 C -3.804688 -4.789063 -3.300781 -4.25 -2.664063 -3.492188 C -2.128906 -2.859375 -1.769531 -2.453125 -1.582031 -2.273438 C -1.394531 -2.09375 -1.203125 -1.945313 -1.011719 -1.828125 Z M -1.011719 -6.039063 \"/>\n",
       "</symbol>\n",
       "<symbol overflow=\"visible\" id=\"glyph1-1\">\n",
       "<path style=\"stroke:none;\" d=\"M -4.234375 -0.5 C -5.246094 -0.496094 -6.0625 -0.601563 -6.6875 -0.8125 C -7.304688 -1.019531 -7.785156 -1.328125 -8.121094 -1.742188 C -8.457031 -2.152344 -8.625 -2.671875 -8.625 -3.300781 C -8.625 -3.757813 -8.53125 -4.164063 -8.347656 -4.511719 C -8.160156 -4.859375 -7.890625 -5.144531 -7.542969 -5.371094 C -7.191406 -5.59375 -6.765625 -5.773438 -6.265625 -5.90625 C -5.761719 -6.035156 -5.085938 -6.097656 -4.234375 -6.101563 C -3.222656 -6.097656 -2.410156 -5.996094 -1.792969 -5.789063 C -1.175781 -5.578125 -0.695313 -5.265625 -0.359375 -4.859375 C -0.0195313 -4.445313 0.144531 -3.925781 0.148438 -3.296875 C 0.144531 -2.464844 -0.148438 -1.816406 -0.742188 -1.347656 C -1.457031 -0.78125 -2.621094 -0.496094 -4.234375 -0.5 Z M -4.234375 -1.582031 C -2.824219 -1.582031 -1.886719 -1.746094 -1.417969 -2.074219 C -0.949219 -2.402344 -0.714844 -2.808594 -0.71875 -3.296875 C -0.714844 -3.777344 -0.949219 -4.183594 -1.421875 -4.519531 C -1.886719 -4.847656 -2.824219 -5.015625 -4.234375 -5.015625 C -5.648438 -5.015625 -6.589844 -4.847656 -7.054688 -4.519531 C -7.515625 -4.1875 -7.746094 -3.777344 -7.75 -3.289063 C -7.746094 -2.800781 -7.542969 -2.414063 -7.136719 -2.128906 C -6.613281 -1.761719 -5.644531 -1.582031 -4.234375 -1.582031 Z M -4.234375 -1.582031 \"/>\n",
       "</symbol>\n",
       "<symbol overflow=\"visible\" id=\"glyph1-2\">\n",
       "<path style=\"stroke:none;\" d=\"M 0 -3.878906 L -2.054688 -3.878906 L -2.054688 -0.152344 L -3.023438 -0.152344 L -8.589844 -4.074219 L -8.589844 -4.933594 L -3.023438 -4.933594 L -3.023438 -6.09375 L -2.054688 -6.09375 L -2.054688 -4.933594 L 0 -4.933594 Z M -3.023438 -3.878906 L -6.898438 -3.878906 L -3.023438 -1.191406 Z M -3.023438 -3.878906 \"/>\n",
       "</symbol>\n",
       "<symbol overflow=\"visible\" id=\"glyph1-3\">\n",
       "<path style=\"stroke:none;\" d=\"M -6.484375 -5.96875 L -6.40625 -4.921875 C -6.8125 -4.828125 -7.113281 -4.695313 -7.304688 -4.523438 C -7.605469 -4.238281 -7.757813 -3.886719 -7.757813 -3.46875 C -7.757813 -3.132813 -7.664063 -2.835938 -7.476563 -2.585938 C -7.234375 -2.25 -6.878906 -1.988281 -6.414063 -1.796875 C -5.949219 -1.605469 -5.289063 -1.507813 -4.429688 -1.5 C -4.8125 -1.753906 -5.097656 -2.0625 -5.289063 -2.433594 C -5.472656 -2.796875 -5.566406 -3.183594 -5.570313 -3.585938 C -5.566406 -4.289063 -5.308594 -4.886719 -4.792969 -5.382813 C -4.277344 -5.875 -3.609375 -6.121094 -2.789063 -6.125 C -2.25 -6.121094 -1.746094 -6.003906 -1.285156 -5.773438 C -0.816406 -5.539063 -0.460938 -5.222656 -0.21875 -4.816406 C 0.0273438 -4.410156 0.144531 -3.949219 0.148438 -3.433594 C 0.144531 -2.554688 -0.175781 -1.835938 -0.820313 -1.285156 C -1.46875 -0.726563 -2.535156 -0.449219 -4.019531 -0.453125 C -5.675781 -0.449219 -6.882813 -0.757813 -7.640625 -1.371094 C -8.296875 -1.90625 -8.625 -2.625 -8.625 -3.535156 C -8.625 -4.207031 -8.433594 -4.761719 -8.054688 -5.195313 C -7.675781 -5.625 -7.152344 -5.882813 -6.484375 -5.96875 Z M -2.78125 -1.664063 C -2.417969 -1.664063 -2.070313 -1.738281 -1.738281 -1.894531 C -1.40625 -2.042969 -1.152344 -2.261719 -0.980469 -2.542969 C -0.800781 -2.820313 -0.714844 -3.109375 -0.71875 -3.414063 C -0.714844 -3.859375 -0.894531 -4.242188 -1.257813 -4.566406 C -1.613281 -4.882813 -2.101563 -5.042969 -2.722656 -5.046875 C -3.3125 -5.042969 -3.78125 -4.886719 -4.125 -4.570313 C -4.46875 -4.25 -4.640625 -3.851563 -4.640625 -3.375 C -4.640625 -2.898438 -4.46875 -2.492188 -4.128906 -2.160156 C -3.785156 -1.828125 -3.335938 -1.664063 -2.78125 -1.664063 Z M -2.78125 -1.664063 \"/>\n",
       "</symbol>\n",
       "<symbol overflow=\"visible\" id=\"glyph1-4\">\n",
       "<path style=\"stroke:none;\" d=\"M -4.65625 -2.121094 C -4.816406 -1.683594 -5.046875 -1.359375 -5.34375 -1.148438 C -5.640625 -0.9375 -5.996094 -0.832031 -6.410156 -0.832031 C -7.035156 -0.832031 -7.558594 -1.054688 -7.984375 -1.503906 C -8.410156 -1.953125 -8.625 -2.550781 -8.625 -3.300781 C -8.625 -4.046875 -8.40625 -4.652344 -7.972656 -5.109375 C -7.535156 -5.566406 -7.003906 -5.792969 -6.382813 -5.796875 C -5.976563 -5.792969 -5.628906 -5.6875 -5.339844 -5.480469 C -5.042969 -5.269531 -4.816406 -4.953125 -4.65625 -4.53125 C -4.480469 -5.054688 -4.203125 -5.457031 -3.824219 -5.734375 C -3.4375 -6.007813 -2.980469 -6.144531 -2.453125 -6.148438 C -1.714844 -6.144531 -1.097656 -5.886719 -0.601563 -5.367188 C -0.101563 -4.84375 0.144531 -4.160156 0.148438 -3.316406 C 0.144531 -2.46875 -0.101563 -1.785156 -0.605469 -1.265625 C -1.105469 -0.746094 -1.734375 -0.484375 -2.484375 -0.488281 C -3.039063 -0.484375 -3.503906 -0.625 -3.886719 -0.910156 C -4.261719 -1.191406 -4.519531 -1.597656 -4.65625 -2.121094 Z M -6.445313 -1.910156 C -6.039063 -1.910156 -5.707031 -2.039063 -5.449219 -2.300781 C -5.191406 -2.5625 -5.0625 -2.902344 -5.0625 -3.324219 C -5.0625 -3.726563 -5.1875 -4.058594 -5.445313 -4.320313 C -5.695313 -4.578125 -6.011719 -4.710938 -6.386719 -4.710938 C -6.773438 -4.710938 -7.097656 -4.574219 -7.363281 -4.308594 C -7.625 -4.039063 -7.757813 -3.707031 -7.757813 -3.3125 C -7.757813 -2.90625 -7.628906 -2.574219 -7.371094 -2.308594 C -7.113281 -2.042969 -6.804688 -1.910156 -6.445313 -1.910156 Z M -2.476563 -1.570313 C -2.175781 -1.570313 -1.886719 -1.640625 -1.605469 -1.785156 C -1.324219 -1.925781 -1.105469 -2.136719 -0.949219 -2.421875 C -0.792969 -2.699219 -0.714844 -3.003906 -0.71875 -3.328125 C -0.714844 -3.832031 -0.875 -4.246094 -1.203125 -4.578125 C -1.523438 -4.902344 -1.9375 -5.066406 -2.441406 -5.070313 C -2.945313 -5.066406 -3.367188 -4.898438 -3.703125 -4.5625 C -4.035156 -4.222656 -4.199219 -3.800781 -4.203125 -3.292969 C -4.199219 -2.796875 -4.035156 -2.382813 -3.710938 -2.058594 C -3.378906 -1.730469 -2.96875 -1.570313 -2.476563 -1.570313 Z M -2.476563 -1.570313 \"/>\n",
       "</symbol>\n",
       "<symbol overflow=\"visible\" id=\"glyph1-5\">\n",
       "<path style=\"stroke:none;\" d=\"M 0 -4.46875 L 0 -3.414063 L -6.71875 -3.417969 C -6.476563 -3.160156 -6.234375 -2.828125 -5.996094 -2.417969 C -5.75 -2.003906 -5.570313 -1.632813 -5.449219 -1.308594 L -6.46875 -1.308594 C -6.742188 -1.894531 -7.078125 -2.410156 -7.476563 -2.851563 C -7.871094 -3.292969 -8.253906 -3.605469 -8.625 -3.792969 L -8.625 -4.472656 Z M 0 -4.46875 \"/>\n",
       "</symbol>\n",
       "</g>\n",
       "<clipPath id=\"clip1\">\n",
       "  <path d=\"M 59.039063 59.039063 L 474.757813 59.039063 L 474.757813 431.558594 L 59.039063 431.558594 Z M 59.039063 59.039063 \"/>\n",
       "</clipPath>\n",
       "</defs>\n",
       "<g id=\"surface1\">\n",
       "<rect x=\"0\" y=\"0\" width=\"504\" height=\"504\" style=\"fill:rgb(100%,100%,100%);fill-opacity:1;stroke:none;\"/>\n",
       "<g clip-path=\"url(#clip1)\" clip-rule=\"nonzero\">\n",
       "<path style=\"fill:none;stroke-width:2.25;stroke-linecap:butt;stroke-linejoin:round;stroke:rgb(0%,0%,0%);stroke-opacity:1;stroke-miterlimit:10;\" d=\"M 93.601563 258.851563 L 247.199219 258.851563 \"/>\n",
       "<path style=\"fill:none;stroke-width:0.75;stroke-linecap:round;stroke-linejoin:round;stroke:rgb(0%,0%,0%);stroke-opacity:1;stroke-dasharray:3,3;stroke-miterlimit:10;\" d=\"M 170.398438 416.800781 L 170.398438 342.066406 \"/>\n",
       "<path style=\"fill:none;stroke-width:0.75;stroke-linecap:round;stroke-linejoin:round;stroke:rgb(0%,0%,0%);stroke-opacity:1;stroke-dasharray:3,3;stroke-miterlimit:10;\" d=\"M 170.398438 72.800781 L 170.398438 160.253906 \"/>\n",
       "<path style=\"fill:none;stroke-width:0.75;stroke-linecap:round;stroke-linejoin:round;stroke:rgb(0%,0%,0%);stroke-opacity:1;stroke-miterlimit:10;\" d=\"M 132 416.800781 L 208.800781 416.800781 \"/>\n",
       "<path style=\"fill:none;stroke-width:0.75;stroke-linecap:round;stroke-linejoin:round;stroke:rgb(0%,0%,0%);stroke-opacity:1;stroke-miterlimit:10;\" d=\"M 132 72.800781 L 208.800781 72.800781 \"/>\n",
       "<path style=\"fill:none;stroke-width:0.75;stroke-linecap:round;stroke-linejoin:round;stroke:rgb(0%,0%,0%);stroke-opacity:1;stroke-miterlimit:10;\" d=\"M 93.601563 342.066406 L 247.199219 342.066406 L 247.199219 160.253906 L 93.601563 160.253906 L 93.601563 342.066406 \"/>\n",
       "<path style=\"fill:none;stroke-width:2.25;stroke-linecap:butt;stroke-linejoin:round;stroke:rgb(0%,0%,0%);stroke-opacity:1;stroke-miterlimit:10;\" d=\"M 285.601563 301.910156 L 439.199219 301.910156 \"/>\n",
       "<path style=\"fill:none;stroke-width:0.75;stroke-linecap:round;stroke-linejoin:round;stroke:rgb(0%,0%,0%);stroke-opacity:1;stroke-dasharray:3,3;stroke-miterlimit:10;\" d=\"M 362.398438 416.800781 L 362.398438 364.988281 \"/>\n",
       "<path style=\"fill:none;stroke-width:0.75;stroke-linecap:round;stroke-linejoin:round;stroke:rgb(0%,0%,0%);stroke-opacity:1;stroke-dasharray:3,3;stroke-miterlimit:10;\" d=\"M 362.398438 72.800781 L 362.398438 220.03125 \"/>\n",
       "<path style=\"fill:none;stroke-width:0.75;stroke-linecap:round;stroke-linejoin:round;stroke:rgb(0%,0%,0%);stroke-opacity:1;stroke-miterlimit:10;\" d=\"M 324 416.800781 L 400.800781 416.800781 \"/>\n",
       "<path style=\"fill:none;stroke-width:0.75;stroke-linecap:round;stroke-linejoin:round;stroke:rgb(0%,0%,0%);stroke-opacity:1;stroke-miterlimit:10;\" d=\"M 324 72.800781 L 400.800781 72.800781 \"/>\n",
       "<path style=\"fill:none;stroke-width:0.75;stroke-linecap:round;stroke-linejoin:round;stroke:rgb(0%,0%,0%);stroke-opacity:1;stroke-miterlimit:10;\" d=\"M 285.601563 364.988281 L 439.199219 364.988281 L 439.199219 220.03125 L 285.601563 220.03125 L 285.601563 364.988281 \"/>\n",
       "</g>\n",
       "<path style=\"fill:none;stroke-width:0.75;stroke-linecap:round;stroke-linejoin:round;stroke:rgb(0%,0%,0%);stroke-opacity:1;stroke-miterlimit:10;\" d=\"M 170.398438 430.558594 L 362.398438 430.558594 \"/>\n",
       "<path style=\"fill:none;stroke-width:0.75;stroke-linecap:round;stroke-linejoin:round;stroke:rgb(0%,0%,0%);stroke-opacity:1;stroke-miterlimit:10;\" d=\"M 170.398438 430.558594 L 170.398438 437.761719 \"/>\n",
       "<path style=\"fill:none;stroke-width:0.75;stroke-linecap:round;stroke-linejoin:round;stroke:rgb(0%,0%,0%);stroke-opacity:1;stroke-miterlimit:10;\" d=\"M 362.398438 430.558594 L 362.398438 437.761719 \"/>\n",
       "<g style=\"fill:rgb(0%,0%,0%);fill-opacity:1;\">\n",
       "  <use xlink:href=\"#glyph0-0\" x=\"151.390625\" y=\"456.480469\"/>\n",
       "  <use xlink:href=\"#glyph0-1\" x=\"158.720703\" y=\"456.480469\"/>\n",
       "  <use xlink:href=\"#glyph0-2\" x=\"166.724609\" y=\"456.480469\"/>\n",
       "  <use xlink:href=\"#glyph0-3\" x=\"173.398438\" y=\"456.480469\"/>\n",
       "  <use xlink:href=\"#glyph0-4\" x=\"181.402344\" y=\"456.480469\"/>\n",
       "</g>\n",
       "<g style=\"fill:rgb(0%,0%,0%);fill-opacity:1;\">\n",
       "  <use xlink:href=\"#glyph0-5\" x=\"346.066406\" y=\"456.480469\"/>\n",
       "  <use xlink:href=\"#glyph0-6\" x=\"353.396484\" y=\"456.480469\"/>\n",
       "  <use xlink:href=\"#glyph0-7\" x=\"362.0625\" y=\"456.480469\"/>\n",
       "  <use xlink:href=\"#glyph0-4\" x=\"370.728516\" y=\"456.480469\"/>\n",
       "</g>\n",
       "<path style=\"fill:none;stroke-width:0.75;stroke-linecap:round;stroke-linejoin:round;stroke:rgb(0%,0%,0%);stroke-opacity:1;stroke-miterlimit:10;\" d=\"M 59.039063 388.144531 L 59.039063 101.453125 \"/>\n",
       "<path style=\"fill:none;stroke-width:0.75;stroke-linecap:round;stroke-linejoin:round;stroke:rgb(0%,0%,0%);stroke-opacity:1;stroke-miterlimit:10;\" d=\"M 59.039063 388.144531 L 51.839844 388.144531 \"/>\n",
       "<path style=\"fill:none;stroke-width:0.75;stroke-linecap:round;stroke-linejoin:round;stroke:rgb(0%,0%,0%);stroke-opacity:1;stroke-miterlimit:10;\" d=\"M 59.039063 330.839844 L 51.839844 330.839844 \"/>\n",
       "<path style=\"fill:none;stroke-width:0.75;stroke-linecap:round;stroke-linejoin:round;stroke:rgb(0%,0%,0%);stroke-opacity:1;stroke-miterlimit:10;\" d=\"M 59.039063 273.453125 L 51.839844 273.453125 \"/>\n",
       "<path style=\"fill:none;stroke-width:0.75;stroke-linecap:round;stroke-linejoin:round;stroke:rgb(0%,0%,0%);stroke-opacity:1;stroke-miterlimit:10;\" d=\"M 59.039063 216.144531 L 51.839844 216.144531 \"/>\n",
       "<path style=\"fill:none;stroke-width:0.75;stroke-linecap:round;stroke-linejoin:round;stroke:rgb(0%,0%,0%);stroke-opacity:1;stroke-miterlimit:10;\" d=\"M 59.039063 158.761719 L 51.839844 158.761719 \"/>\n",
       "<path style=\"fill:none;stroke-width:0.75;stroke-linecap:round;stroke-linejoin:round;stroke:rgb(0%,0%,0%);stroke-opacity:1;stroke-miterlimit:10;\" d=\"M 59.039063 101.453125 L 51.839844 101.453125 \"/>\n",
       "<g style=\"fill:rgb(0%,0%,0%);fill-opacity:1;\">\n",
       "  <use xlink:href=\"#glyph1-0\" x=\"41.761719\" y=\"401.492188\"/>\n",
       "  <use xlink:href=\"#glyph1-1\" x=\"41.761719\" y=\"394.818359\"/>\n",
       "  <use xlink:href=\"#glyph1-1\" x=\"41.761719\" y=\"388.144531\"/>\n",
       "  <use xlink:href=\"#glyph1-0\" x=\"41.761719\" y=\"381.470703\"/>\n",
       "</g>\n",
       "<g style=\"fill:rgb(0%,0%,0%);fill-opacity:1;\">\n",
       "  <use xlink:href=\"#glyph1-0\" x=\"41.761719\" y=\"344.1875\"/>\n",
       "  <use xlink:href=\"#glyph1-1\" x=\"41.761719\" y=\"337.513672\"/>\n",
       "  <use xlink:href=\"#glyph1-1\" x=\"41.761719\" y=\"330.839844\"/>\n",
       "  <use xlink:href=\"#glyph1-2\" x=\"41.761719\" y=\"324.166016\"/>\n",
       "</g>\n",
       "<g style=\"fill:rgb(0%,0%,0%);fill-opacity:1;\">\n",
       "  <use xlink:href=\"#glyph1-0\" x=\"41.761719\" y=\"286.800781\"/>\n",
       "  <use xlink:href=\"#glyph1-1\" x=\"41.761719\" y=\"280.126953\"/>\n",
       "  <use xlink:href=\"#glyph1-1\" x=\"41.761719\" y=\"273.453125\"/>\n",
       "  <use xlink:href=\"#glyph1-3\" x=\"41.761719\" y=\"266.779297\"/>\n",
       "</g>\n",
       "<g style=\"fill:rgb(0%,0%,0%);fill-opacity:1;\">\n",
       "  <use xlink:href=\"#glyph1-0\" x=\"41.761719\" y=\"229.492188\"/>\n",
       "  <use xlink:href=\"#glyph1-1\" x=\"41.761719\" y=\"222.818359\"/>\n",
       "  <use xlink:href=\"#glyph1-1\" x=\"41.761719\" y=\"216.144531\"/>\n",
       "  <use xlink:href=\"#glyph1-4\" x=\"41.761719\" y=\"209.470703\"/>\n",
       "</g>\n",
       "<g style=\"fill:rgb(0%,0%,0%);fill-opacity:1;\">\n",
       "  <use xlink:href=\"#glyph1-0\" x=\"41.761719\" y=\"172.109375\"/>\n",
       "  <use xlink:href=\"#glyph1-1\" x=\"41.761719\" y=\"165.435547\"/>\n",
       "  <use xlink:href=\"#glyph1-5\" x=\"41.761719\" y=\"158.761719\"/>\n",
       "  <use xlink:href=\"#glyph1-1\" x=\"41.761719\" y=\"152.087891\"/>\n",
       "</g>\n",
       "<g style=\"fill:rgb(0%,0%,0%);fill-opacity:1;\">\n",
       "  <use xlink:href=\"#glyph1-0\" x=\"41.761719\" y=\"114.800781\"/>\n",
       "  <use xlink:href=\"#glyph1-1\" x=\"41.761719\" y=\"108.126953\"/>\n",
       "  <use xlink:href=\"#glyph1-5\" x=\"41.761719\" y=\"101.453125\"/>\n",
       "  <use xlink:href=\"#glyph1-0\" x=\"41.761719\" y=\"94.779297\"/>\n",
       "</g>\n",
       "<path style=\"fill:none;stroke-width:0.75;stroke-linecap:round;stroke-linejoin:round;stroke:rgb(0%,0%,0%);stroke-opacity:1;stroke-miterlimit:10;\" d=\"M 59.039063 430.558594 L 473.761719 430.558594 L 473.761719 59.039063 L 59.039063 59.039063 L 59.039063 430.558594 \"/>\n",
       "</g>\n",
       "</svg>\n"
      ],
      "text/plain": [
       "plot without title"
      ]
     },
     "metadata": {
      "image/svg+xml": {
       "isolated": true
      }
     },
     "output_type": "display_data"
    }
   ],
   "source": [
    "boxplot(DATA$Date ~ DATA$Arrest)"
   ]
  },
  {
   "cell_type": "code",
   "execution_count": null,
   "metadata": {
    "collapsed": true
   },
   "outputs": [],
   "source": []
  },
  {
   "cell_type": "code",
   "execution_count": 11,
   "metadata": {
    "collapsed": true
   },
   "outputs": [],
   "source": [
    "df_year = subset(DATA, Year == 2001)"
   ]
  },
  {
   "cell_type": "code",
   "execution_count": 12,
   "metadata": {
    "collapsed": false
   },
   "outputs": [
    {
     "data": {
      "text/html": [
       "20669"
      ],
      "text/latex": [
       "20669"
      ],
      "text/markdown": [
       "20669"
      ],
      "text/plain": [
       "[1] 20669"
      ]
     },
     "execution_count": 12,
     "metadata": {},
     "output_type": "execute_result"
    }
   ],
   "source": [
    "nrow(df_year)"
   ]
  },
  {
   "cell_type": "code",
   "execution_count": 14,
   "metadata": {
    "collapsed": false
   },
   "outputs": [
    {
     "data": {
      "text/html": [
       "2152"
      ],
      "text/latex": [
       "2152"
      ],
      "text/markdown": [
       "2152"
      ],
      "text/plain": [
       "[1] 2152"
      ]
     },
     "execution_count": 14,
     "metadata": {},
     "output_type": "execute_result"
    }
   ],
   "source": [
    "nrow(subset(df_year, Arrest == \"TRUE\"))"
   ]
  },
  {
   "cell_type": "code",
   "execution_count": 15,
   "metadata": {
    "collapsed": false
   },
   "outputs": [
    {
     "data": {
      "text/html": [
       "18517"
      ],
      "text/latex": [
       "18517"
      ],
      "text/markdown": [
       "18517"
      ],
      "text/plain": [
       "[1] 18517"
      ]
     },
     "execution_count": 15,
     "metadata": {},
     "output_type": "execute_result"
    }
   ],
   "source": [
    "nrow(subset(df_year, Arrest == \"FALSE\"))"
   ]
  },
  {
   "cell_type": "code",
   "execution_count": 19,
   "metadata": {
    "collapsed": false
   },
   "outputs": [
    {
     "data": {
      "text/html": [
       "0.10411727708162"
      ],
      "text/latex": [
       "0.10411727708162"
      ],
      "text/markdown": [
       "0.10411727708162"
      ],
      "text/plain": [
       "[1] 0.1041173"
      ]
     },
     "execution_count": 19,
     "metadata": {},
     "output_type": "execute_result"
    }
   ],
   "source": [
    "2152/20669"
   ]
  },
  {
   "cell_type": "code",
   "execution_count": 17,
   "metadata": {
    "collapsed": false
   },
   "outputs": [
    {
     "data": {
      "text/plain": [
       "       \n",
       "         2001  2002  2003  2004  2005  2006  2007  2008  2009  2010  2011  2012\n",
       "  FALSE 18517 16638 14859 15169 14956 14796 13068 13425 11327 14796 15012 13542\n",
       "  TRUE   2152  2115  1798  1693  1528  1302  1212  1020   840   701   625   550"
      ]
     },
     "execution_count": 17,
     "metadata": {},
     "output_type": "execute_result"
    }
   ],
   "source": [
    "table(DATA$Arrest, DATA$Year)"
   ]
  },
  {
   "cell_type": "code",
   "execution_count": 20,
   "metadata": {
    "collapsed": false
   },
   "outputs": [
    {
     "data": {
      "text/html": [
       "0.0848739495798319"
      ],
      "text/latex": [
       "0.0848739495798319"
      ],
      "text/markdown": [
       "0.0848739495798319"
      ],
      "text/plain": [
       "[1] 0.08487395"
      ]
     },
     "execution_count": 20,
     "metadata": {},
     "output_type": "execute_result"
    }
   ],
   "source": [
    "1212/(1212+13068)"
   ]
  },
  {
   "cell_type": "code",
   "execution_count": 21,
   "metadata": {
    "collapsed": false
   },
   "outputs": [
    {
     "data": {
      "text/html": [
       "0.0390292364462106"
      ],
      "text/latex": [
       "0.0390292364462106"
      ],
      "text/markdown": [
       "0.0390292364462106"
      ],
      "text/plain": [
       "[1] 0.03902924"
      ]
     },
     "execution_count": 21,
     "metadata": {},
     "output_type": "execute_result"
    }
   ],
   "source": [
    "550/(550+13542)"
   ]
  },
  {
   "cell_type": "code",
   "execution_count": null,
   "metadata": {
    "collapsed": true
   },
   "outputs": [],
   "source": []
  },
  {
   "cell_type": "code",
   "execution_count": null,
   "metadata": {
    "collapsed": true
   },
   "outputs": [],
   "source": []
  },
  {
   "cell_type": "code",
   "execution_count": 26,
   "metadata": {
    "collapsed": false
   },
   "outputs": [
    {
     "data": {
      "text/html": [
       "<dl class=dl-horizontal>\n",
       "\t<dt>AIRPORT BUILDING NON-TERMINAL - SECURE AREA</dt>\n",
       "\t\t<dd>1</dd>\n",
       "\t<dt>AIRPORT EXTERIOR - SECURE AREA</dt>\n",
       "\t\t<dd>1</dd>\n",
       "\t<dt>ANIMAL HOSPITAL</dt>\n",
       "\t\t<dd>1</dd>\n",
       "\t<dt>APPLIANCE STORE</dt>\n",
       "\t\t<dd>1</dd>\n",
       "\t<dt>CTA TRAIN</dt>\n",
       "\t\t<dd>1</dd>\n",
       "\t<dt>JAIL / LOCK-UP FACILITY</dt>\n",
       "\t\t<dd>1</dd>\n",
       "\t<dt>NEWSSTAND</dt>\n",
       "\t\t<dd>1</dd>\n",
       "\t<dt>BRIDGE</dt>\n",
       "\t\t<dd>2</dd>\n",
       "\t<dt>COLLEGE/UNIVERSITY RESIDENCE HALL</dt>\n",
       "\t\t<dd>2</dd>\n",
       "\t<dt>CURRENCY EXCHANGE</dt>\n",
       "\t\t<dd>2</dd>\n",
       "\t<dt>BOWLING ALLEY</dt>\n",
       "\t\t<dd>3</dd>\n",
       "\t<dt>CLEANING STORE</dt>\n",
       "\t\t<dd>3</dd>\n",
       "\t<dt>MEDICAL/DENTAL OFFICE</dt>\n",
       "\t\t<dd>3</dd>\n",
       "\t<dt>ABANDONED BUILDING</dt>\n",
       "\t\t<dd>4</dd>\n",
       "\t<dt>AIRPORT BUILDING NON-TERMINAL - NON-SECURE AREA</dt>\n",
       "\t\t<dd>4</dd>\n",
       "\t<dt>BARBERSHOP</dt>\n",
       "\t\t<dd>4</dd>\n",
       "\t<dt>LAKEFRONT/WATERFRONT/RIVERBANK</dt>\n",
       "\t\t<dd>4</dd>\n",
       "\t<dt>LIBRARY</dt>\n",
       "\t\t<dd>4</dd>\n",
       "\t<dt>SAVINGS AND LOAN</dt>\n",
       "\t\t<dd>4</dd>\n",
       "\t<dt>AIRPORT TERMINAL UPPER LEVEL - NON-SECURE AREA</dt>\n",
       "\t\t<dd>5</dd>\n",
       "\t<dt>CHA APARTMENT</dt>\n",
       "\t\t<dd>5</dd>\n",
       "\t<dt>DAY CARE CENTER</dt>\n",
       "\t\t<dd>5</dd>\n",
       "\t<dt>FIRE STATION</dt>\n",
       "\t\t<dd>5</dd>\n",
       "\t<dt>FOREST PRESERVE</dt>\n",
       "\t\t<dd>6</dd>\n",
       "\t<dt>BANK</dt>\n",
       "\t\t<dd>7</dd>\n",
       "\t<dt>CONVENIENCE STORE</dt>\n",
       "\t\t<dd>7</dd>\n",
       "\t<dt>DRUG STORE</dt>\n",
       "\t\t<dd>8</dd>\n",
       "\t<dt>OTHER COMMERCIAL TRANSPORTATION</dt>\n",
       "\t\t<dd>8</dd>\n",
       "\t<dt>ATHLETIC CLUB</dt>\n",
       "\t\t<dd>9</dd>\n",
       "\t<dt>AIRPORT VENDING ESTABLISHMENT</dt>\n",
       "\t\t<dd>10</dd>\n",
       "\t<dt>AIRPORT PARKING LOT</dt>\n",
       "\t\t<dd>11</dd>\n",
       "\t<dt>SCHOOL, PRIVATE, BUILDING</dt>\n",
       "\t\t<dd>14</dd>\n",
       "\t<dt>TAVERN/LIQUOR STORE</dt>\n",
       "\t\t<dd>14</dd>\n",
       "\t<dt>FACTORY/MANUFACTURING BUILDING</dt>\n",
       "\t\t<dd>16</dd>\n",
       "\t<dt>BAR OR TAVERN</dt>\n",
       "\t\t<dd>17</dd>\n",
       "\t<dt>WAREHOUSE</dt>\n",
       "\t\t<dd>17</dd>\n",
       "\t<dt>MOVIE HOUSE/THEATER</dt>\n",
       "\t\t<dd>18</dd>\n",
       "\t<dt>RESIDENCE PORCH/HALLWAY</dt>\n",
       "\t\t<dd>18</dd>\n",
       "\t<dt>NURSING HOME/RETIREMENT HOME</dt>\n",
       "\t\t<dd>21</dd>\n",
       "\t<dt>TAXICAB</dt>\n",
       "\t\t<dd>21</dd>\n",
       "\t<dt>DEPARTMENT STORE</dt>\n",
       "\t\t<dd>22</dd>\n",
       "\t<dt>HIGHWAY/EXPRESSWAY</dt>\n",
       "\t\t<dd>22</dd>\n",
       "\t<dt>SCHOOL, PRIVATE, GROUNDS</dt>\n",
       "\t\t<dd>23</dd>\n",
       "\t<dt>VEHICLE-COMMERCIAL</dt>\n",
       "\t\t<dd>23</dd>\n",
       "\t<dt>AIRPORT EXTERIOR - NON-SECURE AREA</dt>\n",
       "\t\t<dd>24</dd>\n",
       "\t<dt>OTHER RAILROAD PROP / TRAIN DEPOT</dt>\n",
       "\t\t<dd>28</dd>\n",
       "\t<dt>SMALL RETAIL STORE</dt>\n",
       "\t\t<dd>33</dd>\n",
       "\t<dt>CONSTRUCTION SITE</dt>\n",
       "\t\t<dd>35</dd>\n",
       "\t<dt>CAR WASH</dt>\n",
       "\t\t<dd>44</dd>\n",
       "\t<dt>COLLEGE/UNIVERSITY GROUNDS</dt>\n",
       "\t\t<dd>47</dd>\n",
       "\t<dt>GOVERNMENT BUILDING/PROPERTY</dt>\n",
       "\t\t<dd>48</dd>\n",
       "\t<dt>RESTAURANT</dt>\n",
       "\t\t<dd>49</dd>\n",
       "\t<dt>CHURCH/SYNAGOGUE/PLACE OF WORSHIP</dt>\n",
       "\t\t<dd>56</dd>\n",
       "\t<dt>GROCERY FOOD STORE</dt>\n",
       "\t\t<dd>80</dd>\n",
       "\t<dt>HOSPITAL BUILDING/GROUNDS</dt>\n",
       "\t\t<dd>101</dd>\n",
       "\t<dt>SCHOOL, PUBLIC, BUILDING</dt>\n",
       "\t\t<dd>114</dd>\n",
       "\t<dt>HOTEL/MOTEL</dt>\n",
       "\t\t<dd>124</dd>\n",
       "\t<dt>COMMERCIAL / BUSINESS OFFICE</dt>\n",
       "\t\t<dd>126</dd>\n",
       "\t<dt>CTA GARAGE / OTHER PROPERTY</dt>\n",
       "\t\t<dd>148</dd>\n",
       "\t<dt>SPORTS ARENA/STADIUM</dt>\n",
       "\t\t<dd>166</dd>\n",
       "\t<dt>APARTMENT</dt>\n",
       "\t\t<dd>184</dd>\n",
       "\t<dt>SCHOOL, PUBLIC, GROUNDS</dt>\n",
       "\t\t<dd>206</dd>\n",
       "\t<dt>PARK PROPERTY</dt>\n",
       "\t\t<dd>255</dd>\n",
       "\t<dt>POLICE FACILITY/VEH PARKING LOT</dt>\n",
       "\t\t<dd>266</dd>\n",
       "\t<dt>AIRPORT/AIRCRAFT</dt>\n",
       "\t\t<dd>363</dd>\n",
       "\t<dt>CHA PARKING LOT/GROUNDS</dt>\n",
       "\t\t<dd>405</dd>\n",
       "\t<dt>SIDEWALK</dt>\n",
       "\t\t<dd>462</dd>\n",
       "\t<dt>VEHICLE NON-COMMERCIAL</dt>\n",
       "\t\t<dd>817</dd>\n",
       "\t<dt>VACANT LOT/LAND</dt>\n",
       "\t\t<dd>985</dd>\n",
       "\t<dt>RESIDENCE-GARAGE</dt>\n",
       "\t\t<dd>1176</dd>\n",
       "\t<dt>RESIDENCE</dt>\n",
       "\t\t<dd>1302</dd>\n",
       "\t<dt>RESIDENTIAL YARD (FRONT/BACK)</dt>\n",
       "\t\t<dd>1536</dd>\n",
       "\t<dt>DRIVEWAY - RESIDENTIAL</dt>\n",
       "\t\t<dd>1675</dd>\n",
       "\t<dt>GAS STATION</dt>\n",
       "\t\t<dd>2111</dd>\n",
       "\t<dt>ALLEY</dt>\n",
       "\t\t<dd>2308</dd>\n",
       "\t<dt>OTHER</dt>\n",
       "\t\t<dd>4573</dd>\n",
       "\t<dt>PARKING LOT/GARAGE(NON.RESID.)</dt>\n",
       "\t\t<dd>14852</dd>\n",
       "\t<dt>STREET</dt>\n",
       "\t\t<dd>156564</dd>\n",
       "</dl>\n"
      ],
      "text/latex": [
       "\\begin{description*}\n",
       "\\item[AIRPORT BUILDING NON-TERMINAL - SECURE AREA] 1\n",
       "\\item[AIRPORT EXTERIOR - SECURE AREA] 1\n",
       "\\item[ANIMAL HOSPITAL] 1\n",
       "\\item[APPLIANCE STORE] 1\n",
       "\\item[CTA TRAIN] 1\n",
       "\\item[JAIL / LOCK-UP FACILITY] 1\n",
       "\\item[NEWSSTAND] 1\n",
       "\\item[BRIDGE] 2\n",
       "\\item[COLLEGE/UNIVERSITY RESIDENCE HALL] 2\n",
       "\\item[CURRENCY EXCHANGE] 2\n",
       "\\item[BOWLING ALLEY] 3\n",
       "\\item[CLEANING STORE] 3\n",
       "\\item[MEDICAL/DENTAL OFFICE] 3\n",
       "\\item[ABANDONED BUILDING] 4\n",
       "\\item[AIRPORT BUILDING NON-TERMINAL - NON-SECURE AREA] 4\n",
       "\\item[BARBERSHOP] 4\n",
       "\\item[LAKEFRONT/WATERFRONT/RIVERBANK] 4\n",
       "\\item[LIBRARY] 4\n",
       "\\item[SAVINGS AND LOAN] 4\n",
       "\\item[AIRPORT TERMINAL UPPER LEVEL - NON-SECURE AREA] 5\n",
       "\\item[CHA APARTMENT] 5\n",
       "\\item[DAY CARE CENTER] 5\n",
       "\\item[FIRE STATION] 5\n",
       "\\item[FOREST PRESERVE] 6\n",
       "\\item[BANK] 7\n",
       "\\item[CONVENIENCE STORE] 7\n",
       "\\item[DRUG STORE] 8\n",
       "\\item[OTHER COMMERCIAL TRANSPORTATION] 8\n",
       "\\item[ATHLETIC CLUB] 9\n",
       "\\item[AIRPORT VENDING ESTABLISHMENT] 10\n",
       "\\item[AIRPORT PARKING LOT] 11\n",
       "\\item[SCHOOL, PRIVATE, BUILDING] 14\n",
       "\\item[TAVERN/LIQUOR STORE] 14\n",
       "\\item[FACTORY/MANUFACTURING BUILDING] 16\n",
       "\\item[BAR OR TAVERN] 17\n",
       "\\item[WAREHOUSE] 17\n",
       "\\item[MOVIE HOUSE/THEATER] 18\n",
       "\\item[RESIDENCE PORCH/HALLWAY] 18\n",
       "\\item[NURSING HOME/RETIREMENT HOME] 21\n",
       "\\item[TAXICAB] 21\n",
       "\\item[DEPARTMENT STORE] 22\n",
       "\\item[HIGHWAY/EXPRESSWAY] 22\n",
       "\\item[SCHOOL, PRIVATE, GROUNDS] 23\n",
       "\\item[VEHICLE-COMMERCIAL] 23\n",
       "\\item[AIRPORT EXTERIOR - NON-SECURE AREA] 24\n",
       "\\item[OTHER RAILROAD PROP / TRAIN DEPOT] 28\n",
       "\\item[SMALL RETAIL STORE] 33\n",
       "\\item[CONSTRUCTION SITE] 35\n",
       "\\item[CAR WASH] 44\n",
       "\\item[COLLEGE/UNIVERSITY GROUNDS] 47\n",
       "\\item[GOVERNMENT BUILDING/PROPERTY] 48\n",
       "\\item[RESTAURANT] 49\n",
       "\\item[CHURCH/SYNAGOGUE/PLACE OF WORSHIP] 56\n",
       "\\item[GROCERY FOOD STORE] 80\n",
       "\\item[HOSPITAL BUILDING/GROUNDS] 101\n",
       "\\item[SCHOOL, PUBLIC, BUILDING] 114\n",
       "\\item[HOTEL/MOTEL] 124\n",
       "\\item[COMMERCIAL / BUSINESS OFFICE] 126\n",
       "\\item[CTA GARAGE / OTHER PROPERTY] 148\n",
       "\\item[SPORTS ARENA/STADIUM] 166\n",
       "\\item[APARTMENT] 184\n",
       "\\item[SCHOOL, PUBLIC, GROUNDS] 206\n",
       "\\item[PARK PROPERTY] 255\n",
       "\\item[POLICE FACILITY/VEH PARKING LOT] 266\n",
       "\\item[AIRPORT/AIRCRAFT] 363\n",
       "\\item[CHA PARKING LOT/GROUNDS] 405\n",
       "\\item[SIDEWALK] 462\n",
       "\\item[VEHICLE NON-COMMERCIAL] 817\n",
       "\\item[VACANT LOT/LAND] 985\n",
       "\\item[RESIDENCE-GARAGE] 1176\n",
       "\\item[RESIDENCE] 1302\n",
       "\\item[RESIDENTIAL YARD (FRONT/BACK)] 1536\n",
       "\\item[DRIVEWAY - RESIDENTIAL] 1675\n",
       "\\item[GAS STATION] 2111\n",
       "\\item[ALLEY] 2308\n",
       "\\item[OTHER] 4573\n",
       "\\item[PARKING LOT/GARAGE(NON.RESID.)] 14852\n",
       "\\item[STREET] 156564\n",
       "\\end{description*}\n"
      ],
      "text/markdown": [
       "AIRPORT BUILDING NON-TERMINAL - SECURE AREA\n",
       ":   1AIRPORT EXTERIOR - SECURE AREA\n",
       ":   1ANIMAL HOSPITAL\n",
       ":   1APPLIANCE STORE\n",
       ":   1CTA TRAIN\n",
       ":   1JAIL / LOCK-UP FACILITY\n",
       ":   1NEWSSTAND\n",
       ":   1BRIDGE\n",
       ":   2COLLEGE/UNIVERSITY RESIDENCE HALL\n",
       ":   2CURRENCY EXCHANGE\n",
       ":   2BOWLING ALLEY\n",
       ":   3CLEANING STORE\n",
       ":   3MEDICAL/DENTAL OFFICE\n",
       ":   3ABANDONED BUILDING\n",
       ":   4AIRPORT BUILDING NON-TERMINAL - NON-SECURE AREA\n",
       ":   4BARBERSHOP\n",
       ":   4LAKEFRONT/WATERFRONT/RIVERBANK\n",
       ":   4LIBRARY\n",
       ":   4SAVINGS AND LOAN\n",
       ":   4AIRPORT TERMINAL UPPER LEVEL - NON-SECURE AREA\n",
       ":   5CHA APARTMENT\n",
       ":   5DAY CARE CENTER\n",
       ":   5FIRE STATION\n",
       ":   5FOREST PRESERVE\n",
       ":   6BANK\n",
       ":   7CONVENIENCE STORE\n",
       ":   7DRUG STORE\n",
       ":   8OTHER COMMERCIAL TRANSPORTATION\n",
       ":   8ATHLETIC CLUB\n",
       ":   9AIRPORT VENDING ESTABLISHMENT\n",
       ":   10AIRPORT PARKING LOT\n",
       ":   11SCHOOL, PRIVATE, BUILDING\n",
       ":   14TAVERN/LIQUOR STORE\n",
       ":   14FACTORY/MANUFACTURING BUILDING\n",
       ":   16BAR OR TAVERN\n",
       ":   17WAREHOUSE\n",
       ":   17MOVIE HOUSE/THEATER\n",
       ":   18RESIDENCE PORCH/HALLWAY\n",
       ":   18NURSING HOME/RETIREMENT HOME\n",
       ":   21TAXICAB\n",
       ":   21DEPARTMENT STORE\n",
       ":   22HIGHWAY/EXPRESSWAY\n",
       ":   22SCHOOL, PRIVATE, GROUNDS\n",
       ":   23VEHICLE-COMMERCIAL\n",
       ":   23AIRPORT EXTERIOR - NON-SECURE AREA\n",
       ":   24OTHER RAILROAD PROP / TRAIN DEPOT\n",
       ":   28SMALL RETAIL STORE\n",
       ":   33CONSTRUCTION SITE\n",
       ":   35CAR WASH\n",
       ":   44COLLEGE/UNIVERSITY GROUNDS\n",
       ":   47GOVERNMENT BUILDING/PROPERTY\n",
       ":   48RESTAURANT\n",
       ":   49CHURCH/SYNAGOGUE/PLACE OF WORSHIP\n",
       ":   56GROCERY FOOD STORE\n",
       ":   80HOSPITAL BUILDING/GROUNDS\n",
       ":   101SCHOOL, PUBLIC, BUILDING\n",
       ":   114HOTEL/MOTEL\n",
       ":   124COMMERCIAL / BUSINESS OFFICE\n",
       ":   126CTA GARAGE / OTHER PROPERTY\n",
       ":   148SPORTS ARENA/STADIUM\n",
       ":   166APARTMENT\n",
       ":   184SCHOOL, PUBLIC, GROUNDS\n",
       ":   206PARK PROPERTY\n",
       ":   255POLICE FACILITY/VEH PARKING LOT\n",
       ":   266AIRPORT/AIRCRAFT\n",
       ":   363CHA PARKING LOT/GROUNDS\n",
       ":   405SIDEWALK\n",
       ":   462VEHICLE NON-COMMERCIAL\n",
       ":   817VACANT LOT/LAND\n",
       ":   985RESIDENCE-GARAGE\n",
       ":   1176RESIDENCE\n",
       ":   1302RESIDENTIAL YARD (FRONT/BACK)\n",
       ":   1536DRIVEWAY - RESIDENTIAL\n",
       ":   1675GAS STATION\n",
       ":   2111ALLEY\n",
       ":   2308OTHER\n",
       ":   4573PARKING LOT/GARAGE(NON.RESID.)\n",
       ":   14852STREET\n",
       ":   156564\n",
       "\n"
      ],
      "text/plain": [
       "\n",
       "    AIRPORT BUILDING NON-TERMINAL - SECURE AREA \n",
       "                                              1 \n",
       "                 AIRPORT EXTERIOR - SECURE AREA \n",
       "                                              1 \n",
       "                                ANIMAL HOSPITAL \n",
       "                                              1 \n",
       "                                APPLIANCE STORE \n",
       "                                              1 \n",
       "                                      CTA TRAIN \n",
       "                                              1 \n",
       "                        JAIL / LOCK-UP FACILITY \n",
       "                                              1 \n",
       "                                      NEWSSTAND \n",
       "                                              1 \n",
       "                                         BRIDGE \n",
       "                                              2 \n",
       "              COLLEGE/UNIVERSITY RESIDENCE HALL \n",
       "                                              2 \n",
       "                              CURRENCY EXCHANGE \n",
       "                                              2 \n",
       "                                  BOWLING ALLEY \n",
       "                                              3 \n",
       "                                 CLEANING STORE \n",
       "                                              3 \n",
       "                          MEDICAL/DENTAL OFFICE \n",
       "                                              3 \n",
       "                             ABANDONED BUILDING \n",
       "                                              4 \n",
       "AIRPORT BUILDING NON-TERMINAL - NON-SECURE AREA \n",
       "                                              4 \n",
       "                                     BARBERSHOP \n",
       "                                              4 \n",
       "                 LAKEFRONT/WATERFRONT/RIVERBANK \n",
       "                                              4 \n",
       "                                        LIBRARY \n",
       "                                              4 \n",
       "                               SAVINGS AND LOAN \n",
       "                                              4 \n",
       " AIRPORT TERMINAL UPPER LEVEL - NON-SECURE AREA \n",
       "                                              5 \n",
       "                                  CHA APARTMENT \n",
       "                                              5 \n",
       "                                DAY CARE CENTER \n",
       "                                              5 \n",
       "                                   FIRE STATION \n",
       "                                              5 \n",
       "                                FOREST PRESERVE \n",
       "                                              6 \n",
       "                                           BANK \n",
       "                                              7 \n",
       "                              CONVENIENCE STORE \n",
       "                                              7 \n",
       "                                     DRUG STORE \n",
       "                                              8 \n",
       "                OTHER COMMERCIAL TRANSPORTATION \n",
       "                                              8 \n",
       "                                  ATHLETIC CLUB \n",
       "                                              9 \n",
       "                  AIRPORT VENDING ESTABLISHMENT \n",
       "                                             10 \n",
       "                            AIRPORT PARKING LOT \n",
       "                                             11 \n",
       "                      SCHOOL, PRIVATE, BUILDING \n",
       "                                             14 \n",
       "                            TAVERN/LIQUOR STORE \n",
       "                                             14 \n",
       "                 FACTORY/MANUFACTURING BUILDING \n",
       "                                             16 \n",
       "                                  BAR OR TAVERN \n",
       "                                             17 \n",
       "                                      WAREHOUSE \n",
       "                                             17 \n",
       "                            MOVIE HOUSE/THEATER \n",
       "                                             18 \n",
       "                        RESIDENCE PORCH/HALLWAY \n",
       "                                             18 \n",
       "                   NURSING HOME/RETIREMENT HOME \n",
       "                                             21 \n",
       "                                        TAXICAB \n",
       "                                             21 \n",
       "                               DEPARTMENT STORE \n",
       "                                             22 \n",
       "                             HIGHWAY/EXPRESSWAY \n",
       "                                             22 \n",
       "                       SCHOOL, PRIVATE, GROUNDS \n",
       "                                             23 \n",
       "                             VEHICLE-COMMERCIAL \n",
       "                                             23 \n",
       "             AIRPORT EXTERIOR - NON-SECURE AREA \n",
       "                                             24 \n",
       "              OTHER RAILROAD PROP / TRAIN DEPOT \n",
       "                                             28 \n",
       "                             SMALL RETAIL STORE \n",
       "                                             33 \n",
       "                              CONSTRUCTION SITE \n",
       "                                             35 \n",
       "                                       CAR WASH \n",
       "                                             44 \n",
       "                     COLLEGE/UNIVERSITY GROUNDS \n",
       "                                             47 \n",
       "                   GOVERNMENT BUILDING/PROPERTY \n",
       "                                             48 \n",
       "                                     RESTAURANT \n",
       "                                             49 \n",
       "              CHURCH/SYNAGOGUE/PLACE OF WORSHIP \n",
       "                                             56 \n",
       "                             GROCERY FOOD STORE \n",
       "                                             80 \n",
       "                      HOSPITAL BUILDING/GROUNDS \n",
       "                                            101 \n",
       "                       SCHOOL, PUBLIC, BUILDING \n",
       "                                            114 \n",
       "                                    HOTEL/MOTEL \n",
       "                                            124 \n",
       "                   COMMERCIAL / BUSINESS OFFICE \n",
       "                                            126 \n",
       "                    CTA GARAGE / OTHER PROPERTY \n",
       "                                            148 \n",
       "                           SPORTS ARENA/STADIUM \n",
       "                                            166 \n",
       "                                      APARTMENT \n",
       "                                            184 \n",
       "                        SCHOOL, PUBLIC, GROUNDS \n",
       "                                            206 \n",
       "                                  PARK PROPERTY \n",
       "                                            255 \n",
       "                POLICE FACILITY/VEH PARKING LOT \n",
       "                                            266 \n",
       "                               AIRPORT/AIRCRAFT \n",
       "                                            363 \n",
       "                        CHA PARKING LOT/GROUNDS \n",
       "                                            405 \n",
       "                                       SIDEWALK \n",
       "                                            462 \n",
       "                         VEHICLE NON-COMMERCIAL \n",
       "                                            817 \n",
       "                                VACANT LOT/LAND \n",
       "                                            985 \n",
       "                               RESIDENCE-GARAGE \n",
       "                                           1176 \n",
       "                                      RESIDENCE \n",
       "                                           1302 \n",
       "                  RESIDENTIAL YARD (FRONT/BACK) \n",
       "                                           1536 \n",
       "                         DRIVEWAY - RESIDENTIAL \n",
       "                                           1675 \n",
       "                                    GAS STATION \n",
       "                                           2111 \n",
       "                                          ALLEY \n",
       "                                           2308 \n",
       "                                          OTHER \n",
       "                                           4573 \n",
       "                 PARKING LOT/GARAGE(NON.RESID.) \n",
       "                                          14852 \n",
       "                                         STREET \n",
       "                                         156564 "
      ]
     },
     "execution_count": 26,
     "metadata": {},
     "output_type": "execute_result"
    }
   ],
   "source": [
    "sort(table(DATA$LocationDescription))"
   ]
  },
  {
   "cell_type": "code",
   "execution_count": 41,
   "metadata": {
    "collapsed": true
   },
   "outputs": [],
   "source": [
    "Top5 = subset(DATA, LocationDescription == \"GAS STATION\" \n",
    "              | LocationDescription == \"STREET\"\n",
    "              | LocationDescription == \"PARKING LOT/GARAGE(NON.RESID.)\" \n",
    "              | LocationDescription == \"ALLEY\" \n",
    "              | LocationDescription == \"DRIVEWAY - RESIDENTIAL\")"
   ]
  },
  {
   "cell_type": "code",
   "execution_count": 42,
   "metadata": {
    "collapsed": false
   },
   "outputs": [],
   "source": [
    "TopLocations = c(\"GAS STATION\", \"STREET\", \"PARKING LOT/GARAGE(NON.RESID.)\", \"ALLEY\", \"DRIVEWAY - RESIDENTIAL\")"
   ]
  },
  {
   "cell_type": "code",
   "execution_count": 43,
   "metadata": {
    "collapsed": false
   },
   "outputs": [
    {
     "data": {
      "text/html": [
       "177510"
      ],
      "text/latex": [
       "177510"
      ],
      "text/markdown": [
       "177510"
      ],
      "text/plain": [
       "[1] 177510"
      ]
     },
     "execution_count": 43,
     "metadata": {},
     "output_type": "execute_result"
    }
   ],
   "source": [
    "nrow(Top5)"
   ]
  },
  {
   "cell_type": "code",
   "execution_count": null,
   "metadata": {
    "collapsed": true
   },
   "outputs": [],
   "source": []
  },
  {
   "cell_type": "code",
   "execution_count": 44,
   "metadata": {
    "collapsed": true
   },
   "outputs": [],
   "source": [
    "Top5$LocationDescription = factor(Top5$LocationDescription)"
   ]
  },
  {
   "cell_type": "code",
   "execution_count": 45,
   "metadata": {
    "collapsed": false
   },
   "outputs": [
    {
     "data": {
      "text/plain": [
       "                                \n",
       "                                  FALSE   TRUE\n",
       "  ALLEY                            2059    249\n",
       "  DRIVEWAY - RESIDENTIAL           1543    132\n",
       "  GAS STATION                      1672    439\n",
       "  PARKING LOT/GARAGE(NON.RESID.)  13249   1603\n",
       "  STREET                         144969  11595"
      ]
     },
     "execution_count": 45,
     "metadata": {},
     "output_type": "execute_result"
    }
   ],
   "source": [
    "table(Top5$LocationDescription, Top5$Arrest)"
   ]
  },
  {
   "cell_type": "code",
   "execution_count": 46,
   "metadata": {
    "collapsed": false
   },
   "outputs": [
    {
     "data": {
      "text/plain": [
       "                                \n",
       "                                 Friday Monday Saturday Sunday Thursday Tuesday\n",
       "  ALLEY                             385    320      341    307      315     323\n",
       "  DRIVEWAY - RESIDENTIAL            257    255      202    221      263     243\n",
       "  GAS STATION                       332    280      338    336      282     270\n",
       "  PARKING LOT/GARAGE(NON.RESID.)   2331   2128     2199   1936     2082    2073\n",
       "  STREET                          23773  22305    22175  21756    22296   21888\n",
       "                                \n",
       "                                 Wednesday\n",
       "  ALLEY                                317\n",
       "  DRIVEWAY - RESIDENTIAL               234\n",
       "  GAS STATION                          273\n",
       "  PARKING LOT/GARAGE(NON.RESID.)      2103\n",
       "  STREET                             22371"
      ]
     },
     "execution_count": 46,
     "metadata": {},
     "output_type": "execute_result"
    }
   ],
   "source": [
    "table(Top5$LocationDescription, Top5$Weekday)"
   ]
  },
  {
   "cell_type": "code",
   "execution_count": null,
   "metadata": {
    "collapsed": true
   },
   "outputs": [],
   "source": []
  }
 ],
 "metadata": {
  "kernelspec": {
   "display_name": "R",
   "language": "R",
   "name": "ir"
  },
  "language_info": {
   "codemirror_mode": "r",
   "file_extension": ".r",
   "mimetype": "text/x-r-source",
   "name": "R",
   "pygments_lexer": "r",
   "version": "3.2.1"
  }
 },
 "nbformat": 4,
 "nbformat_minor": 0
}
