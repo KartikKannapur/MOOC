{
 "cells": [
  {
   "cell_type": "markdown",
   "metadata": {},
   "source": [
    "# The Framingham Heart Study: Evaluating Risk Factors to Save Lives"
   ]
  },
  {
   "cell_type": "code",
   "execution_count": null,
   "metadata": {
    "collapsed": true
   },
   "outputs": [],
   "source": []
  },
  {
   "cell_type": "code",
   "execution_count": 45,
   "metadata": {
    "collapsed": true
   },
   "outputs": [],
   "source": [
    "# #Analytical Models to prevent/predict heart disease"
   ]
  },
  {
   "cell_type": "code",
   "execution_count": null,
   "metadata": {
    "collapsed": true
   },
   "outputs": [],
   "source": []
  },
  {
   "cell_type": "code",
   "execution_count": 46,
   "metadata": {
    "collapsed": true
   },
   "outputs": [],
   "source": [
    "# #1. Choose the Independent variables\n",
    "# #2. Build a Logistic Regression Model\n",
    "# #3. TEST the model with more data\n",
    "# #4. Medical interventions using the model"
   ]
  },
  {
   "cell_type": "code",
   "execution_count": 47,
   "metadata": {
    "collapsed": true
   },
   "outputs": [],
   "source": [
    "# #Framingham Risk Score."
   ]
  },
  {
   "cell_type": "code",
   "execution_count": 48,
   "metadata": {
    "collapsed": true
   },
   "outputs": [],
   "source": [
    "# #Risk Factors"
   ]
  },
  {
   "cell_type": "code",
   "execution_count": null,
   "metadata": {
    "collapsed": true
   },
   "outputs": [],
   "source": []
  },
  {
   "cell_type": "code",
   "execution_count": 49,
   "metadata": {
    "collapsed": true
   },
   "outputs": [],
   "source": [
    "# #STEPS:\n",
    "# #1. Split into Training and Test\n",
    "# #2. Build a Logistic Regerssions Model\n",
    "# #3. Test it"
   ]
  },
  {
   "cell_type": "code",
   "execution_count": null,
   "metadata": {
    "collapsed": true
   },
   "outputs": [],
   "source": []
  },
  {
   "cell_type": "code",
   "execution_count": 50,
   "metadata": {
    "collapsed": true
   },
   "outputs": [],
   "source": [
    "framingham = read.csv(\"framingham.csv\")"
   ]
  },
  {
   "cell_type": "code",
   "execution_count": 51,
   "metadata": {
    "collapsed": false
   },
   "outputs": [
    {
     "name": "stdout",
     "output_type": "stream",
     "text": [
      "'data.frame':\t4240 obs. of  16 variables:\n",
      " $ male           : int  1 0 1 0 0 0 0 0 1 1 ...\n",
      " $ age            : int  39 46 48 61 46 43 63 45 52 43 ...\n",
      " $ education      : int  4 2 1 3 3 2 1 2 1 1 ...\n",
      " $ currentSmoker  : int  0 0 1 1 1 0 0 1 0 1 ...\n",
      " $ cigsPerDay     : int  0 0 20 30 23 0 0 20 0 30 ...\n",
      " $ BPMeds         : int  0 0 0 0 0 0 0 0 0 0 ...\n",
      " $ prevalentStroke: int  0 0 0 0 0 0 0 0 0 0 ...\n",
      " $ prevalentHyp   : int  0 0 0 1 0 1 0 0 1 1 ...\n",
      " $ diabetes       : int  0 0 0 0 0 0 0 0 0 0 ...\n",
      " $ totChol        : int  195 250 245 225 285 228 205 313 260 225 ...\n",
      " $ sysBP          : num  106 121 128 150 130 ...\n",
      " $ diaBP          : num  70 81 80 95 84 110 71 71 89 107 ...\n",
      " $ BMI            : num  27 28.7 25.3 28.6 23.1 ...\n",
      " $ heartRate      : int  80 95 75 65 85 77 60 79 76 93 ...\n",
      " $ glucose        : int  77 76 70 103 85 99 85 78 79 88 ...\n",
      " $ TenYearCHD     : int  0 0 0 1 0 0 1 0 0 0 ...\n"
     ]
    }
   ],
   "source": [
    "str(framingham)"
   ]
  },
  {
   "cell_type": "code",
   "execution_count": 52,
   "metadata": {
    "collapsed": true
   },
   "outputs": [],
   "source": [
    "# #Dependent Variable = TenYearCHD"
   ]
  },
  {
   "cell_type": "code",
   "execution_count": null,
   "metadata": {
    "collapsed": true
   },
   "outputs": [],
   "source": []
  },
  {
   "cell_type": "code",
   "execution_count": 53,
   "metadata": {
    "collapsed": true
   },
   "outputs": [],
   "source": [
    "# #STEP 1:Split into Training and Test"
   ]
  },
  {
   "cell_type": "code",
   "execution_count": 54,
   "metadata": {
    "collapsed": false
   },
   "outputs": [],
   "source": [
    "library(\"caTools\")"
   ]
  },
  {
   "cell_type": "code",
   "execution_count": 79,
   "metadata": {
    "collapsed": true
   },
   "outputs": [],
   "source": [
    "set.seed(1000)"
   ]
  },
  {
   "cell_type": "code",
   "execution_count": 94,
   "metadata": {
    "collapsed": false
   },
   "outputs": [],
   "source": [
    "# #Training Set = 65%\n",
    "# #Test Set = 35%\n",
    "\n",
    "# #Since we have a fair amount of data we can afford to have 35% of our data in the testing set, making sure our model is\n",
    "# #rock solid.\n",
    "split = sample.split(framingham$TenYearCHD, SplitRatio = 0.65)"
   ]
  },
  {
   "cell_type": "code",
   "execution_count": 95,
   "metadata": {
    "collapsed": false
   },
   "outputs": [],
   "source": [
    "train = subset(framingham, split == TRUE)"
   ]
  },
  {
   "cell_type": "code",
   "execution_count": 96,
   "metadata": {
    "collapsed": false
   },
   "outputs": [],
   "source": [
    "test = subset(framingham, split == FALSE)"
   ]
  },
  {
   "cell_type": "code",
   "execution_count": null,
   "metadata": {
    "collapsed": true
   },
   "outputs": [],
   "source": []
  },
  {
   "cell_type": "code",
   "execution_count": 97,
   "metadata": {
    "collapsed": false
   },
   "outputs": [
    {
     "data": {
      "text/html": [
       "2756"
      ],
      "text/latex": [
       "2756"
      ],
      "text/markdown": [
       "2756"
      ],
      "text/plain": [
       "[1] 2756"
      ]
     },
     "execution_count": 97,
     "metadata": {},
     "output_type": "execute_result"
    }
   ],
   "source": [
    "nrow(train)"
   ]
  },
  {
   "cell_type": "code",
   "execution_count": 98,
   "metadata": {
    "collapsed": false
   },
   "outputs": [
    {
     "data": {
      "text/html": [
       "1484"
      ],
      "text/latex": [
       "1484"
      ],
      "text/markdown": [
       "1484"
      ],
      "text/plain": [
       "[1] 1484"
      ]
     },
     "execution_count": 98,
     "metadata": {},
     "output_type": "execute_result"
    }
   ],
   "source": [
    "nrow(test)"
   ]
  },
  {
   "cell_type": "code",
   "execution_count": null,
   "metadata": {
    "collapsed": true
   },
   "outputs": [],
   "source": []
  },
  {
   "cell_type": "code",
   "execution_count": 99,
   "metadata": {
    "collapsed": true
   },
   "outputs": [],
   "source": [
    "# #STEP 2: Build a Logistic Regerssions Model\n",
    "framinghamLog = glm(TenYearCHD ~ ., data = train, family=binomial)"
   ]
  },
  {
   "cell_type": "code",
   "execution_count": 100,
   "metadata": {
    "collapsed": false
   },
   "outputs": [
    {
     "data": {
      "text/plain": [
       "\n",
       "Call:\n",
       "glm(formula = TenYearCHD ~ ., family = binomial, data = train)\n",
       "\n",
       "Deviance Residuals: \n",
       "    Min       1Q   Median       3Q      Max  \n",
       "-1.6167  -0.5844  -0.4192  -0.2777   2.9145  \n",
       "\n",
       "Coefficients:\n",
       "                 Estimate Std. Error z value Pr(>|z|)    \n",
       "(Intercept)     -8.897534   0.914341  -9.731  < 2e-16 ***\n",
       "male             0.495919   0.138052   3.592 0.000328 ***\n",
       "age              0.060155   0.008326   7.225 5.01e-13 ***\n",
       "education       -0.088472   0.063637  -1.390 0.164447    \n",
       "currentSmoker    0.136317   0.199860   0.682 0.495200    \n",
       "cigsPerDay       0.014783   0.008063   1.834 0.066720 .  \n",
       "BPMeds           0.301272   0.280846   1.073 0.283393    \n",
       "prevalentStroke  0.834247   0.615195   1.356 0.175077    \n",
       "prevalentHyp     0.115320   0.173210   0.666 0.505550    \n",
       "diabetes        -0.101415   0.415340  -0.244 0.807096    \n",
       "totChol          0.002744   0.001392   1.971 0.048749 *  \n",
       "sysBP            0.019981   0.004634   4.311 1.62e-05 ***\n",
       "diaBP           -0.005657   0.007800  -0.725 0.468351    \n",
       "BMI              0.020261   0.015861   1.277 0.201462    \n",
       "heartRate       -0.002207   0.005309  -0.416 0.677683    \n",
       "glucose          0.005105   0.003091   1.652 0.098543 .  \n",
       "---\n",
       "Signif. codes:  0 '***' 0.001 '**' 0.01 '*' 0.05 '.' 0.1 ' ' 1\n",
       "\n",
       "(Dispersion parameter for binomial family taken to be 1)\n",
       "\n",
       "    Null deviance: 2003.9  on 2354  degrees of freedom\n",
       "Residual deviance: 1748.9  on 2339  degrees of freedom\n",
       "  (401 observations deleted due to missingness)\n",
       "AIC: 1780.9\n",
       "\n",
       "Number of Fisher Scoring iterations: 5\n"
      ]
     },
     "execution_count": 100,
     "metadata": {},
     "output_type": "execute_result"
    }
   ],
   "source": [
    "summary(framinghamLog)"
   ]
  },
  {
   "cell_type": "code",
   "execution_count": null,
   "metadata": {
    "collapsed": true
   },
   "outputs": [],
   "source": []
  },
  {
   "cell_type": "code",
   "execution_count": null,
   "metadata": {
    "collapsed": true
   },
   "outputs": [],
   "source": []
  },
  {
   "cell_type": "code",
   "execution_count": 102,
   "metadata": {
    "collapsed": true
   },
   "outputs": [],
   "source": [
    "# #STEP 3: Testing the Model\n",
    "predictTest = predict(framinghamLog, type=\"response\", newdata=test)"
   ]
  },
  {
   "cell_type": "code",
   "execution_count": 103,
   "metadata": {
    "collapsed": false
   },
   "outputs": [
    {
     "data": {
      "text/plain": [
       "   Min. 1st Qu.  Median    Mean 3rd Qu.    Max.    NA's \n",
       "0.01645 0.06172 0.11290 0.14630 0.19550 0.76650     181 "
      ]
     },
     "execution_count": 103,
     "metadata": {},
     "output_type": "execute_result"
    }
   ],
   "source": [
    "summary(predictTest)"
   ]
  },
  {
   "cell_type": "code",
   "execution_count": null,
   "metadata": {
    "collapsed": true
   },
   "outputs": [],
   "source": []
  },
  {
   "cell_type": "code",
   "execution_count": null,
   "metadata": {
    "collapsed": true
   },
   "outputs": [],
   "source": []
  },
  {
   "cell_type": "code",
   "execution_count": 104,
   "metadata": {
    "collapsed": false
   },
   "outputs": [
    {
     "data": {
      "text/plain": [
       "   \n",
       "    FALSE TRUE\n",
       "  0  1094    9\n",
       "  1   189   11"
      ]
     },
     "execution_count": 104,
     "metadata": {},
     "output_type": "execute_result"
    }
   ],
   "source": [
    "# #Confusion Matrix\n",
    "table(test$TenYearCHD, predictTest > 0.5)"
   ]
  },
  {
   "cell_type": "code",
   "execution_count": 105,
   "metadata": {
    "collapsed": true
   },
   "outputs": [],
   "source": [
    "accuracy = (11+1094) / (11+1094+9+189)"
   ]
  },
  {
   "cell_type": "code",
   "execution_count": 106,
   "metadata": {
    "collapsed": false
   },
   "outputs": [
    {
     "data": {
      "text/html": [
       "0.848042977743668"
      ],
      "text/latex": [
       "0.848042977743668"
      ],
      "text/markdown": [
       "0.848042977743668"
      ],
      "text/plain": [
       "[1] 0.848043"
      ]
     },
     "execution_count": 106,
     "metadata": {},
     "output_type": "execute_result"
    }
   ],
   "source": [
    "accuracy"
   ]
  },
  {
   "cell_type": "code",
   "execution_count": null,
   "metadata": {
    "collapsed": true
   },
   "outputs": [],
   "source": []
  },
  {
   "cell_type": "code",
   "execution_count": null,
   "metadata": {
    "collapsed": true
   },
   "outputs": [],
   "source": []
  },
  {
   "cell_type": "code",
   "execution_count": 109,
   "metadata": {
    "collapsed": false
   },
   "outputs": [
    {
     "name": "stderr",
     "output_type": "stream",
     "text": [
      "Warning message:\n",
      ": package 'ROCR' was built under R version 3.2.5Loading required package: gplots\n",
      "Warning message:\n",
      ": package 'gplots' was built under R version 3.2.5\n",
      "Attaching package: 'gplots'\n",
      "\n",
      "The following object is masked from 'package:stats':\n",
      "\n",
      "    lowess\n",
      "\n"
     ]
    }
   ],
   "source": [
    "library(\"ROCR\")"
   ]
  },
  {
   "cell_type": "code",
   "execution_count": 110,
   "metadata": {
    "collapsed": false
   },
   "outputs": [],
   "source": [
    "ROCRpred = prediction(predictTest, test$TenYearCHD)"
   ]
  },
  {
   "cell_type": "code",
   "execution_count": 111,
   "metadata": {
    "collapsed": false
   },
   "outputs": [
    {
     "data": {
      "text/html": [
       "0.720417044424299"
      ],
      "text/latex": [
       "0.720417044424299"
      ],
      "text/markdown": [
       "0.720417044424299"
      ],
      "text/plain": [
       "[1] 0.720417"
      ]
     },
     "execution_count": 111,
     "metadata": {},
     "output_type": "execute_result"
    }
   ],
   "source": [
    "as.numeric(performance(ROCRpred, \"auc\")@y.values)\n"
   ]
  },
  {
   "cell_type": "code",
   "execution_count": 113,
   "metadata": {
    "collapsed": false
   },
   "outputs": [],
   "source": [
    "ROCRperf = performance(ROCRpred, \"tpr\", \"fpr\")"
   ]
  },
  {
   "cell_type": "code",
   "execution_count": 114,
   "metadata": {
    "collapsed": false
   },
   "outputs": [
    {
     "data": {
      "image/png": "[encoded data removed]",
      "image/svg+xml": [
       "<?xml version=\"1.0\" encoding=\"UTF-8\"?>\n",
       "<svg xmlns=\"http://www.w3.org/2000/svg\" xmlns:xlink=\"http://www.w3.org/1999/xlink\" width=\"504pt\" height=\"504pt\" viewBox=\"0 0 504 504\" version=\"1.1\">\n",
       "<defs>\n",
       "<g>\n",
       "<symbol overflow=\"visible\" id=\"glyph0-0\">\n",
       "<path style=\"stroke:none;\" d=\"M 0.984375 0 L 0.984375 -8.589844 L 6.78125 -8.589844 L 6.78125 -7.578125 L 2.121094 -7.578125 L 2.121094 -4.914063 L 6.152344 -4.914063 L 6.152344 -3.902344 L 2.121094 -3.902344 L 2.121094 0 Z M 0.984375 0 \"/>\n",
       "</symbol>\n",
       "<symbol overflow=\"visible\" id=\"glyph0-1\">\n",
       "<path style=\"stroke:none;\" d=\"M 4.851563 -0.765625 C 4.460938 -0.433594 4.082031 -0.199219 3.722656 -0.0625 C 3.355469 0.0742188 2.96875 0.140625 2.5625 0.140625 C 1.875 0.140625 1.351563 -0.0234375 0.984375 -0.359375 C 0.617188 -0.6875 0.433594 -1.117188 0.433594 -1.640625 C 0.433594 -1.945313 0.5 -2.222656 0.640625 -2.472656 C 0.777344 -2.722656 0.960938 -2.925781 1.1875 -3.082031 C 1.410156 -3.234375 1.664063 -3.347656 1.945313 -3.429688 C 2.152344 -3.476563 2.464844 -3.53125 2.882813 -3.585938 C 3.734375 -3.6875 4.359375 -3.808594 4.765625 -3.949219 C 4.765625 -4.089844 4.769531 -4.179688 4.769531 -4.226563 C 4.769531 -4.648438 4.667969 -4.953125 4.46875 -5.132813 C 4.199219 -5.371094 3.800781 -5.488281 3.269531 -5.492188 C 2.769531 -5.488281 2.402344 -5.402344 2.167969 -5.230469 C 1.933594 -5.054688 1.757813 -4.746094 1.648438 -4.304688 L 0.617188 -4.445313 C 0.707031 -4.886719 0.863281 -5.242188 1.078125 -5.515625 C 1.289063 -5.78125 1.597656 -5.992188 2.007813 -6.140625 C 2.410156 -6.289063 2.882813 -6.363281 3.421875 -6.363281 C 3.953125 -6.363281 4.382813 -6.300781 4.714844 -6.175781 C 5.046875 -6.050781 5.292969 -5.890625 5.449219 -5.703125 C 5.605469 -5.511719 5.714844 -5.273438 5.777344 -4.984375 C 5.808594 -4.804688 5.824219 -4.480469 5.828125 -4.015625 L 5.828125 -2.609375 C 5.824219 -1.625 5.847656 -1.003906 5.894531 -0.746094 C 5.941406 -0.484375 6.03125 -0.238281 6.164063 0 L 5.0625 0 C 4.953125 -0.21875 4.882813 -0.472656 4.851563 -0.765625 Z M 4.765625 -3.125 C 4.375 -2.964844 3.800781 -2.832031 3.039063 -2.726563 C 2.605469 -2.660156 2.300781 -2.589844 2.121094 -2.515625 C 1.941406 -2.433594 1.800781 -2.320313 1.703125 -2.171875 C 1.605469 -2.019531 1.558594 -1.851563 1.558594 -1.671875 C 1.558594 -1.386719 1.664063 -1.152344 1.875 -0.96875 C 2.085938 -0.777344 2.398438 -0.683594 2.8125 -0.6875 C 3.21875 -0.683594 3.578125 -0.773438 3.894531 -0.953125 C 4.210938 -1.128906 4.445313 -1.371094 4.59375 -1.679688 C 4.707031 -1.917969 4.761719 -2.269531 4.765625 -2.734375 Z M 4.765625 -3.125 \"/>\n",
       "</symbol>\n",
       "<symbol overflow=\"visible\" id=\"glyph0-2\">\n",
       "<path style=\"stroke:none;\" d=\"M 0.765625 0 L 0.765625 -8.589844 L 1.820313 -8.589844 L 1.820313 0 Z M 0.765625 0 \"/>\n",
       "</symbol>\n",
       "<symbol overflow=\"visible\" id=\"glyph0-3\">\n",
       "<path style=\"stroke:none;\" d=\"M 0.367188 -1.859375 L 1.414063 -2.023438 C 1.46875 -1.601563 1.632813 -1.28125 1.902344 -1.058594 C 2.167969 -0.835938 2.542969 -0.726563 3.023438 -0.726563 C 3.507813 -0.726563 3.867188 -0.824219 4.101563 -1.023438 C 4.335938 -1.21875 4.453125 -1.449219 4.453125 -1.71875 C 4.453125 -1.953125 4.347656 -2.140625 4.140625 -2.28125 C 3.996094 -2.371094 3.636719 -2.492188 3.0625 -2.636719 C 2.289063 -2.832031 1.753906 -3 1.457031 -3.144531 C 1.15625 -3.285156 0.929688 -3.480469 0.777344 -3.734375 C 0.621094 -3.984375 0.542969 -4.265625 0.546875 -4.570313 C 0.542969 -4.84375 0.605469 -5.097656 0.734375 -5.339844 C 0.859375 -5.574219 1.035156 -5.773438 1.253906 -5.929688 C 1.417969 -6.046875 1.640625 -6.148438 1.925781 -6.234375 C 2.207031 -6.320313 2.511719 -6.363281 2.835938 -6.363281 C 3.324219 -6.363281 3.75 -6.292969 4.121094 -6.152344 C 4.488281 -6.011719 4.761719 -5.820313 4.9375 -5.578125 C 5.113281 -5.335938 5.234375 -5.015625 5.304688 -4.617188 L 4.273438 -4.476563 C 4.222656 -4.796875 4.085938 -5.046875 3.863281 -5.226563 C 3.636719 -5.40625 3.320313 -5.496094 2.914063 -5.496094 C 2.425781 -5.496094 2.082031 -5.414063 1.875 -5.253906 C 1.664063 -5.09375 1.558594 -4.90625 1.5625 -4.695313 C 1.558594 -4.554688 1.601563 -4.433594 1.695313 -4.324219 C 1.773438 -4.210938 1.910156 -4.117188 2.097656 -4.042969 C 2.203125 -4.003906 2.511719 -3.914063 3.03125 -3.773438 C 3.773438 -3.574219 4.292969 -3.410156 4.589844 -3.285156 C 4.878906 -3.15625 5.113281 -2.972656 5.285156 -2.730469 C 5.453125 -2.488281 5.535156 -2.1875 5.539063 -1.828125 C 5.535156 -1.476563 5.433594 -1.144531 5.230469 -0.832031 C 5.023438 -0.519531 4.726563 -0.277344 4.339844 -0.113281 C 3.953125 0.0585938 3.515625 0.140625 3.03125 0.140625 C 2.21875 0.140625 1.601563 -0.0273438 1.179688 -0.363281 C 0.753906 -0.699219 0.484375 -1.195313 0.367188 -1.859375 Z M 0.367188 -1.859375 \"/>\n",
       "</symbol>\n",
       "<symbol overflow=\"visible\" id=\"glyph0-4\">\n",
       "<path style=\"stroke:none;\" d=\"M 5.050781 -2.003906 L 6.140625 -1.867188 C 5.96875 -1.230469 5.648438 -0.738281 5.183594 -0.386719 C 4.71875 -0.0351563 4.125 0.140625 3.40625 0.140625 C 2.492188 0.140625 1.769531 -0.136719 1.238281 -0.699219 C 0.699219 -1.253906 0.433594 -2.042969 0.4375 -3.058594 C 0.433594 -4.105469 0.703125 -4.917969 1.246094 -5.496094 C 1.78125 -6.074219 2.480469 -6.363281 3.34375 -6.363281 C 4.175781 -6.363281 4.855469 -6.078125 5.382813 -5.511719 C 5.910156 -4.945313 6.175781 -4.148438 6.175781 -3.125 C 6.175781 -3.058594 6.171875 -2.964844 6.171875 -2.84375 L 1.53125 -2.84375 C 1.5625 -2.15625 1.757813 -1.632813 2.109375 -1.269531 C 2.457031 -0.90625 2.890625 -0.726563 3.410156 -0.726563 C 3.796875 -0.726563 4.125 -0.828125 4.402344 -1.03125 C 4.671875 -1.234375 4.890625 -1.558594 5.050781 -2.003906 Z M 1.585938 -3.710938 L 5.0625 -3.710938 C 5.015625 -4.226563 4.882813 -4.621094 4.664063 -4.886719 C 4.328125 -5.292969 3.890625 -5.496094 3.359375 -5.496094 C 2.871094 -5.496094 2.464844 -5.332031 2.136719 -5.007813 C 1.804688 -4.683594 1.621094 -4.25 1.585938 -3.710938 Z M 1.585938 -3.710938 \"/>\n",
       "</symbol>\n",
       "<symbol overflow=\"visible\" id=\"glyph0-5\">\n",
       "<path style=\"stroke:none;\" d=\"\"/>\n",
       "</symbol>\n",
       "<symbol overflow=\"visible\" id=\"glyph0-6\">\n",
       "<path style=\"stroke:none;\" d=\"M 0.789063 2.382813 L 0.789063 -6.222656 L 1.75 -6.222656 L 1.75 -5.414063 C 1.976563 -5.730469 2.234375 -5.964844 2.519531 -6.125 C 2.800781 -6.28125 3.144531 -6.363281 3.554688 -6.363281 C 4.082031 -6.363281 4.550781 -6.226563 4.960938 -5.953125 C 5.363281 -5.679688 5.671875 -5.292969 5.882813 -4.792969 C 6.089844 -4.292969 6.191406 -3.746094 6.195313 -3.15625 C 6.191406 -2.519531 6.078125 -1.945313 5.851563 -1.4375 C 5.621094 -0.921875 5.289063 -0.53125 4.855469 -0.265625 C 4.417969 0.0078125 3.960938 0.140625 3.480469 0.140625 C 3.128906 0.140625 2.8125 0.0664063 2.535156 -0.0820313 C 2.253906 -0.230469 2.023438 -0.417969 1.84375 -0.644531 L 1.84375 2.382813 Z M 1.746094 -3.078125 C 1.746094 -2.273438 1.90625 -1.683594 2.230469 -1.300781 C 2.554688 -0.917969 2.949219 -0.726563 3.410156 -0.726563 C 3.878906 -0.726563 4.277344 -0.921875 4.613281 -1.320313 C 4.945313 -1.710938 5.113281 -2.328125 5.117188 -3.164063 C 5.113281 -3.953125 4.949219 -4.546875 4.625 -4.945313 C 4.296875 -5.339844 3.910156 -5.535156 3.457031 -5.539063 C 3.003906 -5.535156 2.605469 -5.324219 2.261719 -4.90625 C 1.917969 -4.484375 1.746094 -3.875 1.746094 -3.078125 Z M 1.746094 -3.078125 \"/>\n",
       "</symbol>\n",
       "<symbol overflow=\"visible\" id=\"glyph0-7\">\n",
       "<path style=\"stroke:none;\" d=\"M 0.398438 -3.109375 C 0.398438 -4.261719 0.71875 -5.117188 1.359375 -5.671875 C 1.894531 -6.132813 2.546875 -6.363281 3.316406 -6.363281 C 4.171875 -6.363281 4.871094 -6.082031 5.414063 -5.519531 C 5.953125 -4.957031 6.222656 -4.183594 6.226563 -3.199219 C 6.222656 -2.398438 6.101563 -1.765625 5.867188 -1.308594 C 5.625 -0.847656 5.277344 -0.492188 4.820313 -0.238281 C 4.359375 0.015625 3.859375 0.140625 3.316406 0.140625 C 2.441406 0.140625 1.734375 -0.136719 1.203125 -0.695313 C 0.664063 -1.253906 0.398438 -2.058594 0.398438 -3.109375 Z M 1.484375 -3.109375 C 1.480469 -2.308594 1.65625 -1.710938 2.003906 -1.320313 C 2.347656 -0.921875 2.785156 -0.726563 3.316406 -0.726563 C 3.839844 -0.726563 4.273438 -0.925781 4.621094 -1.324219 C 4.96875 -1.722656 5.144531 -2.328125 5.144531 -3.148438 C 5.144531 -3.914063 4.96875 -4.496094 4.617188 -4.894531 C 4.265625 -5.289063 3.832031 -5.488281 3.316406 -5.492188 C 2.785156 -5.488281 2.347656 -5.292969 2.003906 -4.898438 C 1.65625 -4.5 1.480469 -3.902344 1.484375 -3.109375 Z M 1.484375 -3.109375 \"/>\n",
       "</symbol>\n",
       "<symbol overflow=\"visible\" id=\"glyph0-8\">\n",
       "<path style=\"stroke:none;\" d=\"M 0.796875 -7.375 L 0.796875 -8.589844 L 1.851563 -8.589844 L 1.851563 -7.375 Z M 0.796875 0 L 0.796875 -6.222656 L 1.851563 -6.222656 L 1.851563 0 Z M 0.796875 0 \"/>\n",
       "</symbol>\n",
       "<symbol overflow=\"visible\" id=\"glyph0-9\">\n",
       "<path style=\"stroke:none;\" d=\"M 3.09375 -0.945313 L 3.246094 -0.0117188 C 2.949219 0.0507813 2.683594 0.0820313 2.449219 0.0820313 C 2.066406 0.0820313 1.769531 0.0234375 1.558594 -0.0976563 C 1.347656 -0.21875 1.199219 -0.378906 1.113281 -0.578125 C 1.027344 -0.773438 0.984375 -1.1875 0.984375 -1.820313 L 0.984375 -5.402344 L 0.210938 -5.402344 L 0.210938 -6.222656 L 0.984375 -6.222656 L 0.984375 -7.765625 L 2.03125 -8.398438 L 2.03125 -6.222656 L 3.09375 -6.222656 L 3.09375 -5.402344 L 2.03125 -5.402344 L 2.03125 -1.765625 C 2.027344 -1.460938 2.046875 -1.269531 2.085938 -1.183594 C 2.125 -1.097656 2.183594 -1.027344 2.269531 -0.976563 C 2.351563 -0.925781 2.472656 -0.902344 2.632813 -0.902344 C 2.742188 -0.902344 2.898438 -0.914063 3.09375 -0.945313 Z M 3.09375 -0.945313 \"/>\n",
       "</symbol>\n",
       "<symbol overflow=\"visible\" id=\"glyph0-10\">\n",
       "<path style=\"stroke:none;\" d=\"M 2.519531 0 L 0.152344 -6.222656 L 1.265625 -6.222656 L 2.601563 -2.496094 C 2.746094 -2.089844 2.878906 -1.671875 3 -1.242188 C 3.09375 -1.570313 3.222656 -1.964844 3.390625 -2.425781 L 4.773438 -6.222656 L 5.859375 -6.222656 L 3.503906 0 Z M 2.519531 0 \"/>\n",
       "</symbol>\n",
       "<symbol overflow=\"visible\" id=\"glyph0-11\">\n",
       "<path style=\"stroke:none;\" d=\"M 0.78125 0 L 0.78125 -6.222656 L 1.726563 -6.222656 L 1.726563 -5.28125 C 1.96875 -5.71875 2.191406 -6.011719 2.398438 -6.152344 C 2.601563 -6.292969 2.828125 -6.363281 3.078125 -6.363281 C 3.429688 -6.363281 3.792969 -6.25 4.160156 -6.023438 L 3.796875 -5.046875 C 3.539063 -5.195313 3.28125 -5.273438 3.023438 -5.273438 C 2.792969 -5.273438 2.585938 -5.203125 2.402344 -5.066406 C 2.214844 -4.925781 2.082031 -4.734375 2.007813 -4.488281 C 1.890625 -4.113281 1.832031 -3.703125 1.835938 -3.257813 L 1.835938 0 Z M 0.78125 0 \"/>\n",
       "</symbol>\n",
       "<symbol overflow=\"visible\" id=\"glyph0-12\">\n",
       "<path style=\"stroke:none;\" d=\"M 0.5 -4.234375 C 0.496094 -5.246094 0.601563 -6.0625 0.8125 -6.6875 C 1.019531 -7.304688 1.328125 -7.785156 1.742188 -8.121094 C 2.148438 -8.457031 2.667969 -8.625 3.296875 -8.625 C 3.757813 -8.625 4.164063 -8.53125 4.511719 -8.347656 C 4.855469 -8.160156 5.140625 -7.890625 5.371094 -7.542969 C 5.59375 -7.191406 5.773438 -6.765625 5.90625 -6.265625 C 6.035156 -5.761719 6.097656 -5.085938 6.101563 -4.234375 C 6.097656 -3.226563 5.996094 -2.414063 5.789063 -1.796875 C 5.578125 -1.175781 5.265625 -0.695313 4.859375 -0.359375 C 4.445313 -0.0195313 3.925781 0.144531 3.296875 0.148438 C 2.464844 0.144531 1.816406 -0.148438 1.347656 -0.742188 C 0.78125 -1.457031 0.496094 -2.621094 0.5 -4.234375 Z M 1.582031 -4.234375 C 1.582031 -2.824219 1.746094 -1.886719 2.074219 -1.417969 C 2.402344 -0.949219 2.808594 -0.714844 3.296875 -0.71875 C 3.777344 -0.714844 4.183594 -0.949219 4.519531 -1.421875 C 4.847656 -1.886719 5.015625 -2.824219 5.015625 -4.234375 C 5.015625 -5.648438 4.847656 -6.589844 4.519531 -7.054688 C 4.183594 -7.515625 3.773438 -7.746094 3.289063 -7.75 C 2.800781 -7.746094 2.414063 -7.542969 2.125 -7.136719 C 1.761719 -6.613281 1.582031 -5.644531 1.582031 -4.234375 Z M 1.582031 -4.234375 \"/>\n",
       "</symbol>\n",
       "<symbol overflow=\"visible\" id=\"glyph0-13\">\n",
       "<path style=\"stroke:none;\" d=\"M 1.089844 0 L 1.089844 -1.203125 L 2.289063 -1.203125 L 2.289063 0 Z M 1.089844 0 \"/>\n",
       "</symbol>\n",
       "<symbol overflow=\"visible\" id=\"glyph0-14\">\n",
       "<path style=\"stroke:none;\" d=\"M 6.039063 -1.015625 L 6.039063 0 L 0.363281 0 C 0.355469 -0.253906 0.394531 -0.496094 0.484375 -0.734375 C 0.628906 -1.117188 0.859375 -1.5 1.179688 -1.875 C 1.492188 -2.25 1.953125 -2.683594 2.5625 -3.175781 C 3.492188 -3.941406 4.125 -4.546875 4.453125 -4.992188 C 4.78125 -5.4375 4.945313 -5.859375 4.945313 -6.265625 C 4.945313 -6.679688 4.792969 -7.03125 4.496094 -7.320313 C 4.191406 -7.601563 3.804688 -7.746094 3.328125 -7.75 C 2.820313 -7.746094 2.414063 -7.59375 2.109375 -7.292969 C 1.804688 -6.984375 1.648438 -6.5625 1.648438 -6.03125 L 0.5625 -6.140625 C 0.632813 -6.945313 0.910156 -7.558594 1.398438 -7.988281 C 1.878906 -8.410156 2.53125 -8.625 3.351563 -8.625 C 4.171875 -8.625 4.824219 -8.394531 5.308594 -7.9375 C 5.789063 -7.480469 6.027344 -6.914063 6.03125 -6.242188 C 6.027344 -5.894531 5.957031 -5.558594 5.820313 -5.226563 C 5.675781 -4.890625 5.441406 -4.539063 5.117188 -4.175781 C 4.789063 -3.804688 4.25 -3.300781 3.492188 -2.664063 C 2.859375 -2.128906 2.453125 -1.769531 2.273438 -1.582031 C 2.09375 -1.394531 1.945313 -1.203125 1.828125 -1.015625 Z M 6.039063 -1.015625 \"/>\n",
       "</symbol>\n",
       "<symbol overflow=\"visible\" id=\"glyph0-15\">\n",
       "<path style=\"stroke:none;\" d=\"M 3.878906 0 L 3.878906 -2.054688 L 0.152344 -2.054688 L 0.152344 -3.023438 L 4.070313 -8.589844 L 4.933594 -8.589844 L 4.933594 -3.023438 L 6.09375 -3.023438 L 6.09375 -2.054688 L 4.933594 -2.054688 L 4.933594 0 Z M 3.878906 -3.023438 L 3.878906 -6.898438 L 1.1875 -3.023438 Z M 3.878906 -3.023438 \"/>\n",
       "</symbol>\n",
       "<symbol overflow=\"visible\" id=\"glyph0-16\">\n",
       "<path style=\"stroke:none;\" d=\"M 5.96875 -6.484375 L 4.921875 -6.40625 C 4.828125 -6.8125 4.695313 -7.113281 4.523438 -7.304688 C 4.234375 -7.605469 3.882813 -7.757813 3.46875 -7.757813 C 3.132813 -7.757813 2.835938 -7.664063 2.585938 -7.476563 C 2.25 -7.234375 1.988281 -6.878906 1.796875 -6.414063 C 1.605469 -5.949219 1.507813 -5.289063 1.5 -4.429688 C 1.753906 -4.8125 2.0625 -5.097656 2.433594 -5.289063 C 2.796875 -5.472656 3.183594 -5.566406 3.585938 -5.570313 C 4.289063 -5.566406 4.886719 -5.308594 5.382813 -4.792969 C 5.875 -4.277344 6.121094 -3.609375 6.125 -2.789063 C 6.121094 -2.25 6.003906 -1.746094 5.773438 -1.285156 C 5.539063 -0.820313 5.222656 -0.46875 4.816406 -0.222656 C 4.410156 0.0234375 3.949219 0.144531 3.433594 0.148438 C 2.554688 0.144531 1.835938 -0.175781 1.285156 -0.820313 C 0.726563 -1.46875 0.449219 -2.535156 0.453125 -4.019531 C 0.449219 -5.675781 0.757813 -6.882813 1.371094 -7.640625 C 1.902344 -8.296875 2.621094 -8.625 3.53125 -8.625 C 4.207031 -8.625 4.761719 -8.433594 5.195313 -8.054688 C 5.625 -7.675781 5.882813 -7.152344 5.96875 -6.484375 Z M 1.664063 -2.78125 C 1.664063 -2.417969 1.738281 -2.070313 1.894531 -1.738281 C 2.042969 -1.40625 2.261719 -1.152344 2.542969 -0.980469 C 2.820313 -0.800781 3.109375 -0.714844 3.414063 -0.71875 C 3.859375 -0.714844 4.242188 -0.894531 4.566406 -1.257813 C 4.882813 -1.613281 5.042969 -2.101563 5.046875 -2.726563 C 5.042969 -3.316406 4.886719 -3.785156 4.570313 -4.128906 C 4.25 -4.46875 3.851563 -4.640625 3.375 -4.640625 C 2.898438 -4.640625 2.492188 -4.46875 2.160156 -4.128906 C 1.828125 -3.785156 1.664063 -3.335938 1.664063 -2.78125 Z M 1.664063 -2.78125 \"/>\n",
       "</symbol>\n",
       "<symbol overflow=\"visible\" id=\"glyph0-17\">\n",
       "<path style=\"stroke:none;\" d=\"M 2.121094 -4.65625 C 1.683594 -4.816406 1.359375 -5.046875 1.148438 -5.34375 C 0.9375 -5.640625 0.832031 -5.996094 0.832031 -6.410156 C 0.832031 -7.035156 1.054688 -7.558594 1.503906 -7.984375 C 1.953125 -8.410156 2.550781 -8.625 3.296875 -8.625 C 4.042969 -8.625 4.648438 -8.40625 5.109375 -7.972656 C 5.566406 -7.535156 5.792969 -7.003906 5.796875 -6.382813 C 5.792969 -5.976563 5.6875 -5.628906 5.480469 -5.339844 C 5.269531 -5.042969 4.953125 -4.816406 4.53125 -4.65625 C 5.054688 -4.480469 5.457031 -4.203125 5.734375 -3.824219 C 6.007813 -3.4375 6.144531 -2.980469 6.148438 -2.453125 C 6.144531 -1.714844 5.886719 -1.097656 5.367188 -0.601563 C 4.84375 -0.101563 4.160156 0.144531 3.316406 0.148438 C 2.46875 0.144531 1.785156 -0.101563 1.265625 -0.605469 C 0.742188 -1.105469 0.480469 -1.734375 0.484375 -2.484375 C 0.480469 -3.039063 0.621094 -3.503906 0.910156 -3.886719 C 1.191406 -4.261719 1.597656 -4.519531 2.121094 -4.65625 Z M 1.910156 -6.445313 C 1.910156 -6.039063 2.039063 -5.707031 2.300781 -5.449219 C 2.5625 -5.191406 2.902344 -5.0625 3.320313 -5.0625 C 3.722656 -5.0625 4.054688 -5.1875 4.320313 -5.445313 C 4.578125 -5.695313 4.710938 -6.011719 4.710938 -6.386719 C 4.710938 -6.773438 4.574219 -7.097656 4.308594 -7.363281 C 4.035156 -7.625 3.703125 -7.757813 3.3125 -7.757813 C 2.90625 -7.757813 2.574219 -7.628906 2.308594 -7.371094 C 2.042969 -7.113281 1.910156 -6.804688 1.910156 -6.445313 Z M 1.570313 -2.476563 C 1.570313 -2.175781 1.640625 -1.886719 1.785156 -1.605469 C 1.925781 -1.324219 2.136719 -1.105469 2.421875 -0.949219 C 2.699219 -0.792969 3.003906 -0.714844 3.328125 -0.71875 C 3.832031 -0.714844 4.246094 -0.878906 4.578125 -1.207031 C 4.902344 -1.53125 5.066406 -1.941406 5.070313 -2.445313 C 5.066406 -2.945313 4.898438 -3.367188 4.5625 -3.703125 C 4.222656 -4.035156 3.800781 -4.199219 3.292969 -4.203125 C 2.792969 -4.199219 2.378906 -4.035156 2.058594 -3.710938 C 1.730469 -3.378906 1.570313 -2.96875 1.570313 -2.476563 Z M 1.570313 -2.476563 \"/>\n",
       "</symbol>\n",
       "<symbol overflow=\"visible\" id=\"glyph0-18\">\n",
       "<path style=\"stroke:none;\" d=\"M 4.46875 0 L 3.414063 0 L 3.414063 -6.71875 C 3.160156 -6.476563 2.828125 -6.234375 2.414063 -5.996094 C 2 -5.75 1.628906 -5.570313 1.304688 -5.449219 L 1.304688 -6.46875 C 1.894531 -6.742188 2.410156 -7.078125 2.851563 -7.476563 C 3.292969 -7.871094 3.605469 -8.253906 3.789063 -8.625 L 4.46875 -8.625 Z M 4.46875 0 \"/>\n",
       "</symbol>\n",
       "<symbol overflow=\"visible\" id=\"glyph1-0\">\n",
       "<path style=\"stroke:none;\" d=\"M 0 -3.109375 L -7.578125 -3.113281 L -7.578125 -0.28125 L -8.589844 -0.28125 L -8.589844 -7.089844 L -7.578125 -7.089844 L -7.578125 -4.25 L 0 -4.25 Z M 0 -3.109375 \"/>\n",
       "</symbol>\n",
       "<symbol overflow=\"visible\" id=\"glyph1-1\">\n",
       "<path style=\"stroke:none;\" d=\"M 0 -0.78125 L -6.222656 -0.78125 L -6.222656 -1.730469 L -5.28125 -1.730469 C -5.71875 -1.96875 -6.011719 -2.191406 -6.152344 -2.398438 C -6.292969 -2.601563 -6.363281 -2.828125 -6.363281 -3.078125 C -6.363281 -3.429688 -6.25 -3.792969 -6.023438 -4.160156 L -5.046875 -3.796875 C -5.195313 -3.539063 -5.273438 -3.28125 -5.273438 -3.023438 C -5.273438 -2.792969 -5.203125 -2.585938 -5.066406 -2.402344 C -4.925781 -2.21875 -4.734375 -2.085938 -4.488281 -2.011719 C -4.113281 -1.890625 -3.703125 -1.832031 -3.257813 -1.835938 L 0 -1.835938 Z M 0 -0.78125 \"/>\n",
       "</symbol>\n",
       "<symbol overflow=\"visible\" id=\"glyph1-2\">\n",
       "<path style=\"stroke:none;\" d=\"M 0 -4.867188 L -0.914063 -4.867188 C -0.210938 -4.378906 0.140625 -3.722656 0.140625 -2.894531 C 0.140625 -2.527344 0.0703125 -2.183594 -0.0703125 -1.867188 C -0.210938 -1.546875 -0.386719 -1.308594 -0.597656 -1.15625 C -0.808594 -1 -1.070313 -0.894531 -1.382813 -0.832031 C -1.589844 -0.789063 -1.917969 -0.765625 -2.367188 -0.769531 L -6.222656 -0.769531 L -6.222656 -1.824219 L -2.773438 -1.824219 C -2.21875 -1.820313 -1.847656 -1.84375 -1.65625 -1.886719 C -1.378906 -1.949219 -1.160156 -2.089844 -1.003906 -2.308594 C -0.839844 -2.523438 -0.761719 -2.789063 -0.765625 -3.105469 C -0.761719 -3.417969 -0.84375 -3.714844 -1.007813 -3.996094 C -1.171875 -4.273438 -1.390625 -4.46875 -1.671875 -4.585938 C -1.945313 -4.699219 -2.351563 -4.757813 -2.886719 -4.757813 L -6.222656 -4.757813 L -6.222656 -5.8125 L 0 -5.8125 Z M 0 -4.867188 \"/>\n",
       "</symbol>\n",
       "<symbol overflow=\"visible\" id=\"glyph1-3\">\n",
       "<path style=\"stroke:none;\" d=\"M -2.003906 -5.050781 L -1.867188 -6.140625 C -1.230469 -5.96875 -0.738281 -5.648438 -0.386719 -5.183594 C -0.0351563 -4.71875 0.140625 -4.125 0.140625 -3.40625 C 0.140625 -2.492188 -0.136719 -1.769531 -0.699219 -1.238281 C -1.253906 -0.703125 -2.042969 -0.4375 -3.058594 -0.441406 C -4.105469 -0.4375 -4.917969 -0.707031 -5.496094 -1.25 C -6.074219 -1.785156 -6.363281 -2.484375 -6.363281 -3.347656 C -6.363281 -4.175781 -6.078125 -4.855469 -5.511719 -5.382813 C -4.945313 -5.910156 -4.148438 -6.175781 -3.121094 -6.175781 C -3.054688 -6.175781 -2.960938 -6.171875 -2.839844 -6.171875 L -2.84375 -1.53125 C -2.15625 -1.566406 -1.632813 -1.761719 -1.269531 -2.109375 C -0.90625 -2.457031 -0.726563 -2.890625 -0.726563 -3.410156 C -0.726563 -3.796875 -0.828125 -4.125 -1.03125 -4.402344 C -1.234375 -4.671875 -1.558594 -4.890625 -2.003906 -5.050781 Z M -3.710938 -1.589844 L -3.707031 -5.0625 C -4.226563 -5.015625 -4.621094 -4.882813 -4.886719 -4.664063 C -5.292969 -4.328125 -5.496094 -3.890625 -5.496094 -3.359375 C -5.496094 -2.871094 -5.332031 -2.464844 -5.007813 -2.136719 C -4.683594 -1.804688 -4.25 -1.621094 -3.710938 -1.589844 Z M -3.710938 -1.589844 \"/>\n",
       "</symbol>\n",
       "<symbol overflow=\"visible\" id=\"glyph1-4\">\n",
       "<path style=\"stroke:none;\" d=\"\"/>\n",
       "</symbol>\n",
       "<symbol overflow=\"visible\" id=\"glyph1-5\">\n",
       "<path style=\"stroke:none;\" d=\"M 2.382813 -0.789063 L -6.222656 -0.792969 L -6.222656 -1.753906 L -5.414063 -1.753906 C -5.730469 -1.976563 -5.964844 -2.234375 -6.125 -2.519531 C -6.28125 -2.804688 -6.363281 -3.148438 -6.363281 -3.558594 C -6.363281 -4.082031 -6.226563 -4.550781 -5.953125 -4.960938 C -5.679688 -5.363281 -5.292969 -5.671875 -4.792969 -5.882813 C -4.292969 -6.089844 -3.746094 -6.191406 -3.15625 -6.195313 C -2.519531 -6.191406 -1.945313 -6.078125 -1.4375 -5.851563 C -0.921875 -5.621094 -0.53125 -5.289063 -0.265625 -4.855469 C 0.0078125 -4.417969 0.140625 -3.960938 0.140625 -3.480469 C 0.140625 -3.128906 0.0664063 -2.8125 -0.0820313 -2.535156 C -0.230469 -2.253906 -0.417969 -2.023438 -0.644531 -1.84375 L 2.382813 -1.84375 Z M -3.078125 -1.746094 C -2.273438 -1.746094 -1.683594 -1.90625 -1.300781 -2.230469 C -0.917969 -2.554688 -0.726563 -2.949219 -0.726563 -3.410156 C -0.726563 -3.878906 -0.921875 -4.277344 -1.320313 -4.613281 C -1.710938 -4.945313 -2.328125 -5.113281 -3.164063 -5.117188 C -3.953125 -5.113281 -4.546875 -4.949219 -4.945313 -4.625 C -5.339844 -4.296875 -5.535156 -3.910156 -5.539063 -3.457031 C -5.535156 -3.007813 -5.324219 -2.609375 -4.90625 -2.265625 C -4.484375 -1.917969 -3.875 -1.746094 -3.078125 -1.746094 Z M -3.078125 -1.746094 \"/>\n",
       "</symbol>\n",
       "<symbol overflow=\"visible\" id=\"glyph1-6\">\n",
       "<path style=\"stroke:none;\" d=\"M -3.109375 -0.398438 C -4.261719 -0.398438 -5.117188 -0.71875 -5.671875 -1.359375 C -6.132813 -1.894531 -6.363281 -2.546875 -6.363281 -3.316406 C -6.363281 -4.171875 -6.082031 -4.871094 -5.519531 -5.414063 C -4.957031 -5.953125 -4.183594 -6.222656 -3.199219 -6.226563 C -2.394531 -6.222656 -1.761719 -6.101563 -1.308594 -5.867188 C -0.847656 -5.625 -0.492188 -5.277344 -0.238281 -4.820313 C 0.015625 -4.359375 0.140625 -3.859375 0.140625 -3.316406 C 0.140625 -2.441406 -0.136719 -1.734375 -0.695313 -1.203125 C -1.253906 -0.664063 -2.058594 -0.398438 -3.109375 -0.398438 Z M -3.109375 -1.484375 C -2.308594 -1.480469 -1.710938 -1.65625 -1.320313 -2.003906 C -0.921875 -2.347656 -0.726563 -2.785156 -0.726563 -3.316406 C -0.726563 -3.839844 -0.925781 -4.273438 -1.324219 -4.621094 C -1.722656 -4.96875 -2.328125 -5.144531 -3.144531 -5.144531 C -3.914063 -5.144531 -4.496094 -4.96875 -4.894531 -4.617188 C -5.289063 -4.265625 -5.488281 -3.832031 -5.492188 -3.316406 C -5.488281 -2.789063 -5.292969 -2.351563 -4.898438 -2.003906 C -4.5 -1.65625 -3.902344 -1.480469 -3.109375 -1.484375 Z M -3.109375 -1.484375 \"/>\n",
       "</symbol>\n",
       "<symbol overflow=\"visible\" id=\"glyph1-7\">\n",
       "<path style=\"stroke:none;\" d=\"M -1.859375 -0.371094 L -2.023438 -1.414063 C -1.601563 -1.46875 -1.28125 -1.632813 -1.058594 -1.902344 C -0.835938 -2.167969 -0.726563 -2.542969 -0.726563 -3.023438 C -0.726563 -3.507813 -0.824219 -3.867188 -1.019531 -4.101563 C -1.214844 -4.335938 -1.445313 -4.453125 -1.714844 -4.453125 C -1.953125 -4.453125 -2.140625 -4.347656 -2.277344 -4.140625 C -2.367188 -3.996094 -2.488281 -3.636719 -2.636719 -3.0625 C -2.832031 -2.289063 -3 -1.753906 -3.144531 -1.457031 C -3.285156 -1.15625 -3.480469 -0.929688 -3.734375 -0.777344 C -3.984375 -0.621094 -4.265625 -0.542969 -4.570313 -0.546875 C -4.84375 -0.542969 -5.097656 -0.605469 -5.339844 -0.734375 C -5.574219 -0.859375 -5.773438 -1.035156 -5.929688 -1.253906 C -6.046875 -1.417969 -6.148438 -1.640625 -6.234375 -1.925781 C -6.320313 -2.207031 -6.363281 -2.511719 -6.363281 -2.835938 C -6.363281 -3.324219 -6.292969 -3.75 -6.152344 -4.121094 C -6.011719 -4.488281 -5.820313 -4.761719 -5.578125 -4.9375 C -5.335938 -5.113281 -5.015625 -5.234375 -4.617188 -5.304688 L -4.476563 -4.273438 C -4.796875 -4.222656 -5.046875 -4.085938 -5.226563 -3.863281 C -5.40625 -3.636719 -5.496094 -3.320313 -5.496094 -2.914063 C -5.496094 -2.425781 -5.414063 -2.082031 -5.253906 -1.875 C -5.09375 -1.667969 -4.90625 -1.5625 -4.695313 -1.566406 C -4.554688 -1.5625 -4.433594 -1.605469 -4.324219 -1.695313 C -4.210938 -1.777344 -4.117188 -1.914063 -4.042969 -2.097656 C -4.003906 -2.203125 -3.914063 -2.511719 -3.773438 -3.03125 C -3.570313 -3.773438 -3.40625 -4.292969 -3.28125 -4.589844 C -3.15625 -4.878906 -2.972656 -5.113281 -2.730469 -5.285156 C -2.488281 -5.453125 -2.1875 -5.535156 -1.828125 -5.539063 C -1.476563 -5.535156 -1.144531 -5.433594 -0.832031 -5.230469 C -0.519531 -5.023438 -0.277344 -4.726563 -0.113281 -4.339844 C 0.0585938 -3.953125 0.140625 -3.515625 0.140625 -3.03125 C 0.140625 -2.21875 -0.0273438 -1.601563 -0.363281 -1.179688 C -0.699219 -0.753906 -1.195313 -0.484375 -1.859375 -0.371094 Z M -1.859375 -0.371094 \"/>\n",
       "</symbol>\n",
       "<symbol overflow=\"visible\" id=\"glyph1-8\">\n",
       "<path style=\"stroke:none;\" d=\"M -7.375 -0.796875 L -8.589844 -0.796875 L -8.589844 -1.851563 L -7.375 -1.851563 Z M 0 -0.796875 L -6.222656 -0.796875 L -6.222656 -1.851563 L 0 -1.851563 Z M 0 -0.796875 \"/>\n",
       "</symbol>\n",
       "<symbol overflow=\"visible\" id=\"glyph1-9\">\n",
       "<path style=\"stroke:none;\" d=\"M -0.941406 -3.09375 L -0.0117188 -3.246094 C 0.0507813 -2.949219 0.0820313 -2.683594 0.0820313 -2.449219 C 0.0820313 -2.066406 0.0234375 -1.769531 -0.0976563 -1.558594 C -0.21875 -1.347656 -0.378906 -1.199219 -0.574219 -1.113281 C -0.769531 -1.027344 -1.183594 -0.984375 -1.820313 -0.984375 L -5.402344 -0.984375 L -5.402344 -0.210938 L -6.222656 -0.210938 L -6.222656 -0.984375 L -7.765625 -0.984375 L -8.398438 -2.035156 L -6.222656 -2.035156 L -6.222656 -3.09375 L -5.402344 -3.09375 L -5.402344 -2.035156 L -1.761719 -2.03125 C -1.460938 -2.027344 -1.269531 -2.046875 -1.183594 -2.085938 C -1.097656 -2.125 -1.027344 -2.183594 -0.976563 -2.269531 C -0.925781 -2.351563 -0.902344 -2.472656 -0.902344 -2.632813 C -0.902344 -2.742188 -0.914063 -2.898438 -0.941406 -3.09375 Z M -0.941406 -3.09375 \"/>\n",
       "</symbol>\n",
       "<symbol overflow=\"visible\" id=\"glyph1-10\">\n",
       "<path style=\"stroke:none;\" d=\"M 0 -2.519531 L -6.222656 -0.152344 L -6.222656 -1.265625 L -2.496094 -2.601563 C -2.089844 -2.746094 -1.671875 -2.878906 -1.242188 -3 C -1.570313 -3.09375 -1.964844 -3.222656 -2.425781 -3.390625 L -6.222656 -4.773438 L -6.222656 -5.859375 L 0 -3.503906 Z M 0 -2.519531 \"/>\n",
       "</symbol>\n",
       "<symbol overflow=\"visible\" id=\"glyph1-11\">\n",
       "<path style=\"stroke:none;\" d=\"M -0.765625 -4.851563 C -0.433594 -4.460938 -0.199219 -4.082031 -0.0625 -3.722656 C 0.0742188 -3.355469 0.140625 -2.96875 0.140625 -2.5625 C 0.140625 -1.875 -0.0234375 -1.351563 -0.359375 -0.984375 C -0.6875 -0.617188 -1.117188 -0.433594 -1.640625 -0.433594 C -1.945313 -0.433594 -2.222656 -0.5 -2.472656 -0.640625 C -2.722656 -0.777344 -2.925781 -0.960938 -3.082031 -1.1875 C -3.234375 -1.410156 -3.347656 -1.664063 -3.429688 -1.945313 C -3.476563 -2.152344 -3.53125 -2.464844 -3.585938 -2.882813 C -3.6875 -3.734375 -3.808594 -4.359375 -3.949219 -4.765625 C -4.089844 -4.765625 -4.179688 -4.769531 -4.226563 -4.769531 C -4.648438 -4.769531 -4.953125 -4.667969 -5.132813 -4.46875 C -5.371094 -4.199219 -5.488281 -3.800781 -5.492188 -3.269531 C -5.488281 -2.773438 -5.402344 -2.40625 -5.230469 -2.171875 C -5.054688 -1.933594 -4.746094 -1.757813 -4.304688 -1.648438 L -4.445313 -0.617188 C -4.886719 -0.707031 -5.242188 -0.863281 -5.515625 -1.078125 C -5.78125 -1.292969 -5.992188 -1.601563 -6.140625 -2.011719 C -6.289063 -2.414063 -6.363281 -2.886719 -6.363281 -3.421875 C -6.363281 -3.953125 -6.300781 -4.382813 -6.175781 -4.714844 C -6.050781 -5.046875 -5.890625 -5.292969 -5.703125 -5.449219 C -5.511719 -5.605469 -5.273438 -5.714844 -4.984375 -5.777344 C -4.804688 -5.808594 -4.480469 -5.824219 -4.015625 -5.828125 L -2.605469 -5.828125 C -1.625 -5.824219 -1.003906 -5.847656 -0.746094 -5.894531 C -0.480469 -5.941406 -0.234375 -6.03125 0 -6.164063 L 0 -5.0625 C -0.21875 -4.953125 -0.472656 -4.882813 -0.765625 -4.851563 Z M -3.121094 -4.765625 C -2.960938 -4.375 -2.828125 -3.800781 -2.726563 -3.039063 C -2.660156 -2.605469 -2.589844 -2.300781 -2.515625 -2.121094 C -2.433594 -1.941406 -2.320313 -1.800781 -2.171875 -1.703125 C -2.019531 -1.605469 -1.851563 -1.558594 -1.671875 -1.558594 C -1.386719 -1.558594 -1.152344 -1.664063 -0.964844 -1.875 C -0.773438 -2.085938 -0.679688 -2.398438 -0.683594 -2.8125 C -0.679688 -3.21875 -0.769531 -3.578125 -0.949219 -3.894531 C -1.128906 -4.210938 -1.371094 -4.445313 -1.679688 -4.59375 C -1.917969 -4.707031 -2.269531 -4.761719 -2.734375 -4.765625 Z M -3.121094 -4.765625 \"/>\n",
       "</symbol>\n",
       "<symbol overflow=\"visible\" id=\"glyph1-12\">\n",
       "<path style=\"stroke:none;\" d=\"M -4.234375 -0.5 C -5.246094 -0.496094 -6.0625 -0.601563 -6.6875 -0.8125 C -7.304688 -1.019531 -7.785156 -1.328125 -8.121094 -1.742188 C -8.457031 -2.152344 -8.625 -2.671875 -8.625 -3.300781 C -8.625 -3.757813 -8.53125 -4.164063 -8.347656 -4.511719 C -8.160156 -4.859375 -7.890625 -5.144531 -7.542969 -5.371094 C -7.191406 -5.59375 -6.765625 -5.773438 -6.265625 -5.90625 C -5.761719 -6.035156 -5.085938 -6.097656 -4.234375 -6.101563 C -3.222656 -6.097656 -2.410156 -5.996094 -1.792969 -5.789063 C -1.175781 -5.578125 -0.695313 -5.265625 -0.359375 -4.859375 C -0.0195313 -4.445313 0.144531 -3.925781 0.148438 -3.296875 C 0.144531 -2.464844 -0.148438 -1.816406 -0.742188 -1.347656 C -1.457031 -0.78125 -2.621094 -0.496094 -4.234375 -0.5 Z M -4.234375 -1.582031 C -2.824219 -1.582031 -1.886719 -1.746094 -1.417969 -2.074219 C -0.949219 -2.402344 -0.714844 -2.808594 -0.71875 -3.296875 C -0.714844 -3.777344 -0.949219 -4.183594 -1.421875 -4.519531 C -1.886719 -4.847656 -2.824219 -5.015625 -4.234375 -5.015625 C -5.648438 -5.015625 -6.589844 -4.847656 -7.054688 -4.519531 C -7.515625 -4.1875 -7.746094 -3.777344 -7.75 -3.289063 C -7.746094 -2.800781 -7.542969 -2.414063 -7.136719 -2.128906 C -6.613281 -1.761719 -5.644531 -1.582031 -4.234375 -1.582031 Z M -4.234375 -1.582031 \"/>\n",
       "</symbol>\n",
       "<symbol overflow=\"visible\" id=\"glyph1-13\">\n",
       "<path style=\"stroke:none;\" d=\"M 0 -1.089844 L -1.203125 -1.089844 L -1.199219 -2.289063 L 0 -2.289063 Z M 0 -1.089844 \"/>\n",
       "</symbol>\n",
       "<symbol overflow=\"visible\" id=\"glyph1-14\">\n",
       "<path style=\"stroke:none;\" d=\"M -1.011719 -6.039063 L 0 -6.039063 L 0 -0.363281 C -0.253906 -0.355469 -0.496094 -0.394531 -0.734375 -0.488281 C -1.117188 -0.628906 -1.5 -0.859375 -1.875 -1.179688 C -2.25 -1.496094 -2.683594 -1.957031 -3.175781 -2.5625 C -3.941406 -3.492188 -4.546875 -4.125 -4.992188 -4.453125 C -5.4375 -4.78125 -5.859375 -4.945313 -6.265625 -4.945313 C -6.679688 -4.945313 -7.03125 -4.792969 -7.320313 -4.496094 C -7.601563 -4.195313 -7.746094 -3.808594 -7.75 -3.328125 C -7.746094 -2.820313 -7.59375 -2.414063 -7.292969 -2.109375 C -6.984375 -1.804688 -6.5625 -1.648438 -6.03125 -1.648438 L -6.140625 -0.5625 C -6.945313 -0.636719 -7.558594 -0.914063 -7.988281 -1.402344 C -8.410156 -1.882813 -8.625 -2.535156 -8.625 -3.351563 C -8.625 -4.175781 -8.394531 -4.828125 -7.9375 -5.308594 C -7.480469 -5.789063 -6.914063 -6.027344 -6.242188 -6.03125 C -5.894531 -6.027344 -5.558594 -5.957031 -5.226563 -5.820313 C -4.890625 -5.675781 -4.539063 -5.441406 -4.175781 -5.117188 C -3.804688 -4.789063 -3.300781 -4.25 -2.664063 -3.492188 C -2.128906 -2.859375 -1.769531 -2.453125 -1.582031 -2.273438 C -1.394531 -2.09375 -1.203125 -1.945313 -1.011719 -1.828125 Z M -1.011719 -6.039063 \"/>\n",
       "</symbol>\n",
       "<symbol overflow=\"visible\" id=\"glyph1-15\">\n",
       "<path style=\"stroke:none;\" d=\"M 0 -3.878906 L -2.054688 -3.878906 L -2.054688 -0.152344 L -3.023438 -0.152344 L -8.589844 -4.074219 L -8.589844 -4.933594 L -3.023438 -4.933594 L -3.023438 -6.09375 L -2.054688 -6.09375 L -2.054688 -4.933594 L 0 -4.933594 Z M -3.023438 -3.878906 L -6.898438 -3.878906 L -3.023438 -1.191406 Z M -3.023438 -3.878906 \"/>\n",
       "</symbol>\n",
       "<symbol overflow=\"visible\" id=\"glyph1-16\">\n",
       "<path style=\"stroke:none;\" d=\"M -6.484375 -5.96875 L -6.40625 -4.921875 C -6.8125 -4.828125 -7.113281 -4.695313 -7.304688 -4.523438 C -7.605469 -4.238281 -7.757813 -3.886719 -7.757813 -3.46875 C -7.757813 -3.132813 -7.664063 -2.835938 -7.476563 -2.585938 C -7.234375 -2.25 -6.878906 -1.988281 -6.414063 -1.796875 C -5.949219 -1.605469 -5.289063 -1.507813 -4.429688 -1.5 C -4.8125 -1.753906 -5.097656 -2.0625 -5.289063 -2.433594 C -5.472656 -2.796875 -5.566406 -3.183594 -5.570313 -3.585938 C -5.566406 -4.289063 -5.308594 -4.886719 -4.792969 -5.382813 C -4.277344 -5.875 -3.609375 -6.121094 -2.789063 -6.125 C -2.25 -6.121094 -1.746094 -6.003906 -1.285156 -5.773438 C -0.816406 -5.539063 -0.460938 -5.222656 -0.21875 -4.816406 C 0.0273438 -4.410156 0.144531 -3.949219 0.148438 -3.433594 C 0.144531 -2.554688 -0.175781 -1.835938 -0.820313 -1.285156 C -1.46875 -0.726563 -2.535156 -0.449219 -4.019531 -0.453125 C -5.675781 -0.449219 -6.882813 -0.757813 -7.640625 -1.371094 C -8.296875 -1.90625 -8.625 -2.625 -8.625 -3.535156 C -8.625 -4.207031 -8.433594 -4.761719 -8.054688 -5.195313 C -7.675781 -5.625 -7.152344 -5.882813 -6.484375 -5.96875 Z M -2.78125 -1.664063 C -2.417969 -1.664063 -2.070313 -1.738281 -1.738281 -1.894531 C -1.40625 -2.042969 -1.152344 -2.261719 -0.980469 -2.542969 C -0.800781 -2.820313 -0.714844 -3.109375 -0.71875 -3.414063 C -0.714844 -3.859375 -0.894531 -4.242188 -1.257813 -4.566406 C -1.613281 -4.882813 -2.101563 -5.042969 -2.722656 -5.046875 C -3.3125 -5.042969 -3.78125 -4.886719 -4.125 -4.570313 C -4.46875 -4.25 -4.640625 -3.851563 -4.640625 -3.375 C -4.640625 -2.898438 -4.46875 -2.492188 -4.128906 -2.160156 C -3.785156 -1.828125 -3.335938 -1.664063 -2.78125 -1.664063 Z M -2.78125 -1.664063 \"/>\n",
       "</symbol>\n",
       "<symbol overflow=\"visible\" id=\"glyph1-17\">\n",
       "<path style=\"stroke:none;\" d=\"M -4.65625 -2.121094 C -4.816406 -1.683594 -5.046875 -1.359375 -5.34375 -1.148438 C -5.640625 -0.9375 -5.996094 -0.832031 -6.410156 -0.832031 C -7.035156 -0.832031 -7.558594 -1.054688 -7.984375 -1.503906 C -8.410156 -1.953125 -8.625 -2.550781 -8.625 -3.300781 C -8.625 -4.046875 -8.40625 -4.652344 -7.972656 -5.109375 C -7.535156 -5.566406 -7.003906 -5.792969 -6.382813 -5.796875 C -5.976563 -5.792969 -5.628906 -5.6875 -5.339844 -5.480469 C -5.042969 -5.269531 -4.816406 -4.953125 -4.65625 -4.53125 C -4.480469 -5.054688 -4.203125 -5.457031 -3.824219 -5.734375 C -3.4375 -6.007813 -2.980469 -6.144531 -2.453125 -6.148438 C -1.714844 -6.144531 -1.097656 -5.886719 -0.601563 -5.367188 C -0.101563 -4.84375 0.144531 -4.160156 0.148438 -3.316406 C 0.144531 -2.46875 -0.101563 -1.785156 -0.605469 -1.265625 C -1.105469 -0.746094 -1.734375 -0.484375 -2.484375 -0.488281 C -3.039063 -0.484375 -3.503906 -0.625 -3.886719 -0.910156 C -4.261719 -1.191406 -4.519531 -1.597656 -4.65625 -2.121094 Z M -6.445313 -1.910156 C -6.039063 -1.910156 -5.707031 -2.039063 -5.449219 -2.300781 C -5.191406 -2.5625 -5.0625 -2.902344 -5.0625 -3.324219 C -5.0625 -3.726563 -5.1875 -4.058594 -5.445313 -4.320313 C -5.695313 -4.578125 -6.011719 -4.710938 -6.386719 -4.710938 C -6.773438 -4.710938 -7.097656 -4.574219 -7.363281 -4.308594 C -7.625 -4.039063 -7.757813 -3.707031 -7.757813 -3.3125 C -7.757813 -2.90625 -7.628906 -2.574219 -7.371094 -2.308594 C -7.113281 -2.042969 -6.804688 -1.910156 -6.445313 -1.910156 Z M -2.476563 -1.570313 C -2.175781 -1.570313 -1.886719 -1.640625 -1.605469 -1.785156 C -1.324219 -1.925781 -1.105469 -2.136719 -0.949219 -2.421875 C -0.792969 -2.699219 -0.714844 -3.003906 -0.71875 -3.328125 C -0.714844 -3.832031 -0.875 -4.246094 -1.203125 -4.578125 C -1.523438 -4.902344 -1.9375 -5.066406 -2.441406 -5.070313 C -2.945313 -5.066406 -3.367188 -4.898438 -3.703125 -4.5625 C -4.035156 -4.222656 -4.199219 -3.800781 -4.203125 -3.292969 C -4.199219 -2.796875 -4.035156 -2.382813 -3.710938 -2.058594 C -3.378906 -1.730469 -2.96875 -1.570313 -2.476563 -1.570313 Z M -2.476563 -1.570313 \"/>\n",
       "</symbol>\n",
       "<symbol overflow=\"visible\" id=\"glyph1-18\">\n",
       "<path style=\"stroke:none;\" d=\"M 0 -4.46875 L 0 -3.414063 L -6.71875 -3.417969 C -6.476563 -3.160156 -6.234375 -2.828125 -5.996094 -2.417969 C -5.75 -2.003906 -5.570313 -1.632813 -5.449219 -1.308594 L -6.46875 -1.308594 C -6.742188 -1.894531 -7.078125 -2.410156 -7.476563 -2.851563 C -7.871094 -3.292969 -8.253906 -3.605469 -8.625 -3.792969 L -8.625 -4.472656 Z M 0 -4.46875 \"/>\n",
       "</symbol>\n",
       "</g>\n",
       "<clipPath id=\"clip1\">\n",
       "  <path d=\"M 59.039063 59.039063 L 474.757813 59.039063 L 474.757813 431.558594 L 59.039063 431.558594 Z M 59.039063 59.039063 \"/>\n",
       "</clipPath>\n",
       "</defs>\n",
       "<g id=\"surface1\">\n",
       "<rect x=\"0\" y=\"0\" width=\"504\" height=\"504\" style=\"fill:rgb(100%,100%,100%);fill-opacity:1;stroke:none;\"/>\n",
       "<g style=\"fill:rgb(0%,0%,0%);fill-opacity:1;\">\n",
       "  <use xlink:href=\"#glyph0-0\" x=\"217.710938\" y=\"485.28125\"/>\n",
       "  <use xlink:href=\"#glyph0-1\" x=\"225.041016\" y=\"485.28125\"/>\n",
       "  <use xlink:href=\"#glyph0-2\" x=\"231.714844\" y=\"485.28125\"/>\n",
       "  <use xlink:href=\"#glyph0-3\" x=\"234.380859\" y=\"485.28125\"/>\n",
       "  <use xlink:href=\"#glyph0-4\" x=\"240.380859\" y=\"485.28125\"/>\n",
       "  <use xlink:href=\"#glyph0-5\" x=\"247.054688\" y=\"485.28125\"/>\n",
       "  <use xlink:href=\"#glyph0-6\" x=\"250.388672\" y=\"485.28125\"/>\n",
       "  <use xlink:href=\"#glyph0-7\" x=\"257.0625\" y=\"485.28125\"/>\n",
       "  <use xlink:href=\"#glyph0-3\" x=\"263.736328\" y=\"485.28125\"/>\n",
       "  <use xlink:href=\"#glyph0-8\" x=\"269.736328\" y=\"485.28125\"/>\n",
       "  <use xlink:href=\"#glyph0-9\" x=\"272.402344\" y=\"485.28125\"/>\n",
       "  <use xlink:href=\"#glyph0-8\" x=\"275.736328\" y=\"485.28125\"/>\n",
       "  <use xlink:href=\"#glyph0-10\" x=\"278.402344\" y=\"485.28125\"/>\n",
       "  <use xlink:href=\"#glyph0-4\" x=\"284.402344\" y=\"485.28125\"/>\n",
       "  <use xlink:href=\"#glyph0-5\" x=\"291.076172\" y=\"485.28125\"/>\n",
       "  <use xlink:href=\"#glyph0-11\" x=\"294.410156\" y=\"485.28125\"/>\n",
       "  <use xlink:href=\"#glyph0-1\" x=\"298.40625\" y=\"485.28125\"/>\n",
       "  <use xlink:href=\"#glyph0-9\" x=\"305.080078\" y=\"485.28125\"/>\n",
       "  <use xlink:href=\"#glyph0-4\" x=\"308.414063\" y=\"485.28125\"/>\n",
       "</g>\n",
       "<g style=\"fill:rgb(0%,0%,0%);fill-opacity:1;\">\n",
       "  <use xlink:href=\"#glyph1-0\" x=\"12.960938\" y=\"291.152344\"/>\n",
       "  <use xlink:href=\"#glyph1-1\" x=\"12.960938\" y=\"283.822266\"/>\n",
       "  <use xlink:href=\"#glyph1-2\" x=\"12.960938\" y=\"279.826172\"/>\n",
       "  <use xlink:href=\"#glyph1-3\" x=\"12.960938\" y=\"273.152344\"/>\n",
       "  <use xlink:href=\"#glyph1-4\" x=\"12.960938\" y=\"266.478516\"/>\n",
       "  <use xlink:href=\"#glyph1-5\" x=\"12.960938\" y=\"263.144531\"/>\n",
       "  <use xlink:href=\"#glyph1-6\" x=\"12.960938\" y=\"256.470703\"/>\n",
       "  <use xlink:href=\"#glyph1-7\" x=\"12.960938\" y=\"249.796875\"/>\n",
       "  <use xlink:href=\"#glyph1-8\" x=\"12.960938\" y=\"243.796875\"/>\n",
       "  <use xlink:href=\"#glyph1-9\" x=\"12.960938\" y=\"241.130859\"/>\n",
       "  <use xlink:href=\"#glyph1-8\" x=\"12.960938\" y=\"237.796875\"/>\n",
       "  <use xlink:href=\"#glyph1-10\" x=\"12.960938\" y=\"235.130859\"/>\n",
       "  <use xlink:href=\"#glyph1-3\" x=\"12.960938\" y=\"229.130859\"/>\n",
       "  <use xlink:href=\"#glyph1-4\" x=\"12.960938\" y=\"222.457031\"/>\n",
       "  <use xlink:href=\"#glyph1-1\" x=\"12.960938\" y=\"219.123047\"/>\n",
       "  <use xlink:href=\"#glyph1-11\" x=\"12.960938\" y=\"215.126953\"/>\n",
       "  <use xlink:href=\"#glyph1-9\" x=\"12.960938\" y=\"208.453125\"/>\n",
       "  <use xlink:href=\"#glyph1-3\" x=\"12.960938\" y=\"205.119141\"/>\n",
       "</g>\n",
       "<path style=\"fill:none;stroke-width:0.75;stroke-linecap:round;stroke-linejoin:round;stroke:rgb(0%,0%,0%);stroke-opacity:1;stroke-miterlimit:10;\" d=\"M 74.398438 430.558594 L 458.398438 430.558594 \"/>\n",
       "<path style=\"fill:none;stroke-width:0.75;stroke-linecap:round;stroke-linejoin:round;stroke:rgb(0%,0%,0%);stroke-opacity:1;stroke-miterlimit:10;\" d=\"M 74.398438 430.558594 L 74.398438 437.761719 \"/>\n",
       "<path style=\"fill:none;stroke-width:0.75;stroke-linecap:round;stroke-linejoin:round;stroke:rgb(0%,0%,0%);stroke-opacity:1;stroke-miterlimit:10;\" d=\"M 151.199219 430.558594 L 151.199219 437.761719 \"/>\n",
       "<path style=\"fill:none;stroke-width:0.75;stroke-linecap:round;stroke-linejoin:round;stroke:rgb(0%,0%,0%);stroke-opacity:1;stroke-miterlimit:10;\" d=\"M 228 430.558594 L 228 437.761719 \"/>\n",
       "<path style=\"fill:none;stroke-width:0.75;stroke-linecap:round;stroke-linejoin:round;stroke:rgb(0%,0%,0%);stroke-opacity:1;stroke-miterlimit:10;\" d=\"M 304.800781 430.558594 L 304.800781 437.761719 \"/>\n",
       "<path style=\"fill:none;stroke-width:0.75;stroke-linecap:round;stroke-linejoin:round;stroke:rgb(0%,0%,0%);stroke-opacity:1;stroke-miterlimit:10;\" d=\"M 381.601563 430.558594 L 381.601563 437.761719 \"/>\n",
       "<path style=\"fill:none;stroke-width:0.75;stroke-linecap:round;stroke-linejoin:round;stroke:rgb(0%,0%,0%);stroke-opacity:1;stroke-miterlimit:10;\" d=\"M 458.398438 430.558594 L 458.398438 437.761719 \"/>\n",
       "<g style=\"fill:rgb(0%,0%,0%);fill-opacity:1;\">\n",
       "  <use xlink:href=\"#glyph0-12\" x=\"66.058594\" y=\"456.480469\"/>\n",
       "  <use xlink:href=\"#glyph0-13\" x=\"72.732422\" y=\"456.480469\"/>\n",
       "  <use xlink:href=\"#glyph0-12\" x=\"76.066406\" y=\"456.480469\"/>\n",
       "</g>\n",
       "<g style=\"fill:rgb(0%,0%,0%);fill-opacity:1;\">\n",
       "  <use xlink:href=\"#glyph0-12\" x=\"142.859375\" y=\"456.480469\"/>\n",
       "  <use xlink:href=\"#glyph0-13\" x=\"149.533203\" y=\"456.480469\"/>\n",
       "  <use xlink:href=\"#glyph0-14\" x=\"152.867188\" y=\"456.480469\"/>\n",
       "</g>\n",
       "<g style=\"fill:rgb(0%,0%,0%);fill-opacity:1;\">\n",
       "  <use xlink:href=\"#glyph0-12\" x=\"219.660156\" y=\"456.480469\"/>\n",
       "  <use xlink:href=\"#glyph0-13\" x=\"226.333984\" y=\"456.480469\"/>\n",
       "  <use xlink:href=\"#glyph0-15\" x=\"229.667969\" y=\"456.480469\"/>\n",
       "</g>\n",
       "<g style=\"fill:rgb(0%,0%,0%);fill-opacity:1;\">\n",
       "  <use xlink:href=\"#glyph0-12\" x=\"296.460938\" y=\"456.480469\"/>\n",
       "  <use xlink:href=\"#glyph0-13\" x=\"303.134766\" y=\"456.480469\"/>\n",
       "  <use xlink:href=\"#glyph0-16\" x=\"306.46875\" y=\"456.480469\"/>\n",
       "</g>\n",
       "<g style=\"fill:rgb(0%,0%,0%);fill-opacity:1;\">\n",
       "  <use xlink:href=\"#glyph0-12\" x=\"373.261719\" y=\"456.480469\"/>\n",
       "  <use xlink:href=\"#glyph0-13\" x=\"379.935547\" y=\"456.480469\"/>\n",
       "  <use xlink:href=\"#glyph0-17\" x=\"383.269531\" y=\"456.480469\"/>\n",
       "</g>\n",
       "<g style=\"fill:rgb(0%,0%,0%);fill-opacity:1;\">\n",
       "  <use xlink:href=\"#glyph0-18\" x=\"450.058594\" y=\"456.480469\"/>\n",
       "  <use xlink:href=\"#glyph0-13\" x=\"456.732422\" y=\"456.480469\"/>\n",
       "  <use xlink:href=\"#glyph0-12\" x=\"460.066406\" y=\"456.480469\"/>\n",
       "</g>\n",
       "<path style=\"fill:none;stroke-width:0.75;stroke-linecap:round;stroke-linejoin:round;stroke:rgb(0%,0%,0%);stroke-opacity:1;stroke-miterlimit:10;\" d=\"M 59.039063 416.800781 L 59.039063 72.800781 \"/>\n",
       "<path style=\"fill:none;stroke-width:0.75;stroke-linecap:round;stroke-linejoin:round;stroke:rgb(0%,0%,0%);stroke-opacity:1;stroke-miterlimit:10;\" d=\"M 59.039063 416.800781 L 51.839844 416.800781 \"/>\n",
       "<path style=\"fill:none;stroke-width:0.75;stroke-linecap:round;stroke-linejoin:round;stroke:rgb(0%,0%,0%);stroke-opacity:1;stroke-miterlimit:10;\" d=\"M 59.039063 348 L 51.839844 348 \"/>\n",
       "<path style=\"fill:none;stroke-width:0.75;stroke-linecap:round;stroke-linejoin:round;stroke:rgb(0%,0%,0%);stroke-opacity:1;stroke-miterlimit:10;\" d=\"M 59.039063 279.199219 L 51.839844 279.199219 \"/>\n",
       "<path style=\"fill:none;stroke-width:0.75;stroke-linecap:round;stroke-linejoin:round;stroke:rgb(0%,0%,0%);stroke-opacity:1;stroke-miterlimit:10;\" d=\"M 59.039063 210.398438 L 51.839844 210.398438 \"/>\n",
       "<path style=\"fill:none;stroke-width:0.75;stroke-linecap:round;stroke-linejoin:round;stroke:rgb(0%,0%,0%);stroke-opacity:1;stroke-miterlimit:10;\" d=\"M 59.039063 141.601563 L 51.839844 141.601563 \"/>\n",
       "<path style=\"fill:none;stroke-width:0.75;stroke-linecap:round;stroke-linejoin:round;stroke:rgb(0%,0%,0%);stroke-opacity:1;stroke-miterlimit:10;\" d=\"M 59.039063 72.800781 L 51.839844 72.800781 \"/>\n",
       "<g style=\"fill:rgb(0%,0%,0%);fill-opacity:1;\">\n",
       "  <use xlink:href=\"#glyph1-12\" x=\"41.761719\" y=\"425.140625\"/>\n",
       "  <use xlink:href=\"#glyph1-13\" x=\"41.761719\" y=\"418.466797\"/>\n",
       "  <use xlink:href=\"#glyph1-12\" x=\"41.761719\" y=\"415.132813\"/>\n",
       "</g>\n",
       "<g style=\"fill:rgb(0%,0%,0%);fill-opacity:1;\">\n",
       "  <use xlink:href=\"#glyph1-12\" x=\"41.761719\" y=\"356.339844\"/>\n",
       "  <use xlink:href=\"#glyph1-13\" x=\"41.761719\" y=\"349.666016\"/>\n",
       "  <use xlink:href=\"#glyph1-14\" x=\"41.761719\" y=\"346.332031\"/>\n",
       "</g>\n",
       "<g style=\"fill:rgb(0%,0%,0%);fill-opacity:1;\">\n",
       "  <use xlink:href=\"#glyph1-12\" x=\"41.761719\" y=\"287.539063\"/>\n",
       "  <use xlink:href=\"#glyph1-13\" x=\"41.761719\" y=\"280.865234\"/>\n",
       "  <use xlink:href=\"#glyph1-15\" x=\"41.761719\" y=\"277.53125\"/>\n",
       "</g>\n",
       "<g style=\"fill:rgb(0%,0%,0%);fill-opacity:1;\">\n",
       "  <use xlink:href=\"#glyph1-12\" x=\"41.761719\" y=\"218.738281\"/>\n",
       "  <use xlink:href=\"#glyph1-13\" x=\"41.761719\" y=\"212.064453\"/>\n",
       "  <use xlink:href=\"#glyph1-16\" x=\"41.761719\" y=\"208.730469\"/>\n",
       "</g>\n",
       "<g style=\"fill:rgb(0%,0%,0%);fill-opacity:1;\">\n",
       "  <use xlink:href=\"#glyph1-12\" x=\"41.761719\" y=\"149.941406\"/>\n",
       "  <use xlink:href=\"#glyph1-13\" x=\"41.761719\" y=\"143.267578\"/>\n",
       "  <use xlink:href=\"#glyph1-17\" x=\"41.761719\" y=\"139.933594\"/>\n",
       "</g>\n",
       "<g style=\"fill:rgb(0%,0%,0%);fill-opacity:1;\">\n",
       "  <use xlink:href=\"#glyph1-18\" x=\"41.761719\" y=\"81.140625\"/>\n",
       "  <use xlink:href=\"#glyph1-13\" x=\"41.761719\" y=\"74.466797\"/>\n",
       "  <use xlink:href=\"#glyph1-12\" x=\"41.761719\" y=\"71.132813\"/>\n",
       "</g>\n",
       "<path style=\"fill:none;stroke-width:0.75;stroke-linecap:round;stroke-linejoin:round;stroke:rgb(0%,0%,0%);stroke-opacity:1;stroke-miterlimit:10;\" d=\"M 59.039063 430.558594 L 473.761719 430.558594 L 473.761719 59.039063 L 59.039063 59.039063 L 59.039063 430.558594 \"/>\n",
       "<g clip-path=\"url(#clip1)\" clip-rule=\"nonzero\">\n",
       "<path style=\"fill:none;stroke-width:0.75;stroke-linecap:round;stroke-linejoin:round;stroke:rgb(0%,0%,0%);stroke-opacity:1;stroke-miterlimit:10;\" d=\"M 74.398438 416.800781 L 74.75 416.800781 L 74.75 409.921875 L 75.445313 409.921875 L 75.445313 408.199219 L 75.792969 408.199219 L 75.792969 406.480469 L 76.140625 406.480469 L 76.140625 403.039063 L 76.835938 403.039063 L 76.835938 401.320313 L 77.183594 401.320313 L 77.183594 399.601563 L 77.535156 399.601563 L 77.535156 397.878906 L 79.621094 397.878906 L 79.621094 396.160156 L 79.96875 396.160156 L 79.96875 394.441406 L 80.320313 394.441406 L 80.320313 392.71875 L 82.40625 392.71875 L 82.40625 387.558594 L 83.105469 387.558594 L 83.105469 384.121094 L 83.453125 384.121094 L 83.453125 382.398438 L 84.84375 382.398438 L 84.84375 380.679688 L 85.191406 380.679688 L 85.191406 378.960938 L 85.539063 378.960938 L 85.539063 377.238281 L 86.585938 377.238281 L 86.585938 375.519531 L 87.28125 375.519531 L 87.28125 372.078125 L 87.628906 372.078125 L 87.628906 370.359375 L 88.324219 370.359375 L 88.324219 368.640625 L 88.671875 368.640625 L 88.671875 366.921875 L 89.371094 366.921875 L 89.371094 365.199219 L 90.066406 365.199219 L 90.066406 363.480469 L 92.15625 363.480469 L 92.15625 361.761719 L 92.503906 361.761719 L 92.503906 358.320313 L 94.59375 358.320313 L 94.59375 354.878906 L 94.941406 354.878906 L 94.941406 353.160156 L 95.289063 353.160156 L 95.289063 351.441406 L 97.726563 351.441406 L 97.726563 346.28125 L 98.074219 346.28125 L 98.074219 344.558594 L 98.769531 344.558594 L 98.769531 342.839844 L 99.464844 342.839844 L 99.464844 337.679688 L 101.207031 337.679688 L 101.207031 335.960938 L 105.035156 335.960938 L 105.035156 334.238281 L 106.082031 334.238281 L 106.082031 332.519531 L 106.429688 332.519531 L 106.429688 330.800781 L 108.867188 330.800781 L 108.867188 329.078125 L 111.652344 329.078125 L 111.652344 327.359375 L 112 327.359375 L 112 325.640625 L 113.738281 325.640625 L 113.738281 323.921875 L 114.785156 323.921875 L 114.785156 322.199219 L 115.132813 322.199219 L 115.132813 320.480469 L 115.480469 320.480469 L 115.480469 318.761719 L 116.175781 318.761719 L 116.175781 317.039063 L 116.523438 317.039063 L 116.523438 311.878906 L 117.222656 311.878906 L 117.222656 308.441406 L 117.917969 308.441406 L 117.917969 306.71875 L 119.660156 306.71875 L 119.660156 305 L 120.007813 305 L 120.007813 303.28125 L 120.355469 303.28125 L 120.355469 299.839844 L 122.445313 299.839844 L 122.445313 296.398438 L 122.792969 296.398438 L 122.792969 294.679688 L 123.140625 294.679688 L 123.140625 292.960938 L 124.183594 292.960938 L 124.183594 289.519531 L 124.878906 289.519531 L 124.878906 287.800781 L 125.925781 287.800781 L 125.925781 284.359375 L 126.621094 284.359375 L 126.621094 282.640625 L 130.449219 282.640625 L 130.449219 280.921875 L 130.800781 280.921875 L 130.800781 279.199219 L 132.539063 279.199219 L 132.539063 277.480469 L 133.585938 277.480469 L 133.585938 275.761719 L 134.976563 275.761719 L 134.976563 274.039063 L 137.066406 274.039063 L 137.066406 270.601563 L 139.503906 270.601563 L 139.503906 267.160156 L 141.589844 267.160156 L 141.589844 265.441406 L 142.289063 265.441406 L 142.289063 263.71875 L 146.8125 263.71875 L 146.8125 262 L 148.207031 262 L 148.207031 260.28125 L 148.554688 260.28125 L 148.554688 258.558594 L 149.945313 258.558594 L 149.945313 256.839844 L 150.292969 256.839844 L 150.292969 255.121094 L 151.339844 255.121094 L 151.339844 253.398438 L 152.382813 253.398438 L 152.382813 251.679688 L 153.429688 251.679688 L 153.429688 249.960938 L 153.777344 249.960938 L 153.777344 246.519531 L 154.472656 246.519531 L 154.472656 244.800781 L 155.515625 244.800781 L 155.515625 243.078125 L 159 243.078125 L 159 241.359375 L 159.347656 241.359375 L 159.347656 239.640625 L 160.042969 239.640625 L 160.042969 237.921875 L 160.390625 237.921875 L 160.390625 236.199219 L 160.738281 236.199219 L 160.738281 232.761719 L 161.433594 232.761719 L 161.433594 231.039063 L 162.132813 231.039063 L 162.132813 229.320313 L 165.613281 229.320313 L 165.613281 227.601563 L 166.308594 227.601563 L 166.308594 224.160156 L 166.65625 224.160156 L 166.65625 222.441406 L 167.355469 222.441406 L 167.355469 220.71875 L 168.398438 220.71875 L 168.398438 219 L 169.441406 219 L 169.441406 217.28125 L 170.488281 217.28125 L 170.488281 213.839844 L 171.183594 213.839844 L 171.183594 212.121094 L 172.574219 212.121094 L 172.574219 210.398438 L 172.925781 210.398438 L 172.925781 205.238281 L 176.058594 205.238281 L 176.058594 203.519531 L 177.796875 203.519531 L 177.796875 201.800781 L 179.539063 201.800781 L 179.539063 200.078125 L 193.8125 200.078125 L 193.8125 198.359375 L 194.160156 198.359375 L 194.160156 196.640625 L 195.902344 196.640625 L 195.902344 194.921875 L 196.945313 194.921875 L 196.945313 193.199219 L 202.863281 193.199219 L 202.863281 191.480469 L 204.953125 191.480469 L 204.953125 189.761719 L 209.828125 189.761719 L 209.828125 186.320313 L 210.523438 186.320313 L 210.523438 182.878906 L 217.484375 182.878906 L 217.484375 181.160156 L 218.53125 181.160156 L 218.53125 179.441406 L 220.96875 179.441406 L 220.96875 177.71875 L 222.011719 177.71875 L 222.011719 176 L 227.582031 176 L 227.582031 174.28125 L 237.332031 174.28125 L 237.332031 172.558594 L 240.117188 172.558594 L 240.117188 170.839844 L 241.507813 170.839844 L 241.507813 167.398438 L 245.335938 167.398438 L 245.335938 162.238281 L 251.605469 162.238281 L 251.605469 160.519531 L 252.996094 160.519531 L 252.996094 157.078125 L 255.433594 157.078125 L 255.433594 155.359375 L 256.128906 155.359375 L 256.128906 153.640625 L 257.871094 153.640625 L 257.871094 150.199219 L 259.261719 150.199219 L 259.261719 148.480469 L 259.609375 148.480469 L 259.609375 145.039063 L 261.699219 145.039063 L 261.699219 143.320313 L 263.789063 143.320313 L 263.789063 141.601563 L 264.484375 141.601563 L 264.484375 139.878906 L 265.179688 139.878906 L 265.179688 138.160156 L 265.53125 138.160156 L 265.53125 134.71875 L 270.402344 134.71875 L 270.402344 133 L 270.75 133 L 270.75 131.28125 L 271.796875 131.28125 L 271.796875 129.558594 L 272.144531 129.558594 L 272.144531 127.839844 L 281.542969 127.839844 L 281.542969 126.121094 L 281.890625 126.121094 L 281.890625 124.398438 L 288.507813 124.398438 L 288.507813 122.679688 L 288.855469 122.679688 L 288.855469 120.960938 L 290.246094 120.960938 L 290.246094 119.238281 L 290.597656 119.238281 L 290.597656 117.519531 L 306.261719 117.519531 L 306.261719 115.800781 L 307.65625 115.800781 L 307.65625 114.078125 L 309.742188 114.078125 L 309.742188 112.359375 L 311.484375 112.359375 L 311.484375 110.640625 L 313.226563 110.640625 L 313.226563 108.921875 L 314.269531 108.921875 L 314.269531 107.199219 L 317.75 107.199219 L 317.75 105.480469 L 321.582031 105.480469 L 321.582031 102.039063 L 328.542969 102.039063 L 328.542969 100.320313 L 334.460938 100.320313 L 334.460938 96.878906 L 336.898438 96.878906 L 336.898438 95.160156 L 346.996094 95.160156 L 346.996094 93.441406 L 350.824219 93.441406 L 350.824219 91.71875 L 364.402344 91.71875 L 364.402344 90 L 365.445313 90 L 365.445313 88.28125 L 395.386719 88.28125 L 395.386719 86.558594 L 397.128906 86.558594 L 397.128906 84.839844 L 400.261719 84.839844 L 400.261719 83.121094 L 405.832031 83.121094 L 405.832031 81.398438 L 409.3125 81.398438 L 409.3125 79.679688 L 421.84375 79.679688 L 421.84375 77.960938 L 425.328125 77.960938 L 425.328125 76.238281 L 428.808594 76.238281 L 428.808594 74.519531 L 457.007813 74.519531 L 457.007813 72.800781 L 458.398438 72.800781 \"/>\n",
       "</g>\n",
       "</g>\n",
       "</svg>\n"
      ],
      "text/plain": [
       "plot without title"
      ]
     },
     "metadata": {
      "image/svg+xml": {
       "isolated": true
      }
     },
     "output_type": "display_data"
    }
   ],
   "source": [
    "plot(ROCRperf)"
   ]
  },
  {
   "cell_type": "code",
   "execution_count": null,
   "metadata": {
    "collapsed": true
   },
   "outputs": [],
   "source": []
  },
  {
   "cell_type": "code",
   "execution_count": null,
   "metadata": {
    "collapsed": true
   },
   "outputs": [],
   "source": []
  },
  {
   "cell_type": "code",
   "execution_count": 115,
   "metadata": {
    "collapsed": false
   },
   "outputs": [
    {
     "data": {
      "text/html": [
       "0.0555555555555556"
      ],
      "text/latex": [
       "0.0555555555555556"
      ],
      "text/markdown": [
       "0.0555555555555556"
      ],
      "text/plain": [
       "[1] 0.05555556"
      ]
     },
     "execution_count": 115,
     "metadata": {},
     "output_type": "execute_result"
    }
   ],
   "source": [
    "11/(187+11)"
   ]
  },
  {
   "cell_type": "code",
   "execution_count": 116,
   "metadata": {
    "collapsed": false
   },
   "outputs": [
    {
     "data": {
      "text/html": [
       "0.994418604651163"
      ],
      "text/latex": [
       "0.994418604651163"
      ],
      "text/markdown": [
       "0.994418604651163"
      ],
      "text/plain": [
       "[1] 0.9944186"
      ]
     },
     "execution_count": 116,
     "metadata": {},
     "output_type": "execute_result"
    }
   ],
   "source": [
    "1069/(1069+6)"
   ]
  },
  {
   "cell_type": "code",
   "execution_count": null,
   "metadata": {
    "collapsed": true
   },
   "outputs": [],
   "source": []
  }
 ],
 "metadata": {
  "kernelspec": {
   "display_name": "R",
   "language": "R",
   "name": "ir"
  },
  "language_info": {
   "codemirror_mode": "r",
   "file_extension": ".r",
   "mimetype": "text/x-r-source",
   "name": "R",
   "pygments_lexer": "r",
   "version": "3.2.1"
  }
 },
 "nbformat": 4,
 "nbformat_minor": 0
}
