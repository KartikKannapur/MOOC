{
 "cells": [
  {
   "cell_type": "markdown",
   "metadata": {},
   "source": [
    "# PREDICTING LOAN REPAYMENT"
   ]
  },
  {
   "cell_type": "code",
   "execution_count": null,
   "metadata": {
    "collapsed": true
   },
   "outputs": [],
   "source": []
  },
  {
   "cell_type": "code",
   "execution_count": null,
   "metadata": {
    "collapsed": true
   },
   "outputs": [],
   "source": []
  },
  {
   "cell_type": "code",
   "execution_count": 27,
   "metadata": {
    "collapsed": true
   },
   "outputs": [],
   "source": [
    "loans = read.csv(\"loans.csv\")"
   ]
  },
  {
   "cell_type": "code",
   "execution_count": 28,
   "metadata": {
    "collapsed": false
   },
   "outputs": [
    {
     "name": "stdout",
     "output_type": "stream",
     "text": [
      "'data.frame':\t9578 obs. of  14 variables:\n",
      " $ credit.policy    : int  1 1 1 1 1 1 1 1 1 1 ...\n",
      " $ purpose          : Factor w/ 7 levels \"all_other\",\"credit_card\",..: 3 2 3 3 2 2 3 1 5 3 ...\n",
      " $ int.rate         : num  0.119 0.107 0.136 0.101 0.143 ...\n",
      " $ installment      : num  829 228 367 162 103 ...\n",
      " $ log.annual.inc   : num  11.4 11.1 10.4 11.4 11.3 ...\n",
      " $ dti              : num  19.5 14.3 11.6 8.1 15 ...\n",
      " $ fico             : int  737 707 682 712 667 727 667 722 682 707 ...\n",
      " $ days.with.cr.line: num  5640 2760 4710 2700 4066 ...\n",
      " $ revol.bal        : int  28854 33623 3511 33667 4740 50807 3839 24220 69909 5630 ...\n",
      " $ revol.util       : num  52.1 76.7 25.6 73.2 39.5 51 76.8 68.6 51.1 23 ...\n",
      " $ inq.last.6mths   : int  0 0 1 1 0 0 0 0 1 1 ...\n",
      " $ delinq.2yrs      : int  0 0 0 0 1 0 0 0 0 0 ...\n",
      " $ pub.rec          : int  0 0 0 0 0 0 1 0 0 0 ...\n",
      " $ not.fully.paid   : int  0 0 0 0 0 0 1 1 0 0 ...\n"
     ]
    }
   ],
   "source": [
    "str(loans)"
   ]
  },
  {
   "cell_type": "code",
   "execution_count": 29,
   "metadata": {
    "collapsed": false
   },
   "outputs": [
    {
     "data": {
      "text/plain": [
       "\n",
       "   0    1 \n",
       "8045 1533 "
      ]
     },
     "execution_count": 29,
     "metadata": {},
     "output_type": "execute_result"
    }
   ],
   "source": [
    "table(loans$not.fully.paid)"
   ]
  },
  {
   "cell_type": "code",
   "execution_count": 30,
   "metadata": {
    "collapsed": false
   },
   "outputs": [
    {
     "data": {
      "text/html": [
       "0.160054291083734"
      ],
      "text/latex": [
       "0.160054291083734"
      ],
      "text/markdown": [
       "0.160054291083734"
      ],
      "text/plain": [
       "[1] 0.1600543"
      ]
     },
     "execution_count": 30,
     "metadata": {},
     "output_type": "execute_result"
    }
   ],
   "source": [
    "1533/(1533+8045)"
   ]
  },
  {
   "cell_type": "code",
   "execution_count": null,
   "metadata": {
    "collapsed": true
   },
   "outputs": [],
   "source": []
  },
  {
   "cell_type": "code",
   "execution_count": null,
   "metadata": {
    "collapsed": true
   },
   "outputs": [],
   "source": []
  },
  {
   "cell_type": "code",
   "execution_count": 31,
   "metadata": {
    "collapsed": false
   },
   "outputs": [
    {
     "data": {
      "text/plain": [
       " credit.policy                 purpose        int.rate       installment    \n",
       " Min.   :0.000   all_other         :2331   Min.   :0.0600   Min.   : 15.67  \n",
       " 1st Qu.:1.000   credit_card       :1262   1st Qu.:0.1039   1st Qu.:163.77  \n",
       " Median :1.000   debt_consolidation:3957   Median :0.1221   Median :268.95  \n",
       " Mean   :0.805   educational       : 343   Mean   :0.1226   Mean   :319.09  \n",
       " 3rd Qu.:1.000   home_improvement  : 629   3rd Qu.:0.1407   3rd Qu.:432.76  \n",
       " Max.   :1.000   major_purchase    : 437   Max.   :0.2164   Max.   :940.14  \n",
       "                 small_business    : 619                                    \n",
       " log.annual.inc        dti              fico       days.with.cr.line\n",
       " Min.   : 7.548   Min.   : 0.000   Min.   :612.0   Min.   :  179    \n",
       " 1st Qu.:10.558   1st Qu.: 7.213   1st Qu.:682.0   1st Qu.: 2820    \n",
       " Median :10.928   Median :12.665   Median :707.0   Median : 4140    \n",
       " Mean   :10.932   Mean   :12.607   Mean   :710.8   Mean   : 4562    \n",
       " 3rd Qu.:11.290   3rd Qu.:17.950   3rd Qu.:737.0   3rd Qu.: 5730    \n",
       " Max.   :14.528   Max.   :29.960   Max.   :827.0   Max.   :17640    \n",
       " NA's   :4                                         NA's   :29       \n",
       "   revol.bal         revol.util     inq.last.6mths    delinq.2yrs     \n",
       " Min.   :      0   Min.   :  0.00   Min.   : 0.000   Min.   : 0.0000  \n",
       " 1st Qu.:   3187   1st Qu.: 22.70   1st Qu.: 0.000   1st Qu.: 0.0000  \n",
       " Median :   8596   Median : 46.40   Median : 1.000   Median : 0.0000  \n",
       " Mean   :  16914   Mean   : 46.87   Mean   : 1.572   Mean   : 0.1638  \n",
       " 3rd Qu.:  18250   3rd Qu.: 71.00   3rd Qu.: 2.000   3rd Qu.: 0.0000  \n",
       " Max.   :1207359   Max.   :119.00   Max.   :33.000   Max.   :13.0000  \n",
       "                   NA's   :62       NA's   :29       NA's   :29       \n",
       "    pub.rec       not.fully.paid  \n",
       " Min.   :0.0000   Min.   :0.0000  \n",
       " 1st Qu.:0.0000   1st Qu.:0.0000  \n",
       " Median :0.0000   Median :0.0000  \n",
       " Mean   :0.0621   Mean   :0.1601  \n",
       " 3rd Qu.:0.0000   3rd Qu.:0.0000  \n",
       " Max.   :5.0000   Max.   :1.0000  \n",
       " NA's   :29                       "
      ]
     },
     "execution_count": 31,
     "metadata": {},
     "output_type": "execute_result"
    }
   ],
   "source": [
    "summary(loans)"
   ]
  },
  {
   "cell_type": "code",
   "execution_count": null,
   "metadata": {
    "collapsed": true
   },
   "outputs": [],
   "source": []
  },
  {
   "cell_type": "code",
   "execution_count": null,
   "metadata": {
    "collapsed": true
   },
   "outputs": [],
   "source": []
  },
  {
   "cell_type": "code",
   "execution_count": 32,
   "metadata": {
    "collapsed": false
   },
   "outputs": [],
   "source": [
    "library(\"mice\")"
   ]
  },
  {
   "cell_type": "code",
   "execution_count": 33,
   "metadata": {
    "collapsed": true
   },
   "outputs": [],
   "source": [
    "set.seed(144)"
   ]
  },
  {
   "cell_type": "code",
   "execution_count": 34,
   "metadata": {
    "collapsed": false
   },
   "outputs": [],
   "source": [
    "vars.for.imputation = setdiff(names(loans), \"not.fully.paid\")"
   ]
  },
  {
   "cell_type": "code",
   "execution_count": 35,
   "metadata": {
    "collapsed": false
   },
   "outputs": [
    {
     "name": "stdout",
     "output_type": "stream",
     "text": [
      "\n",
      " iter imp variable\n",
      "  1   1  log.annual.inc  days.with.cr.line  revol.util  inq.last.6mths  delinq.2yrs  pub.rec\n",
      "  1   2  log.annual.inc  days.with.cr.line  revol.util  inq.last.6mths  delinq.2yrs  pub.rec\n",
      "  1   3  log.annual.inc  days.with.cr.line  revol.util  inq.last.6mths  delinq.2yrs  pub.rec\n",
      "  1   4  log.annual.inc  days.with.cr.line  revol.util  inq.last.6mths  delinq.2yrs  pub.rec\n",
      "  1   5  log.annual.inc  days.with.cr.line  revol.util  inq.last.6mths  delinq.2yrs  pub.rec\n",
      "  2   1  log.annual.inc  days.with.cr.line  revol.util  inq.last.6mths  delinq.2yrs  pub.rec\n",
      "  2   2  log.annual.inc  days.with.cr.line  revol.util  inq.last.6mths  delinq.2yrs  pub.rec\n",
      "  2   3  log.annual.inc  days.with.cr.line  revol.util  inq.last.6mths  delinq.2yrs  pub.rec\n",
      "  2   4  log.annual.inc  days.with.cr.line  revol.util  inq.last.6mths  delinq.2yrs  pub.rec\n",
      "  2   5  log.annual.inc  days.with.cr.line  revol.util  inq.last.6mths  delinq.2yrs  pub.rec\n",
      "  3   1  log.annual.inc  days.with.cr.line  revol.util  inq.last.6mths  delinq.2yrs  pub.rec\n",
      "  3   2  log.annual.inc  days.with.cr.line  revol.util  inq.last.6mths  delinq.2yrs  pub.rec\n",
      "  3   3  log.annual.inc  days.with.cr.line  revol.util  inq.last.6mths  delinq.2yrs  pub.rec\n",
      "  3   4  log.annual.inc  days.with.cr.line  revol.util  inq.last.6mths  delinq.2yrs  pub.rec\n",
      "  3   5  log.annual.inc  days.with.cr.line  revol.util  inq.last.6mths  delinq.2yrs  pub.rec\n",
      "  4   1  log.annual.inc  days.with.cr.line  revol.util  inq.last.6mths  delinq.2yrs  pub.rec\n",
      "  4   2  log.annual.inc  days.with.cr.line  revol.util  inq.last.6mths  delinq.2yrs  pub.rec\n",
      "  4   3  log.annual.inc  days.with.cr.line  revol.util  inq.last.6mths  delinq.2yrs  pub.rec\n",
      "  4   4  log.annual.inc  days.with.cr.line  revol.util  inq.last.6mths  delinq.2yrs  pub.rec\n",
      "  4   5  log.annual.inc  days.with.cr.line  revol.util  inq.last.6mths  delinq.2yrs  pub.rec\n",
      "  5   1  log.annual.inc  days.with.cr.line  revol.util  inq.last.6mths  delinq.2yrs  pub.rec\n",
      "  5   2  log.annual.inc  days.with.cr.line  revol.util  inq.last.6mths  delinq.2yrs  pub.rec\n",
      "  5   3  log.annual.inc  days.with.cr.line  revol.util  inq.last.6mths  delinq.2yrs  pub.rec\n",
      "  5   4  log.annual.inc  days.with.cr.line  revol.util  inq.last.6mths  delinq.2yrs  pub.rec\n",
      "  5   5  log.annual.inc  days.with.cr.line  revol.util  inq.last.6mths  delinq.2yrs  pub.rec\n"
     ]
    }
   ],
   "source": [
    "imputed = complete(mice(loans[vars.for.imputation]))"
   ]
  },
  {
   "cell_type": "code",
   "execution_count": 36,
   "metadata": {
    "collapsed": true
   },
   "outputs": [],
   "source": [
    "loans[vars.for.imputation] = imputed"
   ]
  },
  {
   "cell_type": "code",
   "execution_count": null,
   "metadata": {
    "collapsed": true
   },
   "outputs": [],
   "source": []
  },
  {
   "cell_type": "code",
   "execution_count": 37,
   "metadata": {
    "collapsed": true
   },
   "outputs": [],
   "source": [
    "loans_imputed = read.csv(\"loans_imputed.csv\")"
   ]
  },
  {
   "cell_type": "code",
   "execution_count": null,
   "metadata": {
    "collapsed": true
   },
   "outputs": [],
   "source": []
  },
  {
   "cell_type": "code",
   "execution_count": 38,
   "metadata": {
    "collapsed": false
   },
   "outputs": [],
   "source": [
    "# #Splitting the dataset into Training and Testing data\n",
    "library(caTools)"
   ]
  },
  {
   "cell_type": "code",
   "execution_count": 39,
   "metadata": {
    "collapsed": false
   },
   "outputs": [],
   "source": [
    "split = sample.split(loans_imputed$not.fully.paid, SplitRatio = 0.7)"
   ]
  },
  {
   "cell_type": "code",
   "execution_count": 40,
   "metadata": {
    "collapsed": true
   },
   "outputs": [],
   "source": [
    "train = subset(loans_imputed, split == TRUE)\n",
    "test = subset(loans_imputed, split == FALSE)"
   ]
  },
  {
   "cell_type": "code",
   "execution_count": null,
   "metadata": {
    "collapsed": true
   },
   "outputs": [],
   "source": []
  },
  {
   "cell_type": "code",
   "execution_count": 41,
   "metadata": {
    "collapsed": true
   },
   "outputs": [],
   "source": [
    "# #Logistic Regression\n",
    "model_1 = glm(not.fully.paid ~ ., data = train, family = \"binomial\")"
   ]
  },
  {
   "cell_type": "code",
   "execution_count": 42,
   "metadata": {
    "collapsed": false
   },
   "outputs": [
    {
     "data": {
      "text/plain": [
       "\n",
       "Call:\n",
       "glm(formula = not.fully.paid ~ ., family = \"binomial\", data = train)\n",
       "\n",
       "Deviance Residuals: \n",
       "    Min       1Q   Median       3Q      Max  \n",
       "-1.9757  -0.6171  -0.4953  -0.3608   2.4748  \n",
       "\n",
       "Coefficients:\n",
       "                            Estimate Std. Error z value Pr(>|z|)    \n",
       "(Intercept)                7.438e+00  1.541e+00   4.826 1.39e-06 ***\n",
       "credit.policy             -2.940e-01  1.011e-01  -2.909 0.003631 ** \n",
       "purposecredit_card        -5.906e-01  1.323e-01  -4.463 8.08e-06 ***\n",
       "purposedebt_consolidation -4.037e-01  9.225e-02  -4.376 1.21e-05 ***\n",
       "purposeeducational         1.759e-01  1.758e-01   1.000 0.317104    \n",
       "purposehome_improvement   -5.255e-02  1.575e-01  -0.334 0.738590    \n",
       "purposemajor_purchase     -5.193e-01  2.064e-01  -2.516 0.011862 *  \n",
       "purposesmall_business      4.832e-01  1.392e-01   3.472 0.000516 ***\n",
       "int.rate                   3.074e+00  2.029e+00   1.515 0.129755    \n",
       "installment                1.198e-03  2.090e-04   5.734 9.83e-09 ***\n",
       "log.annual.inc            -3.854e-01  7.246e-02  -5.318 1.05e-07 ***\n",
       "dti                        2.925e-04  5.505e-03   0.053 0.957622    \n",
       "fico                      -7.953e-03  1.698e-03  -4.683 2.82e-06 ***\n",
       "days.with.cr.line          1.527e-06  1.606e-05   0.095 0.924262    \n",
       "revol.bal                  3.733e-06  1.242e-06   3.006 0.002646 ** \n",
       "revol.util                 2.403e-03  1.541e-03   1.560 0.118839    \n",
       "inq.last.6mths             8.885e-02  1.585e-02   5.607 2.06e-08 ***\n",
       "delinq.2yrs               -8.268e-02  6.725e-02  -1.229 0.218929    \n",
       "pub.rec                    3.045e-01  1.179e-01   2.583 0.009791 ** \n",
       "---\n",
       "Signif. codes:  0 '***' 0.001 '**' 0.01 '*' 0.05 '.' 0.1 ' ' 1\n",
       "\n",
       "(Dispersion parameter for binomial family taken to be 1)\n",
       "\n",
       "    Null deviance: 5896.6  on 6704  degrees of freedom\n",
       "Residual deviance: 5481.5  on 6686  degrees of freedom\n",
       "AIC: 5519.5\n",
       "\n",
       "Number of Fisher Scoring iterations: 5\n"
      ]
     },
     "execution_count": 42,
     "metadata": {},
     "output_type": "execute_result"
    }
   ],
   "source": [
    "summary(model_1)"
   ]
  },
  {
   "cell_type": "code",
   "execution_count": null,
   "metadata": {
    "collapsed": true
   },
   "outputs": [],
   "source": []
  },
  {
   "cell_type": "code",
   "execution_count": null,
   "metadata": {
    "collapsed": true
   },
   "outputs": [],
   "source": []
  },
  {
   "cell_type": "code",
   "execution_count": 44,
   "metadata": {
    "collapsed": false
   },
   "outputs": [
    {
     "data": {
      "text/html": [
       "0.07953"
      ],
      "text/latex": [
       "0.07953"
      ],
      "text/markdown": [
       "0.07953"
      ],
      "text/plain": [
       "[1] 0.07953"
      ]
     },
     "execution_count": 44,
     "metadata": {},
     "output_type": "execute_result"
    }
   ],
   "source": [
    "-10*-7.953e-03"
   ]
  },
  {
   "cell_type": "code",
   "execution_count": 48,
   "metadata": {
    "collapsed": false
   },
   "outputs": [
    {
     "data": {
      "text/html": [
       "1.08277804238347"
      ],
      "text/latex": [
       "1.08277804238347"
      ],
      "text/markdown": [
       "1.08277804238347"
      ],
      "text/plain": [
       "[1] 1.082778"
      ]
     },
     "execution_count": 48,
     "metadata": {},
     "output_type": "execute_result"
    }
   ],
   "source": [
    "exp(0.07953)"
   ]
  },
  {
   "cell_type": "code",
   "execution_count": null,
   "metadata": {
    "collapsed": true
   },
   "outputs": [],
   "source": []
  },
  {
   "cell_type": "code",
   "execution_count": 45,
   "metadata": {
    "collapsed": true
   },
   "outputs": [],
   "source": [
    "# #PREDICTION"
   ]
  },
  {
   "cell_type": "code",
   "execution_count": 46,
   "metadata": {
    "collapsed": true
   },
   "outputs": [],
   "source": [
    "test$predicted.risk = predict(model_1, newdata = test, type = \"response\")"
   ]
  },
  {
   "cell_type": "code",
   "execution_count": 47,
   "metadata": {
    "collapsed": false
   },
   "outputs": [
    {
     "data": {
      "text/plain": [
       "   \n",
       "    FALSE TRUE\n",
       "  0  2406    7\n",
       "  1   438   22"
      ]
     },
     "execution_count": 47,
     "metadata": {},
     "output_type": "execute_result"
    }
   ],
   "source": [
    "table(test$not.fully.paid, test$predicted.risk > 0.5)"
   ]
  },
  {
   "cell_type": "code",
   "execution_count": null,
   "metadata": {
    "collapsed": true
   },
   "outputs": [],
   "source": []
  },
  {
   "cell_type": "code",
   "execution_count": null,
   "metadata": {
    "collapsed": true
   },
   "outputs": [],
   "source": []
  },
  {
   "cell_type": "code",
   "execution_count": 51,
   "metadata": {
    "collapsed": false
   },
   "outputs": [],
   "source": [
    "library(ROCR)"
   ]
  },
  {
   "cell_type": "code",
   "execution_count": 52,
   "metadata": {
    "collapsed": true
   },
   "outputs": [],
   "source": [
    "pred = prediction(test$predicted.risk, test$not.fully.paid)"
   ]
  },
  {
   "cell_type": "code",
   "execution_count": 53,
   "metadata": {
    "collapsed": false
   },
   "outputs": [
    {
     "data": {
      "text/html": [
       "0.674571613902953"
      ],
      "text/latex": [
       "0.674571613902953"
      ],
      "text/markdown": [
       "0.674571613902953"
      ],
      "text/plain": [
       "[1] 0.6745716"
      ]
     },
     "execution_count": 53,
     "metadata": {},
     "output_type": "execute_result"
    }
   ],
   "source": [
    "as.numeric(performance(pred, \"auc\")@y.values)"
   ]
  },
  {
   "cell_type": "code",
   "execution_count": null,
   "metadata": {
    "collapsed": true
   },
   "outputs": [],
   "source": []
  },
  {
   "cell_type": "code",
   "execution_count": null,
   "metadata": {
    "collapsed": true
   },
   "outputs": [],
   "source": []
  },
  {
   "cell_type": "code",
   "execution_count": null,
   "metadata": {
    "collapsed": true
   },
   "outputs": [],
   "source": []
  }
 ],
 "metadata": {
  "kernelspec": {
   "display_name": "R",
   "language": "R",
   "name": "ir"
  },
  "language_info": {
   "codemirror_mode": "r",
   "file_extension": ".r",
   "mimetype": "text/x-r-source",
   "name": "R",
   "pygments_lexer": "r",
   "version": "3.2.1"
  }
 },
 "nbformat": 4,
 "nbformat_minor": 0
}
