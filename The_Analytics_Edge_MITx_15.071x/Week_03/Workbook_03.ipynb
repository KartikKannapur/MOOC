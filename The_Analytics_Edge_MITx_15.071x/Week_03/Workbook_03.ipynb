{
 "cells": [
  {
   "cell_type": "markdown",
   "metadata": {},
   "source": [
    "# Election Forecasting"
   ]
  },
  {
   "cell_type": "code",
   "execution_count": null,
   "metadata": {
    "collapsed": true
   },
   "outputs": [],
   "source": []
  },
  {
   "cell_type": "code",
   "execution_count": null,
   "metadata": {
    "collapsed": true
   },
   "outputs": [],
   "source": []
  },
  {
   "cell_type": "code",
   "execution_count": 1,
   "metadata": {
    "collapsed": true
   },
   "outputs": [],
   "source": [
    "polling = read.csv(\"PollingData.csv\")"
   ]
  },
  {
   "cell_type": "code",
   "execution_count": 2,
   "metadata": {
    "collapsed": false
   },
   "outputs": [
    {
     "name": "stdout",
     "output_type": "stream",
     "text": [
      "'data.frame':\t145 obs. of  7 variables:\n",
      " $ State     : Factor w/ 50 levels \"Alabama\",\"Alaska\",..: 1 1 2 2 3 3 3 4 4 4 ...\n",
      " $ Year      : int  2004 2008 2004 2008 2004 2008 2012 2004 2008 2012 ...\n",
      " $ Rasmussen : int  11 21 NA 16 5 5 8 7 10 NA ...\n",
      " $ SurveyUSA : int  18 25 NA NA 15 NA NA 5 NA NA ...\n",
      " $ DiffCount : int  5 5 1 6 8 9 4 8 5 2 ...\n",
      " $ PropR     : num  1 1 1 1 1 ...\n",
      " $ Republican: int  1 1 1 1 1 1 1 1 1 1 ...\n"
     ]
    }
   ],
   "source": [
    "str(polling)"
   ]
  },
  {
   "cell_type": "code",
   "execution_count": 3,
   "metadata": {
    "collapsed": false
   },
   "outputs": [
    {
     "name": "stderr",
     "output_type": "stream",
     "text": [
      "Warning message:\n",
      "In `[<-.factor`(`*tmp*`, ri, value = \"<e2><8b><ae>\"): invalid factor level, NA generatedWarning message:\n",
      "In `[<-.factor`(`*tmp*`, ri, value = \"<e2><8b><ae>\"): invalid factor level, NA generated"
     ]
    },
    {
     "data": {
      "text/html": [
       "<table>\n",
       "<thead><tr><th></th><th scope=col>State</th><th scope=col>Year</th><th scope=col>Rasmussen</th><th scope=col>SurveyUSA</th><th scope=col>DiffCount</th><th scope=col>PropR</th><th scope=col>Republican</th></tr></thead>\n",
       "<tbody>\n",
       "\t<tr><th scope=row>1</th><td>Alabama</td><td>2004</td><td>11</td><td>18</td><td>5</td><td>1</td><td>1</td></tr>\n",
       "\t<tr><th scope=row>2</th><td>Alabama</td><td>2008</td><td>21</td><td>25</td><td>5</td><td>1</td><td>1</td></tr>\n",
       "\t<tr><th scope=row>3</th><td>Alaska</td><td>2004</td><td>NA</td><td>NA</td><td>1</td><td>1</td><td>1</td></tr>\n",
       "\t<tr><th scope=row>4</th><td>Alaska</td><td>2008</td><td>16</td><td>NA</td><td>6</td><td>1</td><td>1</td></tr>\n",
       "\t<tr><th scope=row>5</th><td>Arizona</td><td>2004</td><td>5</td><td>15</td><td>8</td><td>1</td><td>1</td></tr>\n",
       "\t<tr><th scope=row>6</th><td>Arizona</td><td>2008</td><td>5</td><td>NA</td><td>9</td><td>1</td><td>1</td></tr>\n",
       "\t<tr><th scope=row>7</th><td>Arizona</td><td>2012</td><td>8</td><td>NA</td><td>4</td><td>0.833333333</td><td>1</td></tr>\n",
       "\t<tr><th scope=row>8</th><td>Arkansas</td><td>2004</td><td>7</td><td>5</td><td>8</td><td>1</td><td>1</td></tr>\n",
       "\t<tr><th scope=row>9</th><td>Arkansas</td><td>2008</td><td>10</td><td>NA</td><td>5</td><td>1</td><td>1</td></tr>\n",
       "\t<tr><th scope=row>10</th><td>Arkansas</td><td>2012</td><td>NA</td><td>NA</td><td>2</td><td>1</td><td>1</td></tr>\n",
       "\t<tr><th scope=row>11</th><td>California</td><td>2004</td><td>-11</td><td>-11</td><td>-8</td><td>0</td><td>0</td></tr>\n",
       "\t<tr><th scope=row>12</th><td>California</td><td>2008</td><td>-27</td><td>-24</td><td>-5</td><td>0</td><td>0</td></tr>\n",
       "\t<tr><th scope=row>13</th><td>California</td><td>2012</td><td>NA</td><td>-14</td><td>-6</td><td>0</td><td>0</td></tr>\n",
       "\t<tr><th scope=row>14</th><td>Colorado</td><td>2004</td><td>5</td><td>3</td><td>9</td><td>1</td><td>1</td></tr>\n",
       "\t<tr><th scope=row>15</th><td>Colorado</td><td>2008</td><td>-4</td><td>NA</td><td>-15</td><td>0</td><td>0</td></tr>\n",
       "\t<tr><th scope=row>16</th><td>Colorado</td><td>2012</td><td>3</td><td>-2</td><td>-5</td><td>0.307692308</td><td>0</td></tr>\n",
       "\t<tr><th scope=row>17</th><td>Connecticut</td><td>2004</td><td>NA</td><td>NA</td><td>-3</td><td>0</td><td>0</td></tr>\n",
       "\t<tr><th scope=row>18</th><td>Connecticut</td><td>2008</td><td>-17</td><td>-16</td><td>-4</td><td>0</td><td>0</td></tr>\n",
       "\t<tr><th scope=row>19</th><td>Connecticut</td><td>2012</td><td>-7</td><td>-13</td><td>-8</td><td>0</td><td>0</td></tr>\n",
       "\t<tr><th scope=row>20</th><td>Delaware</td><td>2004</td><td>NA</td><td>NA</td><td>-2</td><td>0</td><td>0</td></tr>\n",
       "\t<tr><th scope=row>21</th><td>Delaware</td><td>2008</td><td>-15</td><td>-30</td><td>-4</td><td>0</td><td>0</td></tr>\n",
       "\t<tr><th scope=row>22</th><td>Florida</td><td>2004</td><td>3</td><td>1</td><td>0</td><td>0.5</td><td>1</td></tr>\n",
       "\t<tr><th scope=row>23</th><td>Florida</td><td>2008</td><td>1</td><td>-3</td><td>-13</td><td>0.157894737</td><td>0</td></tr>\n",
       "\t<tr><th scope=row>24</th><td>Florida</td><td>2012</td><td>2</td><td>0</td><td>6</td><td>0.666666667</td><td>0</td></tr>\n",
       "\t<tr><th scope=row>25</th><td>Georgia</td><td>2004</td><td>NA</td><td>12</td><td>4</td><td>1</td><td>1</td></tr>\n",
       "\t<tr><th scope=row>26</th><td>Georgia</td><td>2008</td><td>5</td><td>7</td><td>9</td><td>1</td><td>1</td></tr>\n",
       "\t<tr><th scope=row>27</th><td>Georgia</td><td>2012</td><td>NA</td><td>8</td><td>4</td><td>1</td><td>1</td></tr>\n",
       "\t<tr><th scope=row>28</th><td>Hawaii</td><td>2004</td><td>NA</td><td>NA</td><td>2</td><td>0.75</td><td>0</td></tr>\n",
       "\t<tr><th scope=row>29</th><td>Hawaii</td><td>2008</td><td>-41</td><td>NA</td><td>-1</td><td>0</td><td>0</td></tr>\n",
       "\t<tr><th scope=row>30</th><td>Hawaii</td><td>2012</td><td>NA</td><td>NA</td><td>-2</td><td>0</td><td>0</td></tr>\n",
       "\t<tr><th scope=row>31</th><td>NA</td><td><e2><8b><ae></td><td><e2><8b><ae></td><td><e2><8b><ae></td><td><e2><8b><ae></td><td><e2><8b><ae></td><td><e2><8b><ae></td></tr>\n",
       "\t<tr><th scope=row>116</th><td>South Carolina</td><td>2008</td><td>11</td><td>8</td><td>5</td><td>1</td><td>1</td></tr>\n",
       "\t<tr><th scope=row>117</th><td>South Carolina</td><td>2012</td><td>NA</td><td>NA</td><td>1</td><td>1</td><td>1</td></tr>\n",
       "\t<tr><th scope=row>118</th><td>South Dakota</td><td>2004</td><td>10</td><td>NA</td><td>4</td><td>1</td><td>1</td></tr>\n",
       "\t<tr><th scope=row>119</th><td>South Dakota</td><td>2008</td><td>9</td><td>NA</td><td>4</td><td>1</td><td>1</td></tr>\n",
       "\t<tr><th scope=row>120</th><td>South Dakota</td><td>2012</td><td>NA</td><td>NA</td><td>1</td><td>1</td><td>1</td></tr>\n",
       "\t<tr><th scope=row>121</th><td>Tennessee</td><td>2004</td><td>6</td><td>18</td><td>7</td><td>1</td><td>1</td></tr>\n",
       "\t<tr><th scope=row>122</th><td>Tennessee</td><td>2008</td><td>12</td><td>NA</td><td>5</td><td>1</td><td>1</td></tr>\n",
       "\t<tr><th scope=row>123</th><td>Tennessee</td><td>2012</td><td>NA</td><td>NA</td><td>1</td><td>1</td><td>1</td></tr>\n",
       "\t<tr><th scope=row>124</th><td>Texas</td><td>2004</td><td>NA</td><td>22</td><td>2</td><td>1</td><td>1</td></tr>\n",
       "\t<tr><th scope=row>125</th><td>Texas</td><td>2008</td><td>10</td><td>NA</td><td>5</td><td>1</td><td>1</td></tr>\n",
       "\t<tr><th scope=row>126</th><td>Texas</td><td>2012</td><td>NA</td><td>NA</td><td>4</td><td>1</td><td>1</td></tr>\n",
       "\t<tr><th scope=row>127</th><td>Utah</td><td>2004</td><td>NA</td><td>NA</td><td>3</td><td>1</td><td>1</td></tr>\n",
       "\t<tr><th scope=row>128</th><td>Utah</td><td>2008</td><td>32</td><td>NA</td><td>3</td><td>1</td><td>1</td></tr>\n",
       "\t<tr><th scope=row>129</th><td>Utah</td><td>2012</td><td>NA</td><td>NA</td><td>1</td><td>1</td><td>1</td></tr>\n",
       "\t<tr><th scope=row>130</th><td>Vermont</td><td>2004</td><td>NA</td><td>NA</td><td>-2</td><td>0</td><td>0</td></tr>\n",
       "\t<tr><th scope=row>131</th><td>Vermont</td><td>2008</td><td>-24</td><td>NA</td><td>-2</td><td>0</td><td>0</td></tr>\n",
       "\t<tr><th scope=row>132</th><td>Virginia</td><td>2004</td><td>6</td><td>4</td><td>5</td><td>1</td><td>1</td></tr>\n",
       "\t<tr><th scope=row>133</th><td>Virginia</td><td>2008</td><td>-4</td><td>-4</td><td>-18</td><td>0</td><td>0</td></tr>\n",
       "\t<tr><th scope=row>134</th><td>Virginia</td><td>2012</td><td>2</td><td>NA</td><td>-4</td><td>0.333333333</td><td>0</td></tr>\n",
       "\t<tr><th scope=row>135</th><td>Washington</td><td>2004</td><td>-8</td><td>-4</td><td>-10</td><td>0</td><td>0</td></tr>\n",
       "\t<tr><th scope=row>136</th><td>Washington</td><td>2008</td><td>-11</td><td>-16</td><td>-6</td><td>0</td><td>0</td></tr>\n",
       "\t<tr><th scope=row>137</th><td>Washington</td><td>2012</td><td>-13</td><td>-14</td><td>-8</td><td>0</td><td>0</td></tr>\n",
       "\t<tr><th scope=row>138</th><td>West Virginia</td><td>2004</td><td>6</td><td>NA</td><td>6</td><td>1</td><td>1</td></tr>\n",
       "\t<tr><th scope=row>139</th><td>West Virginia</td><td>2008</td><td>9</td><td>NA</td><td>11</td><td>1</td><td>1</td></tr>\n",
       "\t<tr><th scope=row>140</th><td>West Virginia</td><td>2012</td><td>NA</td><td>NA</td><td>1</td><td>1</td><td>1</td></tr>\n",
       "\t<tr><th scope=row>141</th><td>Wisconsin</td><td>2004</td><td>-1</td><td>NA</td><td>1</td><td>0.533333333</td><td>0</td></tr>\n",
       "\t<tr><th scope=row>142</th><td>Wisconsin</td><td>2008</td><td>-7</td><td>-16</td><td>-12</td><td>0</td><td>0</td></tr>\n",
       "\t<tr><th scope=row>143</th><td>Wisconsin</td><td>2012</td><td>0</td><td>NA</td><td>-8</td><td>0</td><td>0</td></tr>\n",
       "\t<tr><th scope=row>144</th><td>Wyoming</td><td>2004</td><td>NA</td><td>NA</td><td>1</td><td>1</td><td>1</td></tr>\n",
       "\t<tr><th scope=row>145</th><td>Wyoming</td><td>2008</td><td>19</td><td>21</td><td>3</td><td>1</td><td>1</td></tr>\n",
       "</tbody>\n",
       "</table>\n"
      ],
      "text/latex": [
       "\\begin{tabular}{r|lllllll}\n",
       "  & State & Year & Rasmussen & SurveyUSA & DiffCount & PropR & Republican\\\\\n",
       "\\hline\n",
       "\t1 & Alabama & 2004 & 11 & 18 & 5 & 1 & 1\\\\\n",
       "\t2 & Alabama & 2008 & 21 & 25 & 5 & 1 & 1\\\\\n",
       "\t3 & Alaska & 2004 & NA & NA & 1 & 1 & 1\\\\\n",
       "\t4 & Alaska & 2008 & 16 & NA & 6 & 1 & 1\\\\\n",
       "\t5 & Arizona & 2004 & 5 & 15 & 8 & 1 & 1\\\\\n",
       "\t6 & Arizona & 2008 & 5 & NA & 9 & 1 & 1\\\\\n",
       "\t7 & Arizona & 2012 & 8 & NA & 4 & 0.833333333 & 1\\\\\n",
       "\t8 & Arkansas & 2004 & 7 & 5 & 8 & 1 & 1\\\\\n",
       "\t9 & Arkansas & 2008 & 10 & NA & 5 & 1 & 1\\\\\n",
       "\t10 & Arkansas & 2012 & NA & NA & 2 & 1 & 1\\\\\n",
       "\t11 & California & 2004 & -11 & -11 & -8 & 0 & 0\\\\\n",
       "\t12 & California & 2008 & -27 & -24 & -5 & 0 & 0\\\\\n",
       "\t13 & California & 2012 & NA & -14 & -6 & 0 & 0\\\\\n",
       "\t14 & Colorado & 2004 & 5 & 3 & 9 & 1 & 1\\\\\n",
       "\t15 & Colorado & 2008 & -4 & NA & -15 & 0 & 0\\\\\n",
       "\t16 & Colorado & 2012 & 3 & -2 & -5 & 0.307692308 & 0\\\\\n",
       "\t17 & Connecticut & 2004 & NA & NA & -3 & 0 & 0\\\\\n",
       "\t18 & Connecticut & 2008 & -17 & -16 & -4 & 0 & 0\\\\\n",
       "\t19 & Connecticut & 2012 & -7 & -13 & -8 & 0 & 0\\\\\n",
       "\t20 & Delaware & 2004 & NA & NA & -2 & 0 & 0\\\\\n",
       "\t21 & Delaware & 2008 & -15 & -30 & -4 & 0 & 0\\\\\n",
       "\t22 & Florida & 2004 & 3 & 1 & 0 & 0.5 & 1\\\\\n",
       "\t23 & Florida & 2008 & 1 & -3 & -13 & 0.157894737 & 0\\\\\n",
       "\t24 & Florida & 2012 & 2 & 0 & 6 & 0.666666667 & 0\\\\\n",
       "\t25 & Georgia & 2004 & NA & 12 & 4 & 1 & 1\\\\\n",
       "\t26 & Georgia & 2008 & 5 & 7 & 9 & 1 & 1\\\\\n",
       "\t27 & Georgia & 2012 & NA & 8 & 4 & 1 & 1\\\\\n",
       "\t28 & Hawaii & 2004 & NA & NA & 2 & 0.75 & 0\\\\\n",
       "\t29 & Hawaii & 2008 & -41 & NA & -1 & 0 & 0\\\\\n",
       "\t30 & Hawaii & 2012 & NA & NA & -2 & 0 & 0\\\\\n",
       "\t31 & NA & <e2><8b><ae> & <e2><8b><ae> & <e2><8b><ae> & <e2><8b><ae> & <e2><8b><ae> & <e2><8b><ae>\\\\\n",
       "\t116 & South Carolina & 2008 & 11 & 8 & 5 & 1 & 1\\\\\n",
       "\t117 & South Carolina & 2012 & NA & NA & 1 & 1 & 1\\\\\n",
       "\t118 & South Dakota & 2004 & 10 & NA & 4 & 1 & 1\\\\\n",
       "\t119 & South Dakota & 2008 & 9 & NA & 4 & 1 & 1\\\\\n",
       "\t120 & South Dakota & 2012 & NA & NA & 1 & 1 & 1\\\\\n",
       "\t121 & Tennessee & 2004 & 6 & 18 & 7 & 1 & 1\\\\\n",
       "\t122 & Tennessee & 2008 & 12 & NA & 5 & 1 & 1\\\\\n",
       "\t123 & Tennessee & 2012 & NA & NA & 1 & 1 & 1\\\\\n",
       "\t124 & Texas & 2004 & NA & 22 & 2 & 1 & 1\\\\\n",
       "\t125 & Texas & 2008 & 10 & NA & 5 & 1 & 1\\\\\n",
       "\t126 & Texas & 2012 & NA & NA & 4 & 1 & 1\\\\\n",
       "\t127 & Utah & 2004 & NA & NA & 3 & 1 & 1\\\\\n",
       "\t128 & Utah & 2008 & 32 & NA & 3 & 1 & 1\\\\\n",
       "\t129 & Utah & 2012 & NA & NA & 1 & 1 & 1\\\\\n",
       "\t130 & Vermont & 2004 & NA & NA & -2 & 0 & 0\\\\\n",
       "\t131 & Vermont & 2008 & -24 & NA & -2 & 0 & 0\\\\\n",
       "\t132 & Virginia & 2004 & 6 & 4 & 5 & 1 & 1\\\\\n",
       "\t133 & Virginia & 2008 & -4 & -4 & -18 & 0 & 0\\\\\n",
       "\t134 & Virginia & 2012 & 2 & NA & -4 & 0.333333333 & 0\\\\\n",
       "\t135 & Washington & 2004 & -8 & -4 & -10 & 0 & 0\\\\\n",
       "\t136 & Washington & 2008 & -11 & -16 & -6 & 0 & 0\\\\\n",
       "\t137 & Washington & 2012 & -13 & -14 & -8 & 0 & 0\\\\\n",
       "\t138 & West Virginia & 2004 & 6 & NA & 6 & 1 & 1\\\\\n",
       "\t139 & West Virginia & 2008 & 9 & NA & 11 & 1 & 1\\\\\n",
       "\t140 & West Virginia & 2012 & NA & NA & 1 & 1 & 1\\\\\n",
       "\t141 & Wisconsin & 2004 & -1 & NA & 1 & 0.533333333 & 0\\\\\n",
       "\t142 & Wisconsin & 2008 & -7 & -16 & -12 & 0 & 0\\\\\n",
       "\t143 & Wisconsin & 2012 & 0 & NA & -8 & 0 & 0\\\\\n",
       "\t144 & Wyoming & 2004 & NA & NA & 1 & 1 & 1\\\\\n",
       "\t145 & Wyoming & 2008 & 19 & 21 & 3 & 1 & 1\\\\\n",
       "\\end{tabular}\n"
      ],
      "text/plain": [
       "             State Year Rasmussen SurveyUSA DiffCount      PropR Republican\n",
       "1          Alabama 2004        11        18         5 1.00000000          1\n",
       "2          Alabama 2008        21        25         5 1.00000000          1\n",
       "3           Alaska 2004        NA        NA         1 1.00000000          1\n",
       "4           Alaska 2008        16        NA         6 1.00000000          1\n",
       "5          Arizona 2004         5        15         8 1.00000000          1\n",
       "6          Arizona 2008         5        NA         9 1.00000000          1\n",
       "7          Arizona 2012         8        NA         4 0.83333333          1\n",
       "8         Arkansas 2004         7         5         8 1.00000000          1\n",
       "9         Arkansas 2008        10        NA         5 1.00000000          1\n",
       "10        Arkansas 2012        NA        NA         2 1.00000000          1\n",
       "11      California 2004       -11       -11        -8 0.00000000          0\n",
       "12      California 2008       -27       -24        -5 0.00000000          0\n",
       "13      California 2012        NA       -14        -6 0.00000000          0\n",
       "14        Colorado 2004         5         3         9 1.00000000          1\n",
       "15        Colorado 2008        -4        NA       -15 0.00000000          0\n",
       "16        Colorado 2012         3        -2        -5 0.30769231          0\n",
       "17     Connecticut 2004        NA        NA        -3 0.00000000          0\n",
       "18     Connecticut 2008       -17       -16        -4 0.00000000          0\n",
       "19     Connecticut 2012        -7       -13        -8 0.00000000          0\n",
       "20        Delaware 2004        NA        NA        -2 0.00000000          0\n",
       "21        Delaware 2008       -15       -30        -4 0.00000000          0\n",
       "22         Florida 2004         3         1         0 0.50000000          1\n",
       "23         Florida 2008         1        -3       -13 0.15789474          0\n",
       "24         Florida 2012         2         0         6 0.66666667          0\n",
       "25         Georgia 2004        NA        12         4 1.00000000          1\n",
       "26         Georgia 2008         5         7         9 1.00000000          1\n",
       "27         Georgia 2012        NA         8         4 1.00000000          1\n",
       "28          Hawaii 2004        NA        NA         2 0.75000000          0\n",
       "29          Hawaii 2008       -41        NA        -1 0.00000000          0\n",
       "30          Hawaii 2012        NA        NA        -2 0.00000000          0\n",
       "31           Idaho 2004        NA        NA         1 1.00000000          1\n",
       "32           Idaho 2008        39        NA         1 1.00000000          1\n",
       "33           Idaho 2012        NA        NA         1 1.00000000          1\n",
       "34        Illinois 2004       -11       -12        -5 0.00000000          0\n",
       "35        Illinois 2008       -22        NA        -5 0.00000000          0\n",
       "36        Illinois 2012        NA        NA        -5 0.00000000          0\n",
       "37         Indiana 2004        NA        19         3 1.00000000          1\n",
       "38         Indiana 2008         3         0         2 0.62500000          0\n",
       "39         Indiana 2012         9        NA         3 1.00000000          1\n",
       "40            Iowa 2004         2        -3         5 0.66666667          1\n",
       "41            Iowa 2008        -8       -15        -8 0.00000000          0\n",
       "42            Iowa 2012         1        NA        -2 0.40000000          0\n",
       "43          Kansas 2004        NA        23         3 1.00000000          1\n",
       "44          Kansas 2008        13        21         2 1.00000000          1\n",
       "45          Kansas 2012        NA         9         1 1.00000000          1\n",
       "46        Kentucky 2004        NA        21         3 1.00000000          1\n",
       "47        Kentucky 2008        12        16         5 1.00000000          1\n",
       "48        Kentucky 2012        NA        14         1 1.00000000          1\n",
       "49       Louisiana 2004        NA        NA         5 1.00000000          1\n",
       "50       Louisiana 2008        16        NA         2 1.00000000          1\n",
       "51       Louisiana 2012        NA        NA         2 1.00000000          1\n",
       "52           Maine 2004        NA        -8        -6 0.00000000          0\n",
       "53           Maine 2008       -13       -15        -6 0.00000000          0\n",
       "54           Maine 2012       -12        NA        -6 0.00000000          0\n",
       "55        Maryland 2004        -3       -11        -6 0.00000000          0\n",
       "56        Maryland 2008       -23        NA        -1 0.00000000          0\n",
       "57        Maryland 2012        NA        NA        -4 0.00000000          0\n",
       "58   Massachusetts 2004        NA        NA        -2 0.00000000          0\n",
       "59   Massachusetts 2008       -28       -17        -4 0.00000000          0\n",
       "60   Massachusetts 2012       -19        NA        -8 0.00000000          0\n",
       "61        Michigan 2004        NA        NA        -2 0.00000000          0\n",
       "62        Michigan 2008       -10        NA       -11 0.13333333          0\n",
       "63        Michigan 2012        -5        NA       -10 0.08333333          0\n",
       "64       Minnesota 2004        -1        NA        -7 0.18181818          0\n",
       "65       Minnesota 2008       -12        -3       -14 0.00000000          0\n",
       "66       Minnesota 2012        -5       -11        -5 0.14285714          0\n",
       "67     Mississippi 2004        NA        NA         1 1.00000000          1\n",
       "68     Mississippi 2008         8        NA         4 1.00000000          1\n",
       "69     Mississippi 2012        NA        NA         1 1.00000000          1\n",
       "70        Missouri 2004         5         5         8 1.00000000          1\n",
       "71        Missouri 2008         0         0         4 0.83333333          1\n",
       "72        Missouri 2012        11         7         8 1.00000000          1\n",
       "73         Montana 2004        NA        NA         3 1.00000000          1\n",
       "74         Montana 2008         4        NA         4 0.75000000          1\n",
       "75         Montana 2012        10        NA         5 1.00000000          1\n",
       "76        Nebraska 2004        NA        NA         2 1.00000000          1\n",
       "77        Nebraska 2008        19        NA         1 1.00000000          1\n",
       "78        Nebraska 2012        NA        NA         2 1.00000000          1\n",
       "79          Nevada 2004         2         8         9 1.00000000          1\n",
       "80          Nevada 2008        -4        NA        -9 0.09090909          0\n",
       "81          Nevada 2012        -2        -4       -10 0.00000000          0\n",
       "82   New Hampshire 2004        -2        NA        -5 0.22222222          0\n",
       "83   New Hampshire 2008        -7       -11       -14 0.00000000          0\n",
       "84   New Hampshire 2012        -2        NA        -8 0.00000000          0\n",
       "85      New Jersey 2004       -12       -12        -8 0.00000000          0\n",
       "86      New Jersey 2008       -15       -10        -9 0.00000000          0\n",
       "87      New Jersey 2012        NA       -14        -9 0.00000000          0\n",
       "88      New Mexico 2004         4        NA         2 0.62500000          1\n",
       "89      New Mexico 2008       -10        -7        -6 0.00000000          0\n",
       "90      New Mexico 2012       -11        NA        -5 0.00000000          0\n",
       "91        New York 2004        -5       -18        -6 0.00000000          0\n",
       "92        New York 2008       -20       -33        -5 0.00000000          0\n",
       "93        New York 2012        NA       -29        -5 0.00000000          0\n",
       "94  North Carolina 2004        12         8         7 1.00000000          1\n",
       "95  North Carolina 2008         1         1        -5 0.33333333          0\n",
       "96  North Carolina 2012         6         5         3 0.66666667          1\n",
       "97    North Dakota 2004        NA        NA         2 1.00000000          1\n",
       "98    North Dakota 2008        14        NA         0 0.50000000          1\n",
       "99    North Dakota 2012        14        NA         4 1.00000000          1\n",
       "100           Ohio 2004         4         2         3 0.60000000          1\n",
       "101           Ohio 2008         0        -2       -16 0.10000000          0\n",
       "102           Ohio 2012         0        -5       -16 0.00000000          0\n",
       "103       Oklahoma 2004        34        30         4 1.00000000          1\n",
       "104       Oklahoma 2008        31        24         2 1.00000000          1\n",
       "105       Oklahoma 2012        NA        NA         1 1.00000000          1\n",
       "106         Oregon 2004        -8        -3        -8 0.10000000          0\n",
       "107         Oregon 2008       -12       -19        -9 0.00000000          0\n",
       "108         Oregon 2012        NA        -7        -4 0.00000000          0\n",
       "109   Pennsylvania 2004        -2        -1       -12 0.12500000          0\n",
       "110   Pennsylvania 2008        -6        -9       -19 0.00000000          0\n",
       "111   Pennsylvania 2012        -5         0       -13 0.00000000          0\n",
       "112   Rhode Island 2004        NA       -13        -2 0.00000000          0\n",
       "113   Rhode Island 2008       -19        NA        -1 0.00000000          0\n",
       "114   Rhode Island 2012        NA        NA        -2 0.00000000          0\n",
       "115 South Carolina 2004        NA        18         4 1.00000000          1\n",
       "116 South Carolina 2008        11         8         5 1.00000000          1\n",
       "117 South Carolina 2012        NA        NA         1 1.00000000          1\n",
       "118   South Dakota 2004        10        NA         4 1.00000000          1\n",
       "119   South Dakota 2008         9        NA         4 1.00000000          1\n",
       "120   South Dakota 2012        NA        NA         1 1.00000000          1\n",
       "121      Tennessee 2004         6        18         7 1.00000000          1\n",
       "122      Tennessee 2008        12        NA         5 1.00000000          1\n",
       "123      Tennessee 2012        NA        NA         1 1.00000000          1\n",
       "124          Texas 2004        NA        22         2 1.00000000          1\n",
       "125          Texas 2008        10        NA         5 1.00000000          1\n",
       "126          Texas 2012        NA        NA         4 1.00000000          1\n",
       "127           Utah 2004        NA        NA         3 1.00000000          1\n",
       "128           Utah 2008        32        NA         3 1.00000000          1\n",
       "129           Utah 2012        NA        NA         1 1.00000000          1\n",
       "130        Vermont 2004        NA        NA        -2 0.00000000          0\n",
       "131        Vermont 2008       -24        NA        -2 0.00000000          0\n",
       "132       Virginia 2004         6         4         5 1.00000000          1\n",
       "133       Virginia 2008        -4        -4       -18 0.00000000          0\n",
       "134       Virginia 2012         2        NA        -4 0.33333333          0\n",
       "135     Washington 2004        -8        -4       -10 0.00000000          0\n",
       "136     Washington 2008       -11       -16        -6 0.00000000          0\n",
       "137     Washington 2012       -13       -14        -8 0.00000000          0\n",
       "138  West Virginia 2004         6        NA         6 1.00000000          1\n",
       "139  West Virginia 2008         9        NA        11 1.00000000          1\n",
       "140  West Virginia 2012        NA        NA         1 1.00000000          1\n",
       "141      Wisconsin 2004        -1        NA         1 0.53333333          0\n",
       "142      Wisconsin 2008        -7       -16       -12 0.00000000          0\n",
       "143      Wisconsin 2012         0        NA        -8 0.00000000          0\n",
       "144        Wyoming 2004        NA        NA         1 1.00000000          1\n",
       "145        Wyoming 2008        19        21         3 1.00000000          1"
      ]
     },
     "execution_count": 3,
     "metadata": {},
     "output_type": "execute_result"
    }
   ],
   "source": [
    "polling"
   ]
  },
  {
   "cell_type": "code",
   "execution_count": 4,
   "metadata": {
    "collapsed": false
   },
   "outputs": [
    {
     "data": {
      "text/plain": [
       "\n",
       "2004 2008 2012 \n",
       "  50   50   45 "
      ]
     },
     "execution_count": 4,
     "metadata": {},
     "output_type": "execute_result"
    }
   ],
   "source": [
    "table(polling$Year)"
   ]
  },
  {
   "cell_type": "code",
   "execution_count": null,
   "metadata": {
    "collapsed": true
   },
   "outputs": [],
   "source": []
  },
  {
   "cell_type": "code",
   "execution_count": 5,
   "metadata": {
    "collapsed": false
   },
   "outputs": [
    {
     "data": {
      "text/plain": [
       "         State          Year        Rasmussen          SurveyUSA       \n",
       " Arizona    :  3   Min.   :2004   Min.   :-41.0000   Min.   :-33.0000  \n",
       " Arkansas   :  3   1st Qu.:2004   1st Qu.: -8.0000   1st Qu.:-11.7500  \n",
       " California :  3   Median :2008   Median :  1.0000   Median : -2.0000  \n",
       " Colorado   :  3   Mean   :2008   Mean   :  0.0404   Mean   : -0.8243  \n",
       " Connecticut:  3   3rd Qu.:2012   3rd Qu.:  8.5000   3rd Qu.:  8.0000  \n",
       " Florida    :  3   Max.   :2012   Max.   : 39.0000   Max.   : 30.0000  \n",
       " (Other)    :127                  NA's   :46         NA's   :71        \n",
       "   DiffCount           PropR          Republican    \n",
       " Min.   :-19.000   Min.   :0.0000   Min.   :0.0000  \n",
       " 1st Qu.: -6.000   1st Qu.:0.0000   1st Qu.:0.0000  \n",
       " Median :  1.000   Median :0.6250   Median :1.0000  \n",
       " Mean   : -1.269   Mean   :0.5259   Mean   :0.5103  \n",
       " 3rd Qu.:  4.000   3rd Qu.:1.0000   3rd Qu.:1.0000  \n",
       " Max.   : 11.000   Max.   :1.0000   Max.   :1.0000  \n",
       "                                                    "
      ]
     },
     "execution_count": 5,
     "metadata": {},
     "output_type": "execute_result"
    }
   ],
   "source": [
    "summary(polling)"
   ]
  },
  {
   "cell_type": "code",
   "execution_count": null,
   "metadata": {
    "collapsed": true
   },
   "outputs": [],
   "source": []
  },
  {
   "cell_type": "code",
   "execution_count": 7,
   "metadata": {
    "collapsed": true
   },
   "outputs": [],
   "source": [
    "# #Multiple Imputation"
   ]
  },
  {
   "cell_type": "code",
   "execution_count": null,
   "metadata": {
    "collapsed": true
   },
   "outputs": [],
   "source": []
  },
  {
   "cell_type": "code",
   "execution_count": 8,
   "metadata": {
    "collapsed": true
   },
   "outputs": [],
   "source": [
    "# #Multiple Imputatin by Changed Equations - MICE Package"
   ]
  },
  {
   "cell_type": "code",
   "execution_count": 9,
   "metadata": {
    "collapsed": true
   },
   "outputs": [],
   "source": [
    "# #install.packages(\"mice\")"
   ]
  },
  {
   "cell_type": "code",
   "execution_count": 10,
   "metadata": {
    "collapsed": false
   },
   "outputs": [
    {
     "name": "stderr",
     "output_type": "stream",
     "text": [
      "Warning message:\n",
      ": package 'mice' was built under R version 3.2.5Loading required package: Rcpp\n",
      "Warning message:\n",
      ": package 'Rcpp' was built under R version 3.2.5mice 2.25 2015-11-09\n"
     ]
    }
   ],
   "source": [
    "library(\"mice\")"
   ]
  },
  {
   "cell_type": "code",
   "execution_count": null,
   "metadata": {
    "collapsed": true
   },
   "outputs": [],
   "source": []
  },
  {
   "cell_type": "code",
   "execution_count": 12,
   "metadata": {
    "collapsed": false
   },
   "outputs": [
    {
     "data": {
      "text/html": [
       "<ol class=list-inline>\n",
       "\t<li>\"Rasmussen\"</li>\n",
       "\t<li>\"SurveyUSA\"</li>\n",
       "\t<li>\"PropR\"</li>\n",
       "\t<li>\"DiffCount\"</li>\n",
       "</ol>\n"
      ],
      "text/latex": [
       "\\begin{enumerate*}\n",
       "\\item \"Rasmussen\"\n",
       "\\item \"SurveyUSA\"\n",
       "\\item \"PropR\"\n",
       "\\item \"DiffCount\"\n",
       "\\end{enumerate*}\n"
      ],
      "text/markdown": [
       "1. \"Rasmussen\"\n",
       "2. \"SurveyUSA\"\n",
       "3. \"PropR\"\n",
       "4. \"DiffCount\"\n",
       "\n",
       "\n"
      ],
      "text/plain": [
       "[1] \"Rasmussen\" \"SurveyUSA\" \"PropR\"     \"DiffCount\""
      ]
     },
     "execution_count": 12,
     "metadata": {},
     "output_type": "execute_result"
    }
   ],
   "source": [
    "c(\"Rasmussen\", \"SurveyUSA\", \"PropR\", \"DiffCount\")"
   ]
  },
  {
   "cell_type": "code",
   "execution_count": 13,
   "metadata": {
    "collapsed": true
   },
   "outputs": [],
   "source": [
    "simple = polling[c(\"Rasmussen\", \"SurveyUSA\", \"PropR\", \"DiffCount\")]"
   ]
  },
  {
   "cell_type": "code",
   "execution_count": 14,
   "metadata": {
    "collapsed": false
   },
   "outputs": [
    {
     "data": {
      "text/html": [
       "<table>\n",
       "<thead><tr><th></th><th scope=col>Rasmussen</th><th scope=col>SurveyUSA</th><th scope=col>PropR</th><th scope=col>DiffCount</th></tr></thead>\n",
       "<tbody>\n",
       "\t<tr><th scope=row>1</th><td>11</td><td>18</td><td>1</td><td>5</td></tr>\n",
       "\t<tr><th scope=row>2</th><td>21</td><td>25</td><td>1</td><td>5</td></tr>\n",
       "\t<tr><th scope=row>3</th><td>NA</td><td>NA</td><td>1</td><td>1</td></tr>\n",
       "\t<tr><th scope=row>4</th><td>16</td><td>NA</td><td>1</td><td>6</td></tr>\n",
       "\t<tr><th scope=row>5</th><td>5</td><td>15</td><td>1</td><td>8</td></tr>\n",
       "\t<tr><th scope=row>6</th><td>5</td><td>NA</td><td>1</td><td>9</td></tr>\n",
       "\t<tr><th scope=row>7</th><td>8</td><td>NA</td><td>0.833333333</td><td>4</td></tr>\n",
       "\t<tr><th scope=row>8</th><td>7</td><td>5</td><td>1</td><td>8</td></tr>\n",
       "\t<tr><th scope=row>9</th><td>10</td><td>NA</td><td>1</td><td>5</td></tr>\n",
       "\t<tr><th scope=row>10</th><td>NA</td><td>NA</td><td>1</td><td>2</td></tr>\n",
       "\t<tr><th scope=row>11</th><td>-11</td><td>-11</td><td>0</td><td>-8</td></tr>\n",
       "\t<tr><th scope=row>12</th><td>-27</td><td>-24</td><td>0</td><td>-5</td></tr>\n",
       "\t<tr><th scope=row>13</th><td>NA</td><td>-14</td><td>0</td><td>-6</td></tr>\n",
       "\t<tr><th scope=row>14</th><td>5</td><td>3</td><td>1</td><td>9</td></tr>\n",
       "\t<tr><th scope=row>15</th><td>-4</td><td>NA</td><td>0</td><td>-15</td></tr>\n",
       "\t<tr><th scope=row>16</th><td>3</td><td>-2</td><td>0.307692308</td><td>-5</td></tr>\n",
       "\t<tr><th scope=row>17</th><td>NA</td><td>NA</td><td>0</td><td>-3</td></tr>\n",
       "\t<tr><th scope=row>18</th><td>-17</td><td>-16</td><td>0</td><td>-4</td></tr>\n",
       "\t<tr><th scope=row>19</th><td>-7</td><td>-13</td><td>0</td><td>-8</td></tr>\n",
       "\t<tr><th scope=row>20</th><td>NA</td><td>NA</td><td>0</td><td>-2</td></tr>\n",
       "\t<tr><th scope=row>21</th><td>-15</td><td>-30</td><td>0</td><td>-4</td></tr>\n",
       "\t<tr><th scope=row>22</th><td>3</td><td>1</td><td>0.5</td><td>0</td></tr>\n",
       "\t<tr><th scope=row>23</th><td>1</td><td>-3</td><td>0.157894737</td><td>-13</td></tr>\n",
       "\t<tr><th scope=row>24</th><td>2</td><td>0</td><td>0.666666667</td><td>6</td></tr>\n",
       "\t<tr><th scope=row>25</th><td>NA</td><td>12</td><td>1</td><td>4</td></tr>\n",
       "\t<tr><th scope=row>26</th><td>5</td><td>7</td><td>1</td><td>9</td></tr>\n",
       "\t<tr><th scope=row>27</th><td>NA</td><td>8</td><td>1</td><td>4</td></tr>\n",
       "\t<tr><th scope=row>28</th><td>NA</td><td>NA</td><td>0.75</td><td>2</td></tr>\n",
       "\t<tr><th scope=row>29</th><td>-41</td><td>NA</td><td>0</td><td>-1</td></tr>\n",
       "\t<tr><th scope=row>30</th><td>NA</td><td>NA</td><td>0</td><td>-2</td></tr>\n",
       "\t<tr><th scope=row>31</th><td><e2><8b><ae></td><td><e2><8b><ae></td><td><e2><8b><ae></td><td><e2><8b><ae></td></tr>\n",
       "\t<tr><th scope=row>116</th><td>11</td><td>8</td><td>1</td><td>5</td></tr>\n",
       "\t<tr><th scope=row>117</th><td>NA</td><td>NA</td><td>1</td><td>1</td></tr>\n",
       "\t<tr><th scope=row>118</th><td>10</td><td>NA</td><td>1</td><td>4</td></tr>\n",
       "\t<tr><th scope=row>119</th><td>9</td><td>NA</td><td>1</td><td>4</td></tr>\n",
       "\t<tr><th scope=row>120</th><td>NA</td><td>NA</td><td>1</td><td>1</td></tr>\n",
       "\t<tr><th scope=row>121</th><td>6</td><td>18</td><td>1</td><td>7</td></tr>\n",
       "\t<tr><th scope=row>122</th><td>12</td><td>NA</td><td>1</td><td>5</td></tr>\n",
       "\t<tr><th scope=row>123</th><td>NA</td><td>NA</td><td>1</td><td>1</td></tr>\n",
       "\t<tr><th scope=row>124</th><td>NA</td><td>22</td><td>1</td><td>2</td></tr>\n",
       "\t<tr><th scope=row>125</th><td>10</td><td>NA</td><td>1</td><td>5</td></tr>\n",
       "\t<tr><th scope=row>126</th><td>NA</td><td>NA</td><td>1</td><td>4</td></tr>\n",
       "\t<tr><th scope=row>127</th><td>NA</td><td>NA</td><td>1</td><td>3</td></tr>\n",
       "\t<tr><th scope=row>128</th><td>32</td><td>NA</td><td>1</td><td>3</td></tr>\n",
       "\t<tr><th scope=row>129</th><td>NA</td><td>NA</td><td>1</td><td>1</td></tr>\n",
       "\t<tr><th scope=row>130</th><td>NA</td><td>NA</td><td>0</td><td>-2</td></tr>\n",
       "\t<tr><th scope=row>131</th><td>-24</td><td>NA</td><td>0</td><td>-2</td></tr>\n",
       "\t<tr><th scope=row>132</th><td>6</td><td>4</td><td>1</td><td>5</td></tr>\n",
       "\t<tr><th scope=row>133</th><td>-4</td><td>-4</td><td>0</td><td>-18</td></tr>\n",
       "\t<tr><th scope=row>134</th><td>2</td><td>NA</td><td>0.333333333</td><td>-4</td></tr>\n",
       "\t<tr><th scope=row>135</th><td>-8</td><td>-4</td><td>0</td><td>-10</td></tr>\n",
       "\t<tr><th scope=row>136</th><td>-11</td><td>-16</td><td>0</td><td>-6</td></tr>\n",
       "\t<tr><th scope=row>137</th><td>-13</td><td>-14</td><td>0</td><td>-8</td></tr>\n",
       "\t<tr><th scope=row>138</th><td>6</td><td>NA</td><td>1</td><td>6</td></tr>\n",
       "\t<tr><th scope=row>139</th><td>9</td><td>NA</td><td>1</td><td>11</td></tr>\n",
       "\t<tr><th scope=row>140</th><td>NA</td><td>NA</td><td>1</td><td>1</td></tr>\n",
       "\t<tr><th scope=row>141</th><td>-1</td><td>NA</td><td>0.533333333</td><td>1</td></tr>\n",
       "\t<tr><th scope=row>142</th><td>-7</td><td>-16</td><td>0</td><td>-12</td></tr>\n",
       "\t<tr><th scope=row>143</th><td>0</td><td>NA</td><td>0</td><td>-8</td></tr>\n",
       "\t<tr><th scope=row>144</th><td>NA</td><td>NA</td><td>1</td><td>1</td></tr>\n",
       "\t<tr><th scope=row>145</th><td>19</td><td>21</td><td>1</td><td>3</td></tr>\n",
       "</tbody>\n",
       "</table>\n"
      ],
      "text/latex": [
       "\\begin{tabular}{r|llll}\n",
       "  & Rasmussen & SurveyUSA & PropR & DiffCount\\\\\n",
       "\\hline\n",
       "\t1 & 11 & 18 & 1 & 5\\\\\n",
       "\t2 & 21 & 25 & 1 & 5\\\\\n",
       "\t3 & NA & NA & 1 & 1\\\\\n",
       "\t4 & 16 & NA & 1 & 6\\\\\n",
       "\t5 & 5 & 15 & 1 & 8\\\\\n",
       "\t6 & 5 & NA & 1 & 9\\\\\n",
       "\t7 & 8 & NA & 0.833333333 & 4\\\\\n",
       "\t8 & 7 & 5 & 1 & 8\\\\\n",
       "\t9 & 10 & NA & 1 & 5\\\\\n",
       "\t10 & NA & NA & 1 & 2\\\\\n",
       "\t11 & -11 & -11 & 0 & -8\\\\\n",
       "\t12 & -27 & -24 & 0 & -5\\\\\n",
       "\t13 & NA & -14 & 0 & -6\\\\\n",
       "\t14 & 5 & 3 & 1 & 9\\\\\n",
       "\t15 & -4 & NA & 0 & -15\\\\\n",
       "\t16 & 3 & -2 & 0.307692308 & -5\\\\\n",
       "\t17 & NA & NA & 0 & -3\\\\\n",
       "\t18 & -17 & -16 & 0 & -4\\\\\n",
       "\t19 & -7 & -13 & 0 & -8\\\\\n",
       "\t20 & NA & NA & 0 & -2\\\\\n",
       "\t21 & -15 & -30 & 0 & -4\\\\\n",
       "\t22 & 3 & 1 & 0.5 & 0\\\\\n",
       "\t23 & 1 & -3 & 0.157894737 & -13\\\\\n",
       "\t24 & 2 & 0 & 0.666666667 & 6\\\\\n",
       "\t25 & NA & 12 & 1 & 4\\\\\n",
       "\t26 & 5 & 7 & 1 & 9\\\\\n",
       "\t27 & NA & 8 & 1 & 4\\\\\n",
       "\t28 & NA & NA & 0.75 & 2\\\\\n",
       "\t29 & -41 & NA & 0 & -1\\\\\n",
       "\t30 & NA & NA & 0 & -2\\\\\n",
       "\t31 & <e2><8b><ae> & <e2><8b><ae> & <e2><8b><ae> & <e2><8b><ae>\\\\\n",
       "\t116 & 11 & 8 & 1 & 5\\\\\n",
       "\t117 & NA & NA & 1 & 1\\\\\n",
       "\t118 & 10 & NA & 1 & 4\\\\\n",
       "\t119 & 9 & NA & 1 & 4\\\\\n",
       "\t120 & NA & NA & 1 & 1\\\\\n",
       "\t121 & 6 & 18 & 1 & 7\\\\\n",
       "\t122 & 12 & NA & 1 & 5\\\\\n",
       "\t123 & NA & NA & 1 & 1\\\\\n",
       "\t124 & NA & 22 & 1 & 2\\\\\n",
       "\t125 & 10 & NA & 1 & 5\\\\\n",
       "\t126 & NA & NA & 1 & 4\\\\\n",
       "\t127 & NA & NA & 1 & 3\\\\\n",
       "\t128 & 32 & NA & 1 & 3\\\\\n",
       "\t129 & NA & NA & 1 & 1\\\\\n",
       "\t130 & NA & NA & 0 & -2\\\\\n",
       "\t131 & -24 & NA & 0 & -2\\\\\n",
       "\t132 & 6 & 4 & 1 & 5\\\\\n",
       "\t133 & -4 & -4 & 0 & -18\\\\\n",
       "\t134 & 2 & NA & 0.333333333 & -4\\\\\n",
       "\t135 & -8 & -4 & 0 & -10\\\\\n",
       "\t136 & -11 & -16 & 0 & -6\\\\\n",
       "\t137 & -13 & -14 & 0 & -8\\\\\n",
       "\t138 & 6 & NA & 1 & 6\\\\\n",
       "\t139 & 9 & NA & 1 & 11\\\\\n",
       "\t140 & NA & NA & 1 & 1\\\\\n",
       "\t141 & -1 & NA & 0.533333333 & 1\\\\\n",
       "\t142 & -7 & -16 & 0 & -12\\\\\n",
       "\t143 & 0 & NA & 0 & -8\\\\\n",
       "\t144 & NA & NA & 1 & 1\\\\\n",
       "\t145 & 19 & 21 & 1 & 3\\\\\n",
       "\\end{tabular}\n"
      ],
      "text/plain": [
       "    Rasmussen SurveyUSA      PropR DiffCount\n",
       "1          11        18 1.00000000         5\n",
       "2          21        25 1.00000000         5\n",
       "3          NA        NA 1.00000000         1\n",
       "4          16        NA 1.00000000         6\n",
       "5           5        15 1.00000000         8\n",
       "6           5        NA 1.00000000         9\n",
       "7           8        NA 0.83333333         4\n",
       "8           7         5 1.00000000         8\n",
       "9          10        NA 1.00000000         5\n",
       "10         NA        NA 1.00000000         2\n",
       "11        -11       -11 0.00000000        -8\n",
       "12        -27       -24 0.00000000        -5\n",
       "13         NA       -14 0.00000000        -6\n",
       "14          5         3 1.00000000         9\n",
       "15         -4        NA 0.00000000       -15\n",
       "16          3        -2 0.30769231        -5\n",
       "17         NA        NA 0.00000000        -3\n",
       "18        -17       -16 0.00000000        -4\n",
       "19         -7       -13 0.00000000        -8\n",
       "20         NA        NA 0.00000000        -2\n",
       "21        -15       -30 0.00000000        -4\n",
       "22          3         1 0.50000000         0\n",
       "23          1        -3 0.15789474       -13\n",
       "24          2         0 0.66666667         6\n",
       "25         NA        12 1.00000000         4\n",
       "26          5         7 1.00000000         9\n",
       "27         NA         8 1.00000000         4\n",
       "28         NA        NA 0.75000000         2\n",
       "29        -41        NA 0.00000000        -1\n",
       "30         NA        NA 0.00000000        -2\n",
       "31         NA        NA 1.00000000         1\n",
       "32         39        NA 1.00000000         1\n",
       "33         NA        NA 1.00000000         1\n",
       "34        -11       -12 0.00000000        -5\n",
       "35        -22        NA 0.00000000        -5\n",
       "36         NA        NA 0.00000000        -5\n",
       "37         NA        19 1.00000000         3\n",
       "38          3         0 0.62500000         2\n",
       "39          9        NA 1.00000000         3\n",
       "40          2        -3 0.66666667         5\n",
       "41         -8       -15 0.00000000        -8\n",
       "42          1        NA 0.40000000        -2\n",
       "43         NA        23 1.00000000         3\n",
       "44         13        21 1.00000000         2\n",
       "45         NA         9 1.00000000         1\n",
       "46         NA        21 1.00000000         3\n",
       "47         12        16 1.00000000         5\n",
       "48         NA        14 1.00000000         1\n",
       "49         NA        NA 1.00000000         5\n",
       "50         16        NA 1.00000000         2\n",
       "51         NA        NA 1.00000000         2\n",
       "52         NA        -8 0.00000000        -6\n",
       "53        -13       -15 0.00000000        -6\n",
       "54        -12        NA 0.00000000        -6\n",
       "55         -3       -11 0.00000000        -6\n",
       "56        -23        NA 0.00000000        -1\n",
       "57         NA        NA 0.00000000        -4\n",
       "58         NA        NA 0.00000000        -2\n",
       "59        -28       -17 0.00000000        -4\n",
       "60        -19        NA 0.00000000        -8\n",
       "61         NA        NA 0.00000000        -2\n",
       "62        -10        NA 0.13333333       -11\n",
       "63         -5        NA 0.08333333       -10\n",
       "64         -1        NA 0.18181818        -7\n",
       "65        -12        -3 0.00000000       -14\n",
       "66         -5       -11 0.14285714        -5\n",
       "67         NA        NA 1.00000000         1\n",
       "68          8        NA 1.00000000         4\n",
       "69         NA        NA 1.00000000         1\n",
       "70          5         5 1.00000000         8\n",
       "71          0         0 0.83333333         4\n",
       "72         11         7 1.00000000         8\n",
       "73         NA        NA 1.00000000         3\n",
       "74          4        NA 0.75000000         4\n",
       "75         10        NA 1.00000000         5\n",
       "76         NA        NA 1.00000000         2\n",
       "77         19        NA 1.00000000         1\n",
       "78         NA        NA 1.00000000         2\n",
       "79          2         8 1.00000000         9\n",
       "80         -4        NA 0.09090909        -9\n",
       "81         -2        -4 0.00000000       -10\n",
       "82         -2        NA 0.22222222        -5\n",
       "83         -7       -11 0.00000000       -14\n",
       "84         -2        NA 0.00000000        -8\n",
       "85        -12       -12 0.00000000        -8\n",
       "86        -15       -10 0.00000000        -9\n",
       "87         NA       -14 0.00000000        -9\n",
       "88          4        NA 0.62500000         2\n",
       "89        -10        -7 0.00000000        -6\n",
       "90        -11        NA 0.00000000        -5\n",
       "91         -5       -18 0.00000000        -6\n",
       "92        -20       -33 0.00000000        -5\n",
       "93         NA       -29 0.00000000        -5\n",
       "94         12         8 1.00000000         7\n",
       "95          1         1 0.33333333        -5\n",
       "96          6         5 0.66666667         3\n",
       "97         NA        NA 1.00000000         2\n",
       "98         14        NA 0.50000000         0\n",
       "99         14        NA 1.00000000         4\n",
       "100         4         2 0.60000000         3\n",
       "101         0        -2 0.10000000       -16\n",
       "102         0        -5 0.00000000       -16\n",
       "103        34        30 1.00000000         4\n",
       "104        31        24 1.00000000         2\n",
       "105        NA        NA 1.00000000         1\n",
       "106        -8        -3 0.10000000        -8\n",
       "107       -12       -19 0.00000000        -9\n",
       "108        NA        -7 0.00000000        -4\n",
       "109        -2        -1 0.12500000       -12\n",
       "110        -6        -9 0.00000000       -19\n",
       "111        -5         0 0.00000000       -13\n",
       "112        NA       -13 0.00000000        -2\n",
       "113       -19        NA 0.00000000        -1\n",
       "114        NA        NA 0.00000000        -2\n",
       "115        NA        18 1.00000000         4\n",
       "116        11         8 1.00000000         5\n",
       "117        NA        NA 1.00000000         1\n",
       "118        10        NA 1.00000000         4\n",
       "119         9        NA 1.00000000         4\n",
       "120        NA        NA 1.00000000         1\n",
       "121         6        18 1.00000000         7\n",
       "122        12        NA 1.00000000         5\n",
       "123        NA        NA 1.00000000         1\n",
       "124        NA        22 1.00000000         2\n",
       "125        10        NA 1.00000000         5\n",
       "126        NA        NA 1.00000000         4\n",
       "127        NA        NA 1.00000000         3\n",
       "128        32        NA 1.00000000         3\n",
       "129        NA        NA 1.00000000         1\n",
       "130        NA        NA 0.00000000        -2\n",
       "131       -24        NA 0.00000000        -2\n",
       "132         6         4 1.00000000         5\n",
       "133        -4        -4 0.00000000       -18\n",
       "134         2        NA 0.33333333        -4\n",
       "135        -8        -4 0.00000000       -10\n",
       "136       -11       -16 0.00000000        -6\n",
       "137       -13       -14 0.00000000        -8\n",
       "138         6        NA 1.00000000         6\n",
       "139         9        NA 1.00000000        11\n",
       "140        NA        NA 1.00000000         1\n",
       "141        -1        NA 0.53333333         1\n",
       "142        -7       -16 0.00000000       -12\n",
       "143         0        NA 0.00000000        -8\n",
       "144        NA        NA 1.00000000         1\n",
       "145        19        21 1.00000000         3"
      ]
     },
     "execution_count": 14,
     "metadata": {},
     "output_type": "execute_result"
    }
   ],
   "source": [
    "simple"
   ]
  },
  {
   "cell_type": "code",
   "execution_count": null,
   "metadata": {
    "collapsed": true
   },
   "outputs": [],
   "source": []
  },
  {
   "cell_type": "code",
   "execution_count": null,
   "metadata": {
    "collapsed": true
   },
   "outputs": [],
   "source": []
  },
  {
   "cell_type": "code",
   "execution_count": 15,
   "metadata": {
    "collapsed": true
   },
   "outputs": [],
   "source": [
    "set.seed(144)"
   ]
  },
  {
   "cell_type": "code",
   "execution_count": 17,
   "metadata": {
    "collapsed": false
   },
   "outputs": [
    {
     "name": "stdout",
     "output_type": "stream",
     "text": [
      "\n",
      " iter imp variable\n",
      "  1   1  Rasmussen  SurveyUSA\n",
      "  1   2  Rasmussen  SurveyUSA\n",
      "  1   3  Rasmussen  SurveyUSA\n",
      "  1   4  Rasmussen  SurveyUSA\n",
      "  1   5  Rasmussen  SurveyUSA\n",
      "  2   1  Rasmussen  SurveyUSA\n",
      "  2   2  Rasmussen  SurveyUSA\n",
      "  2   3  Rasmussen  SurveyUSA\n",
      "  2   4  Rasmussen  SurveyUSA\n",
      "  2   5  Rasmussen  SurveyUSA\n",
      "  3   1  Rasmussen  SurveyUSA\n",
      "  3   2  Rasmussen  SurveyUSA\n",
      "  3   3  Rasmussen  SurveyUSA\n",
      "  3   4  Rasmussen  SurveyUSA\n",
      "  3   5  Rasmussen  SurveyUSA\n",
      "  4   1  Rasmussen  SurveyUSA\n",
      "  4   2  Rasmussen  SurveyUSA\n",
      "  4   3  Rasmussen  SurveyUSA\n",
      "  4   4  Rasmussen  SurveyUSA\n",
      "  4   5  Rasmussen  SurveyUSA\n",
      "  5   1  Rasmussen  SurveyUSA\n",
      "  5   2  Rasmussen  SurveyUSA\n",
      "  5   3  Rasmussen  SurveyUSA\n",
      "  5   4  Rasmussen  SurveyUSA\n",
      "  5   5  Rasmussen  SurveyUSA\n"
     ]
    }
   ],
   "source": [
    "# #Multiple Imputation to fill in multiple values\n",
    "imputed = complete(mice(simple))"
   ]
  },
  {
   "cell_type": "code",
   "execution_count": 18,
   "metadata": {
    "collapsed": false
   },
   "outputs": [
    {
     "data": {
      "text/html": [
       "<table>\n",
       "<thead><tr><th></th><th scope=col>Rasmussen</th><th scope=col>SurveyUSA</th><th scope=col>PropR</th><th scope=col>DiffCount</th></tr></thead>\n",
       "<tbody>\n",
       "\t<tr><th scope=row>1</th><td>11</td><td>18</td><td>1</td><td>5</td></tr>\n",
       "\t<tr><th scope=row>2</th><td>21</td><td>25</td><td>1</td><td>5</td></tr>\n",
       "\t<tr><th scope=row>3</th><td>19</td><td>21</td><td>1</td><td>1</td></tr>\n",
       "\t<tr><th scope=row>4</th><td>16</td><td>14</td><td>1</td><td>6</td></tr>\n",
       "\t<tr><th scope=row>5</th><td>5</td><td>15</td><td>1</td><td>8</td></tr>\n",
       "\t<tr><th scope=row>6</th><td>5</td><td>15</td><td>1</td><td>9</td></tr>\n",
       "\t<tr><th scope=row>7</th><td>8</td><td>5</td><td>0.833333333</td><td>4</td></tr>\n",
       "\t<tr><th scope=row>8</th><td>7</td><td>5</td><td>1</td><td>8</td></tr>\n",
       "\t<tr><th scope=row>9</th><td>10</td><td>18</td><td>1</td><td>5</td></tr>\n",
       "\t<tr><th scope=row>10</th><td>14</td><td>21</td><td>1</td><td>2</td></tr>\n",
       "\t<tr><th scope=row>11</th><td>-11</td><td>-11</td><td>0</td><td>-8</td></tr>\n",
       "\t<tr><th scope=row>12</th><td>-27</td><td>-24</td><td>0</td><td>-5</td></tr>\n",
       "\t<tr><th scope=row>13</th><td>-8</td><td>-14</td><td>0</td><td>-6</td></tr>\n",
       "\t<tr><th scope=row>14</th><td>5</td><td>3</td><td>1</td><td>9</td></tr>\n",
       "\t<tr><th scope=row>15</th><td>-4</td><td>-4</td><td>0</td><td>-15</td></tr>\n",
       "\t<tr><th scope=row>16</th><td>3</td><td>-2</td><td>0.307692308</td><td>-5</td></tr>\n",
       "\t<tr><th scope=row>17</th><td>-11</td><td>-10</td><td>0</td><td>-3</td></tr>\n",
       "\t<tr><th scope=row>18</th><td>-17</td><td>-16</td><td>0</td><td>-4</td></tr>\n",
       "\t<tr><th scope=row>19</th><td>-7</td><td>-13</td><td>0</td><td>-8</td></tr>\n",
       "\t<tr><th scope=row>20</th><td>-28</td><td>-17</td><td>0</td><td>-2</td></tr>\n",
       "\t<tr><th scope=row>21</th><td>-15</td><td>-30</td><td>0</td><td>-4</td></tr>\n",
       "\t<tr><th scope=row>22</th><td>3</td><td>1</td><td>0.5</td><td>0</td></tr>\n",
       "\t<tr><th scope=row>23</th><td>1</td><td>-3</td><td>0.157894737</td><td>-13</td></tr>\n",
       "\t<tr><th scope=row>24</th><td>2</td><td>0</td><td>0.666666667</td><td>6</td></tr>\n",
       "\t<tr><th scope=row>25</th><td>12</td><td>12</td><td>1</td><td>4</td></tr>\n",
       "\t<tr><th scope=row>26</th><td>5</td><td>7</td><td>1</td><td>9</td></tr>\n",
       "\t<tr><th scope=row>27</th><td>9</td><td>8</td><td>1</td><td>4</td></tr>\n",
       "\t<tr><th scope=row>28</th><td>11</td><td>7</td><td>0.75</td><td>2</td></tr>\n",
       "\t<tr><th scope=row>29</th><td>-41</td><td>-16</td><td>0</td><td>-1</td></tr>\n",
       "\t<tr><th scope=row>30</th><td>-23</td><td>-16</td><td>0</td><td>-2</td></tr>\n",
       "\t<tr><th scope=row>31</th><td><e2><8b><ae></td><td><e2><8b><ae></td><td><e2><8b><ae></td><td><e2><8b><ae></td></tr>\n",
       "\t<tr><th scope=row>116</th><td>11</td><td>8</td><td>1</td><td>5</td></tr>\n",
       "\t<tr><th scope=row>117</th><td>12</td><td>21</td><td>1</td><td>1</td></tr>\n",
       "\t<tr><th scope=row>118</th><td>10</td><td>18</td><td>1</td><td>4</td></tr>\n",
       "\t<tr><th scope=row>119</th><td>9</td><td>8</td><td>1</td><td>4</td></tr>\n",
       "\t<tr><th scope=row>120</th><td>32</td><td>24</td><td>1</td><td>1</td></tr>\n",
       "\t<tr><th scope=row>121</th><td>6</td><td>18</td><td>1</td><td>7</td></tr>\n",
       "\t<tr><th scope=row>122</th><td>12</td><td>18</td><td>1</td><td>5</td></tr>\n",
       "\t<tr><th scope=row>123</th><td>6</td><td>18</td><td>1</td><td>1</td></tr>\n",
       "\t<tr><th scope=row>124</th><td>19</td><td>22</td><td>1</td><td>2</td></tr>\n",
       "\t<tr><th scope=row>125</th><td>10</td><td>8</td><td>1</td><td>5</td></tr>\n",
       "\t<tr><th scope=row>126</th><td>9</td><td>8</td><td>1</td><td>4</td></tr>\n",
       "\t<tr><th scope=row>127</th><td>10</td><td>18</td><td>1</td><td>3</td></tr>\n",
       "\t<tr><th scope=row>128</th><td>32</td><td>30</td><td>1</td><td>3</td></tr>\n",
       "\t<tr><th scope=row>129</th><td>21</td><td>25</td><td>1</td><td>1</td></tr>\n",
       "\t<tr><th scope=row>130</th><td>-17</td><td>-33</td><td>0</td><td>-2</td></tr>\n",
       "\t<tr><th scope=row>131</th><td>-24</td><td>-17</td><td>0</td><td>-2</td></tr>\n",
       "\t<tr><th scope=row>132</th><td>6</td><td>4</td><td>1</td><td>5</td></tr>\n",
       "\t<tr><th scope=row>133</th><td>-4</td><td>-4</td><td>0</td><td>-18</td></tr>\n",
       "\t<tr><th scope=row>134</th><td>2</td><td>-2</td><td>0.333333333</td><td>-4</td></tr>\n",
       "\t<tr><th scope=row>135</th><td>-8</td><td>-4</td><td>0</td><td>-10</td></tr>\n",
       "\t<tr><th scope=row>136</th><td>-11</td><td>-16</td><td>0</td><td>-6</td></tr>\n",
       "\t<tr><th scope=row>137</th><td>-13</td><td>-14</td><td>0</td><td>-8</td></tr>\n",
       "\t<tr><th scope=row>138</th><td>6</td><td>15</td><td>1</td><td>6</td></tr>\n",
       "\t<tr><th scope=row>139</th><td>9</td><td>4</td><td>1</td><td>11</td></tr>\n",
       "\t<tr><th scope=row>140</th><td>32</td><td>24</td><td>1</td><td>1</td></tr>\n",
       "\t<tr><th scope=row>141</th><td>-1</td><td>-5</td><td>0.533333333</td><td>1</td></tr>\n",
       "\t<tr><th scope=row>142</th><td>-7</td><td>-16</td><td>0</td><td>-12</td></tr>\n",
       "\t<tr><th scope=row>143</th><td>0</td><td>-11</td><td>0</td><td>-8</td></tr>\n",
       "\t<tr><th scope=row>144</th><td>32</td><td>30</td><td>1</td><td>1</td></tr>\n",
       "\t<tr><th scope=row>145</th><td>19</td><td>21</td><td>1</td><td>3</td></tr>\n",
       "</tbody>\n",
       "</table>\n"
      ],
      "text/latex": [
       "\\begin{tabular}{r|llll}\n",
       "  & Rasmussen & SurveyUSA & PropR & DiffCount\\\\\n",
       "\\hline\n",
       "\t1 & 11 & 18 & 1 & 5\\\\\n",
       "\t2 & 21 & 25 & 1 & 5\\\\\n",
       "\t3 & 19 & 21 & 1 & 1\\\\\n",
       "\t4 & 16 & 14 & 1 & 6\\\\\n",
       "\t5 & 5 & 15 & 1 & 8\\\\\n",
       "\t6 & 5 & 15 & 1 & 9\\\\\n",
       "\t7 & 8 & 5 & 0.833333333 & 4\\\\\n",
       "\t8 & 7 & 5 & 1 & 8\\\\\n",
       "\t9 & 10 & 18 & 1 & 5\\\\\n",
       "\t10 & 14 & 21 & 1 & 2\\\\\n",
       "\t11 & -11 & -11 & 0 & -8\\\\\n",
       "\t12 & -27 & -24 & 0 & -5\\\\\n",
       "\t13 & -8 & -14 & 0 & -6\\\\\n",
       "\t14 & 5 & 3 & 1 & 9\\\\\n",
       "\t15 & -4 & -4 & 0 & -15\\\\\n",
       "\t16 & 3 & -2 & 0.307692308 & -5\\\\\n",
       "\t17 & -11 & -10 & 0 & -3\\\\\n",
       "\t18 & -17 & -16 & 0 & -4\\\\\n",
       "\t19 & -7 & -13 & 0 & -8\\\\\n",
       "\t20 & -28 & -17 & 0 & -2\\\\\n",
       "\t21 & -15 & -30 & 0 & -4\\\\\n",
       "\t22 & 3 & 1 & 0.5 & 0\\\\\n",
       "\t23 & 1 & -3 & 0.157894737 & -13\\\\\n",
       "\t24 & 2 & 0 & 0.666666667 & 6\\\\\n",
       "\t25 & 12 & 12 & 1 & 4\\\\\n",
       "\t26 & 5 & 7 & 1 & 9\\\\\n",
       "\t27 & 9 & 8 & 1 & 4\\\\\n",
       "\t28 & 11 & 7 & 0.75 & 2\\\\\n",
       "\t29 & -41 & -16 & 0 & -1\\\\\n",
       "\t30 & -23 & -16 & 0 & -2\\\\\n",
       "\t31 & <e2><8b><ae> & <e2><8b><ae> & <e2><8b><ae> & <e2><8b><ae>\\\\\n",
       "\t116 & 11 & 8 & 1 & 5\\\\\n",
       "\t117 & 12 & 21 & 1 & 1\\\\\n",
       "\t118 & 10 & 18 & 1 & 4\\\\\n",
       "\t119 & 9 & 8 & 1 & 4\\\\\n",
       "\t120 & 32 & 24 & 1 & 1\\\\\n",
       "\t121 & 6 & 18 & 1 & 7\\\\\n",
       "\t122 & 12 & 18 & 1 & 5\\\\\n",
       "\t123 & 6 & 18 & 1 & 1\\\\\n",
       "\t124 & 19 & 22 & 1 & 2\\\\\n",
       "\t125 & 10 & 8 & 1 & 5\\\\\n",
       "\t126 & 9 & 8 & 1 & 4\\\\\n",
       "\t127 & 10 & 18 & 1 & 3\\\\\n",
       "\t128 & 32 & 30 & 1 & 3\\\\\n",
       "\t129 & 21 & 25 & 1 & 1\\\\\n",
       "\t130 & -17 & -33 & 0 & -2\\\\\n",
       "\t131 & -24 & -17 & 0 & -2\\\\\n",
       "\t132 & 6 & 4 & 1 & 5\\\\\n",
       "\t133 & -4 & -4 & 0 & -18\\\\\n",
       "\t134 & 2 & -2 & 0.333333333 & -4\\\\\n",
       "\t135 & -8 & -4 & 0 & -10\\\\\n",
       "\t136 & -11 & -16 & 0 & -6\\\\\n",
       "\t137 & -13 & -14 & 0 & -8\\\\\n",
       "\t138 & 6 & 15 & 1 & 6\\\\\n",
       "\t139 & 9 & 4 & 1 & 11\\\\\n",
       "\t140 & 32 & 24 & 1 & 1\\\\\n",
       "\t141 & -1 & -5 & 0.533333333 & 1\\\\\n",
       "\t142 & -7 & -16 & 0 & -12\\\\\n",
       "\t143 & 0 & -11 & 0 & -8\\\\\n",
       "\t144 & 32 & 30 & 1 & 1\\\\\n",
       "\t145 & 19 & 21 & 1 & 3\\\\\n",
       "\\end{tabular}\n"
      ],
      "text/plain": [
       "    Rasmussen SurveyUSA      PropR DiffCount\n",
       "1          11        18 1.00000000         5\n",
       "2          21        25 1.00000000         5\n",
       "3          19        21 1.00000000         1\n",
       "4          16        14 1.00000000         6\n",
       "5           5        15 1.00000000         8\n",
       "6           5        15 1.00000000         9\n",
       "7           8         5 0.83333333         4\n",
       "8           7         5 1.00000000         8\n",
       "9          10        18 1.00000000         5\n",
       "10         14        21 1.00000000         2\n",
       "11        -11       -11 0.00000000        -8\n",
       "12        -27       -24 0.00000000        -5\n",
       "13         -8       -14 0.00000000        -6\n",
       "14          5         3 1.00000000         9\n",
       "15         -4        -4 0.00000000       -15\n",
       "16          3        -2 0.30769231        -5\n",
       "17        -11       -10 0.00000000        -3\n",
       "18        -17       -16 0.00000000        -4\n",
       "19         -7       -13 0.00000000        -8\n",
       "20        -28       -17 0.00000000        -2\n",
       "21        -15       -30 0.00000000        -4\n",
       "22          3         1 0.50000000         0\n",
       "23          1        -3 0.15789474       -13\n",
       "24          2         0 0.66666667         6\n",
       "25         12        12 1.00000000         4\n",
       "26          5         7 1.00000000         9\n",
       "27          9         8 1.00000000         4\n",
       "28         11         7 0.75000000         2\n",
       "29        -41       -16 0.00000000        -1\n",
       "30        -23       -16 0.00000000        -2\n",
       "31         13         9 1.00000000         1\n",
       "32         39        25 1.00000000         1\n",
       "33         31        21 1.00000000         1\n",
       "34        -11       -12 0.00000000        -5\n",
       "35        -22       -29 0.00000000        -5\n",
       "36        -27       -17 0.00000000        -5\n",
       "37         14        19 1.00000000         3\n",
       "38          3         0 0.62500000         2\n",
       "39          9         8 1.00000000         3\n",
       "40          2        -3 0.66666667         5\n",
       "41         -8       -15 0.00000000        -8\n",
       "42          1        -3 0.40000000        -2\n",
       "43         13        23 1.00000000         3\n",
       "44         13        21 1.00000000         2\n",
       "45         12         9 1.00000000         1\n",
       "46         19        21 1.00000000         3\n",
       "47         12        16 1.00000000         5\n",
       "48         11        14 1.00000000         1\n",
       "49          6         7 1.00000000         5\n",
       "50         16        25 1.00000000         2\n",
       "51         19        25 1.00000000         2\n",
       "52         -2        -8 0.00000000        -6\n",
       "53        -13       -15 0.00000000        -6\n",
       "54        -12       -15 0.00000000        -6\n",
       "55         -3       -11 0.00000000        -6\n",
       "56        -23       -17 0.00000000        -1\n",
       "57        -19       -30 0.00000000        -4\n",
       "58        -17       -16 0.00000000        -2\n",
       "59        -28       -17 0.00000000        -4\n",
       "60        -19       -16 0.00000000        -8\n",
       "61        -24       -17 0.00000000        -2\n",
       "62        -10        -3 0.13333333       -11\n",
       "63         -5       -11 0.08333333       -10\n",
       "64         -1        -5 0.18181818        -7\n",
       "65        -12        -3 0.00000000       -14\n",
       "66         -5       -11 0.14285714        -5\n",
       "67         12        23 1.00000000         1\n",
       "68          8        18 1.00000000         4\n",
       "69         11        14 1.00000000         1\n",
       "70          5         5 1.00000000         8\n",
       "71          0         0 0.83333333         4\n",
       "72         11         7 1.00000000         8\n",
       "73         10        18 1.00000000         3\n",
       "74          4         0 0.75000000         4\n",
       "75         10         8 1.00000000         5\n",
       "76         19        25 1.00000000         2\n",
       "77         19        21 1.00000000         1\n",
       "78         19        22 1.00000000         2\n",
       "79          2         8 1.00000000         9\n",
       "80         -4        -4 0.09090909        -9\n",
       "81         -2        -4 0.00000000       -10\n",
       "82         -2        -1 0.22222222        -5\n",
       "83         -7       -11 0.00000000       -14\n",
       "84         -2        -8 0.00000000        -8\n",
       "85        -12       -12 0.00000000        -8\n",
       "86        -15       -10 0.00000000        -9\n",
       "87         -7       -14 0.00000000        -9\n",
       "88          4         0 0.62500000         2\n",
       "89        -10        -7 0.00000000        -6\n",
       "90        -11       -13 0.00000000        -5\n",
       "91         -5       -18 0.00000000        -6\n",
       "92        -20       -33 0.00000000        -5\n",
       "93        -27       -29 0.00000000        -5\n",
       "94         12         8 1.00000000         7\n",
       "95          1         1 0.33333333        -5\n",
       "96          6         5 0.66666667         3\n",
       "97         21        19 1.00000000         2\n",
       "98         14        15 0.50000000         0\n",
       "99         14         9 1.00000000         4\n",
       "100         4         2 0.60000000         3\n",
       "101         0        -2 0.10000000       -16\n",
       "102         0        -5 0.00000000       -16\n",
       "103        34        30 1.00000000         4\n",
       "104        31        24 1.00000000         2\n",
       "105        19        21 1.00000000         1\n",
       "106        -8        -3 0.10000000        -8\n",
       "107       -12       -19 0.00000000        -9\n",
       "108       -15        -7 0.00000000        -4\n",
       "109        -2        -1 0.12500000       -12\n",
       "110        -6        -9 0.00000000       -19\n",
       "111        -5         0 0.00000000       -13\n",
       "112       -11       -13 0.00000000        -2\n",
       "113       -19       -16 0.00000000        -1\n",
       "114        -5       -19 0.00000000        -2\n",
       "115        10        18 1.00000000         4\n",
       "116        11         8 1.00000000         5\n",
       "117        12        21 1.00000000         1\n",
       "118        10        18 1.00000000         4\n",
       "119         9         8 1.00000000         4\n",
       "120        32        24 1.00000000         1\n",
       "121         6        18 1.00000000         7\n",
       "122        12        18 1.00000000         5\n",
       "123         6        18 1.00000000         1\n",
       "124        19        22 1.00000000         2\n",
       "125        10         8 1.00000000         5\n",
       "126         9         8 1.00000000         4\n",
       "127        10        18 1.00000000         3\n",
       "128        32        30 1.00000000         3\n",
       "129        21        25 1.00000000         1\n",
       "130       -17       -33 0.00000000        -2\n",
       "131       -24       -17 0.00000000        -2\n",
       "132         6         4 1.00000000         5\n",
       "133        -4        -4 0.00000000       -18\n",
       "134         2        -2 0.33333333        -4\n",
       "135        -8        -4 0.00000000       -10\n",
       "136       -11       -16 0.00000000        -6\n",
       "137       -13       -14 0.00000000        -8\n",
       "138         6        15 1.00000000         6\n",
       "139         9         4 1.00000000        11\n",
       "140        32        24 1.00000000         1\n",
       "141        -1        -5 0.53333333         1\n",
       "142        -7       -16 0.00000000       -12\n",
       "143         0       -11 0.00000000        -8\n",
       "144        32        30 1.00000000         1\n",
       "145        19        21 1.00000000         3"
      ]
     },
     "execution_count": 18,
     "metadata": {},
     "output_type": "execute_result"
    }
   ],
   "source": [
    "imputed"
   ]
  },
  {
   "cell_type": "code",
   "execution_count": 19,
   "metadata": {
    "collapsed": true
   },
   "outputs": [],
   "source": [
    "polling$Rasmussen = imputed$Rasmussen"
   ]
  },
  {
   "cell_type": "code",
   "execution_count": 20,
   "metadata": {
    "collapsed": true
   },
   "outputs": [],
   "source": [
    "polling$SurveyUSA = imputed$SurveyUSA"
   ]
  },
  {
   "cell_type": "code",
   "execution_count": null,
   "metadata": {
    "collapsed": true
   },
   "outputs": [],
   "source": []
  },
  {
   "cell_type": "code",
   "execution_count": 21,
   "metadata": {
    "collapsed": false
   },
   "outputs": [
    {
     "name": "stderr",
     "output_type": "stream",
     "text": [
      "Warning message:\n",
      "In `[<-.factor`(`*tmp*`, ri, value = \"<e2><8b><ae>\"): invalid factor level, NA generatedWarning message:\n",
      "In `[<-.factor`(`*tmp*`, ri, value = \"<e2><8b><ae>\"): invalid factor level, NA generated"
     ]
    },
    {
     "data": {
      "text/html": [
       "<table>\n",
       "<thead><tr><th></th><th scope=col>State</th><th scope=col>Year</th><th scope=col>Rasmussen</th><th scope=col>SurveyUSA</th><th scope=col>DiffCount</th><th scope=col>PropR</th><th scope=col>Republican</th></tr></thead>\n",
       "<tbody>\n",
       "\t<tr><th scope=row>1</th><td>Alabama</td><td>2004</td><td>11</td><td>18</td><td>5</td><td>1</td><td>1</td></tr>\n",
       "\t<tr><th scope=row>2</th><td>Alabama</td><td>2008</td><td>21</td><td>25</td><td>5</td><td>1</td><td>1</td></tr>\n",
       "\t<tr><th scope=row>3</th><td>Alaska</td><td>2004</td><td>19</td><td>21</td><td>1</td><td>1</td><td>1</td></tr>\n",
       "\t<tr><th scope=row>4</th><td>Alaska</td><td>2008</td><td>16</td><td>14</td><td>6</td><td>1</td><td>1</td></tr>\n",
       "\t<tr><th scope=row>5</th><td>Arizona</td><td>2004</td><td>5</td><td>15</td><td>8</td><td>1</td><td>1</td></tr>\n",
       "\t<tr><th scope=row>6</th><td>Arizona</td><td>2008</td><td>5</td><td>15</td><td>9</td><td>1</td><td>1</td></tr>\n",
       "\t<tr><th scope=row>7</th><td>Arizona</td><td>2012</td><td>8</td><td>5</td><td>4</td><td>0.833333333</td><td>1</td></tr>\n",
       "\t<tr><th scope=row>8</th><td>Arkansas</td><td>2004</td><td>7</td><td>5</td><td>8</td><td>1</td><td>1</td></tr>\n",
       "\t<tr><th scope=row>9</th><td>Arkansas</td><td>2008</td><td>10</td><td>18</td><td>5</td><td>1</td><td>1</td></tr>\n",
       "\t<tr><th scope=row>10</th><td>Arkansas</td><td>2012</td><td>14</td><td>21</td><td>2</td><td>1</td><td>1</td></tr>\n",
       "\t<tr><th scope=row>11</th><td>California</td><td>2004</td><td>-11</td><td>-11</td><td>-8</td><td>0</td><td>0</td></tr>\n",
       "\t<tr><th scope=row>12</th><td>California</td><td>2008</td><td>-27</td><td>-24</td><td>-5</td><td>0</td><td>0</td></tr>\n",
       "\t<tr><th scope=row>13</th><td>California</td><td>2012</td><td>-8</td><td>-14</td><td>-6</td><td>0</td><td>0</td></tr>\n",
       "\t<tr><th scope=row>14</th><td>Colorado</td><td>2004</td><td>5</td><td>3</td><td>9</td><td>1</td><td>1</td></tr>\n",
       "\t<tr><th scope=row>15</th><td>Colorado</td><td>2008</td><td>-4</td><td>-4</td><td>-15</td><td>0</td><td>0</td></tr>\n",
       "\t<tr><th scope=row>16</th><td>Colorado</td><td>2012</td><td>3</td><td>-2</td><td>-5</td><td>0.307692308</td><td>0</td></tr>\n",
       "\t<tr><th scope=row>17</th><td>Connecticut</td><td>2004</td><td>-11</td><td>-10</td><td>-3</td><td>0</td><td>0</td></tr>\n",
       "\t<tr><th scope=row>18</th><td>Connecticut</td><td>2008</td><td>-17</td><td>-16</td><td>-4</td><td>0</td><td>0</td></tr>\n",
       "\t<tr><th scope=row>19</th><td>Connecticut</td><td>2012</td><td>-7</td><td>-13</td><td>-8</td><td>0</td><td>0</td></tr>\n",
       "\t<tr><th scope=row>20</th><td>Delaware</td><td>2004</td><td>-28</td><td>-17</td><td>-2</td><td>0</td><td>0</td></tr>\n",
       "\t<tr><th scope=row>21</th><td>Delaware</td><td>2008</td><td>-15</td><td>-30</td><td>-4</td><td>0</td><td>0</td></tr>\n",
       "\t<tr><th scope=row>22</th><td>Florida</td><td>2004</td><td>3</td><td>1</td><td>0</td><td>0.5</td><td>1</td></tr>\n",
       "\t<tr><th scope=row>23</th><td>Florida</td><td>2008</td><td>1</td><td>-3</td><td>-13</td><td>0.157894737</td><td>0</td></tr>\n",
       "\t<tr><th scope=row>24</th><td>Florida</td><td>2012</td><td>2</td><td>0</td><td>6</td><td>0.666666667</td><td>0</td></tr>\n",
       "\t<tr><th scope=row>25</th><td>Georgia</td><td>2004</td><td>12</td><td>12</td><td>4</td><td>1</td><td>1</td></tr>\n",
       "\t<tr><th scope=row>26</th><td>Georgia</td><td>2008</td><td>5</td><td>7</td><td>9</td><td>1</td><td>1</td></tr>\n",
       "\t<tr><th scope=row>27</th><td>Georgia</td><td>2012</td><td>9</td><td>8</td><td>4</td><td>1</td><td>1</td></tr>\n",
       "\t<tr><th scope=row>28</th><td>Hawaii</td><td>2004</td><td>11</td><td>7</td><td>2</td><td>0.75</td><td>0</td></tr>\n",
       "\t<tr><th scope=row>29</th><td>Hawaii</td><td>2008</td><td>-41</td><td>-16</td><td>-1</td><td>0</td><td>0</td></tr>\n",
       "\t<tr><th scope=row>30</th><td>Hawaii</td><td>2012</td><td>-23</td><td>-16</td><td>-2</td><td>0</td><td>0</td></tr>\n",
       "\t<tr><th scope=row>31</th><td>NA</td><td><e2><8b><ae></td><td><e2><8b><ae></td><td><e2><8b><ae></td><td><e2><8b><ae></td><td><e2><8b><ae></td><td><e2><8b><ae></td></tr>\n",
       "\t<tr><th scope=row>116</th><td>South Carolina</td><td>2008</td><td>11</td><td>8</td><td>5</td><td>1</td><td>1</td></tr>\n",
       "\t<tr><th scope=row>117</th><td>South Carolina</td><td>2012</td><td>12</td><td>21</td><td>1</td><td>1</td><td>1</td></tr>\n",
       "\t<tr><th scope=row>118</th><td>South Dakota</td><td>2004</td><td>10</td><td>18</td><td>4</td><td>1</td><td>1</td></tr>\n",
       "\t<tr><th scope=row>119</th><td>South Dakota</td><td>2008</td><td>9</td><td>8</td><td>4</td><td>1</td><td>1</td></tr>\n",
       "\t<tr><th scope=row>120</th><td>South Dakota</td><td>2012</td><td>32</td><td>24</td><td>1</td><td>1</td><td>1</td></tr>\n",
       "\t<tr><th scope=row>121</th><td>Tennessee</td><td>2004</td><td>6</td><td>18</td><td>7</td><td>1</td><td>1</td></tr>\n",
       "\t<tr><th scope=row>122</th><td>Tennessee</td><td>2008</td><td>12</td><td>18</td><td>5</td><td>1</td><td>1</td></tr>\n",
       "\t<tr><th scope=row>123</th><td>Tennessee</td><td>2012</td><td>6</td><td>18</td><td>1</td><td>1</td><td>1</td></tr>\n",
       "\t<tr><th scope=row>124</th><td>Texas</td><td>2004</td><td>19</td><td>22</td><td>2</td><td>1</td><td>1</td></tr>\n",
       "\t<tr><th scope=row>125</th><td>Texas</td><td>2008</td><td>10</td><td>8</td><td>5</td><td>1</td><td>1</td></tr>\n",
       "\t<tr><th scope=row>126</th><td>Texas</td><td>2012</td><td>9</td><td>8</td><td>4</td><td>1</td><td>1</td></tr>\n",
       "\t<tr><th scope=row>127</th><td>Utah</td><td>2004</td><td>10</td><td>18</td><td>3</td><td>1</td><td>1</td></tr>\n",
       "\t<tr><th scope=row>128</th><td>Utah</td><td>2008</td><td>32</td><td>30</td><td>3</td><td>1</td><td>1</td></tr>\n",
       "\t<tr><th scope=row>129</th><td>Utah</td><td>2012</td><td>21</td><td>25</td><td>1</td><td>1</td><td>1</td></tr>\n",
       "\t<tr><th scope=row>130</th><td>Vermont</td><td>2004</td><td>-17</td><td>-33</td><td>-2</td><td>0</td><td>0</td></tr>\n",
       "\t<tr><th scope=row>131</th><td>Vermont</td><td>2008</td><td>-24</td><td>-17</td><td>-2</td><td>0</td><td>0</td></tr>\n",
       "\t<tr><th scope=row>132</th><td>Virginia</td><td>2004</td><td>6</td><td>4</td><td>5</td><td>1</td><td>1</td></tr>\n",
       "\t<tr><th scope=row>133</th><td>Virginia</td><td>2008</td><td>-4</td><td>-4</td><td>-18</td><td>0</td><td>0</td></tr>\n",
       "\t<tr><th scope=row>134</th><td>Virginia</td><td>2012</td><td>2</td><td>-2</td><td>-4</td><td>0.333333333</td><td>0</td></tr>\n",
       "\t<tr><th scope=row>135</th><td>Washington</td><td>2004</td><td>-8</td><td>-4</td><td>-10</td><td>0</td><td>0</td></tr>\n",
       "\t<tr><th scope=row>136</th><td>Washington</td><td>2008</td><td>-11</td><td>-16</td><td>-6</td><td>0</td><td>0</td></tr>\n",
       "\t<tr><th scope=row>137</th><td>Washington</td><td>2012</td><td>-13</td><td>-14</td><td>-8</td><td>0</td><td>0</td></tr>\n",
       "\t<tr><th scope=row>138</th><td>West Virginia</td><td>2004</td><td>6</td><td>15</td><td>6</td><td>1</td><td>1</td></tr>\n",
       "\t<tr><th scope=row>139</th><td>West Virginia</td><td>2008</td><td>9</td><td>4</td><td>11</td><td>1</td><td>1</td></tr>\n",
       "\t<tr><th scope=row>140</th><td>West Virginia</td><td>2012</td><td>32</td><td>24</td><td>1</td><td>1</td><td>1</td></tr>\n",
       "\t<tr><th scope=row>141</th><td>Wisconsin</td><td>2004</td><td>-1</td><td>-5</td><td>1</td><td>0.533333333</td><td>0</td></tr>\n",
       "\t<tr><th scope=row>142</th><td>Wisconsin</td><td>2008</td><td>-7</td><td>-16</td><td>-12</td><td>0</td><td>0</td></tr>\n",
       "\t<tr><th scope=row>143</th><td>Wisconsin</td><td>2012</td><td>0</td><td>-11</td><td>-8</td><td>0</td><td>0</td></tr>\n",
       "\t<tr><th scope=row>144</th><td>Wyoming</td><td>2004</td><td>32</td><td>30</td><td>1</td><td>1</td><td>1</td></tr>\n",
       "\t<tr><th scope=row>145</th><td>Wyoming</td><td>2008</td><td>19</td><td>21</td><td>3</td><td>1</td><td>1</td></tr>\n",
       "</tbody>\n",
       "</table>\n"
      ],
      "text/latex": [
       "\\begin{tabular}{r|lllllll}\n",
       "  & State & Year & Rasmussen & SurveyUSA & DiffCount & PropR & Republican\\\\\n",
       "\\hline\n",
       "\t1 & Alabama & 2004 & 11 & 18 & 5 & 1 & 1\\\\\n",
       "\t2 & Alabama & 2008 & 21 & 25 & 5 & 1 & 1\\\\\n",
       "\t3 & Alaska & 2004 & 19 & 21 & 1 & 1 & 1\\\\\n",
       "\t4 & Alaska & 2008 & 16 & 14 & 6 & 1 & 1\\\\\n",
       "\t5 & Arizona & 2004 & 5 & 15 & 8 & 1 & 1\\\\\n",
       "\t6 & Arizona & 2008 & 5 & 15 & 9 & 1 & 1\\\\\n",
       "\t7 & Arizona & 2012 & 8 & 5 & 4 & 0.833333333 & 1\\\\\n",
       "\t8 & Arkansas & 2004 & 7 & 5 & 8 & 1 & 1\\\\\n",
       "\t9 & Arkansas & 2008 & 10 & 18 & 5 & 1 & 1\\\\\n",
       "\t10 & Arkansas & 2012 & 14 & 21 & 2 & 1 & 1\\\\\n",
       "\t11 & California & 2004 & -11 & -11 & -8 & 0 & 0\\\\\n",
       "\t12 & California & 2008 & -27 & -24 & -5 & 0 & 0\\\\\n",
       "\t13 & California & 2012 & -8 & -14 & -6 & 0 & 0\\\\\n",
       "\t14 & Colorado & 2004 & 5 & 3 & 9 & 1 & 1\\\\\n",
       "\t15 & Colorado & 2008 & -4 & -4 & -15 & 0 & 0\\\\\n",
       "\t16 & Colorado & 2012 & 3 & -2 & -5 & 0.307692308 & 0\\\\\n",
       "\t17 & Connecticut & 2004 & -11 & -10 & -3 & 0 & 0\\\\\n",
       "\t18 & Connecticut & 2008 & -17 & -16 & -4 & 0 & 0\\\\\n",
       "\t19 & Connecticut & 2012 & -7 & -13 & -8 & 0 & 0\\\\\n",
       "\t20 & Delaware & 2004 & -28 & -17 & -2 & 0 & 0\\\\\n",
       "\t21 & Delaware & 2008 & -15 & -30 & -4 & 0 & 0\\\\\n",
       "\t22 & Florida & 2004 & 3 & 1 & 0 & 0.5 & 1\\\\\n",
       "\t23 & Florida & 2008 & 1 & -3 & -13 & 0.157894737 & 0\\\\\n",
       "\t24 & Florida & 2012 & 2 & 0 & 6 & 0.666666667 & 0\\\\\n",
       "\t25 & Georgia & 2004 & 12 & 12 & 4 & 1 & 1\\\\\n",
       "\t26 & Georgia & 2008 & 5 & 7 & 9 & 1 & 1\\\\\n",
       "\t27 & Georgia & 2012 & 9 & 8 & 4 & 1 & 1\\\\\n",
       "\t28 & Hawaii & 2004 & 11 & 7 & 2 & 0.75 & 0\\\\\n",
       "\t29 & Hawaii & 2008 & -41 & -16 & -1 & 0 & 0\\\\\n",
       "\t30 & Hawaii & 2012 & -23 & -16 & -2 & 0 & 0\\\\\n",
       "\t31 & NA & <e2><8b><ae> & <e2><8b><ae> & <e2><8b><ae> & <e2><8b><ae> & <e2><8b><ae> & <e2><8b><ae>\\\\\n",
       "\t116 & South Carolina & 2008 & 11 & 8 & 5 & 1 & 1\\\\\n",
       "\t117 & South Carolina & 2012 & 12 & 21 & 1 & 1 & 1\\\\\n",
       "\t118 & South Dakota & 2004 & 10 & 18 & 4 & 1 & 1\\\\\n",
       "\t119 & South Dakota & 2008 & 9 & 8 & 4 & 1 & 1\\\\\n",
       "\t120 & South Dakota & 2012 & 32 & 24 & 1 & 1 & 1\\\\\n",
       "\t121 & Tennessee & 2004 & 6 & 18 & 7 & 1 & 1\\\\\n",
       "\t122 & Tennessee & 2008 & 12 & 18 & 5 & 1 & 1\\\\\n",
       "\t123 & Tennessee & 2012 & 6 & 18 & 1 & 1 & 1\\\\\n",
       "\t124 & Texas & 2004 & 19 & 22 & 2 & 1 & 1\\\\\n",
       "\t125 & Texas & 2008 & 10 & 8 & 5 & 1 & 1\\\\\n",
       "\t126 & Texas & 2012 & 9 & 8 & 4 & 1 & 1\\\\\n",
       "\t127 & Utah & 2004 & 10 & 18 & 3 & 1 & 1\\\\\n",
       "\t128 & Utah & 2008 & 32 & 30 & 3 & 1 & 1\\\\\n",
       "\t129 & Utah & 2012 & 21 & 25 & 1 & 1 & 1\\\\\n",
       "\t130 & Vermont & 2004 & -17 & -33 & -2 & 0 & 0\\\\\n",
       "\t131 & Vermont & 2008 & -24 & -17 & -2 & 0 & 0\\\\\n",
       "\t132 & Virginia & 2004 & 6 & 4 & 5 & 1 & 1\\\\\n",
       "\t133 & Virginia & 2008 & -4 & -4 & -18 & 0 & 0\\\\\n",
       "\t134 & Virginia & 2012 & 2 & -2 & -4 & 0.333333333 & 0\\\\\n",
       "\t135 & Washington & 2004 & -8 & -4 & -10 & 0 & 0\\\\\n",
       "\t136 & Washington & 2008 & -11 & -16 & -6 & 0 & 0\\\\\n",
       "\t137 & Washington & 2012 & -13 & -14 & -8 & 0 & 0\\\\\n",
       "\t138 & West Virginia & 2004 & 6 & 15 & 6 & 1 & 1\\\\\n",
       "\t139 & West Virginia & 2008 & 9 & 4 & 11 & 1 & 1\\\\\n",
       "\t140 & West Virginia & 2012 & 32 & 24 & 1 & 1 & 1\\\\\n",
       "\t141 & Wisconsin & 2004 & -1 & -5 & 1 & 0.533333333 & 0\\\\\n",
       "\t142 & Wisconsin & 2008 & -7 & -16 & -12 & 0 & 0\\\\\n",
       "\t143 & Wisconsin & 2012 & 0 & -11 & -8 & 0 & 0\\\\\n",
       "\t144 & Wyoming & 2004 & 32 & 30 & 1 & 1 & 1\\\\\n",
       "\t145 & Wyoming & 2008 & 19 & 21 & 3 & 1 & 1\\\\\n",
       "\\end{tabular}\n"
      ],
      "text/plain": [
       "             State Year Rasmussen SurveyUSA DiffCount      PropR Republican\n",
       "1          Alabama 2004        11        18         5 1.00000000          1\n",
       "2          Alabama 2008        21        25         5 1.00000000          1\n",
       "3           Alaska 2004        19        21         1 1.00000000          1\n",
       "4           Alaska 2008        16        14         6 1.00000000          1\n",
       "5          Arizona 2004         5        15         8 1.00000000          1\n",
       "6          Arizona 2008         5        15         9 1.00000000          1\n",
       "7          Arizona 2012         8         5         4 0.83333333          1\n",
       "8         Arkansas 2004         7         5         8 1.00000000          1\n",
       "9         Arkansas 2008        10        18         5 1.00000000          1\n",
       "10        Arkansas 2012        14        21         2 1.00000000          1\n",
       "11      California 2004       -11       -11        -8 0.00000000          0\n",
       "12      California 2008       -27       -24        -5 0.00000000          0\n",
       "13      California 2012        -8       -14        -6 0.00000000          0\n",
       "14        Colorado 2004         5         3         9 1.00000000          1\n",
       "15        Colorado 2008        -4        -4       -15 0.00000000          0\n",
       "16        Colorado 2012         3        -2        -5 0.30769231          0\n",
       "17     Connecticut 2004       -11       -10        -3 0.00000000          0\n",
       "18     Connecticut 2008       -17       -16        -4 0.00000000          0\n",
       "19     Connecticut 2012        -7       -13        -8 0.00000000          0\n",
       "20        Delaware 2004       -28       -17        -2 0.00000000          0\n",
       "21        Delaware 2008       -15       -30        -4 0.00000000          0\n",
       "22         Florida 2004         3         1         0 0.50000000          1\n",
       "23         Florida 2008         1        -3       -13 0.15789474          0\n",
       "24         Florida 2012         2         0         6 0.66666667          0\n",
       "25         Georgia 2004        12        12         4 1.00000000          1\n",
       "26         Georgia 2008         5         7         9 1.00000000          1\n",
       "27         Georgia 2012         9         8         4 1.00000000          1\n",
       "28          Hawaii 2004        11         7         2 0.75000000          0\n",
       "29          Hawaii 2008       -41       -16        -1 0.00000000          0\n",
       "30          Hawaii 2012       -23       -16        -2 0.00000000          0\n",
       "31           Idaho 2004        13         9         1 1.00000000          1\n",
       "32           Idaho 2008        39        25         1 1.00000000          1\n",
       "33           Idaho 2012        31        21         1 1.00000000          1\n",
       "34        Illinois 2004       -11       -12        -5 0.00000000          0\n",
       "35        Illinois 2008       -22       -29        -5 0.00000000          0\n",
       "36        Illinois 2012       -27       -17        -5 0.00000000          0\n",
       "37         Indiana 2004        14        19         3 1.00000000          1\n",
       "38         Indiana 2008         3         0         2 0.62500000          0\n",
       "39         Indiana 2012         9         8         3 1.00000000          1\n",
       "40            Iowa 2004         2        -3         5 0.66666667          1\n",
       "41            Iowa 2008        -8       -15        -8 0.00000000          0\n",
       "42            Iowa 2012         1        -3        -2 0.40000000          0\n",
       "43          Kansas 2004        13        23         3 1.00000000          1\n",
       "44          Kansas 2008        13        21         2 1.00000000          1\n",
       "45          Kansas 2012        12         9         1 1.00000000          1\n",
       "46        Kentucky 2004        19        21         3 1.00000000          1\n",
       "47        Kentucky 2008        12        16         5 1.00000000          1\n",
       "48        Kentucky 2012        11        14         1 1.00000000          1\n",
       "49       Louisiana 2004         6         7         5 1.00000000          1\n",
       "50       Louisiana 2008        16        25         2 1.00000000          1\n",
       "51       Louisiana 2012        19        25         2 1.00000000          1\n",
       "52           Maine 2004        -2        -8        -6 0.00000000          0\n",
       "53           Maine 2008       -13       -15        -6 0.00000000          0\n",
       "54           Maine 2012       -12       -15        -6 0.00000000          0\n",
       "55        Maryland 2004        -3       -11        -6 0.00000000          0\n",
       "56        Maryland 2008       -23       -17        -1 0.00000000          0\n",
       "57        Maryland 2012       -19       -30        -4 0.00000000          0\n",
       "58   Massachusetts 2004       -17       -16        -2 0.00000000          0\n",
       "59   Massachusetts 2008       -28       -17        -4 0.00000000          0\n",
       "60   Massachusetts 2012       -19       -16        -8 0.00000000          0\n",
       "61        Michigan 2004       -24       -17        -2 0.00000000          0\n",
       "62        Michigan 2008       -10        -3       -11 0.13333333          0\n",
       "63        Michigan 2012        -5       -11       -10 0.08333333          0\n",
       "64       Minnesota 2004        -1        -5        -7 0.18181818          0\n",
       "65       Minnesota 2008       -12        -3       -14 0.00000000          0\n",
       "66       Minnesota 2012        -5       -11        -5 0.14285714          0\n",
       "67     Mississippi 2004        12        23         1 1.00000000          1\n",
       "68     Mississippi 2008         8        18         4 1.00000000          1\n",
       "69     Mississippi 2012        11        14         1 1.00000000          1\n",
       "70        Missouri 2004         5         5         8 1.00000000          1\n",
       "71        Missouri 2008         0         0         4 0.83333333          1\n",
       "72        Missouri 2012        11         7         8 1.00000000          1\n",
       "73         Montana 2004        10        18         3 1.00000000          1\n",
       "74         Montana 2008         4         0         4 0.75000000          1\n",
       "75         Montana 2012        10         8         5 1.00000000          1\n",
       "76        Nebraska 2004        19        25         2 1.00000000          1\n",
       "77        Nebraska 2008        19        21         1 1.00000000          1\n",
       "78        Nebraska 2012        19        22         2 1.00000000          1\n",
       "79          Nevada 2004         2         8         9 1.00000000          1\n",
       "80          Nevada 2008        -4        -4        -9 0.09090909          0\n",
       "81          Nevada 2012        -2        -4       -10 0.00000000          0\n",
       "82   New Hampshire 2004        -2        -1        -5 0.22222222          0\n",
       "83   New Hampshire 2008        -7       -11       -14 0.00000000          0\n",
       "84   New Hampshire 2012        -2        -8        -8 0.00000000          0\n",
       "85      New Jersey 2004       -12       -12        -8 0.00000000          0\n",
       "86      New Jersey 2008       -15       -10        -9 0.00000000          0\n",
       "87      New Jersey 2012        -7       -14        -9 0.00000000          0\n",
       "88      New Mexico 2004         4         0         2 0.62500000          1\n",
       "89      New Mexico 2008       -10        -7        -6 0.00000000          0\n",
       "90      New Mexico 2012       -11       -13        -5 0.00000000          0\n",
       "91        New York 2004        -5       -18        -6 0.00000000          0\n",
       "92        New York 2008       -20       -33        -5 0.00000000          0\n",
       "93        New York 2012       -27       -29        -5 0.00000000          0\n",
       "94  North Carolina 2004        12         8         7 1.00000000          1\n",
       "95  North Carolina 2008         1         1        -5 0.33333333          0\n",
       "96  North Carolina 2012         6         5         3 0.66666667          1\n",
       "97    North Dakota 2004        21        19         2 1.00000000          1\n",
       "98    North Dakota 2008        14        15         0 0.50000000          1\n",
       "99    North Dakota 2012        14         9         4 1.00000000          1\n",
       "100           Ohio 2004         4         2         3 0.60000000          1\n",
       "101           Ohio 2008         0        -2       -16 0.10000000          0\n",
       "102           Ohio 2012         0        -5       -16 0.00000000          0\n",
       "103       Oklahoma 2004        34        30         4 1.00000000          1\n",
       "104       Oklahoma 2008        31        24         2 1.00000000          1\n",
       "105       Oklahoma 2012        19        21         1 1.00000000          1\n",
       "106         Oregon 2004        -8        -3        -8 0.10000000          0\n",
       "107         Oregon 2008       -12       -19        -9 0.00000000          0\n",
       "108         Oregon 2012       -15        -7        -4 0.00000000          0\n",
       "109   Pennsylvania 2004        -2        -1       -12 0.12500000          0\n",
       "110   Pennsylvania 2008        -6        -9       -19 0.00000000          0\n",
       "111   Pennsylvania 2012        -5         0       -13 0.00000000          0\n",
       "112   Rhode Island 2004       -11       -13        -2 0.00000000          0\n",
       "113   Rhode Island 2008       -19       -16        -1 0.00000000          0\n",
       "114   Rhode Island 2012        -5       -19        -2 0.00000000          0\n",
       "115 South Carolina 2004        10        18         4 1.00000000          1\n",
       "116 South Carolina 2008        11         8         5 1.00000000          1\n",
       "117 South Carolina 2012        12        21         1 1.00000000          1\n",
       "118   South Dakota 2004        10        18         4 1.00000000          1\n",
       "119   South Dakota 2008         9         8         4 1.00000000          1\n",
       "120   South Dakota 2012        32        24         1 1.00000000          1\n",
       "121      Tennessee 2004         6        18         7 1.00000000          1\n",
       "122      Tennessee 2008        12        18         5 1.00000000          1\n",
       "123      Tennessee 2012         6        18         1 1.00000000          1\n",
       "124          Texas 2004        19        22         2 1.00000000          1\n",
       "125          Texas 2008        10         8         5 1.00000000          1\n",
       "126          Texas 2012         9         8         4 1.00000000          1\n",
       "127           Utah 2004        10        18         3 1.00000000          1\n",
       "128           Utah 2008        32        30         3 1.00000000          1\n",
       "129           Utah 2012        21        25         1 1.00000000          1\n",
       "130        Vermont 2004       -17       -33        -2 0.00000000          0\n",
       "131        Vermont 2008       -24       -17        -2 0.00000000          0\n",
       "132       Virginia 2004         6         4         5 1.00000000          1\n",
       "133       Virginia 2008        -4        -4       -18 0.00000000          0\n",
       "134       Virginia 2012         2        -2        -4 0.33333333          0\n",
       "135     Washington 2004        -8        -4       -10 0.00000000          0\n",
       "136     Washington 2008       -11       -16        -6 0.00000000          0\n",
       "137     Washington 2012       -13       -14        -8 0.00000000          0\n",
       "138  West Virginia 2004         6        15         6 1.00000000          1\n",
       "139  West Virginia 2008         9         4        11 1.00000000          1\n",
       "140  West Virginia 2012        32        24         1 1.00000000          1\n",
       "141      Wisconsin 2004        -1        -5         1 0.53333333          0\n",
       "142      Wisconsin 2008        -7       -16       -12 0.00000000          0\n",
       "143      Wisconsin 2012         0       -11        -8 0.00000000          0\n",
       "144        Wyoming 2004        32        30         1 1.00000000          1\n",
       "145        Wyoming 2008        19        21         3 1.00000000          1"
      ]
     },
     "execution_count": 21,
     "metadata": {},
     "output_type": "execute_result"
    }
   ],
   "source": [
    "polling"
   ]
  },
  {
   "cell_type": "code",
   "execution_count": 22,
   "metadata": {
    "collapsed": true
   },
   "outputs": [],
   "source": [
    "# #Now polling contains no more missing values"
   ]
  },
  {
   "cell_type": "code",
   "execution_count": null,
   "metadata": {
    "collapsed": true
   },
   "outputs": [],
   "source": []
  },
  {
   "cell_type": "code",
   "execution_count": null,
   "metadata": {
    "collapsed": true
   },
   "outputs": [],
   "source": []
  },
  {
   "cell_type": "code",
   "execution_count": null,
   "metadata": {
    "collapsed": true
   },
   "outputs": [],
   "source": []
  },
  {
   "cell_type": "code",
   "execution_count": 25,
   "metadata": {
    "collapsed": true
   },
   "outputs": [],
   "source": [
    "# #Split into TRAIN and TEST\n",
    "# #TRAIN - 2004 and 2008\n",
    "# #TEST - 2012"
   ]
  },
  {
   "cell_type": "code",
   "execution_count": null,
   "metadata": {
    "collapsed": true
   },
   "outputs": [],
   "source": []
  },
  {
   "cell_type": "code",
   "execution_count": 26,
   "metadata": {
    "collapsed": true
   },
   "outputs": [],
   "source": [
    "TRAIN = subset(polling, Year == 2004 | Year == 2008)"
   ]
  },
  {
   "cell_type": "code",
   "execution_count": 28,
   "metadata": {
    "collapsed": false
   },
   "outputs": [
    {
     "data": {
      "text/plain": [
       "\n",
       "2004 2008 \n",
       "  50   50 "
      ]
     },
     "execution_count": 28,
     "metadata": {},
     "output_type": "execute_result"
    }
   ],
   "source": [
    "table(TRAIN$Year)"
   ]
  },
  {
   "cell_type": "code",
   "execution_count": null,
   "metadata": {
    "collapsed": true
   },
   "outputs": [],
   "source": []
  },
  {
   "cell_type": "code",
   "execution_count": 29,
   "metadata": {
    "collapsed": true
   },
   "outputs": [],
   "source": [
    "TEST = subset(polling, Year == 2012)"
   ]
  },
  {
   "cell_type": "code",
   "execution_count": 30,
   "metadata": {
    "collapsed": false
   },
   "outputs": [
    {
     "data": {
      "text/plain": [
       "\n",
       "2012 \n",
       "  45 "
      ]
     },
     "execution_count": 30,
     "metadata": {},
     "output_type": "execute_result"
    }
   ],
   "source": [
    "table(TEST$Year)"
   ]
  },
  {
   "cell_type": "code",
   "execution_count": null,
   "metadata": {
    "collapsed": true
   },
   "outputs": [],
   "source": []
  },
  {
   "cell_type": "code",
   "execution_count": null,
   "metadata": {
    "collapsed": true
   },
   "outputs": [],
   "source": []
  },
  {
   "cell_type": "code",
   "execution_count": 31,
   "metadata": {
    "collapsed": false
   },
   "outputs": [
    {
     "data": {
      "text/plain": [
       "\n",
       " 0  1 \n",
       "47 53 "
      ]
     },
     "execution_count": 31,
     "metadata": {},
     "output_type": "execute_result"
    }
   ],
   "source": [
    "table(TRAIN$Republican)"
   ]
  },
  {
   "cell_type": "code",
   "execution_count": 33,
   "metadata": {
    "collapsed": true
   },
   "outputs": [],
   "source": [
    "# #Democrat won the elections in 47 observations and Republican won the elections in 53 cases\n",
    "# #Our baseline model will always predict the more frequently occuring case i.e. 53"
   ]
  },
  {
   "cell_type": "code",
   "execution_count": 34,
   "metadata": {
    "collapsed": false
   },
   "outputs": [
    {
     "data": {
      "text/html": [
       "0.53"
      ],
      "text/latex": [
       "0.53"
      ],
      "text/markdown": [
       "0.53"
      ],
      "text/plain": [
       "[1] 0.53"
      ]
     },
     "execution_count": 34,
     "metadata": {},
     "output_type": "execute_result"
    }
   ],
   "source": [
    "53/(47+53)"
   ]
  },
  {
   "cell_type": "code",
   "execution_count": 35,
   "metadata": {
    "collapsed": true
   },
   "outputs": [],
   "source": [
    "# #This means that by using the baseline model, we get an accuracy of 53%"
   ]
  },
  {
   "cell_type": "code",
   "execution_count": null,
   "metadata": {
    "collapsed": true
   },
   "outputs": [],
   "source": []
  },
  {
   "cell_type": "code",
   "execution_count": null,
   "metadata": {
    "collapsed": true
   },
   "outputs": [],
   "source": []
  },
  {
   "cell_type": "code",
   "execution_count": 36,
   "metadata": {
    "collapsed": true
   },
   "outputs": [],
   "source": [
    "# #sign() Function\n",
    "# #Input : Positive Number | Returns +1\n",
    "# #Input : Negative Number | Returns -1\n",
    "# #Input : Zero | Returns 0"
   ]
  },
  {
   "cell_type": "code",
   "execution_count": null,
   "metadata": {
    "collapsed": true
   },
   "outputs": [],
   "source": []
  },
  {
   "cell_type": "code",
   "execution_count": 37,
   "metadata": {
    "collapsed": false
   },
   "outputs": [
    {
     "data": {
      "text/html": [
       "1"
      ],
      "text/latex": [
       "1"
      ],
      "text/markdown": [
       "1"
      ],
      "text/plain": [
       "[1] 1"
      ]
     },
     "execution_count": 37,
     "metadata": {},
     "output_type": "execute_result"
    }
   ],
   "source": [
    "sign(20)"
   ]
  },
  {
   "cell_type": "code",
   "execution_count": 38,
   "metadata": {
    "collapsed": false
   },
   "outputs": [
    {
     "data": {
      "text/html": [
       "-1"
      ],
      "text/latex": [
       "-1"
      ],
      "text/markdown": [
       "-1"
      ],
      "text/plain": [
       "[1] -1"
      ]
     },
     "execution_count": 38,
     "metadata": {},
     "output_type": "execute_result"
    }
   ],
   "source": [
    "sign(-20)"
   ]
  },
  {
   "cell_type": "code",
   "execution_count": 39,
   "metadata": {
    "collapsed": false
   },
   "outputs": [
    {
     "data": {
      "text/html": [
       "0"
      ],
      "text/latex": [
       "0"
      ],
      "text/markdown": [
       "0"
      ],
      "text/plain": [
       "[1] 0"
      ]
     },
     "execution_count": 39,
     "metadata": {},
     "output_type": "execute_result"
    }
   ],
   "source": [
    "sign(0)"
   ]
  },
  {
   "cell_type": "code",
   "execution_count": null,
   "metadata": {
    "collapsed": true
   },
   "outputs": [],
   "source": []
  },
  {
   "cell_type": "code",
   "execution_count": null,
   "metadata": {
    "collapsed": true
   },
   "outputs": [],
   "source": []
  },
  {
   "cell_type": "code",
   "execution_count": 41,
   "metadata": {
    "collapsed": false
   },
   "outputs": [
    {
     "data": {
      "text/html": [
       "<ol class=list-inline>\n",
       "\t<li>1</li>\n",
       "\t<li>1</li>\n",
       "\t<li>1</li>\n",
       "\t<li>1</li>\n",
       "\t<li>1</li>\n",
       "\t<li>1</li>\n",
       "\t<li>1</li>\n",
       "\t<li>1</li>\n",
       "\t<li>-1</li>\n",
       "\t<li>-1</li>\n",
       "\t<li>1</li>\n",
       "\t<li>-1</li>\n",
       "\t<li>-1</li>\n",
       "\t<li>-1</li>\n",
       "\t<li>-1</li>\n",
       "\t<li>-1</li>\n",
       "\t<li>1</li>\n",
       "\t<li>1</li>\n",
       "\t<li>1</li>\n",
       "\t<li>1</li>\n",
       "\t<li>1</li>\n",
       "\t<li>-1</li>\n",
       "\t<li>1</li>\n",
       "\t<li>1</li>\n",
       "\t<li>-1</li>\n",
       "\t<li>-1</li>\n",
       "\t<li>1</li>\n",
       "\t<li>1</li>\n",
       "\t<li>1</li>\n",
       "\t<li>-1</li>\n",
       "\t<li>1</li>\n",
       "\t<li>1</li>\n",
       "\t<li>1</li>\n",
       "\t<li>1</li>\n",
       "\t<li>1</li>\n",
       "\t<li>1</li>\n",
       "\t<li>-1</li>\n",
       "\t<li>-1</li>\n",
       "\t<li>-1</li>\n",
       "\t<li>-1</li>\n",
       "\t<li>-1</li>\n",
       "\t<li>-1</li>\n",
       "\t<li>-1</li>\n",
       "\t<li>-1</li>\n",
       "\t<li>-1</li>\n",
       "\t<li>-1</li>\n",
       "\t<li>1</li>\n",
       "\t<li>1</li>\n",
       "\t<li>1</li>\n",
       "\t<li>0</li>\n",
       "\t<li>1</li>\n",
       "\t<li>1</li>\n",
       "\t<li>1</li>\n",
       "\t<li>1</li>\n",
       "\t<li>1</li>\n",
       "\t<li>-1</li>\n",
       "\t<li>-1</li>\n",
       "\t<li>-1</li>\n",
       "\t<li>-1</li>\n",
       "\t<li>-1</li>\n",
       "\t<li>1</li>\n",
       "\t<li>-1</li>\n",
       "\t<li>-1</li>\n",
       "\t<li>-1</li>\n",
       "\t<li>1</li>\n",
       "\t<li>1</li>\n",
       "\t<li>1</li>\n",
       "\t<li>1</li>\n",
       "\t<li>1</li>\n",
       "\t<li>0</li>\n",
       "\t<li>1</li>\n",
       "\t<li>1</li>\n",
       "\t<li>-1</li>\n",
       "\t<li>-1</li>\n",
       "\t<li>-1</li>\n",
       "\t<li>-1</li>\n",
       "\t<li>-1</li>\n",
       "\t<li>-1</li>\n",
       "\t<li>1</li>\n",
       "\t<li>1</li>\n",
       "\t<li>1</li>\n",
       "\t<li>1</li>\n",
       "\t<li>1</li>\n",
       "\t<li>1</li>\n",
       "\t<li>1</li>\n",
       "\t<li>1</li>\n",
       "\t<li>1</li>\n",
       "\t<li>1</li>\n",
       "\t<li>-1</li>\n",
       "\t<li>-1</li>\n",
       "\t<li>1</li>\n",
       "\t<li>-1</li>\n",
       "\t<li>-1</li>\n",
       "\t<li>-1</li>\n",
       "\t<li>1</li>\n",
       "\t<li>1</li>\n",
       "\t<li>-1</li>\n",
       "\t<li>-1</li>\n",
       "\t<li>1</li>\n",
       "\t<li>1</li>\n",
       "</ol>\n"
      ],
      "text/latex": [
       "\\begin{enumerate*}\n",
       "\\item 1\n",
       "\\item 1\n",
       "\\item 1\n",
       "\\item 1\n",
       "\\item 1\n",
       "\\item 1\n",
       "\\item 1\n",
       "\\item 1\n",
       "\\item -1\n",
       "\\item -1\n",
       "\\item 1\n",
       "\\item -1\n",
       "\\item -1\n",
       "\\item -1\n",
       "\\item -1\n",
       "\\item -1\n",
       "\\item 1\n",
       "\\item 1\n",
       "\\item 1\n",
       "\\item 1\n",
       "\\item 1\n",
       "\\item -1\n",
       "\\item 1\n",
       "\\item 1\n",
       "\\item -1\n",
       "\\item -1\n",
       "\\item 1\n",
       "\\item 1\n",
       "\\item 1\n",
       "\\item -1\n",
       "\\item 1\n",
       "\\item 1\n",
       "\\item 1\n",
       "\\item 1\n",
       "\\item 1\n",
       "\\item 1\n",
       "\\item -1\n",
       "\\item -1\n",
       "\\item -1\n",
       "\\item -1\n",
       "\\item -1\n",
       "\\item -1\n",
       "\\item -1\n",
       "\\item -1\n",
       "\\item -1\n",
       "\\item -1\n",
       "\\item 1\n",
       "\\item 1\n",
       "\\item 1\n",
       "\\item 0\n",
       "\\item 1\n",
       "\\item 1\n",
       "\\item 1\n",
       "\\item 1\n",
       "\\item 1\n",
       "\\item -1\n",
       "\\item -1\n",
       "\\item -1\n",
       "\\item -1\n",
       "\\item -1\n",
       "\\item 1\n",
       "\\item -1\n",
       "\\item -1\n",
       "\\item -1\n",
       "\\item 1\n",
       "\\item 1\n",
       "\\item 1\n",
       "\\item 1\n",
       "\\item 1\n",
       "\\item 0\n",
       "\\item 1\n",
       "\\item 1\n",
       "\\item -1\n",
       "\\item -1\n",
       "\\item -1\n",
       "\\item -1\n",
       "\\item -1\n",
       "\\item -1\n",
       "\\item 1\n",
       "\\item 1\n",
       "\\item 1\n",
       "\\item 1\n",
       "\\item 1\n",
       "\\item 1\n",
       "\\item 1\n",
       "\\item 1\n",
       "\\item 1\n",
       "\\item 1\n",
       "\\item -1\n",
       "\\item -1\n",
       "\\item 1\n",
       "\\item -1\n",
       "\\item -1\n",
       "\\item -1\n",
       "\\item 1\n",
       "\\item 1\n",
       "\\item -1\n",
       "\\item -1\n",
       "\\item 1\n",
       "\\item 1\n",
       "\\end{enumerate*}\n"
      ],
      "text/markdown": [
       "1. 1\n",
       "2. 1\n",
       "3. 1\n",
       "4. 1\n",
       "5. 1\n",
       "6. 1\n",
       "7. 1\n",
       "8. 1\n",
       "9. -1\n",
       "10. -1\n",
       "11. 1\n",
       "12. -1\n",
       "13. -1\n",
       "14. -1\n",
       "15. -1\n",
       "16. -1\n",
       "17. 1\n",
       "18. 1\n",
       "19. 1\n",
       "20. 1\n",
       "21. 1\n",
       "22. -1\n",
       "23. 1\n",
       "24. 1\n",
       "25. -1\n",
       "26. -1\n",
       "27. 1\n",
       "28. 1\n",
       "29. 1\n",
       "30. -1\n",
       "31. 1\n",
       "32. 1\n",
       "33. 1\n",
       "34. 1\n",
       "35. 1\n",
       "36. 1\n",
       "37. -1\n",
       "38. -1\n",
       "39. -1\n",
       "40. -1\n",
       "41. -1\n",
       "42. -1\n",
       "43. -1\n",
       "44. -1\n",
       "45. -1\n",
       "46. -1\n",
       "47. 1\n",
       "48. 1\n",
       "49. 1\n",
       "50. 0\n",
       "51. 1\n",
       "52. 1\n",
       "53. 1\n",
       "54. 1\n",
       "55. 1\n",
       "56. -1\n",
       "57. -1\n",
       "58. -1\n",
       "59. -1\n",
       "60. -1\n",
       "61. 1\n",
       "62. -1\n",
       "63. -1\n",
       "64. -1\n",
       "65. 1\n",
       "66. 1\n",
       "67. 1\n",
       "68. 1\n",
       "69. 1\n",
       "70. 0\n",
       "71. 1\n",
       "72. 1\n",
       "73. -1\n",
       "74. -1\n",
       "75. -1\n",
       "76. -1\n",
       "77. -1\n",
       "78. -1\n",
       "79. 1\n",
       "80. 1\n",
       "81. 1\n",
       "82. 1\n",
       "83. 1\n",
       "84. 1\n",
       "85. 1\n",
       "86. 1\n",
       "87. 1\n",
       "88. 1\n",
       "89. -1\n",
       "90. -1\n",
       "91. 1\n",
       "92. -1\n",
       "93. -1\n",
       "94. -1\n",
       "95. 1\n",
       "96. 1\n",
       "97. -1\n",
       "98. -1\n",
       "99. 1\n",
       "100. 1\n",
       "\n",
       "\n"
      ],
      "text/plain": [
       "  [1]  1  1  1  1  1  1  1  1 -1 -1  1 -1 -1 -1 -1 -1  1  1  1  1  1 -1  1  1 -1\n",
       " [26] -1  1  1  1 -1  1  1  1  1  1  1 -1 -1 -1 -1 -1 -1 -1 -1 -1 -1  1  1  1  0\n",
       " [51]  1  1  1  1  1 -1 -1 -1 -1 -1  1 -1 -1 -1  1  1  1  1  1  0  1  1 -1 -1 -1\n",
       " [76] -1 -1 -1  1  1  1  1  1  1  1  1  1  1 -1 -1  1 -1 -1 -1  1  1 -1 -1  1  1"
      ]
     },
     "execution_count": 41,
     "metadata": {},
     "output_type": "execute_result"
    }
   ],
   "source": [
    "sign(TRAIN$Rasmussen)"
   ]
  },
  {
   "cell_type": "code",
   "execution_count": 42,
   "metadata": {
    "collapsed": false
   },
   "outputs": [
    {
     "data": {
      "text/plain": [
       "\n",
       "-1  0  1 \n",
       "42  2 56 "
      ]
     },
     "execution_count": 42,
     "metadata": {},
     "output_type": "execute_result"
    }
   ],
   "source": [
    "table(sign(TRAIN$Rasmussen))"
   ]
  },
  {
   "cell_type": "code",
   "execution_count": 43,
   "metadata": {
    "collapsed": true
   },
   "outputs": [],
   "source": [
    "# #Democrat - 42\n",
    "# #Republican - 56\n",
    "# #Can't say - 2"
   ]
  },
  {
   "cell_type": "code",
   "execution_count": null,
   "metadata": {
    "collapsed": true
   },
   "outputs": [],
   "source": []
  },
  {
   "cell_type": "code",
   "execution_count": 44,
   "metadata": {
    "collapsed": false
   },
   "outputs": [
    {
     "data": {
      "text/plain": [
       "   \n",
       "    -1  0  1\n",
       "  0 42  1  4\n",
       "  1  0  1 52"
      ]
     },
     "execution_count": 44,
     "metadata": {},
     "output_type": "execute_result"
    }
   ],
   "source": [
    "table(TRAIN$Republican, sign(TRAIN$Rasmussen))"
   ]
  },
  {
   "cell_type": "code",
   "execution_count": 46,
   "metadata": {
    "collapsed": false
   },
   "outputs": [
    {
     "data": {
      "text/html": [
       "0.94"
      ],
      "text/latex": [
       "0.94"
      ],
      "text/markdown": [
       "0.94"
      ],
      "text/plain": [
       "[1] 0.94"
      ]
     },
     "execution_count": 46,
     "metadata": {},
     "output_type": "execute_result"
    }
   ],
   "source": [
    "(42+52)/(42+52+4+1+1)"
   ]
  },
  {
   "cell_type": "code",
   "execution_count": 47,
   "metadata": {
    "collapsed": true
   },
   "outputs": [],
   "source": [
    "# #This could be a much stronger baseline model"
   ]
  },
  {
   "cell_type": "code",
   "execution_count": null,
   "metadata": {
    "collapsed": true
   },
   "outputs": [],
   "source": []
  },
  {
   "cell_type": "code",
   "execution_count": null,
   "metadata": {
    "collapsed": true
   },
   "outputs": [],
   "source": []
  },
  {
   "cell_type": "code",
   "execution_count": null,
   "metadata": {
    "collapsed": true
   },
   "outputs": [],
   "source": []
  },
  {
   "cell_type": "code",
   "execution_count": 49,
   "metadata": {
    "collapsed": false
   },
   "outputs": [
    {
     "data": {
      "text/html": [
       "<table>\n",
       "<thead><tr><th></th><th scope=col>Rasmussen</th><th scope=col>SurveyUSA</th><th scope=col>DiffCount</th><th scope=col>PropR</th><th scope=col>Republican</th></tr></thead>\n",
       "<tbody>\n",
       "\t<tr><th scope=row>Rasmussen</th><td>1.0000000</td><td>0.9092338</td><td>0.5080703</td><td>0.8370994</td><td>0.7880698</td></tr>\n",
       "\t<tr><th scope=row>SurveyUSA</th><td>0.9092338</td><td>1.0000000</td><td>0.5690109</td><td>0.8803354</td><td>0.8302050</td></tr>\n",
       "\t<tr><th scope=row>DiffCount</th><td>0.5080703</td><td>0.5690109</td><td>1.0000000</td><td>0.8273785</td><td>0.8092777</td></tr>\n",
       "\t<tr><th scope=row>PropR</th><td>0.8370994</td><td>0.8803354</td><td>0.8273785</td><td>1.0000000</td><td>0.9484204</td></tr>\n",
       "\t<tr><th scope=row>Republican</th><td>0.7880698</td><td>0.8302050</td><td>0.8092777</td><td>0.9484204</td><td>1.0000000</td></tr>\n",
       "</tbody>\n",
       "</table>\n"
      ],
      "text/latex": [
       "\\begin{tabular}{r|lllll}\n",
       "  & Rasmussen & SurveyUSA & DiffCount & PropR & Republican\\\\\n",
       "\\hline\n",
       "\tRasmussen & 1.0000000 & 0.9092338 & 0.5080703 & 0.8370994 & 0.7880698\\\\\n",
       "\tSurveyUSA & 0.9092338 & 1.0000000 & 0.5690109 & 0.8803354 & 0.8302050\\\\\n",
       "\tDiffCount & 0.5080703 & 0.5690109 & 1.0000000 & 0.8273785 & 0.8092777\\\\\n",
       "\tPropR & 0.8370994 & 0.8803354 & 0.8273785 & 1.0000000 & 0.9484204\\\\\n",
       "\tRepublican & 0.7880698 & 0.8302050 & 0.8092777 & 0.9484204 & 1.0000000\\\\\n",
       "\\end{tabular}\n"
      ],
      "text/markdown": [
       "1. 1\n",
       "2. 0.909233814065294\n",
       "3. 0.508070288231902\n",
       "4. 0.837099353398532\n",
       "5. 0.78806977941156\n",
       "6. 0.909233814065294\n",
       "7. 1\n",
       "8. 0.569010900571133\n",
       "9. 0.880335415813578\n",
       "10. 0.830205021769881\n",
       "11. 0.508070288231902\n",
       "12. 0.569010900571133\n",
       "13. 1\n",
       "14. 0.827378535331159\n",
       "15. 0.80927770437412\n",
       "16. 0.837099353398532\n",
       "17. 0.880335415813578\n",
       "18. 0.827378535331159\n",
       "19. 1\n",
       "20. 0.948420429973127\n",
       "21. 0.78806977941156\n",
       "22. 0.830205021769881\n",
       "23. 0.80927770437412\n",
       "24. 0.948420429973127\n",
       "25. 1\n",
       "\n",
       "\n"
      ],
      "text/plain": [
       "           Rasmussen SurveyUSA DiffCount     PropR Republican\n",
       "Rasmussen  1.0000000 0.9092338 0.5080703 0.8370994  0.7880698\n",
       "SurveyUSA  0.9092338 1.0000000 0.5690109 0.8803354  0.8302050\n",
       "DiffCount  0.5080703 0.5690109 1.0000000 0.8273785  0.8092777\n",
       "PropR      0.8370994 0.8803354 0.8273785 1.0000000  0.9484204\n",
       "Republican 0.7880698 0.8302050 0.8092777 0.9484204  1.0000000"
      ]
     },
     "execution_count": 49,
     "metadata": {},
     "output_type": "execute_result"
    }
   ],
   "source": [
    "cor(TRAIN[c(\"Rasmussen\", \"SurveyUSA\",\"DiffCount\",\"PropR\",\"Republican\")])"
   ]
  },
  {
   "cell_type": "code",
   "execution_count": null,
   "metadata": {
    "collapsed": true
   },
   "outputs": [],
   "source": []
  },
  {
   "cell_type": "code",
   "execution_count": null,
   "metadata": {
    "collapsed": true
   },
   "outputs": [],
   "source": []
  },
  {
   "cell_type": "code",
   "execution_count": 52,
   "metadata": {
    "collapsed": true
   },
   "outputs": [],
   "source": [
    "# #Logistic Regression with one variable\n",
    "# #For the \"Republican\" Variable, the one with the highest correlation is \"PropR\"\n",
    "# #This could be our single variable"
   ]
  },
  {
   "cell_type": "code",
   "execution_count": null,
   "metadata": {
    "collapsed": true
   },
   "outputs": [],
   "source": []
  },
  {
   "cell_type": "code",
   "execution_count": 55,
   "metadata": {
    "collapsed": true
   },
   "outputs": [],
   "source": [
    "model_1 = glm(Republican ~ PropR, data = TRAIN, family = \"binomial\")"
   ]
  },
  {
   "cell_type": "code",
   "execution_count": 56,
   "metadata": {
    "collapsed": false
   },
   "outputs": [
    {
     "data": {
      "text/plain": [
       "\n",
       "Call:\n",
       "glm(formula = Republican ~ PropR, family = \"binomial\", data = TRAIN)\n",
       "\n",
       "Deviance Residuals: \n",
       "     Min        1Q    Median        3Q       Max  \n",
       "-2.22880  -0.06541   0.10260   0.10260   1.37392  \n",
       "\n",
       "Coefficients:\n",
       "            Estimate Std. Error z value Pr(>|z|)    \n",
       "(Intercept)   -6.146      1.977  -3.108 0.001882 ** \n",
       "PropR         11.390      3.153   3.613 0.000303 ***\n",
       "---\n",
       "Signif. codes:  0 '***' 0.001 '**' 0.01 '*' 0.05 '.' 0.1 ' ' 1\n",
       "\n",
       "(Dispersion parameter for binomial family taken to be 1)\n",
       "\n",
       "    Null deviance: 138.269  on 99  degrees of freedom\n",
       "Residual deviance:  15.772  on 98  degrees of freedom\n",
       "AIC: 19.772\n",
       "\n",
       "Number of Fisher Scoring iterations: 8\n"
      ]
     },
     "execution_count": 56,
     "metadata": {},
     "output_type": "execute_result"
    }
   ],
   "source": [
    "summary(model_1)"
   ]
  },
  {
   "cell_type": "code",
   "execution_count": null,
   "metadata": {
    "collapsed": true
   },
   "outputs": [],
   "source": []
  },
  {
   "cell_type": "code",
   "execution_count": 57,
   "metadata": {
    "collapsed": true
   },
   "outputs": [],
   "source": [
    "prediction_1 = predict(model_1, type = \"response\")"
   ]
  },
  {
   "cell_type": "code",
   "execution_count": 58,
   "metadata": {
    "collapsed": false
   },
   "outputs": [
    {
     "data": {
      "text/plain": [
       "    Min.  1st Qu.   Median     Mean  3rd Qu.     Max. \n",
       "0.002137 0.002137 0.767600 0.530000 0.994800 0.994800 "
      ]
     },
     "execution_count": 58,
     "metadata": {},
     "output_type": "execute_result"
    }
   ],
   "source": [
    "summary(prediction_1)"
   ]
  },
  {
   "cell_type": "code",
   "execution_count": 59,
   "metadata": {
    "collapsed": false
   },
   "outputs": [
    {
     "data": {
      "text/plain": [
       "   \n",
       "    FALSE TRUE\n",
       "  0    45    2\n",
       "  1     2   51"
      ]
     },
     "execution_count": 59,
     "metadata": {},
     "output_type": "execute_result"
    }
   ],
   "source": [
    "table(TRAIN$Republican, prediction_1 >=0.5)"
   ]
  },
  {
   "cell_type": "code",
   "execution_count": null,
   "metadata": {
    "collapsed": true
   },
   "outputs": [],
   "source": []
  },
  {
   "cell_type": "code",
   "execution_count": null,
   "metadata": {
    "collapsed": true
   },
   "outputs": [],
   "source": []
  },
  {
   "cell_type": "code",
   "execution_count": 60,
   "metadata": {
    "collapsed": true
   },
   "outputs": [],
   "source": [
    "model_2 = glm(Republican ~ (SurveyUSA + DiffCount), data = TRAIN, family = \"binomial\")"
   ]
  },
  {
   "cell_type": "code",
   "execution_count": 61,
   "metadata": {
    "collapsed": false
   },
   "outputs": [
    {
     "data": {
      "text/plain": [
       "\n",
       "Call:\n",
       "glm(formula = Republican ~ (SurveyUSA + DiffCount), family = \"binomial\", \n",
       "    data = TRAIN)\n",
       "\n",
       "Deviance Residuals: \n",
       "     Min        1Q    Median        3Q       Max  \n",
       "-2.16786  -0.01261   0.01791   0.06115   1.47919  \n",
       "\n",
       "Coefficients:\n",
       "            Estimate Std. Error z value Pr(>|z|)  \n",
       "(Intercept)  -0.9207     1.1446  -0.804   0.4212  \n",
       "SurveyUSA     0.2345     0.1212   1.934   0.0531 .\n",
       "DiffCount     0.7645     0.4213   1.815   0.0695 .\n",
       "---\n",
       "Signif. codes:  0 '***' 0.001 '**' 0.01 '*' 0.05 '.' 0.1 ' ' 1\n",
       "\n",
       "(Dispersion parameter for binomial family taken to be 1)\n",
       "\n",
       "    Null deviance: 138.269  on 99  degrees of freedom\n",
       "Residual deviance:  12.077  on 97  degrees of freedom\n",
       "AIC: 18.077\n",
       "\n",
       "Number of Fisher Scoring iterations: 9\n"
      ]
     },
     "execution_count": 61,
     "metadata": {},
     "output_type": "execute_result"
    }
   ],
   "source": [
    "summary(model_2)"
   ]
  },
  {
   "cell_type": "code",
   "execution_count": 62,
   "metadata": {
    "collapsed": true
   },
   "outputs": [],
   "source": [
    "prediction_2 = predict(model_2, type = \"response\")"
   ]
  },
  {
   "cell_type": "code",
   "execution_count": 63,
   "metadata": {
    "collapsed": false
   },
   "outputs": [
    {
     "data": {
      "text/plain": [
       "   \n",
       "    FALSE TRUE\n",
       "  0    45    2\n",
       "  1     1   52"
      ]
     },
     "execution_count": 63,
     "metadata": {},
     "output_type": "execute_result"
    }
   ],
   "source": [
    "table(TRAIN$Republican, prediction_2 >=0.5)"
   ]
  },
  {
   "cell_type": "code",
   "execution_count": null,
   "metadata": {
    "collapsed": true
   },
   "outputs": [],
   "source": []
  },
  {
   "cell_type": "code",
   "execution_count": 64,
   "metadata": {
    "collapsed": true
   },
   "outputs": [],
   "source": [
    "# #RESULT : One less mistake  False-1"
   ]
  },
  {
   "cell_type": "code",
   "execution_count": null,
   "metadata": {
    "collapsed": true
   },
   "outputs": [],
   "source": []
  },
  {
   "cell_type": "code",
   "execution_count": null,
   "metadata": {
    "collapsed": true
   },
   "outputs": [],
   "source": []
  },
  {
   "cell_type": "code",
   "execution_count": 65,
   "metadata": {
    "collapsed": true
   },
   "outputs": [],
   "source": [
    "# #TESTING"
   ]
  },
  {
   "cell_type": "code",
   "execution_count": 66,
   "metadata": {
    "collapsed": false
   },
   "outputs": [
    {
     "data": {
      "text/plain": [
       "   \n",
       "    -1  0  1\n",
       "  0 18  2  4\n",
       "  1  0  0 21"
      ]
     },
     "execution_count": 66,
     "metadata": {},
     "output_type": "execute_result"
    }
   ],
   "source": [
    "table(TEST$Republican, sign(TEST$Rasmussen))"
   ]
  },
  {
   "cell_type": "code",
   "execution_count": 67,
   "metadata": {
    "collapsed": true
   },
   "outputs": [],
   "source": [
    "TestPrediction = predict(model_2, newdata = TEST, type = \"response\")"
   ]
  },
  {
   "cell_type": "code",
   "execution_count": 68,
   "metadata": {
    "collapsed": false
   },
   "outputs": [
    {
     "data": {
      "text/plain": [
       "   \n",
       "    FALSE TRUE\n",
       "  0    23    1\n",
       "  1     0   21"
      ]
     },
     "execution_count": 68,
     "metadata": {},
     "output_type": "execute_result"
    }
   ],
   "source": [
    "table(TEST$Republican, TestPrediction >=0.5)"
   ]
  },
  {
   "cell_type": "code",
   "execution_count": null,
   "metadata": {
    "collapsed": true
   },
   "outputs": [],
   "source": []
  }
 ],
 "metadata": {
  "kernelspec": {
   "display_name": "R",
   "language": "R",
   "name": "ir"
  },
  "language_info": {
   "codemirror_mode": "r",
   "file_extension": ".r",
   "mimetype": "text/x-r-source",
   "name": "R",
   "pygments_lexer": "r",
   "version": "3.2.1"
  }
 },
 "nbformat": 4,
 "nbformat_minor": 0
}
